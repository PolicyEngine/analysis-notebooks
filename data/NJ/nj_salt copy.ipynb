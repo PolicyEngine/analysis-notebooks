{
 "cells": [
  {
   "cell_type": "code",
   "execution_count": 2,
   "metadata": {},
   "outputs": [
    {
     "name": "stderr",
     "output_type": "stream",
     "text": [
      "/Users/daphnehansell/miniconda3/lib/python3.12/site-packages/tqdm/auto.py:21: TqdmWarning: IProgress not found. Please update jupyter and ipywidgets. See https://ipywidgets.readthedocs.io/en/stable/user_install.html\n",
      "  from .autonotebook import tqdm as notebook_tqdm\n"
     ]
    }
   ],
   "source": [
    "from policyengine_us import Microsimulation\n",
    "\n",
    "sim = Microsimulation(dataset = \"hf://policyengine/test/sparse_cd_stacked_2023.h5\")\n",
    "cd_geoids = sim.calculate(\"congressional_district_geoid\").values\n",
    "correct_state_fips = cd_geoids // 100\n",
    "sim.set_input(\"state_fips\", 2023, correct_state_fips)\n"
   ]
  },
  {
   "cell_type": "code",
   "execution_count": 3,
   "metadata": {},
   "outputs": [],
   "source": [
    "import pandas as pd\n",
    "import numpy as np\n",
    "from policyengine_us import Microsimulation\n",
    "from policyengine_us.variables.input.geography import StateName\n",
    "\n",
    "sim = Microsimulation(dataset = \"hf://policyengine/test/sparse_cd_stacked_2023.h5\")\n",
    "YEAR = 2023\n",
    "\n",
    "STATE_FIPS_TO_NAME = {\n",
    "    1: StateName.AL, 2: StateName.AK, 4: StateName.AZ, 5: StateName.AR, 6: StateName.CA,\n",
    "    8: StateName.CO, 9: StateName.CT, 10: StateName.DE, 11: StateName.DC,\n",
    "    12: StateName.FL, 13: StateName.GA, 15: StateName.HI, 16: StateName.ID, 17: StateName.IL,\n",
    "    18: StateName.IN, 19: StateName.IA, 20: StateName.KS, 21: StateName.KY, 22: StateName.LA,\n",
    "    23: StateName.ME, 24: StateName.MD, 25: StateName.MA, 26: StateName.MI,\n",
    "    27: StateName.MN, 28: StateName.MS, 29: StateName.MO, 30: StateName.MT,\n",
    "    31: StateName.NE, 32: StateName.NV, 33: StateName.NH, 34: StateName.NJ,\n",
    "    35: StateName.NM, 36: StateName.NY, 37: StateName.NC, 38: StateName.ND,\n",
    "    39: StateName.OH, 40: StateName.OK, 41: StateName.OR, 42: StateName.PA,\n",
    "    44: StateName.RI, 45: StateName.SC, 46: StateName.SD, 47: StateName.TN,\n",
    "    48: StateName.TX, 49: StateName.UT, 50: StateName.VT, 51: StateName.VA, 53: StateName.WA,\n",
    "    54: StateName.WV, 55: StateName.WI, 56: StateName.WY\n",
    "}\n",
    "\n",
    "\n",
    "cd_geoids = sim.calculate(\"congressional_district_geoid\").values\n",
    "correct_state_fips = cd_geoids // 100\n",
    "correct_state_names = pd.Series(correct_state_fips).map(STATE_FIPS_TO_NAME).values\n",
    "\n",
    "sim.set_input(\"state_fips\", YEAR, correct_state_fips)\n",
    "\n",
    "# Delete any cached calculations to force recalculation\n",
    "if \"state_name\" in sim.tax_benefit_system.variables:\n",
    "    sim.delete_arrays(\"state_name\", YEAR)\n",
    "if \"state_code\" in sim.tax_benefit_system.variables:\n",
    "    sim.delete_arrays(\"state_code\", YEAR)\n",
    "\n"
   ]
  },
  {
   "cell_type": "code",
   "execution_count": 5,
   "metadata": {},
   "outputs": [],
   "source": [
    "household_id = sim.calculate(\"household_id\", map_to=\"household\", period=2026)"
   ]
  },
  {
   "cell_type": "code",
   "execution_count": 6,
   "metadata": {},
   "outputs": [],
   "source": [
    "state_fips = sim.calculate(\"state_fips\", map_to=\"household\", period=2026)\n"
   ]
  },
  {
   "cell_type": "code",
   "execution_count": 7,
   "metadata": {},
   "outputs": [],
   "source": [
    "congressional_district_geoid = sim.calculate(\"congressional_district_geoid\", map_to=\"household\", period=2026)\n"
   ]
  },
  {
   "cell_type": "code",
   "execution_count": 8,
   "metadata": {},
   "outputs": [],
   "source": [
    "income_tax = sim.calculate(\"income_tax\", map_to=\"household\", period=2026)\n"
   ]
  },
  {
   "cell_type": "code",
   "execution_count": 9,
   "metadata": {},
   "outputs": [],
   "source": [
    "state_name = sim.calculate(\"state_name\", map_to=\"household\", period=2026)\n"
   ]
  },
  {
   "cell_type": "code",
   "execution_count": 10,
   "metadata": {},
   "outputs": [],
   "source": [
    "state_code = sim.calculate(\"state_code\", map_to=\"household\", period=2026)\n"
   ]
  },
  {
   "cell_type": "code",
   "execution_count": 15,
   "metadata": {},
   "outputs": [],
   "source": [
    "weights = sim.calculate(\"household_weight\", map_to=\"household\", period=2026)"
   ]
  },
  {
   "cell_type": "code",
   "execution_count": 18,
   "metadata": {},
   "outputs": [],
   "source": [
    "in_nj = state_code == \"NJ\""
   ]
  },
  {
   "cell_type": "code",
   "execution_count": 25,
   "metadata": {},
   "outputs": [],
   "source": [
    "Nj_agi = sim.calculate(\"nj_agi\", map_to=\"household\", period=2026)"
   ]
  },
  {
   "cell_type": "code",
   "execution_count": 27,
   "metadata": {},
   "outputs": [
    {
     "name": "stdout",
     "output_type": "stream",
     "text": [
      "district\n",
      "3401.0    448377.273682\n",
      "3402.0    474426.890625\n",
      "3403.0    277227.515625\n",
      "3404.0    267904.515625\n",
      "3405.0    158957.747673\n",
      "3406.0    462872.368164\n",
      "3407.0    162854.945801\n",
      "3408.0    450174.226074\n",
      "3409.0    429199.406250\n",
      "3410.0    477127.222656\n",
      "3411.0    130707.304688\n",
      "3412.0    178237.250000\n",
      "Name: Nj_agi, dtype: float64\n"
     ]
    }
   ],
   "source": [
    "avg_tax_by_district = (\n",
    "    pd.DataFrame({\n",
    "        \"district\": congressional_district_geoid[in_nj],\n",
    "        \"Nj_agi\": Nj_agi[in_nj],\n",
    "        \"state\": state_fips,\n",
    "    })\n",
    "    .groupby(\"district\")[\"Nj_agi\"]\n",
    "    .median()\n",
    ")\n",
    "\n",
    "print(avg_tax_by_district)"
   ]
  },
  {
   "cell_type": "code",
   "execution_count": 7,
   "metadata": {},
   "outputs": [],
   "source": [
    "from policyengine_core.reforms import Reform\n"
   ]
  },
  {
   "cell_type": "code",
   "execution_count": 8,
   "metadata": {},
   "outputs": [],
   "source": [
    "\n",
    "\n",
    "reform = Reform.from_dict({\n",
    "  \n",
    "  \"gov.irs.deductions.itemized.interest.mortgage.cap.JOINT\": {\n",
    "    \"2023-01-01.2100-12-31\": 1000000\n",
    "  },\n",
    "  \"gov.irs.deductions.itemized.interest.mortgage.cap.SINGLE\": {\n",
    "    \"2023-01-01.2100-12-31\": 1000000\n",
    "  },\n",
    "  \"gov.irs.deductions.itemized.interest.mortgage.cap.SEPARATE\": {\n",
    "    \"2023-01-01.2100-12-31\": 500000\n",
    "  },\n",
    "  \"gov.irs.deductions.itemized.salt_and_real_estate.cap.JOINT\": {\n",
    "    \"2025-01-01.2025-12-31\": 10000,\n",
    "    \"2023-01-01.2100-12-31\": 1000000000000\n",
    "  },\n",
    "  \"gov.irs.deductions.itemized.salt_and_real_estate.cap.SINGLE\": {\n",
    "    \"2025-01-01.2025-12-31\": 10000,\n",
    "    \"2023-01-01.2100-12-31\": 1000000000000\n",
    "  },\n",
    "  \"gov.irs.deductions.itemized.salt_and_real_estate.cap.SEPARATE\": {\n",
    "    \"2025-01-01.2025-12-31\": 5000,\n",
    "    \"2023-01-01.2100-12-31\": 1000000000000\n",
    "  },\n",
    "  \"gov.irs.deductions.itemized.interest.mortgage.cap.SURVIVING_SPOUSE\": {\n",
    "    \"2023-01-01.2100-12-31\": 1000000\n",
    "  },\n",
    "  \"gov.irs.deductions.itemized.interest.mortgage.cap.HEAD_OF_HOUSEHOLD\": {\n",
    "    \"2023-01-01.2100-12-31\": 1000000\n",
    "  },\n",
    "  \"gov.irs.deductions.itemized.salt_and_real_estate.phase_out.in_effect\": {\n",
    "    \"2025-01-01.2029-12-31\": False\n",
    "  },\n",
    "  \"gov.irs.deductions.itemized.salt_and_real_estate.cap.SURVIVING_SPOUSE\": {\n",
    "    \"2025-01-01.2025-12-31\": 10000,\n",
    "    \"2023-01-01.2100-12-31\": 1000000000000\n",
    "  },\n",
    "  \"gov.irs.deductions.itemized.salt_and_real_estate.cap.HEAD_OF_HOUSEHOLD\": {\n",
    "    \"2025-01-01.2025-12-31\": 10000,\n",
    "    \"2023-01-01.2100-12-31\": 1000000000000\n",
    "  },\n",
    "  \"gov.irs.deductions.itemized.salt_and_real_estate.phase_out.floor.applies\": {\n",
    "    \"2025-01-01.2029-12-31\": False\n",
    "  }\n",
    "}, country_id=\"us\")\n",
    "\n",
    "\n",
    "reformed = Microsimulation(reform=reform, dataset = \"hf://policyengine/test/sparse_cd_stacked_2023.h5\")"
   ]
  },
  {
   "cell_type": "code",
   "execution_count": 9,
   "metadata": {},
   "outputs": [],
   "source": [
    "# Apply the same state_fips correction to the reformed simulation\n",
    "cd_geoids_reform = reformed.calculate(\"congressional_district_geoid\").values\n",
    "correct_state_fips_reform = cd_geoids_reform // 100\n",
    "reformed.set_input(\"state_fips\", 2023, correct_state_fips_reform)\n",
    "\n",
    "# Delete any cached calculations to force recalculation\n",
    "if \"state_name\" in reformed.tax_benefit_system.variables:\n",
    "    reformed.delete_arrays(\"state_name\", 2023)\n",
    "if \"state_code\" in reformed.tax_benefit_system.variables:\n",
    "    reformed.delete_arrays(\"state_code\", 2023)"
   ]
  },
  {
   "cell_type": "code",
   "execution_count": 10,
   "metadata": {},
   "outputs": [],
   "source": [
    "r_df = reformed.calculate_dataframe(['household_id', 'state_fips', 'congressional_district_geoid', 'income_tax', 'state_name', 'state_code', 'household_net_income', 'household_weight'])\n"
   ]
  },
  {
   "cell_type": "code",
   "execution_count": 11,
   "metadata": {},
   "outputs": [
    {
     "data": {
      "text/html": [
       "<div>\n",
       "<style scoped>\n",
       "    .dataframe tbody tr th:only-of-type {\n",
       "        vertical-align: middle;\n",
       "    }\n",
       "\n",
       "    .dataframe tbody tr th {\n",
       "        vertical-align: top;\n",
       "    }\n",
       "\n",
       "    .dataframe thead th {\n",
       "        text-align: right;\n",
       "    }\n",
       "</style>\n",
       "<table border=\"1\" class=\"dataframe\">\n",
       "  <thead>\n",
       "    <tr style=\"text-align: right;\">\n",
       "      <th></th>\n",
       "      <th>household_id</th>\n",
       "      <th>state_fips</th>\n",
       "      <th>congressional_district_geoid</th>\n",
       "      <th>income_tax</th>\n",
       "      <th>state_name</th>\n",
       "      <th>state_code</th>\n",
       "      <th>household_net_income</th>\n",
       "      <th>household_weight</th>\n",
       "    </tr>\n",
       "  </thead>\n",
       "  <tbody>\n",
       "    <tr>\n",
       "      <th>54</th>\n",
       "      <td>203</td>\n",
       "      <td>34</td>\n",
       "      <td>3406</td>\n",
       "      <td>3.611006e+05</td>\n",
       "      <td>NJ</td>\n",
       "      <td>NJ</td>\n",
       "      <td>254792.531250</td>\n",
       "      <td>21.920219</td>\n",
       "    </tr>\n",
       "    <tr>\n",
       "      <th>100</th>\n",
       "      <td>324</td>\n",
       "      <td>34</td>\n",
       "      <td>3410</td>\n",
       "      <td>8.984263e+05</td>\n",
       "      <td>NJ</td>\n",
       "      <td>NJ</td>\n",
       "      <td>520829.937500</td>\n",
       "      <td>38.141525</td>\n",
       "    </tr>\n",
       "    <tr>\n",
       "      <th>117</th>\n",
       "      <td>373</td>\n",
       "      <td>34</td>\n",
       "      <td>3402</td>\n",
       "      <td>3.622267e+04</td>\n",
       "      <td>NJ</td>\n",
       "      <td>NJ</td>\n",
       "      <td>116267.265625</td>\n",
       "      <td>179.311432</td>\n",
       "    </tr>\n",
       "    <tr>\n",
       "      <th>243</th>\n",
       "      <td>655</td>\n",
       "      <td>34</td>\n",
       "      <td>3401</td>\n",
       "      <td>1.157711e+04</td>\n",
       "      <td>NJ</td>\n",
       "      <td>NJ</td>\n",
       "      <td>181396.546875</td>\n",
       "      <td>42.934647</td>\n",
       "    </tr>\n",
       "    <tr>\n",
       "      <th>244</th>\n",
       "      <td>657</td>\n",
       "      <td>34</td>\n",
       "      <td>3402</td>\n",
       "      <td>1.157711e+04</td>\n",
       "      <td>NJ</td>\n",
       "      <td>NJ</td>\n",
       "      <td>181396.546875</td>\n",
       "      <td>2995.783203</td>\n",
       "    </tr>\n",
       "    <tr>\n",
       "      <th>...</th>\n",
       "      <td>...</td>\n",
       "      <td>...</td>\n",
       "      <td>...</td>\n",
       "      <td>...</td>\n",
       "      <td>...</td>\n",
       "      <td>...</td>\n",
       "      <td>...</td>\n",
       "      <td>...</td>\n",
       "    </tr>\n",
       "    <tr>\n",
       "      <th>88774</th>\n",
       "      <td>271829</td>\n",
       "      <td>34</td>\n",
       "      <td>3410</td>\n",
       "      <td>1.740626e+05</td>\n",
       "      <td>NJ</td>\n",
       "      <td>NJ</td>\n",
       "      <td>743414.687500</td>\n",
       "      <td>58.284195</td>\n",
       "    </tr>\n",
       "    <tr>\n",
       "      <th>88808</th>\n",
       "      <td>271914</td>\n",
       "      <td>34</td>\n",
       "      <td>3409</td>\n",
       "      <td>1.529304e+06</td>\n",
       "      <td>NJ</td>\n",
       "      <td>NJ</td>\n",
       "      <td>74466.750000</td>\n",
       "      <td>37.558510</td>\n",
       "    </tr>\n",
       "    <tr>\n",
       "      <th>88832</th>\n",
       "      <td>272046</td>\n",
       "      <td>34</td>\n",
       "      <td>3408</td>\n",
       "      <td>8.131955e+04</td>\n",
       "      <td>NJ</td>\n",
       "      <td>NJ</td>\n",
       "      <td>427765.562500</td>\n",
       "      <td>178.973404</td>\n",
       "    </tr>\n",
       "    <tr>\n",
       "      <th>88883</th>\n",
       "      <td>272263</td>\n",
       "      <td>34</td>\n",
       "      <td>3404</td>\n",
       "      <td>5.986858e+04</td>\n",
       "      <td>NJ</td>\n",
       "      <td>NJ</td>\n",
       "      <td>317212.906250</td>\n",
       "      <td>66.759209</td>\n",
       "    </tr>\n",
       "    <tr>\n",
       "      <th>88884</th>\n",
       "      <td>272266</td>\n",
       "      <td>34</td>\n",
       "      <td>3406</td>\n",
       "      <td>5.986858e+04</td>\n",
       "      <td>NJ</td>\n",
       "      <td>NJ</td>\n",
       "      <td>327948.250000</td>\n",
       "      <td>89.580887</td>\n",
       "    </tr>\n",
       "  </tbody>\n",
       "</table>\n",
       "<p>3095 rows × 8 columns</p>\n",
       "</div>"
      ],
      "text/plain": [
       "       household_id  state_fips  congressional_district_geoid    income_tax  \\\n",
       "54              203          34                          3406  3.611006e+05   \n",
       "100             324          34                          3410  8.984263e+05   \n",
       "117             373          34                          3402  3.622267e+04   \n",
       "243             655          34                          3401  1.157711e+04   \n",
       "244             657          34                          3402  1.157711e+04   \n",
       "...             ...         ...                           ...           ...   \n",
       "88774        271829          34                          3410  1.740626e+05   \n",
       "88808        271914          34                          3409  1.529304e+06   \n",
       "88832        272046          34                          3408  8.131955e+04   \n",
       "88883        272263          34                          3404  5.986858e+04   \n",
       "88884        272266          34                          3406  5.986858e+04   \n",
       "\n",
       "      state_name state_code  household_net_income  household_weight  \n",
       "54            NJ         NJ         254792.531250         21.920219  \n",
       "100           NJ         NJ         520829.937500         38.141525  \n",
       "117           NJ         NJ         116267.265625        179.311432  \n",
       "243           NJ         NJ         181396.546875         42.934647  \n",
       "244           NJ         NJ         181396.546875       2995.783203  \n",
       "...          ...        ...                   ...               ...  \n",
       "88774         NJ         NJ         743414.687500         58.284195  \n",
       "88808         NJ         NJ          74466.750000         37.558510  \n",
       "88832         NJ         NJ         427765.562500        178.973404  \n",
       "88883         NJ         NJ         317212.906250         66.759209  \n",
       "88884         NJ         NJ         327948.250000         89.580887  \n",
       "\n",
       "[3095 rows x 8 columns]"
      ]
     },
     "execution_count": 11,
     "metadata": {},
     "output_type": "execute_result"
    }
   ],
   "source": [
    "r_state_df = r_df.loc[r_df.state_fips == 34]\n",
    "r_state_df"
   ]
  },
  {
   "cell_type": "code",
   "execution_count": 12,
   "metadata": {},
   "outputs": [],
   "source": [
    "r_avg_net_income_by_cd = (\n",
    "      r_state_df.groupby('congressional_district_geoid')\n",
    "      .apply(lambda x: (x['income_tax'] *\n",
    "  x['household_weight']).sum() / x['household_weight'].sum())\n",
    "      .reset_index(name='income_tax')\n",
    "  )"
   ]
  },
  {
   "cell_type": "code",
   "execution_count": 13,
   "metadata": {},
   "outputs": [
    {
     "name": "stdout",
     "output_type": "stream",
     "text": [
      "    congressional_district_geoid    income_tax\n",
      "0                           3401  37503.864332\n",
      "1                           3402  30258.588773\n",
      "2                           3403  51999.651513\n",
      "3                           3404  68042.135731\n",
      "4                           3405  55298.933111\n",
      "5                           3406  49727.539093\n",
      "6                           3407  60044.451366\n",
      "7                           3408  32163.931612\n",
      "8                           3409  45049.938094\n",
      "9                           3410  41262.861869\n",
      "10                          3411  66339.066182\n",
      "11                          3412  62295.689690\n"
     ]
    }
   ],
   "source": [
    "print(r_avg_net_income_by_cd)"
   ]
  },
  {
   "cell_type": "code",
   "execution_count": null,
   "id": "o3j28q6qoxr",
   "metadata": {},
   "outputs": [],
   "source": [
    "# Let's examine the data from your notebook more carefully\n",
    "import pandas as pd\n",
    "import numpy as np\n",
    "\n",
    "# Recreate some of the values from cell 10 to analyze\n",
    "income_tax_values = [3.611006e+05, 8.984263e+05, 3.622267e+04, 1.157711e+04, 1.740626e+05, \n",
    "                     1.529304e+06, 8.131955e+04, 5.986858e+04]\n",
    "weights = [21.920219, 38.141525, 179.311432, 42.934647, 58.284195, \n",
    "           37.558510, 178.973404, 66.759209]\n",
    "\n",
    "# These are some of your actual values\n",
    "print(\"Sample income tax values from your data:\")\n",
    "for i, val in enumerate(income_tax_values[:5]):\n",
    "    print(f\"  ${val:,.0f} (weight: {weights[i]:.1f})\")\n",
    "    \n",
    "print(f\"\\nMaximum value shown: ${max(income_tax_values):,.0f}\")\n",
    "print(f\"That's household 271914 with income tax of $1,529,304!\")"
   ]
  }
 ],
 "metadata": {
  "kernelspec": {
   "display_name": "base",
   "language": "python",
   "name": "python3"
  },
  "language_info": {
   "codemirror_mode": {
    "name": "ipython",
    "version": 3
   },
   "file_extension": ".py",
   "mimetype": "text/x-python",
   "name": "python",
   "nbconvert_exporter": "python",
   "pygments_lexer": "ipython3",
   "version": "3.12.2"
  }
 },
 "nbformat": 4,
 "nbformat_minor": 2
}
