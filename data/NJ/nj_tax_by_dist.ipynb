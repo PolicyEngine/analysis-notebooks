{
 "cells": [
  {
   "cell_type": "code",
   "execution_count": 1,
   "metadata": {},
   "outputs": [
    {
     "name": "stderr",
     "output_type": "stream",
     "text": [
      "/Users/daphnehansell/miniconda3/envs/policyengine/lib/python3.10/site-packages/tqdm/auto.py:21: TqdmWarning: IProgress not found. Please update jupyter and ipywidgets. See https://ipywidgets.readthedocs.io/en/stable/user_install.html\n",
      "  from .autonotebook import tqdm as notebook_tqdm\n"
     ]
    }
   ],
   "source": [
    "from policyengine_us import Microsimulation\n",
    "\n",
    "sim = Microsimulation(dataset = \"hf://policyengine/test/sparse_cd_stacked_2023.h5\")\n",
    "cd_geoids = sim.calculate(\"congressional_district_geoid\").values\n",
    "correct_state_fips = cd_geoids // 100\n",
    "sim.set_input(\"state_fips\", 2023, correct_state_fips)\n"
   ]
  },
  {
   "cell_type": "code",
   "execution_count": 2,
   "metadata": {},
   "outputs": [],
   "source": [
    "import pandas as pd\n",
    "import numpy as np\n",
    "from policyengine_us import Microsimulation\n",
    "from policyengine_us.variables.input.geography import StateName\n",
    "\n",
    "sim = Microsimulation(dataset = \"hf://policyengine/test/sparse_cd_stacked_2023.h5\")\n",
    "YEAR = 2023\n",
    "\n",
    "STATE_FIPS_TO_NAME = {\n",
    "    1: StateName.AL, 2: StateName.AK, 4: StateName.AZ, 5: StateName.AR, 6: StateName.CA,\n",
    "    8: StateName.CO, 9: StateName.CT, 10: StateName.DE, 11: StateName.DC,\n",
    "    12: StateName.FL, 13: StateName.GA, 15: StateName.HI, 16: StateName.ID, 17: StateName.IL,\n",
    "    18: StateName.IN, 19: StateName.IA, 20: StateName.KS, 21: StateName.KY, 22: StateName.LA,\n",
    "    23: StateName.ME, 24: StateName.MD, 25: StateName.MA, 26: StateName.MI,\n",
    "    27: StateName.MN, 28: StateName.MS, 29: StateName.MO, 30: StateName.MT,\n",
    "    31: StateName.NE, 32: StateName.NV, 33: StateName.NH, 34: StateName.NJ,\n",
    "    35: StateName.NM, 36: StateName.NY, 37: StateName.NC, 38: StateName.ND,\n",
    "    39: StateName.OH, 40: StateName.OK, 41: StateName.OR, 42: StateName.PA,\n",
    "    44: StateName.RI, 45: StateName.SC, 46: StateName.SD, 47: StateName.TN,\n",
    "    48: StateName.TX, 49: StateName.UT, 50: StateName.VT, 51: StateName.VA, 53: StateName.WA,\n",
    "    54: StateName.WV, 55: StateName.WI, 56: StateName.WY\n",
    "}\n",
    "\n",
    "\n",
    "cd_geoids = sim.calculate(\"congressional_district_geoid\").values\n",
    "correct_state_fips = cd_geoids // 100\n",
    "correct_state_names = pd.Series(correct_state_fips).map(STATE_FIPS_TO_NAME).values\n",
    "\n",
    "sim.set_input(\"state_fips\", YEAR, correct_state_fips)\n",
    "\n",
    "# Delete any cached calculations to force recalculation\n",
    "if \"state_name\" in sim.tax_benefit_system.variables:\n",
    "    sim.delete_arrays(\"state_name\", YEAR)\n",
    "if \"state_code\" in sim.tax_benefit_system.variables:\n",
    "    sim.delete_arrays(\"state_code\", YEAR)\n",
    "\n"
   ]
  },
  {
   "cell_type": "code",
   "execution_count": 3,
   "metadata": {},
   "outputs": [],
   "source": [
    "state_fips = sim.calculate(\"state_fips\", map_to=\"household\", period=2026)\n"
   ]
  },
  {
   "cell_type": "code",
   "execution_count": 4,
   "metadata": {},
   "outputs": [],
   "source": [
    "congressional_district_geoid = sim.calculate(\"congressional_district_geoid\", map_to=\"household\", period=2026)\n"
   ]
  },
  {
   "cell_type": "code",
   "execution_count": 5,
   "metadata": {},
   "outputs": [],
   "source": [
    "income_tax = sim.calculate(\"income_tax\", map_to=\"household\", period=2026)\n"
   ]
  },
  {
   "cell_type": "code",
   "execution_count": 6,
   "metadata": {},
   "outputs": [],
   "source": [
    "state_name = sim.calculate(\"state_name\", map_to=\"household\", period=2026)\n"
   ]
  },
  {
   "cell_type": "code",
   "execution_count": 7,
   "metadata": {},
   "outputs": [],
   "source": [
    "state_code = sim.calculate(\"state_code\", map_to=\"household\", period=2026)\n"
   ]
  },
  {
   "cell_type": "code",
   "execution_count": 8,
   "metadata": {},
   "outputs": [],
   "source": [
    "in_nj = state_code == \"NJ\""
   ]
  },
  {
   "cell_type": "code",
   "execution_count": 9,
   "metadata": {},
   "outputs": [],
   "source": [
    "mean_fed_tax_in_nj = income_tax[in_nj].mean()"
   ]
  },
  {
   "cell_type": "code",
   "execution_count": 10,
   "metadata": {},
   "outputs": [
    {
     "data": {
      "text/plain": [
       "26613.23385910318"
      ]
     },
     "execution_count": 10,
     "metadata": {},
     "output_type": "execute_result"
    }
   ],
   "source": [
    "mean_fed_tax_in_nj"
   ]
  },
  {
   "cell_type": "code",
   "execution_count": 11,
   "metadata": {},
   "outputs": [
    {
     "data": {
      "text/plain": [
       "{3401: 21626.254254479445,\n",
       " 3402: 19496.141684997117,\n",
       " 3403: 26277.74194296395,\n",
       " 3404: 32628.926321682633,\n",
       " 3405: 28071.03803417276,\n",
       " 3406: 24837.961113839345,\n",
       " 3407: 35728.95922826653,\n",
       " 3408: 19402.57601023985,\n",
       " 3409: 23163.47901356361,\n",
       " 3410: 21838.69476117316,\n",
       " 3411: 31695.259674954348,\n",
       " 3412: 29165.225455496624}"
      ]
     },
     "execution_count": 11,
     "metadata": {},
     "output_type": "execute_result"
    }
   ],
   "source": [
    "fed_tax_in_nj = income_tax[in_nj]\n",
    "districtics_in_nj = congressional_district_geoid[in_nj]\n",
    "\n",
    "unique_districts = np.unique(districtics_in_nj)\n",
    "district_list = {}\n",
    "\n",
    "for district in unique_districts:\n",
    "    in_district = districtics_in_nj == district\n",
    "    mean_tax = fed_tax_in_nj[in_district].mean()\n",
    "    district_list[district] = mean_tax\n",
    "\n",
    "district_list"
   ]
  },
  {
   "cell_type": "code",
   "execution_count": null,
   "metadata": {},
   "outputs": [],
   "source": []
  }
 ],
 "metadata": {
  "kernelspec": {
   "display_name": "policyengine",
   "language": "python",
   "name": "python3"
  },
  "language_info": {
   "codemirror_mode": {
    "name": "ipython",
    "version": 3
   },
   "file_extension": ".py",
   "mimetype": "text/x-python",
   "name": "python",
   "nbconvert_exporter": "python",
   "pygments_lexer": "ipython3",
   "version": "3.10.16"
  }
 },
 "nbformat": 4,
 "nbformat_minor": 2
}
