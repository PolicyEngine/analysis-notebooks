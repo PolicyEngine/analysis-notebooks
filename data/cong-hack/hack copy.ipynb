{
 "cells": [
  {
   "cell_type": "code",
   "execution_count": 27,
   "metadata": {},
   "outputs": [],
   "source": [
    "from policyengine_us import Microsimulation\n",
    "from policyengine_core.reforms import Reform\n",
    "import pandas as pd\n",
    "import numpy as np\n",
    "\n",
    "# Create baseline simulation with the correct dataset\n",
    "baseline = Microsimulation(dataset=\"hf://policyengine/policyengine-us-data/enhanced_cps_2024.h5\")"
   ]
  },
  {
   "cell_type": "code",
   "execution_count": 28,
   "metadata": {},
   "outputs": [
    {
     "name": "stdout",
     "output_type": "stream",
     "text": [
      "Total households: 21108\n",
      "Total weighted households: 0\n",
      "Unique states: 1\n",
      "\n",
      "Sample of state codes:\n",
      "CA    21108\n",
      "Name: count, dtype: int64\n"
     ]
    }
   ],
   "source": [
    "# Test that basic calculations are working correctly\n",
    "year = 2023\n",
    "\n",
    "# Get household-level variables with proper mapping\n",
    "state_code = baseline.calculate(\"state_code\", map_to=\"household\", period=year)\n",
    "household_weight = baseline.calculate(\"household_weight\", period=year)\n",
    "household_id = baseline.calculate(\"household_id\", map_to=\"household\", period=year)\n",
    "\n",
    "# Check the data\n",
    "print(f\"Total households: {len(household_id)}\")\n",
    "print(f\"Total weighted households: {household_weight.sum():,.0f}\")\n",
    "print(f\"Unique states: {len(state_code.unique())}\")\n",
    "print(f\"\\nSample of state codes:\")\n",
    "print(state_code.value_counts().head(10))"
   ]
  },
  {
   "cell_type": "code",
   "execution_count": 29,
   "metadata": {},
   "outputs": [
    {
     "name": "stdout",
     "output_type": "stream",
     "text": [
      "Baseline data sample:\n",
      "   household_id state_code  income_tax  weight\n",
      "0             0         CA         0.0     0.0\n",
      "1             0         CA         0.0     0.0\n",
      "2             0         CA         0.0     0.0\n",
      "3             0         CA         0.0     0.0\n",
      "4             0         CA         0.0     0.0\n",
      "\n",
      "Total weighted income tax: $0.0 billion\n"
     ]
    }
   ],
   "source": [
    "# Calculate baseline income tax and create a dataframe\n",
    "income_tax = baseline.calculate(\"income_tax\", map_to=\"household\", period=year)\n",
    "\n",
    "df_baseline = pd.DataFrame({\n",
    "    \"household_id\": household_id.values,\n",
    "    \"state_code\": state_code.values,\n",
    "    \"income_tax\": income_tax.values,\n",
    "    \"weight\": household_weight.values\n",
    "})\n",
    "\n",
    "print(\"Baseline data sample:\")\n",
    "print(df_baseline.head())\n",
    "print(f\"\\nTotal weighted income tax: ${(df_baseline['income_tax'] * df_baseline['weight']).sum()/1e9:.1f} billion\")"
   ]
  },
  {
   "cell_type": "code",
   "execution_count": 30,
   "metadata": {},
   "outputs": [
    {
     "name": "stdout",
     "output_type": "stream",
     "text": [
      "Data shape: (21108, 4)\n",
      "\n",
      "State distribution (top 10 states by weighted count):\n",
      "  CA: 0\n"
     ]
    }
   ],
   "source": [
    "# Get household-level variables for analysis\n",
    "year = 2023\n",
    "\n",
    "household_market_income = baseline.calculate(\"household_market_income\", map_to=\"household\", period=year)\n",
    "household_net_income = baseline.calculate(\"household_net_income\", map_to=\"household\", period=year)\n",
    "state_code = baseline.calculate(\"state_code\", map_to=\"household\", period=year)\n",
    "household_weight = baseline.calculate(\"household_weight\", period=year)\n",
    "\n",
    "# Create analysis dataframe\n",
    "df_household = pd.DataFrame({\n",
    "    \"state_code\": state_code.values,\n",
    "    \"household_market_income\": household_market_income.values,\n",
    "    \"household_net_income\": household_net_income.values,\n",
    "    \"weight\": household_weight.values\n",
    "})\n",
    "\n",
    "print(f\"Data shape: {df_household.shape}\")\n",
    "print(f\"\\nState distribution (top 10 states by weighted count):\")\n",
    "state_summary = df_household.groupby('state_code')['weight'].sum().sort_values(ascending=False).head(10)\n",
    "for state, weight in state_summary.items():\n",
    "    print(f\"  {state}: {weight:,.0f}\")"
   ]
  },
  {
   "cell_type": "code",
   "execution_count": 31,
   "metadata": {},
   "outputs": [
    {
     "name": "stdout",
     "output_type": "stream",
     "text": [
      "Household counts by state (top 10):\n",
      "  state_code  unweighted_households  weighted_households\n",
      "0         CA                  21108                  0.0\n"
     ]
    }
   ],
   "source": [
    "# Aggregate statistics by state\n",
    "df_counts = df_household.groupby('state_code').agg({\n",
    "    'weight': ['count', 'sum']\n",
    "}).reset_index()\n",
    "\n",
    "df_counts.columns = ['state_code', 'unweighted_households', 'weighted_households']\n",
    "\n",
    "print(\"Household counts by state (top 10):\")\n",
    "print(df_counts.sort_values('weighted_households', ascending=False).head(10))"
   ]
  },
  {
   "cell_type": "code",
   "execution_count": 32,
   "metadata": {},
   "outputs": [
    {
     "name": "stdout",
     "output_type": "stream",
     "text": [
      "Reform created: Removing SALT deduction cap\n"
     ]
    }
   ],
   "source": [
    "# Create SALT deduction cap reform (remove the $10,000 cap)\n",
    "reform = Reform.from_dict({\n",
    "    \"gov.irs.deductions.itemized.salt_and_real_estate.cap.JOINT\": {\n",
    "        \"2023-01-01.2100-12-31\": 0\n",
    "    },\n",
    "    \"gov.irs.deductions.itemized.salt_and_real_estate.cap.SINGLE\": {\n",
    "        \"2023-01-01.2100-12-31\": 0\n",
    "    },\n",
    "    \"gov.irs.deductions.itemized.salt_and_real_estate.cap.SEPARATE\": {\n",
    "        \"2023-01-01.2100-12-31\": 0\n",
    "    },\n",
    "    \"gov.irs.deductions.itemized.salt_and_real_estate.cap.SURVIVING_SPOUSE\": {\n",
    "        \"2023-01-01.2100-12-31\": 0\n",
    "    },\n",
    "    \"gov.irs.deductions.itemized.salt_and_real_estate.cap.HEAD_OF_HOUSEHOLD\": {\n",
    "        \"2023-01-01.2100-12-31\": 0\n",
    "    },\n",
    "    \"gov.irs.deductions.itemized.salt_and_real_estate.phase_out.floor.applies\": {\n",
    "        \"2023-01-01.2029-12-31\": False\n",
    "    }\n",
    "}, country_id=\"us\")\n",
    "\n",
    "print(\"Reform created: Removing SALT deduction cap\")"
   ]
  },
  {
   "cell_type": "code",
   "execution_count": 33,
   "metadata": {},
   "outputs": [
    {
     "name": "stdout",
     "output_type": "stream",
     "text": [
      "Reformed simulation created\n"
     ]
    }
   ],
   "source": [
    "# Create reformed simulation\n",
    "reformed = Microsimulation(\n",
    "    reform=reform,\n",
    "    dataset=\"hf://policyengine/policyengine-us-data/enhanced_cps_2024.h5\"\n",
    ")\n",
    "\n",
    "print(\"Reformed simulation created\")"
   ]
  },
  {
   "cell_type": "code",
   "execution_count": 34,
   "metadata": {},
   "outputs": [
    {
     "name": "stdout",
     "output_type": "stream",
     "text": [
      "Reformed variables calculated\n",
      "Total households: 21108\n",
      "Total weighted households: 0\n"
     ]
    }
   ],
   "source": [
    "# Calculate reformed variables\n",
    "year = 2023\n",
    "\n",
    "state_code_r = reformed.calculate(\"state_code\", map_to=\"household\", period=year)\n",
    "household_market_income_r = reformed.calculate(\"household_market_income\", map_to=\"household\", period=year)\n",
    "household_net_income_r = reformed.calculate(\"household_net_income\", map_to=\"household\", period=year)\n",
    "household_weight_r = reformed.calculate(\"household_weight\", period=year)\n",
    "\n",
    "# Get baseline values for comparison\n",
    "household_net_income_b = baseline.calculate(\"household_net_income\", map_to=\"household\", period=year)\n",
    "\n",
    "print(\"Reformed variables calculated\")\n",
    "print(f\"Total households: {len(household_net_income_r)}\")\n",
    "print(f\"Total weighted households: {household_weight_r.sum():,.0f}\")"
   ]
  },
  {
   "cell_type": "code",
   "execution_count": 35,
   "metadata": {},
   "outputs": [
    {
     "ename": "ZeroDivisionError",
     "evalue": "Weights sum to zero, can't be normalized",
     "output_type": "error",
     "traceback": [
      "\u001b[0;31m---------------------------------------------------------------------------\u001b[0m",
      "\u001b[0;31mZeroDivisionError\u001b[0m                         Traceback (most recent call last)",
      "Cell \u001b[0;32mIn[35], line 28\u001b[0m\n\u001b[1;32m     25\u001b[0m     \u001b[38;5;28;01mreturn\u001b[39;00m values[i[np\u001b[38;5;241m.\u001b[39msearchsorted(c, \u001b[38;5;241m0.5\u001b[39m \u001b[38;5;241m*\u001b[39m c[\u001b[38;5;241m-\u001b[39m\u001b[38;5;241m1\u001b[39m])]]\n\u001b[1;32m     27\u001b[0m \u001b[38;5;66;03m# Calculate state-level statistics\u001b[39;00m\n\u001b[0;32m---> 28\u001b[0m df_state_summary \u001b[38;5;241m=\u001b[39m \u001b[43mdf_analysis\u001b[49m\u001b[38;5;241;43m.\u001b[39;49m\u001b[43mgroupby\u001b[49m\u001b[43m(\u001b[49m\u001b[38;5;124;43m'\u001b[39;49m\u001b[38;5;124;43mstate_code\u001b[39;49m\u001b[38;5;124;43m'\u001b[39;49m\u001b[43m)\u001b[49m\u001b[38;5;241;43m.\u001b[39;49m\u001b[43mapply\u001b[49m\u001b[43m(\u001b[49m\n\u001b[1;32m     29\u001b[0m \u001b[43m    \u001b[49m\u001b[38;5;28;43;01mlambda\u001b[39;49;00m\u001b[43m \u001b[49m\u001b[43mx\u001b[49m\u001b[43m:\u001b[49m\u001b[43m \u001b[49m\u001b[43mpd\u001b[49m\u001b[38;5;241;43m.\u001b[39;49m\u001b[43mSeries\u001b[49m\u001b[43m(\u001b[49m\u001b[43m{\u001b[49m\n\u001b[1;32m     30\u001b[0m \u001b[43m        \u001b[49m\u001b[38;5;124;43m'\u001b[39;49m\u001b[38;5;124;43mmedian_baseline\u001b[39;49m\u001b[38;5;124;43m'\u001b[39;49m\u001b[43m:\u001b[49m\u001b[43m \u001b[49m\u001b[43mweighted_median\u001b[49m\u001b[43m(\u001b[49m\u001b[43mx\u001b[49m\u001b[43m[\u001b[49m\u001b[38;5;124;43m'\u001b[39;49m\u001b[38;5;124;43mhousehold_net_income_baseline\u001b[39;49m\u001b[38;5;124;43m'\u001b[39;49m\u001b[43m]\u001b[49m\u001b[38;5;241;43m.\u001b[39;49m\u001b[43mvalues\u001b[49m\u001b[43m,\u001b[49m\u001b[43m \u001b[49m\u001b[43mx\u001b[49m\u001b[43m[\u001b[49m\u001b[38;5;124;43m'\u001b[39;49m\u001b[38;5;124;43mweight\u001b[39;49m\u001b[38;5;124;43m'\u001b[39;49m\u001b[43m]\u001b[49m\u001b[38;5;241;43m.\u001b[39;49m\u001b[43mvalues\u001b[49m\u001b[43m)\u001b[49m\u001b[43m,\u001b[49m\n\u001b[1;32m     31\u001b[0m \u001b[43m        \u001b[49m\u001b[38;5;124;43m'\u001b[39;49m\u001b[38;5;124;43mmedian_reform\u001b[39;49m\u001b[38;5;124;43m'\u001b[39;49m\u001b[43m:\u001b[49m\u001b[43m \u001b[49m\u001b[43mweighted_median\u001b[49m\u001b[43m(\u001b[49m\u001b[43mx\u001b[49m\u001b[43m[\u001b[49m\u001b[38;5;124;43m'\u001b[39;49m\u001b[38;5;124;43mhousehold_net_income_reform\u001b[39;49m\u001b[38;5;124;43m'\u001b[39;49m\u001b[43m]\u001b[49m\u001b[38;5;241;43m.\u001b[39;49m\u001b[43mvalues\u001b[49m\u001b[43m,\u001b[49m\u001b[43m \u001b[49m\u001b[43mx\u001b[49m\u001b[43m[\u001b[49m\u001b[38;5;124;43m'\u001b[39;49m\u001b[38;5;124;43mweight\u001b[39;49m\u001b[38;5;124;43m'\u001b[39;49m\u001b[43m]\u001b[49m\u001b[38;5;241;43m.\u001b[39;49m\u001b[43mvalues\u001b[49m\u001b[43m)\u001b[49m\u001b[43m,\u001b[49m\n\u001b[1;32m     32\u001b[0m \u001b[43m        \u001b[49m\u001b[38;5;124;43m'\u001b[39;49m\u001b[38;5;124;43mmean_net_change\u001b[39;49m\u001b[38;5;124;43m'\u001b[39;49m\u001b[43m:\u001b[49m\u001b[43m \u001b[49m\u001b[43mnp\u001b[49m\u001b[38;5;241;43m.\u001b[39;49m\u001b[43maverage\u001b[49m\u001b[43m(\u001b[49m\u001b[43mx\u001b[49m\u001b[43m[\u001b[49m\u001b[38;5;124;43m'\u001b[39;49m\u001b[38;5;124;43mnet_change\u001b[39;49m\u001b[38;5;124;43m'\u001b[39;49m\u001b[43m]\u001b[49m\u001b[38;5;241;43m.\u001b[39;49m\u001b[43mvalues\u001b[49m\u001b[43m,\u001b[49m\u001b[43m \u001b[49m\u001b[43mweights\u001b[49m\u001b[38;5;241;43m=\u001b[39;49m\u001b[43mx\u001b[49m\u001b[43m[\u001b[49m\u001b[38;5;124;43m'\u001b[39;49m\u001b[38;5;124;43mweight\u001b[39;49m\u001b[38;5;124;43m'\u001b[39;49m\u001b[43m]\u001b[49m\u001b[38;5;241;43m.\u001b[39;49m\u001b[43mvalues\u001b[49m\u001b[43m)\u001b[49m\u001b[43m,\u001b[49m\n\u001b[1;32m     33\u001b[0m \u001b[43m        \u001b[49m\u001b[38;5;124;43m'\u001b[39;49m\u001b[38;5;124;43mtotal_weighted_households\u001b[39;49m\u001b[38;5;124;43m'\u001b[39;49m\u001b[43m:\u001b[49m\u001b[43m \u001b[49m\u001b[43mx\u001b[49m\u001b[43m[\u001b[49m\u001b[38;5;124;43m'\u001b[39;49m\u001b[38;5;124;43mweight\u001b[39;49m\u001b[38;5;124;43m'\u001b[39;49m\u001b[43m]\u001b[49m\u001b[38;5;241;43m.\u001b[39;49m\u001b[43msum\u001b[49m\u001b[43m(\u001b[49m\u001b[43m)\u001b[49m\u001b[43m,\u001b[49m\n\u001b[1;32m     34\u001b[0m \u001b[43m        \u001b[49m\u001b[38;5;124;43m'\u001b[39;49m\u001b[38;5;124;43mhouseholds_gaining\u001b[39;49m\u001b[38;5;124;43m'\u001b[39;49m\u001b[43m:\u001b[49m\u001b[43m \u001b[49m\u001b[43m(\u001b[49m\u001b[43m(\u001b[49m\u001b[43mx\u001b[49m\u001b[43m[\u001b[49m\u001b[38;5;124;43m'\u001b[39;49m\u001b[38;5;124;43mnet_change\u001b[39;49m\u001b[38;5;124;43m'\u001b[39;49m\u001b[43m]\u001b[49m\u001b[43m \u001b[49m\u001b[38;5;241;43m>\u001b[39;49m\u001b[43m \u001b[49m\u001b[38;5;241;43m0\u001b[39;49m\u001b[43m)\u001b[49m\u001b[43m \u001b[49m\u001b[38;5;241;43m*\u001b[39;49m\u001b[43m \u001b[49m\u001b[43mx\u001b[49m\u001b[43m[\u001b[49m\u001b[38;5;124;43m'\u001b[39;49m\u001b[38;5;124;43mweight\u001b[39;49m\u001b[38;5;124;43m'\u001b[39;49m\u001b[43m]\u001b[49m\u001b[43m)\u001b[49m\u001b[38;5;241;43m.\u001b[39;49m\u001b[43msum\u001b[49m\u001b[43m(\u001b[49m\u001b[43m)\u001b[49m\u001b[43m,\u001b[49m\n\u001b[1;32m     35\u001b[0m \u001b[43m        \u001b[49m\u001b[38;5;124;43m'\u001b[39;49m\u001b[38;5;124;43mhouseholds_losing\u001b[39;49m\u001b[38;5;124;43m'\u001b[39;49m\u001b[43m:\u001b[49m\u001b[43m \u001b[49m\u001b[43m(\u001b[49m\u001b[43m(\u001b[49m\u001b[43mx\u001b[49m\u001b[43m[\u001b[49m\u001b[38;5;124;43m'\u001b[39;49m\u001b[38;5;124;43mnet_change\u001b[39;49m\u001b[38;5;124;43m'\u001b[39;49m\u001b[43m]\u001b[49m\u001b[43m \u001b[49m\u001b[38;5;241;43m<\u001b[39;49m\u001b[43m \u001b[49m\u001b[38;5;241;43m0\u001b[39;49m\u001b[43m)\u001b[49m\u001b[43m \u001b[49m\u001b[38;5;241;43m*\u001b[39;49m\u001b[43m \u001b[49m\u001b[43mx\u001b[49m\u001b[43m[\u001b[49m\u001b[38;5;124;43m'\u001b[39;49m\u001b[38;5;124;43mweight\u001b[39;49m\u001b[38;5;124;43m'\u001b[39;49m\u001b[43m]\u001b[49m\u001b[43m)\u001b[49m\u001b[38;5;241;43m.\u001b[39;49m\u001b[43msum\u001b[49m\u001b[43m(\u001b[49m\u001b[43m)\u001b[49m\n\u001b[1;32m     36\u001b[0m \u001b[43m    \u001b[49m\u001b[43m}\u001b[49m\u001b[43m)\u001b[49m\n\u001b[1;32m     37\u001b[0m \u001b[43m)\u001b[49m\u001b[38;5;241m.\u001b[39mreset_index()\n\u001b[1;32m     39\u001b[0m \u001b[38;5;28mprint\u001b[39m(\u001b[38;5;124m\"\u001b[39m\u001b[38;5;124mState-level impact of SALT cap removal (top 10 states by average gain):\u001b[39m\u001b[38;5;124m\"\u001b[39m)\n\u001b[1;32m     40\u001b[0m \u001b[38;5;28mprint\u001b[39m(df_state_summary\u001b[38;5;241m.\u001b[39msort_values(\u001b[38;5;124m'\u001b[39m\u001b[38;5;124mmean_net_change\u001b[39m\u001b[38;5;124m'\u001b[39m, ascending\u001b[38;5;241m=\u001b[39m\u001b[38;5;28;01mFalse\u001b[39;00m)\u001b[38;5;241m.\u001b[39mhead(\u001b[38;5;241m10\u001b[39m)\u001b[38;5;241m.\u001b[39mto_string())\n",
      "File \u001b[0;32m~/miniconda3/lib/python3.12/site-packages/pandas/core/groupby/groupby.py:1825\u001b[0m, in \u001b[0;36mGroupBy.apply\u001b[0;34m(self, func, include_groups, *args, **kwargs)\u001b[0m\n\u001b[1;32m   1823\u001b[0m \u001b[38;5;28;01mwith\u001b[39;00m option_context(\u001b[38;5;124m\"\u001b[39m\u001b[38;5;124mmode.chained_assignment\u001b[39m\u001b[38;5;124m\"\u001b[39m, \u001b[38;5;28;01mNone\u001b[39;00m):\n\u001b[1;32m   1824\u001b[0m     \u001b[38;5;28;01mtry\u001b[39;00m:\n\u001b[0;32m-> 1825\u001b[0m         result \u001b[38;5;241m=\u001b[39m \u001b[38;5;28;43mself\u001b[39;49m\u001b[38;5;241;43m.\u001b[39;49m\u001b[43m_python_apply_general\u001b[49m\u001b[43m(\u001b[49m\u001b[43mf\u001b[49m\u001b[43m,\u001b[49m\u001b[43m \u001b[49m\u001b[38;5;28;43mself\u001b[39;49m\u001b[38;5;241;43m.\u001b[39;49m\u001b[43m_selected_obj\u001b[49m\u001b[43m)\u001b[49m\n\u001b[1;32m   1826\u001b[0m         \u001b[38;5;28;01mif\u001b[39;00m (\n\u001b[1;32m   1827\u001b[0m             \u001b[38;5;129;01mnot\u001b[39;00m \u001b[38;5;28misinstance\u001b[39m(\u001b[38;5;28mself\u001b[39m\u001b[38;5;241m.\u001b[39mobj, Series)\n\u001b[1;32m   1828\u001b[0m             \u001b[38;5;129;01mand\u001b[39;00m \u001b[38;5;28mself\u001b[39m\u001b[38;5;241m.\u001b[39m_selection \u001b[38;5;129;01mis\u001b[39;00m \u001b[38;5;28;01mNone\u001b[39;00m\n\u001b[1;32m   1829\u001b[0m             \u001b[38;5;129;01mand\u001b[39;00m \u001b[38;5;28mself\u001b[39m\u001b[38;5;241m.\u001b[39m_selected_obj\u001b[38;5;241m.\u001b[39mshape \u001b[38;5;241m!=\u001b[39m \u001b[38;5;28mself\u001b[39m\u001b[38;5;241m.\u001b[39m_obj_with_exclusions\u001b[38;5;241m.\u001b[39mshape\n\u001b[1;32m   1830\u001b[0m         ):\n\u001b[1;32m   1831\u001b[0m             warnings\u001b[38;5;241m.\u001b[39mwarn(\n\u001b[1;32m   1832\u001b[0m                 message\u001b[38;5;241m=\u001b[39m_apply_groupings_depr\u001b[38;5;241m.\u001b[39mformat(\n\u001b[1;32m   1833\u001b[0m                     \u001b[38;5;28mtype\u001b[39m(\u001b[38;5;28mself\u001b[39m)\u001b[38;5;241m.\u001b[39m\u001b[38;5;18m__name__\u001b[39m, \u001b[38;5;124m\"\u001b[39m\u001b[38;5;124mapply\u001b[39m\u001b[38;5;124m\"\u001b[39m\n\u001b[0;32m   (...)\u001b[0m\n\u001b[1;32m   1836\u001b[0m                 stacklevel\u001b[38;5;241m=\u001b[39mfind_stack_level(),\n\u001b[1;32m   1837\u001b[0m             )\n",
      "File \u001b[0;32m~/miniconda3/lib/python3.12/site-packages/pandas/core/groupby/groupby.py:1886\u001b[0m, in \u001b[0;36mGroupBy._python_apply_general\u001b[0;34m(self, f, data, not_indexed_same, is_transform, is_agg)\u001b[0m\n\u001b[1;32m   1851\u001b[0m \u001b[38;5;129m@final\u001b[39m\n\u001b[1;32m   1852\u001b[0m \u001b[38;5;28;01mdef\u001b[39;00m\u001b[38;5;250m \u001b[39m\u001b[38;5;21m_python_apply_general\u001b[39m(\n\u001b[1;32m   1853\u001b[0m     \u001b[38;5;28mself\u001b[39m,\n\u001b[0;32m   (...)\u001b[0m\n\u001b[1;32m   1858\u001b[0m     is_agg: \u001b[38;5;28mbool\u001b[39m \u001b[38;5;241m=\u001b[39m \u001b[38;5;28;01mFalse\u001b[39;00m,\n\u001b[1;32m   1859\u001b[0m ) \u001b[38;5;241m-\u001b[39m\u001b[38;5;241m>\u001b[39m NDFrameT:\n\u001b[1;32m   1860\u001b[0m \u001b[38;5;250m    \u001b[39m\u001b[38;5;124;03m\"\"\"\u001b[39;00m\n\u001b[1;32m   1861\u001b[0m \u001b[38;5;124;03m    Apply function f in python space\u001b[39;00m\n\u001b[1;32m   1862\u001b[0m \n\u001b[0;32m   (...)\u001b[0m\n\u001b[1;32m   1884\u001b[0m \u001b[38;5;124;03m        data after applying f\u001b[39;00m\n\u001b[1;32m   1885\u001b[0m \u001b[38;5;124;03m    \"\"\"\u001b[39;00m\n\u001b[0;32m-> 1886\u001b[0m     values, mutated \u001b[38;5;241m=\u001b[39m \u001b[38;5;28;43mself\u001b[39;49m\u001b[38;5;241;43m.\u001b[39;49m\u001b[43m_grouper\u001b[49m\u001b[38;5;241;43m.\u001b[39;49m\u001b[43mapply_groupwise\u001b[49m\u001b[43m(\u001b[49m\u001b[43mf\u001b[49m\u001b[43m,\u001b[49m\u001b[43m \u001b[49m\u001b[43mdata\u001b[49m\u001b[43m,\u001b[49m\u001b[43m \u001b[49m\u001b[38;5;28;43mself\u001b[39;49m\u001b[38;5;241;43m.\u001b[39;49m\u001b[43maxis\u001b[49m\u001b[43m)\u001b[49m\n\u001b[1;32m   1887\u001b[0m     \u001b[38;5;28;01mif\u001b[39;00m not_indexed_same \u001b[38;5;129;01mis\u001b[39;00m \u001b[38;5;28;01mNone\u001b[39;00m:\n\u001b[1;32m   1888\u001b[0m         not_indexed_same \u001b[38;5;241m=\u001b[39m mutated\n",
      "File \u001b[0;32m~/miniconda3/lib/python3.12/site-packages/pandas/core/groupby/ops.py:919\u001b[0m, in \u001b[0;36mBaseGrouper.apply_groupwise\u001b[0;34m(self, f, data, axis)\u001b[0m\n\u001b[1;32m    917\u001b[0m \u001b[38;5;66;03m# group might be modified\u001b[39;00m\n\u001b[1;32m    918\u001b[0m group_axes \u001b[38;5;241m=\u001b[39m group\u001b[38;5;241m.\u001b[39maxes\n\u001b[0;32m--> 919\u001b[0m res \u001b[38;5;241m=\u001b[39m \u001b[43mf\u001b[49m\u001b[43m(\u001b[49m\u001b[43mgroup\u001b[49m\u001b[43m)\u001b[49m\n\u001b[1;32m    920\u001b[0m \u001b[38;5;28;01mif\u001b[39;00m \u001b[38;5;129;01mnot\u001b[39;00m mutated \u001b[38;5;129;01mand\u001b[39;00m \u001b[38;5;129;01mnot\u001b[39;00m _is_indexed_like(res, group_axes, axis):\n\u001b[1;32m    921\u001b[0m     mutated \u001b[38;5;241m=\u001b[39m \u001b[38;5;28;01mTrue\u001b[39;00m\n",
      "Cell \u001b[0;32mIn[35], line 32\u001b[0m, in \u001b[0;36m<lambda>\u001b[0;34m(x)\u001b[0m\n\u001b[1;32m     25\u001b[0m     \u001b[38;5;28;01mreturn\u001b[39;00m values[i[np\u001b[38;5;241m.\u001b[39msearchsorted(c, \u001b[38;5;241m0.5\u001b[39m \u001b[38;5;241m*\u001b[39m c[\u001b[38;5;241m-\u001b[39m\u001b[38;5;241m1\u001b[39m])]]\n\u001b[1;32m     27\u001b[0m \u001b[38;5;66;03m# Calculate state-level statistics\u001b[39;00m\n\u001b[1;32m     28\u001b[0m df_state_summary \u001b[38;5;241m=\u001b[39m df_analysis\u001b[38;5;241m.\u001b[39mgroupby(\u001b[38;5;124m'\u001b[39m\u001b[38;5;124mstate_code\u001b[39m\u001b[38;5;124m'\u001b[39m)\u001b[38;5;241m.\u001b[39mapply(\n\u001b[1;32m     29\u001b[0m     \u001b[38;5;28;01mlambda\u001b[39;00m x: pd\u001b[38;5;241m.\u001b[39mSeries({\n\u001b[1;32m     30\u001b[0m         \u001b[38;5;124m'\u001b[39m\u001b[38;5;124mmedian_baseline\u001b[39m\u001b[38;5;124m'\u001b[39m: weighted_median(x[\u001b[38;5;124m'\u001b[39m\u001b[38;5;124mhousehold_net_income_baseline\u001b[39m\u001b[38;5;124m'\u001b[39m]\u001b[38;5;241m.\u001b[39mvalues, x[\u001b[38;5;124m'\u001b[39m\u001b[38;5;124mweight\u001b[39m\u001b[38;5;124m'\u001b[39m]\u001b[38;5;241m.\u001b[39mvalues),\n\u001b[1;32m     31\u001b[0m         \u001b[38;5;124m'\u001b[39m\u001b[38;5;124mmedian_reform\u001b[39m\u001b[38;5;124m'\u001b[39m: weighted_median(x[\u001b[38;5;124m'\u001b[39m\u001b[38;5;124mhousehold_net_income_reform\u001b[39m\u001b[38;5;124m'\u001b[39m]\u001b[38;5;241m.\u001b[39mvalues, x[\u001b[38;5;124m'\u001b[39m\u001b[38;5;124mweight\u001b[39m\u001b[38;5;124m'\u001b[39m]\u001b[38;5;241m.\u001b[39mvalues),\n\u001b[0;32m---> 32\u001b[0m         \u001b[38;5;124m'\u001b[39m\u001b[38;5;124mmean_net_change\u001b[39m\u001b[38;5;124m'\u001b[39m: \u001b[43mnp\u001b[49m\u001b[38;5;241;43m.\u001b[39;49m\u001b[43maverage\u001b[49m\u001b[43m(\u001b[49m\u001b[43mx\u001b[49m\u001b[43m[\u001b[49m\u001b[38;5;124;43m'\u001b[39;49m\u001b[38;5;124;43mnet_change\u001b[39;49m\u001b[38;5;124;43m'\u001b[39;49m\u001b[43m]\u001b[49m\u001b[38;5;241;43m.\u001b[39;49m\u001b[43mvalues\u001b[49m\u001b[43m,\u001b[49m\u001b[43m \u001b[49m\u001b[43mweights\u001b[49m\u001b[38;5;241;43m=\u001b[39;49m\u001b[43mx\u001b[49m\u001b[43m[\u001b[49m\u001b[38;5;124;43m'\u001b[39;49m\u001b[38;5;124;43mweight\u001b[39;49m\u001b[38;5;124;43m'\u001b[39;49m\u001b[43m]\u001b[49m\u001b[38;5;241;43m.\u001b[39;49m\u001b[43mvalues\u001b[49m\u001b[43m)\u001b[49m,\n\u001b[1;32m     33\u001b[0m         \u001b[38;5;124m'\u001b[39m\u001b[38;5;124mtotal_weighted_households\u001b[39m\u001b[38;5;124m'\u001b[39m: x[\u001b[38;5;124m'\u001b[39m\u001b[38;5;124mweight\u001b[39m\u001b[38;5;124m'\u001b[39m]\u001b[38;5;241m.\u001b[39msum(),\n\u001b[1;32m     34\u001b[0m         \u001b[38;5;124m'\u001b[39m\u001b[38;5;124mhouseholds_gaining\u001b[39m\u001b[38;5;124m'\u001b[39m: ((x[\u001b[38;5;124m'\u001b[39m\u001b[38;5;124mnet_change\u001b[39m\u001b[38;5;124m'\u001b[39m] \u001b[38;5;241m>\u001b[39m \u001b[38;5;241m0\u001b[39m) \u001b[38;5;241m*\u001b[39m x[\u001b[38;5;124m'\u001b[39m\u001b[38;5;124mweight\u001b[39m\u001b[38;5;124m'\u001b[39m])\u001b[38;5;241m.\u001b[39msum(),\n\u001b[1;32m     35\u001b[0m         \u001b[38;5;124m'\u001b[39m\u001b[38;5;124mhouseholds_losing\u001b[39m\u001b[38;5;124m'\u001b[39m: ((x[\u001b[38;5;124m'\u001b[39m\u001b[38;5;124mnet_change\u001b[39m\u001b[38;5;124m'\u001b[39m] \u001b[38;5;241m<\u001b[39m \u001b[38;5;241m0\u001b[39m) \u001b[38;5;241m*\u001b[39m x[\u001b[38;5;124m'\u001b[39m\u001b[38;5;124mweight\u001b[39m\u001b[38;5;124m'\u001b[39m])\u001b[38;5;241m.\u001b[39msum()\n\u001b[1;32m     36\u001b[0m     })\n\u001b[1;32m     37\u001b[0m )\u001b[38;5;241m.\u001b[39mreset_index()\n\u001b[1;32m     39\u001b[0m \u001b[38;5;28mprint\u001b[39m(\u001b[38;5;124m\"\u001b[39m\u001b[38;5;124mState-level impact of SALT cap removal (top 10 states by average gain):\u001b[39m\u001b[38;5;124m\"\u001b[39m)\n\u001b[1;32m     40\u001b[0m \u001b[38;5;28mprint\u001b[39m(df_state_summary\u001b[38;5;241m.\u001b[39msort_values(\u001b[38;5;124m'\u001b[39m\u001b[38;5;124mmean_net_change\u001b[39m\u001b[38;5;124m'\u001b[39m, ascending\u001b[38;5;241m=\u001b[39m\u001b[38;5;28;01mFalse\u001b[39;00m)\u001b[38;5;241m.\u001b[39mhead(\u001b[38;5;241m10\u001b[39m)\u001b[38;5;241m.\u001b[39mto_string())\n",
      "File \u001b[0;32m~/miniconda3/lib/python3.12/site-packages/numpy/lib/function_base.py:550\u001b[0m, in \u001b[0;36maverage\u001b[0;34m(a, axis, weights, returned, keepdims)\u001b[0m\n\u001b[1;32m    548\u001b[0m     scl \u001b[38;5;241m=\u001b[39m wgt\u001b[38;5;241m.\u001b[39msum(axis\u001b[38;5;241m=\u001b[39maxis, dtype\u001b[38;5;241m=\u001b[39mresult_dtype, \u001b[38;5;241m*\u001b[39m\u001b[38;5;241m*\u001b[39mkeepdims_kw)\n\u001b[1;32m    549\u001b[0m     \u001b[38;5;28;01mif\u001b[39;00m np\u001b[38;5;241m.\u001b[39many(scl \u001b[38;5;241m==\u001b[39m \u001b[38;5;241m0.0\u001b[39m):\n\u001b[0;32m--> 550\u001b[0m         \u001b[38;5;28;01mraise\u001b[39;00m \u001b[38;5;167;01mZeroDivisionError\u001b[39;00m(\n\u001b[1;32m    551\u001b[0m             \u001b[38;5;124m\"\u001b[39m\u001b[38;5;124mWeights sum to zero, can\u001b[39m\u001b[38;5;124m'\u001b[39m\u001b[38;5;124mt be normalized\u001b[39m\u001b[38;5;124m\"\u001b[39m)\n\u001b[1;32m    553\u001b[0m     avg \u001b[38;5;241m=\u001b[39m avg_as_array \u001b[38;5;241m=\u001b[39m np\u001b[38;5;241m.\u001b[39mmultiply(a, wgt,\n\u001b[1;32m    554\u001b[0m                       dtype\u001b[38;5;241m=\u001b[39mresult_dtype)\u001b[38;5;241m.\u001b[39msum(axis, \u001b[38;5;241m*\u001b[39m\u001b[38;5;241m*\u001b[39mkeepdims_kw) \u001b[38;5;241m/\u001b[39m scl\n\u001b[1;32m    556\u001b[0m \u001b[38;5;28;01mif\u001b[39;00m returned:\n",
      "\u001b[0;31mZeroDivisionError\u001b[0m: Weights sum to zero, can't be normalized"
     ]
    }
   ],
   "source": [
    "# Create comprehensive analysis dataframe\n",
    "df_analysis = pd.DataFrame({\n",
    "    \"state_code\": state_code_r.values,\n",
    "    \"household_net_income_baseline\": household_net_income_b.values,\n",
    "    \"household_net_income_reform\": household_net_income_r.values,\n",
    "    \"weight\": household_weight_r.values,\n",
    "    \"household_market_income\": household_market_income_r.values\n",
    "})\n",
    "\n",
    "# Calculate net change\n",
    "df_analysis['net_change'] = df_analysis['household_net_income_reform'] - df_analysis['household_net_income_baseline']\n",
    "\n",
    "# Define weighted median function\n",
    "def weighted_median(values, weights):\n",
    "    # Remove NaN values\n",
    "    mask = ~np.isnan(values)\n",
    "    values = values[mask]\n",
    "    weights = weights[mask]\n",
    "    \n",
    "    if len(values) == 0:\n",
    "        return np.nan\n",
    "    \n",
    "    i = np.argsort(values)\n",
    "    c = np.cumsum(weights[i])\n",
    "    return values[i[np.searchsorted(c, 0.5 * c[-1])]]\n",
    "\n",
    "# Calculate state-level statistics\n",
    "df_state_summary = df_analysis.groupby('state_code').apply(\n",
    "    lambda x: pd.Series({\n",
    "        'median_baseline': weighted_median(x['household_net_income_baseline'].values, x['weight'].values),\n",
    "        'median_reform': weighted_median(x['household_net_income_reform'].values, x['weight'].values),\n",
    "        'mean_net_change': np.average(x['net_change'].values, weights=x['weight'].values),\n",
    "        'total_weighted_households': x['weight'].sum(),\n",
    "        'households_gaining': ((x['net_change'] > 0) * x['weight']).sum(),\n",
    "        'households_losing': ((x['net_change'] < 0) * x['weight']).sum()\n",
    "    })\n",
    ").reset_index()\n",
    "\n",
    "print(\"State-level impact of SALT cap removal (top 10 states by average gain):\")\n",
    "print(df_state_summary.sort_values('mean_net_change', ascending=False).head(10).to_string())"
   ]
  },
  {
   "cell_type": "code",
   "execution_count": 36,
   "id": "nnjfcmvzod7",
   "metadata": {},
   "outputs": [
    {
     "name": "stdout",
     "output_type": "stream",
     "text": [
      "Weight calculation works: True\n",
      "Total weighted households: 17,907,623,107,028\n"
     ]
    }
   ],
   "source": [
    "# Test the basic imports and setup from the working notebook\n",
    "from policyengine_us import Microsimulation\n",
    "baseline = Microsimulation(dataset=\"hf://policyengine/policyengine-us-data/enhanced_cps_2024.h5\")\n",
    "\n",
    "# Check if basic calculation works\n",
    "year = 2024\n",
    "test_weight = baseline.calculate(\"household_weight\", period=year)\n",
    "print(f\"Weight calculation works: {test_weight is not None}\")\n",
    "print(f\"Total weighted households: {test_weight.sum():,.0f}\")"
   ]
  }
 ],
 "metadata": {
  "kernelspec": {
   "display_name": "base",
   "language": "python",
   "name": "python3"
  },
  "language_info": {
   "codemirror_mode": {
    "name": "ipython",
    "version": 3
   },
   "file_extension": ".py",
   "mimetype": "text/x-python",
   "name": "python",
   "nbconvert_exporter": "python",
   "pygments_lexer": "ipython3",
   "version": "3.12.2"
  }
 },
 "nbformat": 4,
 "nbformat_minor": 2
}
