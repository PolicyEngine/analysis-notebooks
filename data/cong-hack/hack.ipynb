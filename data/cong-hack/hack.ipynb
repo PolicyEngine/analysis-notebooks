{
 "cells": [
  {
   "cell_type": "code",
   "execution_count": 6,
   "metadata": {},
   "outputs": [],
   "source": [
    "from policyengine_us import Microsimulation\n",
    "baseline = Microsimulation(dataset = \"hf://policyengine/test/sparse_cd_stacked_2023.h5\")"
   ]
  },
  {
   "cell_type": "code",
   "execution_count": 7,
   "metadata": {},
   "outputs": [
    {
     "data": {
      "text/plain": [
       "        value      weight\n",
       "0           0   13.742280\n",
       "1           1   61.547729\n",
       "2           2   16.596466\n",
       "3           6   34.286915\n",
       "4          10   15.586526\n",
       "...       ...         ...\n",
       "88978  272555   18.035107\n",
       "88979  272557  144.022263\n",
       "88980  272559   22.460018\n",
       "88981  272563   27.677790\n",
       "88982  272567   37.072266\n",
       "\n",
       "[88983 rows x 2 columns]"
      ]
     },
     "execution_count": 7,
     "metadata": {},
     "output_type": "execute_result"
    }
   ],
   "source": [
    "\n",
    "baseline.calculate(\"congressional_district_geoid\")\n",
    "baseline.calculate(\"household_id\")\n"
   ]
  },
  {
   "cell_type": "code",
   "execution_count": 8,
   "metadata": {},
   "outputs": [],
   "source": [
    "cd_geoids = baseline.calculate(\"congressional_district_geoid\").values\n",
    "correct_state_fips = cd_geoids // 100\n",
    "baseline.set_input(\"state_fips\", 2023, correct_state_fips)\n"
   ]
  },
  {
   "cell_type": "code",
   "execution_count": 9,
   "metadata": {},
   "outputs": [
    {
     "data": {
      "text/html": [
       "<div>\n",
       "<style scoped>\n",
       "    .dataframe tbody tr th:only-of-type {\n",
       "        vertical-align: middle;\n",
       "    }\n",
       "\n",
       "    .dataframe tbody tr th {\n",
       "        vertical-align: top;\n",
       "    }\n",
       "\n",
       "    .dataframe thead th {\n",
       "        text-align: right;\n",
       "    }\n",
       "</style>\n",
       "<table border=\"1\" class=\"dataframe\">\n",
       "  <thead>\n",
       "    <tr style=\"text-align: right;\">\n",
       "      <th></th>\n",
       "      <th>household_id</th>\n",
       "      <th>state_fips</th>\n",
       "      <th>income_tax</th>\n",
       "    </tr>\n",
       "  </thead>\n",
       "  <tbody>\n",
       "    <tr>\n",
       "      <th>0</th>\n",
       "      <td>0</td>\n",
       "      <td>18</td>\n",
       "      <td>4587.200195</td>\n",
       "    </tr>\n",
       "    <tr>\n",
       "      <th>1</th>\n",
       "      <td>1</td>\n",
       "      <td>39</td>\n",
       "      <td>4587.200195</td>\n",
       "    </tr>\n",
       "    <tr>\n",
       "      <th>2</th>\n",
       "      <td>2</td>\n",
       "      <td>1</td>\n",
       "      <td>70842.179688</td>\n",
       "    </tr>\n",
       "    <tr>\n",
       "      <th>3</th>\n",
       "      <td>6</td>\n",
       "      <td>1</td>\n",
       "      <td>70842.179688</td>\n",
       "    </tr>\n",
       "    <tr>\n",
       "      <th>4</th>\n",
       "      <td>10</td>\n",
       "      <td>1</td>\n",
       "      <td>70842.179688</td>\n",
       "    </tr>\n",
       "    <tr>\n",
       "      <th>...</th>\n",
       "      <td>...</td>\n",
       "      <td>...</td>\n",
       "      <td>...</td>\n",
       "    </tr>\n",
       "    <tr>\n",
       "      <th>88978</th>\n",
       "      <td>272555</td>\n",
       "      <td>6</td>\n",
       "      <td>71878.273438</td>\n",
       "    </tr>\n",
       "    <tr>\n",
       "      <th>88979</th>\n",
       "      <td>272557</td>\n",
       "      <td>6</td>\n",
       "      <td>71878.273438</td>\n",
       "    </tr>\n",
       "    <tr>\n",
       "      <th>88980</th>\n",
       "      <td>272559</td>\n",
       "      <td>24</td>\n",
       "      <td>496323.446533</td>\n",
       "    </tr>\n",
       "    <tr>\n",
       "      <th>88981</th>\n",
       "      <td>272563</td>\n",
       "      <td>29</td>\n",
       "      <td>496323.446533</td>\n",
       "    </tr>\n",
       "    <tr>\n",
       "      <th>88982</th>\n",
       "      <td>272567</td>\n",
       "      <td>42</td>\n",
       "      <td>496323.446533</td>\n",
       "    </tr>\n",
       "  </tbody>\n",
       "</table>\n",
       "<p>88983 rows × 3 columns</p>\n",
       "</div>"
      ],
      "text/plain": [
       "           weight  household_id  state_fips     income_tax\n",
       "0       13.742280             0          18    4587.200195\n",
       "1       61.547729             1          39    4587.200195\n",
       "2       16.596466             2           1   70842.179688\n",
       "3       34.286915             6           1   70842.179688\n",
       "4       15.586526            10           1   70842.179688\n",
       "...           ...           ...         ...            ...\n",
       "88978   18.035107        272555           6   71878.273438\n",
       "88979  144.022263        272557           6   71878.273438\n",
       "88980   22.460018        272559          24  496323.446533\n",
       "88981   27.677790        272563          29  496323.446533\n",
       "88982   37.072266        272567          42  496323.446533\n",
       "\n",
       "[88983 rows x 4 columns]"
      ]
     },
     "execution_count": 9,
     "metadata": {},
     "output_type": "execute_result"
    }
   ],
   "source": [
    "baseline.calculate_dataframe(['household_id', 'state_fips', 'income_tax'])"
   ]
  },
  {
   "cell_type": "code",
   "execution_count": 10,
   "metadata": {},
   "outputs": [],
   "source": [
    "import pandas as pd\n",
    "import numpy as np\n",
    "\n",
    "year = 2023\n",
    "state = baseline.calculate(\"state_code\", map_to=\"household\", period=year)\n",
    "employment_income = baseline.calculate(\"household_market_income\", map_to=\"household\", period=year)\n",
    "household_id = baseline.calculate(\"household_id\", map_to=\"household\", period=year)\n",
    "congressional_district_geoid = baseline.calculate(\"congressional_district_geoid\", map_to=\"household\", period=year)\n",
    "household_net_income = baseline.calculate(\"household_net_income\", map_to=\"household\", period=year)\n",
    "\n",
    "\n",
    "\n"
   ]
  },
  {
   "cell_type": "code",
   "execution_count": 13,
   "metadata": {},
   "outputs": [
    {
     "name": "stdout",
     "output_type": "stream",
     "text": [
      "     congressional_district_geoid  unweighted_households  weighted_households\n",
      "0                             101                    193        244799.125000\n",
      "1                             102                    263        281133.625000\n",
      "2                             103                    198        253962.171875\n",
      "3                             104                    168        241107.125000\n",
      "4                             105                    252        255262.781250\n",
      "..                            ...                    ...                  ...\n",
      "431                          5505                    335        302881.281250\n",
      "432                          5506                    282        289898.156250\n",
      "433                          5507                    223        273920.312500\n",
      "434                          5508                    264        313816.000000\n",
      "435                          5601                    215        242721.968750\n",
      "\n",
      "[436 rows x 3 columns]\n"
     ]
    }
   ],
   "source": [
    "import pandas as pd\n",
    "import numpy as np\n",
    "\n",
    "year = 2023\n",
    "congressional_district_geoid = baseline.calculate(\"congressional_district_geoid\", map_to=\"household\", period=year)\n",
    "household_weight = baseline.calculate(\"household_weight\", map_to=\"household\", period=year)\n",
    "\n",
    "df_household = pd.DataFrame({\n",
    "    \"congressional_district_geoid\": congressional_district_geoid,\n",
    "    \"weight\": household_weight\n",
    "})\n",
    "\n",
    "# Count unweighted (actual records) and weighted households\n",
    "df_counts = df_household.groupby('congressional_district_geoid').agg({\n",
    "    'weight': ['count', 'sum']\n",
    "}).reset_index()\n",
    "\n",
    "df_counts.columns = ['congressional_district_geoid', 'unweighted_households', 'weighted_households']\n",
    "\n",
    "print(df_counts)"
   ]
  },
  {
   "cell_type": "code",
   "execution_count": 14,
   "metadata": {},
   "outputs": [],
   "source": [
    "from policyengine_core.reforms import Reform\n",
    "\n",
    "reform = Reform.from_dict({\n",
    "  \"gov.irs.deductions.itemized.salt_and_real_estate.cap.JOINT\": {\n",
    "    \"2023-01-01.2100-12-31\": 0\n",
    "  },\n",
    "  \"gov.irs.deductions.itemized.salt_and_real_estate.cap.SINGLE\": {\n",
    "    \"2023-01-01.2100-12-31\": 0\n",
    "  },\n",
    "  \"gov.irs.deductions.itemized.salt_and_real_estate.cap.SEPARATE\": {\n",
    "    \"2023-01-01.2100-12-31\": 0\n",
    "  },\n",
    "  \"gov.irs.deductions.itemized.salt_and_real_estate.cap.SURVIVING_SPOUSE\": {\n",
    "    \"2023-01-01.2100-12-31\": 0\n",
    "  },\n",
    "  \"gov.irs.deductions.itemized.salt_and_real_estate.cap.HEAD_OF_HOUSEHOLD\": {\n",
    "    \"2023-01-01.2100-12-31\": 0\n",
    "  },\n",
    "  \"gov.irs.deductions.itemized.salt_and_real_estate.phase_out.floor.applies\": {\n",
    "    \"2023-01-01.2029-12-31\": False\n",
    "  }\n",
    "}, country_id=\"us\")"
   ]
  },
  {
   "cell_type": "code",
   "execution_count": 15,
   "metadata": {},
   "outputs": [],
   "source": [
    "reformed = Microsimulation(reform=reform,\n",
    "  dataset=\"hf://policyengine/test/sparse_cd_stacked_2023.h5\")"
   ]
  },
  {
   "cell_type": "code",
   "execution_count": 16,
   "metadata": {},
   "outputs": [],
   "source": [
    "import numpy as np\n",
    "\n",
    "year = 2023\n",
    "congressional_district_geoid_r = reformed.calculate(\"congressional_district_geoid\", map_to=\"household\", period=year)\n",
    "household_market_income_r = reformed.calculate(\"household_market_income\", map_to=\"household\", period=year)\n",
    "household_weight_r = reformed.calculate(\"household_weight\", map_to=\"household\", period=year)\n",
    "household_net_income_r = reformed.calculate(\"household_net_income\", map_to=\"household\", period=year)\n",
    "household_net_income = baseline.calculate(\"household_net_income\", map_to=\"household\", period=year)\n"
   ]
  },
  {
   "cell_type": "code",
   "execution_count": 17,
   "metadata": {},
   "outputs": [
    {
     "name": "stdout",
     "output_type": "stream",
     "text": [
      "   congressional_district_geoid  median_household_net_income  \\\n",
      "0                           101                 57237.257812   \n",
      "1                           102                 57037.121094   \n",
      "2                           103                 61871.488281   \n",
      "3                           104                 66146.343750   \n",
      "4                           105                 64440.023438   \n",
      "5                           106                 66146.343750   \n",
      "6                           107                 57237.257812   \n",
      "7                           201                 64558.355469   \n",
      "8                           401                 96304.296875   \n",
      "9                           402                 66146.343750   \n",
      "\n",
      "   median_household_net_income_r  \n",
      "0                   57237.257812  \n",
      "1                   57037.121094  \n",
      "2                   61871.488281  \n",
      "3                   66146.343750  \n",
      "4                   64440.023438  \n",
      "5                   66146.343750  \n",
      "6                   57237.257812  \n",
      "7                   64558.355469  \n",
      "8                   96304.296875  \n",
      "9                   66146.343750  \n"
     ]
    }
   ],
   "source": [
    "df_household = pd.DataFrame({\n",
    "    \"congressional_district_geoid\": congressional_district_geoid,\n",
    "    \"household_net_income_r\": household_net_income_r.values,  # Extract values from MicroSeries\n",
    "    \"weight\": household_weight,\n",
    "    \"household_net_income\": household_net_income\n",
    "})\n",
    "\n",
    "# Calculate weighted median by congressional district\n",
    "def weighted_median(values, weights):\n",
    "    # Remove NaN values\n",
    "    mask = ~np.isnan(values)\n",
    "    values = values[mask]\n",
    "    weights = weights[mask]\n",
    "    \n",
    "    if len(values) == 0:\n",
    "        return np.nan\n",
    "    \n",
    "    i = np.argsort(values)\n",
    "    c = np.cumsum(weights[i])\n",
    "    return values[i[np.searchsorted(c, 0.5 * c[-1])]]\n",
    "\n",
    "# Calculate both medians\n",
    "df_outputs = df_household.groupby('congressional_district_geoid').apply(\n",
    "    lambda x: pd.Series({\n",
    "        'median_household_net_income': weighted_median(x['household_net_income'].values, x['weight'].values),\n",
    "        'median_household_net_income_r': weighted_median(x['household_net_income_r'].values, x['weight'].values)\n",
    "    })\n",
    ").reset_index()\n",
    "\n",
    "print(df_outputs.head(10))"
   ]
  }
 ],
 "metadata": {
  "kernelspec": {
   "display_name": "base",
   "language": "python",
   "name": "python3"
  },
  "language_info": {
   "codemirror_mode": {
    "name": "ipython",
    "version": 3
   },
   "file_extension": ".py",
   "mimetype": "text/x-python",
   "name": "python",
   "nbconvert_exporter": "python",
   "pygments_lexer": "ipython3",
   "version": "3.12.2"
  }
 },
 "nbformat": 4,
 "nbformat_minor": 2
}
