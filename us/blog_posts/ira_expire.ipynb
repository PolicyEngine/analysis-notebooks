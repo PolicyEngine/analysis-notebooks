{
 "cells": [
  {
   "cell_type": "code",
   "execution_count": 63,
   "metadata": {},
   "outputs": [],
   "source": [
    "from policyengine_us import Microsimulation\n",
    "from policyengine_core.reforms import Reform\n",
    "import pandas as pd\n",
    "\n",
    "baseline = Microsimulation(dataset=\"hf://policyengine/policyengine-us-data/enhanced_cps_2024.h5\")"
   ]
  },
  {
   "cell_type": "code",
   "execution_count": 64,
   "metadata": {},
   "outputs": [],
   "source": [
    "reform = Reform.from_dict({\n",
    "  \"gov.aca.ptc_phase_out_rate[0].amount\": {\n",
    "    \"2026-01-01.2100-12-31\": 0\n",
    "  },\n",
    "  \"gov.aca.ptc_phase_out_rate[1].amount\": {\n",
    "    \"2025-01-01.2100-12-31\": 0\n",
    "  },\n",
    "  \"gov.aca.ptc_phase_out_rate[2].amount\": {\n",
    "    \"2026-01-01.2100-12-31\": 0\n",
    "  },\n",
    "  \"gov.aca.ptc_phase_out_rate[3].amount\": {\n",
    "    \"2026-01-01.2100-12-31\": 0.02\n",
    "  },\n",
    "  \"gov.aca.ptc_phase_out_rate[4].amount\": {\n",
    "    \"2026-01-01.2100-12-31\": 0.04\n",
    "  },\n",
    "  \"gov.aca.ptc_phase_out_rate[5].amount\": {\n",
    "    \"2026-01-01.2100-12-31\": 0.06\n",
    "  },\n",
    "  \"gov.aca.ptc_phase_out_rate[6].amount\": {\n",
    "    \"2026-01-01.2100-12-31\": 0.085\n",
    "  },\n",
    "  \"gov.aca.ptc_income_eligibility[2].amount\": {\n",
    "    \"2026-01-01.2100-12-31\": True\n",
    "  }\n",
    "}, country_id=\"us\")\n",
    "\n",
    "\n"
   ]
  },
  {
   "cell_type": "code",
   "execution_count": 65,
   "metadata": {},
   "outputs": [],
   "source": [
    "baseline = Microsimulation(dataset=\"hf://policyengine/policyengine-us-data/enhanced_cps_2024.h5\")\n",
    "reformed = Microsimulation(reform=reform, dataset=\"hf://policyengine/policyengine-us-data/enhanced_cps_2024.h5\")\n",
    "weights = baseline.calculate(\"household_weight\", period=2024)\n",
    "\n"
   ]
  },
  {
   "cell_type": "code",
   "execution_count": 66,
   "metadata": {},
   "outputs": [
    {
     "data": {
      "text/plain": [
       "40.35911041608722"
      ]
     },
     "execution_count": 66,
     "metadata": {},
     "output_type": "execute_result"
    }
   ],
   "source": [
    "baseline_aca_eligible = baseline.calculate(\"is_aca_ptc_eligible\", map_to=\"tax_unit\", period=2026).sum()\n",
    "baseline_aca_eligible/1e6"
   ]
  },
  {
   "cell_type": "code",
   "execution_count": 67,
   "metadata": {},
   "outputs": [
    {
     "data": {
      "text/plain": [
       "227.28695912942868"
      ]
     },
     "execution_count": 67,
     "metadata": {},
     "output_type": "execute_result"
    }
   ],
   "source": [
    "baseline_aca_enrollment = baseline.calculate(\"takes_up_aca_if_eligible\", map_to=\"person\", period=2026).sum()\n",
    "baseline_aca_enrollment/1e6"
   ]
  },
  {
   "cell_type": "code",
   "execution_count": 68,
   "metadata": {},
   "outputs": [
    {
     "name": "stdout",
     "output_type": "stream",
     "text": [
      "184,751,527 weighted people live in tax units that take up Marketplace coverage and actually receive a PTC.\n"
     ]
    }
   ],
   "source": [
    "period = 2025\n",
    "sim    = baseline\n",
    "\n",
    "# ── Tax-unit flags, broadcast to people ──────────────────────────────────────\n",
    "takes_up = sim.calculate(\"takes_up_aca_if_eligible\",\n",
    "                         map_to=\"person\", period=period)        # 0/1\n",
    "aca_ptc  = sim.calculate(\"aca_ptc\",\n",
    "                         map_to=\"person\", period=period)        # $ amount\n",
    "\n",
    "# ── PERSON weights (pick any person-level variable) ─────────────────────────\n",
    "person_wt = sim.calculate(\"age\", map_to=\"person\", period=period).weights\n",
    "\n",
    "# ── Build mask & sum weights ────────────────────────────────────────────────\n",
    "mask = (takes_up == 1) & (aca_ptc > 0)\n",
    "\n",
    "people_with_ptc_takeup_wtd = (mask.astype(float) * person_wt).sum()\n",
    "\n",
    "print(f\"{people_with_ptc_takeup_wtd:,.0f} weighted people live in tax units \"\n",
    "      \"that take up Marketplace coverage and actually receive a PTC.\")\n"
   ]
  },
  {
   "cell_type": "code",
   "execution_count": 69,
   "metadata": {},
   "outputs": [
    {
     "name": "stdout",
     "output_type": "stream",
     "text": [
      "23,752,636 weighted people live in tax units that take up Marketplace coverage and actually receive a PTC.\n"
     ]
    }
   ],
   "source": [
    "period = 2026\n",
    "\n",
    "# ── Tax-unit flags, broadcast to people ──────────────────────────────────────\n",
    "takes_up_r = reformed.calculate(\"takes_up_aca_if_eligible\",\n",
    "                         map_to=\"person\", period=period)        # 0/1\n",
    "aca_ptc_r  = reformed.calculate(\"aca_ptc\",\n",
    "                         map_to=\"person\", period=period)        # $ amount\n",
    "\n",
    "# ── PERSON weights (pick any person-level variable) ─────────────────────────\n",
    "person_wt_r = reformed.calculate(\"age\", map_to=\"person\", period=period).weights\n",
    "\n",
    "# ── Build mask & sum weights ────────────────────────────────────────────────\n",
    "mask = (takes_up_r == 1) & (aca_ptc_r > 0)\n",
    "\n",
    "people_with_ptc_takeup_wtd_r = (mask.astype(float) * person_wt_r).sum()\n",
    "\n",
    "print(f\"{people_with_ptc_takeup_wtd_r:,.0f} weighted people live in tax units \"\n",
    "      \"that take up Marketplace coverage and actually receive a PTC.\")\n"
   ]
  },
  {
   "cell_type": "code",
   "execution_count": 70,
   "metadata": {},
   "outputs": [
    {
     "name": "stdout",
     "output_type": "stream",
     "text": [
      "18,379,449 weighted people live in tax units that take up Marketplace coverage and actually receive a PTC.\n"
     ]
    }
   ],
   "source": [
    "period = 2026\n",
    "sim    = baseline\n",
    "\n",
    "# ── Tax-unit flags, broadcast to people ──────────────────────────────────────\n",
    "takes_up = sim.calculate(\"takes_up_aca_if_eligible\",\n",
    "                         map_to=\"person\", period=period)        # 0/1\n",
    "aca_ptc  = sim.calculate(\"aca_ptc\",\n",
    "                         map_to=\"person\", period=period)        # $ amount\n",
    "\n",
    "# ── PERSON weights (pick any person-level variable) ─────────────────────────\n",
    "person_wt = sim.calculate(\"age\", map_to=\"person\", period=period).weights\n",
    "\n",
    "# ── Build mask & sum weights ────────────────────────────────────────────────\n",
    "mask = (takes_up == 1) & (aca_ptc > 0)\n",
    "\n",
    "people_with_ptc_takeup_wtd = (mask.astype(float) * person_wt).sum()\n",
    "\n",
    "print(f\"{people_with_ptc_takeup_wtd:,.0f} weighted people live in tax units \"\n",
    "      \"that take up Marketplace coverage and actually receive a PTC.\")\n"
   ]
  },
  {
   "cell_type": "code",
   "execution_count": null,
   "metadata": {},
   "outputs": [],
   "source": []
  },
  {
   "cell_type": "code",
   "execution_count": 71,
   "metadata": {},
   "outputs": [],
   "source": [
    "year = 2026\n",
    "state = baseline.calculate(\"state_code\", map_to=\"household\", period=year)\n",
    "num_dependents = baseline.calculate(\"tax_unit_dependents\", map_to=\"household\", period=year)\n",
    "married = baseline.calculate(\"is_married\", map_to=\"household\", period=year)\n",
    "employment_income = baseline.calculate(\"employment_income\", map_to=\"household\", period=year)\n",
    "self_employment_income = baseline.calculate(\"self_employment_income\", map_to=\"household\", period=year)\n",
    "aca_baseline = baseline.calculate(\"aca_ptc\", map_to=\"household\", period=year)\n",
    "rating_area = baseline.calculate(\"slcsp_rating_area\", map_to=\"household\", period=year)\n",
    "household_id = baseline.calculate(\"household_id\", map_to=\"household\", period=year)\n",
    "aca_reform = reformed.calculate(\"aca_ptc\", map_to=\"household\", period=year)"
   ]
  },
  {
   "cell_type": "code",
   "execution_count": 72,
   "metadata": {},
   "outputs": [
    {
     "data": {
      "text/html": [
       "<div>\n",
       "<style scoped>\n",
       "    .dataframe tbody tr th:only-of-type {\n",
       "        vertical-align: middle;\n",
       "    }\n",
       "\n",
       "    .dataframe tbody tr th {\n",
       "        vertical-align: top;\n",
       "    }\n",
       "\n",
       "    .dataframe thead th {\n",
       "        text-align: right;\n",
       "    }\n",
       "</style>\n",
       "<table border=\"1\" class=\"dataframe\">\n",
       "  <thead>\n",
       "    <tr style=\"text-align: right;\">\n",
       "      <th></th>\n",
       "      <th>household_id</th>\n",
       "      <th>State</th>\n",
       "      <th>Married</th>\n",
       "      <th>Num_Dependents</th>\n",
       "      <th>Employment_Income</th>\n",
       "      <th>Self_Employment_Income</th>\n",
       "      <th>aca_baseline</th>\n",
       "      <th>aca_reform</th>\n",
       "    </tr>\n",
       "  </thead>\n",
       "  <tbody>\n",
       "    <tr>\n",
       "      <th>23890</th>\n",
       "      <td>103176</td>\n",
       "      <td>PA</td>\n",
       "      <td>1.0</td>\n",
       "      <td>3.0</td>\n",
       "      <td>94992.562805</td>\n",
       "      <td>91.854012</td>\n",
       "      <td>0.0</td>\n",
       "      <td>39058.191406</td>\n",
       "    </tr>\n",
       "  </tbody>\n",
       "</table>\n",
       "</div>"
      ],
      "text/plain": [
       "       household_id State  Married  Num_Dependents  Employment_Income  \\\n",
       "23890        103176    PA      1.0             3.0       94992.562805   \n",
       "\n",
       "       Self_Employment_Income  aca_baseline    aca_reform  \n",
       "23890               91.854012           0.0  39058.191406  "
      ]
     },
     "execution_count": 72,
     "metadata": {},
     "output_type": "execute_result"
    }
   ],
   "source": [
    "# Create a DataFrame with the outputs\n",
    "data = {\n",
    "    \"household_id\": household_id,\n",
    "    \"State\": state,\n",
    "    \"Married\": married,\n",
    "    \"Num_Dependents\": num_dependents,\n",
    "    \"Employment_Income\": employment_income,\n",
    "    \"Self_Employment_Income\": self_employment_income,\n",
    "    \"aca_baseline\": aca_baseline,\n",
    "    \"aca_reform\": aca_reform,\n",
    "    }\n",
    "\n",
    "df_outputs = pd.DataFrame(data)\n",
    "df_outputs[df_outputs['household_id'] == 103176]\n"
   ]
  },
  {
   "cell_type": "code",
   "execution_count": 73,
   "metadata": {},
   "outputs": [
    {
     "name": "stdout",
     "output_type": "stream",
     "text": [
      "Most positive net-income changes (PTC boosts):\n"
     ]
    },
    {
     "data": {
      "text/html": [
       "<div>\n",
       "<style scoped>\n",
       "    .dataframe tbody tr th:only-of-type {\n",
       "        vertical-align: middle;\n",
       "    }\n",
       "\n",
       "    .dataframe tbody tr th {\n",
       "        vertical-align: top;\n",
       "    }\n",
       "\n",
       "    .dataframe thead th {\n",
       "        text-align: right;\n",
       "    }\n",
       "</style>\n",
       "<table border=\"1\" class=\"dataframe\">\n",
       "  <thead>\n",
       "    <tr style=\"text-align: right;\">\n",
       "      <th></th>\n",
       "      <th>household_id</th>\n",
       "      <th>State</th>\n",
       "      <th>weight</th>\n",
       "      <th>net_change</th>\n",
       "      <th>wt_change</th>\n",
       "    </tr>\n",
       "  </thead>\n",
       "  <tbody>\n",
       "    <tr>\n",
       "      <th>15170</th>\n",
       "      <td>63406</td>\n",
       "      <td>TX</td>\n",
       "      <td>28846.123047</td>\n",
       "      <td>20097.220703</td>\n",
       "      <td>5.797269e+08</td>\n",
       "    </tr>\n",
       "    <tr>\n",
       "      <th>11774</th>\n",
       "      <td>47863</td>\n",
       "      <td>FL</td>\n",
       "      <td>43584.601562</td>\n",
       "      <td>17123.369141</td>\n",
       "      <td>7.463152e+08</td>\n",
       "    </tr>\n",
       "    <tr>\n",
       "      <th>14377</th>\n",
       "      <td>60850</td>\n",
       "      <td>TX</td>\n",
       "      <td>46835.007812</td>\n",
       "      <td>15904.038086</td>\n",
       "      <td>7.448657e+08</td>\n",
       "    </tr>\n",
       "    <tr>\n",
       "      <th>14628</th>\n",
       "      <td>61712</td>\n",
       "      <td>TX</td>\n",
       "      <td>33571.246094</td>\n",
       "      <td>14010.416992</td>\n",
       "      <td>4.703472e+08</td>\n",
       "    </tr>\n",
       "    <tr>\n",
       "      <th>6960</th>\n",
       "      <td>25327</td>\n",
       "      <td>MO</td>\n",
       "      <td>12508.783203</td>\n",
       "      <td>13525.498047</td>\n",
       "      <td>1.691875e+08</td>\n",
       "    </tr>\n",
       "    <tr>\n",
       "      <th>8987</th>\n",
       "      <td>38686</td>\n",
       "      <td>NC</td>\n",
       "      <td>15900.470703</td>\n",
       "      <td>12249.720703</td>\n",
       "      <td>1.947763e+08</td>\n",
       "    </tr>\n",
       "    <tr>\n",
       "      <th>31780</th>\n",
       "      <td>135336</td>\n",
       "      <td>FL</td>\n",
       "      <td>95542.593750</td>\n",
       "      <td>12184.659180</td>\n",
       "      <td>1.164154e+09</td>\n",
       "    </tr>\n",
       "    <tr>\n",
       "      <th>19620</th>\n",
       "      <td>83988</td>\n",
       "      <td>CA</td>\n",
       "      <td>12765.500000</td>\n",
       "      <td>10092.767578</td>\n",
       "      <td>1.288392e+08</td>\n",
       "    </tr>\n",
       "    <tr>\n",
       "      <th>36863</th>\n",
       "      <td>159723</td>\n",
       "      <td>CO</td>\n",
       "      <td>16615.960938</td>\n",
       "      <td>7437.457031</td>\n",
       "      <td>1.235805e+08</td>\n",
       "    </tr>\n",
       "    <tr>\n",
       "      <th>4013</th>\n",
       "      <td>16074</td>\n",
       "      <td>OH</td>\n",
       "      <td>16507.593750</td>\n",
       "      <td>6990.998047</td>\n",
       "      <td>1.154046e+08</td>\n",
       "    </tr>\n",
       "  </tbody>\n",
       "</table>\n",
       "</div>"
      ],
      "text/plain": [
       "       household_id State        weight    net_change     wt_change\n",
       "15170         63406    TX  28846.123047  20097.220703  5.797269e+08\n",
       "11774         47863    FL  43584.601562  17123.369141  7.463152e+08\n",
       "14377         60850    TX  46835.007812  15904.038086  7.448657e+08\n",
       "14628         61712    TX  33571.246094  14010.416992  4.703472e+08\n",
       "6960          25327    MO  12508.783203  13525.498047  1.691875e+08\n",
       "8987          38686    NC  15900.470703  12249.720703  1.947763e+08\n",
       "31780        135336    FL  95542.593750  12184.659180  1.164154e+09\n",
       "19620         83988    CA  12765.500000  10092.767578  1.288392e+08\n",
       "36863        159723    CO  16615.960938   7437.457031  1.235805e+08\n",
       "4013          16074    OH  16507.593750   6990.998047  1.154046e+08"
      ]
     },
     "metadata": {},
     "output_type": "display_data"
    },
    {
     "name": "stdout",
     "output_type": "stream",
     "text": [
      "\n",
      "Most negative net-income changes (PTC cuts):\n"
     ]
    },
    {
     "data": {
      "text/html": [
       "<div>\n",
       "<style scoped>\n",
       "    .dataframe tbody tr th:only-of-type {\n",
       "        vertical-align: middle;\n",
       "    }\n",
       "\n",
       "    .dataframe tbody tr th {\n",
       "        vertical-align: top;\n",
       "    }\n",
       "\n",
       "    .dataframe thead th {\n",
       "        text-align: right;\n",
       "    }\n",
       "</style>\n",
       "<table border=\"1\" class=\"dataframe\">\n",
       "  <thead>\n",
       "    <tr style=\"text-align: right;\">\n",
       "      <th></th>\n",
       "      <th>household_id</th>\n",
       "      <th>State</th>\n",
       "      <th>weight</th>\n",
       "      <th>net_change</th>\n",
       "      <th>wt_change</th>\n",
       "    </tr>\n",
       "  </thead>\n",
       "  <tbody>\n",
       "    <tr>\n",
       "      <th>15</th>\n",
       "      <td>99</td>\n",
       "      <td>ME</td>\n",
       "      <td>12122.632812</td>\n",
       "      <td>0.0</td>\n",
       "      <td>0.0</td>\n",
       "    </tr>\n",
       "    <tr>\n",
       "      <th>24</th>\n",
       "      <td>188</td>\n",
       "      <td>ME</td>\n",
       "      <td>14602.563477</td>\n",
       "      <td>0.0</td>\n",
       "      <td>0.0</td>\n",
       "    </tr>\n",
       "    <tr>\n",
       "      <th>27</th>\n",
       "      <td>206</td>\n",
       "      <td>ME</td>\n",
       "      <td>13875.028320</td>\n",
       "      <td>0.0</td>\n",
       "      <td>0.0</td>\n",
       "    </tr>\n",
       "    <tr>\n",
       "      <th>30</th>\n",
       "      <td>261</td>\n",
       "      <td>ME</td>\n",
       "      <td>25312.886719</td>\n",
       "      <td>0.0</td>\n",
       "      <td>0.0</td>\n",
       "    </tr>\n",
       "    <tr>\n",
       "      <th>31</th>\n",
       "      <td>275</td>\n",
       "      <td>ME</td>\n",
       "      <td>19168.126953</td>\n",
       "      <td>0.0</td>\n",
       "      <td>0.0</td>\n",
       "    </tr>\n",
       "    <tr>\n",
       "      <th>32</th>\n",
       "      <td>284</td>\n",
       "      <td>ME</td>\n",
       "      <td>30920.968750</td>\n",
       "      <td>0.0</td>\n",
       "      <td>0.0</td>\n",
       "    </tr>\n",
       "    <tr>\n",
       "      <th>35</th>\n",
       "      <td>315</td>\n",
       "      <td>ME</td>\n",
       "      <td>13098.019531</td>\n",
       "      <td>0.0</td>\n",
       "      <td>0.0</td>\n",
       "    </tr>\n",
       "    <tr>\n",
       "      <th>41</th>\n",
       "      <td>339</td>\n",
       "      <td>ME</td>\n",
       "      <td>18794.173828</td>\n",
       "      <td>0.0</td>\n",
       "      <td>0.0</td>\n",
       "    </tr>\n",
       "    <tr>\n",
       "      <th>44</th>\n",
       "      <td>356</td>\n",
       "      <td>ME</td>\n",
       "      <td>36464.535156</td>\n",
       "      <td>0.0</td>\n",
       "      <td>0.0</td>\n",
       "    </tr>\n",
       "    <tr>\n",
       "      <th>47</th>\n",
       "      <td>380</td>\n",
       "      <td>ME</td>\n",
       "      <td>43613.914062</td>\n",
       "      <td>0.0</td>\n",
       "      <td>0.0</td>\n",
       "    </tr>\n",
       "  </tbody>\n",
       "</table>\n",
       "</div>"
      ],
      "text/plain": [
       "    household_id State        weight  net_change  wt_change\n",
       "15            99    ME  12122.632812         0.0        0.0\n",
       "24           188    ME  14602.563477         0.0        0.0\n",
       "27           206    ME  13875.028320         0.0        0.0\n",
       "30           261    ME  25312.886719         0.0        0.0\n",
       "31           275    ME  19168.126953         0.0        0.0\n",
       "32           284    ME  30920.968750         0.0        0.0\n",
       "35           315    ME  13098.019531         0.0        0.0\n",
       "41           339    ME  18794.173828         0.0        0.0\n",
       "44           356    ME  36464.535156         0.0        0.0\n",
       "47           380    ME  43613.914062         0.0        0.0"
      ]
     },
     "metadata": {},
     "output_type": "display_data"
    }
   ],
   "source": [
    "# -------------------------------------------------------------\n",
    "# 0️⃣  Make sure the CPS household weight is in the DataFrame\n",
    "# -------------------------------------------------------------\n",
    "# If you already stuffed it in earlier, skip this.\n",
    "df_outputs[\"weight\"] = aca_baseline.weights    # aligns by household_id\n",
    "\n",
    "# -------------------------------------------------------------\n",
    "# 1️⃣  Define a weight threshold for “reasonably representative”\n",
    "# -------------------------------------------------------------\n",
    "MIN_WT = 10_000          # ↖ try 5_000 if you want a looser cut\n",
    "\n",
    "df_big = df_outputs[df_outputs[\"weight\"] >= MIN_WT].copy()\n",
    "\n",
    "# -------------------------------------------------------------\n",
    "# 2️⃣  Net PTC change and (optionally) weighted national impact\n",
    "# -------------------------------------------------------------\n",
    "df_big[\"net_change\"] = df_big[\"aca_reform\"] - df_big[\"aca_baseline\"]\n",
    "df_big[\"wt_change\"]  = df_big[\"net_change\"] * df_big[\"weight\"]  # national $ impact\n",
    "\n",
    "# -------------------------------------------------------------\n",
    "# 3️⃣  Biggest ↑ increases and ↓ decreases, LIMITED to big-weight HHs\n",
    "# -------------------------------------------------------------\n",
    "N = 10   # how many households to show in each direction\n",
    "\n",
    "cols = [\"household_id\", \"State\", \"weight\", \"net_change\", \"wt_change\"]\n",
    "\n",
    "top_increases = df_big.nlargest(N, \"net_change\")[cols]\n",
    "top_decreases = df_big.nsmallest(N, \"net_change\")[cols]\n",
    "\n",
    "print(\"Most positive net-income changes (PTC boosts):\")\n",
    "display(top_increases)\n",
    "\n",
    "print(\"\\nMost negative net-income changes (PTC cuts):\")\n",
    "display(top_decreases)\n"
   ]
  },
  {
   "cell_type": "code",
   "execution_count": 74,
   "metadata": {},
   "outputs": [
    {
     "data": {
      "text/html": [
       "<div>\n",
       "<style scoped>\n",
       "    .dataframe tbody tr th:only-of-type {\n",
       "        vertical-align: middle;\n",
       "    }\n",
       "\n",
       "    .dataframe tbody tr th {\n",
       "        vertical-align: top;\n",
       "    }\n",
       "\n",
       "    .dataframe thead th {\n",
       "        text-align: right;\n",
       "    }\n",
       "</style>\n",
       "<table border=\"1\" class=\"dataframe\">\n",
       "  <thead>\n",
       "    <tr style=\"text-align: right;\">\n",
       "      <th></th>\n",
       "      <th>household_id</th>\n",
       "      <th>State</th>\n",
       "      <th>Married</th>\n",
       "      <th>Num_Dependents</th>\n",
       "      <th>Employment_Income</th>\n",
       "      <th>Self_Employment_Income</th>\n",
       "      <th>aca_baseline</th>\n",
       "      <th>aca_reform</th>\n",
       "      <th>weight</th>\n",
       "    </tr>\n",
       "  </thead>\n",
       "  <tbody>\n",
       "    <tr>\n",
       "      <th>19620</th>\n",
       "      <td>83988</td>\n",
       "      <td>CA</td>\n",
       "      <td>1.0</td>\n",
       "      <td>2.0</td>\n",
       "      <td>160877.21875</td>\n",
       "      <td>0.0</td>\n",
       "      <td>0.0</td>\n",
       "      <td>10092.767578</td>\n",
       "      <td>12765.5</td>\n",
       "    </tr>\n",
       "  </tbody>\n",
       "</table>\n",
       "</div>"
      ],
      "text/plain": [
       "       household_id State  Married  Num_Dependents  Employment_Income  \\\n",
       "19620         83988    CA      1.0             2.0       160877.21875   \n",
       "\n",
       "       Self_Employment_Income  aca_baseline    aca_reform   weight  \n",
       "19620                     0.0           0.0  10092.767578  12765.5  "
      ]
     },
     "execution_count": 74,
     "metadata": {},
     "output_type": "execute_result"
    }
   ],
   "source": [
    "df_outputs[df_outputs['household_id'] == 83988]\n"
   ]
  },
  {
   "cell_type": "code",
   "execution_count": 75,
   "metadata": {},
   "outputs": [
    {
     "name": "stdout",
     "output_type": "stream",
     "text": [
      "Average weighted PTC change among households with any change: $2,264.49\n"
     ]
    }
   ],
   "source": [
    "# 0. Make sure net_change exists\n",
    "df_outputs[\"net_change\"] = df_outputs[\"aca_reform\"] - df_outputs[\"aca_baseline\"]\n",
    "\n",
    "# 1. Flag households with any change\n",
    "mask = df_outputs[\"net_change\"] != 0          # True for ↑ or ↓\n",
    "\n",
    "# 2. Weighted mean among those households\n",
    "avg_net_change = (\n",
    "    (df_outputs.loc[mask, \"net_change\"] * df_outputs.loc[mask, \"weight\"]).sum()\n",
    "    / df_outputs.loc[mask, \"weight\"].sum()\n",
    ")\n",
    "\n",
    "print(f\"Average weighted PTC change among households with any change: \"\n",
    "      f\"${avg_net_change:,.2f}\")\n"
   ]
  },
  {
   "cell_type": "code",
   "execution_count": 76,
   "metadata": {},
   "outputs": [
    {
     "name": "stdout",
     "output_type": "stream",
     "text": [
      "Average weighted PTC change among households with a PTC in both baseline and reform: $1,654.84\n"
     ]
    }
   ],
   "source": [
    "# ------------------------------------------------------------------\n",
    "# 0.  Ensure supporting columns exist\n",
    "# ------------------------------------------------------------------\n",
    "df_outputs[\"net_change\"] = df_outputs[\"aca_reform\"] - df_outputs[\"aca_baseline\"]\n",
    "\n",
    "# ------------------------------------------------------------------\n",
    "# 1.  Keep only households with a PTC in *both* scenarios\n",
    "# ------------------------------------------------------------------\n",
    "mask_both_ptc = (df_outputs[\"aca_baseline\"] > 0) & (df_outputs[\"aca_reform\"] > 0)\n",
    "df_dual_ptc   = df_outputs[mask_both_ptc]\n",
    "\n",
    "# ------------------------------------------------------------------\n",
    "# 2.  Weighted average of the net change (household perspective)\n",
    "# ------------------------------------------------------------------\n",
    "avg_net_change_dual_hh = (\n",
    "    (df_dual_ptc[\"net_change\"] * df_dual_ptc[\"weight\"]).sum()\n",
    "    / df_dual_ptc[\"weight\"].sum()\n",
    ")\n",
    "\n",
    "print(f\"Average weighted PTC change among households with a PTC in both \"\n",
    "      f\"baseline and reform: ${avg_net_change_dual_hh:,.2f}\")\n"
   ]
  },
  {
   "cell_type": "code",
   "execution_count": 92,
   "metadata": {},
   "outputs": [
    {
     "data": {
      "text/plain": [
       "30.206960672172997"
      ]
     },
     "execution_count": 92,
     "metadata": {},
     "output_type": "execute_result"
    }
   ],
   "source": [
    "import numpy as np\n",
    "from policyengine_us import Simulation\n",
    "\n",
    "# -------------------------------\n",
    "# 1. Pull household-level results\n",
    "# -------------------------------\n",
    "# ACA PTC (baseline and reform)\n",
    "ptc_base   = baseline.calculate(\"aca_ptc\", map_to=\"household\", period=2026)\n",
    "ptc_reform = reformed.calculate(\"aca_ptc\",   map_to=\"household\", period=2026)\n",
    "\n",
    "# Household weights (same for both sims)\n",
    "hh_wt      = baseline.calculate(\"household_weight\", map_to=\"household\", period=2026)\n",
    "\n",
    "# -------------------------------\n",
    "# 2. Weighted sum of the change\n",
    "# -------------------------------\n",
    "weighted_total_change = ptc_reform - ptc_base\n",
    "\n",
    "# Optional: average change per household\n",
    "weighted_total_change.sum()/1e9"
   ]
  },
  {
   "cell_type": "code",
   "execution_count": 104,
   "metadata": {},
   "outputs": [
    {
     "data": {
      "application/vnd.plotly.v1+json": {
       "config": {
        "plotlyServerURL": "https://plot.ly"
       },
       "data": [
        {
         "marker": {
          "color": [
           "#2C6496",
           "#2C6496",
           "#2C6496",
           "#2C6496",
           "#2C6496",
           "#2C6496",
           "#2C6496",
           "#2C6496",
           "#2C6496",
           "#2C6496"
          ]
         },
         "text": [
          "$102",
          "$141",
          "$148",
          "$156",
          "$191",
          "$464",
          "$233",
          "$281",
          "$161",
          "$108"
         ],
         "textposition": "inside",
         "type": "bar",
         "x": [
          1,
          2,
          3,
          4,
          5,
          6,
          7,
          8,
          9,
          10
         ],
         "y": [
          102.4264144897461,
          140.80027770996094,
          147.8699188232422,
          156.31858825683594,
          191.30772399902344,
          463.7459716796875,
          232.62808227539062,
          280.5216979980469,
          161.26075744628906,
          107.7364501953125
         ]
        }
       ],
       "layout": {
        "shapes": [
         {
          "line": {
           "color": "black",
           "width": 1
          },
          "type": "line",
          "x0": 0,
          "x1": 1,
          "xref": "x domain",
          "y0": 0,
          "y1": 0,
          "yref": "y"
         }
        ],
        "showlegend": false,
        "template": {
         "data": {
          "bar": [
           {
            "error_x": {
             "color": "#2a3f5f"
            },
            "error_y": {
             "color": "#2a3f5f"
            },
            "marker": {
             "line": {
              "color": "#E5ECF6",
              "width": 0.5
             },
             "pattern": {
              "fillmode": "overlay",
              "size": 10,
              "solidity": 0.2
             }
            },
            "type": "bar"
           }
          ],
          "barpolar": [
           {
            "marker": {
             "line": {
              "color": "#E5ECF6",
              "width": 0.5
             },
             "pattern": {
              "fillmode": "overlay",
              "size": 10,
              "solidity": 0.2
             }
            },
            "type": "barpolar"
           }
          ],
          "carpet": [
           {
            "aaxis": {
             "endlinecolor": "#2a3f5f",
             "gridcolor": "white",
             "linecolor": "white",
             "minorgridcolor": "white",
             "startlinecolor": "#2a3f5f"
            },
            "baxis": {
             "endlinecolor": "#2a3f5f",
             "gridcolor": "white",
             "linecolor": "white",
             "minorgridcolor": "white",
             "startlinecolor": "#2a3f5f"
            },
            "type": "carpet"
           }
          ],
          "choropleth": [
           {
            "colorbar": {
             "outlinewidth": 0,
             "ticks": ""
            },
            "type": "choropleth"
           }
          ],
          "contour": [
           {
            "colorbar": {
             "outlinewidth": 0,
             "ticks": ""
            },
            "colorscale": [
             [
              0,
              "#0d0887"
             ],
             [
              0.1111111111111111,
              "#46039f"
             ],
             [
              0.2222222222222222,
              "#7201a8"
             ],
             [
              0.3333333333333333,
              "#9c179e"
             ],
             [
              0.4444444444444444,
              "#bd3786"
             ],
             [
              0.5555555555555556,
              "#d8576b"
             ],
             [
              0.6666666666666666,
              "#ed7953"
             ],
             [
              0.7777777777777778,
              "#fb9f3a"
             ],
             [
              0.8888888888888888,
              "#fdca26"
             ],
             [
              1,
              "#f0f921"
             ]
            ],
            "type": "contour"
           }
          ],
          "contourcarpet": [
           {
            "colorbar": {
             "outlinewidth": 0,
             "ticks": ""
            },
            "type": "contourcarpet"
           }
          ],
          "heatmap": [
           {
            "colorbar": {
             "outlinewidth": 0,
             "ticks": ""
            },
            "colorscale": [
             [
              0,
              "#0d0887"
             ],
             [
              0.1111111111111111,
              "#46039f"
             ],
             [
              0.2222222222222222,
              "#7201a8"
             ],
             [
              0.3333333333333333,
              "#9c179e"
             ],
             [
              0.4444444444444444,
              "#bd3786"
             ],
             [
              0.5555555555555556,
              "#d8576b"
             ],
             [
              0.6666666666666666,
              "#ed7953"
             ],
             [
              0.7777777777777778,
              "#fb9f3a"
             ],
             [
              0.8888888888888888,
              "#fdca26"
             ],
             [
              1,
              "#f0f921"
             ]
            ],
            "type": "heatmap"
           }
          ],
          "heatmapgl": [
           {
            "colorbar": {
             "outlinewidth": 0,
             "ticks": ""
            },
            "colorscale": [
             [
              0,
              "#0d0887"
             ],
             [
              0.1111111111111111,
              "#46039f"
             ],
             [
              0.2222222222222222,
              "#7201a8"
             ],
             [
              0.3333333333333333,
              "#9c179e"
             ],
             [
              0.4444444444444444,
              "#bd3786"
             ],
             [
              0.5555555555555556,
              "#d8576b"
             ],
             [
              0.6666666666666666,
              "#ed7953"
             ],
             [
              0.7777777777777778,
              "#fb9f3a"
             ],
             [
              0.8888888888888888,
              "#fdca26"
             ],
             [
              1,
              "#f0f921"
             ]
            ],
            "type": "heatmapgl"
           }
          ],
          "histogram": [
           {
            "marker": {
             "pattern": {
              "fillmode": "overlay",
              "size": 10,
              "solidity": 0.2
             }
            },
            "type": "histogram"
           }
          ],
          "histogram2d": [
           {
            "colorbar": {
             "outlinewidth": 0,
             "ticks": ""
            },
            "colorscale": [
             [
              0,
              "#0d0887"
             ],
             [
              0.1111111111111111,
              "#46039f"
             ],
             [
              0.2222222222222222,
              "#7201a8"
             ],
             [
              0.3333333333333333,
              "#9c179e"
             ],
             [
              0.4444444444444444,
              "#bd3786"
             ],
             [
              0.5555555555555556,
              "#d8576b"
             ],
             [
              0.6666666666666666,
              "#ed7953"
             ],
             [
              0.7777777777777778,
              "#fb9f3a"
             ],
             [
              0.8888888888888888,
              "#fdca26"
             ],
             [
              1,
              "#f0f921"
             ]
            ],
            "type": "histogram2d"
           }
          ],
          "histogram2dcontour": [
           {
            "colorbar": {
             "outlinewidth": 0,
             "ticks": ""
            },
            "colorscale": [
             [
              0,
              "#0d0887"
             ],
             [
              0.1111111111111111,
              "#46039f"
             ],
             [
              0.2222222222222222,
              "#7201a8"
             ],
             [
              0.3333333333333333,
              "#9c179e"
             ],
             [
              0.4444444444444444,
              "#bd3786"
             ],
             [
              0.5555555555555556,
              "#d8576b"
             ],
             [
              0.6666666666666666,
              "#ed7953"
             ],
             [
              0.7777777777777778,
              "#fb9f3a"
             ],
             [
              0.8888888888888888,
              "#fdca26"
             ],
             [
              1,
              "#f0f921"
             ]
            ],
            "type": "histogram2dcontour"
           }
          ],
          "mesh3d": [
           {
            "colorbar": {
             "outlinewidth": 0,
             "ticks": ""
            },
            "type": "mesh3d"
           }
          ],
          "parcoords": [
           {
            "line": {
             "colorbar": {
              "outlinewidth": 0,
              "ticks": ""
             }
            },
            "type": "parcoords"
           }
          ],
          "pie": [
           {
            "automargin": true,
            "type": "pie"
           }
          ],
          "scatter": [
           {
            "fillpattern": {
             "fillmode": "overlay",
             "size": 10,
             "solidity": 0.2
            },
            "type": "scatter"
           }
          ],
          "scatter3d": [
           {
            "line": {
             "colorbar": {
              "outlinewidth": 0,
              "ticks": ""
             }
            },
            "marker": {
             "colorbar": {
              "outlinewidth": 0,
              "ticks": ""
             }
            },
            "type": "scatter3d"
           }
          ],
          "scattercarpet": [
           {
            "marker": {
             "colorbar": {
              "outlinewidth": 0,
              "ticks": ""
             }
            },
            "type": "scattercarpet"
           }
          ],
          "scattergeo": [
           {
            "marker": {
             "colorbar": {
              "outlinewidth": 0,
              "ticks": ""
             }
            },
            "type": "scattergeo"
           }
          ],
          "scattergl": [
           {
            "marker": {
             "colorbar": {
              "outlinewidth": 0,
              "ticks": ""
             }
            },
            "type": "scattergl"
           }
          ],
          "scattermapbox": [
           {
            "marker": {
             "colorbar": {
              "outlinewidth": 0,
              "ticks": ""
             }
            },
            "type": "scattermapbox"
           }
          ],
          "scatterpolar": [
           {
            "marker": {
             "colorbar": {
              "outlinewidth": 0,
              "ticks": ""
             }
            },
            "type": "scatterpolar"
           }
          ],
          "scatterpolargl": [
           {
            "marker": {
             "colorbar": {
              "outlinewidth": 0,
              "ticks": ""
             }
            },
            "type": "scatterpolargl"
           }
          ],
          "scatterternary": [
           {
            "marker": {
             "colorbar": {
              "outlinewidth": 0,
              "ticks": ""
             }
            },
            "type": "scatterternary"
           }
          ],
          "surface": [
           {
            "colorbar": {
             "outlinewidth": 0,
             "ticks": ""
            },
            "colorscale": [
             [
              0,
              "#0d0887"
             ],
             [
              0.1111111111111111,
              "#46039f"
             ],
             [
              0.2222222222222222,
              "#7201a8"
             ],
             [
              0.3333333333333333,
              "#9c179e"
             ],
             [
              0.4444444444444444,
              "#bd3786"
             ],
             [
              0.5555555555555556,
              "#d8576b"
             ],
             [
              0.6666666666666666,
              "#ed7953"
             ],
             [
              0.7777777777777778,
              "#fb9f3a"
             ],
             [
              0.8888888888888888,
              "#fdca26"
             ],
             [
              1,
              "#f0f921"
             ]
            ],
            "type": "surface"
           }
          ],
          "table": [
           {
            "cells": {
             "fill": {
              "color": "#EBF0F8"
             },
             "line": {
              "color": "white"
             }
            },
            "header": {
             "fill": {
              "color": "#C8D4E3"
             },
             "line": {
              "color": "white"
             }
            },
            "type": "table"
           }
          ]
         },
         "layout": {
          "annotationdefaults": {
           "arrowcolor": "#2a3f5f",
           "arrowhead": 0,
           "arrowwidth": 1
          },
          "autotypenumbers": "strict",
          "coloraxis": {
           "colorbar": {
            "outlinewidth": 0,
            "ticks": ""
           }
          },
          "colorscale": {
           "diverging": [
            [
             0,
             "#8e0152"
            ],
            [
             0.1,
             "#c51b7d"
            ],
            [
             0.2,
             "#de77ae"
            ],
            [
             0.3,
             "#f1b6da"
            ],
            [
             0.4,
             "#fde0ef"
            ],
            [
             0.5,
             "#f7f7f7"
            ],
            [
             0.6,
             "#e6f5d0"
            ],
            [
             0.7,
             "#b8e186"
            ],
            [
             0.8,
             "#7fbc41"
            ],
            [
             0.9,
             "#4d9221"
            ],
            [
             1,
             "#276419"
            ]
           ],
           "sequential": [
            [
             0,
             "#0d0887"
            ],
            [
             0.1111111111111111,
             "#46039f"
            ],
            [
             0.2222222222222222,
             "#7201a8"
            ],
            [
             0.3333333333333333,
             "#9c179e"
            ],
            [
             0.4444444444444444,
             "#bd3786"
            ],
            [
             0.5555555555555556,
             "#d8576b"
            ],
            [
             0.6666666666666666,
             "#ed7953"
            ],
            [
             0.7777777777777778,
             "#fb9f3a"
            ],
            [
             0.8888888888888888,
             "#fdca26"
            ],
            [
             1,
             "#f0f921"
            ]
           ],
           "sequentialminus": [
            [
             0,
             "#0d0887"
            ],
            [
             0.1111111111111111,
             "#46039f"
            ],
            [
             0.2222222222222222,
             "#7201a8"
            ],
            [
             0.3333333333333333,
             "#9c179e"
            ],
            [
             0.4444444444444444,
             "#bd3786"
            ],
            [
             0.5555555555555556,
             "#d8576b"
            ],
            [
             0.6666666666666666,
             "#ed7953"
            ],
            [
             0.7777777777777778,
             "#fb9f3a"
            ],
            [
             0.8888888888888888,
             "#fdca26"
            ],
            [
             1,
             "#f0f921"
            ]
           ]
          },
          "colorway": [
           "#636efa",
           "#EF553B",
           "#00cc96",
           "#ab63fa",
           "#FFA15A",
           "#19d3f3",
           "#FF6692",
           "#B6E880",
           "#FF97FF",
           "#FECB52"
          ],
          "font": {
           "color": "#2a3f5f"
          },
          "geo": {
           "bgcolor": "white",
           "lakecolor": "white",
           "landcolor": "#E5ECF6",
           "showlakes": true,
           "showland": true,
           "subunitcolor": "white"
          },
          "hoverlabel": {
           "align": "left"
          },
          "hovermode": "closest",
          "mapbox": {
           "style": "light"
          },
          "paper_bgcolor": "white",
          "plot_bgcolor": "#E5ECF6",
          "polar": {
           "angularaxis": {
            "gridcolor": "white",
            "linecolor": "white",
            "ticks": ""
           },
           "bgcolor": "#E5ECF6",
           "radialaxis": {
            "gridcolor": "white",
            "linecolor": "white",
            "ticks": ""
           }
          },
          "scene": {
           "xaxis": {
            "backgroundcolor": "#E5ECF6",
            "gridcolor": "white",
            "gridwidth": 2,
            "linecolor": "white",
            "showbackground": true,
            "ticks": "",
            "zerolinecolor": "white"
           },
           "yaxis": {
            "backgroundcolor": "#E5ECF6",
            "gridcolor": "white",
            "gridwidth": 2,
            "linecolor": "white",
            "showbackground": true,
            "ticks": "",
            "zerolinecolor": "white"
           },
           "zaxis": {
            "backgroundcolor": "#E5ECF6",
            "gridcolor": "white",
            "gridwidth": 2,
            "linecolor": "white",
            "showbackground": true,
            "ticks": "",
            "zerolinecolor": "white"
           }
          },
          "shapedefaults": {
           "line": {
            "color": "#2a3f5f"
           }
          },
          "ternary": {
           "aaxis": {
            "gridcolor": "white",
            "linecolor": "white",
            "ticks": ""
           },
           "baxis": {
            "gridcolor": "white",
            "linecolor": "white",
            "ticks": ""
           },
           "bgcolor": "#E5ECF6",
           "caxis": {
            "gridcolor": "white",
            "linecolor": "white",
            "ticks": ""
           }
          },
          "title": {
           "x": 0.05
          },
          "xaxis": {
           "automargin": true,
           "gridcolor": "white",
           "linecolor": "white",
           "ticks": "",
           "title": {
            "standoff": 15
           },
           "zerolinecolor": "white",
           "zerolinewidth": 2
          },
          "yaxis": {
           "automargin": true,
           "gridcolor": "white",
           "linecolor": "white",
           "ticks": "",
           "title": {
            "standoff": 15
           },
           "zerolinecolor": "white",
           "zerolinewidth": 2
          }
         }
        },
        "title": {
         "text": "Impact of Extending IRA PTC Expansion by Income Decile – 2026"
        },
        "xaxis": {
         "title": {
          "text": "Income Decile"
         }
        },
        "yaxis": {
         "title": {
          "text": "Average change in household net income ($)"
         }
        }
       }
      }
     },
     "metadata": {},
     "output_type": "display_data"
    },
    {
     "data": {
      "application/vnd.plotly.v1+json": {
       "config": {
        "plotlyServerURL": "https://plot.ly"
       },
       "data": [
        {
         "marker": {
          "color": [
           "#2C6496",
           "#2C6496",
           "#2C6496",
           "#2C6496",
           "#2C6496",
           "#2C6496",
           "#2C6496",
           "#2C6496",
           "#2C6496",
           "#2C6496"
          ]
         },
         "text": [
          "$102",
          "$141",
          "$148",
          "$156",
          "$191",
          "$464",
          "$233",
          "$281",
          "$161",
          "$108"
         ],
         "textposition": "inside",
         "type": "bar",
         "x": [
          1,
          2,
          3,
          4,
          5,
          6,
          7,
          8,
          9,
          10
         ],
         "y": [
          102.4264144897461,
          140.80027770996094,
          147.8699188232422,
          156.31858825683594,
          191.30772399902344,
          463.7459716796875,
          232.62808227539062,
          280.5216979980469,
          161.26075744628906,
          107.7364501953125
         ]
        }
       ],
       "layout": {
        "shapes": [
         {
          "line": {
           "color": "black",
           "width": 1
          },
          "type": "line",
          "x0": 0,
          "x1": 1,
          "xref": "x domain",
          "y0": 0,
          "y1": 0,
          "yref": "y"
         }
        ],
        "showlegend": false,
        "template": {
         "data": {
          "bar": [
           {
            "error_x": {
             "color": "#2a3f5f"
            },
            "error_y": {
             "color": "#2a3f5f"
            },
            "marker": {
             "line": {
              "color": "#E5ECF6",
              "width": 0.5
             },
             "pattern": {
              "fillmode": "overlay",
              "size": 10,
              "solidity": 0.2
             }
            },
            "type": "bar"
           }
          ],
          "barpolar": [
           {
            "marker": {
             "line": {
              "color": "#E5ECF6",
              "width": 0.5
             },
             "pattern": {
              "fillmode": "overlay",
              "size": 10,
              "solidity": 0.2
             }
            },
            "type": "barpolar"
           }
          ],
          "carpet": [
           {
            "aaxis": {
             "endlinecolor": "#2a3f5f",
             "gridcolor": "white",
             "linecolor": "white",
             "minorgridcolor": "white",
             "startlinecolor": "#2a3f5f"
            },
            "baxis": {
             "endlinecolor": "#2a3f5f",
             "gridcolor": "white",
             "linecolor": "white",
             "minorgridcolor": "white",
             "startlinecolor": "#2a3f5f"
            },
            "type": "carpet"
           }
          ],
          "choropleth": [
           {
            "colorbar": {
             "outlinewidth": 0,
             "ticks": ""
            },
            "type": "choropleth"
           }
          ],
          "contour": [
           {
            "colorbar": {
             "outlinewidth": 0,
             "ticks": ""
            },
            "colorscale": [
             [
              0,
              "#0d0887"
             ],
             [
              0.1111111111111111,
              "#46039f"
             ],
             [
              0.2222222222222222,
              "#7201a8"
             ],
             [
              0.3333333333333333,
              "#9c179e"
             ],
             [
              0.4444444444444444,
              "#bd3786"
             ],
             [
              0.5555555555555556,
              "#d8576b"
             ],
             [
              0.6666666666666666,
              "#ed7953"
             ],
             [
              0.7777777777777778,
              "#fb9f3a"
             ],
             [
              0.8888888888888888,
              "#fdca26"
             ],
             [
              1,
              "#f0f921"
             ]
            ],
            "type": "contour"
           }
          ],
          "contourcarpet": [
           {
            "colorbar": {
             "outlinewidth": 0,
             "ticks": ""
            },
            "type": "contourcarpet"
           }
          ],
          "heatmap": [
           {
            "colorbar": {
             "outlinewidth": 0,
             "ticks": ""
            },
            "colorscale": [
             [
              0,
              "#0d0887"
             ],
             [
              0.1111111111111111,
              "#46039f"
             ],
             [
              0.2222222222222222,
              "#7201a8"
             ],
             [
              0.3333333333333333,
              "#9c179e"
             ],
             [
              0.4444444444444444,
              "#bd3786"
             ],
             [
              0.5555555555555556,
              "#d8576b"
             ],
             [
              0.6666666666666666,
              "#ed7953"
             ],
             [
              0.7777777777777778,
              "#fb9f3a"
             ],
             [
              0.8888888888888888,
              "#fdca26"
             ],
             [
              1,
              "#f0f921"
             ]
            ],
            "type": "heatmap"
           }
          ],
          "heatmapgl": [
           {
            "colorbar": {
             "outlinewidth": 0,
             "ticks": ""
            },
            "colorscale": [
             [
              0,
              "#0d0887"
             ],
             [
              0.1111111111111111,
              "#46039f"
             ],
             [
              0.2222222222222222,
              "#7201a8"
             ],
             [
              0.3333333333333333,
              "#9c179e"
             ],
             [
              0.4444444444444444,
              "#bd3786"
             ],
             [
              0.5555555555555556,
              "#d8576b"
             ],
             [
              0.6666666666666666,
              "#ed7953"
             ],
             [
              0.7777777777777778,
              "#fb9f3a"
             ],
             [
              0.8888888888888888,
              "#fdca26"
             ],
             [
              1,
              "#f0f921"
             ]
            ],
            "type": "heatmapgl"
           }
          ],
          "histogram": [
           {
            "marker": {
             "pattern": {
              "fillmode": "overlay",
              "size": 10,
              "solidity": 0.2
             }
            },
            "type": "histogram"
           }
          ],
          "histogram2d": [
           {
            "colorbar": {
             "outlinewidth": 0,
             "ticks": ""
            },
            "colorscale": [
             [
              0,
              "#0d0887"
             ],
             [
              0.1111111111111111,
              "#46039f"
             ],
             [
              0.2222222222222222,
              "#7201a8"
             ],
             [
              0.3333333333333333,
              "#9c179e"
             ],
             [
              0.4444444444444444,
              "#bd3786"
             ],
             [
              0.5555555555555556,
              "#d8576b"
             ],
             [
              0.6666666666666666,
              "#ed7953"
             ],
             [
              0.7777777777777778,
              "#fb9f3a"
             ],
             [
              0.8888888888888888,
              "#fdca26"
             ],
             [
              1,
              "#f0f921"
             ]
            ],
            "type": "histogram2d"
           }
          ],
          "histogram2dcontour": [
           {
            "colorbar": {
             "outlinewidth": 0,
             "ticks": ""
            },
            "colorscale": [
             [
              0,
              "#0d0887"
             ],
             [
              0.1111111111111111,
              "#46039f"
             ],
             [
              0.2222222222222222,
              "#7201a8"
             ],
             [
              0.3333333333333333,
              "#9c179e"
             ],
             [
              0.4444444444444444,
              "#bd3786"
             ],
             [
              0.5555555555555556,
              "#d8576b"
             ],
             [
              0.6666666666666666,
              "#ed7953"
             ],
             [
              0.7777777777777778,
              "#fb9f3a"
             ],
             [
              0.8888888888888888,
              "#fdca26"
             ],
             [
              1,
              "#f0f921"
             ]
            ],
            "type": "histogram2dcontour"
           }
          ],
          "mesh3d": [
           {
            "colorbar": {
             "outlinewidth": 0,
             "ticks": ""
            },
            "type": "mesh3d"
           }
          ],
          "parcoords": [
           {
            "line": {
             "colorbar": {
              "outlinewidth": 0,
              "ticks": ""
             }
            },
            "type": "parcoords"
           }
          ],
          "pie": [
           {
            "automargin": true,
            "type": "pie"
           }
          ],
          "scatter": [
           {
            "fillpattern": {
             "fillmode": "overlay",
             "size": 10,
             "solidity": 0.2
            },
            "type": "scatter"
           }
          ],
          "scatter3d": [
           {
            "line": {
             "colorbar": {
              "outlinewidth": 0,
              "ticks": ""
             }
            },
            "marker": {
             "colorbar": {
              "outlinewidth": 0,
              "ticks": ""
             }
            },
            "type": "scatter3d"
           }
          ],
          "scattercarpet": [
           {
            "marker": {
             "colorbar": {
              "outlinewidth": 0,
              "ticks": ""
             }
            },
            "type": "scattercarpet"
           }
          ],
          "scattergeo": [
           {
            "marker": {
             "colorbar": {
              "outlinewidth": 0,
              "ticks": ""
             }
            },
            "type": "scattergeo"
           }
          ],
          "scattergl": [
           {
            "marker": {
             "colorbar": {
              "outlinewidth": 0,
              "ticks": ""
             }
            },
            "type": "scattergl"
           }
          ],
          "scattermapbox": [
           {
            "marker": {
             "colorbar": {
              "outlinewidth": 0,
              "ticks": ""
             }
            },
            "type": "scattermapbox"
           }
          ],
          "scatterpolar": [
           {
            "marker": {
             "colorbar": {
              "outlinewidth": 0,
              "ticks": ""
             }
            },
            "type": "scatterpolar"
           }
          ],
          "scatterpolargl": [
           {
            "marker": {
             "colorbar": {
              "outlinewidth": 0,
              "ticks": ""
             }
            },
            "type": "scatterpolargl"
           }
          ],
          "scatterternary": [
           {
            "marker": {
             "colorbar": {
              "outlinewidth": 0,
              "ticks": ""
             }
            },
            "type": "scatterternary"
           }
          ],
          "surface": [
           {
            "colorbar": {
             "outlinewidth": 0,
             "ticks": ""
            },
            "colorscale": [
             [
              0,
              "#0d0887"
             ],
             [
              0.1111111111111111,
              "#46039f"
             ],
             [
              0.2222222222222222,
              "#7201a8"
             ],
             [
              0.3333333333333333,
              "#9c179e"
             ],
             [
              0.4444444444444444,
              "#bd3786"
             ],
             [
              0.5555555555555556,
              "#d8576b"
             ],
             [
              0.6666666666666666,
              "#ed7953"
             ],
             [
              0.7777777777777778,
              "#fb9f3a"
             ],
             [
              0.8888888888888888,
              "#fdca26"
             ],
             [
              1,
              "#f0f921"
             ]
            ],
            "type": "surface"
           }
          ],
          "table": [
           {
            "cells": {
             "fill": {
              "color": "#EBF0F8"
             },
             "line": {
              "color": "white"
             }
            },
            "header": {
             "fill": {
              "color": "#C8D4E3"
             },
             "line": {
              "color": "white"
             }
            },
            "type": "table"
           }
          ]
         },
         "layout": {
          "annotationdefaults": {
           "arrowcolor": "#2a3f5f",
           "arrowhead": 0,
           "arrowwidth": 1
          },
          "autotypenumbers": "strict",
          "coloraxis": {
           "colorbar": {
            "outlinewidth": 0,
            "ticks": ""
           }
          },
          "colorscale": {
           "diverging": [
            [
             0,
             "#8e0152"
            ],
            [
             0.1,
             "#c51b7d"
            ],
            [
             0.2,
             "#de77ae"
            ],
            [
             0.3,
             "#f1b6da"
            ],
            [
             0.4,
             "#fde0ef"
            ],
            [
             0.5,
             "#f7f7f7"
            ],
            [
             0.6,
             "#e6f5d0"
            ],
            [
             0.7,
             "#b8e186"
            ],
            [
             0.8,
             "#7fbc41"
            ],
            [
             0.9,
             "#4d9221"
            ],
            [
             1,
             "#276419"
            ]
           ],
           "sequential": [
            [
             0,
             "#0d0887"
            ],
            [
             0.1111111111111111,
             "#46039f"
            ],
            [
             0.2222222222222222,
             "#7201a8"
            ],
            [
             0.3333333333333333,
             "#9c179e"
            ],
            [
             0.4444444444444444,
             "#bd3786"
            ],
            [
             0.5555555555555556,
             "#d8576b"
            ],
            [
             0.6666666666666666,
             "#ed7953"
            ],
            [
             0.7777777777777778,
             "#fb9f3a"
            ],
            [
             0.8888888888888888,
             "#fdca26"
            ],
            [
             1,
             "#f0f921"
            ]
           ],
           "sequentialminus": [
            [
             0,
             "#0d0887"
            ],
            [
             0.1111111111111111,
             "#46039f"
            ],
            [
             0.2222222222222222,
             "#7201a8"
            ],
            [
             0.3333333333333333,
             "#9c179e"
            ],
            [
             0.4444444444444444,
             "#bd3786"
            ],
            [
             0.5555555555555556,
             "#d8576b"
            ],
            [
             0.6666666666666666,
             "#ed7953"
            ],
            [
             0.7777777777777778,
             "#fb9f3a"
            ],
            [
             0.8888888888888888,
             "#fdca26"
            ],
            [
             1,
             "#f0f921"
            ]
           ]
          },
          "colorway": [
           "#636efa",
           "#EF553B",
           "#00cc96",
           "#ab63fa",
           "#FFA15A",
           "#19d3f3",
           "#FF6692",
           "#B6E880",
           "#FF97FF",
           "#FECB52"
          ],
          "font": {
           "color": "#2a3f5f"
          },
          "geo": {
           "bgcolor": "white",
           "lakecolor": "white",
           "landcolor": "#E5ECF6",
           "showlakes": true,
           "showland": true,
           "subunitcolor": "white"
          },
          "hoverlabel": {
           "align": "left"
          },
          "hovermode": "closest",
          "mapbox": {
           "style": "light"
          },
          "paper_bgcolor": "white",
          "plot_bgcolor": "#E5ECF6",
          "polar": {
           "angularaxis": {
            "gridcolor": "white",
            "linecolor": "white",
            "ticks": ""
           },
           "bgcolor": "#E5ECF6",
           "radialaxis": {
            "gridcolor": "white",
            "linecolor": "white",
            "ticks": ""
           }
          },
          "scene": {
           "xaxis": {
            "backgroundcolor": "#E5ECF6",
            "gridcolor": "white",
            "gridwidth": 2,
            "linecolor": "white",
            "showbackground": true,
            "ticks": "",
            "zerolinecolor": "white"
           },
           "yaxis": {
            "backgroundcolor": "#E5ECF6",
            "gridcolor": "white",
            "gridwidth": 2,
            "linecolor": "white",
            "showbackground": true,
            "ticks": "",
            "zerolinecolor": "white"
           },
           "zaxis": {
            "backgroundcolor": "#E5ECF6",
            "gridcolor": "white",
            "gridwidth": 2,
            "linecolor": "white",
            "showbackground": true,
            "ticks": "",
            "zerolinecolor": "white"
           }
          },
          "shapedefaults": {
           "line": {
            "color": "#2a3f5f"
           }
          },
          "ternary": {
           "aaxis": {
            "gridcolor": "white",
            "linecolor": "white",
            "ticks": ""
           },
           "baxis": {
            "gridcolor": "white",
            "linecolor": "white",
            "ticks": ""
           },
           "bgcolor": "#E5ECF6",
           "caxis": {
            "gridcolor": "white",
            "linecolor": "white",
            "ticks": ""
           }
          },
          "title": {
           "x": 0.05
          },
          "xaxis": {
           "automargin": true,
           "gridcolor": "white",
           "linecolor": "white",
           "ticks": "",
           "title": {
            "standoff": 15
           },
           "zerolinecolor": "white",
           "zerolinewidth": 2
          },
          "yaxis": {
           "automargin": true,
           "gridcolor": "white",
           "linecolor": "white",
           "ticks": "",
           "title": {
            "standoff": 15
           },
           "zerolinecolor": "white",
           "zerolinewidth": 2
          }
         }
        },
        "title": {
         "text": "Impact of Extending IRA PTC Expansion by Income Decile – 2026"
        },
        "xaxis": {
         "dtick": 1,
         "title": {
          "text": "Income Decile"
         }
        },
        "yaxis": {
         "title": {
          "text": "Average change in household net income ($)"
         }
        }
       }
      }
     },
     "metadata": {},
     "output_type": "display_data"
    }
   ],
   "source": [
    "import numpy as np\n",
    "import pandas as pd\n",
    "import plotly.graph_objects as go\n",
    "\n",
    "# ------------------------------------------------------------------\n",
    "# Brand hex codes (one-to-one with style.colors)\n",
    "# ------------------------------------------------------------------\n",
    "COLOR_BLUE               = \"#2C6496\"   # style.colors.BLUE  / BLUE_PRIMARY\n",
    "COLOR_BLUE_LIGHT         = \"#D8E6F3\"   # style.colors.BLUE_LIGHT / BLUE_95\n",
    "COLOR_LIGHT_GRAY         = \"#F2F2F2\"   # style.colors.LIGHT_GRAY\n",
    "COLOR_MEDIUM_LIGHT_GRAY  = \"#BDBDBD\"   # style.colors.MEDIUM_LIGHT_GRAY\n",
    "COLOR_DARK_GRAY          = \"#616161\"   # style.colors.DARK_GRAY\n",
    "\n",
    "# ––– choose colours for positive vs. negative average bars –––\n",
    "POS_COLOR = COLOR_BLUE\n",
    "NEG_COLOR = COLOR_DARK_GRAY\n",
    "\n",
    "# ------------------------------------------------------------------\n",
    "# 1.  Pull baseline / reform net income + weights\n",
    "# ------------------------------------------------------------------\n",
    "net_base   = baseline.calculate(\n",
    "    \"household_net_income_including_health_benefits\", map_to=\"household\", period=2026\n",
    ")\n",
    "net_reform = reformed.calculate(\n",
    "    \"household_net_income_including_health_benefits\", map_to=\"household\", period=2026\n",
    ")\n",
    "weights    = baseline.calculate(\n",
    "    \"household_weight\", map_to=\"household\", period=2026\n",
    ")\n",
    "\n",
    "df = pd.DataFrame({\n",
    "    \"net_base\": net_base,\n",
    "    \"delta\":    net_reform - net_base,\n",
    "    \"weight\":   weights,\n",
    "})\n",
    "\n",
    "# ------------------------------------------------------------------\n",
    "# 2.  Weighted decile edges (baseline ranking)\n",
    "# ------------------------------------------------------------------\n",
    "def wquantile(values, qs, w):\n",
    "    srt = np.argsort(values)\n",
    "    values, w = values[srt], w[srt]\n",
    "    cum_w = np.cumsum(w) / np.sum(w)\n",
    "    return np.interp(qs, cum_w, values)\n",
    "\n",
    "edges = wquantile(df[\"net_base\"].values,\n",
    "                  np.linspace(0, 1, 11), df[\"weight\"].values)\n",
    "\n",
    "df[\"decile\"] = pd.cut(df[\"net_base\"],\n",
    "                      bins=edges,\n",
    "                      labels=np.arange(1, 11),\n",
    "                      include_lowest=True)\n",
    "\n",
    "# ------------------------------------------------------------------\n",
    "# 3.  Weighted average Δnet-income by decile\n",
    "# ------------------------------------------------------------------\n",
    "decile_avg = (\n",
    "    df.groupby(\"decile\")\n",
    "      .apply(lambda g: np.average(g[\"delta\"], weights=g[\"weight\"]))\n",
    "      .reset_index(name=\"avg_change\")\n",
    ")\n",
    "\n",
    "# ------------------------------------------------------------------\n",
    "# 4.  Use brand colours: blue if gain, dark-gray if loss\n",
    "# ------------------------------------------------------------------\n",
    "bar_colors = [\n",
    "    POS_COLOR if v >= 0 else NEG_COLOR\n",
    "    for v in decile_avg[\"avg_change\"]\n",
    "]\n",
    "\n",
    "# ------------------------------------------------------------------\n",
    "# 5.  Plot\n",
    "# ------------------------------------------------------------------\n",
    "fig = go.Figure(\n",
    "    data=[\n",
    "        go.Bar(\n",
    "            x=decile_avg[\"decile\"].astype(int),\n",
    "            y=decile_avg[\"avg_change\"],\n",
    "            marker_color=bar_colors,\n",
    "            text=decile_avg[\"avg_change\"].apply(lambda v: f\"${v:,.0f}\"),\n",
    "            textposition=\"inside\",\n",
    "        )\n",
    "    ],\n",
    "    layout=dict(\n",
    "        title=\"Impact of Extending IRA PTC Expansion by Income Decile – 2026\",\n",
    "        xaxis_title=\"Income Decile\",\n",
    "        yaxis_title=\"Average change in household net income ($)\",\n",
    "        showlegend=False,\n",
    "    )\n",
    ")\n",
    "fig.add_hline(y=0, line_width=1, line_color=\"black\")\n",
    "fig.show()\n",
    "fig.update_xaxes(dtick=1)        # show 1-10 instead of only the evens\n"
   ]
  }
 ],
 "metadata": {
  "kernelspec": {
   "display_name": "policyengine",
   "language": "python",
   "name": "python3"
  },
  "language_info": {
   "codemirror_mode": {
    "name": "ipython",
    "version": 3
   },
   "file_extension": ".py",
   "mimetype": "text/x-python",
   "name": "python",
   "nbconvert_exporter": "python",
   "pygments_lexer": "ipython3",
   "version": "3.10.16"
  }
 },
 "nbformat": 4,
 "nbformat_minor": 2
}
