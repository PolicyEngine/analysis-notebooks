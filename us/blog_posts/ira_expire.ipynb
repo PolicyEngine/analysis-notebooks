{
 "cells": [
  {
   "cell_type": "code",
   "execution_count": 1,
   "metadata": {},
   "outputs": [
    {
     "name": "stderr",
     "output_type": "stream",
     "text": [
      "/Users/daphnehansell/miniconda3/envs/policyengine/lib/python3.10/site-packages/tqdm/auto.py:21: TqdmWarning: IProgress not found. Please update jupyter and ipywidgets. See https://ipywidgets.readthedocs.io/en/stable/user_install.html\n",
      "  from .autonotebook import tqdm as notebook_tqdm\n"
     ]
    }
   ],
   "source": [
    "from policyengine_us import Microsimulation\n",
    "from policyengine_core.reforms import Reform\n",
    "import pandas as pd\n",
    "\n",
    "baseline = Microsimulation(dataset=\"hf://policyengine/policyengine-us-data/enhanced_cps_2024.h5\")"
   ]
  },
  {
   "cell_type": "code",
   "execution_count": 2,
   "metadata": {},
   "outputs": [],
   "source": [
    "reform = Reform.from_dict({\n",
    "  \"gov.aca.ptc_phase_out_rate[0].amount\": {\n",
    "    \"2026-01-01.2100-12-31\": 0\n",
    "  },\n",
    "  \"gov.aca.ptc_phase_out_rate[1].amount\": {\n",
    "    \"2025-01-01.2100-12-31\": 0\n",
    "  },\n",
    "  \"gov.aca.ptc_phase_out_rate[2].amount\": {\n",
    "    \"2026-01-01.2100-12-31\": 0\n",
    "  },\n",
    "  \"gov.aca.ptc_phase_out_rate[3].amount\": {\n",
    "    \"2026-01-01.2100-12-31\": 0.02\n",
    "  },\n",
    "  \"gov.aca.ptc_phase_out_rate[4].amount\": {\n",
    "    \"2026-01-01.2100-12-31\": 0.04\n",
    "  },\n",
    "  \"gov.aca.ptc_phase_out_rate[5].amount\": {\n",
    "    \"2026-01-01.2100-12-31\": 0.06\n",
    "  },\n",
    "  \"gov.aca.ptc_phase_out_rate[6].amount\": {\n",
    "    \"2026-01-01.2100-12-31\": 0.085\n",
    "  },\n",
    "  \"gov.aca.ptc_income_eligibility[2].amount\": {\n",
    "    \"2026-01-01.2100-12-31\": True\n",
    "  }\n",
    "}, country_id=\"us\")\n",
    "\n",
    "\n"
   ]
  },
  {
   "cell_type": "code",
   "execution_count": 3,
   "metadata": {},
   "outputs": [],
   "source": [
    "baseline = Microsimulation(dataset=\"hf://policyengine/policyengine-us-data/enhanced_cps_2024.h5\")\n",
    "reformed = Microsimulation(reform=reform, dataset=\"hf://policyengine/policyengine-us-data/enhanced_cps_2024.h5\")\n",
    "weights = baseline.calculate(\"household_weight\", period=2024)\n",
    "\n"
   ]
  },
  {
   "cell_type": "code",
   "execution_count": 4,
   "metadata": {},
   "outputs": [
    {
     "data": {
      "text/plain": [
       "34.53192460674349"
      ]
     },
     "execution_count": 4,
     "metadata": {},
     "output_type": "execute_result"
    }
   ],
   "source": [
    "baseline_aca_eligible = baseline.calculate(\"is_aca_ptc_eligible\", map_to=\"tax_unit\", period=2026).sum()\n",
    "baseline_aca_eligible/1e6"
   ]
  },
  {
   "cell_type": "code",
   "execution_count": 5,
   "metadata": {},
   "outputs": [
    {
     "data": {
      "text/plain": [
       "227.4910256143858"
      ]
     },
     "execution_count": 5,
     "metadata": {},
     "output_type": "execute_result"
    }
   ],
   "source": [
    "baseline_aca_enrollment = baseline.calculate(\"takes_up_aca_if_eligible\", map_to=\"person\", period=2026).sum()\n",
    "baseline_aca_enrollment/1e6"
   ]
  },
  {
   "cell_type": "code",
   "execution_count": 6,
   "metadata": {},
   "outputs": [
    {
     "name": "stdout",
     "output_type": "stream",
     "text": [
      "179,554,288 weighted people live in tax units that take up Marketplace coverage and actually receive a PTC.\n"
     ]
    }
   ],
   "source": [
    "period = 2025\n",
    "sim    = baseline\n",
    "\n",
    "# ── Tax-unit flags, broadcast to people ──────────────────────────────────────\n",
    "takes_up = sim.calculate(\"takes_up_aca_if_eligible\",\n",
    "                         map_to=\"person\", period=period)        # 0/1\n",
    "aca_ptc  = sim.calculate(\"aca_ptc\",\n",
    "                         map_to=\"person\", period=period)        # $ amount\n",
    "\n",
    "# ── PERSON weights (pick any person-level variable) ─────────────────────────\n",
    "person_wt = sim.calculate(\"age\", map_to=\"person\", period=period).weights\n",
    "\n",
    "# ── Build mask & sum weights ────────────────────────────────────────────────\n",
    "mask = (takes_up == 1) & (aca_ptc > 0)\n",
    "\n",
    "people_with_ptc_takeup_wtd = (mask.astype(float) * person_wt).sum()\n",
    "\n",
    "print(f\"{people_with_ptc_takeup_wtd:,.0f} weighted people live in tax units \"\n",
    "      \"that take up Marketplace coverage and actually receive a PTC.\")\n"
   ]
  },
  {
   "cell_type": "code",
   "execution_count": 7,
   "metadata": {},
   "outputs": [
    {
     "name": "stdout",
     "output_type": "stream",
     "text": [
      "25,364,518 weighted people live in tax units that take up Marketplace coverage and actually receive a PTC.\n"
     ]
    }
   ],
   "source": [
    "period = 2026\n",
    "\n",
    "# ── Tax-unit flags, broadcast to people ──────────────────────────────────────\n",
    "takes_up_r = reformed.calculate(\"takes_up_aca_if_eligible\",\n",
    "                         map_to=\"person\", period=period)        # 0/1\n",
    "aca_ptc_r  = reformed.calculate(\"aca_ptc\",\n",
    "                         map_to=\"person\", period=period)        # $ amount\n",
    "\n",
    "# ── PERSON weights (pick any person-level variable) ─────────────────────────\n",
    "person_wt_r = reformed.calculate(\"age\", map_to=\"person\", period=period).weights\n",
    "\n",
    "# ── Build mask & sum weights ────────────────────────────────────────────────\n",
    "mask = (takes_up_r == 1) & (aca_ptc_r > 0)\n",
    "\n",
    "people_with_ptc_takeup_wtd_r = (mask.astype(float) * person_wt_r).sum()\n",
    "\n",
    "print(f\"{people_with_ptc_takeup_wtd_r:,.0f} weighted people live in tax units \"\n",
    "      \"that take up Marketplace coverage and actually receive a PTC.\")\n"
   ]
  },
  {
   "cell_type": "code",
   "execution_count": 8,
   "metadata": {},
   "outputs": [
    {
     "name": "stdout",
     "output_type": "stream",
     "text": [
      "18,865,437 weighted people live in tax units that take up Marketplace coverage and actually receive a PTC.\n"
     ]
    }
   ],
   "source": [
    "period = 2026\n",
    "sim    = baseline\n",
    "\n",
    "# ── Tax-unit flags, broadcast to people ──────────────────────────────────────\n",
    "takes_up = sim.calculate(\"takes_up_aca_if_eligible\",\n",
    "                         map_to=\"person\", period=period)        # 0/1\n",
    "aca_ptc  = sim.calculate(\"aca_ptc\",\n",
    "                         map_to=\"person\", period=period)        # $ amount\n",
    "\n",
    "# ── PERSON weights (pick any person-level variable) ─────────────────────────\n",
    "person_wt = sim.calculate(\"age\", map_to=\"person\", period=period).weights\n",
    "\n",
    "# ── Build mask & sum weights ────────────────────────────────────────────────\n",
    "mask = (takes_up == 1) & (aca_ptc > 0)\n",
    "\n",
    "people_with_ptc_takeup_wtd = (mask.astype(float) * person_wt).sum()\n",
    "\n",
    "print(f\"{people_with_ptc_takeup_wtd:,.0f} weighted people live in tax units \"\n",
    "      \"that take up Marketplace coverage and actually receive a PTC.\")\n"
   ]
  },
  {
   "cell_type": "code",
   "execution_count": null,
   "metadata": {},
   "outputs": [],
   "source": []
  },
  {
   "cell_type": "code",
   "execution_count": 9,
   "metadata": {},
   "outputs": [],
   "source": [
    "year = 2026\n",
    "state = baseline.calculate(\"state_code\", map_to=\"household\", period=year)\n",
    "num_dependents = baseline.calculate(\"tax_unit_dependents\", map_to=\"household\", period=year)\n",
    "married = baseline.calculate(\"is_married\", map_to=\"household\", period=year)\n",
    "employment_income = baseline.calculate(\"employment_income\", map_to=\"household\", period=year)\n",
    "self_employment_income = baseline.calculate(\"self_employment_income\", map_to=\"household\", period=year)\n",
    "aca_baseline = baseline.calculate(\"aca_ptc\", map_to=\"household\", period=year)\n",
    "rating_area = baseline.calculate(\"slcsp_rating_area\", map_to=\"household\", period=year)\n",
    "household_id = baseline.calculate(\"household_id\", map_to=\"household\", period=year)\n",
    "aca_reform = reformed.calculate(\"aca_ptc\", map_to=\"household\", period=year)"
   ]
  },
  {
   "cell_type": "code",
   "execution_count": 10,
   "metadata": {},
   "outputs": [
    {
     "data": {
      "text/html": [
       "<div>\n",
       "<style scoped>\n",
       "    .dataframe tbody tr th:only-of-type {\n",
       "        vertical-align: middle;\n",
       "    }\n",
       "\n",
       "    .dataframe tbody tr th {\n",
       "        vertical-align: top;\n",
       "    }\n",
       "\n",
       "    .dataframe thead th {\n",
       "        text-align: right;\n",
       "    }\n",
       "</style>\n",
       "<table border=\"1\" class=\"dataframe\">\n",
       "  <thead>\n",
       "    <tr style=\"text-align: right;\">\n",
       "      <th></th>\n",
       "      <th>household_id</th>\n",
       "      <th>State</th>\n",
       "      <th>Married</th>\n",
       "      <th>Num_Dependents</th>\n",
       "      <th>Employment_Income</th>\n",
       "      <th>Self_Employment_Income</th>\n",
       "      <th>aca_baseline</th>\n",
       "      <th>aca_reform</th>\n",
       "    </tr>\n",
       "  </thead>\n",
       "  <tbody>\n",
       "    <tr>\n",
       "      <th>23890</th>\n",
       "      <td>103176</td>\n",
       "      <td>PA</td>\n",
       "      <td>1.0</td>\n",
       "      <td>3.0</td>\n",
       "      <td>122669.62796</td>\n",
       "      <td>644.808105</td>\n",
       "      <td>0.0</td>\n",
       "      <td>38655.492188</td>\n",
       "    </tr>\n",
       "  </tbody>\n",
       "</table>\n",
       "</div>"
      ],
      "text/plain": [
       "       household_id State  Married  Num_Dependents  Employment_Income  \\\n",
       "23890        103176    PA      1.0             3.0       122669.62796   \n",
       "\n",
       "       Self_Employment_Income  aca_baseline    aca_reform  \n",
       "23890              644.808105           0.0  38655.492188  "
      ]
     },
     "execution_count": 10,
     "metadata": {},
     "output_type": "execute_result"
    }
   ],
   "source": [
    "# Create a DataFrame with the outputs\n",
    "data = {\n",
    "    \"household_id\": household_id,\n",
    "    \"State\": state,\n",
    "    \"Married\": married,\n",
    "    \"Num_Dependents\": num_dependents,\n",
    "    \"Employment_Income\": employment_income,\n",
    "    \"Self_Employment_Income\": self_employment_income,\n",
    "    \"aca_baseline\": aca_baseline,\n",
    "    \"aca_reform\": aca_reform,\n",
    "    }\n",
    "\n",
    "df_outputs = pd.DataFrame(data)\n",
    "df_outputs[df_outputs['household_id'] == 103176]\n"
   ]
  },
  {
   "cell_type": "code",
   "execution_count": 11,
   "metadata": {},
   "outputs": [
    {
     "name": "stdout",
     "output_type": "stream",
     "text": [
      "Most positive net-income changes (PTC boosts):\n"
     ]
    },
    {
     "data": {
      "text/html": [
       "<div>\n",
       "<style scoped>\n",
       "    .dataframe tbody tr th:only-of-type {\n",
       "        vertical-align: middle;\n",
       "    }\n",
       "\n",
       "    .dataframe tbody tr th {\n",
       "        vertical-align: top;\n",
       "    }\n",
       "\n",
       "    .dataframe thead th {\n",
       "        text-align: right;\n",
       "    }\n",
       "</style>\n",
       "<table border=\"1\" class=\"dataframe\">\n",
       "  <thead>\n",
       "    <tr style=\"text-align: right;\">\n",
       "      <th></th>\n",
       "      <th>household_id</th>\n",
       "      <th>State</th>\n",
       "      <th>weight</th>\n",
       "      <th>net_change</th>\n",
       "      <th>wt_change</th>\n",
       "    </tr>\n",
       "  </thead>\n",
       "  <tbody>\n",
       "    <tr>\n",
       "      <th>11774</th>\n",
       "      <td>47863</td>\n",
       "      <td>FL</td>\n",
       "      <td>135658.906250</td>\n",
       "      <td>17123.369141</td>\n",
       "      <td>2.322938e+09</td>\n",
       "    </tr>\n",
       "    <tr>\n",
       "      <th>14377</th>\n",
       "      <td>60850</td>\n",
       "      <td>TX</td>\n",
       "      <td>23338.992188</td>\n",
       "      <td>15904.038086</td>\n",
       "      <td>3.711842e+08</td>\n",
       "    </tr>\n",
       "    <tr>\n",
       "      <th>14628</th>\n",
       "      <td>61712</td>\n",
       "      <td>TX</td>\n",
       "      <td>22272.599609</td>\n",
       "      <td>14010.416992</td>\n",
       "      <td>3.120484e+08</td>\n",
       "    </tr>\n",
       "    <tr>\n",
       "      <th>6960</th>\n",
       "      <td>25327</td>\n",
       "      <td>MO</td>\n",
       "      <td>11227.063477</td>\n",
       "      <td>13525.498047</td>\n",
       "      <td>1.518516e+08</td>\n",
       "    </tr>\n",
       "    <tr>\n",
       "      <th>31780</th>\n",
       "      <td>135336</td>\n",
       "      <td>FL</td>\n",
       "      <td>103136.664062</td>\n",
       "      <td>12612.913086</td>\n",
       "      <td>1.300854e+09</td>\n",
       "    </tr>\n",
       "    <tr>\n",
       "      <th>8987</th>\n",
       "      <td>38686</td>\n",
       "      <td>NC</td>\n",
       "      <td>25387.832031</td>\n",
       "      <td>12249.720703</td>\n",
       "      <td>3.109939e+08</td>\n",
       "    </tr>\n",
       "    <tr>\n",
       "      <th>8576</th>\n",
       "      <td>36002</td>\n",
       "      <td>VA</td>\n",
       "      <td>17410.156250</td>\n",
       "      <td>10854.941406</td>\n",
       "      <td>1.889862e+08</td>\n",
       "    </tr>\n",
       "    <tr>\n",
       "      <th>10747</th>\n",
       "      <td>44495</td>\n",
       "      <td>FL</td>\n",
       "      <td>56612.566406</td>\n",
       "      <td>10672.198242</td>\n",
       "      <td>6.041805e+08</td>\n",
       "    </tr>\n",
       "    <tr>\n",
       "      <th>19620</th>\n",
       "      <td>83988</td>\n",
       "      <td>CA</td>\n",
       "      <td>18989.419922</td>\n",
       "      <td>10092.767578</td>\n",
       "      <td>1.916558e+08</td>\n",
       "    </tr>\n",
       "    <tr>\n",
       "      <th>4013</th>\n",
       "      <td>16074</td>\n",
       "      <td>OH</td>\n",
       "      <td>46166.144531</td>\n",
       "      <td>6990.998047</td>\n",
       "      <td>3.227474e+08</td>\n",
       "    </tr>\n",
       "  </tbody>\n",
       "</table>\n",
       "</div>"
      ],
      "text/plain": [
       "       household_id State         weight    net_change     wt_change\n",
       "11774         47863    FL  135658.906250  17123.369141  2.322938e+09\n",
       "14377         60850    TX   23338.992188  15904.038086  3.711842e+08\n",
       "14628         61712    TX   22272.599609  14010.416992  3.120484e+08\n",
       "6960          25327    MO   11227.063477  13525.498047  1.518516e+08\n",
       "31780        135336    FL  103136.664062  12612.913086  1.300854e+09\n",
       "8987          38686    NC   25387.832031  12249.720703  3.109939e+08\n",
       "8576          36002    VA   17410.156250  10854.941406  1.889862e+08\n",
       "10747         44495    FL   56612.566406  10672.198242  6.041805e+08\n",
       "19620         83988    CA   18989.419922  10092.767578  1.916558e+08\n",
       "4013          16074    OH   46166.144531   6990.998047  3.227474e+08"
      ]
     },
     "metadata": {},
     "output_type": "display_data"
    },
    {
     "name": "stdout",
     "output_type": "stream",
     "text": [
      "\n",
      "Most negative net-income changes (PTC cuts):\n"
     ]
    },
    {
     "data": {
      "text/html": [
       "<div>\n",
       "<style scoped>\n",
       "    .dataframe tbody tr th:only-of-type {\n",
       "        vertical-align: middle;\n",
       "    }\n",
       "\n",
       "    .dataframe tbody tr th {\n",
       "        vertical-align: top;\n",
       "    }\n",
       "\n",
       "    .dataframe thead th {\n",
       "        text-align: right;\n",
       "    }\n",
       "</style>\n",
       "<table border=\"1\" class=\"dataframe\">\n",
       "  <thead>\n",
       "    <tr style=\"text-align: right;\">\n",
       "      <th></th>\n",
       "      <th>household_id</th>\n",
       "      <th>State</th>\n",
       "      <th>weight</th>\n",
       "      <th>net_change</th>\n",
       "      <th>wt_change</th>\n",
       "    </tr>\n",
       "  </thead>\n",
       "  <tbody>\n",
       "    <tr>\n",
       "      <th>7</th>\n",
       "      <td>68</td>\n",
       "      <td>ME</td>\n",
       "      <td>18114.335938</td>\n",
       "      <td>0.0</td>\n",
       "      <td>0.0</td>\n",
       "    </tr>\n",
       "    <tr>\n",
       "      <th>21</th>\n",
       "      <td>134</td>\n",
       "      <td>ME</td>\n",
       "      <td>10089.783203</td>\n",
       "      <td>0.0</td>\n",
       "      <td>0.0</td>\n",
       "    </tr>\n",
       "    <tr>\n",
       "      <th>25</th>\n",
       "      <td>194</td>\n",
       "      <td>ME</td>\n",
       "      <td>15542.672852</td>\n",
       "      <td>0.0</td>\n",
       "      <td>0.0</td>\n",
       "    </tr>\n",
       "    <tr>\n",
       "      <th>27</th>\n",
       "      <td>206</td>\n",
       "      <td>ME</td>\n",
       "      <td>19284.667969</td>\n",
       "      <td>0.0</td>\n",
       "      <td>0.0</td>\n",
       "    </tr>\n",
       "    <tr>\n",
       "      <th>31</th>\n",
       "      <td>275</td>\n",
       "      <td>ME</td>\n",
       "      <td>11475.574219</td>\n",
       "      <td>0.0</td>\n",
       "      <td>0.0</td>\n",
       "    </tr>\n",
       "    <tr>\n",
       "      <th>37</th>\n",
       "      <td>324</td>\n",
       "      <td>ME</td>\n",
       "      <td>16666.904297</td>\n",
       "      <td>0.0</td>\n",
       "      <td>0.0</td>\n",
       "    </tr>\n",
       "    <tr>\n",
       "      <th>41</th>\n",
       "      <td>339</td>\n",
       "      <td>ME</td>\n",
       "      <td>16523.361328</td>\n",
       "      <td>0.0</td>\n",
       "      <td>0.0</td>\n",
       "    </tr>\n",
       "    <tr>\n",
       "      <th>43</th>\n",
       "      <td>354</td>\n",
       "      <td>ME</td>\n",
       "      <td>11761.126953</td>\n",
       "      <td>0.0</td>\n",
       "      <td>0.0</td>\n",
       "    </tr>\n",
       "    <tr>\n",
       "      <th>51</th>\n",
       "      <td>425</td>\n",
       "      <td>ME</td>\n",
       "      <td>15638.842773</td>\n",
       "      <td>0.0</td>\n",
       "      <td>0.0</td>\n",
       "    </tr>\n",
       "    <tr>\n",
       "      <th>53</th>\n",
       "      <td>437</td>\n",
       "      <td>ME</td>\n",
       "      <td>10633.168945</td>\n",
       "      <td>0.0</td>\n",
       "      <td>0.0</td>\n",
       "    </tr>\n",
       "  </tbody>\n",
       "</table>\n",
       "</div>"
      ],
      "text/plain": [
       "    household_id State        weight  net_change  wt_change\n",
       "7             68    ME  18114.335938         0.0        0.0\n",
       "21           134    ME  10089.783203         0.0        0.0\n",
       "25           194    ME  15542.672852         0.0        0.0\n",
       "27           206    ME  19284.667969         0.0        0.0\n",
       "31           275    ME  11475.574219         0.0        0.0\n",
       "37           324    ME  16666.904297         0.0        0.0\n",
       "41           339    ME  16523.361328         0.0        0.0\n",
       "43           354    ME  11761.126953         0.0        0.0\n",
       "51           425    ME  15638.842773         0.0        0.0\n",
       "53           437    ME  10633.168945         0.0        0.0"
      ]
     },
     "metadata": {},
     "output_type": "display_data"
    }
   ],
   "source": [
    "# -------------------------------------------------------------\n",
    "# 0️⃣  Make sure the CPS household weight is in the DataFrame\n",
    "# -------------------------------------------------------------\n",
    "# If you already stuffed it in earlier, skip this.\n",
    "df_outputs[\"weight\"] = aca_baseline.weights    # aligns by household_id\n",
    "\n",
    "# -------------------------------------------------------------\n",
    "# 1️⃣  Define a weight threshold for “reasonably representative”\n",
    "# -------------------------------------------------------------\n",
    "MIN_WT = 10_000          # ↖ try 5_000 if you want a looser cut\n",
    "\n",
    "df_big = df_outputs[df_outputs[\"weight\"] >= MIN_WT].copy()\n",
    "\n",
    "# -------------------------------------------------------------\n",
    "# 2️⃣  Net PTC change and (optionally) weighted national impact\n",
    "# -------------------------------------------------------------\n",
    "df_big[\"net_change\"] = df_big[\"aca_reform\"] - df_big[\"aca_baseline\"]\n",
    "df_big[\"wt_change\"]  = df_big[\"net_change\"] * df_big[\"weight\"]  # national $ impact\n",
    "\n",
    "# -------------------------------------------------------------\n",
    "# 3️⃣  Biggest ↑ increases and ↓ decreases, LIMITED to big-weight HHs\n",
    "# -------------------------------------------------------------\n",
    "N = 10   # how many households to show in each direction\n",
    "\n",
    "cols = [\"household_id\", \"State\", \"weight\", \"net_change\", \"wt_change\"]\n",
    "\n",
    "top_increases = df_big.nlargest(N, \"net_change\")[cols]\n",
    "top_decreases = df_big.nsmallest(N, \"net_change\")[cols]\n",
    "\n",
    "print(\"Most positive net-income changes (PTC boosts):\")\n",
    "display(top_increases)\n",
    "\n",
    "print(\"\\nMost negative net-income changes (PTC cuts):\")\n",
    "display(top_decreases)\n"
   ]
  },
  {
   "cell_type": "code",
   "execution_count": 12,
   "metadata": {},
   "outputs": [
    {
     "data": {
      "text/html": [
       "<div>\n",
       "<style scoped>\n",
       "    .dataframe tbody tr th:only-of-type {\n",
       "        vertical-align: middle;\n",
       "    }\n",
       "\n",
       "    .dataframe tbody tr th {\n",
       "        vertical-align: top;\n",
       "    }\n",
       "\n",
       "    .dataframe thead th {\n",
       "        text-align: right;\n",
       "    }\n",
       "</style>\n",
       "<table border=\"1\" class=\"dataframe\">\n",
       "  <thead>\n",
       "    <tr style=\"text-align: right;\">\n",
       "      <th></th>\n",
       "      <th>household_id</th>\n",
       "      <th>State</th>\n",
       "      <th>Married</th>\n",
       "      <th>Num_Dependents</th>\n",
       "      <th>Employment_Income</th>\n",
       "      <th>Self_Employment_Income</th>\n",
       "      <th>aca_baseline</th>\n",
       "      <th>aca_reform</th>\n",
       "      <th>weight</th>\n",
       "    </tr>\n",
       "  </thead>\n",
       "  <tbody>\n",
       "    <tr>\n",
       "      <th>19620</th>\n",
       "      <td>83988</td>\n",
       "      <td>CA</td>\n",
       "      <td>1.0</td>\n",
       "      <td>2.0</td>\n",
       "      <td>160877.21875</td>\n",
       "      <td>0.0</td>\n",
       "      <td>0.0</td>\n",
       "      <td>10092.767578</td>\n",
       "      <td>18989.419922</td>\n",
       "    </tr>\n",
       "  </tbody>\n",
       "</table>\n",
       "</div>"
      ],
      "text/plain": [
       "       household_id State  Married  Num_Dependents  Employment_Income  \\\n",
       "19620         83988    CA      1.0             2.0       160877.21875   \n",
       "\n",
       "       Self_Employment_Income  aca_baseline    aca_reform        weight  \n",
       "19620                     0.0           0.0  10092.767578  18989.419922  "
      ]
     },
     "execution_count": 12,
     "metadata": {},
     "output_type": "execute_result"
    }
   ],
   "source": [
    "df_outputs[df_outputs['household_id'] == 83988]\n"
   ]
  },
  {
   "cell_type": "code",
   "execution_count": 13,
   "metadata": {},
   "outputs": [
    {
     "name": "stdout",
     "output_type": "stream",
     "text": [
      "Average weighted PTC change among households with any change: $2,442.32\n"
     ]
    }
   ],
   "source": [
    "# 0. Make sure net_change exists\n",
    "df_outputs[\"net_change\"] = df_outputs[\"aca_reform\"] - df_outputs[\"aca_baseline\"]\n",
    "\n",
    "# 1. Flag households with any change\n",
    "mask = df_outputs[\"net_change\"] != 0          # True for ↑ or ↓\n",
    "\n",
    "# 2. Weighted mean among those households\n",
    "avg_net_change = (\n",
    "    (df_outputs.loc[mask, \"net_change\"] * df_outputs.loc[mask, \"weight\"]).sum()\n",
    "    / df_outputs.loc[mask, \"weight\"].sum()\n",
    ")\n",
    "\n",
    "print(f\"Average weighted PTC change among households with any change: \"\n",
    "      f\"${avg_net_change:,.2f}\")\n"
   ]
  },
  {
   "cell_type": "code",
   "execution_count": 14,
   "metadata": {},
   "outputs": [
    {
     "name": "stdout",
     "output_type": "stream",
     "text": [
      "Average weighted PTC change among households with a PTC in both baseline and reform: $1,663.64\n"
     ]
    }
   ],
   "source": [
    "# ------------------------------------------------------------------\n",
    "# 0.  Ensure supporting columns exist\n",
    "# ------------------------------------------------------------------\n",
    "df_outputs[\"net_change\"] = df_outputs[\"aca_reform\"] - df_outputs[\"aca_baseline\"]\n",
    "\n",
    "# ------------------------------------------------------------------\n",
    "# 1.  Keep only households with a PTC in *both* scenarios\n",
    "# ------------------------------------------------------------------\n",
    "mask_both_ptc = (df_outputs[\"aca_baseline\"] > 0) & (df_outputs[\"aca_reform\"] > 0)\n",
    "df_dual_ptc   = df_outputs[mask_both_ptc]\n",
    "\n",
    "# ------------------------------------------------------------------\n",
    "# 2.  Weighted average of the net change (household perspective)\n",
    "# ------------------------------------------------------------------\n",
    "avg_net_change_dual_hh = (\n",
    "    (df_dual_ptc[\"net_change\"] * df_dual_ptc[\"weight\"]).sum()\n",
    "    / df_dual_ptc[\"weight\"].sum()\n",
    ")\n",
    "\n",
    "print(f\"Average weighted PTC change among households with a PTC in both \"\n",
    "      f\"baseline and reform: ${avg_net_change_dual_hh:,.2f}\")\n"
   ]
  },
  {
   "cell_type": "code",
   "execution_count": 15,
   "metadata": {},
   "outputs": [
    {
     "data": {
      "text/plain": [
       "32.12809192838201"
      ]
     },
     "execution_count": 15,
     "metadata": {},
     "output_type": "execute_result"
    }
   ],
   "source": [
    "import numpy as np\n",
    "from policyengine_us import Simulation\n",
    "\n",
    "# -------------------------------\n",
    "# 1. Pull household-level results\n",
    "# -------------------------------\n",
    "# ACA PTC (baseline and reform)\n",
    "ptc_base   = baseline.calculate(\"aca_ptc\", map_to=\"household\", period=2026)\n",
    "ptc_reform = reformed.calculate(\"aca_ptc\",   map_to=\"household\", period=2026)\n",
    "\n",
    "# Household weights (same for both sims)\n",
    "hh_wt      = baseline.calculate(\"household_weight\", map_to=\"household\", period=2026)\n",
    "\n",
    "# -------------------------------\n",
    "# 2. Weighted sum of the change\n",
    "# -------------------------------\n",
    "weighted_total_change = ptc_reform - ptc_base\n",
    "\n",
    "# Optional: average change per household\n",
    "weighted_total_change.sum()/1e9"
   ]
  },
  {
   "cell_type": "code",
   "execution_count": 16,
   "metadata": {},
   "outputs": [
    {
     "data": {
      "application/vnd.plotly.v1+json": {
       "config": {
        "plotlyServerURL": "https://plot.ly"
       },
       "data": [
        {
         "marker": {
          "color": [
           "#2C6496",
           "#2C6496",
           "#2C6496",
           "#2C6496",
           "#2C6496",
           "#2C6496",
           "#2C6496",
           "#2C6496",
           "#2C6496",
           "#2C6496"
          ]
         },
         "text": [
          "$127",
          "$141",
          "$120",
          "$164",
          "$206",
          "$256",
          "$214",
          "$668",
          "$185",
          "$83"
         ],
         "textposition": "inside",
         "type": "bar",
         "x": [
          1,
          2,
          3,
          4,
          5,
          6,
          7,
          8,
          9,
          10
         ],
         "y": [
          127.10087585449219,
          140.969970703125,
          119.75225067138672,
          163.75502014160156,
          205.8011016845703,
          255.56259155273438,
          213.85777282714844,
          667.6323852539062,
          184.54965209960938,
          83.39998626708984
         ]
        }
       ],
       "layout": {
        "shapes": [
         {
          "line": {
           "color": "black",
           "width": 1
          },
          "type": "line",
          "x0": 0,
          "x1": 1,
          "xref": "x domain",
          "y0": 0,
          "y1": 0,
          "yref": "y"
         }
        ],
        "showlegend": false,
        "template": {
         "data": {
          "bar": [
           {
            "error_x": {
             "color": "#2a3f5f"
            },
            "error_y": {
             "color": "#2a3f5f"
            },
            "marker": {
             "line": {
              "color": "#E5ECF6",
              "width": 0.5
             },
             "pattern": {
              "fillmode": "overlay",
              "size": 10,
              "solidity": 0.2
             }
            },
            "type": "bar"
           }
          ],
          "barpolar": [
           {
            "marker": {
             "line": {
              "color": "#E5ECF6",
              "width": 0.5
             },
             "pattern": {
              "fillmode": "overlay",
              "size": 10,
              "solidity": 0.2
             }
            },
            "type": "barpolar"
           }
          ],
          "carpet": [
           {
            "aaxis": {
             "endlinecolor": "#2a3f5f",
             "gridcolor": "white",
             "linecolor": "white",
             "minorgridcolor": "white",
             "startlinecolor": "#2a3f5f"
            },
            "baxis": {
             "endlinecolor": "#2a3f5f",
             "gridcolor": "white",
             "linecolor": "white",
             "minorgridcolor": "white",
             "startlinecolor": "#2a3f5f"
            },
            "type": "carpet"
           }
          ],
          "choropleth": [
           {
            "colorbar": {
             "outlinewidth": 0,
             "ticks": ""
            },
            "type": "choropleth"
           }
          ],
          "contour": [
           {
            "colorbar": {
             "outlinewidth": 0,
             "ticks": ""
            },
            "colorscale": [
             [
              0,
              "#0d0887"
             ],
             [
              0.1111111111111111,
              "#46039f"
             ],
             [
              0.2222222222222222,
              "#7201a8"
             ],
             [
              0.3333333333333333,
              "#9c179e"
             ],
             [
              0.4444444444444444,
              "#bd3786"
             ],
             [
              0.5555555555555556,
              "#d8576b"
             ],
             [
              0.6666666666666666,
              "#ed7953"
             ],
             [
              0.7777777777777778,
              "#fb9f3a"
             ],
             [
              0.8888888888888888,
              "#fdca26"
             ],
             [
              1,
              "#f0f921"
             ]
            ],
            "type": "contour"
           }
          ],
          "contourcarpet": [
           {
            "colorbar": {
             "outlinewidth": 0,
             "ticks": ""
            },
            "type": "contourcarpet"
           }
          ],
          "heatmap": [
           {
            "colorbar": {
             "outlinewidth": 0,
             "ticks": ""
            },
            "colorscale": [
             [
              0,
              "#0d0887"
             ],
             [
              0.1111111111111111,
              "#46039f"
             ],
             [
              0.2222222222222222,
              "#7201a8"
             ],
             [
              0.3333333333333333,
              "#9c179e"
             ],
             [
              0.4444444444444444,
              "#bd3786"
             ],
             [
              0.5555555555555556,
              "#d8576b"
             ],
             [
              0.6666666666666666,
              "#ed7953"
             ],
             [
              0.7777777777777778,
              "#fb9f3a"
             ],
             [
              0.8888888888888888,
              "#fdca26"
             ],
             [
              1,
              "#f0f921"
             ]
            ],
            "type": "heatmap"
           }
          ],
          "heatmapgl": [
           {
            "colorbar": {
             "outlinewidth": 0,
             "ticks": ""
            },
            "colorscale": [
             [
              0,
              "#0d0887"
             ],
             [
              0.1111111111111111,
              "#46039f"
             ],
             [
              0.2222222222222222,
              "#7201a8"
             ],
             [
              0.3333333333333333,
              "#9c179e"
             ],
             [
              0.4444444444444444,
              "#bd3786"
             ],
             [
              0.5555555555555556,
              "#d8576b"
             ],
             [
              0.6666666666666666,
              "#ed7953"
             ],
             [
              0.7777777777777778,
              "#fb9f3a"
             ],
             [
              0.8888888888888888,
              "#fdca26"
             ],
             [
              1,
              "#f0f921"
             ]
            ],
            "type": "heatmapgl"
           }
          ],
          "histogram": [
           {
            "marker": {
             "pattern": {
              "fillmode": "overlay",
              "size": 10,
              "solidity": 0.2
             }
            },
            "type": "histogram"
           }
          ],
          "histogram2d": [
           {
            "colorbar": {
             "outlinewidth": 0,
             "ticks": ""
            },
            "colorscale": [
             [
              0,
              "#0d0887"
             ],
             [
              0.1111111111111111,
              "#46039f"
             ],
             [
              0.2222222222222222,
              "#7201a8"
             ],
             [
              0.3333333333333333,
              "#9c179e"
             ],
             [
              0.4444444444444444,
              "#bd3786"
             ],
             [
              0.5555555555555556,
              "#d8576b"
             ],
             [
              0.6666666666666666,
              "#ed7953"
             ],
             [
              0.7777777777777778,
              "#fb9f3a"
             ],
             [
              0.8888888888888888,
              "#fdca26"
             ],
             [
              1,
              "#f0f921"
             ]
            ],
            "type": "histogram2d"
           }
          ],
          "histogram2dcontour": [
           {
            "colorbar": {
             "outlinewidth": 0,
             "ticks": ""
            },
            "colorscale": [
             [
              0,
              "#0d0887"
             ],
             [
              0.1111111111111111,
              "#46039f"
             ],
             [
              0.2222222222222222,
              "#7201a8"
             ],
             [
              0.3333333333333333,
              "#9c179e"
             ],
             [
              0.4444444444444444,
              "#bd3786"
             ],
             [
              0.5555555555555556,
              "#d8576b"
             ],
             [
              0.6666666666666666,
              "#ed7953"
             ],
             [
              0.7777777777777778,
              "#fb9f3a"
             ],
             [
              0.8888888888888888,
              "#fdca26"
             ],
             [
              1,
              "#f0f921"
             ]
            ],
            "type": "histogram2dcontour"
           }
          ],
          "mesh3d": [
           {
            "colorbar": {
             "outlinewidth": 0,
             "ticks": ""
            },
            "type": "mesh3d"
           }
          ],
          "parcoords": [
           {
            "line": {
             "colorbar": {
              "outlinewidth": 0,
              "ticks": ""
             }
            },
            "type": "parcoords"
           }
          ],
          "pie": [
           {
            "automargin": true,
            "type": "pie"
           }
          ],
          "scatter": [
           {
            "fillpattern": {
             "fillmode": "overlay",
             "size": 10,
             "solidity": 0.2
            },
            "type": "scatter"
           }
          ],
          "scatter3d": [
           {
            "line": {
             "colorbar": {
              "outlinewidth": 0,
              "ticks": ""
             }
            },
            "marker": {
             "colorbar": {
              "outlinewidth": 0,
              "ticks": ""
             }
            },
            "type": "scatter3d"
           }
          ],
          "scattercarpet": [
           {
            "marker": {
             "colorbar": {
              "outlinewidth": 0,
              "ticks": ""
             }
            },
            "type": "scattercarpet"
           }
          ],
          "scattergeo": [
           {
            "marker": {
             "colorbar": {
              "outlinewidth": 0,
              "ticks": ""
             }
            },
            "type": "scattergeo"
           }
          ],
          "scattergl": [
           {
            "marker": {
             "colorbar": {
              "outlinewidth": 0,
              "ticks": ""
             }
            },
            "type": "scattergl"
           }
          ],
          "scattermapbox": [
           {
            "marker": {
             "colorbar": {
              "outlinewidth": 0,
              "ticks": ""
             }
            },
            "type": "scattermapbox"
           }
          ],
          "scatterpolar": [
           {
            "marker": {
             "colorbar": {
              "outlinewidth": 0,
              "ticks": ""
             }
            },
            "type": "scatterpolar"
           }
          ],
          "scatterpolargl": [
           {
            "marker": {
             "colorbar": {
              "outlinewidth": 0,
              "ticks": ""
             }
            },
            "type": "scatterpolargl"
           }
          ],
          "scatterternary": [
           {
            "marker": {
             "colorbar": {
              "outlinewidth": 0,
              "ticks": ""
             }
            },
            "type": "scatterternary"
           }
          ],
          "surface": [
           {
            "colorbar": {
             "outlinewidth": 0,
             "ticks": ""
            },
            "colorscale": [
             [
              0,
              "#0d0887"
             ],
             [
              0.1111111111111111,
              "#46039f"
             ],
             [
              0.2222222222222222,
              "#7201a8"
             ],
             [
              0.3333333333333333,
              "#9c179e"
             ],
             [
              0.4444444444444444,
              "#bd3786"
             ],
             [
              0.5555555555555556,
              "#d8576b"
             ],
             [
              0.6666666666666666,
              "#ed7953"
             ],
             [
              0.7777777777777778,
              "#fb9f3a"
             ],
             [
              0.8888888888888888,
              "#fdca26"
             ],
             [
              1,
              "#f0f921"
             ]
            ],
            "type": "surface"
           }
          ],
          "table": [
           {
            "cells": {
             "fill": {
              "color": "#EBF0F8"
             },
             "line": {
              "color": "white"
             }
            },
            "header": {
             "fill": {
              "color": "#C8D4E3"
             },
             "line": {
              "color": "white"
             }
            },
            "type": "table"
           }
          ]
         },
         "layout": {
          "annotationdefaults": {
           "arrowcolor": "#2a3f5f",
           "arrowhead": 0,
           "arrowwidth": 1
          },
          "autotypenumbers": "strict",
          "coloraxis": {
           "colorbar": {
            "outlinewidth": 0,
            "ticks": ""
           }
          },
          "colorscale": {
           "diverging": [
            [
             0,
             "#8e0152"
            ],
            [
             0.1,
             "#c51b7d"
            ],
            [
             0.2,
             "#de77ae"
            ],
            [
             0.3,
             "#f1b6da"
            ],
            [
             0.4,
             "#fde0ef"
            ],
            [
             0.5,
             "#f7f7f7"
            ],
            [
             0.6,
             "#e6f5d0"
            ],
            [
             0.7,
             "#b8e186"
            ],
            [
             0.8,
             "#7fbc41"
            ],
            [
             0.9,
             "#4d9221"
            ],
            [
             1,
             "#276419"
            ]
           ],
           "sequential": [
            [
             0,
             "#0d0887"
            ],
            [
             0.1111111111111111,
             "#46039f"
            ],
            [
             0.2222222222222222,
             "#7201a8"
            ],
            [
             0.3333333333333333,
             "#9c179e"
            ],
            [
             0.4444444444444444,
             "#bd3786"
            ],
            [
             0.5555555555555556,
             "#d8576b"
            ],
            [
             0.6666666666666666,
             "#ed7953"
            ],
            [
             0.7777777777777778,
             "#fb9f3a"
            ],
            [
             0.8888888888888888,
             "#fdca26"
            ],
            [
             1,
             "#f0f921"
            ]
           ],
           "sequentialminus": [
            [
             0,
             "#0d0887"
            ],
            [
             0.1111111111111111,
             "#46039f"
            ],
            [
             0.2222222222222222,
             "#7201a8"
            ],
            [
             0.3333333333333333,
             "#9c179e"
            ],
            [
             0.4444444444444444,
             "#bd3786"
            ],
            [
             0.5555555555555556,
             "#d8576b"
            ],
            [
             0.6666666666666666,
             "#ed7953"
            ],
            [
             0.7777777777777778,
             "#fb9f3a"
            ],
            [
             0.8888888888888888,
             "#fdca26"
            ],
            [
             1,
             "#f0f921"
            ]
           ]
          },
          "colorway": [
           "#636efa",
           "#EF553B",
           "#00cc96",
           "#ab63fa",
           "#FFA15A",
           "#19d3f3",
           "#FF6692",
           "#B6E880",
           "#FF97FF",
           "#FECB52"
          ],
          "font": {
           "color": "#2a3f5f"
          },
          "geo": {
           "bgcolor": "white",
           "lakecolor": "white",
           "landcolor": "#E5ECF6",
           "showlakes": true,
           "showland": true,
           "subunitcolor": "white"
          },
          "hoverlabel": {
           "align": "left"
          },
          "hovermode": "closest",
          "mapbox": {
           "style": "light"
          },
          "paper_bgcolor": "white",
          "plot_bgcolor": "#E5ECF6",
          "polar": {
           "angularaxis": {
            "gridcolor": "white",
            "linecolor": "white",
            "ticks": ""
           },
           "bgcolor": "#E5ECF6",
           "radialaxis": {
            "gridcolor": "white",
            "linecolor": "white",
            "ticks": ""
           }
          },
          "scene": {
           "xaxis": {
            "backgroundcolor": "#E5ECF6",
            "gridcolor": "white",
            "gridwidth": 2,
            "linecolor": "white",
            "showbackground": true,
            "ticks": "",
            "zerolinecolor": "white"
           },
           "yaxis": {
            "backgroundcolor": "#E5ECF6",
            "gridcolor": "white",
            "gridwidth": 2,
            "linecolor": "white",
            "showbackground": true,
            "ticks": "",
            "zerolinecolor": "white"
           },
           "zaxis": {
            "backgroundcolor": "#E5ECF6",
            "gridcolor": "white",
            "gridwidth": 2,
            "linecolor": "white",
            "showbackground": true,
            "ticks": "",
            "zerolinecolor": "white"
           }
          },
          "shapedefaults": {
           "line": {
            "color": "#2a3f5f"
           }
          },
          "ternary": {
           "aaxis": {
            "gridcolor": "white",
            "linecolor": "white",
            "ticks": ""
           },
           "baxis": {
            "gridcolor": "white",
            "linecolor": "white",
            "ticks": ""
           },
           "bgcolor": "#E5ECF6",
           "caxis": {
            "gridcolor": "white",
            "linecolor": "white",
            "ticks": ""
           }
          },
          "title": {
           "x": 0.05
          },
          "xaxis": {
           "automargin": true,
           "gridcolor": "white",
           "linecolor": "white",
           "ticks": "",
           "title": {
            "standoff": 15
           },
           "zerolinecolor": "white",
           "zerolinewidth": 2
          },
          "yaxis": {
           "automargin": true,
           "gridcolor": "white",
           "linecolor": "white",
           "ticks": "",
           "title": {
            "standoff": 15
           },
           "zerolinecolor": "white",
           "zerolinewidth": 2
          }
         }
        },
        "title": {
         "text": "Impact of Extending IRA PTC Expansion by Income Decile – 2026"
        },
        "xaxis": {
         "title": {
          "text": "Income Decile"
         }
        },
        "yaxis": {
         "title": {
          "text": "Average change in household net income ($)"
         }
        }
       }
      }
     },
     "metadata": {},
     "output_type": "display_data"
    },
    {
     "data": {
      "application/vnd.plotly.v1+json": {
       "config": {
        "plotlyServerURL": "https://plot.ly"
       },
       "data": [
        {
         "marker": {
          "color": [
           "#2C6496",
           "#2C6496",
           "#2C6496",
           "#2C6496",
           "#2C6496",
           "#2C6496",
           "#2C6496",
           "#2C6496",
           "#2C6496",
           "#2C6496"
          ]
         },
         "text": [
          "$127",
          "$141",
          "$120",
          "$164",
          "$206",
          "$256",
          "$214",
          "$668",
          "$185",
          "$83"
         ],
         "textposition": "inside",
         "type": "bar",
         "x": [
          1,
          2,
          3,
          4,
          5,
          6,
          7,
          8,
          9,
          10
         ],
         "y": [
          127.10087585449219,
          140.969970703125,
          119.75225067138672,
          163.75502014160156,
          205.8011016845703,
          255.56259155273438,
          213.85777282714844,
          667.6323852539062,
          184.54965209960938,
          83.39998626708984
         ]
        }
       ],
       "layout": {
        "shapes": [
         {
          "line": {
           "color": "black",
           "width": 1
          },
          "type": "line",
          "x0": 0,
          "x1": 1,
          "xref": "x domain",
          "y0": 0,
          "y1": 0,
          "yref": "y"
         }
        ],
        "showlegend": false,
        "template": {
         "data": {
          "bar": [
           {
            "error_x": {
             "color": "#2a3f5f"
            },
            "error_y": {
             "color": "#2a3f5f"
            },
            "marker": {
             "line": {
              "color": "#E5ECF6",
              "width": 0.5
             },
             "pattern": {
              "fillmode": "overlay",
              "size": 10,
              "solidity": 0.2
             }
            },
            "type": "bar"
           }
          ],
          "barpolar": [
           {
            "marker": {
             "line": {
              "color": "#E5ECF6",
              "width": 0.5
             },
             "pattern": {
              "fillmode": "overlay",
              "size": 10,
              "solidity": 0.2
             }
            },
            "type": "barpolar"
           }
          ],
          "carpet": [
           {
            "aaxis": {
             "endlinecolor": "#2a3f5f",
             "gridcolor": "white",
             "linecolor": "white",
             "minorgridcolor": "white",
             "startlinecolor": "#2a3f5f"
            },
            "baxis": {
             "endlinecolor": "#2a3f5f",
             "gridcolor": "white",
             "linecolor": "white",
             "minorgridcolor": "white",
             "startlinecolor": "#2a3f5f"
            },
            "type": "carpet"
           }
          ],
          "choropleth": [
           {
            "colorbar": {
             "outlinewidth": 0,
             "ticks": ""
            },
            "type": "choropleth"
           }
          ],
          "contour": [
           {
            "colorbar": {
             "outlinewidth": 0,
             "ticks": ""
            },
            "colorscale": [
             [
              0,
              "#0d0887"
             ],
             [
              0.1111111111111111,
              "#46039f"
             ],
             [
              0.2222222222222222,
              "#7201a8"
             ],
             [
              0.3333333333333333,
              "#9c179e"
             ],
             [
              0.4444444444444444,
              "#bd3786"
             ],
             [
              0.5555555555555556,
              "#d8576b"
             ],
             [
              0.6666666666666666,
              "#ed7953"
             ],
             [
              0.7777777777777778,
              "#fb9f3a"
             ],
             [
              0.8888888888888888,
              "#fdca26"
             ],
             [
              1,
              "#f0f921"
             ]
            ],
            "type": "contour"
           }
          ],
          "contourcarpet": [
           {
            "colorbar": {
             "outlinewidth": 0,
             "ticks": ""
            },
            "type": "contourcarpet"
           }
          ],
          "heatmap": [
           {
            "colorbar": {
             "outlinewidth": 0,
             "ticks": ""
            },
            "colorscale": [
             [
              0,
              "#0d0887"
             ],
             [
              0.1111111111111111,
              "#46039f"
             ],
             [
              0.2222222222222222,
              "#7201a8"
             ],
             [
              0.3333333333333333,
              "#9c179e"
             ],
             [
              0.4444444444444444,
              "#bd3786"
             ],
             [
              0.5555555555555556,
              "#d8576b"
             ],
             [
              0.6666666666666666,
              "#ed7953"
             ],
             [
              0.7777777777777778,
              "#fb9f3a"
             ],
             [
              0.8888888888888888,
              "#fdca26"
             ],
             [
              1,
              "#f0f921"
             ]
            ],
            "type": "heatmap"
           }
          ],
          "heatmapgl": [
           {
            "colorbar": {
             "outlinewidth": 0,
             "ticks": ""
            },
            "colorscale": [
             [
              0,
              "#0d0887"
             ],
             [
              0.1111111111111111,
              "#46039f"
             ],
             [
              0.2222222222222222,
              "#7201a8"
             ],
             [
              0.3333333333333333,
              "#9c179e"
             ],
             [
              0.4444444444444444,
              "#bd3786"
             ],
             [
              0.5555555555555556,
              "#d8576b"
             ],
             [
              0.6666666666666666,
              "#ed7953"
             ],
             [
              0.7777777777777778,
              "#fb9f3a"
             ],
             [
              0.8888888888888888,
              "#fdca26"
             ],
             [
              1,
              "#f0f921"
             ]
            ],
            "type": "heatmapgl"
           }
          ],
          "histogram": [
           {
            "marker": {
             "pattern": {
              "fillmode": "overlay",
              "size": 10,
              "solidity": 0.2
             }
            },
            "type": "histogram"
           }
          ],
          "histogram2d": [
           {
            "colorbar": {
             "outlinewidth": 0,
             "ticks": ""
            },
            "colorscale": [
             [
              0,
              "#0d0887"
             ],
             [
              0.1111111111111111,
              "#46039f"
             ],
             [
              0.2222222222222222,
              "#7201a8"
             ],
             [
              0.3333333333333333,
              "#9c179e"
             ],
             [
              0.4444444444444444,
              "#bd3786"
             ],
             [
              0.5555555555555556,
              "#d8576b"
             ],
             [
              0.6666666666666666,
              "#ed7953"
             ],
             [
              0.7777777777777778,
              "#fb9f3a"
             ],
             [
              0.8888888888888888,
              "#fdca26"
             ],
             [
              1,
              "#f0f921"
             ]
            ],
            "type": "histogram2d"
           }
          ],
          "histogram2dcontour": [
           {
            "colorbar": {
             "outlinewidth": 0,
             "ticks": ""
            },
            "colorscale": [
             [
              0,
              "#0d0887"
             ],
             [
              0.1111111111111111,
              "#46039f"
             ],
             [
              0.2222222222222222,
              "#7201a8"
             ],
             [
              0.3333333333333333,
              "#9c179e"
             ],
             [
              0.4444444444444444,
              "#bd3786"
             ],
             [
              0.5555555555555556,
              "#d8576b"
             ],
             [
              0.6666666666666666,
              "#ed7953"
             ],
             [
              0.7777777777777778,
              "#fb9f3a"
             ],
             [
              0.8888888888888888,
              "#fdca26"
             ],
             [
              1,
              "#f0f921"
             ]
            ],
            "type": "histogram2dcontour"
           }
          ],
          "mesh3d": [
           {
            "colorbar": {
             "outlinewidth": 0,
             "ticks": ""
            },
            "type": "mesh3d"
           }
          ],
          "parcoords": [
           {
            "line": {
             "colorbar": {
              "outlinewidth": 0,
              "ticks": ""
             }
            },
            "type": "parcoords"
           }
          ],
          "pie": [
           {
            "automargin": true,
            "type": "pie"
           }
          ],
          "scatter": [
           {
            "fillpattern": {
             "fillmode": "overlay",
             "size": 10,
             "solidity": 0.2
            },
            "type": "scatter"
           }
          ],
          "scatter3d": [
           {
            "line": {
             "colorbar": {
              "outlinewidth": 0,
              "ticks": ""
             }
            },
            "marker": {
             "colorbar": {
              "outlinewidth": 0,
              "ticks": ""
             }
            },
            "type": "scatter3d"
           }
          ],
          "scattercarpet": [
           {
            "marker": {
             "colorbar": {
              "outlinewidth": 0,
              "ticks": ""
             }
            },
            "type": "scattercarpet"
           }
          ],
          "scattergeo": [
           {
            "marker": {
             "colorbar": {
              "outlinewidth": 0,
              "ticks": ""
             }
            },
            "type": "scattergeo"
           }
          ],
          "scattergl": [
           {
            "marker": {
             "colorbar": {
              "outlinewidth": 0,
              "ticks": ""
             }
            },
            "type": "scattergl"
           }
          ],
          "scattermapbox": [
           {
            "marker": {
             "colorbar": {
              "outlinewidth": 0,
              "ticks": ""
             }
            },
            "type": "scattermapbox"
           }
          ],
          "scatterpolar": [
           {
            "marker": {
             "colorbar": {
              "outlinewidth": 0,
              "ticks": ""
             }
            },
            "type": "scatterpolar"
           }
          ],
          "scatterpolargl": [
           {
            "marker": {
             "colorbar": {
              "outlinewidth": 0,
              "ticks": ""
             }
            },
            "type": "scatterpolargl"
           }
          ],
          "scatterternary": [
           {
            "marker": {
             "colorbar": {
              "outlinewidth": 0,
              "ticks": ""
             }
            },
            "type": "scatterternary"
           }
          ],
          "surface": [
           {
            "colorbar": {
             "outlinewidth": 0,
             "ticks": ""
            },
            "colorscale": [
             [
              0,
              "#0d0887"
             ],
             [
              0.1111111111111111,
              "#46039f"
             ],
             [
              0.2222222222222222,
              "#7201a8"
             ],
             [
              0.3333333333333333,
              "#9c179e"
             ],
             [
              0.4444444444444444,
              "#bd3786"
             ],
             [
              0.5555555555555556,
              "#d8576b"
             ],
             [
              0.6666666666666666,
              "#ed7953"
             ],
             [
              0.7777777777777778,
              "#fb9f3a"
             ],
             [
              0.8888888888888888,
              "#fdca26"
             ],
             [
              1,
              "#f0f921"
             ]
            ],
            "type": "surface"
           }
          ],
          "table": [
           {
            "cells": {
             "fill": {
              "color": "#EBF0F8"
             },
             "line": {
              "color": "white"
             }
            },
            "header": {
             "fill": {
              "color": "#C8D4E3"
             },
             "line": {
              "color": "white"
             }
            },
            "type": "table"
           }
          ]
         },
         "layout": {
          "annotationdefaults": {
           "arrowcolor": "#2a3f5f",
           "arrowhead": 0,
           "arrowwidth": 1
          },
          "autotypenumbers": "strict",
          "coloraxis": {
           "colorbar": {
            "outlinewidth": 0,
            "ticks": ""
           }
          },
          "colorscale": {
           "diverging": [
            [
             0,
             "#8e0152"
            ],
            [
             0.1,
             "#c51b7d"
            ],
            [
             0.2,
             "#de77ae"
            ],
            [
             0.3,
             "#f1b6da"
            ],
            [
             0.4,
             "#fde0ef"
            ],
            [
             0.5,
             "#f7f7f7"
            ],
            [
             0.6,
             "#e6f5d0"
            ],
            [
             0.7,
             "#b8e186"
            ],
            [
             0.8,
             "#7fbc41"
            ],
            [
             0.9,
             "#4d9221"
            ],
            [
             1,
             "#276419"
            ]
           ],
           "sequential": [
            [
             0,
             "#0d0887"
            ],
            [
             0.1111111111111111,
             "#46039f"
            ],
            [
             0.2222222222222222,
             "#7201a8"
            ],
            [
             0.3333333333333333,
             "#9c179e"
            ],
            [
             0.4444444444444444,
             "#bd3786"
            ],
            [
             0.5555555555555556,
             "#d8576b"
            ],
            [
             0.6666666666666666,
             "#ed7953"
            ],
            [
             0.7777777777777778,
             "#fb9f3a"
            ],
            [
             0.8888888888888888,
             "#fdca26"
            ],
            [
             1,
             "#f0f921"
            ]
           ],
           "sequentialminus": [
            [
             0,
             "#0d0887"
            ],
            [
             0.1111111111111111,
             "#46039f"
            ],
            [
             0.2222222222222222,
             "#7201a8"
            ],
            [
             0.3333333333333333,
             "#9c179e"
            ],
            [
             0.4444444444444444,
             "#bd3786"
            ],
            [
             0.5555555555555556,
             "#d8576b"
            ],
            [
             0.6666666666666666,
             "#ed7953"
            ],
            [
             0.7777777777777778,
             "#fb9f3a"
            ],
            [
             0.8888888888888888,
             "#fdca26"
            ],
            [
             1,
             "#f0f921"
            ]
           ]
          },
          "colorway": [
           "#636efa",
           "#EF553B",
           "#00cc96",
           "#ab63fa",
           "#FFA15A",
           "#19d3f3",
           "#FF6692",
           "#B6E880",
           "#FF97FF",
           "#FECB52"
          ],
          "font": {
           "color": "#2a3f5f"
          },
          "geo": {
           "bgcolor": "white",
           "lakecolor": "white",
           "landcolor": "#E5ECF6",
           "showlakes": true,
           "showland": true,
           "subunitcolor": "white"
          },
          "hoverlabel": {
           "align": "left"
          },
          "hovermode": "closest",
          "mapbox": {
           "style": "light"
          },
          "paper_bgcolor": "white",
          "plot_bgcolor": "#E5ECF6",
          "polar": {
           "angularaxis": {
            "gridcolor": "white",
            "linecolor": "white",
            "ticks": ""
           },
           "bgcolor": "#E5ECF6",
           "radialaxis": {
            "gridcolor": "white",
            "linecolor": "white",
            "ticks": ""
           }
          },
          "scene": {
           "xaxis": {
            "backgroundcolor": "#E5ECF6",
            "gridcolor": "white",
            "gridwidth": 2,
            "linecolor": "white",
            "showbackground": true,
            "ticks": "",
            "zerolinecolor": "white"
           },
           "yaxis": {
            "backgroundcolor": "#E5ECF6",
            "gridcolor": "white",
            "gridwidth": 2,
            "linecolor": "white",
            "showbackground": true,
            "ticks": "",
            "zerolinecolor": "white"
           },
           "zaxis": {
            "backgroundcolor": "#E5ECF6",
            "gridcolor": "white",
            "gridwidth": 2,
            "linecolor": "white",
            "showbackground": true,
            "ticks": "",
            "zerolinecolor": "white"
           }
          },
          "shapedefaults": {
           "line": {
            "color": "#2a3f5f"
           }
          },
          "ternary": {
           "aaxis": {
            "gridcolor": "white",
            "linecolor": "white",
            "ticks": ""
           },
           "baxis": {
            "gridcolor": "white",
            "linecolor": "white",
            "ticks": ""
           },
           "bgcolor": "#E5ECF6",
           "caxis": {
            "gridcolor": "white",
            "linecolor": "white",
            "ticks": ""
           }
          },
          "title": {
           "x": 0.05
          },
          "xaxis": {
           "automargin": true,
           "gridcolor": "white",
           "linecolor": "white",
           "ticks": "",
           "title": {
            "standoff": 15
           },
           "zerolinecolor": "white",
           "zerolinewidth": 2
          },
          "yaxis": {
           "automargin": true,
           "gridcolor": "white",
           "linecolor": "white",
           "ticks": "",
           "title": {
            "standoff": 15
           },
           "zerolinecolor": "white",
           "zerolinewidth": 2
          }
         }
        },
        "title": {
         "text": "Impact of Extending IRA PTC Expansion by Income Decile – 2026"
        },
        "xaxis": {
         "dtick": 1,
         "title": {
          "text": "Income Decile"
         }
        },
        "yaxis": {
         "title": {
          "text": "Average change in household net income ($)"
         }
        }
       }
      }
     },
     "metadata": {},
     "output_type": "display_data"
    }
   ],
   "source": [
    "import numpy as np\n",
    "import pandas as pd\n",
    "import plotly.graph_objects as go\n",
    "\n",
    "# ------------------------------------------------------------------\n",
    "# Brand hex codes (one-to-one with style.colors)\n",
    "# ------------------------------------------------------------------\n",
    "COLOR_BLUE               = \"#2C6496\"   # style.colors.BLUE  / BLUE_PRIMARY\n",
    "COLOR_BLUE_LIGHT         = \"#D8E6F3\"   # style.colors.BLUE_LIGHT / BLUE_95\n",
    "COLOR_LIGHT_GRAY         = \"#F2F2F2\"   # style.colors.LIGHT_GRAY\n",
    "COLOR_MEDIUM_LIGHT_GRAY  = \"#BDBDBD\"   # style.colors.MEDIUM_LIGHT_GRAY\n",
    "COLOR_DARK_GRAY          = \"#616161\"   # style.colors.DARK_GRAY\n",
    "\n",
    "# ––– choose colours for positive vs. negative average bars –––\n",
    "POS_COLOR = COLOR_BLUE\n",
    "NEG_COLOR = COLOR_DARK_GRAY\n",
    "\n",
    "# ------------------------------------------------------------------\n",
    "# 1.  Pull baseline / reform net income + weights\n",
    "# ------------------------------------------------------------------\n",
    "net_base   = baseline.calculate(\n",
    "    \"household_net_income_including_health_benefits\", map_to=\"household\", period=2026\n",
    ")\n",
    "net_reform = reformed.calculate(\n",
    "    \"household_net_income_including_health_benefits\", map_to=\"household\", period=2026\n",
    ")\n",
    "weights    = baseline.calculate(\n",
    "    \"household_weight\", map_to=\"household\", period=2026\n",
    ")\n",
    "\n",
    "df = pd.DataFrame({\n",
    "    \"net_base\": net_base,\n",
    "    \"delta\":    net_reform - net_base,\n",
    "    \"weight\":   weights,\n",
    "})\n",
    "\n",
    "# ------------------------------------------------------------------\n",
    "# 2.  Weighted decile edges (baseline ranking)\n",
    "# ------------------------------------------------------------------\n",
    "def wquantile(values, qs, w):\n",
    "    srt = np.argsort(values)\n",
    "    values, w = values[srt], w[srt]\n",
    "    cum_w = np.cumsum(w) / np.sum(w)\n",
    "    return np.interp(qs, cum_w, values)\n",
    "\n",
    "edges = wquantile(df[\"net_base\"].values,\n",
    "                  np.linspace(0, 1, 11), df[\"weight\"].values)\n",
    "\n",
    "df[\"decile\"] = pd.cut(df[\"net_base\"],\n",
    "                      bins=edges,\n",
    "                      labels=np.arange(1, 11),\n",
    "                      include_lowest=True)\n",
    "\n",
    "# ------------------------------------------------------------------\n",
    "# 3.  Weighted average Δnet-income by decile\n",
    "# ------------------------------------------------------------------\n",
    "decile_avg = (\n",
    "    df.groupby(\"decile\")\n",
    "      .apply(lambda g: np.average(g[\"delta\"], weights=g[\"weight\"]))\n",
    "      .reset_index(name=\"avg_change\")\n",
    ")\n",
    "\n",
    "# ------------------------------------------------------------------\n",
    "# 4.  Use brand colours: blue if gain, dark-gray if loss\n",
    "# ------------------------------------------------------------------\n",
    "bar_colors = [\n",
    "    POS_COLOR if v >= 0 else NEG_COLOR\n",
    "    for v in decile_avg[\"avg_change\"]\n",
    "]\n",
    "\n",
    "# ------------------------------------------------------------------\n",
    "# 5.  Plot\n",
    "# ------------------------------------------------------------------\n",
    "fig = go.Figure(\n",
    "    data=[\n",
    "        go.Bar(\n",
    "            x=decile_avg[\"decile\"].astype(int),\n",
    "            y=decile_avg[\"avg_change\"],\n",
    "            marker_color=bar_colors,\n",
    "            text=decile_avg[\"avg_change\"].apply(lambda v: f\"${v:,.0f}\"),\n",
    "            textposition=\"inside\",\n",
    "        )\n",
    "    ],\n",
    "    layout=dict(\n",
    "        title=\"Impact of Extending IRA PTC Expansion by Income Decile – 2026\",\n",
    "        xaxis_title=\"Income Decile\",\n",
    "        yaxis_title=\"Average change in household net income ($)\",\n",
    "        showlegend=False,\n",
    "    )\n",
    ")\n",
    "fig.add_hline(y=0, line_width=1, line_color=\"black\")\n",
    "fig.show()\n",
    "fig.update_xaxes(dtick=1)        # show 1-10 instead of only the evens\n"
   ]
  }
 ],
 "metadata": {
  "kernelspec": {
   "display_name": "policyengine",
   "language": "python",
   "name": "python3"
  },
  "language_info": {
   "codemirror_mode": {
    "name": "ipython",
    "version": 3
   },
   "file_extension": ".py",
   "mimetype": "text/x-python",
   "name": "python",
   "nbconvert_exporter": "python",
   "pygments_lexer": "ipython3",
   "version": "3.10.16"
  }
 },
 "nbformat": 4,
 "nbformat_minor": 2
}
