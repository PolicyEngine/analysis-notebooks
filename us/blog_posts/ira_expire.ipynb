{
 "cells": [
  {
   "cell_type": "code",
   "execution_count": 1,
   "metadata": {},
   "outputs": [
    {
     "name": "stderr",
     "output_type": "stream",
     "text": [
      "/Users/daphnehansell/miniconda3/envs/policyengine/lib/python3.10/site-packages/tqdm/auto.py:21: TqdmWarning: IProgress not found. Please update jupyter and ipywidgets. See https://ipywidgets.readthedocs.io/en/stable/user_install.html\n",
      "  from .autonotebook import tqdm as notebook_tqdm\n"
     ]
    }
   ],
   "source": [
    "from policyengine_us import Microsimulation\n",
    "from policyengine_core.reforms import Reform\n",
    "import pandas as pd\n",
    "\n",
    "baseline = Microsimulation(dataset=\"hf://policyengine/policyengine-us-data/enhanced_cps_2024.h5\")"
   ]
  },
  {
   "cell_type": "code",
   "execution_count": 2,
   "metadata": {},
   "outputs": [],
   "source": [
    "reform = Reform.from_dict({\n",
    "  \"gov.aca.ptc_phase_out_rate[0].amount\": {\n",
    "    \"2026-01-01.2100-12-31\": 0\n",
    "  },\n",
    "  \"gov.aca.ptc_phase_out_rate[1].amount\": {\n",
    "    \"2025-01-01.2100-12-31\": 0\n",
    "  },\n",
    "  \"gov.aca.ptc_phase_out_rate[2].amount\": {\n",
    "    \"2026-01-01.2100-12-31\": 0\n",
    "  },\n",
    "  \"gov.aca.ptc_phase_out_rate[3].amount\": {\n",
    "    \"2026-01-01.2100-12-31\": 0.02\n",
    "  },\n",
    "  \"gov.aca.ptc_phase_out_rate[4].amount\": {\n",
    "    \"2026-01-01.2100-12-31\": 0.04\n",
    "  },\n",
    "  \"gov.aca.ptc_phase_out_rate[5].amount\": {\n",
    "    \"2026-01-01.2100-12-31\": 0.06\n",
    "  },\n",
    "  \"gov.aca.ptc_phase_out_rate[6].amount\": {\n",
    "    \"2026-01-01.2100-12-31\": 0.085\n",
    "  },\n",
    "  \"gov.aca.ptc_income_eligibility[2].amount\": {\n",
    "    \"2026-01-01.2100-12-31\": True\n",
    "  }\n",
    "}, country_id=\"us\")\n",
    "\n",
    "\n"
   ]
  },
  {
   "cell_type": "code",
   "execution_count": 3,
   "metadata": {},
   "outputs": [],
   "source": [
    "baseline = Microsimulation(dataset=\"hf://policyengine/policyengine-us-data/enhanced_cps_2024.h5\")\n",
    "reformed = Microsimulation(reform=reform, dataset=\"hf://policyengine/policyengine-us-data/enhanced_cps_2024.h5\")\n",
    "weights = baseline.calculate(\"household_weight\", period=2024)\n",
    "\n"
   ]
  },
  {
   "cell_type": "code",
   "execution_count": 4,
   "metadata": {},
   "outputs": [
    {
     "data": {
      "text/plain": [
       "31.542351631973784"
      ]
     },
     "execution_count": 4,
     "metadata": {},
     "output_type": "execute_result"
    }
   ],
   "source": [
    "baseline_aca_eligible = baseline.calculate(\"is_aca_ptc_eligible\", map_to=\"tax_unit\", period=2026).sum()\n",
    "baseline_aca_eligible/1e6"
   ]
  },
  {
   "cell_type": "code",
   "execution_count": 5,
   "metadata": {},
   "outputs": [
    {
     "data": {
      "text/plain": [
       "225.39480517300126"
      ]
     },
     "execution_count": 5,
     "metadata": {},
     "output_type": "execute_result"
    }
   ],
   "source": [
    "baseline_aca_enrollment = baseline.calculate(\"takes_up_aca_if_eligible\", map_to=\"person\", period=2026).sum()\n",
    "baseline_aca_enrollment/1e6"
   ]
  },
  {
   "cell_type": "code",
   "execution_count": 6,
   "metadata": {},
   "outputs": [
    {
     "name": "stdout",
     "output_type": "stream",
     "text": [
      "205,150,194 weighted people live in tax units that take up Marketplace coverage and actually receive a PTC.\n"
     ]
    }
   ],
   "source": [
    "period = 2025\n",
    "sim    = baseline\n",
    "\n",
    "# ── Tax-unit flags, broadcast to people ──────────────────────────────────────\n",
    "takes_up = sim.calculate(\"takes_up_aca_if_eligible\",\n",
    "                         map_to=\"person\", period=period)        # 0/1\n",
    "aca_ptc  = sim.calculate(\"aca_ptc\",\n",
    "                         map_to=\"person\", period=period)        # $ amount\n",
    "\n",
    "# ── PERSON weights (pick any person-level variable) ─────────────────────────\n",
    "person_wt = sim.calculate(\"age\", map_to=\"person\", period=period).weights\n",
    "\n",
    "# ── Build mask & sum weights ────────────────────────────────────────────────\n",
    "mask = (takes_up == 1) & (aca_ptc > 0)\n",
    "\n",
    "people_with_ptc_takeup_wtd = (mask.astype(float) * person_wt).sum()\n",
    "\n",
    "print(f\"{people_with_ptc_takeup_wtd:,.0f} weighted people live in tax units \"\n",
    "      \"that take up Marketplace coverage and actually receive a PTC.\")\n"
   ]
  },
  {
   "cell_type": "code",
   "execution_count": 7,
   "metadata": {},
   "outputs": [
    {
     "name": "stdout",
     "output_type": "stream",
     "text": [
      "22,890,509 weighted people live in tax units that take up Marketplace coverage and actually receive a PTC.\n"
     ]
    }
   ],
   "source": [
    "period = 2026\n",
    "\n",
    "# ── Tax-unit flags, broadcast to people ──────────────────────────────────────\n",
    "takes_up_r = reformed.calculate(\"takes_up_aca_if_eligible\",\n",
    "                         map_to=\"person\", period=period)        # 0/1\n",
    "aca_ptc_r  = reformed.calculate(\"aca_ptc\",\n",
    "                         map_to=\"person\", period=period)        # $ amount\n",
    "\n",
    "# ── PERSON weights (pick any person-level variable) ─────────────────────────\n",
    "person_wt_r = reformed.calculate(\"age\", map_to=\"person\", period=period).weights\n",
    "\n",
    "# ── Build mask & sum weights ────────────────────────────────────────────────\n",
    "mask = (takes_up_r == 1) & (aca_ptc_r > 0)\n",
    "\n",
    "people_with_ptc_takeup_wtd_r = (mask.astype(float) * person_wt_r).sum()\n",
    "\n",
    "print(f\"{people_with_ptc_takeup_wtd_r:,.0f} weighted people live in tax units \"\n",
    "      \"that take up Marketplace coverage and actually receive a PTC.\")\n"
   ]
  },
  {
   "cell_type": "code",
   "execution_count": 8,
   "metadata": {},
   "outputs": [
    {
     "name": "stdout",
     "output_type": "stream",
     "text": [
      "16,961,632 weighted people live in tax units that take up Marketplace coverage and actually receive a PTC.\n"
     ]
    }
   ],
   "source": [
    "period = 2026\n",
    "sim    = baseline\n",
    "\n",
    "# ── Tax-unit flags, broadcast to people ──────────────────────────────────────\n",
    "takes_up = sim.calculate(\"takes_up_aca_if_eligible\",\n",
    "                         map_to=\"person\", period=period)        # 0/1\n",
    "aca_ptc  = sim.calculate(\"aca_ptc\",\n",
    "                         map_to=\"person\", period=period)        # $ amount\n",
    "\n",
    "# ── PERSON weights (pick any person-level variable) ─────────────────────────\n",
    "person_wt = sim.calculate(\"age\", map_to=\"person\", period=period).weights\n",
    "\n",
    "# ── Build mask & sum weights ────────────────────────────────────────────────\n",
    "mask = (takes_up == 1) & (aca_ptc > 0)\n",
    "\n",
    "people_with_ptc_takeup_wtd = (mask.astype(float) * person_wt).sum()\n",
    "\n",
    "print(f\"{people_with_ptc_takeup_wtd:,.0f} weighted people live in tax units \"\n",
    "      \"that take up Marketplace coverage and actually receive a PTC.\")\n"
   ]
  },
  {
   "cell_type": "code",
   "execution_count": null,
   "metadata": {},
   "outputs": [],
   "source": []
  },
  {
   "cell_type": "code",
   "execution_count": 9,
   "metadata": {},
   "outputs": [],
   "source": [
    "year = 2026\n",
    "state = baseline.calculate(\"state_code\", map_to=\"household\", period=year)\n",
    "num_dependents = baseline.calculate(\"tax_unit_dependents\", map_to=\"household\", period=year)\n",
    "married = baseline.calculate(\"is_married\", map_to=\"household\", period=year)\n",
    "employment_income = baseline.calculate(\"employment_income\", map_to=\"household\", period=year)\n",
    "self_employment_income = baseline.calculate(\"self_employment_income\", map_to=\"household\", period=year)\n",
    "aca_baseline = baseline.calculate(\"aca_ptc\", map_to=\"household\", period=year)\n",
    "rating_area = baseline.calculate(\"slcsp_rating_area\", map_to=\"household\", period=year)\n",
    "household_id = baseline.calculate(\"household_id\", map_to=\"household\", period=year)\n",
    "aca_reform = reformed.calculate(\"aca_ptc\", map_to=\"household\", period=year)"
   ]
  },
  {
   "cell_type": "code",
   "execution_count": 10,
   "metadata": {},
   "outputs": [
    {
     "data": {
      "text/html": [
       "<div>\n",
       "<style scoped>\n",
       "    .dataframe tbody tr th:only-of-type {\n",
       "        vertical-align: middle;\n",
       "    }\n",
       "\n",
       "    .dataframe tbody tr th {\n",
       "        vertical-align: top;\n",
       "    }\n",
       "\n",
       "    .dataframe thead th {\n",
       "        text-align: right;\n",
       "    }\n",
       "</style>\n",
       "<table border=\"1\" class=\"dataframe\">\n",
       "  <thead>\n",
       "    <tr style=\"text-align: right;\">\n",
       "      <th></th>\n",
       "      <th>household_id</th>\n",
       "      <th>State</th>\n",
       "      <th>Married</th>\n",
       "      <th>Num_Dependents</th>\n",
       "      <th>Employment_Income</th>\n",
       "      <th>aca_baseline</th>\n",
       "      <th>aca_reform</th>\n",
       "    </tr>\n",
       "  </thead>\n",
       "  <tbody>\n",
       "    <tr>\n",
       "      <th>459</th>\n",
       "      <td>4428</td>\n",
       "      <td>MA</td>\n",
       "      <td>1.0</td>\n",
       "      <td>4.0</td>\n",
       "      <td>52859.65625</td>\n",
       "      <td>0.0</td>\n",
       "      <td>0.0</td>\n",
       "    </tr>\n",
       "  </tbody>\n",
       "</table>\n",
       "</div>"
      ],
      "text/plain": [
       "     household_id State  Married  Num_Dependents  Employment_Income  \\\n",
       "459          4428    MA      1.0             4.0        52859.65625   \n",
       "\n",
       "     aca_baseline  aca_reform  \n",
       "459           0.0         0.0  "
      ]
     },
     "execution_count": 10,
     "metadata": {},
     "output_type": "execute_result"
    }
   ],
   "source": [
    "# Create a DataFrame with the outputs\n",
    "data = {\n",
    "    \"household_id\": household_id,\n",
    "    \"State\": state,\n",
    "    \"Married\": married,\n",
    "    \"Num_Dependents\": num_dependents,\n",
    "    \"Employment_Income\": employment_income,\n",
    "    \"aca_baseline\": aca_baseline,\n",
    "    \"aca_reform\": aca_reform,\n",
    "\n",
    "   }\n",
    "\n",
    "\n",
    "df_outputs = pd.DataFrame(data)\n",
    "df_outputs[df_outputs['household_id'] == 4428]\n"
   ]
  },
  {
   "cell_type": "code",
   "execution_count": 11,
   "metadata": {},
   "outputs": [
    {
     "name": "stdout",
     "output_type": "stream",
     "text": [
      "Most positive net-income changes (PTC boosts):\n"
     ]
    },
    {
     "data": {
      "text/html": [
       "<div>\n",
       "<style scoped>\n",
       "    .dataframe tbody tr th:only-of-type {\n",
       "        vertical-align: middle;\n",
       "    }\n",
       "\n",
       "    .dataframe tbody tr th {\n",
       "        vertical-align: top;\n",
       "    }\n",
       "\n",
       "    .dataframe thead th {\n",
       "        text-align: right;\n",
       "    }\n",
       "</style>\n",
       "<table border=\"1\" class=\"dataframe\">\n",
       "  <thead>\n",
       "    <tr style=\"text-align: right;\">\n",
       "      <th></th>\n",
       "      <th>household_id</th>\n",
       "      <th>State</th>\n",
       "      <th>weight</th>\n",
       "      <th>net_change</th>\n",
       "      <th>wt_change</th>\n",
       "    </tr>\n",
       "  </thead>\n",
       "  <tbody>\n",
       "    <tr>\n",
       "      <th>3930</th>\n",
       "      <td>22572</td>\n",
       "      <td>WI</td>\n",
       "      <td>14746.737305</td>\n",
       "      <td>20787.404785</td>\n",
       "      <td>3.065464e+08</td>\n",
       "    </tr>\n",
       "    <tr>\n",
       "      <th>9715</th>\n",
       "      <td>63406</td>\n",
       "      <td>TX</td>\n",
       "      <td>313614.062500</td>\n",
       "      <td>20464.279297</td>\n",
       "      <td>6.417886e+09</td>\n",
       "    </tr>\n",
       "    <tr>\n",
       "      <th>7593</th>\n",
       "      <td>47863</td>\n",
       "      <td>FL</td>\n",
       "      <td>13494.670898</td>\n",
       "      <td>20171.796875</td>\n",
       "      <td>2.722118e+08</td>\n",
       "    </tr>\n",
       "    <tr>\n",
       "      <th>12472</th>\n",
       "      <td>83838</td>\n",
       "      <td>CA</td>\n",
       "      <td>42713.929688</td>\n",
       "      <td>18523.296875</td>\n",
       "      <td>7.912028e+08</td>\n",
       "    </tr>\n",
       "    <tr>\n",
       "      <th>11078</th>\n",
       "      <td>74935</td>\n",
       "      <td>UT</td>\n",
       "      <td>19624.578125</td>\n",
       "      <td>14949.250000</td>\n",
       "      <td>2.933727e+08</td>\n",
       "    </tr>\n",
       "    <tr>\n",
       "      <th>7287</th>\n",
       "      <td>46034</td>\n",
       "      <td>FL</td>\n",
       "      <td>191966.390625</td>\n",
       "      <td>13774.429688</td>\n",
       "      <td>2.644228e+09</td>\n",
       "    </tr>\n",
       "    <tr>\n",
       "      <th>1718</th>\n",
       "      <td>11792</td>\n",
       "      <td>NJ</td>\n",
       "      <td>22938.029297</td>\n",
       "      <td>9646.639648</td>\n",
       "      <td>2.212749e+08</td>\n",
       "    </tr>\n",
       "    <tr>\n",
       "      <th>5058</th>\n",
       "      <td>29932</td>\n",
       "      <td>KS</td>\n",
       "      <td>10356.357422</td>\n",
       "      <td>9572.796875</td>\n",
       "      <td>9.913931e+07</td>\n",
       "    </tr>\n",
       "    <tr>\n",
       "      <th>3335</th>\n",
       "      <td>19714</td>\n",
       "      <td>IL</td>\n",
       "      <td>12393.625000</td>\n",
       "      <td>7891.378906</td>\n",
       "      <td>9.780279e+07</td>\n",
       "    </tr>\n",
       "    <tr>\n",
       "      <th>4053</th>\n",
       "      <td>23036</td>\n",
       "      <td>WI</td>\n",
       "      <td>20458.789062</td>\n",
       "      <td>7672.568359</td>\n",
       "      <td>1.569715e+08</td>\n",
       "    </tr>\n",
       "  </tbody>\n",
       "</table>\n",
       "</div>"
      ],
      "text/plain": [
       "       household_id State         weight    net_change     wt_change\n",
       "3930          22572    WI   14746.737305  20787.404785  3.065464e+08\n",
       "9715          63406    TX  313614.062500  20464.279297  6.417886e+09\n",
       "7593          47863    FL   13494.670898  20171.796875  2.722118e+08\n",
       "12472         83838    CA   42713.929688  18523.296875  7.912028e+08\n",
       "11078         74935    UT   19624.578125  14949.250000  2.933727e+08\n",
       "7287          46034    FL  191966.390625  13774.429688  2.644228e+09\n",
       "1718          11792    NJ   22938.029297   9646.639648  2.212749e+08\n",
       "5058          29932    KS   10356.357422   9572.796875  9.913931e+07\n",
       "3335          19714    IL   12393.625000   7891.378906  9.780279e+07\n",
       "4053          23036    WI   20458.789062   7672.568359  1.569715e+08"
      ]
     },
     "metadata": {},
     "output_type": "display_data"
    },
    {
     "name": "stdout",
     "output_type": "stream",
     "text": [
      "\n",
      "Most negative net-income changes (PTC cuts):\n"
     ]
    },
    {
     "data": {
      "text/html": [
       "<div>\n",
       "<style scoped>\n",
       "    .dataframe tbody tr th:only-of-type {\n",
       "        vertical-align: middle;\n",
       "    }\n",
       "\n",
       "    .dataframe tbody tr th {\n",
       "        vertical-align: top;\n",
       "    }\n",
       "\n",
       "    .dataframe thead th {\n",
       "        text-align: right;\n",
       "    }\n",
       "</style>\n",
       "<table border=\"1\" class=\"dataframe\">\n",
       "  <thead>\n",
       "    <tr style=\"text-align: right;\">\n",
       "      <th></th>\n",
       "      <th>household_id</th>\n",
       "      <th>State</th>\n",
       "      <th>weight</th>\n",
       "      <th>net_change</th>\n",
       "      <th>wt_change</th>\n",
       "    </tr>\n",
       "  </thead>\n",
       "  <tbody>\n",
       "    <tr>\n",
       "      <th>0</th>\n",
       "      <td>12</td>\n",
       "      <td>ME</td>\n",
       "      <td>28690.535156</td>\n",
       "      <td>0.0</td>\n",
       "      <td>0.0</td>\n",
       "    </tr>\n",
       "    <tr>\n",
       "      <th>1</th>\n",
       "      <td>21</td>\n",
       "      <td>ME</td>\n",
       "      <td>10654.151367</td>\n",
       "      <td>0.0</td>\n",
       "      <td>0.0</td>\n",
       "    </tr>\n",
       "    <tr>\n",
       "      <th>8</th>\n",
       "      <td>73</td>\n",
       "      <td>ME</td>\n",
       "      <td>10017.615234</td>\n",
       "      <td>0.0</td>\n",
       "      <td>0.0</td>\n",
       "    </tr>\n",
       "    <tr>\n",
       "      <th>10</th>\n",
       "      <td>79</td>\n",
       "      <td>ME</td>\n",
       "      <td>21640.277344</td>\n",
       "      <td>0.0</td>\n",
       "      <td>0.0</td>\n",
       "    </tr>\n",
       "    <tr>\n",
       "      <th>20</th>\n",
       "      <td>134</td>\n",
       "      <td>ME</td>\n",
       "      <td>21905.371094</td>\n",
       "      <td>0.0</td>\n",
       "      <td>0.0</td>\n",
       "    </tr>\n",
       "    <tr>\n",
       "      <th>24</th>\n",
       "      <td>194</td>\n",
       "      <td>ME</td>\n",
       "      <td>14491.523438</td>\n",
       "      <td>0.0</td>\n",
       "      <td>0.0</td>\n",
       "    </tr>\n",
       "    <tr>\n",
       "      <th>26</th>\n",
       "      <td>206</td>\n",
       "      <td>ME</td>\n",
       "      <td>23982.746094</td>\n",
       "      <td>0.0</td>\n",
       "      <td>0.0</td>\n",
       "    </tr>\n",
       "    <tr>\n",
       "      <th>28</th>\n",
       "      <td>261</td>\n",
       "      <td>ME</td>\n",
       "      <td>14972.551758</td>\n",
       "      <td>0.0</td>\n",
       "      <td>0.0</td>\n",
       "    </tr>\n",
       "    <tr>\n",
       "      <th>41</th>\n",
       "      <td>356</td>\n",
       "      <td>ME</td>\n",
       "      <td>13415.000000</td>\n",
       "      <td>0.0</td>\n",
       "      <td>0.0</td>\n",
       "    </tr>\n",
       "    <tr>\n",
       "      <th>45</th>\n",
       "      <td>407</td>\n",
       "      <td>ME</td>\n",
       "      <td>10767.994141</td>\n",
       "      <td>0.0</td>\n",
       "      <td>0.0</td>\n",
       "    </tr>\n",
       "  </tbody>\n",
       "</table>\n",
       "</div>"
      ],
      "text/plain": [
       "    household_id State        weight  net_change  wt_change\n",
       "0             12    ME  28690.535156         0.0        0.0\n",
       "1             21    ME  10654.151367         0.0        0.0\n",
       "8             73    ME  10017.615234         0.0        0.0\n",
       "10            79    ME  21640.277344         0.0        0.0\n",
       "20           134    ME  21905.371094         0.0        0.0\n",
       "24           194    ME  14491.523438         0.0        0.0\n",
       "26           206    ME  23982.746094         0.0        0.0\n",
       "28           261    ME  14972.551758         0.0        0.0\n",
       "41           356    ME  13415.000000         0.0        0.0\n",
       "45           407    ME  10767.994141         0.0        0.0"
      ]
     },
     "metadata": {},
     "output_type": "display_data"
    }
   ],
   "source": [
    "# -------------------------------------------------------------\n",
    "# 0️⃣  Make sure the CPS household weight is in the DataFrame\n",
    "# -------------------------------------------------------------\n",
    "# If you already stuffed it in earlier, skip this.\n",
    "df_outputs[\"weight\"] = aca_baseline.weights    # aligns by household_id\n",
    "\n",
    "# -------------------------------------------------------------\n",
    "# 1️⃣  Define a weight threshold for “reasonably representative”\n",
    "# -------------------------------------------------------------\n",
    "MIN_WT = 10_000          # ↖ try 5_000 if you want a looser cut\n",
    "\n",
    "df_big = df_outputs[df_outputs[\"weight\"] >= MIN_WT].copy()\n",
    "\n",
    "# -------------------------------------------------------------\n",
    "# 2️⃣  Net PTC change and (optionally) weighted national impact\n",
    "# -------------------------------------------------------------\n",
    "df_big[\"net_change\"] = df_big[\"aca_reform\"] - df_big[\"aca_baseline\"]\n",
    "df_big[\"wt_change\"]  = df_big[\"net_change\"] * df_big[\"weight\"]  # national $ impact\n",
    "\n",
    "# -------------------------------------------------------------\n",
    "# 3️⃣  Biggest ↑ increases and ↓ decreases, LIMITED to big-weight HHs\n",
    "# -------------------------------------------------------------\n",
    "N = 10   # how many households to show in each direction\n",
    "\n",
    "cols = [\"household_id\", \"State\", \"weight\", \"net_change\", \"wt_change\"]\n",
    "\n",
    "top_increases = df_big.nlargest(N, \"net_change\")[cols]\n",
    "top_decreases = df_big.nsmallest(N, \"net_change\")[cols]\n",
    "\n",
    "print(\"Most positive net-income changes (PTC boosts):\")\n",
    "display(top_increases)\n",
    "\n",
    "print(\"\\nMost negative net-income changes (PTC cuts):\")\n",
    "display(top_decreases)\n"
   ]
  },
  {
   "cell_type": "code",
   "execution_count": 12,
   "metadata": {},
   "outputs": [
    {
     "data": {
      "text/html": [
       "<div>\n",
       "<style scoped>\n",
       "    .dataframe tbody tr th:only-of-type {\n",
       "        vertical-align: middle;\n",
       "    }\n",
       "\n",
       "    .dataframe tbody tr th {\n",
       "        vertical-align: top;\n",
       "    }\n",
       "\n",
       "    .dataframe thead th {\n",
       "        text-align: right;\n",
       "    }\n",
       "</style>\n",
       "<table border=\"1\" class=\"dataframe\">\n",
       "  <thead>\n",
       "    <tr style=\"text-align: right;\">\n",
       "      <th></th>\n",
       "      <th>household_id</th>\n",
       "      <th>State</th>\n",
       "      <th>Married</th>\n",
       "      <th>Num_Dependents</th>\n",
       "      <th>Employment_Income</th>\n",
       "      <th>aca_baseline</th>\n",
       "      <th>aca_reform</th>\n",
       "      <th>weight</th>\n",
       "    </tr>\n",
       "  </thead>\n",
       "  <tbody>\n",
       "    <tr>\n",
       "      <th>459</th>\n",
       "      <td>4428</td>\n",
       "      <td>MA</td>\n",
       "      <td>1.0</td>\n",
       "      <td>4.0</td>\n",
       "      <td>52859.65625</td>\n",
       "      <td>0.0</td>\n",
       "      <td>0.0</td>\n",
       "      <td>4397.432129</td>\n",
       "    </tr>\n",
       "  </tbody>\n",
       "</table>\n",
       "</div>"
      ],
      "text/plain": [
       "     household_id State  Married  Num_Dependents  Employment_Income  \\\n",
       "459          4428    MA      1.0             4.0        52859.65625   \n",
       "\n",
       "     aca_baseline  aca_reform       weight  \n",
       "459           0.0         0.0  4397.432129  "
      ]
     },
     "execution_count": 12,
     "metadata": {},
     "output_type": "execute_result"
    }
   ],
   "source": [
    "df_outputs[df_outputs['household_id'] == 4428]\n"
   ]
  },
  {
   "cell_type": "code",
   "execution_count": 13,
   "metadata": {},
   "outputs": [
    {
     "name": "stdout",
     "output_type": "stream",
     "text": [
      "Average weighted PTC change among households with any change: $2,730.13\n"
     ]
    }
   ],
   "source": [
    "# 0. Make sure net_change exists\n",
    "df_outputs[\"net_change\"] = df_outputs[\"aca_reform\"] - df_outputs[\"aca_baseline\"]\n",
    "\n",
    "# 1. Flag households with any change\n",
    "mask = df_outputs[\"net_change\"] != 0          # True for ↑ or ↓\n",
    "\n",
    "# 2. Weighted mean among those households\n",
    "avg_net_change = (\n",
    "    (df_outputs.loc[mask, \"net_change\"] * df_outputs.loc[mask, \"weight\"]).sum()\n",
    "    / df_outputs.loc[mask, \"weight\"].sum()\n",
    ")\n",
    "\n",
    "print(f\"Average weighted PTC change among households with any change: \"\n",
    "      f\"${avg_net_change:,.2f}\")\n"
   ]
  },
  {
   "cell_type": "code",
   "execution_count": 14,
   "metadata": {},
   "outputs": [
    {
     "name": "stdout",
     "output_type": "stream",
     "text": [
      "Average weighted PTC change among households with a PTC in both baseline and reform: $2,239.05\n"
     ]
    }
   ],
   "source": [
    "# ------------------------------------------------------------------\n",
    "# 0.  Ensure supporting columns exist\n",
    "# ------------------------------------------------------------------\n",
    "df_outputs[\"net_change\"] = df_outputs[\"aca_reform\"] - df_outputs[\"aca_baseline\"]\n",
    "\n",
    "# ------------------------------------------------------------------\n",
    "# 1.  Keep only households with a PTC in *both* scenarios\n",
    "# ------------------------------------------------------------------\n",
    "mask_both_ptc = (df_outputs[\"aca_baseline\"] > 0) & (df_outputs[\"aca_reform\"] > 0)\n",
    "df_dual_ptc   = df_outputs[mask_both_ptc]\n",
    "\n",
    "# ------------------------------------------------------------------\n",
    "# 2.  Weighted average of the net change (household perspective)\n",
    "# ------------------------------------------------------------------\n",
    "avg_net_change_dual_hh = (\n",
    "    (df_dual_ptc[\"net_change\"] * df_dual_ptc[\"weight\"]).sum()\n",
    "    / df_dual_ptc[\"weight\"].sum()\n",
    ")\n",
    "\n",
    "print(f\"Average weighted PTC change among households with a PTC in both \"\n",
    "      f\"baseline and reform: ${avg_net_change_dual_hh:,.2f}\")\n"
   ]
  },
  {
   "cell_type": "code",
   "execution_count": 15,
   "metadata": {},
   "outputs": [
    {
     "name": "stdout",
     "output_type": "stream",
     "text": [
      "Average weighted PTC change among households that newly receive a PTC under the reform: $5,302.77\n"
     ]
    }
   ],
   "source": [
    "# ------------------------------------------------------------------\n",
    "# 0.  Ensure supporting columns exist (already done above)\n",
    "# ------------------------------------------------------------------\n",
    "df_outputs[\"net_change\"] = df_outputs[\"aca_reform\"] - df_outputs[\"aca_baseline\"]\n",
    "\n",
    "# ------------------------------------------------------------------\n",
    "# 1.  Keep only households that *gain* a PTC (reform > 0, baseline == 0)\n",
    "# ------------------------------------------------------------------\n",
    "mask_reform_only = (df_outputs[\"aca_baseline\"] == 0) & (df_outputs[\"aca_reform\"] > 0)\n",
    "df_reform_only   = df_outputs[mask_reform_only]\n",
    "\n",
    "# ------------------------------------------------------------------\n",
    "# 2.  Weighted average of the net change (household perspective)\n",
    "# ------------------------------------------------------------------\n",
    "avg_net_change_reform_only_hh = (\n",
    "    (df_reform_only[\"net_change\"] * df_reform_only[\"weight\"]).sum()\n",
    "    / df_reform_only[\"weight\"].sum()\n",
    ")\n",
    "\n",
    "print(f\"Average weighted PTC change among households that newly receive a PTC \"\n",
    "      f\"under the reform: ${avg_net_change_reform_only_hh:,.2f}\")\n"
   ]
  },
  {
   "cell_type": "code",
   "execution_count": 16,
   "metadata": {},
   "outputs": [
    {
     "data": {
      "text/plain": [
       "32.76222811087988"
      ]
     },
     "execution_count": 16,
     "metadata": {},
     "output_type": "execute_result"
    }
   ],
   "source": [
    "import numpy as np\n",
    "from policyengine_us import Simulation\n",
    "\n",
    "# -------------------------------\n",
    "# 1. Pull household-level results\n",
    "# -------------------------------\n",
    "# ACA PTC (baseline and reform)\n",
    "ptc_base   = baseline.calculate(\"aca_ptc\", map_to=\"household\", period=2026)\n",
    "ptc_reform = reformed.calculate(\"aca_ptc\",   map_to=\"household\", period=2026)\n",
    "\n",
    "# Household weights (same for both sims)\n",
    "hh_wt      = baseline.calculate(\"household_weight\", map_to=\"household\", period=2026)\n",
    "\n",
    "# -------------------------------\n",
    "# 2. Weighted sum of the change\n",
    "# -------------------------------\n",
    "weighted_total_change = ptc_reform - ptc_base\n",
    "\n",
    "# Optional: average change per household\n",
    "weighted_total_change.sum()/1e9"
   ]
  },
  {
   "cell_type": "code",
   "execution_count": 17,
   "metadata": {},
   "outputs": [
    {
     "data": {
      "application/vnd.plotly.v1+json": {
       "config": {
        "plotlyServerURL": "https://plot.ly"
       },
       "data": [
        {
         "marker": {
          "color": [
           "#2C6496",
           "#2C6496",
           "#2C6496",
           "#2C6496",
           "#2C6496",
           "#2C6496",
           "#2C6496",
           "#2C6496",
           "#2C6496",
           "#2C6496"
          ]
         },
         "text": [
          "$45",
          "$129",
          "$173",
          "$94",
          "$173",
          "$154",
          "$165",
          "$283",
          "$730",
          "$267"
         ],
         "textposition": "inside",
         "type": "bar",
         "x": [
          1,
          2,
          3,
          4,
          5,
          6,
          7,
          8,
          9,
          10
         ],
         "y": [
          45.11362075805664,
          128.75291442871094,
          173.0161895751953,
          93.90471649169922,
          172.68763732910156,
          153.82765197753906,
          165.1871337890625,
          282.6961975097656,
          729.6290283203125,
          266.8133850097656
         ]
        }
       ],
       "layout": {
        "shapes": [
         {
          "line": {
           "color": "black",
           "width": 1
          },
          "type": "line",
          "x0": 0,
          "x1": 1,
          "xref": "x domain",
          "y0": 0,
          "y1": 0,
          "yref": "y"
         }
        ],
        "showlegend": false,
        "template": {
         "data": {
          "bar": [
           {
            "error_x": {
             "color": "#2a3f5f"
            },
            "error_y": {
             "color": "#2a3f5f"
            },
            "marker": {
             "line": {
              "color": "#E5ECF6",
              "width": 0.5
             },
             "pattern": {
              "fillmode": "overlay",
              "size": 10,
              "solidity": 0.2
             }
            },
            "type": "bar"
           }
          ],
          "barpolar": [
           {
            "marker": {
             "line": {
              "color": "#E5ECF6",
              "width": 0.5
             },
             "pattern": {
              "fillmode": "overlay",
              "size": 10,
              "solidity": 0.2
             }
            },
            "type": "barpolar"
           }
          ],
          "carpet": [
           {
            "aaxis": {
             "endlinecolor": "#2a3f5f",
             "gridcolor": "white",
             "linecolor": "white",
             "minorgridcolor": "white",
             "startlinecolor": "#2a3f5f"
            },
            "baxis": {
             "endlinecolor": "#2a3f5f",
             "gridcolor": "white",
             "linecolor": "white",
             "minorgridcolor": "white",
             "startlinecolor": "#2a3f5f"
            },
            "type": "carpet"
           }
          ],
          "choropleth": [
           {
            "colorbar": {
             "outlinewidth": 0,
             "ticks": ""
            },
            "type": "choropleth"
           }
          ],
          "contour": [
           {
            "colorbar": {
             "outlinewidth": 0,
             "ticks": ""
            },
            "colorscale": [
             [
              0,
              "#0d0887"
             ],
             [
              0.1111111111111111,
              "#46039f"
             ],
             [
              0.2222222222222222,
              "#7201a8"
             ],
             [
              0.3333333333333333,
              "#9c179e"
             ],
             [
              0.4444444444444444,
              "#bd3786"
             ],
             [
              0.5555555555555556,
              "#d8576b"
             ],
             [
              0.6666666666666666,
              "#ed7953"
             ],
             [
              0.7777777777777778,
              "#fb9f3a"
             ],
             [
              0.8888888888888888,
              "#fdca26"
             ],
             [
              1,
              "#f0f921"
             ]
            ],
            "type": "contour"
           }
          ],
          "contourcarpet": [
           {
            "colorbar": {
             "outlinewidth": 0,
             "ticks": ""
            },
            "type": "contourcarpet"
           }
          ],
          "heatmap": [
           {
            "colorbar": {
             "outlinewidth": 0,
             "ticks": ""
            },
            "colorscale": [
             [
              0,
              "#0d0887"
             ],
             [
              0.1111111111111111,
              "#46039f"
             ],
             [
              0.2222222222222222,
              "#7201a8"
             ],
             [
              0.3333333333333333,
              "#9c179e"
             ],
             [
              0.4444444444444444,
              "#bd3786"
             ],
             [
              0.5555555555555556,
              "#d8576b"
             ],
             [
              0.6666666666666666,
              "#ed7953"
             ],
             [
              0.7777777777777778,
              "#fb9f3a"
             ],
             [
              0.8888888888888888,
              "#fdca26"
             ],
             [
              1,
              "#f0f921"
             ]
            ],
            "type": "heatmap"
           }
          ],
          "heatmapgl": [
           {
            "colorbar": {
             "outlinewidth": 0,
             "ticks": ""
            },
            "colorscale": [
             [
              0,
              "#0d0887"
             ],
             [
              0.1111111111111111,
              "#46039f"
             ],
             [
              0.2222222222222222,
              "#7201a8"
             ],
             [
              0.3333333333333333,
              "#9c179e"
             ],
             [
              0.4444444444444444,
              "#bd3786"
             ],
             [
              0.5555555555555556,
              "#d8576b"
             ],
             [
              0.6666666666666666,
              "#ed7953"
             ],
             [
              0.7777777777777778,
              "#fb9f3a"
             ],
             [
              0.8888888888888888,
              "#fdca26"
             ],
             [
              1,
              "#f0f921"
             ]
            ],
            "type": "heatmapgl"
           }
          ],
          "histogram": [
           {
            "marker": {
             "pattern": {
              "fillmode": "overlay",
              "size": 10,
              "solidity": 0.2
             }
            },
            "type": "histogram"
           }
          ],
          "histogram2d": [
           {
            "colorbar": {
             "outlinewidth": 0,
             "ticks": ""
            },
            "colorscale": [
             [
              0,
              "#0d0887"
             ],
             [
              0.1111111111111111,
              "#46039f"
             ],
             [
              0.2222222222222222,
              "#7201a8"
             ],
             [
              0.3333333333333333,
              "#9c179e"
             ],
             [
              0.4444444444444444,
              "#bd3786"
             ],
             [
              0.5555555555555556,
              "#d8576b"
             ],
             [
              0.6666666666666666,
              "#ed7953"
             ],
             [
              0.7777777777777778,
              "#fb9f3a"
             ],
             [
              0.8888888888888888,
              "#fdca26"
             ],
             [
              1,
              "#f0f921"
             ]
            ],
            "type": "histogram2d"
           }
          ],
          "histogram2dcontour": [
           {
            "colorbar": {
             "outlinewidth": 0,
             "ticks": ""
            },
            "colorscale": [
             [
              0,
              "#0d0887"
             ],
             [
              0.1111111111111111,
              "#46039f"
             ],
             [
              0.2222222222222222,
              "#7201a8"
             ],
             [
              0.3333333333333333,
              "#9c179e"
             ],
             [
              0.4444444444444444,
              "#bd3786"
             ],
             [
              0.5555555555555556,
              "#d8576b"
             ],
             [
              0.6666666666666666,
              "#ed7953"
             ],
             [
              0.7777777777777778,
              "#fb9f3a"
             ],
             [
              0.8888888888888888,
              "#fdca26"
             ],
             [
              1,
              "#f0f921"
             ]
            ],
            "type": "histogram2dcontour"
           }
          ],
          "mesh3d": [
           {
            "colorbar": {
             "outlinewidth": 0,
             "ticks": ""
            },
            "type": "mesh3d"
           }
          ],
          "parcoords": [
           {
            "line": {
             "colorbar": {
              "outlinewidth": 0,
              "ticks": ""
             }
            },
            "type": "parcoords"
           }
          ],
          "pie": [
           {
            "automargin": true,
            "type": "pie"
           }
          ],
          "scatter": [
           {
            "fillpattern": {
             "fillmode": "overlay",
             "size": 10,
             "solidity": 0.2
            },
            "type": "scatter"
           }
          ],
          "scatter3d": [
           {
            "line": {
             "colorbar": {
              "outlinewidth": 0,
              "ticks": ""
             }
            },
            "marker": {
             "colorbar": {
              "outlinewidth": 0,
              "ticks": ""
             }
            },
            "type": "scatter3d"
           }
          ],
          "scattercarpet": [
           {
            "marker": {
             "colorbar": {
              "outlinewidth": 0,
              "ticks": ""
             }
            },
            "type": "scattercarpet"
           }
          ],
          "scattergeo": [
           {
            "marker": {
             "colorbar": {
              "outlinewidth": 0,
              "ticks": ""
             }
            },
            "type": "scattergeo"
           }
          ],
          "scattergl": [
           {
            "marker": {
             "colorbar": {
              "outlinewidth": 0,
              "ticks": ""
             }
            },
            "type": "scattergl"
           }
          ],
          "scattermapbox": [
           {
            "marker": {
             "colorbar": {
              "outlinewidth": 0,
              "ticks": ""
             }
            },
            "type": "scattermapbox"
           }
          ],
          "scatterpolar": [
           {
            "marker": {
             "colorbar": {
              "outlinewidth": 0,
              "ticks": ""
             }
            },
            "type": "scatterpolar"
           }
          ],
          "scatterpolargl": [
           {
            "marker": {
             "colorbar": {
              "outlinewidth": 0,
              "ticks": ""
             }
            },
            "type": "scatterpolargl"
           }
          ],
          "scatterternary": [
           {
            "marker": {
             "colorbar": {
              "outlinewidth": 0,
              "ticks": ""
             }
            },
            "type": "scatterternary"
           }
          ],
          "surface": [
           {
            "colorbar": {
             "outlinewidth": 0,
             "ticks": ""
            },
            "colorscale": [
             [
              0,
              "#0d0887"
             ],
             [
              0.1111111111111111,
              "#46039f"
             ],
             [
              0.2222222222222222,
              "#7201a8"
             ],
             [
              0.3333333333333333,
              "#9c179e"
             ],
             [
              0.4444444444444444,
              "#bd3786"
             ],
             [
              0.5555555555555556,
              "#d8576b"
             ],
             [
              0.6666666666666666,
              "#ed7953"
             ],
             [
              0.7777777777777778,
              "#fb9f3a"
             ],
             [
              0.8888888888888888,
              "#fdca26"
             ],
             [
              1,
              "#f0f921"
             ]
            ],
            "type": "surface"
           }
          ],
          "table": [
           {
            "cells": {
             "fill": {
              "color": "#EBF0F8"
             },
             "line": {
              "color": "white"
             }
            },
            "header": {
             "fill": {
              "color": "#C8D4E3"
             },
             "line": {
              "color": "white"
             }
            },
            "type": "table"
           }
          ]
         },
         "layout": {
          "annotationdefaults": {
           "arrowcolor": "#2a3f5f",
           "arrowhead": 0,
           "arrowwidth": 1
          },
          "autotypenumbers": "strict",
          "coloraxis": {
           "colorbar": {
            "outlinewidth": 0,
            "ticks": ""
           }
          },
          "colorscale": {
           "diverging": [
            [
             0,
             "#8e0152"
            ],
            [
             0.1,
             "#c51b7d"
            ],
            [
             0.2,
             "#de77ae"
            ],
            [
             0.3,
             "#f1b6da"
            ],
            [
             0.4,
             "#fde0ef"
            ],
            [
             0.5,
             "#f7f7f7"
            ],
            [
             0.6,
             "#e6f5d0"
            ],
            [
             0.7,
             "#b8e186"
            ],
            [
             0.8,
             "#7fbc41"
            ],
            [
             0.9,
             "#4d9221"
            ],
            [
             1,
             "#276419"
            ]
           ],
           "sequential": [
            [
             0,
             "#0d0887"
            ],
            [
             0.1111111111111111,
             "#46039f"
            ],
            [
             0.2222222222222222,
             "#7201a8"
            ],
            [
             0.3333333333333333,
             "#9c179e"
            ],
            [
             0.4444444444444444,
             "#bd3786"
            ],
            [
             0.5555555555555556,
             "#d8576b"
            ],
            [
             0.6666666666666666,
             "#ed7953"
            ],
            [
             0.7777777777777778,
             "#fb9f3a"
            ],
            [
             0.8888888888888888,
             "#fdca26"
            ],
            [
             1,
             "#f0f921"
            ]
           ],
           "sequentialminus": [
            [
             0,
             "#0d0887"
            ],
            [
             0.1111111111111111,
             "#46039f"
            ],
            [
             0.2222222222222222,
             "#7201a8"
            ],
            [
             0.3333333333333333,
             "#9c179e"
            ],
            [
             0.4444444444444444,
             "#bd3786"
            ],
            [
             0.5555555555555556,
             "#d8576b"
            ],
            [
             0.6666666666666666,
             "#ed7953"
            ],
            [
             0.7777777777777778,
             "#fb9f3a"
            ],
            [
             0.8888888888888888,
             "#fdca26"
            ],
            [
             1,
             "#f0f921"
            ]
           ]
          },
          "colorway": [
           "#636efa",
           "#EF553B",
           "#00cc96",
           "#ab63fa",
           "#FFA15A",
           "#19d3f3",
           "#FF6692",
           "#B6E880",
           "#FF97FF",
           "#FECB52"
          ],
          "font": {
           "color": "#2a3f5f"
          },
          "geo": {
           "bgcolor": "white",
           "lakecolor": "white",
           "landcolor": "#E5ECF6",
           "showlakes": true,
           "showland": true,
           "subunitcolor": "white"
          },
          "hoverlabel": {
           "align": "left"
          },
          "hovermode": "closest",
          "mapbox": {
           "style": "light"
          },
          "paper_bgcolor": "white",
          "plot_bgcolor": "#E5ECF6",
          "polar": {
           "angularaxis": {
            "gridcolor": "white",
            "linecolor": "white",
            "ticks": ""
           },
           "bgcolor": "#E5ECF6",
           "radialaxis": {
            "gridcolor": "white",
            "linecolor": "white",
            "ticks": ""
           }
          },
          "scene": {
           "xaxis": {
            "backgroundcolor": "#E5ECF6",
            "gridcolor": "white",
            "gridwidth": 2,
            "linecolor": "white",
            "showbackground": true,
            "ticks": "",
            "zerolinecolor": "white"
           },
           "yaxis": {
            "backgroundcolor": "#E5ECF6",
            "gridcolor": "white",
            "gridwidth": 2,
            "linecolor": "white",
            "showbackground": true,
            "ticks": "",
            "zerolinecolor": "white"
           },
           "zaxis": {
            "backgroundcolor": "#E5ECF6",
            "gridcolor": "white",
            "gridwidth": 2,
            "linecolor": "white",
            "showbackground": true,
            "ticks": "",
            "zerolinecolor": "white"
           }
          },
          "shapedefaults": {
           "line": {
            "color": "#2a3f5f"
           }
          },
          "ternary": {
           "aaxis": {
            "gridcolor": "white",
            "linecolor": "white",
            "ticks": ""
           },
           "baxis": {
            "gridcolor": "white",
            "linecolor": "white",
            "ticks": ""
           },
           "bgcolor": "#E5ECF6",
           "caxis": {
            "gridcolor": "white",
            "linecolor": "white",
            "ticks": ""
           }
          },
          "title": {
           "x": 0.05
          },
          "xaxis": {
           "automargin": true,
           "gridcolor": "white",
           "linecolor": "white",
           "ticks": "",
           "title": {
            "standoff": 15
           },
           "zerolinecolor": "white",
           "zerolinewidth": 2
          },
          "yaxis": {
           "automargin": true,
           "gridcolor": "white",
           "linecolor": "white",
           "ticks": "",
           "title": {
            "standoff": 15
           },
           "zerolinecolor": "white",
           "zerolinewidth": 2
          }
         }
        },
        "title": {
         "text": "Impact of Extending IRA PTC Expansion by Income Decile – 2026"
        },
        "xaxis": {
         "title": {
          "text": "Income Decile"
         }
        },
        "yaxis": {
         "title": {
          "text": "Average change in household net income ($)"
         }
        }
       }
      }
     },
     "metadata": {},
     "output_type": "display_data"
    },
    {
     "data": {
      "application/vnd.plotly.v1+json": {
       "config": {
        "plotlyServerURL": "https://plot.ly"
       },
       "data": [
        {
         "marker": {
          "color": [
           "#2C6496",
           "#2C6496",
           "#2C6496",
           "#2C6496",
           "#2C6496",
           "#2C6496",
           "#2C6496",
           "#2C6496",
           "#2C6496",
           "#2C6496"
          ]
         },
         "text": [
          "$45",
          "$129",
          "$173",
          "$94",
          "$173",
          "$154",
          "$165",
          "$283",
          "$730",
          "$267"
         ],
         "textposition": "inside",
         "type": "bar",
         "x": [
          1,
          2,
          3,
          4,
          5,
          6,
          7,
          8,
          9,
          10
         ],
         "y": [
          45.11362075805664,
          128.75291442871094,
          173.0161895751953,
          93.90471649169922,
          172.68763732910156,
          153.82765197753906,
          165.1871337890625,
          282.6961975097656,
          729.6290283203125,
          266.8133850097656
         ]
        }
       ],
       "layout": {
        "shapes": [
         {
          "line": {
           "color": "black",
           "width": 1
          },
          "type": "line",
          "x0": 0,
          "x1": 1,
          "xref": "x domain",
          "y0": 0,
          "y1": 0,
          "yref": "y"
         }
        ],
        "showlegend": false,
        "template": {
         "data": {
          "bar": [
           {
            "error_x": {
             "color": "#2a3f5f"
            },
            "error_y": {
             "color": "#2a3f5f"
            },
            "marker": {
             "line": {
              "color": "#E5ECF6",
              "width": 0.5
             },
             "pattern": {
              "fillmode": "overlay",
              "size": 10,
              "solidity": 0.2
             }
            },
            "type": "bar"
           }
          ],
          "barpolar": [
           {
            "marker": {
             "line": {
              "color": "#E5ECF6",
              "width": 0.5
             },
             "pattern": {
              "fillmode": "overlay",
              "size": 10,
              "solidity": 0.2
             }
            },
            "type": "barpolar"
           }
          ],
          "carpet": [
           {
            "aaxis": {
             "endlinecolor": "#2a3f5f",
             "gridcolor": "white",
             "linecolor": "white",
             "minorgridcolor": "white",
             "startlinecolor": "#2a3f5f"
            },
            "baxis": {
             "endlinecolor": "#2a3f5f",
             "gridcolor": "white",
             "linecolor": "white",
             "minorgridcolor": "white",
             "startlinecolor": "#2a3f5f"
            },
            "type": "carpet"
           }
          ],
          "choropleth": [
           {
            "colorbar": {
             "outlinewidth": 0,
             "ticks": ""
            },
            "type": "choropleth"
           }
          ],
          "contour": [
           {
            "colorbar": {
             "outlinewidth": 0,
             "ticks": ""
            },
            "colorscale": [
             [
              0,
              "#0d0887"
             ],
             [
              0.1111111111111111,
              "#46039f"
             ],
             [
              0.2222222222222222,
              "#7201a8"
             ],
             [
              0.3333333333333333,
              "#9c179e"
             ],
             [
              0.4444444444444444,
              "#bd3786"
             ],
             [
              0.5555555555555556,
              "#d8576b"
             ],
             [
              0.6666666666666666,
              "#ed7953"
             ],
             [
              0.7777777777777778,
              "#fb9f3a"
             ],
             [
              0.8888888888888888,
              "#fdca26"
             ],
             [
              1,
              "#f0f921"
             ]
            ],
            "type": "contour"
           }
          ],
          "contourcarpet": [
           {
            "colorbar": {
             "outlinewidth": 0,
             "ticks": ""
            },
            "type": "contourcarpet"
           }
          ],
          "heatmap": [
           {
            "colorbar": {
             "outlinewidth": 0,
             "ticks": ""
            },
            "colorscale": [
             [
              0,
              "#0d0887"
             ],
             [
              0.1111111111111111,
              "#46039f"
             ],
             [
              0.2222222222222222,
              "#7201a8"
             ],
             [
              0.3333333333333333,
              "#9c179e"
             ],
             [
              0.4444444444444444,
              "#bd3786"
             ],
             [
              0.5555555555555556,
              "#d8576b"
             ],
             [
              0.6666666666666666,
              "#ed7953"
             ],
             [
              0.7777777777777778,
              "#fb9f3a"
             ],
             [
              0.8888888888888888,
              "#fdca26"
             ],
             [
              1,
              "#f0f921"
             ]
            ],
            "type": "heatmap"
           }
          ],
          "heatmapgl": [
           {
            "colorbar": {
             "outlinewidth": 0,
             "ticks": ""
            },
            "colorscale": [
             [
              0,
              "#0d0887"
             ],
             [
              0.1111111111111111,
              "#46039f"
             ],
             [
              0.2222222222222222,
              "#7201a8"
             ],
             [
              0.3333333333333333,
              "#9c179e"
             ],
             [
              0.4444444444444444,
              "#bd3786"
             ],
             [
              0.5555555555555556,
              "#d8576b"
             ],
             [
              0.6666666666666666,
              "#ed7953"
             ],
             [
              0.7777777777777778,
              "#fb9f3a"
             ],
             [
              0.8888888888888888,
              "#fdca26"
             ],
             [
              1,
              "#f0f921"
             ]
            ],
            "type": "heatmapgl"
           }
          ],
          "histogram": [
           {
            "marker": {
             "pattern": {
              "fillmode": "overlay",
              "size": 10,
              "solidity": 0.2
             }
            },
            "type": "histogram"
           }
          ],
          "histogram2d": [
           {
            "colorbar": {
             "outlinewidth": 0,
             "ticks": ""
            },
            "colorscale": [
             [
              0,
              "#0d0887"
             ],
             [
              0.1111111111111111,
              "#46039f"
             ],
             [
              0.2222222222222222,
              "#7201a8"
             ],
             [
              0.3333333333333333,
              "#9c179e"
             ],
             [
              0.4444444444444444,
              "#bd3786"
             ],
             [
              0.5555555555555556,
              "#d8576b"
             ],
             [
              0.6666666666666666,
              "#ed7953"
             ],
             [
              0.7777777777777778,
              "#fb9f3a"
             ],
             [
              0.8888888888888888,
              "#fdca26"
             ],
             [
              1,
              "#f0f921"
             ]
            ],
            "type": "histogram2d"
           }
          ],
          "histogram2dcontour": [
           {
            "colorbar": {
             "outlinewidth": 0,
             "ticks": ""
            },
            "colorscale": [
             [
              0,
              "#0d0887"
             ],
             [
              0.1111111111111111,
              "#46039f"
             ],
             [
              0.2222222222222222,
              "#7201a8"
             ],
             [
              0.3333333333333333,
              "#9c179e"
             ],
             [
              0.4444444444444444,
              "#bd3786"
             ],
             [
              0.5555555555555556,
              "#d8576b"
             ],
             [
              0.6666666666666666,
              "#ed7953"
             ],
             [
              0.7777777777777778,
              "#fb9f3a"
             ],
             [
              0.8888888888888888,
              "#fdca26"
             ],
             [
              1,
              "#f0f921"
             ]
            ],
            "type": "histogram2dcontour"
           }
          ],
          "mesh3d": [
           {
            "colorbar": {
             "outlinewidth": 0,
             "ticks": ""
            },
            "type": "mesh3d"
           }
          ],
          "parcoords": [
           {
            "line": {
             "colorbar": {
              "outlinewidth": 0,
              "ticks": ""
             }
            },
            "type": "parcoords"
           }
          ],
          "pie": [
           {
            "automargin": true,
            "type": "pie"
           }
          ],
          "scatter": [
           {
            "fillpattern": {
             "fillmode": "overlay",
             "size": 10,
             "solidity": 0.2
            },
            "type": "scatter"
           }
          ],
          "scatter3d": [
           {
            "line": {
             "colorbar": {
              "outlinewidth": 0,
              "ticks": ""
             }
            },
            "marker": {
             "colorbar": {
              "outlinewidth": 0,
              "ticks": ""
             }
            },
            "type": "scatter3d"
           }
          ],
          "scattercarpet": [
           {
            "marker": {
             "colorbar": {
              "outlinewidth": 0,
              "ticks": ""
             }
            },
            "type": "scattercarpet"
           }
          ],
          "scattergeo": [
           {
            "marker": {
             "colorbar": {
              "outlinewidth": 0,
              "ticks": ""
             }
            },
            "type": "scattergeo"
           }
          ],
          "scattergl": [
           {
            "marker": {
             "colorbar": {
              "outlinewidth": 0,
              "ticks": ""
             }
            },
            "type": "scattergl"
           }
          ],
          "scattermapbox": [
           {
            "marker": {
             "colorbar": {
              "outlinewidth": 0,
              "ticks": ""
             }
            },
            "type": "scattermapbox"
           }
          ],
          "scatterpolar": [
           {
            "marker": {
             "colorbar": {
              "outlinewidth": 0,
              "ticks": ""
             }
            },
            "type": "scatterpolar"
           }
          ],
          "scatterpolargl": [
           {
            "marker": {
             "colorbar": {
              "outlinewidth": 0,
              "ticks": ""
             }
            },
            "type": "scatterpolargl"
           }
          ],
          "scatterternary": [
           {
            "marker": {
             "colorbar": {
              "outlinewidth": 0,
              "ticks": ""
             }
            },
            "type": "scatterternary"
           }
          ],
          "surface": [
           {
            "colorbar": {
             "outlinewidth": 0,
             "ticks": ""
            },
            "colorscale": [
             [
              0,
              "#0d0887"
             ],
             [
              0.1111111111111111,
              "#46039f"
             ],
             [
              0.2222222222222222,
              "#7201a8"
             ],
             [
              0.3333333333333333,
              "#9c179e"
             ],
             [
              0.4444444444444444,
              "#bd3786"
             ],
             [
              0.5555555555555556,
              "#d8576b"
             ],
             [
              0.6666666666666666,
              "#ed7953"
             ],
             [
              0.7777777777777778,
              "#fb9f3a"
             ],
             [
              0.8888888888888888,
              "#fdca26"
             ],
             [
              1,
              "#f0f921"
             ]
            ],
            "type": "surface"
           }
          ],
          "table": [
           {
            "cells": {
             "fill": {
              "color": "#EBF0F8"
             },
             "line": {
              "color": "white"
             }
            },
            "header": {
             "fill": {
              "color": "#C8D4E3"
             },
             "line": {
              "color": "white"
             }
            },
            "type": "table"
           }
          ]
         },
         "layout": {
          "annotationdefaults": {
           "arrowcolor": "#2a3f5f",
           "arrowhead": 0,
           "arrowwidth": 1
          },
          "autotypenumbers": "strict",
          "coloraxis": {
           "colorbar": {
            "outlinewidth": 0,
            "ticks": ""
           }
          },
          "colorscale": {
           "diverging": [
            [
             0,
             "#8e0152"
            ],
            [
             0.1,
             "#c51b7d"
            ],
            [
             0.2,
             "#de77ae"
            ],
            [
             0.3,
             "#f1b6da"
            ],
            [
             0.4,
             "#fde0ef"
            ],
            [
             0.5,
             "#f7f7f7"
            ],
            [
             0.6,
             "#e6f5d0"
            ],
            [
             0.7,
             "#b8e186"
            ],
            [
             0.8,
             "#7fbc41"
            ],
            [
             0.9,
             "#4d9221"
            ],
            [
             1,
             "#276419"
            ]
           ],
           "sequential": [
            [
             0,
             "#0d0887"
            ],
            [
             0.1111111111111111,
             "#46039f"
            ],
            [
             0.2222222222222222,
             "#7201a8"
            ],
            [
             0.3333333333333333,
             "#9c179e"
            ],
            [
             0.4444444444444444,
             "#bd3786"
            ],
            [
             0.5555555555555556,
             "#d8576b"
            ],
            [
             0.6666666666666666,
             "#ed7953"
            ],
            [
             0.7777777777777778,
             "#fb9f3a"
            ],
            [
             0.8888888888888888,
             "#fdca26"
            ],
            [
             1,
             "#f0f921"
            ]
           ],
           "sequentialminus": [
            [
             0,
             "#0d0887"
            ],
            [
             0.1111111111111111,
             "#46039f"
            ],
            [
             0.2222222222222222,
             "#7201a8"
            ],
            [
             0.3333333333333333,
             "#9c179e"
            ],
            [
             0.4444444444444444,
             "#bd3786"
            ],
            [
             0.5555555555555556,
             "#d8576b"
            ],
            [
             0.6666666666666666,
             "#ed7953"
            ],
            [
             0.7777777777777778,
             "#fb9f3a"
            ],
            [
             0.8888888888888888,
             "#fdca26"
            ],
            [
             1,
             "#f0f921"
            ]
           ]
          },
          "colorway": [
           "#636efa",
           "#EF553B",
           "#00cc96",
           "#ab63fa",
           "#FFA15A",
           "#19d3f3",
           "#FF6692",
           "#B6E880",
           "#FF97FF",
           "#FECB52"
          ],
          "font": {
           "color": "#2a3f5f"
          },
          "geo": {
           "bgcolor": "white",
           "lakecolor": "white",
           "landcolor": "#E5ECF6",
           "showlakes": true,
           "showland": true,
           "subunitcolor": "white"
          },
          "hoverlabel": {
           "align": "left"
          },
          "hovermode": "closest",
          "mapbox": {
           "style": "light"
          },
          "paper_bgcolor": "white",
          "plot_bgcolor": "#E5ECF6",
          "polar": {
           "angularaxis": {
            "gridcolor": "white",
            "linecolor": "white",
            "ticks": ""
           },
           "bgcolor": "#E5ECF6",
           "radialaxis": {
            "gridcolor": "white",
            "linecolor": "white",
            "ticks": ""
           }
          },
          "scene": {
           "xaxis": {
            "backgroundcolor": "#E5ECF6",
            "gridcolor": "white",
            "gridwidth": 2,
            "linecolor": "white",
            "showbackground": true,
            "ticks": "",
            "zerolinecolor": "white"
           },
           "yaxis": {
            "backgroundcolor": "#E5ECF6",
            "gridcolor": "white",
            "gridwidth": 2,
            "linecolor": "white",
            "showbackground": true,
            "ticks": "",
            "zerolinecolor": "white"
           },
           "zaxis": {
            "backgroundcolor": "#E5ECF6",
            "gridcolor": "white",
            "gridwidth": 2,
            "linecolor": "white",
            "showbackground": true,
            "ticks": "",
            "zerolinecolor": "white"
           }
          },
          "shapedefaults": {
           "line": {
            "color": "#2a3f5f"
           }
          },
          "ternary": {
           "aaxis": {
            "gridcolor": "white",
            "linecolor": "white",
            "ticks": ""
           },
           "baxis": {
            "gridcolor": "white",
            "linecolor": "white",
            "ticks": ""
           },
           "bgcolor": "#E5ECF6",
           "caxis": {
            "gridcolor": "white",
            "linecolor": "white",
            "ticks": ""
           }
          },
          "title": {
           "x": 0.05
          },
          "xaxis": {
           "automargin": true,
           "gridcolor": "white",
           "linecolor": "white",
           "ticks": "",
           "title": {
            "standoff": 15
           },
           "zerolinecolor": "white",
           "zerolinewidth": 2
          },
          "yaxis": {
           "automargin": true,
           "gridcolor": "white",
           "linecolor": "white",
           "ticks": "",
           "title": {
            "standoff": 15
           },
           "zerolinecolor": "white",
           "zerolinewidth": 2
          }
         }
        },
        "title": {
         "text": "Impact of Extending IRA PTC Expansion by Income Decile – 2026"
        },
        "xaxis": {
         "dtick": 1,
         "title": {
          "text": "Income Decile"
         }
        },
        "yaxis": {
         "title": {
          "text": "Average change in household net income ($)"
         }
        }
       }
      }
     },
     "metadata": {},
     "output_type": "display_data"
    }
   ],
   "source": [
    "import numpy as np\n",
    "import pandas as pd\n",
    "import plotly.graph_objects as go\n",
    "\n",
    "# ------------------------------------------------------------------\n",
    "# Brand hex codes (one-to-one with style.colors)\n",
    "# ------------------------------------------------------------------\n",
    "COLOR_BLUE               = \"#2C6496\"   # style.colors.BLUE  / BLUE_PRIMARY\n",
    "COLOR_BLUE_LIGHT         = \"#D8E6F3\"   # style.colors.BLUE_LIGHT / BLUE_95\n",
    "COLOR_LIGHT_GRAY         = \"#F2F2F2\"   # style.colors.LIGHT_GRAY\n",
    "COLOR_MEDIUM_LIGHT_GRAY  = \"#BDBDBD\"   # style.colors.MEDIUM_LIGHT_GRAY\n",
    "COLOR_DARK_GRAY          = \"#616161\"   # style.colors.DARK_GRAY\n",
    "\n",
    "# ––– choose colours for positive vs. negative average bars –––\n",
    "POS_COLOR = COLOR_BLUE\n",
    "NEG_COLOR = COLOR_DARK_GRAY\n",
    "\n",
    "# ------------------------------------------------------------------\n",
    "# 1.  Pull baseline / reform net income + weights\n",
    "# ------------------------------------------------------------------\n",
    "net_base   = baseline.calculate(\n",
    "    \"household_net_income_including_health_benefits\", map_to=\"household\", period=2026\n",
    ")\n",
    "net_reform = reformed.calculate(\n",
    "    \"household_net_income_including_health_benefits\", map_to=\"household\", period=2026\n",
    ")\n",
    "weights    = baseline.calculate(\n",
    "    \"household_weight\", map_to=\"household\", period=2026\n",
    ")\n",
    "\n",
    "df = pd.DataFrame({\n",
    "    \"net_base\": net_base,\n",
    "    \"delta\":    net_reform - net_base,\n",
    "    \"weight\":   weights,\n",
    "})\n",
    "\n",
    "# ------------------------------------------------------------------\n",
    "# 2.  Weighted decile edges (baseline ranking)\n",
    "# ------------------------------------------------------------------\n",
    "def wquantile(values, qs, w):\n",
    "    srt = np.argsort(values)\n",
    "    values, w = values[srt], w[srt]\n",
    "    cum_w = np.cumsum(w) / np.sum(w)\n",
    "    return np.interp(qs, cum_w, values)\n",
    "\n",
    "edges = wquantile(df[\"net_base\"].values,\n",
    "                  np.linspace(0, 1, 11), df[\"weight\"].values)\n",
    "\n",
    "df[\"decile\"] = pd.cut(df[\"net_base\"],\n",
    "                      bins=edges,\n",
    "                      labels=np.arange(1, 11),\n",
    "                      include_lowest=True)\n",
    "\n",
    "# ------------------------------------------------------------------\n",
    "# 3.  Weighted average Δnet-income by decile\n",
    "# ------------------------------------------------------------------\n",
    "decile_avg = (\n",
    "    df.groupby(\"decile\")\n",
    "      .apply(lambda g: np.average(g[\"delta\"], weights=g[\"weight\"]))\n",
    "      .reset_index(name=\"avg_change\")\n",
    ")\n",
    "\n",
    "# ------------------------------------------------------------------\n",
    "# 4.  Use brand colours: blue if gain, dark-gray if loss\n",
    "# ------------------------------------------------------------------\n",
    "bar_colors = [\n",
    "    POS_COLOR if v >= 0 else NEG_COLOR\n",
    "    for v in decile_avg[\"avg_change\"]\n",
    "]\n",
    "\n",
    "# ------------------------------------------------------------------\n",
    "# 5.  Plot\n",
    "# ------------------------------------------------------------------\n",
    "fig = go.Figure(\n",
    "    data=[\n",
    "        go.Bar(\n",
    "            x=decile_avg[\"decile\"].astype(int),\n",
    "            y=decile_avg[\"avg_change\"],\n",
    "            marker_color=bar_colors,\n",
    "            text=decile_avg[\"avg_change\"].apply(lambda v: f\"${v:,.0f}\"),\n",
    "            textposition=\"inside\",\n",
    "        )\n",
    "    ],\n",
    "    layout=dict(\n",
    "        title=\"Impact of Extending IRA PTC Expansion by Income Decile – 2026\",\n",
    "        xaxis_title=\"Income Decile\",\n",
    "        yaxis_title=\"Average change in household net income ($)\",\n",
    "        showlegend=False,\n",
    "    )\n",
    ")\n",
    "fig.add_hline(y=0, line_width=1, line_color=\"black\")\n",
    "fig.show()\n",
    "fig.update_xaxes(dtick=1)        # show 1-10 instead of only the evens\n"
   ]
  },
  {
   "cell_type": "code",
   "execution_count": 18,
   "id": "1jhns1uinylj",
   "metadata": {},
   "outputs": [
    {
     "name": "stdout",
     "output_type": "stream",
     "text": [
      "Number of households gaining PTC under reform: 761\n",
      "Weighted count: 1,923,488\n",
      "\n",
      "Average reform PTC for these households: $5,751.24\n",
      "Weighted average reform PTC: $5,302.77\n"
     ]
    }
   ],
   "source": [
    "# Let's analyze the households affected by the ACA reform\n",
    "import pandas as pd\n",
    "import numpy as np\n",
    "\n",
    "# First, let's look at households that gain PTC under reform but had none in baseline\n",
    "gained_ptc = df_outputs[(df_outputs['aca_baseline'] == 0) & (df_outputs['aca_reform'] > 0)]\n",
    "\n",
    "print(f\"Number of households gaining PTC under reform: {len(gained_ptc)}\")\n",
    "print(f\"Weighted count: {gained_ptc['weight'].sum():,.0f}\")\n",
    "print(f\"\\nAverage reform PTC for these households: ${gained_ptc['aca_reform'].mean():,.2f}\")\n",
    "print(f\"Weighted average reform PTC: ${(gained_ptc['aca_reform'] * gained_ptc['weight']).sum() / gained_ptc['weight'].sum():,.2f}\")"
   ]
  },
  {
   "cell_type": "code",
   "execution_count": 19,
   "id": "kezjkjwshvl",
   "metadata": {},
   "outputs": [
    {
     "ename": "ModuleNotFoundError",
     "evalue": "No module named 'matplotlib'",
     "output_type": "error",
     "traceback": [
      "\u001b[0;31m---------------------------------------------------------------------------\u001b[0m",
      "\u001b[0;31mModuleNotFoundError\u001b[0m                       Traceback (most recent call last)",
      "Cell \u001b[0;32mIn[19], line 2\u001b[0m\n\u001b[1;32m      1\u001b[0m \u001b[38;5;66;03m# Let's look at income distribution of households gaining PTC\u001b[39;00m\n\u001b[0;32m----> 2\u001b[0m \u001b[38;5;28;01mimport\u001b[39;00m\u001b[38;5;250m \u001b[39m\u001b[38;5;21;01mmatplotlib\u001b[39;00m\u001b[38;5;21;01m.\u001b[39;00m\u001b[38;5;21;01mpyplot\u001b[39;00m\u001b[38;5;250m \u001b[39m\u001b[38;5;28;01mas\u001b[39;00m\u001b[38;5;250m \u001b[39m\u001b[38;5;21;01mplt\u001b[39;00m\n\u001b[1;32m      4\u001b[0m \u001b[38;5;66;03m# Add income deciles to the gained_ptc dataframe\u001b[39;00m\n\u001b[1;32m      5\u001b[0m gained_ptc_with_income \u001b[38;5;241m=\u001b[39m gained_ptc\u001b[38;5;241m.\u001b[39mcopy()\n",
      "\u001b[0;31mModuleNotFoundError\u001b[0m: No module named 'matplotlib'"
     ]
    }
   ],
   "source": [
    "# Let's look at income distribution of households gaining PTC\n",
    "import matplotlib.pyplot as plt\n",
    "\n",
    "# Add income deciles to the gained_ptc dataframe\n",
    "gained_ptc_with_income = gained_ptc.copy()\n",
    "\n",
    "# Calculate weighted income percentiles for context\n",
    "income_percentiles = np.percentile(df_outputs['Employment_Income'], [25, 50, 75, 90, 95])\n",
    "print(\"Income percentiles across all households:\")\n",
    "for i, pct in enumerate([25, 50, 75, 90, 95]):\n",
    "    print(f\"  {pct}th percentile: ${income_percentiles[i]:,.0f}\")\n",
    "\n",
    "# Show income distribution of households gaining PTC\n",
    "print(\"\\nIncome distribution of households GAINING PTC under reform:\")\n",
    "print(gained_ptc_with_income['Employment_Income'].describe())\n",
    "\n",
    "# Show top 10 households by PTC gain amount\n",
    "print(\"\\nTop 10 households by PTC gain (sorted by reform PTC amount):\")\n",
    "top_gainers = gained_ptc_with_income.nlargest(10, 'aca_reform')[['household_id', 'State', 'Employment_Income', 'aca_reform', 'Married', 'Num_Dependents', 'weight']]\n",
    "top_gainers"
   ]
  },
  {
   "cell_type": "code",
   "execution_count": 20,
   "id": "qzjyh3eo44",
   "metadata": {},
   "outputs": [
    {
     "name": "stdout",
     "output_type": "stream",
     "text": [
      "Income percentiles across all households:\n",
      "  25th percentile: $8,776\n",
      "  50th percentile: $59,168\n",
      "  75th percentile: $121,807\n",
      "  90th percentile: $205,693\n",
      "  95th percentile: $287,212\n",
      "\n",
      "============================================================\n",
      "Income distribution of households GAINING PTC under reform:\n",
      "============================================================\n",
      "count       761.000000\n",
      "mean     113532.674681\n",
      "std       67906.364616\n",
      "min           0.000000\n",
      "25%       68947.382812\n",
      "50%      103907.218750\n",
      "75%      150131.617188\n",
      "max      467888.655273\n",
      "Name: Employment_Income, dtype: float64\n",
      "\n",
      "============================================================\n",
      "Top 10 households by PTC gain (sorted by reform PTC amount):\n",
      "============================================================\n"
     ]
    },
    {
     "data": {
      "text/html": [
       "<div>\n",
       "<style scoped>\n",
       "    .dataframe tbody tr th:only-of-type {\n",
       "        vertical-align: middle;\n",
       "    }\n",
       "\n",
       "    .dataframe tbody tr th {\n",
       "        vertical-align: top;\n",
       "    }\n",
       "\n",
       "    .dataframe thead th {\n",
       "        text-align: right;\n",
       "    }\n",
       "</style>\n",
       "<table border=\"1\" class=\"dataframe\">\n",
       "  <thead>\n",
       "    <tr style=\"text-align: right;\">\n",
       "      <th></th>\n",
       "      <th>household_id</th>\n",
       "      <th>State</th>\n",
       "      <th>Employment_Income</th>\n",
       "      <th>aca_reform</th>\n",
       "      <th>Married</th>\n",
       "      <th>Num_Dependents</th>\n",
       "      <th>weight</th>\n",
       "    </tr>\n",
       "  </thead>\n",
       "  <tbody>\n",
       "    <tr>\n",
       "      <th>10241</th>\n",
       "      <td>69304</td>\n",
       "      <td>WY</td>\n",
       "      <td>172368.441406</td>\n",
       "      <td>27582.343750</td>\n",
       "      <td>1.0</td>\n",
       "      <td>3.0</td>\n",
       "      <td>6615.325195</td>\n",
       "    </tr>\n",
       "    <tr>\n",
       "      <th>4600</th>\n",
       "      <td>25635</td>\n",
       "      <td>MO</td>\n",
       "      <td>37921.058594</td>\n",
       "      <td>27411.421875</td>\n",
       "      <td>1.0</td>\n",
       "      <td>0.0</td>\n",
       "      <td>4003.946045</td>\n",
       "    </tr>\n",
       "    <tr>\n",
       "      <th>17827</th>\n",
       "      <td>136329</td>\n",
       "      <td>FL</td>\n",
       "      <td>96147.054688</td>\n",
       "      <td>27191.490234</td>\n",
       "      <td>1.0</td>\n",
       "      <td>1.0</td>\n",
       "      <td>0.052937</td>\n",
       "    </tr>\n",
       "    <tr>\n",
       "      <th>9197</th>\n",
       "      <td>59697</td>\n",
       "      <td>OK</td>\n",
       "      <td>68947.382812</td>\n",
       "      <td>26790.708984</td>\n",
       "      <td>1.0</td>\n",
       "      <td>0.0</td>\n",
       "      <td>1484.846436</td>\n",
       "    </tr>\n",
       "    <tr>\n",
       "      <th>4610</th>\n",
       "      <td>25669</td>\n",
       "      <td>MO</td>\n",
       "      <td>0.000000</td>\n",
       "      <td>26257.669922</td>\n",
       "      <td>1.0</td>\n",
       "      <td>0.0</td>\n",
       "      <td>1353.809692</td>\n",
       "    </tr>\n",
       "    <tr>\n",
       "      <th>4565</th>\n",
       "      <td>25484</td>\n",
       "      <td>MO</td>\n",
       "      <td>120657.902344</td>\n",
       "      <td>25160.201172</td>\n",
       "      <td>1.0</td>\n",
       "      <td>0.0</td>\n",
       "      <td>4692.614746</td>\n",
       "    </tr>\n",
       "    <tr>\n",
       "      <th>20880</th>\n",
       "      <td>170145</td>\n",
       "      <td>CA</td>\n",
       "      <td>97803.962158</td>\n",
       "      <td>25064.998047</td>\n",
       "      <td>1.0</td>\n",
       "      <td>0.0</td>\n",
       "      <td>1.485237</td>\n",
       "    </tr>\n",
       "    <tr>\n",
       "      <th>21249</th>\n",
       "      <td>173580</td>\n",
       "      <td>CA</td>\n",
       "      <td>107563.710938</td>\n",
       "      <td>24998.007812</td>\n",
       "      <td>1.0</td>\n",
       "      <td>0.0</td>\n",
       "      <td>0.000211</td>\n",
       "    </tr>\n",
       "    <tr>\n",
       "      <th>21284</th>\n",
       "      <td>173817</td>\n",
       "      <td>CA</td>\n",
       "      <td>120305.722656</td>\n",
       "      <td>24842.128906</td>\n",
       "      <td>1.0</td>\n",
       "      <td>0.0</td>\n",
       "      <td>0.003597</td>\n",
       "    </tr>\n",
       "    <tr>\n",
       "      <th>62</th>\n",
       "      <td>548</td>\n",
       "      <td>ME</td>\n",
       "      <td>0.000000</td>\n",
       "      <td>24623.031250</td>\n",
       "      <td>1.0</td>\n",
       "      <td>0.0</td>\n",
       "      <td>1530.439819</td>\n",
       "    </tr>\n",
       "  </tbody>\n",
       "</table>\n",
       "</div>"
      ],
      "text/plain": [
       "       household_id State  Employment_Income    aca_reform  Married  \\\n",
       "10241         69304    WY      172368.441406  27582.343750      1.0   \n",
       "4600          25635    MO       37921.058594  27411.421875      1.0   \n",
       "17827        136329    FL       96147.054688  27191.490234      1.0   \n",
       "9197          59697    OK       68947.382812  26790.708984      1.0   \n",
       "4610          25669    MO           0.000000  26257.669922      1.0   \n",
       "4565          25484    MO      120657.902344  25160.201172      1.0   \n",
       "20880        170145    CA       97803.962158  25064.998047      1.0   \n",
       "21249        173580    CA      107563.710938  24998.007812      1.0   \n",
       "21284        173817    CA      120305.722656  24842.128906      1.0   \n",
       "62              548    ME           0.000000  24623.031250      1.0   \n",
       "\n",
       "       Num_Dependents       weight  \n",
       "10241             3.0  6615.325195  \n",
       "4600              0.0  4003.946045  \n",
       "17827             1.0     0.052937  \n",
       "9197              0.0  1484.846436  \n",
       "4610              0.0  1353.809692  \n",
       "4565              0.0  4692.614746  \n",
       "20880             0.0     1.485237  \n",
       "21249             0.0     0.000211  \n",
       "21284             0.0     0.003597  \n",
       "62                0.0  1530.439819  "
      ]
     },
     "metadata": {},
     "output_type": "display_data"
    }
   ],
   "source": [
    "# Let's continue without matplotlib\n",
    "# Add income deciles to the gained_ptc dataframe\n",
    "gained_ptc_with_income = gained_ptc.copy()\n",
    "\n",
    "# Calculate weighted income percentiles for context\n",
    "income_percentiles = np.percentile(df_outputs['Employment_Income'], [25, 50, 75, 90, 95])\n",
    "print(\"Income percentiles across all households:\")\n",
    "for i, pct in enumerate([25, 50, 75, 90, 95]):\n",
    "    print(f\"  {pct}th percentile: ${income_percentiles[i]:,.0f}\")\n",
    "\n",
    "print(\"\\n\" + \"=\"*60)\n",
    "print(\"Income distribution of households GAINING PTC under reform:\")\n",
    "print(\"=\"*60)\n",
    "print(gained_ptc_with_income['Employment_Income'].describe())\n",
    "\n",
    "print(\"\\n\" + \"=\"*60)\n",
    "print(\"Top 10 households by PTC gain (sorted by reform PTC amount):\")\n",
    "print(\"=\"*60)\n",
    "top_gainers = gained_ptc_with_income.nlargest(10, 'aca_reform')[['household_id', 'State', 'Employment_Income', 'aca_reform', 'Married', 'Num_Dependents', 'weight']]\n",
    "display(top_gainers)"
   ]
  },
  {
   "cell_type": "code",
   "execution_count": 20,
   "id": "6ngx1hex7d7",
   "metadata": {},
   "outputs": [
    {
     "name": "stdout",
     "output_type": "stream",
     "text": [
      "Income percentiles across all households:\n",
      "  25th percentile: $8,776\n",
      "  50th percentile: $59,168\n",
      "  75th percentile: $121,807\n",
      "  90th percentile: $205,693\n",
      "  95th percentile: $287,212\n",
      "\n",
      "============================================================\n",
      "Income distribution of households GAINING PTC under reform:\n",
      "============================================================\n",
      "count       761.000000\n",
      "mean     113532.674681\n",
      "std       67906.364616\n",
      "min           0.000000\n",
      "25%       68947.382812\n",
      "50%      103907.218750\n",
      "75%      150131.617188\n",
      "max      467888.655273\n",
      "Name: Employment_Income, dtype: float64\n",
      "\n",
      "============================================================\n",
      "Top 10 households by PTC gain (sorted by reform PTC amount):\n",
      "============================================================\n"
     ]
    },
    {
     "data": {
      "text/html": [
       "<div>\n",
       "<style scoped>\n",
       "    .dataframe tbody tr th:only-of-type {\n",
       "        vertical-align: middle;\n",
       "    }\n",
       "\n",
       "    .dataframe tbody tr th {\n",
       "        vertical-align: top;\n",
       "    }\n",
       "\n",
       "    .dataframe thead th {\n",
       "        text-align: right;\n",
       "    }\n",
       "</style>\n",
       "<table border=\"1\" class=\"dataframe\">\n",
       "  <thead>\n",
       "    <tr style=\"text-align: right;\">\n",
       "      <th></th>\n",
       "      <th>household_id</th>\n",
       "      <th>State</th>\n",
       "      <th>Employment_Income</th>\n",
       "      <th>aca_reform</th>\n",
       "      <th>Married</th>\n",
       "      <th>Num_Dependents</th>\n",
       "      <th>weight</th>\n",
       "    </tr>\n",
       "  </thead>\n",
       "  <tbody>\n",
       "    <tr>\n",
       "      <th>10241</th>\n",
       "      <td>69304</td>\n",
       "      <td>WY</td>\n",
       "      <td>172368.441406</td>\n",
       "      <td>27582.343750</td>\n",
       "      <td>1.0</td>\n",
       "      <td>3.0</td>\n",
       "      <td>6615.325195</td>\n",
       "    </tr>\n",
       "    <tr>\n",
       "      <th>4600</th>\n",
       "      <td>25635</td>\n",
       "      <td>MO</td>\n",
       "      <td>37921.058594</td>\n",
       "      <td>27411.421875</td>\n",
       "      <td>1.0</td>\n",
       "      <td>0.0</td>\n",
       "      <td>4003.946045</td>\n",
       "    </tr>\n",
       "    <tr>\n",
       "      <th>17827</th>\n",
       "      <td>136329</td>\n",
       "      <td>FL</td>\n",
       "      <td>96147.054688</td>\n",
       "      <td>27191.490234</td>\n",
       "      <td>1.0</td>\n",
       "      <td>1.0</td>\n",
       "      <td>0.052937</td>\n",
       "    </tr>\n",
       "    <tr>\n",
       "      <th>9197</th>\n",
       "      <td>59697</td>\n",
       "      <td>OK</td>\n",
       "      <td>68947.382812</td>\n",
       "      <td>26790.708984</td>\n",
       "      <td>1.0</td>\n",
       "      <td>0.0</td>\n",
       "      <td>1484.846436</td>\n",
       "    </tr>\n",
       "    <tr>\n",
       "      <th>4610</th>\n",
       "      <td>25669</td>\n",
       "      <td>MO</td>\n",
       "      <td>0.000000</td>\n",
       "      <td>26257.669922</td>\n",
       "      <td>1.0</td>\n",
       "      <td>0.0</td>\n",
       "      <td>1353.809692</td>\n",
       "    </tr>\n",
       "    <tr>\n",
       "      <th>4565</th>\n",
       "      <td>25484</td>\n",
       "      <td>MO</td>\n",
       "      <td>120657.902344</td>\n",
       "      <td>25160.201172</td>\n",
       "      <td>1.0</td>\n",
       "      <td>0.0</td>\n",
       "      <td>4692.614746</td>\n",
       "    </tr>\n",
       "    <tr>\n",
       "      <th>20880</th>\n",
       "      <td>170145</td>\n",
       "      <td>CA</td>\n",
       "      <td>97803.962158</td>\n",
       "      <td>25064.998047</td>\n",
       "      <td>1.0</td>\n",
       "      <td>0.0</td>\n",
       "      <td>1.485237</td>\n",
       "    </tr>\n",
       "    <tr>\n",
       "      <th>21249</th>\n",
       "      <td>173580</td>\n",
       "      <td>CA</td>\n",
       "      <td>107563.710938</td>\n",
       "      <td>24998.007812</td>\n",
       "      <td>1.0</td>\n",
       "      <td>0.0</td>\n",
       "      <td>0.000211</td>\n",
       "    </tr>\n",
       "    <tr>\n",
       "      <th>21284</th>\n",
       "      <td>173817</td>\n",
       "      <td>CA</td>\n",
       "      <td>120305.722656</td>\n",
       "      <td>24842.128906</td>\n",
       "      <td>1.0</td>\n",
       "      <td>0.0</td>\n",
       "      <td>0.003597</td>\n",
       "    </tr>\n",
       "    <tr>\n",
       "      <th>62</th>\n",
       "      <td>548</td>\n",
       "      <td>ME</td>\n",
       "      <td>0.000000</td>\n",
       "      <td>24623.031250</td>\n",
       "      <td>1.0</td>\n",
       "      <td>0.0</td>\n",
       "      <td>1530.439819</td>\n",
       "    </tr>\n",
       "  </tbody>\n",
       "</table>\n",
       "</div>"
      ],
      "text/plain": [
       "       household_id State  Employment_Income    aca_reform  Married  \\\n",
       "10241         69304    WY      172368.441406  27582.343750      1.0   \n",
       "4600          25635    MO       37921.058594  27411.421875      1.0   \n",
       "17827        136329    FL       96147.054688  27191.490234      1.0   \n",
       "9197          59697    OK       68947.382812  26790.708984      1.0   \n",
       "4610          25669    MO           0.000000  26257.669922      1.0   \n",
       "4565          25484    MO      120657.902344  25160.201172      1.0   \n",
       "20880        170145    CA       97803.962158  25064.998047      1.0   \n",
       "21249        173580    CA      107563.710938  24998.007812      1.0   \n",
       "21284        173817    CA      120305.722656  24842.128906      1.0   \n",
       "62              548    ME           0.000000  24623.031250      1.0   \n",
       "\n",
       "       Num_Dependents       weight  \n",
       "10241             3.0  6615.325195  \n",
       "4600              0.0  4003.946045  \n",
       "17827             1.0     0.052937  \n",
       "9197              0.0  1484.846436  \n",
       "4610              0.0  1353.809692  \n",
       "4565              0.0  4692.614746  \n",
       "20880             0.0     1.485237  \n",
       "21249             0.0     0.000211  \n",
       "21284             0.0     0.003597  \n",
       "62                0.0  1530.439819  "
      ]
     },
     "execution_count": 20,
     "metadata": {},
     "output_type": "execute_result"
    }
   ],
   "source": [
    "# Let's continue without matplotlib\n",
    "# Add income deciles to the gained_ptc dataframe\n",
    "gained_ptc_with_income = gained_ptc.copy()\n",
    "\n",
    "# Calculate weighted income percentiles for context\n",
    "income_percentiles = np.percentile(df_outputs['Employment_Income'], [25, 50, 75, 90, 95])\n",
    "print(\"Income percentiles across all households:\")\n",
    "for i, pct in enumerate([25, 50, 75, 90, 95]):\n",
    "    print(f\"  {pct}th percentile: ${income_percentiles[i]:,.0f}\")\n",
    "\n",
    "print(\"\\n\" + \"=\"*60)\n",
    "print(\"Income distribution of households GAINING PTC under reform:\")\n",
    "print(\"=\"*60)\n",
    "print(gained_ptc_with_income['Employment_Income'].describe())\n",
    "\n",
    "print(\"\\n\" + \"=\"*60)\n",
    "print(\"Top 10 households by PTC gain (sorted by reform PTC amount):\")\n",
    "print(\"=\"*60)\n",
    "top_gainers = gained_ptc_with_income.nlargest(10, 'aca_reform')[['household_id', 'State', 'Employment_Income', 'aca_reform', 'Married', 'Num_Dependents', 'weight']]\n",
    "top_gainers"
   ]
  },
  {
   "cell_type": "code",
   "execution_count": 21,
   "id": "fbg7gtwvt09",
   "metadata": {},
   "outputs": [
    {
     "name": "stdout",
     "output_type": "stream",
     "text": [
      "Households LOSING or SEEING REDUCED PTC:\n",
      "Number of households: 0\n",
      "Weighted count: 0\n",
      "\n",
      "Average baseline PTC: $nan\n",
      "Average reform PTC: $nan\n",
      "Average loss: $nan\n",
      "\n",
      "Income distribution of households losing PTC benefits:\n",
      "count    0.0\n",
      "mean     NaN\n",
      "std      NaN\n",
      "min      NaN\n",
      "25%      NaN\n",
      "50%      NaN\n",
      "75%      NaN\n",
      "max      NaN\n",
      "Name: Employment_Income, dtype: float64\n",
      "\n",
      "Top 10 households by PTC loss:\n"
     ]
    },
    {
     "data": {
      "text/html": [
       "<div>\n",
       "<style scoped>\n",
       "    .dataframe tbody tr th:only-of-type {\n",
       "        vertical-align: middle;\n",
       "    }\n",
       "\n",
       "    .dataframe tbody tr th {\n",
       "        vertical-align: top;\n",
       "    }\n",
       "\n",
       "    .dataframe thead th {\n",
       "        text-align: right;\n",
       "    }\n",
       "</style>\n",
       "<table border=\"1\" class=\"dataframe\">\n",
       "  <thead>\n",
       "    <tr style=\"text-align: right;\">\n",
       "      <th></th>\n",
       "      <th>household_id</th>\n",
       "      <th>State</th>\n",
       "      <th>Employment_Income</th>\n",
       "      <th>aca_baseline</th>\n",
       "      <th>aca_reform</th>\n",
       "      <th>net_change</th>\n",
       "      <th>weight</th>\n",
       "    </tr>\n",
       "  </thead>\n",
       "  <tbody>\n",
       "  </tbody>\n",
       "</table>\n",
       "</div>"
      ],
      "text/plain": [
       "Empty DataFrame\n",
       "Columns: [household_id, State, Employment_Income, aca_baseline, aca_reform, net_change, weight]\n",
       "Index: []"
      ]
     },
     "execution_count": 21,
     "metadata": {},
     "output_type": "execute_result"
    }
   ],
   "source": [
    "# Now let's look at households losing PTC or seeing reduced PTC\n",
    "lost_or_reduced = df_outputs[(df_outputs['aca_baseline'] > 0) & (df_outputs['net_change'] < 0)]\n",
    "\n",
    "print(\"Households LOSING or SEEING REDUCED PTC:\")\n",
    "print(f\"Number of households: {len(lost_or_reduced)}\")\n",
    "print(f\"Weighted count: {lost_or_reduced['weight'].sum():,.0f}\")\n",
    "print(f\"\\nAverage baseline PTC: ${lost_or_reduced['aca_baseline'].mean():,.2f}\")\n",
    "print(f\"Average reform PTC: ${lost_or_reduced['aca_reform'].mean():,.2f}\")\n",
    "print(f\"Average loss: ${lost_or_reduced['net_change'].mean():,.2f}\")\n",
    "\n",
    "# Income distribution\n",
    "print(\"\\nIncome distribution of households losing PTC benefits:\")\n",
    "print(lost_or_reduced['Employment_Income'].describe())\n",
    "\n",
    "# Top losers\n",
    "print(\"\\nTop 10 households by PTC loss:\")\n",
    "top_losers = lost_or_reduced.nsmallest(10, 'net_change')[['household_id', 'State', 'Employment_Income', 'aca_baseline', 'aca_reform', 'net_change', 'weight']]\n",
    "top_losers"
   ]
  },
  {
   "cell_type": "code",
   "execution_count": 22,
   "id": "y1a0d1tqy9n",
   "metadata": {},
   "outputs": [
    {
     "name": "stdout",
     "output_type": "stream",
     "text": [
      "Households with PTC in BOTH baseline and reform:\n",
      "Number of households: 2437\n",
      "Weighted count: 10,076,767\n",
      "\n",
      "Average baseline PTC: $7,909.13\n",
      "Average reform PTC: $9,880.77\n",
      "Average change: $1,971.64\n",
      "\n",
      "Distribution of PTC changes for households with PTC in both scenarios:\n",
      "count     2437.000000\n",
      "mean      1971.639511\n",
      "std       1562.269100\n",
      "min        433.568359\n",
      "25%       1304.000244\n",
      "50%       1613.736328\n",
      "75%       2232.999512\n",
      "max      29610.569824\n",
      "Name: net_change, dtype: float64\n",
      "\n",
      "Top 10 PTC increases among households who already had PTC:\n"
     ]
    },
    {
     "data": {
      "text/html": [
       "<div>\n",
       "<style scoped>\n",
       "    .dataframe tbody tr th:only-of-type {\n",
       "        vertical-align: middle;\n",
       "    }\n",
       "\n",
       "    .dataframe tbody tr th {\n",
       "        vertical-align: top;\n",
       "    }\n",
       "\n",
       "    .dataframe thead th {\n",
       "        text-align: right;\n",
       "    }\n",
       "</style>\n",
       "<table border=\"1\" class=\"dataframe\">\n",
       "  <thead>\n",
       "    <tr style=\"text-align: right;\">\n",
       "      <th></th>\n",
       "      <th>household_id</th>\n",
       "      <th>State</th>\n",
       "      <th>Employment_Income</th>\n",
       "      <th>aca_baseline</th>\n",
       "      <th>aca_reform</th>\n",
       "      <th>net_change</th>\n",
       "      <th>weight</th>\n",
       "    </tr>\n",
       "  </thead>\n",
       "  <tbody>\n",
       "    <tr>\n",
       "      <th>13395</th>\n",
       "      <td>95388</td>\n",
       "      <td>CT</td>\n",
       "      <td>230258.468750</td>\n",
       "      <td>2271.705078</td>\n",
       "      <td>31882.274902</td>\n",
       "      <td>29610.569824</td>\n",
       "      <td>0.000197</td>\n",
       "    </tr>\n",
       "    <tr>\n",
       "      <th>20794</th>\n",
       "      <td>169452</td>\n",
       "      <td>CA</td>\n",
       "      <td>131771.823242</td>\n",
       "      <td>6317.419434</td>\n",
       "      <td>28958.584473</td>\n",
       "      <td>22641.165039</td>\n",
       "      <td>0.003905</td>\n",
       "    </tr>\n",
       "    <tr>\n",
       "      <th>12985</th>\n",
       "      <td>88926</td>\n",
       "      <td>HI</td>\n",
       "      <td>119508.789062</td>\n",
       "      <td>3365.458740</td>\n",
       "      <td>25774.730469</td>\n",
       "      <td>22409.271729</td>\n",
       "      <td>1788.657227</td>\n",
       "    </tr>\n",
       "    <tr>\n",
       "      <th>3930</th>\n",
       "      <td>22572</td>\n",
       "      <td>WI</td>\n",
       "      <td>91929.835449</td>\n",
       "      <td>5390.636230</td>\n",
       "      <td>26178.041016</td>\n",
       "      <td>20787.404785</td>\n",
       "      <td>14746.737305</td>\n",
       "    </tr>\n",
       "    <tr>\n",
       "      <th>9715</th>\n",
       "      <td>63406</td>\n",
       "      <td>TX</td>\n",
       "      <td>56307.025391</td>\n",
       "      <td>3461.937988</td>\n",
       "      <td>23926.217285</td>\n",
       "      <td>20464.279297</td>\n",
       "      <td>313614.062500</td>\n",
       "    </tr>\n",
       "    <tr>\n",
       "      <th>19463</th>\n",
       "      <td>153886</td>\n",
       "      <td>TX</td>\n",
       "      <td>205251.378052</td>\n",
       "      <td>2576.328125</td>\n",
       "      <td>22568.280273</td>\n",
       "      <td>19991.952148</td>\n",
       "      <td>0.000294</td>\n",
       "    </tr>\n",
       "    <tr>\n",
       "      <th>20786</th>\n",
       "      <td>169392</td>\n",
       "      <td>CA</td>\n",
       "      <td>254882.910156</td>\n",
       "      <td>5029.621582</td>\n",
       "      <td>23572.651611</td>\n",
       "      <td>18543.030029</td>\n",
       "      <td>0.001491</td>\n",
       "    </tr>\n",
       "    <tr>\n",
       "      <th>12778</th>\n",
       "      <td>85992</td>\n",
       "      <td>CA</td>\n",
       "      <td>264716.572266</td>\n",
       "      <td>2762.978271</td>\n",
       "      <td>17948.256836</td>\n",
       "      <td>15185.278564</td>\n",
       "      <td>2075.729736</td>\n",
       "    </tr>\n",
       "    <tr>\n",
       "      <th>20062</th>\n",
       "      <td>162791</td>\n",
       "      <td>AZ</td>\n",
       "      <td>39974.335938</td>\n",
       "      <td>12875.888672</td>\n",
       "      <td>26409.888672</td>\n",
       "      <td>13534.000000</td>\n",
       "      <td>0.000893</td>\n",
       "    </tr>\n",
       "    <tr>\n",
       "      <th>17712</th>\n",
       "      <td>135165</td>\n",
       "      <td>FL</td>\n",
       "      <td>196369.458984</td>\n",
       "      <td>15325.860840</td>\n",
       "      <td>28293.105469</td>\n",
       "      <td>12967.244629</td>\n",
       "      <td>0.056075</td>\n",
       "    </tr>\n",
       "  </tbody>\n",
       "</table>\n",
       "</div>"
      ],
      "text/plain": [
       "       household_id State  Employment_Income  aca_baseline    aca_reform  \\\n",
       "13395         95388    CT      230258.468750   2271.705078  31882.274902   \n",
       "20794        169452    CA      131771.823242   6317.419434  28958.584473   \n",
       "12985         88926    HI      119508.789062   3365.458740  25774.730469   \n",
       "3930          22572    WI       91929.835449   5390.636230  26178.041016   \n",
       "9715          63406    TX       56307.025391   3461.937988  23926.217285   \n",
       "19463        153886    TX      205251.378052   2576.328125  22568.280273   \n",
       "20786        169392    CA      254882.910156   5029.621582  23572.651611   \n",
       "12778         85992    CA      264716.572266   2762.978271  17948.256836   \n",
       "20062        162791    AZ       39974.335938  12875.888672  26409.888672   \n",
       "17712        135165    FL      196369.458984  15325.860840  28293.105469   \n",
       "\n",
       "         net_change         weight  \n",
       "13395  29610.569824       0.000197  \n",
       "20794  22641.165039       0.003905  \n",
       "12985  22409.271729    1788.657227  \n",
       "3930   20787.404785   14746.737305  \n",
       "9715   20464.279297  313614.062500  \n",
       "19463  19991.952148       0.000294  \n",
       "20786  18543.030029       0.001491  \n",
       "12778  15185.278564    2075.729736  \n",
       "20062  13534.000000       0.000893  \n",
       "17712  12967.244629       0.056075  "
      ]
     },
     "execution_count": 22,
     "metadata": {},
     "output_type": "execute_result"
    }
   ],
   "source": [
    "# Interesting - no households lose PTC! Let's look at those who keep their PTC but see changes\n",
    "kept_ptc = df_outputs[(df_outputs['aca_baseline'] > 0) & (df_outputs['aca_reform'] > 0)]\n",
    "\n",
    "print(\"Households with PTC in BOTH baseline and reform:\")\n",
    "print(f\"Number of households: {len(kept_ptc)}\")\n",
    "print(f\"Weighted count: {kept_ptc['weight'].sum():,.0f}\")\n",
    "print(f\"\\nAverage baseline PTC: ${kept_ptc['aca_baseline'].mean():,.2f}\")\n",
    "print(f\"Average reform PTC: ${kept_ptc['aca_reform'].mean():,.2f}\")\n",
    "print(f\"Average change: ${kept_ptc['net_change'].mean():,.2f}\")\n",
    "\n",
    "# Show distribution of changes\n",
    "print(\"\\nDistribution of PTC changes for households with PTC in both scenarios:\")\n",
    "print(kept_ptc['net_change'].describe())\n",
    "\n",
    "# Households with biggest increases among those who already had PTC\n",
    "print(\"\\nTop 10 PTC increases among households who already had PTC:\")\n",
    "top_increases = kept_ptc.nlargest(10, 'net_change')[['household_id', 'State', 'Employment_Income', 'aca_baseline', 'aca_reform', 'net_change', 'weight']]\n",
    "top_increases"
   ]
  },
  {
   "cell_type": "code",
   "execution_count": 23,
   "id": "7pukgyq18zt",
   "metadata": {},
   "outputs": [
    {
     "name": "stdout",
     "output_type": "stream",
     "text": [
      "======================================================================\n",
      "ANALYSIS OF THE 400% FPL CLIFF EFFECT\n",
      "======================================================================\n",
      "\n",
      "Households between 350-450% FPL: 2108\n",
      "Weighted count: 12,872,038\n",
      "\n",
      "Below 400% FPL (350-400%): 1094 households\n",
      "  Average baseline PTC: $1,367.79\n",
      "  Average reform PTC: $1,867.28\n",
      "  Average change: $499.49\n",
      "\n",
      "Above 400% FPL (400-450%): 1014 households\n",
      "  Average baseline PTC: $660.53\n",
      "  Average reform PTC: $1,449.85\n",
      "  Average change: $789.33\n",
      "\n",
      "======================================================================\n",
      "EXAMPLE HOUSEHOLDS AT THE CLIFF (395-405% FPL):\n",
      "======================================================================\n"
     ]
    },
    {
     "data": {
      "text/html": [
       "<div>\n",
       "<style scoped>\n",
       "    .dataframe tbody tr th:only-of-type {\n",
       "        vertical-align: middle;\n",
       "    }\n",
       "\n",
       "    .dataframe tbody tr th {\n",
       "        vertical-align: top;\n",
       "    }\n",
       "\n",
       "    .dataframe thead th {\n",
       "        text-align: right;\n",
       "    }\n",
       "</style>\n",
       "<table border=\"1\" class=\"dataframe\">\n",
       "  <thead>\n",
       "    <tr style=\"text-align: right;\">\n",
       "      <th></th>\n",
       "      <th>household_id</th>\n",
       "      <th>State</th>\n",
       "      <th>Employment_Income</th>\n",
       "      <th>fpl_ratio</th>\n",
       "      <th>aca_baseline</th>\n",
       "      <th>aca_reform</th>\n",
       "      <th>net_change</th>\n",
       "      <th>weight</th>\n",
       "    </tr>\n",
       "  </thead>\n",
       "  <tbody>\n",
       "    <tr>\n",
       "      <th>11</th>\n",
       "      <td>91</td>\n",
       "      <td>ME</td>\n",
       "      <td>85344.212891</td>\n",
       "      <td>403.900676</td>\n",
       "      <td>0.000000</td>\n",
       "      <td>0.000</td>\n",
       "      <td>0.000000</td>\n",
       "      <td>1078.256592</td>\n",
       "    </tr>\n",
       "    <tr>\n",
       "      <th>57</th>\n",
       "      <td>495</td>\n",
       "      <td>ME</td>\n",
       "      <td>105351.593262</td>\n",
       "      <td>395.315547</td>\n",
       "      <td>0.000000</td>\n",
       "      <td>0.000</td>\n",
       "      <td>0.000000</td>\n",
       "      <td>9808.822266</td>\n",
       "    </tr>\n",
       "    <tr>\n",
       "      <th>247</th>\n",
       "      <td>2971</td>\n",
       "      <td>VT</td>\n",
       "      <td>85035.097656</td>\n",
       "      <td>402.437755</td>\n",
       "      <td>0.000000</td>\n",
       "      <td>0.000</td>\n",
       "      <td>0.000000</td>\n",
       "      <td>973.623474</td>\n",
       "    </tr>\n",
       "    <tr>\n",
       "      <th>371</th>\n",
       "      <td>3945</td>\n",
       "      <td>MA</td>\n",
       "      <td>106868.429688</td>\n",
       "      <td>401.007241</td>\n",
       "      <td>0.000000</td>\n",
       "      <td>0.000</td>\n",
       "      <td>0.000000</td>\n",
       "      <td>53990.785156</td>\n",
       "    </tr>\n",
       "    <tr>\n",
       "      <th>497</th>\n",
       "      <td>4662</td>\n",
       "      <td>MA</td>\n",
       "      <td>62052.640625</td>\n",
       "      <td>398.539760</td>\n",
       "      <td>0.000000</td>\n",
       "      <td>0.000</td>\n",
       "      <td>0.000000</td>\n",
       "      <td>467.895142</td>\n",
       "    </tr>\n",
       "    <tr>\n",
       "      <th>600</th>\n",
       "      <td>5462</td>\n",
       "      <td>RI</td>\n",
       "      <td>106868.433594</td>\n",
       "      <td>401.007256</td>\n",
       "      <td>0.000000</td>\n",
       "      <td>0.000</td>\n",
       "      <td>0.000000</td>\n",
       "      <td>3926.910889</td>\n",
       "    </tr>\n",
       "    <tr>\n",
       "      <th>686</th>\n",
       "      <td>6168</td>\n",
       "      <td>CT</td>\n",
       "      <td>62052.640625</td>\n",
       "      <td>398.539760</td>\n",
       "      <td>0.000000</td>\n",
       "      <td>0.000</td>\n",
       "      <td>0.000000</td>\n",
       "      <td>106855.679688</td>\n",
       "    </tr>\n",
       "    <tr>\n",
       "      <th>846</th>\n",
       "      <td>6872</td>\n",
       "      <td>NY</td>\n",
       "      <td>85035.101562</td>\n",
       "      <td>402.437774</td>\n",
       "      <td>0.000000</td>\n",
       "      <td>0.000</td>\n",
       "      <td>0.000000</td>\n",
       "      <td>241672.859375</td>\n",
       "    </tr>\n",
       "    <tr>\n",
       "      <th>1165</th>\n",
       "      <td>8843</td>\n",
       "      <td>NY</td>\n",
       "      <td>85264.925781</td>\n",
       "      <td>403.525441</td>\n",
       "      <td>17897.585938</td>\n",
       "      <td>21417.375</td>\n",
       "      <td>3519.789062</td>\n",
       "      <td>1036.865601</td>\n",
       "    </tr>\n",
       "    <tr>\n",
       "      <th>1446</th>\n",
       "      <td>10425</td>\n",
       "      <td>NJ</td>\n",
       "      <td>129850.888672</td>\n",
       "      <td>403.263629</td>\n",
       "      <td>0.000000</td>\n",
       "      <td>0.000</td>\n",
       "      <td>0.000000</td>\n",
       "      <td>227.340012</td>\n",
       "    </tr>\n",
       "  </tbody>\n",
       "</table>\n",
       "</div>"
      ],
      "text/plain": [
       "      household_id State  Employment_Income   fpl_ratio  aca_baseline  \\\n",
       "11              91    ME       85344.212891  403.900676      0.000000   \n",
       "57             495    ME      105351.593262  395.315547      0.000000   \n",
       "247           2971    VT       85035.097656  402.437755      0.000000   \n",
       "371           3945    MA      106868.429688  401.007241      0.000000   \n",
       "497           4662    MA       62052.640625  398.539760      0.000000   \n",
       "600           5462    RI      106868.433594  401.007256      0.000000   \n",
       "686           6168    CT       62052.640625  398.539760      0.000000   \n",
       "846           6872    NY       85035.101562  402.437774      0.000000   \n",
       "1165          8843    NY       85264.925781  403.525441  17897.585938   \n",
       "1446         10425    NJ      129850.888672  403.263629      0.000000   \n",
       "\n",
       "      aca_reform   net_change         weight  \n",
       "11         0.000     0.000000    1078.256592  \n",
       "57         0.000     0.000000    9808.822266  \n",
       "247        0.000     0.000000     973.623474  \n",
       "371        0.000     0.000000   53990.785156  \n",
       "497        0.000     0.000000     467.895142  \n",
       "600        0.000     0.000000    3926.910889  \n",
       "686        0.000     0.000000  106855.679688  \n",
       "846        0.000     0.000000  241672.859375  \n",
       "1165   21417.375  3519.789062    1036.865601  \n",
       "1446       0.000     0.000000     227.340012  "
      ]
     },
     "execution_count": 23,
     "metadata": {},
     "output_type": "execute_result"
    }
   ],
   "source": [
    "# Let's calculate approximate FPL levels for households to understand where they fall\n",
    "# 2026 FPL estimates (rough approximations based on current trends)\n",
    "fpl_2026 = {\n",
    "    1: 15570,   # Single person\n",
    "    2: 21130,   # Couple\n",
    "    3: 26650,   # Family of 3\n",
    "    4: 32200,   # Family of 4\n",
    "    5: 37750,   # Family of 5\n",
    "    6: 43300,   # Family of 6\n",
    "    7: 48850,   # Family of 7\n",
    "    8: 54400,   # Family of 8\n",
    "}\n",
    "\n",
    "# Calculate household size and FPL ratio\n",
    "df_outputs['household_size'] = 2 + df_outputs['Num_Dependents']  # Assuming married couples or singles with deps\n",
    "df_outputs['household_size'] = df_outputs.apply(\n",
    "    lambda row: (1 + row['Married'] + row['Num_Dependents']) if not pd.isna(row['Married']) else 1,\n",
    "    axis=1\n",
    ")\n",
    "\n",
    "# Map FPL based on household size\n",
    "df_outputs['fpl_threshold'] = df_outputs['household_size'].map(lambda x: fpl_2026.get(min(int(x), 8), 54400))\n",
    "df_outputs['fpl_ratio'] = (df_outputs['Employment_Income'] / df_outputs['fpl_threshold']) * 100\n",
    "\n",
    "# Now let's analyze the cliff effect around 400% FPL\n",
    "print(\"=\"*70)\n",
    "print(\"ANALYSIS OF THE 400% FPL CLIFF EFFECT\")\n",
    "print(\"=\"*70)\n",
    "\n",
    "# Households just below and above 400% FPL\n",
    "near_cliff = df_outputs[(df_outputs['fpl_ratio'] >= 350) & (df_outputs['fpl_ratio'] <= 450)]\n",
    "print(f\"\\nHouseholds between 350-450% FPL: {len(near_cliff)}\")\n",
    "print(f\"Weighted count: {near_cliff['weight'].sum():,.0f}\")\n",
    "\n",
    "# Split by those above and below 400% FPL\n",
    "below_400 = near_cliff[near_cliff['fpl_ratio'] <= 400]\n",
    "above_400 = near_cliff[near_cliff['fpl_ratio'] > 400]\n",
    "\n",
    "print(f\"\\nBelow 400% FPL (350-400%): {len(below_400)} households\")\n",
    "print(f\"  Average baseline PTC: ${below_400['aca_baseline'].mean():,.2f}\")\n",
    "print(f\"  Average reform PTC: ${below_400['aca_reform'].mean():,.2f}\")\n",
    "print(f\"  Average change: ${below_400['net_change'].mean():,.2f}\")\n",
    "\n",
    "print(f\"\\nAbove 400% FPL (400-450%): {len(above_400)} households\")\n",
    "print(f\"  Average baseline PTC: ${above_400['aca_baseline'].mean():,.2f}\")\n",
    "print(f\"  Average reform PTC: ${above_400['aca_reform'].mean():,.2f}\")\n",
    "print(f\"  Average change: ${above_400['net_change'].mean():,.2f}\")\n",
    "\n",
    "# Show some examples\n",
    "print(\"\\n\" + \"=\"*70)\n",
    "print(\"EXAMPLE HOUSEHOLDS AT THE CLIFF (395-405% FPL):\")\n",
    "print(\"=\"*70)\n",
    "cliff_examples = df_outputs[(df_outputs['fpl_ratio'] >= 395) & (df_outputs['fpl_ratio'] <= 405)]\n",
    "cliff_examples_display = cliff_examples[['household_id', 'State', 'Employment_Income', 'fpl_ratio', \n",
    "                                         'aca_baseline', 'aca_reform', 'net_change', 'weight']].head(10)\n",
    "cliff_examples_display"
   ]
  },
  {
   "cell_type": "code",
   "execution_count": 24,
   "id": "hmhah1unlwn",
   "metadata": {},
   "outputs": [
    {
     "ename": "ValueError",
     "evalue": "Bin labels must be one fewer than the number of bin edges",
     "output_type": "error",
     "traceback": [
      "\u001b[0;31m---------------------------------------------------------------------------\u001b[0m",
      "\u001b[0;31mValueError\u001b[0m                                Traceback (most recent call last)",
      "Cell \u001b[0;32mIn[24], line 3\u001b[0m\n\u001b[1;32m      1\u001b[0m \u001b[38;5;66;03m# Let's look more specifically at the income deciles to see where the cliff effect shows up\u001b[39;00m\n\u001b[1;32m      2\u001b[0m \u001b[38;5;66;03m# Calculate income deciles\u001b[39;00m\n\u001b[0;32m----> 3\u001b[0m df_outputs[\u001b[38;5;124m'\u001b[39m\u001b[38;5;124mincome_decile\u001b[39m\u001b[38;5;124m'\u001b[39m] \u001b[38;5;241m=\u001b[39m \u001b[43mpd\u001b[49m\u001b[38;5;241;43m.\u001b[39;49m\u001b[43mqcut\u001b[49m\u001b[43m(\u001b[49m\u001b[43mdf_outputs\u001b[49m\u001b[43m[\u001b[49m\u001b[38;5;124;43m'\u001b[39;49m\u001b[38;5;124;43mEmployment_Income\u001b[39;49m\u001b[38;5;124;43m'\u001b[39;49m\u001b[43m]\u001b[49m\u001b[43m,\u001b[49m\u001b[43m \u001b[49m\u001b[38;5;241;43m10\u001b[39;49m\u001b[43m,\u001b[49m\u001b[43m \u001b[49m\u001b[43mlabels\u001b[49m\u001b[38;5;241;43m=\u001b[39;49m\u001b[38;5;28;43mrange\u001b[39;49m\u001b[43m(\u001b[49m\u001b[38;5;241;43m1\u001b[39;49m\u001b[43m,\u001b[49m\u001b[43m \u001b[49m\u001b[38;5;241;43m11\u001b[39;49m\u001b[43m)\u001b[49m\u001b[43m,\u001b[49m\u001b[43m \u001b[49m\u001b[43mduplicates\u001b[49m\u001b[38;5;241;43m=\u001b[39;49m\u001b[38;5;124;43m'\u001b[39;49m\u001b[38;5;124;43mdrop\u001b[39;49m\u001b[38;5;124;43m'\u001b[39;49m\u001b[43m)\u001b[49m\n\u001b[1;32m      5\u001b[0m \u001b[38;5;66;03m# Group by decile and show the effect\u001b[39;00m\n\u001b[1;32m      6\u001b[0m decile_analysis \u001b[38;5;241m=\u001b[39m df_outputs\u001b[38;5;241m.\u001b[39mgroupby(\u001b[38;5;124m'\u001b[39m\u001b[38;5;124mincome_decile\u001b[39m\u001b[38;5;124m'\u001b[39m)\u001b[38;5;241m.\u001b[39magg({\n\u001b[1;32m      7\u001b[0m     \u001b[38;5;124m'\u001b[39m\u001b[38;5;124mEmployment_Income\u001b[39m\u001b[38;5;124m'\u001b[39m: [\u001b[38;5;124m'\u001b[39m\u001b[38;5;124mmin\u001b[39m\u001b[38;5;124m'\u001b[39m, \u001b[38;5;124m'\u001b[39m\u001b[38;5;124mmax\u001b[39m\u001b[38;5;124m'\u001b[39m, \u001b[38;5;124m'\u001b[39m\u001b[38;5;124mmean\u001b[39m\u001b[38;5;124m'\u001b[39m],\n\u001b[1;32m      8\u001b[0m     \u001b[38;5;124m'\u001b[39m\u001b[38;5;124mfpl_ratio\u001b[39m\u001b[38;5;124m'\u001b[39m: \u001b[38;5;124m'\u001b[39m\u001b[38;5;124mmean\u001b[39m\u001b[38;5;124m'\u001b[39m,\n\u001b[0;32m   (...)\u001b[0m\n\u001b[1;32m     12\u001b[0m     \u001b[38;5;124m'\u001b[39m\u001b[38;5;124mweight\u001b[39m\u001b[38;5;124m'\u001b[39m: \u001b[38;5;124m'\u001b[39m\u001b[38;5;124msum\u001b[39m\u001b[38;5;124m'\u001b[39m\n\u001b[1;32m     13\u001b[0m })\u001b[38;5;241m.\u001b[39mround(\u001b[38;5;241m2\u001b[39m)\n",
      "File \u001b[0;32m~/miniconda3/envs/policyengine/lib/python3.10/site-packages/pandas/core/reshape/tile.py:340\u001b[0m, in \u001b[0;36mqcut\u001b[0;34m(x, q, labels, retbins, precision, duplicates)\u001b[0m\n\u001b[1;32m    336\u001b[0m quantiles \u001b[38;5;241m=\u001b[39m np\u001b[38;5;241m.\u001b[39mlinspace(\u001b[38;5;241m0\u001b[39m, \u001b[38;5;241m1\u001b[39m, q \u001b[38;5;241m+\u001b[39m \u001b[38;5;241m1\u001b[39m) \u001b[38;5;28;01mif\u001b[39;00m is_integer(q) \u001b[38;5;28;01melse\u001b[39;00m q\n\u001b[1;32m    338\u001b[0m bins \u001b[38;5;241m=\u001b[39m x_idx\u001b[38;5;241m.\u001b[39mto_series()\u001b[38;5;241m.\u001b[39mdropna()\u001b[38;5;241m.\u001b[39mquantile(quantiles)\n\u001b[0;32m--> 340\u001b[0m fac, bins \u001b[38;5;241m=\u001b[39m \u001b[43m_bins_to_cuts\u001b[49m\u001b[43m(\u001b[49m\n\u001b[1;32m    341\u001b[0m \u001b[43m    \u001b[49m\u001b[43mx_idx\u001b[49m\u001b[43m,\u001b[49m\n\u001b[1;32m    342\u001b[0m \u001b[43m    \u001b[49m\u001b[43mIndex\u001b[49m\u001b[43m(\u001b[49m\u001b[43mbins\u001b[49m\u001b[43m)\u001b[49m\u001b[43m,\u001b[49m\n\u001b[1;32m    343\u001b[0m \u001b[43m    \u001b[49m\u001b[43mlabels\u001b[49m\u001b[38;5;241;43m=\u001b[39;49m\u001b[43mlabels\u001b[49m\u001b[43m,\u001b[49m\n\u001b[1;32m    344\u001b[0m \u001b[43m    \u001b[49m\u001b[43mprecision\u001b[49m\u001b[38;5;241;43m=\u001b[39;49m\u001b[43mprecision\u001b[49m\u001b[43m,\u001b[49m\n\u001b[1;32m    345\u001b[0m \u001b[43m    \u001b[49m\u001b[43minclude_lowest\u001b[49m\u001b[38;5;241;43m=\u001b[39;49m\u001b[38;5;28;43;01mTrue\u001b[39;49;00m\u001b[43m,\u001b[49m\n\u001b[1;32m    346\u001b[0m \u001b[43m    \u001b[49m\u001b[43mduplicates\u001b[49m\u001b[38;5;241;43m=\u001b[39;49m\u001b[43mduplicates\u001b[49m\u001b[43m,\u001b[49m\n\u001b[1;32m    347\u001b[0m \u001b[43m\u001b[49m\u001b[43m)\u001b[49m\n\u001b[1;32m    349\u001b[0m \u001b[38;5;28;01mreturn\u001b[39;00m _postprocess_for_cut(fac, bins, retbins, original)\n",
      "File \u001b[0;32m~/miniconda3/envs/policyengine/lib/python3.10/site-packages/pandas/core/reshape/tile.py:493\u001b[0m, in \u001b[0;36m_bins_to_cuts\u001b[0;34m(x_idx, bins, right, labels, precision, include_lowest, duplicates, ordered)\u001b[0m\n\u001b[1;32m    491\u001b[0m \u001b[38;5;28;01melse\u001b[39;00m:\n\u001b[1;32m    492\u001b[0m     \u001b[38;5;28;01mif\u001b[39;00m \u001b[38;5;28mlen\u001b[39m(labels) \u001b[38;5;241m!=\u001b[39m \u001b[38;5;28mlen\u001b[39m(bins) \u001b[38;5;241m-\u001b[39m \u001b[38;5;241m1\u001b[39m:\n\u001b[0;32m--> 493\u001b[0m         \u001b[38;5;28;01mraise\u001b[39;00m \u001b[38;5;167;01mValueError\u001b[39;00m(\n\u001b[1;32m    494\u001b[0m             \u001b[38;5;124m\"\u001b[39m\u001b[38;5;124mBin labels must be one fewer than the number of bin edges\u001b[39m\u001b[38;5;124m\"\u001b[39m\n\u001b[1;32m    495\u001b[0m         )\n\u001b[1;32m    497\u001b[0m \u001b[38;5;28;01mif\u001b[39;00m \u001b[38;5;129;01mnot\u001b[39;00m \u001b[38;5;28misinstance\u001b[39m(\u001b[38;5;28mgetattr\u001b[39m(labels, \u001b[38;5;124m\"\u001b[39m\u001b[38;5;124mdtype\u001b[39m\u001b[38;5;124m\"\u001b[39m, \u001b[38;5;28;01mNone\u001b[39;00m), CategoricalDtype):\n\u001b[1;32m    498\u001b[0m     labels \u001b[38;5;241m=\u001b[39m Categorical(\n\u001b[1;32m    499\u001b[0m         labels,\n\u001b[1;32m    500\u001b[0m         categories\u001b[38;5;241m=\u001b[39mlabels \u001b[38;5;28;01mif\u001b[39;00m \u001b[38;5;28mlen\u001b[39m(\u001b[38;5;28mset\u001b[39m(labels)) \u001b[38;5;241m==\u001b[39m \u001b[38;5;28mlen\u001b[39m(labels) \u001b[38;5;28;01melse\u001b[39;00m \u001b[38;5;28;01mNone\u001b[39;00m,\n\u001b[1;32m    501\u001b[0m         ordered\u001b[38;5;241m=\u001b[39mordered,\n\u001b[1;32m    502\u001b[0m     )\n",
      "\u001b[0;31mValueError\u001b[0m: Bin labels must be one fewer than the number of bin edges"
     ]
    }
   ],
   "source": [
    "# Let's look more specifically at the income deciles to see where the cliff effect shows up\n",
    "# Calculate income deciles\n",
    "df_outputs['income_decile'] = pd.qcut(df_outputs['Employment_Income'], 10, labels=range(1, 11), duplicates='drop')\n",
    "\n",
    "# Group by decile and show the effect\n",
    "decile_analysis = df_outputs.groupby('income_decile').agg({\n",
    "    'Employment_Income': ['min', 'max', 'mean'],\n",
    "    'fpl_ratio': 'mean',\n",
    "    'aca_baseline': 'mean',\n",
    "    'aca_reform': 'mean',\n",
    "    'net_change': 'mean',\n",
    "    'weight': 'sum'\n",
    "}).round(2)\n",
    "\n",
    "print(\"=\"*70)\n",
    "print(\"PTC EFFECTS BY INCOME DECILE\")\n",
    "print(\"=\"*70)\n",
    "print(\"\\nIncome ranges and average PTC changes by decile:\")\n",
    "decile_analysis"
   ]
  },
  {
   "cell_type": "code",
   "execution_count": 25,
   "id": "w09m1i1mc5q",
   "metadata": {},
   "outputs": [
    {
     "name": "stdout",
     "output_type": "stream",
     "text": [
      "======================================================================\n",
      "PTC EFFECTS BY INCOME DECILE\n",
      "======================================================================\n",
      "\n",
      "Income ranges and average PTC changes by decile:\n"
     ]
    },
    {
     "data": {
      "text/html": [
       "<div>\n",
       "<style scoped>\n",
       "    .dataframe tbody tr th:only-of-type {\n",
       "        vertical-align: middle;\n",
       "    }\n",
       "\n",
       "    .dataframe tbody tr th {\n",
       "        vertical-align: top;\n",
       "    }\n",
       "\n",
       "    .dataframe thead tr th {\n",
       "        text-align: left;\n",
       "    }\n",
       "\n",
       "    .dataframe thead tr:last-of-type th {\n",
       "        text-align: right;\n",
       "    }\n",
       "</style>\n",
       "<table border=\"1\" class=\"dataframe\">\n",
       "  <thead>\n",
       "    <tr>\n",
       "      <th></th>\n",
       "      <th colspan=\"3\" halign=\"left\">Employment_Income</th>\n",
       "      <th>fpl_ratio</th>\n",
       "      <th>aca_baseline</th>\n",
       "      <th>aca_reform</th>\n",
       "      <th>net_change</th>\n",
       "      <th>weight</th>\n",
       "    </tr>\n",
       "    <tr>\n",
       "      <th></th>\n",
       "      <th>min</th>\n",
       "      <th>max</th>\n",
       "      <th>mean</th>\n",
       "      <th>mean</th>\n",
       "      <th>mean</th>\n",
       "      <th>mean</th>\n",
       "      <th>mean</th>\n",
       "      <th>sum</th>\n",
       "    </tr>\n",
       "    <tr>\n",
       "      <th>decile_num</th>\n",
       "      <th></th>\n",
       "      <th></th>\n",
       "      <th></th>\n",
       "      <th></th>\n",
       "      <th></th>\n",
       "      <th></th>\n",
       "      <th></th>\n",
       "      <th></th>\n",
       "    </tr>\n",
       "  </thead>\n",
       "  <tbody>\n",
       "    <tr>\n",
       "      <th>1</th>\n",
       "      <td>0.00</td>\n",
       "      <td>22082.70</td>\n",
       "      <td>3081.23</td>\n",
       "      <td>16.50</td>\n",
       "      <td>481.01</td>\n",
       "      <td>618.01</td>\n",
       "      <td>136.99</td>\n",
       "      <td>56060974.39</td>\n",
       "    </tr>\n",
       "    <tr>\n",
       "      <th>2</th>\n",
       "      <td>22096.56</td>\n",
       "      <td>40219.30</td>\n",
       "      <td>31811.30</td>\n",
       "      <td>167.52</td>\n",
       "      <td>1638.77</td>\n",
       "      <td>1989.05</td>\n",
       "      <td>350.27</td>\n",
       "      <td>18267145.22</td>\n",
       "    </tr>\n",
       "    <tr>\n",
       "      <th>3</th>\n",
       "      <td>40220.45</td>\n",
       "      <td>59168.34</td>\n",
       "      <td>50102.24</td>\n",
       "      <td>254.53</td>\n",
       "      <td>1575.92</td>\n",
       "      <td>2062.44</td>\n",
       "      <td>486.52</td>\n",
       "      <td>13547056.92</td>\n",
       "    </tr>\n",
       "    <tr>\n",
       "      <th>4</th>\n",
       "      <td>59179.83</td>\n",
       "      <td>80438.61</td>\n",
       "      <td>69904.57</td>\n",
       "      <td>343.95</td>\n",
       "      <td>1437.25</td>\n",
       "      <td>2029.91</td>\n",
       "      <td>592.66</td>\n",
       "      <td>12499143.93</td>\n",
       "    </tr>\n",
       "    <tr>\n",
       "      <th>5</th>\n",
       "      <td>80438.61</td>\n",
       "      <td>106574.53</td>\n",
       "      <td>93253.97</td>\n",
       "      <td>434.80</td>\n",
       "      <td>1303.70</td>\n",
       "      <td>2060.30</td>\n",
       "      <td>756.60</td>\n",
       "      <td>11057517.34</td>\n",
       "    </tr>\n",
       "    <tr>\n",
       "      <th>6</th>\n",
       "      <td>106597.34</td>\n",
       "      <td>142491.25</td>\n",
       "      <td>122908.07</td>\n",
       "      <td>554.42</td>\n",
       "      <td>816.63</td>\n",
       "      <td>1518.36</td>\n",
       "      <td>701.72</td>\n",
       "      <td>13853349.38</td>\n",
       "    </tr>\n",
       "    <tr>\n",
       "      <th>7</th>\n",
       "      <td>142491.25</td>\n",
       "      <td>205693.01</td>\n",
       "      <td>169652.75</td>\n",
       "      <td>727.25</td>\n",
       "      <td>489.02</td>\n",
       "      <td>1177.16</td>\n",
       "      <td>688.14</td>\n",
       "      <td>10689611.79</td>\n",
       "    </tr>\n",
       "    <tr>\n",
       "      <th>8</th>\n",
       "      <td>205693.02</td>\n",
       "      <td>3305428.97</td>\n",
       "      <td>382158.51</td>\n",
       "      <td>1548.38</td>\n",
       "      <td>210.36</td>\n",
       "      <td>482.04</td>\n",
       "      <td>271.67</td>\n",
       "      <td>11524346.53</td>\n",
       "    </tr>\n",
       "  </tbody>\n",
       "</table>\n",
       "</div>"
      ],
      "text/plain": [
       "           Employment_Income                        fpl_ratio aca_baseline  \\\n",
       "                         min         max       mean      mean         mean   \n",
       "decile_num                                                                   \n",
       "1                       0.00    22082.70    3081.23     16.50       481.01   \n",
       "2                   22096.56    40219.30   31811.30    167.52      1638.77   \n",
       "3                   40220.45    59168.34   50102.24    254.53      1575.92   \n",
       "4                   59179.83    80438.61   69904.57    343.95      1437.25   \n",
       "5                   80438.61   106574.53   93253.97    434.80      1303.70   \n",
       "6                  106597.34   142491.25  122908.07    554.42       816.63   \n",
       "7                  142491.25   205693.01  169652.75    727.25       489.02   \n",
       "8                  205693.02  3305428.97  382158.51   1548.38       210.36   \n",
       "\n",
       "           aca_reform net_change       weight  \n",
       "                 mean       mean          sum  \n",
       "decile_num                                     \n",
       "1              618.01     136.99  56060974.39  \n",
       "2             1989.05     350.27  18267145.22  \n",
       "3             2062.44     486.52  13547056.92  \n",
       "4             2029.91     592.66  12499143.93  \n",
       "5             2060.30     756.60  11057517.34  \n",
       "6             1518.36     701.72  13853349.38  \n",
       "7             1177.16     688.14  10689611.79  \n",
       "8              482.04     271.67  11524346.53  "
      ]
     },
     "execution_count": 25,
     "metadata": {},
     "output_type": "execute_result"
    }
   ],
   "source": [
    "# Fix the decile calculation\n",
    "# Calculate income deciles without explicit labels to avoid the error\n",
    "df_outputs['income_decile'] = pd.qcut(df_outputs['Employment_Income'], 10, duplicates='drop')\n",
    "\n",
    "# Get unique deciles and sort them\n",
    "deciles = sorted(df_outputs['income_decile'].unique())\n",
    "\n",
    "# Create a mapping to simpler labels\n",
    "decile_map = {d: i+1 for i, d in enumerate(deciles)}\n",
    "df_outputs['decile_num'] = df_outputs['income_decile'].map(decile_map)\n",
    "\n",
    "# Group by decile and show the effect\n",
    "decile_analysis = df_outputs.groupby('decile_num').agg({\n",
    "    'Employment_Income': ['min', 'max', 'mean'],\n",
    "    'fpl_ratio': 'mean',\n",
    "    'aca_baseline': 'mean',\n",
    "    'aca_reform': 'mean',\n",
    "    'net_change': 'mean',\n",
    "    'weight': 'sum'\n",
    "}).round(2)\n",
    "\n",
    "print(\"=\"*70)\n",
    "print(\"PTC EFFECTS BY INCOME DECILE\")\n",
    "print(\"=\"*70)\n",
    "print(\"\\nIncome ranges and average PTC changes by decile:\")\n",
    "decile_analysis"
   ]
  },
  {
   "cell_type": "code",
   "execution_count": null,
   "id": "fbfun838g2",
   "metadata": {},
   "outputs": [],
   "source": [
    "# Let's look at where in the data the 9th decile falls (the one from the chart)\n",
    "# Since we only have 8 groups due to duplicates being dropped, let's recalculate properly\n",
    "\n",
    "# First, let's understand the actual income distribution better\n",
    "print(\"=\"*70)\n",
    "print(\"UNDERSTANDING THE 9TH DECILE CONCENTRATION\")\n",
    "print(\"=\"*70)\n",
    "\n",
    "# Get percentiles to understand income distribution\n",
    "percentiles = [10, 20, 30, 40, 50, 60, 70, 80, 90, 95, 99]\n",
    "income_pcts = np.percentile(df_outputs['Employment_Income'], percentiles)\n",
    "\n",
    "print(\"\\nIncome distribution percentiles:\")\n",
    "for p, val in zip(percentiles, income_pcts):\n",
    "    print(f\"  {p}th percentile: ${val:,.0f}\")\n",
    "\n",
    "# The 9th decile should be roughly between 80th and 90th percentile\n",
    "ninth_decile = df_outputs[(df_outputs['Employment_Income'] >= income_pcts[7]) & \n",
    "                          (df_outputs['Employment_Income'] < income_pcts[8])]\n",
    "\n",
    "print(f\"\\n9th Decile (80-90th percentile):\")\n",
    "print(f\"  Income range: ${income_pcts[7]:,.0f} - ${income_pcts[8]:,.0f}\")\n",
    "print(f\"  Number of households: {len(ninth_decile)}\")\n",
    "print(f\"  Weighted count: {ninth_decile['weight'].sum():,.0f}\")\n",
    "print(f\"  Average FPL ratio: {ninth_decile['fpl_ratio'].mean():.1f}%\")\n",
    "print(f\"  Average baseline PTC: ${ninth_decile['aca_baseline'].mean():,.2f}\")\n",
    "print(f\"  Average reform PTC: ${ninth_decile['aca_reform'].mean():,.2f}\")\n",
    "print(f\"  Average change: ${ninth_decile['net_change'].mean():,.2f}\")\n",
    "\n",
    "# Now let's see WHO specifically gains in the 9th decile\n",
    "ninth_decile_gainers = ninth_decile[ninth_decile['net_change'] > 100]  # Gains more than $100\n",
    "\n",
    "print(f\"\\nHouseholds in 9th decile with gains > $100:\")\n",
    "print(f\"  Count: {len(ninth_decile_gainers)}\")\n",
    "print(f\"  Average income: ${ninth_decile_gainers['Employment_Income'].mean():,.0f}\")\n",
    "print(f\"  Average FPL ratio: {ninth_decile_gainers['fpl_ratio'].mean():.1f}%\")\n",
    "print(f\"  Average gain: ${ninth_decile_gainers['net_change'].mean():,.2f}\")\n",
    "\n",
    "# Look at specific examples\n",
    "print(\"\\nExample households in 9th decile with large gains:\")\n",
    "examples = ninth_decile_gainers.nlargest(5, 'net_change')[\n",
    "    ['household_id', 'State', 'Employment_Income', 'fpl_ratio', \n",
    "     'aca_baseline', 'aca_reform', 'net_change', 'Married', 'Num_Dependents']\n",
    "]\n",
    "examples"
   ]
  },
  {
   "cell_type": "code",
   "execution_count": 26,
   "id": "inz803s5rlm",
   "metadata": {},
   "outputs": [
    {
     "name": "stdout",
     "output_type": "stream",
     "text": [
      "Checking available variables:\n",
      "df_outputs exists: True\n",
      "df_outputs shape: (21607, 14)\n",
      "Columns: ['household_id', 'State', 'Married', 'Num_Dependents', 'Employment_Income', 'aca_baseline', 'aca_reform', 'weight', 'net_change', 'household_size', 'fpl_threshold', 'fpl_ratio', 'income_decile', 'decile_num']\n"
     ]
    }
   ],
   "source": [
    "# Check if the dataframe exists and has the needed columns\n",
    "print(\"Checking available variables:\")\n",
    "print(f\"df_outputs exists: {'df_outputs' in locals()}\")\n",
    "if 'df_outputs' in locals():\n",
    "    print(f\"df_outputs shape: {df_outputs.shape}\")\n",
    "    print(f\"Columns: {list(df_outputs.columns)}\")"
   ]
  },
  {
   "cell_type": "code",
   "execution_count": null,
   "id": "qhtylcg4wz",
   "metadata": {},
   "outputs": [],
   "source": "# Now let's analyze ESI coverage and zero income - CORRECTED\nprint(\"=\"*70)\nprint(\"ANALYZING ESI COVERAGE AND ZERO INCOME\")\nprint(\"=\"*70)\n\n# Get ESI status and employment income at person level\nhas_esi = baseline.calculate(\"has_esi\", map_to=\"person\", period=2026)\nperson_income = baseline.calculate(\"employment_income\", map_to=\"person\", period=2026)\n\n# Get person weights directly (not through calculate)\nperson_weight = has_esi.weights\n\n# Create masks for our conditions\nhas_esi_mask = (has_esi == 1)\nzero_income_mask = (person_income == 0)\nboth_mask = has_esi_mask & zero_income_mask\n\n# Calculate weighted counts\ntotal_with_esi = (has_esi_mask * person_weight).sum()\ntotal_with_zero_income = (zero_income_mask * person_weight).sum()\ntotal_with_both = (both_mask * person_weight).sum()\n\nprint(f\"\\nTotal people with ESI: {total_with_esi:,.0f}\")\nprint(f\"Total people with zero employment income: {total_with_zero_income:,.0f}\")\nprint(f\"Total people with BOTH ESI and zero income: {total_with_both:,.0f}\")\n\nprint(f\"\\nPercentage of ESI holders with zero income: {(total_with_both/total_with_esi)*100:.1f}%\")\nprint(f\"Percentage of zero-income people with ESI: {(total_with_both/total_with_zero_income)*100:.1f}%\")\n\n# Let's also break this down by age groups to understand better\nage = baseline.calculate(\"age\", map_to=\"person\", period=2026)\n\n# Create age groups\nchild_mask = (age < 18)\nworking_age_mask = (age >= 18) & (age < 65)\nsenior_mask = (age >= 65)\n\nprint(\"\\n\" + \"=\"*70)\nprint(\"BREAKDOWN BY AGE GROUP\")\nprint(\"=\"*70)\n\nfor age_group, age_mask, label in [\n    (\"Children (< 18)\", child_mask, \"child\"),\n    (\"Working Age (18-64)\", working_age_mask, \"working\"),\n    (\"Seniors (65+)\", senior_mask, \"senior\")\n]:\n    group_esi_zero_income = has_esi_mask & zero_income_mask & age_mask\n    group_count = (group_esi_zero_income * person_weight).sum()\n    group_esi = (has_esi_mask & age_mask * person_weight).sum()\n    \n    print(f\"\\n{age_group}:\")\n    print(f\"  With ESI and zero income: {group_count:,.0f}\")\n    print(f\"  Total with ESI: {group_esi:,.0f}\")\n    if group_esi > 0:\n        print(f\"  Percentage: {(group_count/group_esi)*100:.1f}%\")"
  }
 ],
 "metadata": {
  "kernelspec": {
   "display_name": "policyengine",
   "language": "python",
   "name": "python3"
  },
  "language_info": {
   "codemirror_mode": {
    "name": "ipython",
    "version": 3
   },
   "file_extension": ".py",
   "mimetype": "text/x-python",
   "name": "python",
   "nbconvert_exporter": "python",
   "pygments_lexer": "ipython3",
   "version": "3.10.16"
  }
 },
 "nbformat": 4,
 "nbformat_minor": 2
}