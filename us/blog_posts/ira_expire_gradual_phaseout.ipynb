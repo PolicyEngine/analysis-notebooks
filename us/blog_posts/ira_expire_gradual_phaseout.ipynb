{
 "cells": [
  {
   "cell_type": "code",
   "execution_count": 1,
   "id": "cell-0",
   "metadata": {},
   "outputs": [
    {
     "name": "stderr",
     "output_type": "stream",
     "text": [
      "/Users/daphnehansell/miniconda3/envs/policyengine/lib/python3.10/site-packages/tqdm/auto.py:21: TqdmWarning: IProgress not found. Please update jupyter and ipywidgets. See https://ipywidgets.readthedocs.io/en/stable/user_install.html\n",
      "  from .autonotebook import tqdm as notebook_tqdm\n"
     ]
    }
   ],
   "source": [
    "from policyengine_us import Microsimulation\n",
    "from policyengine_core.reforms import Reform\n",
    "import pandas as pd\n",
    "\n",
    "baseline = Microsimulation(dataset=\"hf://policyengine/policyengine-us-data/enhanced_cps_2024.h5\")"
   ]
  },
  {
   "cell_type": "code",
   "execution_count": 2,
   "id": "cell-1",
   "metadata": {},
   "outputs": [],
   "source": [
    "# Reform with gradual phase-out starting at 300% FPL\n",
    "# Keeps everything the same until 300% FPL, then rises linearly:\n",
    "# - 350% FPL: 8%\n",
    "# - 400% FPL: 10%\n",
    "# - 450% FPL: 12%\n",
    "# - 500% FPL: 14%\n",
    "# - 550% FPL: 16%\n",
    "# - 600% FPL: 18%\n",
    "\n",
    "reform = Reform.from_dict({\n",
    "  \"gov.aca.ptc_phase_out_rate[0].amount\": {\n",
    "    \"2026-01-01.2100-12-31\": 0\n",
    "  },\n",
    "  \"gov.aca.ptc_phase_out_rate[1].amount\": {\n",
    "    \"2026-01-01.2100-12-31\": 0\n",
    "  },\n",
    "  \"gov.aca.ptc_phase_out_rate[2].amount\": {\n",
    "    \"2026-01-01.2100-12-31\": 0\n",
    "  },\n",
    "  \"gov.aca.ptc_phase_out_rate[3].amount\": {\n",
    "    \"2026-01-01.2100-12-31\": 0.02\n",
    "  },\n",
    "  \"gov.aca.ptc_phase_out_rate[4].amount\": {\n",
    "    \"2026-01-01.2100-12-31\": 0.04\n",
    "  },\n",
    "  \"gov.aca.ptc_phase_out_rate[5].amount\": {\n",
    "    \"2026-01-01.2100-12-31\": 0.06\n",
    "  },\n",
    "  # New bracket at 350% FPL\n",
    "  \"gov.aca.ptc_phase_out_rate[6].threshold\": {\n",
    "    \"2026-01-01.2100-12-31\": 3.5\n",
    "  },\n",
    "  \"gov.aca.ptc_phase_out_rate[6].amount\": {\n",
    "    \"2026-01-01.2100-12-31\": 0.08\n",
    "  },\n",
    "  # Modified bracket at 400% FPL\n",
    "  \"gov.aca.ptc_phase_out_rate[7].threshold\": {\n",
    "    \"2026-01-01.2100-12-31\": 4.0\n",
    "  },\n",
    "  \"gov.aca.ptc_phase_out_rate[7].amount\": {\n",
    "    \"2026-01-01.2100-12-31\": 0.10\n",
    "  },\n",
    "  # New bracket at 450% FPL\n",
    "  \"gov.aca.ptc_phase_out_rate[8].threshold\": {\n",
    "    \"2026-01-01.2100-12-31\": 4.5\n",
    "  },\n",
    "  \"gov.aca.ptc_phase_out_rate[8].amount\": {\n",
    "    \"2026-01-01.2100-12-31\": 0.12\n",
    "  },\n",
    "  # New bracket at 500% FPL\n",
    "  \"gov.aca.ptc_phase_out_rate[9].threshold\": {\n",
    "    \"2026-01-01.2100-12-31\": 5.0\n",
    "  },\n",
    "  \"gov.aca.ptc_phase_out_rate[9].amount\": {\n",
    "    \"2026-01-01.2100-12-31\": 0.14\n",
    "  },\n",
    "  # New bracket at 550% FPL\n",
    "  \"gov.aca.ptc_phase_out_rate[10].threshold\": {\n",
    "    \"2026-01-01.2100-12-31\": 5.5\n",
    "  },\n",
    "  \"gov.aca.ptc_phase_out_rate[10].amount\": {\n",
    "    \"2026-01-01.2100-12-31\": 0.16\n",
    "  },\n",
    "  # New bracket at 600% FPL\n",
    "  \"gov.aca.ptc_phase_out_rate[11].threshold\": {\n",
    "    \"2026-01-01.2100-12-31\": 6.0\n",
    "  },\n",
    "  \"gov.aca.ptc_phase_out_rate[11].amount\": {\n",
    "    \"2026-01-01.2100-12-31\": 0.18\n",
    "  },\n",
    "  # Remove income eligibility cap\n",
    "  \"gov.aca.ptc_income_eligibility[2].amount\": {\n",
    "    \"2026-01-01.2100-12-31\": True\n",
    "  }\n",
    "}, country_id=\"us\")"
   ]
  },
  {
   "cell_type": "code",
   "execution_count": 3,
   "id": "cell-2",
   "metadata": {},
   "outputs": [
    {
     "ename": "ValueError",
     "evalue": "Could not find the parameter gov.aca.ptc_phase_out_rate[7].threshold (failed at ptc_phase_out_rate).",
     "output_type": "error",
     "traceback": [
      "\u001b[0;31m---------------------------------------------------------------------------\u001b[0m",
      "\u001b[0;31mIndexError\u001b[0m                                Traceback (most recent call last)",
      "File \u001b[0;32m~/miniconda3/envs/policyengine/lib/python3.10/site-packages/policyengine_core/parameters/parameter_node.py:267\u001b[0m, in \u001b[0;36mParameterNode.get_child\u001b[0;34m(self, path)\u001b[0m\n\u001b[1;32m    266\u001b[0m     index \u001b[38;5;241m=\u001b[39m \u001b[38;5;28mint\u001b[39m(index[:\u001b[38;5;241m-\u001b[39m\u001b[38;5;241m1\u001b[39m])\n\u001b[0;32m--> 267\u001b[0m     node \u001b[38;5;241m=\u001b[39m \u001b[43mnode\u001b[49m\u001b[38;5;241;43m.\u001b[39;49m\u001b[43mchildren\u001b[49m\u001b[43m[\u001b[49m\u001b[43mname\u001b[49m\u001b[43m]\u001b[49m\u001b[38;5;241;43m.\u001b[39;49m\u001b[43mbrackets\u001b[49m\u001b[43m[\u001b[49m\u001b[43mindex\u001b[49m\u001b[43m]\u001b[49m\n\u001b[1;32m    268\u001b[0m \u001b[38;5;28;01mexcept\u001b[39;00m:\n",
      "\u001b[0;31mIndexError\u001b[0m: list index out of range",
      "\nDuring handling of the above exception, another exception occurred:\n",
      "\u001b[0;31mValueError\u001b[0m                                Traceback (most recent call last)",
      "File \u001b[0;32m~/miniconda3/envs/policyengine/lib/python3.10/site-packages/policyengine_core/parameters/parameter_node.py:269\u001b[0m, in \u001b[0;36mParameterNode.get_child\u001b[0;34m(self, path)\u001b[0m\n\u001b[1;32m    268\u001b[0m         \u001b[38;5;28;01mexcept\u001b[39;00m:\n\u001b[0;32m--> 269\u001b[0m             \u001b[38;5;28;01mraise\u001b[39;00m \u001b[38;5;167;01mValueError\u001b[39;00m(\n\u001b[1;32m    270\u001b[0m                 \u001b[38;5;124m\"\u001b[39m\u001b[38;5;124mInvalid bracket syntax (should be e.g. tax.brackets[3].rate\u001b[39m\u001b[38;5;124m\"\u001b[39m\n\u001b[1;32m    271\u001b[0m             )\n\u001b[1;32m    272\u001b[0m \u001b[38;5;28;01mexcept\u001b[39;00m:\n",
      "\u001b[0;31mValueError\u001b[0m: Invalid bracket syntax (should be e.g. tax.brackets[3].rate",
      "\nDuring handling of the above exception, another exception occurred:\n",
      "\u001b[0;31mValueError\u001b[0m                                Traceback (most recent call last)",
      "Cell \u001b[0;32mIn[3], line 2\u001b[0m\n\u001b[1;32m      1\u001b[0m baseline \u001b[38;5;241m=\u001b[39m Microsimulation(dataset\u001b[38;5;241m=\u001b[39m\u001b[38;5;124m\"\u001b[39m\u001b[38;5;124mhf://policyengine/policyengine-us-data/enhanced_cps_2024.h5\u001b[39m\u001b[38;5;124m\"\u001b[39m)\n\u001b[0;32m----> 2\u001b[0m reformed \u001b[38;5;241m=\u001b[39m \u001b[43mMicrosimulation\u001b[49m\u001b[43m(\u001b[49m\u001b[43mreform\u001b[49m\u001b[38;5;241;43m=\u001b[39;49m\u001b[43mreform\u001b[49m\u001b[43m,\u001b[49m\u001b[43m \u001b[49m\u001b[43mdataset\u001b[49m\u001b[38;5;241;43m=\u001b[39;49m\u001b[38;5;124;43m\"\u001b[39;49m\u001b[38;5;124;43mhf://policyengine/policyengine-us-data/enhanced_cps_2024.h5\u001b[39;49m\u001b[38;5;124;43m\"\u001b[39;49m\u001b[43m)\u001b[49m\n\u001b[1;32m      3\u001b[0m weights \u001b[38;5;241m=\u001b[39m baseline\u001b[38;5;241m.\u001b[39mcalculate(\u001b[38;5;124m\"\u001b[39m\u001b[38;5;124mhousehold_weight\u001b[39m\u001b[38;5;124m\"\u001b[39m, period\u001b[38;5;241m=\u001b[39m\u001b[38;5;241m2024\u001b[39m)\n",
      "File \u001b[0;32m~/Documents/GitHub/policyengine-us/policyengine_us/system.py:220\u001b[0m, in \u001b[0;36mMicrosimulation.__init__\u001b[0;34m(self, *args, **kwargs)\u001b[0m\n\u001b[1;32m    213\u001b[0m \u001b[38;5;28;01mif\u001b[39;00m (\n\u001b[1;32m    214\u001b[0m     dataset \u001b[38;5;129;01mis\u001b[39;00m \u001b[38;5;129;01mnot\u001b[39;00m \u001b[38;5;28;01mNone\u001b[39;00m\n\u001b[1;32m    215\u001b[0m     \u001b[38;5;129;01mand\u001b[39;00m \u001b[38;5;28misinstance\u001b[39m(dataset, \u001b[38;5;28mstr\u001b[39m)\n\u001b[1;32m    216\u001b[0m     \u001b[38;5;129;01mand\u001b[39;00m \u001b[38;5;124m\"\u001b[39m\u001b[38;5;124mcps_2023\u001b[39m\u001b[38;5;124m\"\u001b[39m \u001b[38;5;129;01min\u001b[39;00m dataset\n\u001b[1;32m    217\u001b[0m ):\n\u001b[1;32m    218\u001b[0m     \u001b[38;5;28mself\u001b[39m\u001b[38;5;241m.\u001b[39mdefault_input_period \u001b[38;5;241m=\u001b[39m \u001b[38;5;241m2023\u001b[39m\n\u001b[0;32m--> 220\u001b[0m \u001b[38;5;28;43msuper\u001b[39;49m\u001b[43m(\u001b[49m\u001b[43m)\u001b[49m\u001b[38;5;241;43m.\u001b[39;49m\u001b[38;5;21;43m__init__\u001b[39;49m\u001b[43m(\u001b[49m\u001b[38;5;241;43m*\u001b[39;49m\u001b[43margs\u001b[49m\u001b[43m,\u001b[49m\u001b[43m \u001b[49m\u001b[38;5;241;43m*\u001b[39;49m\u001b[38;5;241;43m*\u001b[39;49m\u001b[43mkwargs\u001b[49m\u001b[43m)\u001b[49m\n\u001b[1;32m    222\u001b[0m reform \u001b[38;5;241m=\u001b[39m create_structural_reforms_from_parameters(\n\u001b[1;32m    223\u001b[0m     \u001b[38;5;28mself\u001b[39m\u001b[38;5;241m.\u001b[39mtax_benefit_system\u001b[38;5;241m.\u001b[39mparameters, start_instant\n\u001b[1;32m    224\u001b[0m )\n\u001b[1;32m    225\u001b[0m \u001b[38;5;28;01mif\u001b[39;00m reform \u001b[38;5;129;01mis\u001b[39;00m \u001b[38;5;129;01mnot\u001b[39;00m \u001b[38;5;28;01mNone\u001b[39;00m:\n",
      "File \u001b[0;32m~/miniconda3/envs/policyengine/lib/python3.10/site-packages/policyengine_core/simulations/simulation.py:100\u001b[0m, in \u001b[0;36mSimulation.__init__\u001b[0;34m(self, tax_benefit_system, populations, situation, dataset, reform, trace)\u001b[0m\n\u001b[1;32m     98\u001b[0m         tax_benefit_system \u001b[38;5;241m=\u001b[39m \u001b[38;5;28mself\u001b[39m\u001b[38;5;241m.\u001b[39mdefault_tax_benefit_system_instance\n\u001b[1;32m     99\u001b[0m     \u001b[38;5;28;01melse\u001b[39;00m:\n\u001b[0;32m--> 100\u001b[0m         tax_benefit_system \u001b[38;5;241m=\u001b[39m \u001b[38;5;28;43mself\u001b[39;49m\u001b[38;5;241;43m.\u001b[39;49m\u001b[43mdefault_tax_benefit_system\u001b[49m\u001b[43m(\u001b[49m\n\u001b[1;32m    101\u001b[0m \u001b[43m            \u001b[49m\u001b[43mreform\u001b[49m\u001b[38;5;241;43m=\u001b[39;49m\u001b[43mreform\u001b[49m\n\u001b[1;32m    102\u001b[0m \u001b[43m        \u001b[49m\u001b[43m)\u001b[49m\n\u001b[1;32m    103\u001b[0m     \u001b[38;5;28mself\u001b[39m\u001b[38;5;241m.\u001b[39mtax_benefit_system \u001b[38;5;241m=\u001b[39m tax_benefit_system\n\u001b[1;32m    105\u001b[0m \u001b[38;5;28mself\u001b[39m\u001b[38;5;241m.\u001b[39mreform \u001b[38;5;241m=\u001b[39m reform\n",
      "File \u001b[0;32m~/Documents/GitHub/policyengine-us/policyengine_us/system.py:80\u001b[0m, in \u001b[0;36mCountryTaxBenefitSystem.__init__\u001b[0;34m(self, reform, start_instant)\u001b[0m\n\u001b[1;32m     78\u001b[0m \u001b[38;5;28mself\u001b[39m\u001b[38;5;241m.\u001b[39madd_abolition_parameters()\n\u001b[1;32m     79\u001b[0m \u001b[38;5;28;01mif\u001b[39;00m reform:\n\u001b[0;32m---> 80\u001b[0m     \u001b[38;5;28;43mself\u001b[39;49m\u001b[38;5;241;43m.\u001b[39;49m\u001b[43mapply_reform_set\u001b[49m\u001b[43m(\u001b[49m\u001b[43mreform\u001b[49m\u001b[43m)\u001b[49m\n\u001b[1;32m     81\u001b[0m \u001b[38;5;28mself\u001b[39m\u001b[38;5;241m.\u001b[39mparameters \u001b[38;5;241m=\u001b[39m set_irs_uprating_parameter(\u001b[38;5;28mself\u001b[39m\u001b[38;5;241m.\u001b[39mparameters)\n\u001b[1;32m     82\u001b[0m \u001b[38;5;28mself\u001b[39m\u001b[38;5;241m.\u001b[39mparameters \u001b[38;5;241m=\u001b[39m homogenize_parameter_structures(\n\u001b[1;32m     83\u001b[0m     \u001b[38;5;28mself\u001b[39m\u001b[38;5;241m.\u001b[39mparameters, \u001b[38;5;28mself\u001b[39m\u001b[38;5;241m.\u001b[39mvariables\n\u001b[1;32m     84\u001b[0m )\n",
      "File \u001b[0;32m~/miniconda3/envs/policyengine/lib/python3.10/site-packages/policyengine_core/taxbenefitsystems/tax_benefit_system.py:156\u001b[0m, in \u001b[0;36mTaxBenefitSystem.apply_reform_set\u001b[0;34m(self, reform)\u001b[0m\n\u001b[1;32m    153\u001b[0m     \u001b[38;5;28;01mfrom\u001b[39;00m\u001b[38;5;250m \u001b[39m\u001b[38;5;21;01mpolicyengine_core\u001b[39;00m\u001b[38;5;21;01m.\u001b[39;00m\u001b[38;5;21;01mreforms\u001b[39;00m\u001b[38;5;250m \u001b[39m\u001b[38;5;28;01mimport\u001b[39;00m Reform\n\u001b[1;32m    155\u001b[0m     reform \u001b[38;5;241m=\u001b[39m Reform\u001b[38;5;241m.\u001b[39mfrom_dict(reform)\n\u001b[0;32m--> 156\u001b[0m \u001b[43mreform\u001b[49m\u001b[38;5;241;43m.\u001b[39;49m\u001b[43mapply\u001b[49m\u001b[43m(\u001b[49m\u001b[38;5;28;43mself\u001b[39;49m\u001b[43m)\u001b[49m\n",
      "File \u001b[0;32m~/miniconda3/envs/policyengine/lib/python3.10/site-packages/policyengine_core/reforms/reform.py:142\u001b[0m, in \u001b[0;36mReform.from_dict.<locals>.reform.apply\u001b[0;34m(self)\u001b[0m\n\u001b[1;32m    140\u001b[0m \u001b[38;5;28;01mdef\u001b[39;00m\u001b[38;5;250m \u001b[39m\u001b[38;5;21mapply\u001b[39m(\u001b[38;5;28mself\u001b[39m):\n\u001b[1;32m    141\u001b[0m     \u001b[38;5;28;01mfor\u001b[39;00m path, period_values \u001b[38;5;129;01min\u001b[39;00m parameter_values\u001b[38;5;241m.\u001b[39mitems():\n\u001b[0;32m--> 142\u001b[0m         parameter \u001b[38;5;241m=\u001b[39m \u001b[38;5;28;43mself\u001b[39;49m\u001b[38;5;241;43m.\u001b[39;49m\u001b[43mparameters\u001b[49m\u001b[38;5;241;43m.\u001b[39;49m\u001b[43mget_child\u001b[49m\u001b[43m(\u001b[49m\u001b[43mpath\u001b[49m\u001b[43m)\u001b[49m\n\u001b[1;32m    143\u001b[0m         \u001b[38;5;28;01mif\u001b[39;00m \u001b[38;5;129;01mnot\u001b[39;00m \u001b[38;5;28misinstance\u001b[39m(period_values, \u001b[38;5;28mdict\u001b[39m):\n\u001b[1;32m    144\u001b[0m             parameter\u001b[38;5;241m.\u001b[39mupdate(\n\u001b[1;32m    145\u001b[0m                 period\u001b[38;5;241m=\u001b[39m\u001b[38;5;124m\"\u001b[39m\u001b[38;5;124myear:2000:100\u001b[39m\u001b[38;5;124m\"\u001b[39m, value\u001b[38;5;241m=\u001b[39mperiod_values\n\u001b[1;32m    146\u001b[0m             )\n",
      "File \u001b[0;32m~/miniconda3/envs/policyengine/lib/python3.10/site-packages/policyengine_core/parameters/parameter_node.py:273\u001b[0m, in \u001b[0;36mParameterNode.get_child\u001b[0;34m(self, path)\u001b[0m\n\u001b[1;32m    269\u001b[0m                 \u001b[38;5;28;01mraise\u001b[39;00m \u001b[38;5;167;01mValueError\u001b[39;00m(\n\u001b[1;32m    270\u001b[0m                     \u001b[38;5;124m\"\u001b[39m\u001b[38;5;124mInvalid bracket syntax (should be e.g. tax.brackets[3].rate\u001b[39m\u001b[38;5;124m\"\u001b[39m\n\u001b[1;32m    271\u001b[0m                 )\n\u001b[1;32m    272\u001b[0m     \u001b[38;5;28;01mexcept\u001b[39;00m:\n\u001b[0;32m--> 273\u001b[0m         \u001b[38;5;28;01mraise\u001b[39;00m \u001b[38;5;167;01mValueError\u001b[39;00m(\n\u001b[1;32m    274\u001b[0m             \u001b[38;5;124mf\u001b[39m\u001b[38;5;124m\"\u001b[39m\u001b[38;5;124mCould not find the parameter \u001b[39m\u001b[38;5;132;01m{\u001b[39;00mpath\u001b[38;5;132;01m}\u001b[39;00m\u001b[38;5;124m (failed at \u001b[39m\u001b[38;5;132;01m{\u001b[39;00mname\u001b[38;5;132;01m}\u001b[39;00m\u001b[38;5;124m).\u001b[39m\u001b[38;5;124m\"\u001b[39m\n\u001b[1;32m    275\u001b[0m         )\n\u001b[1;32m    276\u001b[0m \u001b[38;5;28;01mreturn\u001b[39;00m node\n",
      "\u001b[0;31mValueError\u001b[0m: Could not find the parameter gov.aca.ptc_phase_out_rate[7].threshold (failed at ptc_phase_out_rate)."
     ]
    }
   ],
   "source": [
    "baseline = Microsimulation(dataset=\"hf://policyengine/policyengine-us-data/enhanced_cps_2024.h5\")\n",
    "reformed = Microsimulation(reform=reform, dataset=\"hf://policyengine/policyengine-us-data/enhanced_cps_2024.h5\")\n",
    "weights = baseline.calculate(\"household_weight\", period=2024)"
   ]
  },
  {
   "cell_type": "code",
   "execution_count": null,
   "id": "cell-3",
   "metadata": {},
   "outputs": [],
   "source": [
    "baseline_aca_eligible = baseline.calculate(\"is_aca_ptc_eligible\", map_to=\"tax_unit\", period=2026).sum()\n",
    "baseline_aca_eligible/1e6"
   ]
  },
  {
   "cell_type": "code",
   "execution_count": null,
   "id": "cell-4",
   "metadata": {},
   "outputs": [],
   "source": [
    "baseline_aca_enrollment = baseline.calculate(\"takes_up_aca_if_eligible\", map_to=\"person\", period=2026).sum()\n",
    "baseline_aca_enrollment/1e6"
   ]
  },
  {
   "cell_type": "code",
   "execution_count": null,
   "id": "cell-5",
   "metadata": {},
   "outputs": [],
   "source": [
    "period = 2026\n",
    "\n",
    "# ── Tax-unit flags, broadcast to people ──────────────────────────────────────\n",
    "takes_up_r = reformed.calculate(\"takes_up_aca_if_eligible\",\n",
    "                         map_to=\"person\", period=period)        # 0/1\n",
    "aca_ptc_r  = reformed.calculate(\"aca_ptc\",\n",
    "                         map_to=\"person\", period=period)        # $ amount\n",
    "\n",
    "# ── PERSON weights (pick any person-level variable) ─────────────────────────\n",
    "person_wt_r = reformed.calculate(\"age\", map_to=\"person\", period=period).weights\n",
    "\n",
    "# ── Build mask & sum weights ────────────────────────────────────────────────\n",
    "mask = (takes_up_r == 1) & (aca_ptc_r > 0)\n",
    "\n",
    "people_with_ptc_takeup_wtd_r = (mask.astype(float) * person_wt_r).sum()\n",
    "\n",
    "print(f\"{people_with_ptc_takeup_wtd_r:,.0f} weighted people live in tax units \"\n",
    "      \"that take up Marketplace coverage and actually receive a PTC.\")"
   ]
  },
  {
   "cell_type": "code",
   "execution_count": null,
   "id": "cell-6",
   "metadata": {},
   "outputs": [],
   "source": [
    "period = 2026\n",
    "sim    = baseline\n",
    "\n",
    "# ── Tax-unit flags, broadcast to people ──────────────────────────────────────\n",
    "takes_up = sim.calculate(\"takes_up_aca_if_eligible\",\n",
    "                         map_to=\"person\", period=period)        # 0/1\n",
    "aca_ptc  = sim.calculate(\"aca_ptc\",\n",
    "                         map_to=\"person\", period=period)        # $ amount\n",
    "\n",
    "# ── PERSON weights (pick any person-level variable) ─────────────────────────\n",
    "person_wt = sim.calculate(\"age\", map_to=\"person\", period=period).weights\n",
    "\n",
    "# ── Build mask & sum weights ────────────────────────────────────────────────\n",
    "mask = (takes_up == 1) & (aca_ptc > 0)\n",
    "\n",
    "people_with_ptc_takeup_wtd = (mask.astype(float) * person_wt).sum()\n",
    "\n",
    "print(f\"{people_with_ptc_takeup_wtd:,.0f} weighted people live in tax units \"\n",
    "      \"that take up Marketplace coverage and actually receive a PTC.\")"
   ]
  },
  {
   "cell_type": "code",
   "execution_count": null,
   "id": "cell-7",
   "metadata": {},
   "outputs": [],
   "source": [
    "import numpy as np\n",
    "from policyengine_us import Simulation\n",
    "\n",
    "# -------------------------------\n",
    "# 1. Pull household-level results\n",
    "# -------------------------------\n",
    "# ACA PTC (baseline and reform)\n",
    "ptc_base   = baseline.calculate(\"aca_ptc\", map_to=\"household\", period=2026)\n",
    "ptc_reform = reformed.calculate(\"aca_ptc\",   map_to=\"household\", period=2026)\n",
    "\n",
    "# Household weights (same for both sims)\n",
    "hh_wt      = baseline.calculate(\"household_weight\", map_to=\"household\", period=2026)\n",
    "\n",
    "# -------------------------------\n",
    "# 2. Weighted sum of the change\n",
    "# -------------------------------\n",
    "weighted_total_change = ptc_reform - ptc_base\n",
    "\n",
    "# Total budgetary impact in billions\n",
    "print(f\"Total budgetary impact: ${weighted_total_change.sum()/1e9:.2f} billion\")"
   ]
  }
 ],
 "metadata": {
  "kernelspec": {
   "display_name": "policyengine",
   "language": "python",
   "name": "python3"
  },
  "language_info": {
   "codemirror_mode": {
    "name": "ipython",
    "version": 3
   },
   "file_extension": ".py",
   "mimetype": "text/x-python",
   "name": "python",
   "nbconvert_exporter": "python",
   "pygments_lexer": "ipython3",
   "version": "3.10.16"
  }
 },
 "nbformat": 4,
 "nbformat_minor": 5
}
