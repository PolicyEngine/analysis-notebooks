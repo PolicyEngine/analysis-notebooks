{
 "cells": [
  {
   "cell_type": "code",
   "execution_count": 1,
   "metadata": {},
   "outputs": [
    {
     "name": "stderr",
     "output_type": "stream",
     "text": [
      "/Users/daphnehansell/miniconda3/envs/policyengine/lib/python3.10/site-packages/tqdm/auto.py:21: TqdmWarning: IProgress not found. Please update jupyter and ipywidgets. See https://ipywidgets.readthedocs.io/en/stable/user_install.html\n",
      "  from .autonotebook import tqdm as notebook_tqdm\n"
     ]
    }
   ],
   "source": [
    "from policyengine_us import Microsimulation\n",
    "from policyengine_core.reforms import Reform\n",
    "import pandas as pd\n",
    "\n",
    "baseline = Microsimulation(dataset=\"/Users/daphnehansell/Documents/GitHub/analysis-notebooks/us/medicaid/enhanced_cps_2024.h5\")"
   ]
  },
  {
   "cell_type": "code",
   "execution_count": 2,
   "metadata": {},
   "outputs": [],
   "source": [
    "reform = Reform.from_dict({\n",
    "  \"gov.aca.ptc_phase_out_rate[0].amount\": {\n",
    "    \"2026-01-01.2100-12-31\": 0\n",
    "  },\n",
    "  \"gov.aca.ptc_phase_out_rate[1].amount\": {\n",
    "    \"2025-01-01.2100-12-31\": 0\n",
    "  },\n",
    "  \"gov.aca.ptc_phase_out_rate[2].amount\": {\n",
    "    \"2026-01-01.2100-12-31\": 0\n",
    "  },\n",
    "  \"gov.aca.ptc_phase_out_rate[3].amount\": {\n",
    "    \"2026-01-01.2100-12-31\": 0.02\n",
    "  },\n",
    "  \"gov.aca.ptc_phase_out_rate[4].amount\": {\n",
    "    \"2026-01-01.2100-12-31\": 0.04\n",
    "  },\n",
    "  \"gov.aca.ptc_phase_out_rate[5].amount\": {\n",
    "    \"2026-01-01.2100-12-31\": 0.06\n",
    "  },\n",
    "  \"gov.aca.ptc_phase_out_rate[6].amount\": {\n",
    "    \"2026-01-01.2100-12-31\": 0.085\n",
    "  },\n",
    "  \"gov.aca.ptc_income_eligibility[2].amount\": {\n",
    "    \"2026-01-01.2100-12-31\": True\n",
    "  }\n",
    "}, country_id=\"us\")\n",
    "\n",
    "\n"
   ]
  },
  {
   "cell_type": "code",
   "execution_count": 3,
   "metadata": {},
   "outputs": [],
   "source": [
    "baseline = Microsimulation(dataset=\"/Users/daphnehansell/Documents/GitHub/analysis-notebooks/us/medicaid/enhanced_cps_2024.h5\")\n",
    "reformed = Microsimulation(reform=reform, dataset=\"/Users/daphnehansell/Documents/GitHub/analysis-notebooks/us/medicaid/enhanced_cps_2024.h5\")\n",
    "weights = baseline.calculate(\"household_weight\", period=2024)\n",
    "\n"
   ]
  },
  {
   "cell_type": "code",
   "execution_count": 4,
   "metadata": {},
   "outputs": [
    {
     "data": {
      "text/plain": [
       "37.008340397541666"
      ]
     },
     "execution_count": 4,
     "metadata": {},
     "output_type": "execute_result"
    }
   ],
   "source": [
    "baseline_aca_eligible = baseline.calculate(\"is_aca_ptc_eligible\", map_to=\"tax_unit\", period=2026).sum()\n",
    "baseline_aca_eligible/1e6"
   ]
  },
  {
   "cell_type": "code",
   "execution_count": 5,
   "metadata": {},
   "outputs": [
    {
     "data": {
      "text/plain": [
       "227.46342831824853"
      ]
     },
     "execution_count": 5,
     "metadata": {},
     "output_type": "execute_result"
    }
   ],
   "source": [
    "baseline_aca_enrollment = baseline.calculate(\"takes_up_aca_if_eligible\", map_to=\"person\", period=2026).sum()\n",
    "baseline_aca_enrollment/1e6"
   ]
  },
  {
   "cell_type": "code",
   "execution_count": 6,
   "metadata": {},
   "outputs": [
    {
     "name": "stdout",
     "output_type": "stream",
     "text": [
      "197,799,923 weighted people live in tax units that take up Marketplace coverage and actually receive a PTC.\n"
     ]
    }
   ],
   "source": [
    "period = 2025\n",
    "sim    = baseline\n",
    "\n",
    "# ── Tax-unit flags, broadcast to people ──────────────────────────────────────\n",
    "takes_up = sim.calculate(\"takes_up_aca_if_eligible\",\n",
    "                         map_to=\"person\", period=period)        # 0/1\n",
    "aca_ptc  = sim.calculate(\"aca_ptc\",\n",
    "                         map_to=\"person\", period=period)        # $ amount\n",
    "\n",
    "# ── PERSON weights (pick any person-level variable) ─────────────────────────\n",
    "person_wt = sim.calculate(\"age\", map_to=\"person\", period=period).weights\n",
    "\n",
    "# ── Build mask & sum weights ────────────────────────────────────────────────\n",
    "mask = (takes_up == 1) & (aca_ptc > 0)\n",
    "\n",
    "people_with_ptc_takeup_wtd = (mask.astype(float) * person_wt).sum()\n",
    "\n",
    "print(f\"{people_with_ptc_takeup_wtd:,.0f} weighted people live in tax units \"\n",
    "      \"that take up Marketplace coverage and actually receive a PTC.\")\n"
   ]
  },
  {
   "cell_type": "code",
   "execution_count": 7,
   "metadata": {},
   "outputs": [
    {
     "name": "stdout",
     "output_type": "stream",
     "text": [
      "28,427,905 weighted people live in tax units that take up Marketplace coverage and actually receive a PTC.\n"
     ]
    }
   ],
   "source": [
    "period = 2026\n",
    "\n",
    "# ── Tax-unit flags, broadcast to people ──────────────────────────────────────\n",
    "takes_up_r = reformed.calculate(\"takes_up_aca_if_eligible\",\n",
    "                         map_to=\"person\", period=period)        # 0/1\n",
    "aca_ptc_r  = reformed.calculate(\"aca_ptc\",\n",
    "                         map_to=\"person\", period=period)        # $ amount\n",
    "\n",
    "# ── PERSON weights (pick any person-level variable) ─────────────────────────\n",
    "person_wt_r = reformed.calculate(\"age\", map_to=\"person\", period=period).weights\n",
    "\n",
    "# ── Build mask & sum weights ────────────────────────────────────────────────\n",
    "mask = (takes_up_r == 1) & (aca_ptc_r > 0)\n",
    "\n",
    "people_with_ptc_takeup_wtd_r = (mask.astype(float) * person_wt_r).sum()\n",
    "\n",
    "print(f\"{people_with_ptc_takeup_wtd_r:,.0f} weighted people live in tax units \"\n",
    "      \"that take up Marketplace coverage and actually receive a PTC.\")\n"
   ]
  },
  {
   "cell_type": "code",
   "execution_count": 8,
   "metadata": {},
   "outputs": [
    {
     "name": "stdout",
     "output_type": "stream",
     "text": [
      "20,115,724 weighted people live in tax units that take up Marketplace coverage and actually receive a PTC.\n"
     ]
    }
   ],
   "source": [
    "period = 2026\n",
    "sim    = baseline\n",
    "\n",
    "# ── Tax-unit flags, broadcast to people ──────────────────────────────────────\n",
    "takes_up = sim.calculate(\"takes_up_aca_if_eligible\",\n",
    "                         map_to=\"person\", period=period)        # 0/1\n",
    "aca_ptc  = sim.calculate(\"aca_ptc\",\n",
    "                         map_to=\"person\", period=period)        # $ amount\n",
    "\n",
    "# ── PERSON weights (pick any person-level variable) ─────────────────────────\n",
    "person_wt = sim.calculate(\"age\", map_to=\"person\", period=period).weights\n",
    "\n",
    "# ── Build mask & sum weights ────────────────────────────────────────────────\n",
    "mask = (takes_up == 1) & (aca_ptc > 0)\n",
    "\n",
    "people_with_ptc_takeup_wtd = (mask.astype(float) * person_wt).sum()\n",
    "\n",
    "print(f\"{people_with_ptc_takeup_wtd:,.0f} weighted people live in tax units \"\n",
    "      \"that take up Marketplace coverage and actually receive a PTC.\")\n"
   ]
  },
  {
   "cell_type": "code",
   "execution_count": null,
   "metadata": {},
   "outputs": [],
   "source": []
  },
  {
   "cell_type": "code",
   "execution_count": 9,
   "metadata": {},
   "outputs": [],
   "source": [
    "year = 2026\n",
    "state = baseline.calculate(\"state_code\", map_to=\"household\", period=year)\n",
    "num_dependents = baseline.calculate(\"tax_unit_dependents\", map_to=\"household\", period=year)\n",
    "married = baseline.calculate(\"is_married\", map_to=\"household\", period=year)\n",
    "employment_income = baseline.calculate(\"employment_income\", map_to=\"household\", period=year)\n",
    "self_employment_income = baseline.calculate(\"self_employment_income\", map_to=\"household\", period=year)\n",
    "aca_baseline = baseline.calculate(\"aca_ptc\", map_to=\"household\", period=year)\n",
    "rating_area = baseline.calculate(\"slcsp_rating_area\", map_to=\"household\", period=year)\n",
    "household_id = baseline.calculate(\"household_id\", map_to=\"household\", period=year)\n",
    "aca_reform = reformed.calculate(\"aca_ptc\", map_to=\"household\", period=year)"
   ]
  },
  {
   "cell_type": "code",
   "execution_count": 10,
   "metadata": {},
   "outputs": [
    {
     "data": {
      "text/html": [
       "<div>\n",
       "<style scoped>\n",
       "    .dataframe tbody tr th:only-of-type {\n",
       "        vertical-align: middle;\n",
       "    }\n",
       "\n",
       "    .dataframe tbody tr th {\n",
       "        vertical-align: top;\n",
       "    }\n",
       "\n",
       "    .dataframe thead th {\n",
       "        text-align: right;\n",
       "    }\n",
       "</style>\n",
       "<table border=\"1\" class=\"dataframe\">\n",
       "  <thead>\n",
       "    <tr style=\"text-align: right;\">\n",
       "      <th></th>\n",
       "      <th>household_id</th>\n",
       "      <th>State</th>\n",
       "      <th>Married</th>\n",
       "      <th>Num_Dependents</th>\n",
       "      <th>Employment_Income</th>\n",
       "      <th>aca_baseline</th>\n",
       "      <th>aca_reform</th>\n",
       "    </tr>\n",
       "  </thead>\n",
       "  <tbody>\n",
       "    <tr>\n",
       "      <th>600</th>\n",
       "      <td>4428</td>\n",
       "      <td>MA</td>\n",
       "      <td>1.0</td>\n",
       "      <td>4.0</td>\n",
       "      <td>52859.65625</td>\n",
       "      <td>0.0</td>\n",
       "      <td>0.0</td>\n",
       "    </tr>\n",
       "  </tbody>\n",
       "</table>\n",
       "</div>"
      ],
      "text/plain": [
       "     household_id State  Married  Num_Dependents  Employment_Income  \\\n",
       "600          4428    MA      1.0             4.0        52859.65625   \n",
       "\n",
       "     aca_baseline  aca_reform  \n",
       "600           0.0         0.0  "
      ]
     },
     "execution_count": 10,
     "metadata": {},
     "output_type": "execute_result"
    }
   ],
   "source": [
    "# Create a DataFrame with the outputs\n",
    "data = {\n",
    "    \"household_id\": household_id,\n",
    "    \"State\": state,\n",
    "    \"Married\": married,\n",
    "    \"Num_Dependents\": num_dependents,\n",
    "    \"Employment_Income\": employment_income,\n",
    "    \"aca_baseline\": aca_baseline,\n",
    "    \"aca_reform\": aca_reform,\n",
    "\n",
    "   }\n",
    "\n",
    "\n",
    "df_outputs = pd.DataFrame(data)\n",
    "df_outputs[df_outputs['household_id'] == 4428]\n"
   ]
  },
  {
   "cell_type": "code",
   "execution_count": 11,
   "metadata": {},
   "outputs": [
    {
     "name": "stdout",
     "output_type": "stream",
     "text": [
      "Most positive net-income changes (PTC boosts):\n"
     ]
    },
    {
     "data": {
      "text/html": [
       "<div>\n",
       "<style scoped>\n",
       "    .dataframe tbody tr th:only-of-type {\n",
       "        vertical-align: middle;\n",
       "    }\n",
       "\n",
       "    .dataframe tbody tr th {\n",
       "        vertical-align: top;\n",
       "    }\n",
       "\n",
       "    .dataframe thead th {\n",
       "        text-align: right;\n",
       "    }\n",
       "</style>\n",
       "<table border=\"1\" class=\"dataframe\">\n",
       "  <thead>\n",
       "    <tr style=\"text-align: right;\">\n",
       "      <th></th>\n",
       "      <th>household_id</th>\n",
       "      <th>State</th>\n",
       "      <th>weight</th>\n",
       "      <th>net_change</th>\n",
       "      <th>wt_change</th>\n",
       "    </tr>\n",
       "  </thead>\n",
       "  <tbody>\n",
       "    <tr>\n",
       "      <th>6960</th>\n",
       "      <td>25327</td>\n",
       "      <td>MO</td>\n",
       "      <td>10561.736328</td>\n",
       "      <td>21569.876953</td>\n",
       "      <td>2.278154e+08</td>\n",
       "    </tr>\n",
       "    <tr>\n",
       "      <th>15170</th>\n",
       "      <td>63406</td>\n",
       "      <td>TX</td>\n",
       "      <td>36817.671875</td>\n",
       "      <td>20464.279297</td>\n",
       "      <td>7.534471e+08</td>\n",
       "    </tr>\n",
       "    <tr>\n",
       "      <th>11774</th>\n",
       "      <td>47863</td>\n",
       "      <td>FL</td>\n",
       "      <td>63711.281250</td>\n",
       "      <td>20171.796875</td>\n",
       "      <td>1.285171e+09</td>\n",
       "    </tr>\n",
       "    <tr>\n",
       "      <th>11630</th>\n",
       "      <td>47452</td>\n",
       "      <td>FL</td>\n",
       "      <td>21600.607422</td>\n",
       "      <td>16787.021484</td>\n",
       "      <td>3.626099e+08</td>\n",
       "    </tr>\n",
       "    <tr>\n",
       "      <th>14377</th>\n",
       "      <td>60850</td>\n",
       "      <td>TX</td>\n",
       "      <td>24447.160156</td>\n",
       "      <td>14556.893555</td>\n",
       "      <td>3.558747e+08</td>\n",
       "    </tr>\n",
       "    <tr>\n",
       "      <th>10747</th>\n",
       "      <td>44495</td>\n",
       "      <td>FL</td>\n",
       "      <td>108407.132812</td>\n",
       "      <td>14096.426758</td>\n",
       "      <td>1.528153e+09</td>\n",
       "    </tr>\n",
       "    <tr>\n",
       "      <th>31780</th>\n",
       "      <td>135336</td>\n",
       "      <td>FL</td>\n",
       "      <td>59593.371094</td>\n",
       "      <td>13948.032227</td>\n",
       "      <td>8.312103e+08</td>\n",
       "    </tr>\n",
       "    <tr>\n",
       "      <th>8987</th>\n",
       "      <td>38686</td>\n",
       "      <td>NC</td>\n",
       "      <td>13462.585938</td>\n",
       "      <td>12920.947266</td>\n",
       "      <td>1.739494e+08</td>\n",
       "    </tr>\n",
       "    <tr>\n",
       "      <th>18999</th>\n",
       "      <td>82008</td>\n",
       "      <td>CA</td>\n",
       "      <td>10598.221680</td>\n",
       "      <td>12066.465820</td>\n",
       "      <td>1.278831e+08</td>\n",
       "    </tr>\n",
       "    <tr>\n",
       "      <th>19620</th>\n",
       "      <td>83988</td>\n",
       "      <td>CA</td>\n",
       "      <td>15526.390625</td>\n",
       "      <td>11747.892578</td>\n",
       "      <td>1.824024e+08</td>\n",
       "    </tr>\n",
       "  </tbody>\n",
       "</table>\n",
       "</div>"
      ],
      "text/plain": [
       "       household_id State         weight    net_change     wt_change\n",
       "6960          25327    MO   10561.736328  21569.876953  2.278154e+08\n",
       "15170         63406    TX   36817.671875  20464.279297  7.534471e+08\n",
       "11774         47863    FL   63711.281250  20171.796875  1.285171e+09\n",
       "11630         47452    FL   21600.607422  16787.021484  3.626099e+08\n",
       "14377         60850    TX   24447.160156  14556.893555  3.558747e+08\n",
       "10747         44495    FL  108407.132812  14096.426758  1.528153e+09\n",
       "31780        135336    FL   59593.371094  13948.032227  8.312103e+08\n",
       "8987          38686    NC   13462.585938  12920.947266  1.739494e+08\n",
       "18999         82008    CA   10598.221680  12066.465820  1.278831e+08\n",
       "19620         83988    CA   15526.390625  11747.892578  1.824024e+08"
      ]
     },
     "metadata": {},
     "output_type": "display_data"
    },
    {
     "name": "stdout",
     "output_type": "stream",
     "text": [
      "\n",
      "Most negative net-income changes (PTC cuts):\n"
     ]
    },
    {
     "data": {
      "text/html": [
       "<div>\n",
       "<style scoped>\n",
       "    .dataframe tbody tr th:only-of-type {\n",
       "        vertical-align: middle;\n",
       "    }\n",
       "\n",
       "    .dataframe tbody tr th {\n",
       "        vertical-align: top;\n",
       "    }\n",
       "\n",
       "    .dataframe thead th {\n",
       "        text-align: right;\n",
       "    }\n",
       "</style>\n",
       "<table border=\"1\" class=\"dataframe\">\n",
       "  <thead>\n",
       "    <tr style=\"text-align: right;\">\n",
       "      <th></th>\n",
       "      <th>household_id</th>\n",
       "      <th>State</th>\n",
       "      <th>weight</th>\n",
       "      <th>net_change</th>\n",
       "      <th>wt_change</th>\n",
       "    </tr>\n",
       "  </thead>\n",
       "  <tbody>\n",
       "    <tr>\n",
       "      <th>11</th>\n",
       "      <td>85</td>\n",
       "      <td>ME</td>\n",
       "      <td>24959.193359</td>\n",
       "      <td>0.0</td>\n",
       "      <td>0.0</td>\n",
       "    </tr>\n",
       "    <tr>\n",
       "      <th>15</th>\n",
       "      <td>99</td>\n",
       "      <td>ME</td>\n",
       "      <td>11115.519531</td>\n",
       "      <td>0.0</td>\n",
       "      <td>0.0</td>\n",
       "    </tr>\n",
       "    <tr>\n",
       "      <th>27</th>\n",
       "      <td>206</td>\n",
       "      <td>ME</td>\n",
       "      <td>19730.021484</td>\n",
       "      <td>0.0</td>\n",
       "      <td>0.0</td>\n",
       "    </tr>\n",
       "    <tr>\n",
       "      <th>30</th>\n",
       "      <td>261</td>\n",
       "      <td>ME</td>\n",
       "      <td>27242.337891</td>\n",
       "      <td>0.0</td>\n",
       "      <td>0.0</td>\n",
       "    </tr>\n",
       "    <tr>\n",
       "      <th>31</th>\n",
       "      <td>275</td>\n",
       "      <td>ME</td>\n",
       "      <td>22297.763672</td>\n",
       "      <td>0.0</td>\n",
       "      <td>0.0</td>\n",
       "    </tr>\n",
       "    <tr>\n",
       "      <th>32</th>\n",
       "      <td>284</td>\n",
       "      <td>ME</td>\n",
       "      <td>12969.742188</td>\n",
       "      <td>0.0</td>\n",
       "      <td>0.0</td>\n",
       "    </tr>\n",
       "    <tr>\n",
       "      <th>35</th>\n",
       "      <td>315</td>\n",
       "      <td>ME</td>\n",
       "      <td>15139.511719</td>\n",
       "      <td>0.0</td>\n",
       "      <td>0.0</td>\n",
       "    </tr>\n",
       "    <tr>\n",
       "      <th>39</th>\n",
       "      <td>330</td>\n",
       "      <td>ME</td>\n",
       "      <td>15473.058594</td>\n",
       "      <td>0.0</td>\n",
       "      <td>0.0</td>\n",
       "    </tr>\n",
       "    <tr>\n",
       "      <th>41</th>\n",
       "      <td>339</td>\n",
       "      <td>ME</td>\n",
       "      <td>20974.195312</td>\n",
       "      <td>0.0</td>\n",
       "      <td>0.0</td>\n",
       "    </tr>\n",
       "    <tr>\n",
       "      <th>44</th>\n",
       "      <td>356</td>\n",
       "      <td>ME</td>\n",
       "      <td>55298.234375</td>\n",
       "      <td>0.0</td>\n",
       "      <td>0.0</td>\n",
       "    </tr>\n",
       "  </tbody>\n",
       "</table>\n",
       "</div>"
      ],
      "text/plain": [
       "    household_id State        weight  net_change  wt_change\n",
       "11            85    ME  24959.193359         0.0        0.0\n",
       "15            99    ME  11115.519531         0.0        0.0\n",
       "27           206    ME  19730.021484         0.0        0.0\n",
       "30           261    ME  27242.337891         0.0        0.0\n",
       "31           275    ME  22297.763672         0.0        0.0\n",
       "32           284    ME  12969.742188         0.0        0.0\n",
       "35           315    ME  15139.511719         0.0        0.0\n",
       "39           330    ME  15473.058594         0.0        0.0\n",
       "41           339    ME  20974.195312         0.0        0.0\n",
       "44           356    ME  55298.234375         0.0        0.0"
      ]
     },
     "metadata": {},
     "output_type": "display_data"
    }
   ],
   "source": [
    "# -------------------------------------------------------------\n",
    "# 0️⃣  Make sure the CPS household weight is in the DataFrame\n",
    "# -------------------------------------------------------------\n",
    "# If you already stuffed it in earlier, skip this.\n",
    "df_outputs[\"weight\"] = aca_baseline.weights    # aligns by household_id\n",
    "\n",
    "# -------------------------------------------------------------\n",
    "# 1️⃣  Define a weight threshold for “reasonably representative”\n",
    "# -------------------------------------------------------------\n",
    "MIN_WT = 10_000          # ↖ try 5_000 if you want a looser cut\n",
    "\n",
    "df_big = df_outputs[df_outputs[\"weight\"] >= MIN_WT].copy()\n",
    "\n",
    "# -------------------------------------------------------------\n",
    "# 2️⃣  Net PTC change and (optionally) weighted national impact\n",
    "# -------------------------------------------------------------\n",
    "df_big[\"net_change\"] = df_big[\"aca_reform\"] - df_big[\"aca_baseline\"]\n",
    "df_big[\"wt_change\"]  = df_big[\"net_change\"] * df_big[\"weight\"]  # national $ impact\n",
    "\n",
    "# -------------------------------------------------------------\n",
    "# 3️⃣  Biggest ↑ increases and ↓ decreases, LIMITED to big-weight HHs\n",
    "# -------------------------------------------------------------\n",
    "N = 10   # how many households to show in each direction\n",
    "\n",
    "cols = [\"household_id\", \"State\", \"weight\", \"net_change\", \"wt_change\"]\n",
    "\n",
    "top_increases = df_big.nlargest(N, \"net_change\")[cols]\n",
    "top_decreases = df_big.nsmallest(N, \"net_change\")[cols]\n",
    "\n",
    "print(\"Most positive net-income changes (PTC boosts):\")\n",
    "display(top_increases)\n",
    "\n",
    "print(\"\\nMost negative net-income changes (PTC cuts):\")\n",
    "display(top_decreases)\n"
   ]
  },
  {
   "cell_type": "code",
   "execution_count": 12,
   "metadata": {},
   "outputs": [
    {
     "data": {
      "text/html": [
       "<div>\n",
       "<style scoped>\n",
       "    .dataframe tbody tr th:only-of-type {\n",
       "        vertical-align: middle;\n",
       "    }\n",
       "\n",
       "    .dataframe tbody tr th {\n",
       "        vertical-align: top;\n",
       "    }\n",
       "\n",
       "    .dataframe thead th {\n",
       "        text-align: right;\n",
       "    }\n",
       "</style>\n",
       "<table border=\"1\" class=\"dataframe\">\n",
       "  <thead>\n",
       "    <tr style=\"text-align: right;\">\n",
       "      <th></th>\n",
       "      <th>household_id</th>\n",
       "      <th>State</th>\n",
       "      <th>Married</th>\n",
       "      <th>Num_Dependents</th>\n",
       "      <th>Employment_Income</th>\n",
       "      <th>aca_baseline</th>\n",
       "      <th>aca_reform</th>\n",
       "      <th>weight</th>\n",
       "    </tr>\n",
       "  </thead>\n",
       "  <tbody>\n",
       "    <tr>\n",
       "      <th>600</th>\n",
       "      <td>4428</td>\n",
       "      <td>MA</td>\n",
       "      <td>1.0</td>\n",
       "      <td>4.0</td>\n",
       "      <td>52859.65625</td>\n",
       "      <td>0.0</td>\n",
       "      <td>0.0</td>\n",
       "      <td>36551.855469</td>\n",
       "    </tr>\n",
       "  </tbody>\n",
       "</table>\n",
       "</div>"
      ],
      "text/plain": [
       "     household_id State  Married  Num_Dependents  Employment_Income  \\\n",
       "600          4428    MA      1.0             4.0        52859.65625   \n",
       "\n",
       "     aca_baseline  aca_reform        weight  \n",
       "600           0.0         0.0  36551.855469  "
      ]
     },
     "execution_count": 12,
     "metadata": {},
     "output_type": "execute_result"
    }
   ],
   "source": [
    "df_outputs[df_outputs['household_id'] == 4428]\n"
   ]
  },
  {
   "cell_type": "code",
   "execution_count": 13,
   "metadata": {},
   "outputs": [
    {
     "name": "stdout",
     "output_type": "stream",
     "text": [
      "Average weighted PTC change among households with any change: $2,666.88\n"
     ]
    }
   ],
   "source": [
    "# 0. Make sure net_change exists\n",
    "df_outputs[\"net_change\"] = df_outputs[\"aca_reform\"] - df_outputs[\"aca_baseline\"]\n",
    "\n",
    "# 1. Flag households with any change\n",
    "mask = df_outputs[\"net_change\"] != 0          # True for ↑ or ↓\n",
    "\n",
    "# 2. Weighted mean among those households\n",
    "avg_net_change = (\n",
    "    (df_outputs.loc[mask, \"net_change\"] * df_outputs.loc[mask, \"weight\"]).sum()\n",
    "    / df_outputs.loc[mask, \"weight\"].sum()\n",
    ")\n",
    "\n",
    "print(f\"Average weighted PTC change among households with any change: \"\n",
    "      f\"${avg_net_change:,.2f}\")\n"
   ]
  },
  {
   "cell_type": "code",
   "execution_count": 14,
   "metadata": {},
   "outputs": [
    {
     "name": "stdout",
     "output_type": "stream",
     "text": [
      "Average weighted PTC change among households with a PTC in both baseline and reform: $1,687.69\n"
     ]
    }
   ],
   "source": [
    "# ------------------------------------------------------------------\n",
    "# 0.  Ensure supporting columns exist\n",
    "# ------------------------------------------------------------------\n",
    "df_outputs[\"net_change\"] = df_outputs[\"aca_reform\"] - df_outputs[\"aca_baseline\"]\n",
    "\n",
    "# ------------------------------------------------------------------\n",
    "# 1.  Keep only households with a PTC in *both* scenarios\n",
    "# ------------------------------------------------------------------\n",
    "mask_both_ptc = (df_outputs[\"aca_baseline\"] > 0) & (df_outputs[\"aca_reform\"] > 0)\n",
    "df_dual_ptc   = df_outputs[mask_both_ptc]\n",
    "\n",
    "# ------------------------------------------------------------------\n",
    "# 2.  Weighted average of the net change (household perspective)\n",
    "# ------------------------------------------------------------------\n",
    "avg_net_change_dual_hh = (\n",
    "    (df_dual_ptc[\"net_change\"] * df_dual_ptc[\"weight\"]).sum()\n",
    "    / df_dual_ptc[\"weight\"].sum()\n",
    ")\n",
    "\n",
    "print(f\"Average weighted PTC change among households with a PTC in both \"\n",
    "      f\"baseline and reform: ${avg_net_change_dual_hh:,.2f}\")\n"
   ]
  },
  {
   "cell_type": "code",
   "execution_count": 15,
   "metadata": {},
   "outputs": [
    {
     "name": "stdout",
     "output_type": "stream",
     "text": [
      "Average weighted PTC change among households that newly receive a PTC under the reform: $5,972.71\n"
     ]
    }
   ],
   "source": [
    "# ------------------------------------------------------------------\n",
    "# 0.  Ensure supporting columns exist (already done above)\n",
    "# ------------------------------------------------------------------\n",
    "df_outputs[\"net_change\"] = df_outputs[\"aca_reform\"] - df_outputs[\"aca_baseline\"]\n",
    "\n",
    "# ------------------------------------------------------------------\n",
    "# 1.  Keep only households that *gain* a PTC (reform > 0, baseline == 0)\n",
    "# ------------------------------------------------------------------\n",
    "mask_reform_only = (df_outputs[\"aca_baseline\"] == 0) & (df_outputs[\"aca_reform\"] > 0)\n",
    "df_reform_only   = df_outputs[mask_reform_only]\n",
    "\n",
    "# ------------------------------------------------------------------\n",
    "# 2.  Weighted average of the net change (household perspective)\n",
    "# ------------------------------------------------------------------\n",
    "avg_net_change_reform_only_hh = (\n",
    "    (df_reform_only[\"net_change\"] * df_reform_only[\"weight\"]).sum()\n",
    "    / df_reform_only[\"weight\"].sum()\n",
    ")\n",
    "\n",
    "print(f\"Average weighted PTC change among households that newly receive a PTC \"\n",
    "      f\"under the reform: ${avg_net_change_reform_only_hh:,.2f}\")\n"
   ]
  },
  {
   "cell_type": "code",
   "execution_count": 16,
   "metadata": {},
   "outputs": [
    {
     "data": {
      "text/plain": [
       "40.889928786781944"
      ]
     },
     "execution_count": 16,
     "metadata": {},
     "output_type": "execute_result"
    }
   ],
   "source": [
    "import numpy as np\n",
    "from policyengine_us import Simulation\n",
    "\n",
    "# -------------------------------\n",
    "# 1. Pull household-level results\n",
    "# -------------------------------\n",
    "# ACA PTC (baseline and reform)\n",
    "ptc_base   = baseline.calculate(\"aca_ptc\", map_to=\"household\", period=2026)\n",
    "ptc_reform = reformed.calculate(\"aca_ptc\",   map_to=\"household\", period=2026)\n",
    "\n",
    "# Household weights (same for both sims)\n",
    "hh_wt      = baseline.calculate(\"household_weight\", map_to=\"household\", period=2026)\n",
    "\n",
    "# -------------------------------\n",
    "# 2. Weighted sum of the change\n",
    "# -------------------------------\n",
    "weighted_total_change = ptc_reform - ptc_base\n",
    "\n",
    "# Optional: average change per household\n",
    "weighted_total_change.sum()/1e9"
   ]
  },
  {
   "cell_type": "code",
   "execution_count": 17,
   "metadata": {},
   "outputs": [
    {
     "data": {
      "application/vnd.plotly.v1+json": {
       "config": {
        "plotlyServerURL": "https://plot.ly"
       },
       "data": [
        {
         "marker": {
          "color": [
           "#2C6496",
           "#2C6496",
           "#2C6496",
           "#2C6496",
           "#2C6496",
           "#2C6496",
           "#2C6496",
           "#2C6496",
           "#2C6496",
           "#2C6496"
          ]
         },
         "text": [
          "$86",
          "$156",
          "$165",
          "$177",
          "$226",
          "$247",
          "$401",
          "$316",
          "$419",
          "$525"
         ],
         "textposition": "inside",
         "type": "bar",
         "x": [
          1,
          2,
          3,
          4,
          5,
          6,
          7,
          8,
          9,
          10
         ],
         "y": [
          85.58747863769531,
          155.56265258789062,
          165.2862548828125,
          177.06210327148438,
          226.35496520996094,
          247.4505615234375,
          400.6145324707031,
          316.2253723144531,
          419.0640869140625,
          525.2872924804688
         ]
        }
       ],
       "layout": {
        "shapes": [
         {
          "line": {
           "color": "black",
           "width": 1
          },
          "type": "line",
          "x0": 0,
          "x1": 1,
          "xref": "x domain",
          "y0": 0,
          "y1": 0,
          "yref": "y"
         }
        ],
        "showlegend": false,
        "template": {
         "data": {
          "bar": [
           {
            "error_x": {
             "color": "#2a3f5f"
            },
            "error_y": {
             "color": "#2a3f5f"
            },
            "marker": {
             "line": {
              "color": "#E5ECF6",
              "width": 0.5
             },
             "pattern": {
              "fillmode": "overlay",
              "size": 10,
              "solidity": 0.2
             }
            },
            "type": "bar"
           }
          ],
          "barpolar": [
           {
            "marker": {
             "line": {
              "color": "#E5ECF6",
              "width": 0.5
             },
             "pattern": {
              "fillmode": "overlay",
              "size": 10,
              "solidity": 0.2
             }
            },
            "type": "barpolar"
           }
          ],
          "carpet": [
           {
            "aaxis": {
             "endlinecolor": "#2a3f5f",
             "gridcolor": "white",
             "linecolor": "white",
             "minorgridcolor": "white",
             "startlinecolor": "#2a3f5f"
            },
            "baxis": {
             "endlinecolor": "#2a3f5f",
             "gridcolor": "white",
             "linecolor": "white",
             "minorgridcolor": "white",
             "startlinecolor": "#2a3f5f"
            },
            "type": "carpet"
           }
          ],
          "choropleth": [
           {
            "colorbar": {
             "outlinewidth": 0,
             "ticks": ""
            },
            "type": "choropleth"
           }
          ],
          "contour": [
           {
            "colorbar": {
             "outlinewidth": 0,
             "ticks": ""
            },
            "colorscale": [
             [
              0,
              "#0d0887"
             ],
             [
              0.1111111111111111,
              "#46039f"
             ],
             [
              0.2222222222222222,
              "#7201a8"
             ],
             [
              0.3333333333333333,
              "#9c179e"
             ],
             [
              0.4444444444444444,
              "#bd3786"
             ],
             [
              0.5555555555555556,
              "#d8576b"
             ],
             [
              0.6666666666666666,
              "#ed7953"
             ],
             [
              0.7777777777777778,
              "#fb9f3a"
             ],
             [
              0.8888888888888888,
              "#fdca26"
             ],
             [
              1,
              "#f0f921"
             ]
            ],
            "type": "contour"
           }
          ],
          "contourcarpet": [
           {
            "colorbar": {
             "outlinewidth": 0,
             "ticks": ""
            },
            "type": "contourcarpet"
           }
          ],
          "heatmap": [
           {
            "colorbar": {
             "outlinewidth": 0,
             "ticks": ""
            },
            "colorscale": [
             [
              0,
              "#0d0887"
             ],
             [
              0.1111111111111111,
              "#46039f"
             ],
             [
              0.2222222222222222,
              "#7201a8"
             ],
             [
              0.3333333333333333,
              "#9c179e"
             ],
             [
              0.4444444444444444,
              "#bd3786"
             ],
             [
              0.5555555555555556,
              "#d8576b"
             ],
             [
              0.6666666666666666,
              "#ed7953"
             ],
             [
              0.7777777777777778,
              "#fb9f3a"
             ],
             [
              0.8888888888888888,
              "#fdca26"
             ],
             [
              1,
              "#f0f921"
             ]
            ],
            "type": "heatmap"
           }
          ],
          "heatmapgl": [
           {
            "colorbar": {
             "outlinewidth": 0,
             "ticks": ""
            },
            "colorscale": [
             [
              0,
              "#0d0887"
             ],
             [
              0.1111111111111111,
              "#46039f"
             ],
             [
              0.2222222222222222,
              "#7201a8"
             ],
             [
              0.3333333333333333,
              "#9c179e"
             ],
             [
              0.4444444444444444,
              "#bd3786"
             ],
             [
              0.5555555555555556,
              "#d8576b"
             ],
             [
              0.6666666666666666,
              "#ed7953"
             ],
             [
              0.7777777777777778,
              "#fb9f3a"
             ],
             [
              0.8888888888888888,
              "#fdca26"
             ],
             [
              1,
              "#f0f921"
             ]
            ],
            "type": "heatmapgl"
           }
          ],
          "histogram": [
           {
            "marker": {
             "pattern": {
              "fillmode": "overlay",
              "size": 10,
              "solidity": 0.2
             }
            },
            "type": "histogram"
           }
          ],
          "histogram2d": [
           {
            "colorbar": {
             "outlinewidth": 0,
             "ticks": ""
            },
            "colorscale": [
             [
              0,
              "#0d0887"
             ],
             [
              0.1111111111111111,
              "#46039f"
             ],
             [
              0.2222222222222222,
              "#7201a8"
             ],
             [
              0.3333333333333333,
              "#9c179e"
             ],
             [
              0.4444444444444444,
              "#bd3786"
             ],
             [
              0.5555555555555556,
              "#d8576b"
             ],
             [
              0.6666666666666666,
              "#ed7953"
             ],
             [
              0.7777777777777778,
              "#fb9f3a"
             ],
             [
              0.8888888888888888,
              "#fdca26"
             ],
             [
              1,
              "#f0f921"
             ]
            ],
            "type": "histogram2d"
           }
          ],
          "histogram2dcontour": [
           {
            "colorbar": {
             "outlinewidth": 0,
             "ticks": ""
            },
            "colorscale": [
             [
              0,
              "#0d0887"
             ],
             [
              0.1111111111111111,
              "#46039f"
             ],
             [
              0.2222222222222222,
              "#7201a8"
             ],
             [
              0.3333333333333333,
              "#9c179e"
             ],
             [
              0.4444444444444444,
              "#bd3786"
             ],
             [
              0.5555555555555556,
              "#d8576b"
             ],
             [
              0.6666666666666666,
              "#ed7953"
             ],
             [
              0.7777777777777778,
              "#fb9f3a"
             ],
             [
              0.8888888888888888,
              "#fdca26"
             ],
             [
              1,
              "#f0f921"
             ]
            ],
            "type": "histogram2dcontour"
           }
          ],
          "mesh3d": [
           {
            "colorbar": {
             "outlinewidth": 0,
             "ticks": ""
            },
            "type": "mesh3d"
           }
          ],
          "parcoords": [
           {
            "line": {
             "colorbar": {
              "outlinewidth": 0,
              "ticks": ""
             }
            },
            "type": "parcoords"
           }
          ],
          "pie": [
           {
            "automargin": true,
            "type": "pie"
           }
          ],
          "scatter": [
           {
            "fillpattern": {
             "fillmode": "overlay",
             "size": 10,
             "solidity": 0.2
            },
            "type": "scatter"
           }
          ],
          "scatter3d": [
           {
            "line": {
             "colorbar": {
              "outlinewidth": 0,
              "ticks": ""
             }
            },
            "marker": {
             "colorbar": {
              "outlinewidth": 0,
              "ticks": ""
             }
            },
            "type": "scatter3d"
           }
          ],
          "scattercarpet": [
           {
            "marker": {
             "colorbar": {
              "outlinewidth": 0,
              "ticks": ""
             }
            },
            "type": "scattercarpet"
           }
          ],
          "scattergeo": [
           {
            "marker": {
             "colorbar": {
              "outlinewidth": 0,
              "ticks": ""
             }
            },
            "type": "scattergeo"
           }
          ],
          "scattergl": [
           {
            "marker": {
             "colorbar": {
              "outlinewidth": 0,
              "ticks": ""
             }
            },
            "type": "scattergl"
           }
          ],
          "scattermapbox": [
           {
            "marker": {
             "colorbar": {
              "outlinewidth": 0,
              "ticks": ""
             }
            },
            "type": "scattermapbox"
           }
          ],
          "scatterpolar": [
           {
            "marker": {
             "colorbar": {
              "outlinewidth": 0,
              "ticks": ""
             }
            },
            "type": "scatterpolar"
           }
          ],
          "scatterpolargl": [
           {
            "marker": {
             "colorbar": {
              "outlinewidth": 0,
              "ticks": ""
             }
            },
            "type": "scatterpolargl"
           }
          ],
          "scatterternary": [
           {
            "marker": {
             "colorbar": {
              "outlinewidth": 0,
              "ticks": ""
             }
            },
            "type": "scatterternary"
           }
          ],
          "surface": [
           {
            "colorbar": {
             "outlinewidth": 0,
             "ticks": ""
            },
            "colorscale": [
             [
              0,
              "#0d0887"
             ],
             [
              0.1111111111111111,
              "#46039f"
             ],
             [
              0.2222222222222222,
              "#7201a8"
             ],
             [
              0.3333333333333333,
              "#9c179e"
             ],
             [
              0.4444444444444444,
              "#bd3786"
             ],
             [
              0.5555555555555556,
              "#d8576b"
             ],
             [
              0.6666666666666666,
              "#ed7953"
             ],
             [
              0.7777777777777778,
              "#fb9f3a"
             ],
             [
              0.8888888888888888,
              "#fdca26"
             ],
             [
              1,
              "#f0f921"
             ]
            ],
            "type": "surface"
           }
          ],
          "table": [
           {
            "cells": {
             "fill": {
              "color": "#EBF0F8"
             },
             "line": {
              "color": "white"
             }
            },
            "header": {
             "fill": {
              "color": "#C8D4E3"
             },
             "line": {
              "color": "white"
             }
            },
            "type": "table"
           }
          ]
         },
         "layout": {
          "annotationdefaults": {
           "arrowcolor": "#2a3f5f",
           "arrowhead": 0,
           "arrowwidth": 1
          },
          "autotypenumbers": "strict",
          "coloraxis": {
           "colorbar": {
            "outlinewidth": 0,
            "ticks": ""
           }
          },
          "colorscale": {
           "diverging": [
            [
             0,
             "#8e0152"
            ],
            [
             0.1,
             "#c51b7d"
            ],
            [
             0.2,
             "#de77ae"
            ],
            [
             0.3,
             "#f1b6da"
            ],
            [
             0.4,
             "#fde0ef"
            ],
            [
             0.5,
             "#f7f7f7"
            ],
            [
             0.6,
             "#e6f5d0"
            ],
            [
             0.7,
             "#b8e186"
            ],
            [
             0.8,
             "#7fbc41"
            ],
            [
             0.9,
             "#4d9221"
            ],
            [
             1,
             "#276419"
            ]
           ],
           "sequential": [
            [
             0,
             "#0d0887"
            ],
            [
             0.1111111111111111,
             "#46039f"
            ],
            [
             0.2222222222222222,
             "#7201a8"
            ],
            [
             0.3333333333333333,
             "#9c179e"
            ],
            [
             0.4444444444444444,
             "#bd3786"
            ],
            [
             0.5555555555555556,
             "#d8576b"
            ],
            [
             0.6666666666666666,
             "#ed7953"
            ],
            [
             0.7777777777777778,
             "#fb9f3a"
            ],
            [
             0.8888888888888888,
             "#fdca26"
            ],
            [
             1,
             "#f0f921"
            ]
           ],
           "sequentialminus": [
            [
             0,
             "#0d0887"
            ],
            [
             0.1111111111111111,
             "#46039f"
            ],
            [
             0.2222222222222222,
             "#7201a8"
            ],
            [
             0.3333333333333333,
             "#9c179e"
            ],
            [
             0.4444444444444444,
             "#bd3786"
            ],
            [
             0.5555555555555556,
             "#d8576b"
            ],
            [
             0.6666666666666666,
             "#ed7953"
            ],
            [
             0.7777777777777778,
             "#fb9f3a"
            ],
            [
             0.8888888888888888,
             "#fdca26"
            ],
            [
             1,
             "#f0f921"
            ]
           ]
          },
          "colorway": [
           "#636efa",
           "#EF553B",
           "#00cc96",
           "#ab63fa",
           "#FFA15A",
           "#19d3f3",
           "#FF6692",
           "#B6E880",
           "#FF97FF",
           "#FECB52"
          ],
          "font": {
           "color": "#2a3f5f"
          },
          "geo": {
           "bgcolor": "white",
           "lakecolor": "white",
           "landcolor": "#E5ECF6",
           "showlakes": true,
           "showland": true,
           "subunitcolor": "white"
          },
          "hoverlabel": {
           "align": "left"
          },
          "hovermode": "closest",
          "mapbox": {
           "style": "light"
          },
          "paper_bgcolor": "white",
          "plot_bgcolor": "#E5ECF6",
          "polar": {
           "angularaxis": {
            "gridcolor": "white",
            "linecolor": "white",
            "ticks": ""
           },
           "bgcolor": "#E5ECF6",
           "radialaxis": {
            "gridcolor": "white",
            "linecolor": "white",
            "ticks": ""
           }
          },
          "scene": {
           "xaxis": {
            "backgroundcolor": "#E5ECF6",
            "gridcolor": "white",
            "gridwidth": 2,
            "linecolor": "white",
            "showbackground": true,
            "ticks": "",
            "zerolinecolor": "white"
           },
           "yaxis": {
            "backgroundcolor": "#E5ECF6",
            "gridcolor": "white",
            "gridwidth": 2,
            "linecolor": "white",
            "showbackground": true,
            "ticks": "",
            "zerolinecolor": "white"
           },
           "zaxis": {
            "backgroundcolor": "#E5ECF6",
            "gridcolor": "white",
            "gridwidth": 2,
            "linecolor": "white",
            "showbackground": true,
            "ticks": "",
            "zerolinecolor": "white"
           }
          },
          "shapedefaults": {
           "line": {
            "color": "#2a3f5f"
           }
          },
          "ternary": {
           "aaxis": {
            "gridcolor": "white",
            "linecolor": "white",
            "ticks": ""
           },
           "baxis": {
            "gridcolor": "white",
            "linecolor": "white",
            "ticks": ""
           },
           "bgcolor": "#E5ECF6",
           "caxis": {
            "gridcolor": "white",
            "linecolor": "white",
            "ticks": ""
           }
          },
          "title": {
           "x": 0.05
          },
          "xaxis": {
           "automargin": true,
           "gridcolor": "white",
           "linecolor": "white",
           "ticks": "",
           "title": {
            "standoff": 15
           },
           "zerolinecolor": "white",
           "zerolinewidth": 2
          },
          "yaxis": {
           "automargin": true,
           "gridcolor": "white",
           "linecolor": "white",
           "ticks": "",
           "title": {
            "standoff": 15
           },
           "zerolinecolor": "white",
           "zerolinewidth": 2
          }
         }
        },
        "title": {
         "text": "Impact of Extending IRA PTC Expansion by Income Decile – 2026"
        },
        "xaxis": {
         "title": {
          "text": "Income Decile"
         }
        },
        "yaxis": {
         "title": {
          "text": "Average change in household net income ($)"
         }
        }
       }
      }
     },
     "metadata": {},
     "output_type": "display_data"
    },
    {
     "data": {
      "application/vnd.plotly.v1+json": {
       "config": {
        "plotlyServerURL": "https://plot.ly"
       },
       "data": [
        {
         "marker": {
          "color": [
           "#2C6496",
           "#2C6496",
           "#2C6496",
           "#2C6496",
           "#2C6496",
           "#2C6496",
           "#2C6496",
           "#2C6496",
           "#2C6496",
           "#2C6496"
          ]
         },
         "text": [
          "$86",
          "$156",
          "$165",
          "$177",
          "$226",
          "$247",
          "$401",
          "$316",
          "$419",
          "$525"
         ],
         "textposition": "inside",
         "type": "bar",
         "x": [
          1,
          2,
          3,
          4,
          5,
          6,
          7,
          8,
          9,
          10
         ],
         "y": [
          85.58747863769531,
          155.56265258789062,
          165.2862548828125,
          177.06210327148438,
          226.35496520996094,
          247.4505615234375,
          400.6145324707031,
          316.2253723144531,
          419.0640869140625,
          525.2872924804688
         ]
        }
       ],
       "layout": {
        "shapes": [
         {
          "line": {
           "color": "black",
           "width": 1
          },
          "type": "line",
          "x0": 0,
          "x1": 1,
          "xref": "x domain",
          "y0": 0,
          "y1": 0,
          "yref": "y"
         }
        ],
        "showlegend": false,
        "template": {
         "data": {
          "bar": [
           {
            "error_x": {
             "color": "#2a3f5f"
            },
            "error_y": {
             "color": "#2a3f5f"
            },
            "marker": {
             "line": {
              "color": "#E5ECF6",
              "width": 0.5
             },
             "pattern": {
              "fillmode": "overlay",
              "size": 10,
              "solidity": 0.2
             }
            },
            "type": "bar"
           }
          ],
          "barpolar": [
           {
            "marker": {
             "line": {
              "color": "#E5ECF6",
              "width": 0.5
             },
             "pattern": {
              "fillmode": "overlay",
              "size": 10,
              "solidity": 0.2
             }
            },
            "type": "barpolar"
           }
          ],
          "carpet": [
           {
            "aaxis": {
             "endlinecolor": "#2a3f5f",
             "gridcolor": "white",
             "linecolor": "white",
             "minorgridcolor": "white",
             "startlinecolor": "#2a3f5f"
            },
            "baxis": {
             "endlinecolor": "#2a3f5f",
             "gridcolor": "white",
             "linecolor": "white",
             "minorgridcolor": "white",
             "startlinecolor": "#2a3f5f"
            },
            "type": "carpet"
           }
          ],
          "choropleth": [
           {
            "colorbar": {
             "outlinewidth": 0,
             "ticks": ""
            },
            "type": "choropleth"
           }
          ],
          "contour": [
           {
            "colorbar": {
             "outlinewidth": 0,
             "ticks": ""
            },
            "colorscale": [
             [
              0,
              "#0d0887"
             ],
             [
              0.1111111111111111,
              "#46039f"
             ],
             [
              0.2222222222222222,
              "#7201a8"
             ],
             [
              0.3333333333333333,
              "#9c179e"
             ],
             [
              0.4444444444444444,
              "#bd3786"
             ],
             [
              0.5555555555555556,
              "#d8576b"
             ],
             [
              0.6666666666666666,
              "#ed7953"
             ],
             [
              0.7777777777777778,
              "#fb9f3a"
             ],
             [
              0.8888888888888888,
              "#fdca26"
             ],
             [
              1,
              "#f0f921"
             ]
            ],
            "type": "contour"
           }
          ],
          "contourcarpet": [
           {
            "colorbar": {
             "outlinewidth": 0,
             "ticks": ""
            },
            "type": "contourcarpet"
           }
          ],
          "heatmap": [
           {
            "colorbar": {
             "outlinewidth": 0,
             "ticks": ""
            },
            "colorscale": [
             [
              0,
              "#0d0887"
             ],
             [
              0.1111111111111111,
              "#46039f"
             ],
             [
              0.2222222222222222,
              "#7201a8"
             ],
             [
              0.3333333333333333,
              "#9c179e"
             ],
             [
              0.4444444444444444,
              "#bd3786"
             ],
             [
              0.5555555555555556,
              "#d8576b"
             ],
             [
              0.6666666666666666,
              "#ed7953"
             ],
             [
              0.7777777777777778,
              "#fb9f3a"
             ],
             [
              0.8888888888888888,
              "#fdca26"
             ],
             [
              1,
              "#f0f921"
             ]
            ],
            "type": "heatmap"
           }
          ],
          "heatmapgl": [
           {
            "colorbar": {
             "outlinewidth": 0,
             "ticks": ""
            },
            "colorscale": [
             [
              0,
              "#0d0887"
             ],
             [
              0.1111111111111111,
              "#46039f"
             ],
             [
              0.2222222222222222,
              "#7201a8"
             ],
             [
              0.3333333333333333,
              "#9c179e"
             ],
             [
              0.4444444444444444,
              "#bd3786"
             ],
             [
              0.5555555555555556,
              "#d8576b"
             ],
             [
              0.6666666666666666,
              "#ed7953"
             ],
             [
              0.7777777777777778,
              "#fb9f3a"
             ],
             [
              0.8888888888888888,
              "#fdca26"
             ],
             [
              1,
              "#f0f921"
             ]
            ],
            "type": "heatmapgl"
           }
          ],
          "histogram": [
           {
            "marker": {
             "pattern": {
              "fillmode": "overlay",
              "size": 10,
              "solidity": 0.2
             }
            },
            "type": "histogram"
           }
          ],
          "histogram2d": [
           {
            "colorbar": {
             "outlinewidth": 0,
             "ticks": ""
            },
            "colorscale": [
             [
              0,
              "#0d0887"
             ],
             [
              0.1111111111111111,
              "#46039f"
             ],
             [
              0.2222222222222222,
              "#7201a8"
             ],
             [
              0.3333333333333333,
              "#9c179e"
             ],
             [
              0.4444444444444444,
              "#bd3786"
             ],
             [
              0.5555555555555556,
              "#d8576b"
             ],
             [
              0.6666666666666666,
              "#ed7953"
             ],
             [
              0.7777777777777778,
              "#fb9f3a"
             ],
             [
              0.8888888888888888,
              "#fdca26"
             ],
             [
              1,
              "#f0f921"
             ]
            ],
            "type": "histogram2d"
           }
          ],
          "histogram2dcontour": [
           {
            "colorbar": {
             "outlinewidth": 0,
             "ticks": ""
            },
            "colorscale": [
             [
              0,
              "#0d0887"
             ],
             [
              0.1111111111111111,
              "#46039f"
             ],
             [
              0.2222222222222222,
              "#7201a8"
             ],
             [
              0.3333333333333333,
              "#9c179e"
             ],
             [
              0.4444444444444444,
              "#bd3786"
             ],
             [
              0.5555555555555556,
              "#d8576b"
             ],
             [
              0.6666666666666666,
              "#ed7953"
             ],
             [
              0.7777777777777778,
              "#fb9f3a"
             ],
             [
              0.8888888888888888,
              "#fdca26"
             ],
             [
              1,
              "#f0f921"
             ]
            ],
            "type": "histogram2dcontour"
           }
          ],
          "mesh3d": [
           {
            "colorbar": {
             "outlinewidth": 0,
             "ticks": ""
            },
            "type": "mesh3d"
           }
          ],
          "parcoords": [
           {
            "line": {
             "colorbar": {
              "outlinewidth": 0,
              "ticks": ""
             }
            },
            "type": "parcoords"
           }
          ],
          "pie": [
           {
            "automargin": true,
            "type": "pie"
           }
          ],
          "scatter": [
           {
            "fillpattern": {
             "fillmode": "overlay",
             "size": 10,
             "solidity": 0.2
            },
            "type": "scatter"
           }
          ],
          "scatter3d": [
           {
            "line": {
             "colorbar": {
              "outlinewidth": 0,
              "ticks": ""
             }
            },
            "marker": {
             "colorbar": {
              "outlinewidth": 0,
              "ticks": ""
             }
            },
            "type": "scatter3d"
           }
          ],
          "scattercarpet": [
           {
            "marker": {
             "colorbar": {
              "outlinewidth": 0,
              "ticks": ""
             }
            },
            "type": "scattercarpet"
           }
          ],
          "scattergeo": [
           {
            "marker": {
             "colorbar": {
              "outlinewidth": 0,
              "ticks": ""
             }
            },
            "type": "scattergeo"
           }
          ],
          "scattergl": [
           {
            "marker": {
             "colorbar": {
              "outlinewidth": 0,
              "ticks": ""
             }
            },
            "type": "scattergl"
           }
          ],
          "scattermapbox": [
           {
            "marker": {
             "colorbar": {
              "outlinewidth": 0,
              "ticks": ""
             }
            },
            "type": "scattermapbox"
           }
          ],
          "scatterpolar": [
           {
            "marker": {
             "colorbar": {
              "outlinewidth": 0,
              "ticks": ""
             }
            },
            "type": "scatterpolar"
           }
          ],
          "scatterpolargl": [
           {
            "marker": {
             "colorbar": {
              "outlinewidth": 0,
              "ticks": ""
             }
            },
            "type": "scatterpolargl"
           }
          ],
          "scatterternary": [
           {
            "marker": {
             "colorbar": {
              "outlinewidth": 0,
              "ticks": ""
             }
            },
            "type": "scatterternary"
           }
          ],
          "surface": [
           {
            "colorbar": {
             "outlinewidth": 0,
             "ticks": ""
            },
            "colorscale": [
             [
              0,
              "#0d0887"
             ],
             [
              0.1111111111111111,
              "#46039f"
             ],
             [
              0.2222222222222222,
              "#7201a8"
             ],
             [
              0.3333333333333333,
              "#9c179e"
             ],
             [
              0.4444444444444444,
              "#bd3786"
             ],
             [
              0.5555555555555556,
              "#d8576b"
             ],
             [
              0.6666666666666666,
              "#ed7953"
             ],
             [
              0.7777777777777778,
              "#fb9f3a"
             ],
             [
              0.8888888888888888,
              "#fdca26"
             ],
             [
              1,
              "#f0f921"
             ]
            ],
            "type": "surface"
           }
          ],
          "table": [
           {
            "cells": {
             "fill": {
              "color": "#EBF0F8"
             },
             "line": {
              "color": "white"
             }
            },
            "header": {
             "fill": {
              "color": "#C8D4E3"
             },
             "line": {
              "color": "white"
             }
            },
            "type": "table"
           }
          ]
         },
         "layout": {
          "annotationdefaults": {
           "arrowcolor": "#2a3f5f",
           "arrowhead": 0,
           "arrowwidth": 1
          },
          "autotypenumbers": "strict",
          "coloraxis": {
           "colorbar": {
            "outlinewidth": 0,
            "ticks": ""
           }
          },
          "colorscale": {
           "diverging": [
            [
             0,
             "#8e0152"
            ],
            [
             0.1,
             "#c51b7d"
            ],
            [
             0.2,
             "#de77ae"
            ],
            [
             0.3,
             "#f1b6da"
            ],
            [
             0.4,
             "#fde0ef"
            ],
            [
             0.5,
             "#f7f7f7"
            ],
            [
             0.6,
             "#e6f5d0"
            ],
            [
             0.7,
             "#b8e186"
            ],
            [
             0.8,
             "#7fbc41"
            ],
            [
             0.9,
             "#4d9221"
            ],
            [
             1,
             "#276419"
            ]
           ],
           "sequential": [
            [
             0,
             "#0d0887"
            ],
            [
             0.1111111111111111,
             "#46039f"
            ],
            [
             0.2222222222222222,
             "#7201a8"
            ],
            [
             0.3333333333333333,
             "#9c179e"
            ],
            [
             0.4444444444444444,
             "#bd3786"
            ],
            [
             0.5555555555555556,
             "#d8576b"
            ],
            [
             0.6666666666666666,
             "#ed7953"
            ],
            [
             0.7777777777777778,
             "#fb9f3a"
            ],
            [
             0.8888888888888888,
             "#fdca26"
            ],
            [
             1,
             "#f0f921"
            ]
           ],
           "sequentialminus": [
            [
             0,
             "#0d0887"
            ],
            [
             0.1111111111111111,
             "#46039f"
            ],
            [
             0.2222222222222222,
             "#7201a8"
            ],
            [
             0.3333333333333333,
             "#9c179e"
            ],
            [
             0.4444444444444444,
             "#bd3786"
            ],
            [
             0.5555555555555556,
             "#d8576b"
            ],
            [
             0.6666666666666666,
             "#ed7953"
            ],
            [
             0.7777777777777778,
             "#fb9f3a"
            ],
            [
             0.8888888888888888,
             "#fdca26"
            ],
            [
             1,
             "#f0f921"
            ]
           ]
          },
          "colorway": [
           "#636efa",
           "#EF553B",
           "#00cc96",
           "#ab63fa",
           "#FFA15A",
           "#19d3f3",
           "#FF6692",
           "#B6E880",
           "#FF97FF",
           "#FECB52"
          ],
          "font": {
           "color": "#2a3f5f"
          },
          "geo": {
           "bgcolor": "white",
           "lakecolor": "white",
           "landcolor": "#E5ECF6",
           "showlakes": true,
           "showland": true,
           "subunitcolor": "white"
          },
          "hoverlabel": {
           "align": "left"
          },
          "hovermode": "closest",
          "mapbox": {
           "style": "light"
          },
          "paper_bgcolor": "white",
          "plot_bgcolor": "#E5ECF6",
          "polar": {
           "angularaxis": {
            "gridcolor": "white",
            "linecolor": "white",
            "ticks": ""
           },
           "bgcolor": "#E5ECF6",
           "radialaxis": {
            "gridcolor": "white",
            "linecolor": "white",
            "ticks": ""
           }
          },
          "scene": {
           "xaxis": {
            "backgroundcolor": "#E5ECF6",
            "gridcolor": "white",
            "gridwidth": 2,
            "linecolor": "white",
            "showbackground": true,
            "ticks": "",
            "zerolinecolor": "white"
           },
           "yaxis": {
            "backgroundcolor": "#E5ECF6",
            "gridcolor": "white",
            "gridwidth": 2,
            "linecolor": "white",
            "showbackground": true,
            "ticks": "",
            "zerolinecolor": "white"
           },
           "zaxis": {
            "backgroundcolor": "#E5ECF6",
            "gridcolor": "white",
            "gridwidth": 2,
            "linecolor": "white",
            "showbackground": true,
            "ticks": "",
            "zerolinecolor": "white"
           }
          },
          "shapedefaults": {
           "line": {
            "color": "#2a3f5f"
           }
          },
          "ternary": {
           "aaxis": {
            "gridcolor": "white",
            "linecolor": "white",
            "ticks": ""
           },
           "baxis": {
            "gridcolor": "white",
            "linecolor": "white",
            "ticks": ""
           },
           "bgcolor": "#E5ECF6",
           "caxis": {
            "gridcolor": "white",
            "linecolor": "white",
            "ticks": ""
           }
          },
          "title": {
           "x": 0.05
          },
          "xaxis": {
           "automargin": true,
           "gridcolor": "white",
           "linecolor": "white",
           "ticks": "",
           "title": {
            "standoff": 15
           },
           "zerolinecolor": "white",
           "zerolinewidth": 2
          },
          "yaxis": {
           "automargin": true,
           "gridcolor": "white",
           "linecolor": "white",
           "ticks": "",
           "title": {
            "standoff": 15
           },
           "zerolinecolor": "white",
           "zerolinewidth": 2
          }
         }
        },
        "title": {
         "text": "Impact of Extending IRA PTC Expansion by Income Decile – 2026"
        },
        "xaxis": {
         "dtick": 1,
         "title": {
          "text": "Income Decile"
         }
        },
        "yaxis": {
         "title": {
          "text": "Average change in household net income ($)"
         }
        }
       }
      }
     },
     "metadata": {},
     "output_type": "display_data"
    }
   ],
   "source": [
    "import numpy as np\n",
    "import pandas as pd\n",
    "import plotly.graph_objects as go\n",
    "\n",
    "# ------------------------------------------------------------------\n",
    "# Brand hex codes (one-to-one with style.colors)\n",
    "# ------------------------------------------------------------------\n",
    "COLOR_BLUE               = \"#2C6496\"   # style.colors.BLUE  / BLUE_PRIMARY\n",
    "COLOR_BLUE_LIGHT         = \"#D8E6F3\"   # style.colors.BLUE_LIGHT / BLUE_95\n",
    "COLOR_LIGHT_GRAY         = \"#F2F2F2\"   # style.colors.LIGHT_GRAY\n",
    "COLOR_MEDIUM_LIGHT_GRAY  = \"#BDBDBD\"   # style.colors.MEDIUM_LIGHT_GRAY\n",
    "COLOR_DARK_GRAY          = \"#616161\"   # style.colors.DARK_GRAY\n",
    "\n",
    "# ––– choose colours for positive vs. negative average bars –––\n",
    "POS_COLOR = COLOR_BLUE\n",
    "NEG_COLOR = COLOR_DARK_GRAY\n",
    "\n",
    "# ------------------------------------------------------------------\n",
    "# 1.  Pull baseline / reform net income + weights\n",
    "# ------------------------------------------------------------------\n",
    "net_base   = baseline.calculate(\n",
    "    \"household_net_income_including_health_benefits\", map_to=\"household\", period=2026\n",
    ")\n",
    "net_reform = reformed.calculate(\n",
    "    \"household_net_income_including_health_benefits\", map_to=\"household\", period=2026\n",
    ")\n",
    "weights    = baseline.calculate(\n",
    "    \"household_weight\", map_to=\"household\", period=2026\n",
    ")\n",
    "\n",
    "df = pd.DataFrame({\n",
    "    \"net_base\": net_base,\n",
    "    \"delta\":    net_reform - net_base,\n",
    "    \"weight\":   weights,\n",
    "})\n",
    "\n",
    "# ------------------------------------------------------------------\n",
    "# 2.  Weighted decile edges (baseline ranking)\n",
    "# ------------------------------------------------------------------\n",
    "def wquantile(values, qs, w):\n",
    "    srt = np.argsort(values)\n",
    "    values, w = values[srt], w[srt]\n",
    "    cum_w = np.cumsum(w) / np.sum(w)\n",
    "    return np.interp(qs, cum_w, values)\n",
    "\n",
    "edges = wquantile(df[\"net_base\"].values,\n",
    "                  np.linspace(0, 1, 11), df[\"weight\"].values)\n",
    "\n",
    "df[\"decile\"] = pd.cut(df[\"net_base\"],\n",
    "                      bins=edges,\n",
    "                      labels=np.arange(1, 11),\n",
    "                      include_lowest=True)\n",
    "\n",
    "# ------------------------------------------------------------------\n",
    "# 3.  Weighted average Δnet-income by decile\n",
    "# ------------------------------------------------------------------\n",
    "decile_avg = (\n",
    "    df.groupby(\"decile\")\n",
    "      .apply(lambda g: np.average(g[\"delta\"], weights=g[\"weight\"]))\n",
    "      .reset_index(name=\"avg_change\")\n",
    ")\n",
    "\n",
    "# ------------------------------------------------------------------\n",
    "# 4.  Use brand colours: blue if gain, dark-gray if loss\n",
    "# ------------------------------------------------------------------\n",
    "bar_colors = [\n",
    "    POS_COLOR if v >= 0 else NEG_COLOR\n",
    "    for v in decile_avg[\"avg_change\"]\n",
    "]\n",
    "\n",
    "# ------------------------------------------------------------------\n",
    "# 5.  Plot\n",
    "# ------------------------------------------------------------------\n",
    "fig = go.Figure(\n",
    "    data=[\n",
    "        go.Bar(\n",
    "            x=decile_avg[\"decile\"].astype(int),\n",
    "            y=decile_avg[\"avg_change\"],\n",
    "            marker_color=bar_colors,\n",
    "            text=decile_avg[\"avg_change\"].apply(lambda v: f\"${v:,.0f}\"),\n",
    "            textposition=\"inside\",\n",
    "        )\n",
    "    ],\n",
    "    layout=dict(\n",
    "        title=\"Impact of Extending IRA PTC Expansion by Income Decile – 2026\",\n",
    "        xaxis_title=\"Income Decile\",\n",
    "        yaxis_title=\"Average change in household net income ($)\",\n",
    "        showlegend=False,\n",
    "    )\n",
    ")\n",
    "fig.add_hline(y=0, line_width=1, line_color=\"black\")\n",
    "fig.show()\n",
    "fig.update_xaxes(dtick=1)        # show 1-10 instead of only the evens\n"
   ]
  },
  {
   "cell_type": "code",
   "execution_count": 18,
   "id": "1jhns1uinylj",
   "metadata": {},
   "outputs": [
    {
     "name": "stdout",
     "output_type": "stream",
     "text": [
      "Number of households gaining PTC under reform: 1100\n",
      "Weighted count: 3,503,693\n",
      "\n",
      "Average reform PTC for these households: $5,707.33\n",
      "Weighted average reform PTC: $5,972.71\n"
     ]
    }
   ],
   "source": [
    "# Let's analyze the households affected by the ACA reform\n",
    "import pandas as pd\n",
    "import numpy as np\n",
    "\n",
    "# First, let's look at households that gain PTC under reform but had none in baseline\n",
    "gained_ptc = df_outputs[(df_outputs['aca_baseline'] == 0) & (df_outputs['aca_reform'] > 0)]\n",
    "\n",
    "print(f\"Number of households gaining PTC under reform: {len(gained_ptc)}\")\n",
    "print(f\"Weighted count: {gained_ptc['weight'].sum():,.0f}\")\n",
    "print(f\"\\nAverage reform PTC for these households: ${gained_ptc['aca_reform'].mean():,.2f}\")\n",
    "print(f\"Weighted average reform PTC: ${(gained_ptc['aca_reform'] * gained_ptc['weight']).sum() / gained_ptc['weight'].sum():,.2f}\")"
   ]
  },
  {
   "cell_type": "code",
   "execution_count": 20,
   "id": "qzjyh3eo44",
   "metadata": {},
   "outputs": [
    {
     "name": "stdout",
     "output_type": "stream",
     "text": [
      "Income percentiles across all households:\n",
      "  25th percentile: $6,159\n",
      "  50th percentile: $68,947\n",
      "  75th percentile: $172,785\n",
      "  90th percentile: $504,951\n",
      "  95th percentile: $2,181,010\n",
      "\n",
      "============================================================\n",
      "Income distribution of households GAINING PTC under reform:\n",
      "============================================================\n",
      "count    1.100000e+03\n",
      "mean     5.555715e+05\n",
      "std      4.699500e+06\n",
      "min      0.000000e+00\n",
      "25%      7.411113e+04\n",
      "50%      1.099418e+05\n",
      "75%      1.631940e+05\n",
      "max      1.033826e+08\n",
      "Name: Employment_Income, dtype: float64\n",
      "\n",
      "============================================================\n",
      "Top 10 households by PTC gain (sorted by reform PTC amount):\n",
      "============================================================\n"
     ]
    },
    {
     "data": {
      "text/html": [
       "<div>\n",
       "<style scoped>\n",
       "    .dataframe tbody tr th:only-of-type {\n",
       "        vertical-align: middle;\n",
       "    }\n",
       "\n",
       "    .dataframe tbody tr th {\n",
       "        vertical-align: top;\n",
       "    }\n",
       "\n",
       "    .dataframe thead th {\n",
       "        text-align: right;\n",
       "    }\n",
       "</style>\n",
       "<table border=\"1\" class=\"dataframe\">\n",
       "  <thead>\n",
       "    <tr style=\"text-align: right;\">\n",
       "      <th></th>\n",
       "      <th>household_id</th>\n",
       "      <th>State</th>\n",
       "      <th>Employment_Income</th>\n",
       "      <th>aca_reform</th>\n",
       "      <th>Married</th>\n",
       "      <th>Num_Dependents</th>\n",
       "      <th>weight</th>\n",
       "    </tr>\n",
       "  </thead>\n",
       "  <tbody>\n",
       "    <tr>\n",
       "      <th>21655</th>\n",
       "      <td>95958</td>\n",
       "      <td>CT</td>\n",
       "      <td>586290.419922</td>\n",
       "      <td>29020.246094</td>\n",
       "      <td>1.0</td>\n",
       "      <td>0.0</td>\n",
       "      <td>0.000351</td>\n",
       "    </tr>\n",
       "    <tr>\n",
       "      <th>20926</th>\n",
       "      <td>92239</td>\n",
       "      <td>VT</td>\n",
       "      <td>169552.753906</td>\n",
       "      <td>28546.548828</td>\n",
       "      <td>1.0</td>\n",
       "      <td>2.0</td>\n",
       "      <td>2193.554443</td>\n",
       "    </tr>\n",
       "    <tr>\n",
       "      <th>16135</th>\n",
       "      <td>69304</td>\n",
       "      <td>WY</td>\n",
       "      <td>172368.441406</td>\n",
       "      <td>27582.343750</td>\n",
       "      <td>1.0</td>\n",
       "      <td>3.0</td>\n",
       "      <td>1964.266357</td>\n",
       "    </tr>\n",
       "    <tr>\n",
       "      <th>7046</th>\n",
       "      <td>25635</td>\n",
       "      <td>MO</td>\n",
       "      <td>37921.058594</td>\n",
       "      <td>27411.421875</td>\n",
       "      <td>1.0</td>\n",
       "      <td>0.0</td>\n",
       "      <td>1342.842773</td>\n",
       "    </tr>\n",
       "    <tr>\n",
       "      <th>27701</th>\n",
       "      <td>115102</td>\n",
       "      <td>MO</td>\n",
       "      <td>41373.524902</td>\n",
       "      <td>27333.187500</td>\n",
       "      <td>1.0</td>\n",
       "      <td>0.0</td>\n",
       "      <td>0.002778</td>\n",
       "    </tr>\n",
       "    <tr>\n",
       "      <th>14065</th>\n",
       "      <td>59697</td>\n",
       "      <td>OK</td>\n",
       "      <td>68947.382812</td>\n",
       "      <td>26790.708984</td>\n",
       "      <td>1.0</td>\n",
       "      <td>0.0</td>\n",
       "      <td>3511.932373</td>\n",
       "    </tr>\n",
       "    <tr>\n",
       "      <th>7058</th>\n",
       "      <td>25669</td>\n",
       "      <td>MO</td>\n",
       "      <td>0.000000</td>\n",
       "      <td>26257.669922</td>\n",
       "      <td>1.0</td>\n",
       "      <td>0.0</td>\n",
       "      <td>2463.500000</td>\n",
       "    </tr>\n",
       "    <tr>\n",
       "      <th>34720</th>\n",
       "      <td>149164</td>\n",
       "      <td>OK</td>\n",
       "      <td>76835.164062</td>\n",
       "      <td>26118.769531</td>\n",
       "      <td>1.0</td>\n",
       "      <td>0.0</td>\n",
       "      <td>0.004654</td>\n",
       "    </tr>\n",
       "    <tr>\n",
       "      <th>19738</th>\n",
       "      <td>84350</td>\n",
       "      <td>CA</td>\n",
       "      <td>88482.460938</td>\n",
       "      <td>25993.980469</td>\n",
       "      <td>1.0</td>\n",
       "      <td>0.0</td>\n",
       "      <td>334.342865</td>\n",
       "    </tr>\n",
       "    <tr>\n",
       "      <th>40316</th>\n",
       "      <td>173580</td>\n",
       "      <td>CA</td>\n",
       "      <td>102149.837891</td>\n",
       "      <td>25538.492188</td>\n",
       "      <td>1.0</td>\n",
       "      <td>0.0</td>\n",
       "      <td>0.002264</td>\n",
       "    </tr>\n",
       "  </tbody>\n",
       "</table>\n",
       "</div>"
      ],
      "text/plain": [
       "       household_id State  Employment_Income    aca_reform  Married  \\\n",
       "21655         95958    CT      586290.419922  29020.246094      1.0   \n",
       "20926         92239    VT      169552.753906  28546.548828      1.0   \n",
       "16135         69304    WY      172368.441406  27582.343750      1.0   \n",
       "7046          25635    MO       37921.058594  27411.421875      1.0   \n",
       "27701        115102    MO       41373.524902  27333.187500      1.0   \n",
       "14065         59697    OK       68947.382812  26790.708984      1.0   \n",
       "7058          25669    MO           0.000000  26257.669922      1.0   \n",
       "34720        149164    OK       76835.164062  26118.769531      1.0   \n",
       "19738         84350    CA       88482.460938  25993.980469      1.0   \n",
       "40316        173580    CA      102149.837891  25538.492188      1.0   \n",
       "\n",
       "       Num_Dependents       weight  \n",
       "21655             0.0     0.000351  \n",
       "20926             2.0  2193.554443  \n",
       "16135             3.0  1964.266357  \n",
       "7046              0.0  1342.842773  \n",
       "27701             0.0     0.002778  \n",
       "14065             0.0  3511.932373  \n",
       "7058              0.0  2463.500000  \n",
       "34720             0.0     0.004654  \n",
       "19738             0.0   334.342865  \n",
       "40316             0.0     0.002264  "
      ]
     },
     "metadata": {},
     "output_type": "display_data"
    }
   ],
   "source": [
    "# Let's continue without matplotlib\n",
    "# Add income deciles to the gained_ptc dataframe\n",
    "gained_ptc_with_income = gained_ptc.copy()\n",
    "\n",
    "# Calculate weighted income percentiles for context\n",
    "income_percentiles = np.percentile(df_outputs['Employment_Income'], [25, 50, 75, 90, 95])\n",
    "print(\"Income percentiles across all households:\")\n",
    "for i, pct in enumerate([25, 50, 75, 90, 95]):\n",
    "    print(f\"  {pct}th percentile: ${income_percentiles[i]:,.0f}\")\n",
    "\n",
    "print(\"\\n\" + \"=\"*60)\n",
    "print(\"Income distribution of households GAINING PTC under reform:\")\n",
    "print(\"=\"*60)\n",
    "print(gained_ptc_with_income['Employment_Income'].describe())\n",
    "\n",
    "print(\"\\n\" + \"=\"*60)\n",
    "print(\"Top 10 households by PTC gain (sorted by reform PTC amount):\")\n",
    "print(\"=\"*60)\n",
    "top_gainers = gained_ptc_with_income.nlargest(10, 'aca_reform')[['household_id', 'State', 'Employment_Income', 'aca_reform', 'Married', 'Num_Dependents', 'weight']]\n",
    "display(top_gainers)"
   ]
  },
  {
   "cell_type": "code",
   "execution_count": 21,
   "id": "6ngx1hex7d7",
   "metadata": {},
   "outputs": [
    {
     "name": "stdout",
     "output_type": "stream",
     "text": [
      "Income percentiles across all households:\n",
      "  25th percentile: $6,159\n",
      "  50th percentile: $68,947\n",
      "  75th percentile: $172,785\n",
      "  90th percentile: $504,951\n",
      "  95th percentile: $2,181,010\n",
      "\n",
      "============================================================\n",
      "Income distribution of households GAINING PTC under reform:\n",
      "============================================================\n",
      "count    1.100000e+03\n",
      "mean     5.555715e+05\n",
      "std      4.699500e+06\n",
      "min      0.000000e+00\n",
      "25%      7.411113e+04\n",
      "50%      1.099418e+05\n",
      "75%      1.631940e+05\n",
      "max      1.033826e+08\n",
      "Name: Employment_Income, dtype: float64\n",
      "\n",
      "============================================================\n",
      "Top 10 households by PTC gain (sorted by reform PTC amount):\n",
      "============================================================\n"
     ]
    },
    {
     "data": {
      "text/html": [
       "<div>\n",
       "<style scoped>\n",
       "    .dataframe tbody tr th:only-of-type {\n",
       "        vertical-align: middle;\n",
       "    }\n",
       "\n",
       "    .dataframe tbody tr th {\n",
       "        vertical-align: top;\n",
       "    }\n",
       "\n",
       "    .dataframe thead th {\n",
       "        text-align: right;\n",
       "    }\n",
       "</style>\n",
       "<table border=\"1\" class=\"dataframe\">\n",
       "  <thead>\n",
       "    <tr style=\"text-align: right;\">\n",
       "      <th></th>\n",
       "      <th>household_id</th>\n",
       "      <th>State</th>\n",
       "      <th>Employment_Income</th>\n",
       "      <th>aca_reform</th>\n",
       "      <th>Married</th>\n",
       "      <th>Num_Dependents</th>\n",
       "      <th>weight</th>\n",
       "    </tr>\n",
       "  </thead>\n",
       "  <tbody>\n",
       "    <tr>\n",
       "      <th>21655</th>\n",
       "      <td>95958</td>\n",
       "      <td>CT</td>\n",
       "      <td>586290.419922</td>\n",
       "      <td>29020.246094</td>\n",
       "      <td>1.0</td>\n",
       "      <td>0.0</td>\n",
       "      <td>0.000351</td>\n",
       "    </tr>\n",
       "    <tr>\n",
       "      <th>20926</th>\n",
       "      <td>92239</td>\n",
       "      <td>VT</td>\n",
       "      <td>169552.753906</td>\n",
       "      <td>28546.548828</td>\n",
       "      <td>1.0</td>\n",
       "      <td>2.0</td>\n",
       "      <td>2193.554443</td>\n",
       "    </tr>\n",
       "    <tr>\n",
       "      <th>16135</th>\n",
       "      <td>69304</td>\n",
       "      <td>WY</td>\n",
       "      <td>172368.441406</td>\n",
       "      <td>27582.343750</td>\n",
       "      <td>1.0</td>\n",
       "      <td>3.0</td>\n",
       "      <td>1964.266357</td>\n",
       "    </tr>\n",
       "    <tr>\n",
       "      <th>7046</th>\n",
       "      <td>25635</td>\n",
       "      <td>MO</td>\n",
       "      <td>37921.058594</td>\n",
       "      <td>27411.421875</td>\n",
       "      <td>1.0</td>\n",
       "      <td>0.0</td>\n",
       "      <td>1342.842773</td>\n",
       "    </tr>\n",
       "    <tr>\n",
       "      <th>27701</th>\n",
       "      <td>115102</td>\n",
       "      <td>MO</td>\n",
       "      <td>41373.524902</td>\n",
       "      <td>27333.187500</td>\n",
       "      <td>1.0</td>\n",
       "      <td>0.0</td>\n",
       "      <td>0.002778</td>\n",
       "    </tr>\n",
       "    <tr>\n",
       "      <th>14065</th>\n",
       "      <td>59697</td>\n",
       "      <td>OK</td>\n",
       "      <td>68947.382812</td>\n",
       "      <td>26790.708984</td>\n",
       "      <td>1.0</td>\n",
       "      <td>0.0</td>\n",
       "      <td>3511.932373</td>\n",
       "    </tr>\n",
       "    <tr>\n",
       "      <th>7058</th>\n",
       "      <td>25669</td>\n",
       "      <td>MO</td>\n",
       "      <td>0.000000</td>\n",
       "      <td>26257.669922</td>\n",
       "      <td>1.0</td>\n",
       "      <td>0.0</td>\n",
       "      <td>2463.500000</td>\n",
       "    </tr>\n",
       "    <tr>\n",
       "      <th>34720</th>\n",
       "      <td>149164</td>\n",
       "      <td>OK</td>\n",
       "      <td>76835.164062</td>\n",
       "      <td>26118.769531</td>\n",
       "      <td>1.0</td>\n",
       "      <td>0.0</td>\n",
       "      <td>0.004654</td>\n",
       "    </tr>\n",
       "    <tr>\n",
       "      <th>19738</th>\n",
       "      <td>84350</td>\n",
       "      <td>CA</td>\n",
       "      <td>88482.460938</td>\n",
       "      <td>25993.980469</td>\n",
       "      <td>1.0</td>\n",
       "      <td>0.0</td>\n",
       "      <td>334.342865</td>\n",
       "    </tr>\n",
       "    <tr>\n",
       "      <th>40316</th>\n",
       "      <td>173580</td>\n",
       "      <td>CA</td>\n",
       "      <td>102149.837891</td>\n",
       "      <td>25538.492188</td>\n",
       "      <td>1.0</td>\n",
       "      <td>0.0</td>\n",
       "      <td>0.002264</td>\n",
       "    </tr>\n",
       "  </tbody>\n",
       "</table>\n",
       "</div>"
      ],
      "text/plain": [
       "       household_id State  Employment_Income    aca_reform  Married  \\\n",
       "21655         95958    CT      586290.419922  29020.246094      1.0   \n",
       "20926         92239    VT      169552.753906  28546.548828      1.0   \n",
       "16135         69304    WY      172368.441406  27582.343750      1.0   \n",
       "7046          25635    MO       37921.058594  27411.421875      1.0   \n",
       "27701        115102    MO       41373.524902  27333.187500      1.0   \n",
       "14065         59697    OK       68947.382812  26790.708984      1.0   \n",
       "7058          25669    MO           0.000000  26257.669922      1.0   \n",
       "34720        149164    OK       76835.164062  26118.769531      1.0   \n",
       "19738         84350    CA       88482.460938  25993.980469      1.0   \n",
       "40316        173580    CA      102149.837891  25538.492188      1.0   \n",
       "\n",
       "       Num_Dependents       weight  \n",
       "21655             0.0     0.000351  \n",
       "20926             2.0  2193.554443  \n",
       "16135             3.0  1964.266357  \n",
       "7046              0.0  1342.842773  \n",
       "27701             0.0     0.002778  \n",
       "14065             0.0  3511.932373  \n",
       "7058              0.0  2463.500000  \n",
       "34720             0.0     0.004654  \n",
       "19738             0.0   334.342865  \n",
       "40316             0.0     0.002264  "
      ]
     },
     "execution_count": 21,
     "metadata": {},
     "output_type": "execute_result"
    }
   ],
   "source": [
    "# Let's continue without matplotlib\n",
    "# Add income deciles to the gained_ptc dataframe\n",
    "gained_ptc_with_income = gained_ptc.copy()\n",
    "\n",
    "# Calculate weighted income percentiles for context\n",
    "income_percentiles = np.percentile(df_outputs['Employment_Income'], [25, 50, 75, 90, 95])\n",
    "print(\"Income percentiles across all households:\")\n",
    "for i, pct in enumerate([25, 50, 75, 90, 95]):\n",
    "    print(f\"  {pct}th percentile: ${income_percentiles[i]:,.0f}\")\n",
    "\n",
    "print(\"\\n\" + \"=\"*60)\n",
    "print(\"Income distribution of households GAINING PTC under reform:\")\n",
    "print(\"=\"*60)\n",
    "print(gained_ptc_with_income['Employment_Income'].describe())\n",
    "\n",
    "print(\"\\n\" + \"=\"*60)\n",
    "print(\"Top 10 households by PTC gain (sorted by reform PTC amount):\")\n",
    "print(\"=\"*60)\n",
    "top_gainers = gained_ptc_with_income.nlargest(10, 'aca_reform')[['household_id', 'State', 'Employment_Income', 'aca_reform', 'Married', 'Num_Dependents', 'weight']]\n",
    "top_gainers"
   ]
  },
  {
   "cell_type": "code",
   "execution_count": 22,
   "id": "fbg7gtwvt09",
   "metadata": {},
   "outputs": [
    {
     "name": "stdout",
     "output_type": "stream",
     "text": [
      "Households LOSING or SEEING REDUCED PTC:\n",
      "Number of households: 0\n",
      "Weighted count: 0\n",
      "\n",
      "Average baseline PTC: $nan\n",
      "Average reform PTC: $nan\n",
      "Average loss: $nan\n",
      "\n",
      "Income distribution of households losing PTC benefits:\n",
      "count    0.0\n",
      "mean     NaN\n",
      "std      NaN\n",
      "min      NaN\n",
      "25%      NaN\n",
      "50%      NaN\n",
      "75%      NaN\n",
      "max      NaN\n",
      "Name: Employment_Income, dtype: float64\n",
      "\n",
      "Top 10 households by PTC loss:\n"
     ]
    },
    {
     "data": {
      "text/html": [
       "<div>\n",
       "<style scoped>\n",
       "    .dataframe tbody tr th:only-of-type {\n",
       "        vertical-align: middle;\n",
       "    }\n",
       "\n",
       "    .dataframe tbody tr th {\n",
       "        vertical-align: top;\n",
       "    }\n",
       "\n",
       "    .dataframe thead th {\n",
       "        text-align: right;\n",
       "    }\n",
       "</style>\n",
       "<table border=\"1\" class=\"dataframe\">\n",
       "  <thead>\n",
       "    <tr style=\"text-align: right;\">\n",
       "      <th></th>\n",
       "      <th>household_id</th>\n",
       "      <th>State</th>\n",
       "      <th>Employment_Income</th>\n",
       "      <th>aca_baseline</th>\n",
       "      <th>aca_reform</th>\n",
       "      <th>net_change</th>\n",
       "      <th>weight</th>\n",
       "    </tr>\n",
       "  </thead>\n",
       "  <tbody>\n",
       "  </tbody>\n",
       "</table>\n",
       "</div>"
      ],
      "text/plain": [
       "Empty DataFrame\n",
       "Columns: [household_id, State, Employment_Income, aca_baseline, aca_reform, net_change, weight]\n",
       "Index: []"
      ]
     },
     "execution_count": 22,
     "metadata": {},
     "output_type": "execute_result"
    }
   ],
   "source": [
    "# Now let's look at households losing PTC or seeing reduced PTC\n",
    "lost_or_reduced = df_outputs[(df_outputs['aca_baseline'] > 0) & (df_outputs['net_change'] < 0)]\n",
    "\n",
    "print(\"Households LOSING or SEEING REDUCED PTC:\")\n",
    "print(f\"Number of households: {len(lost_or_reduced)}\")\n",
    "print(f\"Weighted count: {lost_or_reduced['weight'].sum():,.0f}\")\n",
    "print(f\"\\nAverage baseline PTC: ${lost_or_reduced['aca_baseline'].mean():,.2f}\")\n",
    "print(f\"Average reform PTC: ${lost_or_reduced['aca_reform'].mean():,.2f}\")\n",
    "print(f\"Average loss: ${lost_or_reduced['net_change'].mean():,.2f}\")\n",
    "\n",
    "# Income distribution\n",
    "print(\"\\nIncome distribution of households losing PTC benefits:\")\n",
    "print(lost_or_reduced['Employment_Income'].describe())\n",
    "\n",
    "# Top losers\n",
    "print(\"\\nTop 10 households by PTC loss:\")\n",
    "top_losers = lost_or_reduced.nsmallest(10, 'net_change')[['household_id', 'State', 'Employment_Income', 'aca_baseline', 'aca_reform', 'net_change', 'weight']]\n",
    "top_losers"
   ]
  },
  {
   "cell_type": "code",
   "execution_count": 23,
   "id": "y1a0d1tqy9n",
   "metadata": {},
   "outputs": [
    {
     "name": "stdout",
     "output_type": "stream",
     "text": [
      "Households with PTC in BOTH baseline and reform:\n",
      "Number of households: 3406\n",
      "Weighted count: 11,828,817\n",
      "\n",
      "Average baseline PTC: $7,582.03\n",
      "Average reform PTC: $9,510.45\n",
      "Average change: $1,928.42\n",
      "\n",
      "Distribution of PTC changes for households with PTC in both scenarios:\n",
      "count     3406.000000\n",
      "mean      1928.417004\n",
      "std       1464.484689\n",
      "min        433.568359\n",
      "25%       1265.441895\n",
      "50%       1612.739014\n",
      "75%       2209.899292\n",
      "max      24195.677979\n",
      "Name: net_change, dtype: float64\n",
      "\n",
      "Top 10 PTC increases among households who already had PTC:\n"
     ]
    },
    {
     "data": {
      "text/html": [
       "<div>\n",
       "<style scoped>\n",
       "    .dataframe tbody tr th:only-of-type {\n",
       "        vertical-align: middle;\n",
       "    }\n",
       "\n",
       "    .dataframe tbody tr th {\n",
       "        vertical-align: top;\n",
       "    }\n",
       "\n",
       "    .dataframe thead th {\n",
       "        text-align: right;\n",
       "    }\n",
       "</style>\n",
       "<table border=\"1\" class=\"dataframe\">\n",
       "  <thead>\n",
       "    <tr style=\"text-align: right;\">\n",
       "      <th></th>\n",
       "      <th>household_id</th>\n",
       "      <th>State</th>\n",
       "      <th>Employment_Income</th>\n",
       "      <th>aca_baseline</th>\n",
       "      <th>aca_reform</th>\n",
       "      <th>net_change</th>\n",
       "      <th>weight</th>\n",
       "    </tr>\n",
       "  </thead>\n",
       "  <tbody>\n",
       "    <tr>\n",
       "      <th>25895</th>\n",
       "      <td>109280</td>\n",
       "      <td>IL</td>\n",
       "      <td>135262.814827</td>\n",
       "      <td>2166.071045</td>\n",
       "      <td>26361.749023</td>\n",
       "      <td>24195.677979</td>\n",
       "      <td>0.005656</td>\n",
       "    </tr>\n",
       "    <tr>\n",
       "      <th>21501</th>\n",
       "      <td>95388</td>\n",
       "      <td>CT</td>\n",
       "      <td>229315.603271</td>\n",
       "      <td>2461.534180</td>\n",
       "      <td>25936.906494</td>\n",
       "      <td>23475.372314</td>\n",
       "      <td>0.000415</td>\n",
       "    </tr>\n",
       "    <tr>\n",
       "      <th>20625</th>\n",
       "      <td>88926</td>\n",
       "      <td>HI</td>\n",
       "      <td>119508.789062</td>\n",
       "      <td>3365.458740</td>\n",
       "      <td>25774.730469</td>\n",
       "      <td>22409.271729</td>\n",
       "      <td>729.324707</td>\n",
       "    </tr>\n",
       "    <tr>\n",
       "      <th>6106</th>\n",
       "      <td>22572</td>\n",
       "      <td>WI</td>\n",
       "      <td>91929.835449</td>\n",
       "      <td>5390.636230</td>\n",
       "      <td>26178.041016</td>\n",
       "      <td>20787.404785</td>\n",
       "      <td>6035.339844</td>\n",
       "    </tr>\n",
       "    <tr>\n",
       "      <th>15170</th>\n",
       "      <td>63406</td>\n",
       "      <td>TX</td>\n",
       "      <td>56307.025391</td>\n",
       "      <td>3461.937988</td>\n",
       "      <td>23926.217285</td>\n",
       "      <td>20464.279297</td>\n",
       "      <td>36817.671875</td>\n",
       "    </tr>\n",
       "    <tr>\n",
       "      <th>32728</th>\n",
       "      <td>138331</td>\n",
       "      <td>KY</td>\n",
       "      <td>143819.542969</td>\n",
       "      <td>2214.557861</td>\n",
       "      <td>20885.525879</td>\n",
       "      <td>18670.968018</td>\n",
       "      <td>0.046630</td>\n",
       "    </tr>\n",
       "    <tr>\n",
       "      <th>16147</th>\n",
       "      <td>69708</td>\n",
       "      <td>WY</td>\n",
       "      <td>40219.304688</td>\n",
       "      <td>7641.085938</td>\n",
       "      <td>23462.459961</td>\n",
       "      <td>15821.374023</td>\n",
       "      <td>1604.936035</td>\n",
       "    </tr>\n",
       "    <tr>\n",
       "      <th>36802</th>\n",
       "      <td>159175</td>\n",
       "      <td>WY</td>\n",
       "      <td>322659.273438</td>\n",
       "      <td>6483.185059</td>\n",
       "      <td>22133.864258</td>\n",
       "      <td>15650.679199</td>\n",
       "      <td>1445.953613</td>\n",
       "    </tr>\n",
       "    <tr>\n",
       "      <th>20237</th>\n",
       "      <td>85992</td>\n",
       "      <td>CA</td>\n",
       "      <td>264716.572266</td>\n",
       "      <td>2762.978271</td>\n",
       "      <td>17937.049805</td>\n",
       "      <td>15174.071533</td>\n",
       "      <td>5193.151367</td>\n",
       "    </tr>\n",
       "    <tr>\n",
       "      <th>39405</th>\n",
       "      <td>170489</td>\n",
       "      <td>CA</td>\n",
       "      <td>200459.942383</td>\n",
       "      <td>3582.745850</td>\n",
       "      <td>17706.862793</td>\n",
       "      <td>14124.116943</td>\n",
       "      <td>0.002236</td>\n",
       "    </tr>\n",
       "  </tbody>\n",
       "</table>\n",
       "</div>"
      ],
      "text/plain": [
       "       household_id State  Employment_Income  aca_baseline    aca_reform  \\\n",
       "25895        109280    IL      135262.814827   2166.071045  26361.749023   \n",
       "21501         95388    CT      229315.603271   2461.534180  25936.906494   \n",
       "20625         88926    HI      119508.789062   3365.458740  25774.730469   \n",
       "6106          22572    WI       91929.835449   5390.636230  26178.041016   \n",
       "15170         63406    TX       56307.025391   3461.937988  23926.217285   \n",
       "32728        138331    KY      143819.542969   2214.557861  20885.525879   \n",
       "16147         69708    WY       40219.304688   7641.085938  23462.459961   \n",
       "36802        159175    WY      322659.273438   6483.185059  22133.864258   \n",
       "20237         85992    CA      264716.572266   2762.978271  17937.049805   \n",
       "39405        170489    CA      200459.942383   3582.745850  17706.862793   \n",
       "\n",
       "         net_change        weight  \n",
       "25895  24195.677979      0.005656  \n",
       "21501  23475.372314      0.000415  \n",
       "20625  22409.271729    729.324707  \n",
       "6106   20787.404785   6035.339844  \n",
       "15170  20464.279297  36817.671875  \n",
       "32728  18670.968018      0.046630  \n",
       "16147  15821.374023   1604.936035  \n",
       "36802  15650.679199   1445.953613  \n",
       "20237  15174.071533   5193.151367  \n",
       "39405  14124.116943      0.002236  "
      ]
     },
     "execution_count": 23,
     "metadata": {},
     "output_type": "execute_result"
    }
   ],
   "source": [
    "# Interesting - no households lose PTC! Let's look at those who keep their PTC but see changes\n",
    "kept_ptc = df_outputs[(df_outputs['aca_baseline'] > 0) & (df_outputs['aca_reform'] > 0)]\n",
    "\n",
    "print(\"Households with PTC in BOTH baseline and reform:\")\n",
    "print(f\"Number of households: {len(kept_ptc)}\")\n",
    "print(f\"Weighted count: {kept_ptc['weight'].sum():,.0f}\")\n",
    "print(f\"\\nAverage baseline PTC: ${kept_ptc['aca_baseline'].mean():,.2f}\")\n",
    "print(f\"Average reform PTC: ${kept_ptc['aca_reform'].mean():,.2f}\")\n",
    "print(f\"Average change: ${kept_ptc['net_change'].mean():,.2f}\")\n",
    "\n",
    "# Show distribution of changes\n",
    "print(\"\\nDistribution of PTC changes for households with PTC in both scenarios:\")\n",
    "print(kept_ptc['net_change'].describe())\n",
    "\n",
    "# Households with biggest increases among those who already had PTC\n",
    "print(\"\\nTop 10 PTC increases among households who already had PTC:\")\n",
    "top_increases = kept_ptc.nlargest(10, 'net_change')[['household_id', 'State', 'Employment_Income', 'aca_baseline', 'aca_reform', 'net_change', 'weight']]\n",
    "top_increases"
   ]
  },
  {
   "cell_type": "code",
   "execution_count": 24,
   "id": "7pukgyq18zt",
   "metadata": {},
   "outputs": [
    {
     "name": "stdout",
     "output_type": "stream",
     "text": [
      "======================================================================\n",
      "ANALYSIS OF THE 400% FPL CLIFF EFFECT\n",
      "======================================================================\n",
      "\n",
      "Households between 350-450% FPL: 3110\n",
      "Weighted count: 12,367,979\n",
      "\n",
      "Below 400% FPL (350-400%): 1565 households\n",
      "  Average baseline PTC: $1,110.95\n",
      "  Average reform PTC: $1,612.20\n",
      "  Average change: $501.25\n",
      "\n",
      "Above 400% FPL (400-450%): 1545 households\n",
      "  Average baseline PTC: $686.16\n",
      "  Average reform PTC: $1,385.85\n",
      "  Average change: $699.69\n",
      "\n",
      "======================================================================\n",
      "EXAMPLE HOUSEHOLDS AT THE CLIFF (395-405% FPL):\n",
      "======================================================================\n"
     ]
    },
    {
     "data": {
      "text/html": [
       "<div>\n",
       "<style scoped>\n",
       "    .dataframe tbody tr th:only-of-type {\n",
       "        vertical-align: middle;\n",
       "    }\n",
       "\n",
       "    .dataframe tbody tr th {\n",
       "        vertical-align: top;\n",
       "    }\n",
       "\n",
       "    .dataframe thead th {\n",
       "        text-align: right;\n",
       "    }\n",
       "</style>\n",
       "<table border=\"1\" class=\"dataframe\">\n",
       "  <thead>\n",
       "    <tr style=\"text-align: right;\">\n",
       "      <th></th>\n",
       "      <th>household_id</th>\n",
       "      <th>State</th>\n",
       "      <th>Employment_Income</th>\n",
       "      <th>fpl_ratio</th>\n",
       "      <th>aca_baseline</th>\n",
       "      <th>aca_reform</th>\n",
       "      <th>net_change</th>\n",
       "      <th>weight</th>\n",
       "    </tr>\n",
       "  </thead>\n",
       "  <tbody>\n",
       "    <tr>\n",
       "      <th>12</th>\n",
       "      <td>91</td>\n",
       "      <td>ME</td>\n",
       "      <td>85344.212891</td>\n",
       "      <td>403.900676</td>\n",
       "      <td>0.0</td>\n",
       "      <td>0.0</td>\n",
       "      <td>0.0</td>\n",
       "      <td>4.466252</td>\n",
       "    </tr>\n",
       "    <tr>\n",
       "      <th>61</th>\n",
       "      <td>495</td>\n",
       "      <td>ME</td>\n",
       "      <td>105351.593262</td>\n",
       "      <td>395.315547</td>\n",
       "      <td>0.0</td>\n",
       "      <td>0.0</td>\n",
       "      <td>0.0</td>\n",
       "      <td>17.447075</td>\n",
       "    </tr>\n",
       "    <tr>\n",
       "      <th>281</th>\n",
       "      <td>2971</td>\n",
       "      <td>VT</td>\n",
       "      <td>85035.097656</td>\n",
       "      <td>402.437755</td>\n",
       "      <td>0.0</td>\n",
       "      <td>0.0</td>\n",
       "      <td>0.0</td>\n",
       "      <td>332.319000</td>\n",
       "    </tr>\n",
       "    <tr>\n",
       "      <th>476</th>\n",
       "      <td>3945</td>\n",
       "      <td>MA</td>\n",
       "      <td>106868.429688</td>\n",
       "      <td>401.007241</td>\n",
       "      <td>0.0</td>\n",
       "      <td>0.0</td>\n",
       "      <td>0.0</td>\n",
       "      <td>57237.523438</td>\n",
       "    </tr>\n",
       "    <tr>\n",
       "      <th>661</th>\n",
       "      <td>4662</td>\n",
       "      <td>MA</td>\n",
       "      <td>62052.640625</td>\n",
       "      <td>398.539760</td>\n",
       "      <td>0.0</td>\n",
       "      <td>0.0</td>\n",
       "      <td>0.0</td>\n",
       "      <td>7.987278</td>\n",
       "    </tr>\n",
       "    <tr>\n",
       "      <th>806</th>\n",
       "      <td>5462</td>\n",
       "      <td>RI</td>\n",
       "      <td>106868.433594</td>\n",
       "      <td>401.007256</td>\n",
       "      <td>0.0</td>\n",
       "      <td>0.0</td>\n",
       "      <td>0.0</td>\n",
       "      <td>9386.629883</td>\n",
       "    </tr>\n",
       "    <tr>\n",
       "      <th>907</th>\n",
       "      <td>6168</td>\n",
       "      <td>CT</td>\n",
       "      <td>62052.640625</td>\n",
       "      <td>398.539760</td>\n",
       "      <td>0.0</td>\n",
       "      <td>0.0</td>\n",
       "      <td>0.0</td>\n",
       "      <td>24166.259766</td>\n",
       "    </tr>\n",
       "    <tr>\n",
       "      <th>1081</th>\n",
       "      <td>6785</td>\n",
       "      <td>NY</td>\n",
       "      <td>84344.468750</td>\n",
       "      <td>399.169279</td>\n",
       "      <td>0.0</td>\n",
       "      <td>0.0</td>\n",
       "      <td>0.0</td>\n",
       "      <td>4.944809</td>\n",
       "    </tr>\n",
       "    <tr>\n",
       "      <th>1104</th>\n",
       "      <td>6872</td>\n",
       "      <td>NY</td>\n",
       "      <td>85035.101562</td>\n",
       "      <td>402.437774</td>\n",
       "      <td>0.0</td>\n",
       "      <td>0.0</td>\n",
       "      <td>0.0</td>\n",
       "      <td>10.947828</td>\n",
       "    </tr>\n",
       "    <tr>\n",
       "      <th>1106</th>\n",
       "      <td>6874</td>\n",
       "      <td>NY</td>\n",
       "      <td>62052.640625</td>\n",
       "      <td>398.539760</td>\n",
       "      <td>0.0</td>\n",
       "      <td>0.0</td>\n",
       "      <td>0.0</td>\n",
       "      <td>4.106772</td>\n",
       "    </tr>\n",
       "  </tbody>\n",
       "</table>\n",
       "</div>"
      ],
      "text/plain": [
       "      household_id State  Employment_Income   fpl_ratio  aca_baseline  \\\n",
       "12              91    ME       85344.212891  403.900676           0.0   \n",
       "61             495    ME      105351.593262  395.315547           0.0   \n",
       "281           2971    VT       85035.097656  402.437755           0.0   \n",
       "476           3945    MA      106868.429688  401.007241           0.0   \n",
       "661           4662    MA       62052.640625  398.539760           0.0   \n",
       "806           5462    RI      106868.433594  401.007256           0.0   \n",
       "907           6168    CT       62052.640625  398.539760           0.0   \n",
       "1081          6785    NY       84344.468750  399.169279           0.0   \n",
       "1104          6872    NY       85035.101562  402.437774           0.0   \n",
       "1106          6874    NY       62052.640625  398.539760           0.0   \n",
       "\n",
       "      aca_reform  net_change        weight  \n",
       "12           0.0         0.0      4.466252  \n",
       "61           0.0         0.0     17.447075  \n",
       "281          0.0         0.0    332.319000  \n",
       "476          0.0         0.0  57237.523438  \n",
       "661          0.0         0.0      7.987278  \n",
       "806          0.0         0.0   9386.629883  \n",
       "907          0.0         0.0  24166.259766  \n",
       "1081         0.0         0.0      4.944809  \n",
       "1104         0.0         0.0     10.947828  \n",
       "1106         0.0         0.0      4.106772  "
      ]
     },
     "execution_count": 24,
     "metadata": {},
     "output_type": "execute_result"
    }
   ],
   "source": [
    "# Let's calculate approximate FPL levels for households to understand where they fall\n",
    "# 2026 FPL estimates (rough approximations based on current trends)\n",
    "fpl_2026 = {\n",
    "    1: 15570,   # Single person\n",
    "    2: 21130,   # Couple\n",
    "    3: 26650,   # Family of 3\n",
    "    4: 32200,   # Family of 4\n",
    "    5: 37750,   # Family of 5\n",
    "    6: 43300,   # Family of 6\n",
    "    7: 48850,   # Family of 7\n",
    "    8: 54400,   # Family of 8\n",
    "}\n",
    "\n",
    "# Calculate household size and FPL ratio\n",
    "df_outputs['household_size'] = 2 + df_outputs['Num_Dependents']  # Assuming married couples or singles with deps\n",
    "df_outputs['household_size'] = df_outputs.apply(\n",
    "    lambda row: (1 + row['Married'] + row['Num_Dependents']) if not pd.isna(row['Married']) else 1,\n",
    "    axis=1\n",
    ")\n",
    "\n",
    "# Map FPL based on household size\n",
    "df_outputs['fpl_threshold'] = df_outputs['household_size'].map(lambda x: fpl_2026.get(min(int(x), 8), 54400))\n",
    "df_outputs['fpl_ratio'] = (df_outputs['Employment_Income'] / df_outputs['fpl_threshold']) * 100\n",
    "\n",
    "# Now let's analyze the cliff effect around 400% FPL\n",
    "print(\"=\"*70)\n",
    "print(\"ANALYSIS OF THE 400% FPL CLIFF EFFECT\")\n",
    "print(\"=\"*70)\n",
    "\n",
    "# Households just below and above 400% FPL\n",
    "near_cliff = df_outputs[(df_outputs['fpl_ratio'] >= 350) & (df_outputs['fpl_ratio'] <= 450)]\n",
    "print(f\"\\nHouseholds between 350-450% FPL: {len(near_cliff)}\")\n",
    "print(f\"Weighted count: {near_cliff['weight'].sum():,.0f}\")\n",
    "\n",
    "# Split by those above and below 400% FPL\n",
    "below_400 = near_cliff[near_cliff['fpl_ratio'] <= 400]\n",
    "above_400 = near_cliff[near_cliff['fpl_ratio'] > 400]\n",
    "\n",
    "print(f\"\\nBelow 400% FPL (350-400%): {len(below_400)} households\")\n",
    "print(f\"  Average baseline PTC: ${below_400['aca_baseline'].mean():,.2f}\")\n",
    "print(f\"  Average reform PTC: ${below_400['aca_reform'].mean():,.2f}\")\n",
    "print(f\"  Average change: ${below_400['net_change'].mean():,.2f}\")\n",
    "\n",
    "print(f\"\\nAbove 400% FPL (400-450%): {len(above_400)} households\")\n",
    "print(f\"  Average baseline PTC: ${above_400['aca_baseline'].mean():,.2f}\")\n",
    "print(f\"  Average reform PTC: ${above_400['aca_reform'].mean():,.2f}\")\n",
    "print(f\"  Average change: ${above_400['net_change'].mean():,.2f}\")\n",
    "\n",
    "# Show some examples\n",
    "print(\"\\n\" + \"=\"*70)\n",
    "print(\"EXAMPLE HOUSEHOLDS AT THE CLIFF (395-405% FPL):\")\n",
    "print(\"=\"*70)\n",
    "cliff_examples = df_outputs[(df_outputs['fpl_ratio'] >= 395) & (df_outputs['fpl_ratio'] <= 405)]\n",
    "cliff_examples_display = cliff_examples[['household_id', 'State', 'Employment_Income', 'fpl_ratio', \n",
    "                                         'aca_baseline', 'aca_reform', 'net_change', 'weight']].head(10)\n",
    "cliff_examples_display"
   ]
  },
  {
   "cell_type": "code",
   "execution_count": 25,
   "id": "hmhah1unlwn",
   "metadata": {},
   "outputs": [
    {
     "ename": "ValueError",
     "evalue": "Bin labels must be one fewer than the number of bin edges",
     "output_type": "error",
     "traceback": [
      "\u001b[0;31m---------------------------------------------------------------------------\u001b[0m",
      "\u001b[0;31mValueError\u001b[0m                                Traceback (most recent call last)",
      "Cell \u001b[0;32mIn[25], line 3\u001b[0m\n\u001b[1;32m      1\u001b[0m \u001b[38;5;66;03m# Let's look more specifically at the income deciles to see where the cliff effect shows up\u001b[39;00m\n\u001b[1;32m      2\u001b[0m \u001b[38;5;66;03m# Calculate income deciles\u001b[39;00m\n\u001b[0;32m----> 3\u001b[0m df_outputs[\u001b[38;5;124m'\u001b[39m\u001b[38;5;124mincome_decile\u001b[39m\u001b[38;5;124m'\u001b[39m] \u001b[38;5;241m=\u001b[39m \u001b[43mpd\u001b[49m\u001b[38;5;241;43m.\u001b[39;49m\u001b[43mqcut\u001b[49m\u001b[43m(\u001b[49m\u001b[43mdf_outputs\u001b[49m\u001b[43m[\u001b[49m\u001b[38;5;124;43m'\u001b[39;49m\u001b[38;5;124;43mEmployment_Income\u001b[39;49m\u001b[38;5;124;43m'\u001b[39;49m\u001b[43m]\u001b[49m\u001b[43m,\u001b[49m\u001b[43m \u001b[49m\u001b[38;5;241;43m10\u001b[39;49m\u001b[43m,\u001b[49m\u001b[43m \u001b[49m\u001b[43mlabels\u001b[49m\u001b[38;5;241;43m=\u001b[39;49m\u001b[38;5;28;43mrange\u001b[39;49m\u001b[43m(\u001b[49m\u001b[38;5;241;43m1\u001b[39;49m\u001b[43m,\u001b[49m\u001b[43m \u001b[49m\u001b[38;5;241;43m11\u001b[39;49m\u001b[43m)\u001b[49m\u001b[43m,\u001b[49m\u001b[43m \u001b[49m\u001b[43mduplicates\u001b[49m\u001b[38;5;241;43m=\u001b[39;49m\u001b[38;5;124;43m'\u001b[39;49m\u001b[38;5;124;43mdrop\u001b[39;49m\u001b[38;5;124;43m'\u001b[39;49m\u001b[43m)\u001b[49m\n\u001b[1;32m      5\u001b[0m \u001b[38;5;66;03m# Group by decile and show the effect\u001b[39;00m\n\u001b[1;32m      6\u001b[0m decile_analysis \u001b[38;5;241m=\u001b[39m df_outputs\u001b[38;5;241m.\u001b[39mgroupby(\u001b[38;5;124m'\u001b[39m\u001b[38;5;124mincome_decile\u001b[39m\u001b[38;5;124m'\u001b[39m)\u001b[38;5;241m.\u001b[39magg({\n\u001b[1;32m      7\u001b[0m     \u001b[38;5;124m'\u001b[39m\u001b[38;5;124mEmployment_Income\u001b[39m\u001b[38;5;124m'\u001b[39m: [\u001b[38;5;124m'\u001b[39m\u001b[38;5;124mmin\u001b[39m\u001b[38;5;124m'\u001b[39m, \u001b[38;5;124m'\u001b[39m\u001b[38;5;124mmax\u001b[39m\u001b[38;5;124m'\u001b[39m, \u001b[38;5;124m'\u001b[39m\u001b[38;5;124mmean\u001b[39m\u001b[38;5;124m'\u001b[39m],\n\u001b[1;32m      8\u001b[0m     \u001b[38;5;124m'\u001b[39m\u001b[38;5;124mfpl_ratio\u001b[39m\u001b[38;5;124m'\u001b[39m: \u001b[38;5;124m'\u001b[39m\u001b[38;5;124mmean\u001b[39m\u001b[38;5;124m'\u001b[39m,\n\u001b[0;32m   (...)\u001b[0m\n\u001b[1;32m     12\u001b[0m     \u001b[38;5;124m'\u001b[39m\u001b[38;5;124mweight\u001b[39m\u001b[38;5;124m'\u001b[39m: \u001b[38;5;124m'\u001b[39m\u001b[38;5;124msum\u001b[39m\u001b[38;5;124m'\u001b[39m\n\u001b[1;32m     13\u001b[0m })\u001b[38;5;241m.\u001b[39mround(\u001b[38;5;241m2\u001b[39m)\n",
      "File \u001b[0;32m~/miniconda3/envs/policyengine/lib/python3.10/site-packages/pandas/core/reshape/tile.py:340\u001b[0m, in \u001b[0;36mqcut\u001b[0;34m(x, q, labels, retbins, precision, duplicates)\u001b[0m\n\u001b[1;32m    336\u001b[0m quantiles \u001b[38;5;241m=\u001b[39m np\u001b[38;5;241m.\u001b[39mlinspace(\u001b[38;5;241m0\u001b[39m, \u001b[38;5;241m1\u001b[39m, q \u001b[38;5;241m+\u001b[39m \u001b[38;5;241m1\u001b[39m) \u001b[38;5;28;01mif\u001b[39;00m is_integer(q) \u001b[38;5;28;01melse\u001b[39;00m q\n\u001b[1;32m    338\u001b[0m bins \u001b[38;5;241m=\u001b[39m x_idx\u001b[38;5;241m.\u001b[39mto_series()\u001b[38;5;241m.\u001b[39mdropna()\u001b[38;5;241m.\u001b[39mquantile(quantiles)\n\u001b[0;32m--> 340\u001b[0m fac, bins \u001b[38;5;241m=\u001b[39m \u001b[43m_bins_to_cuts\u001b[49m\u001b[43m(\u001b[49m\n\u001b[1;32m    341\u001b[0m \u001b[43m    \u001b[49m\u001b[43mx_idx\u001b[49m\u001b[43m,\u001b[49m\n\u001b[1;32m    342\u001b[0m \u001b[43m    \u001b[49m\u001b[43mIndex\u001b[49m\u001b[43m(\u001b[49m\u001b[43mbins\u001b[49m\u001b[43m)\u001b[49m\u001b[43m,\u001b[49m\n\u001b[1;32m    343\u001b[0m \u001b[43m    \u001b[49m\u001b[43mlabels\u001b[49m\u001b[38;5;241;43m=\u001b[39;49m\u001b[43mlabels\u001b[49m\u001b[43m,\u001b[49m\n\u001b[1;32m    344\u001b[0m \u001b[43m    \u001b[49m\u001b[43mprecision\u001b[49m\u001b[38;5;241;43m=\u001b[39;49m\u001b[43mprecision\u001b[49m\u001b[43m,\u001b[49m\n\u001b[1;32m    345\u001b[0m \u001b[43m    \u001b[49m\u001b[43minclude_lowest\u001b[49m\u001b[38;5;241;43m=\u001b[39;49m\u001b[38;5;28;43;01mTrue\u001b[39;49;00m\u001b[43m,\u001b[49m\n\u001b[1;32m    346\u001b[0m \u001b[43m    \u001b[49m\u001b[43mduplicates\u001b[49m\u001b[38;5;241;43m=\u001b[39;49m\u001b[43mduplicates\u001b[49m\u001b[43m,\u001b[49m\n\u001b[1;32m    347\u001b[0m \u001b[43m\u001b[49m\u001b[43m)\u001b[49m\n\u001b[1;32m    349\u001b[0m \u001b[38;5;28;01mreturn\u001b[39;00m _postprocess_for_cut(fac, bins, retbins, original)\n",
      "File \u001b[0;32m~/miniconda3/envs/policyengine/lib/python3.10/site-packages/pandas/core/reshape/tile.py:493\u001b[0m, in \u001b[0;36m_bins_to_cuts\u001b[0;34m(x_idx, bins, right, labels, precision, include_lowest, duplicates, ordered)\u001b[0m\n\u001b[1;32m    491\u001b[0m \u001b[38;5;28;01melse\u001b[39;00m:\n\u001b[1;32m    492\u001b[0m     \u001b[38;5;28;01mif\u001b[39;00m \u001b[38;5;28mlen\u001b[39m(labels) \u001b[38;5;241m!=\u001b[39m \u001b[38;5;28mlen\u001b[39m(bins) \u001b[38;5;241m-\u001b[39m \u001b[38;5;241m1\u001b[39m:\n\u001b[0;32m--> 493\u001b[0m         \u001b[38;5;28;01mraise\u001b[39;00m \u001b[38;5;167;01mValueError\u001b[39;00m(\n\u001b[1;32m    494\u001b[0m             \u001b[38;5;124m\"\u001b[39m\u001b[38;5;124mBin labels must be one fewer than the number of bin edges\u001b[39m\u001b[38;5;124m\"\u001b[39m\n\u001b[1;32m    495\u001b[0m         )\n\u001b[1;32m    497\u001b[0m \u001b[38;5;28;01mif\u001b[39;00m \u001b[38;5;129;01mnot\u001b[39;00m \u001b[38;5;28misinstance\u001b[39m(\u001b[38;5;28mgetattr\u001b[39m(labels, \u001b[38;5;124m\"\u001b[39m\u001b[38;5;124mdtype\u001b[39m\u001b[38;5;124m\"\u001b[39m, \u001b[38;5;28;01mNone\u001b[39;00m), CategoricalDtype):\n\u001b[1;32m    498\u001b[0m     labels \u001b[38;5;241m=\u001b[39m Categorical(\n\u001b[1;32m    499\u001b[0m         labels,\n\u001b[1;32m    500\u001b[0m         categories\u001b[38;5;241m=\u001b[39mlabels \u001b[38;5;28;01mif\u001b[39;00m \u001b[38;5;28mlen\u001b[39m(\u001b[38;5;28mset\u001b[39m(labels)) \u001b[38;5;241m==\u001b[39m \u001b[38;5;28mlen\u001b[39m(labels) \u001b[38;5;28;01melse\u001b[39;00m \u001b[38;5;28;01mNone\u001b[39;00m,\n\u001b[1;32m    501\u001b[0m         ordered\u001b[38;5;241m=\u001b[39mordered,\n\u001b[1;32m    502\u001b[0m     )\n",
      "\u001b[0;31mValueError\u001b[0m: Bin labels must be one fewer than the number of bin edges"
     ]
    }
   ],
   "source": [
    "# Let's look more specifically at the income deciles to see where the cliff effect shows up\n",
    "# Calculate income deciles\n",
    "df_outputs['income_decile'] = pd.qcut(df_outputs['Employment_Income'], 10, labels=range(1, 11), duplicates='drop')\n",
    "\n",
    "# Group by decile and show the effect\n",
    "decile_analysis = df_outputs.groupby('income_decile').agg({\n",
    "    'Employment_Income': ['min', 'max', 'mean'],\n",
    "    'fpl_ratio': 'mean',\n",
    "    'aca_baseline': 'mean',\n",
    "    'aca_reform': 'mean',\n",
    "    'net_change': 'mean',\n",
    "    'weight': 'sum'\n",
    "}).round(2)\n",
    "\n",
    "print(\"=\"*70)\n",
    "print(\"PTC EFFECTS BY INCOME DECILE\")\n",
    "print(\"=\"*70)\n",
    "print(\"\\nIncome ranges and average PTC changes by decile:\")\n",
    "decile_analysis"
   ]
  },
  {
   "cell_type": "code",
   "execution_count": 25,
   "id": "w09m1i1mc5q",
   "metadata": {},
   "outputs": [
    {
     "name": "stdout",
     "output_type": "stream",
     "text": [
      "======================================================================\n",
      "PTC EFFECTS BY INCOME DECILE\n",
      "======================================================================\n",
      "\n",
      "Income ranges and average PTC changes by decile:\n"
     ]
    },
    {
     "data": {
      "text/html": [
       "<div>\n",
       "<style scoped>\n",
       "    .dataframe tbody tr th:only-of-type {\n",
       "        vertical-align: middle;\n",
       "    }\n",
       "\n",
       "    .dataframe tbody tr th {\n",
       "        vertical-align: top;\n",
       "    }\n",
       "\n",
       "    .dataframe thead tr th {\n",
       "        text-align: left;\n",
       "    }\n",
       "\n",
       "    .dataframe thead tr:last-of-type th {\n",
       "        text-align: right;\n",
       "    }\n",
       "</style>\n",
       "<table border=\"1\" class=\"dataframe\">\n",
       "  <thead>\n",
       "    <tr>\n",
       "      <th></th>\n",
       "      <th colspan=\"3\" halign=\"left\">Employment_Income</th>\n",
       "      <th>fpl_ratio</th>\n",
       "      <th>aca_baseline</th>\n",
       "      <th>aca_reform</th>\n",
       "      <th>net_change</th>\n",
       "      <th>weight</th>\n",
       "    </tr>\n",
       "    <tr>\n",
       "      <th></th>\n",
       "      <th>min</th>\n",
       "      <th>max</th>\n",
       "      <th>mean</th>\n",
       "      <th>mean</th>\n",
       "      <th>mean</th>\n",
       "      <th>mean</th>\n",
       "      <th>mean</th>\n",
       "      <th>sum</th>\n",
       "    </tr>\n",
       "    <tr>\n",
       "      <th>decile_num</th>\n",
       "      <th></th>\n",
       "      <th></th>\n",
       "      <th></th>\n",
       "      <th></th>\n",
       "      <th></th>\n",
       "      <th></th>\n",
       "      <th></th>\n",
       "      <th></th>\n",
       "    </tr>\n",
       "  </thead>\n",
       "  <tbody>\n",
       "    <tr>\n",
       "      <th>1</th>\n",
       "      <td>0.00</td>\n",
       "      <td>22082.70</td>\n",
       "      <td>3081.23</td>\n",
       "      <td>16.50</td>\n",
       "      <td>481.01</td>\n",
       "      <td>618.01</td>\n",
       "      <td>136.99</td>\n",
       "      <td>56060974.39</td>\n",
       "    </tr>\n",
       "    <tr>\n",
       "      <th>2</th>\n",
       "      <td>22096.56</td>\n",
       "      <td>40219.30</td>\n",
       "      <td>31811.30</td>\n",
       "      <td>167.52</td>\n",
       "      <td>1638.77</td>\n",
       "      <td>1989.05</td>\n",
       "      <td>350.27</td>\n",
       "      <td>18267145.22</td>\n",
       "    </tr>\n",
       "    <tr>\n",
       "      <th>3</th>\n",
       "      <td>40220.45</td>\n",
       "      <td>59168.34</td>\n",
       "      <td>50102.24</td>\n",
       "      <td>254.53</td>\n",
       "      <td>1575.92</td>\n",
       "      <td>2062.44</td>\n",
       "      <td>486.52</td>\n",
       "      <td>13547056.92</td>\n",
       "    </tr>\n",
       "    <tr>\n",
       "      <th>4</th>\n",
       "      <td>59179.83</td>\n",
       "      <td>80438.61</td>\n",
       "      <td>69904.57</td>\n",
       "      <td>343.95</td>\n",
       "      <td>1437.25</td>\n",
       "      <td>2029.91</td>\n",
       "      <td>592.66</td>\n",
       "      <td>12499143.93</td>\n",
       "    </tr>\n",
       "    <tr>\n",
       "      <th>5</th>\n",
       "      <td>80438.61</td>\n",
       "      <td>106574.53</td>\n",
       "      <td>93253.97</td>\n",
       "      <td>434.80</td>\n",
       "      <td>1303.70</td>\n",
       "      <td>2060.30</td>\n",
       "      <td>756.60</td>\n",
       "      <td>11057517.34</td>\n",
       "    </tr>\n",
       "    <tr>\n",
       "      <th>6</th>\n",
       "      <td>106597.34</td>\n",
       "      <td>142491.25</td>\n",
       "      <td>122908.07</td>\n",
       "      <td>554.42</td>\n",
       "      <td>816.63</td>\n",
       "      <td>1518.36</td>\n",
       "      <td>701.72</td>\n",
       "      <td>13853349.38</td>\n",
       "    </tr>\n",
       "    <tr>\n",
       "      <th>7</th>\n",
       "      <td>142491.25</td>\n",
       "      <td>205693.01</td>\n",
       "      <td>169652.75</td>\n",
       "      <td>727.25</td>\n",
       "      <td>489.02</td>\n",
       "      <td>1177.16</td>\n",
       "      <td>688.14</td>\n",
       "      <td>10689611.79</td>\n",
       "    </tr>\n",
       "    <tr>\n",
       "      <th>8</th>\n",
       "      <td>205693.02</td>\n",
       "      <td>3305428.97</td>\n",
       "      <td>382158.51</td>\n",
       "      <td>1548.38</td>\n",
       "      <td>210.36</td>\n",
       "      <td>482.04</td>\n",
       "      <td>271.67</td>\n",
       "      <td>11524346.53</td>\n",
       "    </tr>\n",
       "  </tbody>\n",
       "</table>\n",
       "</div>"
      ],
      "text/plain": [
       "           Employment_Income                        fpl_ratio aca_baseline  \\\n",
       "                         min         max       mean      mean         mean   \n",
       "decile_num                                                                   \n",
       "1                       0.00    22082.70    3081.23     16.50       481.01   \n",
       "2                   22096.56    40219.30   31811.30    167.52      1638.77   \n",
       "3                   40220.45    59168.34   50102.24    254.53      1575.92   \n",
       "4                   59179.83    80438.61   69904.57    343.95      1437.25   \n",
       "5                   80438.61   106574.53   93253.97    434.80      1303.70   \n",
       "6                  106597.34   142491.25  122908.07    554.42       816.63   \n",
       "7                  142491.25   205693.01  169652.75    727.25       489.02   \n",
       "8                  205693.02  3305428.97  382158.51   1548.38       210.36   \n",
       "\n",
       "           aca_reform net_change       weight  \n",
       "                 mean       mean          sum  \n",
       "decile_num                                     \n",
       "1              618.01     136.99  56060974.39  \n",
       "2             1989.05     350.27  18267145.22  \n",
       "3             2062.44     486.52  13547056.92  \n",
       "4             2029.91     592.66  12499143.93  \n",
       "5             2060.30     756.60  11057517.34  \n",
       "6             1518.36     701.72  13853349.38  \n",
       "7             1177.16     688.14  10689611.79  \n",
       "8              482.04     271.67  11524346.53  "
      ]
     },
     "execution_count": 25,
     "metadata": {},
     "output_type": "execute_result"
    }
   ],
   "source": [
    "# Fix the decile calculation\n",
    "# Calculate income deciles without explicit labels to avoid the error\n",
    "df_outputs['income_decile'] = pd.qcut(df_outputs['Employment_Income'], 10, duplicates='drop')\n",
    "\n",
    "# Get unique deciles and sort them\n",
    "deciles = sorted(df_outputs['income_decile'].unique())\n",
    "\n",
    "# Create a mapping to simpler labels\n",
    "decile_map = {d: i+1 for i, d in enumerate(deciles)}\n",
    "df_outputs['decile_num'] = df_outputs['income_decile'].map(decile_map)\n",
    "\n",
    "# Group by decile and show the effect\n",
    "decile_analysis = df_outputs.groupby('decile_num').agg({\n",
    "    'Employment_Income': ['min', 'max', 'mean'],\n",
    "    'fpl_ratio': 'mean',\n",
    "    'aca_baseline': 'mean',\n",
    "    'aca_reform': 'mean',\n",
    "    'net_change': 'mean',\n",
    "    'weight': 'sum'\n",
    "}).round(2)\n",
    "\n",
    "print(\"=\"*70)\n",
    "print(\"PTC EFFECTS BY INCOME DECILE\")\n",
    "print(\"=\"*70)\n",
    "print(\"\\nIncome ranges and average PTC changes by decile:\")\n",
    "decile_analysis"
   ]
  },
  {
   "cell_type": "code",
   "execution_count": null,
   "id": "fbfun838g2",
   "metadata": {},
   "outputs": [],
   "source": [
    "# Let's look at where in the data the 9th decile falls (the one from the chart)\n",
    "# Since we only have 8 groups due to duplicates being dropped, let's recalculate properly\n",
    "\n",
    "# First, let's understand the actual income distribution better\n",
    "print(\"=\"*70)\n",
    "print(\"UNDERSTANDING THE 9TH DECILE CONCENTRATION\")\n",
    "print(\"=\"*70)\n",
    "\n",
    "# Get percentiles to understand income distribution\n",
    "percentiles = [10, 20, 30, 40, 50, 60, 70, 80, 90, 95, 99]\n",
    "income_pcts = np.percentile(df_outputs['Employment_Income'], percentiles)\n",
    "\n",
    "print(\"\\nIncome distribution percentiles:\")\n",
    "for p, val in zip(percentiles, income_pcts):\n",
    "    print(f\"  {p}th percentile: ${val:,.0f}\")\n",
    "\n",
    "# The 9th decile should be roughly between 80th and 90th percentile\n",
    "ninth_decile = df_outputs[(df_outputs['Employment_Income'] >= income_pcts[7]) & \n",
    "                          (df_outputs['Employment_Income'] < income_pcts[8])]\n",
    "\n",
    "print(f\"\\n9th Decile (80-90th percentile):\")\n",
    "print(f\"  Income range: ${income_pcts[7]:,.0f} - ${income_pcts[8]:,.0f}\")\n",
    "print(f\"  Number of households: {len(ninth_decile)}\")\n",
    "print(f\"  Weighted count: {ninth_decile['weight'].sum():,.0f}\")\n",
    "print(f\"  Average FPL ratio: {ninth_decile['fpl_ratio'].mean():.1f}%\")\n",
    "print(f\"  Average baseline PTC: ${ninth_decile['aca_baseline'].mean():,.2f}\")\n",
    "print(f\"  Average reform PTC: ${ninth_decile['aca_reform'].mean():,.2f}\")\n",
    "print(f\"  Average change: ${ninth_decile['net_change'].mean():,.2f}\")\n",
    "\n",
    "# Now let's see WHO specifically gains in the 9th decile\n",
    "ninth_decile_gainers = ninth_decile[ninth_decile['net_change'] > 100]  # Gains more than $100\n",
    "\n",
    "print(f\"\\nHouseholds in 9th decile with gains > $100:\")\n",
    "print(f\"  Count: {len(ninth_decile_gainers)}\")\n",
    "print(f\"  Average income: ${ninth_decile_gainers['Employment_Income'].mean():,.0f}\")\n",
    "print(f\"  Average FPL ratio: {ninth_decile_gainers['fpl_ratio'].mean():.1f}%\")\n",
    "print(f\"  Average gain: ${ninth_decile_gainers['net_change'].mean():,.2f}\")\n",
    "\n",
    "# Look at specific examples\n",
    "print(\"\\nExample households in 9th decile with large gains:\")\n",
    "examples = ninth_decile_gainers.nlargest(5, 'net_change')[\n",
    "    ['household_id', 'State', 'Employment_Income', 'fpl_ratio', \n",
    "     'aca_baseline', 'aca_reform', 'net_change', 'Married', 'Num_Dependents']\n",
    "]\n",
    "examples"
   ]
  },
  {
   "cell_type": "code",
   "execution_count": 26,
   "id": "inz803s5rlm",
   "metadata": {},
   "outputs": [
    {
     "name": "stdout",
     "output_type": "stream",
     "text": [
      "Checking available variables:\n",
      "df_outputs exists: True\n",
      "df_outputs shape: (21607, 14)\n",
      "Columns: ['household_id', 'State', 'Married', 'Num_Dependents', 'Employment_Income', 'aca_baseline', 'aca_reform', 'weight', 'net_change', 'household_size', 'fpl_threshold', 'fpl_ratio', 'income_decile', 'decile_num']\n"
     ]
    }
   ],
   "source": [
    "# Check if the dataframe exists and has the needed columns\n",
    "print(\"Checking available variables:\")\n",
    "print(f\"df_outputs exists: {'df_outputs' in locals()}\")\n",
    "if 'df_outputs' in locals():\n",
    "    print(f\"df_outputs shape: {df_outputs.shape}\")\n",
    "    print(f\"Columns: {list(df_outputs.columns)}\")"
   ]
  },
  {
   "cell_type": "code",
   "execution_count": null,
   "id": "qhtylcg4wz",
   "metadata": {},
   "outputs": [],
   "source": [
    "# Understanding the 9th decile concentration\n",
    "import numpy as np\n",
    "\n",
    "# Get percentiles to understand income distribution\n",
    "percentiles = [10, 20, 30, 40, 50, 60, 70, 80, 90, 95, 99]\n",
    "income_pcts = np.percentile(df_outputs['Employment_Income'], percentiles)\n",
    "\n",
    "print(\"=\"*70)\n",
    "print(\"UNDERSTANDING THE 9TH DECILE CONCENTRATION\")\n",
    "print(\"=\"*70)\n",
    "print(\"\\nIncome distribution percentiles:\")\n",
    "for p, val in zip(percentiles, income_pcts):\n",
    "    print(f\"  {p}th percentile: ${val:,.0f}\")"
   ]
  }
 ],
 "metadata": {
  "kernelspec": {
   "display_name": "policyengine",
   "language": "python",
   "name": "python3"
  },
  "language_info": {
   "codemirror_mode": {
    "name": "ipython",
    "version": 3
   },
   "file_extension": ".py",
   "mimetype": "text/x-python",
   "name": "python",
   "nbconvert_exporter": "python",
   "pygments_lexer": "ipython3",
   "version": "3.10.16"
  }
 },
 "nbformat": 4,
 "nbformat_minor": 2
}
