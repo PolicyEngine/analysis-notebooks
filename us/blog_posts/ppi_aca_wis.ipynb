{
 "cells": [
  {
   "cell_type": "code",
   "execution_count": 13,
   "id": "cell-0",
   "metadata": {},
   "outputs": [],
   "source": [
    "from policyengine_us import Simulation\n",
    "from policyengine_core.reforms import Reform\n",
    "import numpy as np\n",
    "import plotly.graph_objects as go\n",
    "from plotly.subplots import make_subplots\n",
    "from policyengine_core.charts import format_fig"
   ]
  },
  {
   "cell_type": "code",
   "execution_count": 14,
   "id": "cell-1",
   "metadata": {},
   "outputs": [],
   "source": [
    "reform = Reform.from_dict(\n",
    "    {\n",
    "        \"gov.contrib.aca.ptc_additional_bracket.in_effect\": {\n",
    "            \"2026-01-01.2100-12-31\": True\n",
    "        }\n",
    "    },\n",
    "    country_id=\"us\",\n",
    ")\n",
    "\n",
    "reform2 = Reform.from_dict(\n",
    "    {\n",
    "        \"gov.contrib.aca.ptc_simplified_bracket.in_effect\": {\n",
    "            \"2026-01-01.2100-12-31\": True\n",
    "        }\n",
    "    },\n",
    "    country_id=\"us\",\n",
    ")\n",
    "\n",
    "reform3 = Reform.from_dict({\n",
    "  \"gov.aca.ptc_phase_out_rate[0].amount\": {\n",
    "    \"2026-01-01.2100-12-31\": 0\n",
    "  },\n",
    "  \"gov.aca.ptc_phase_out_rate[1].amount\": {\n",
    "    \"2025-01-01.2100-12-31\": 0\n",
    "  },\n",
    "  \"gov.aca.ptc_phase_out_rate[2].amount\": {\n",
    "    \"2026-01-01.2100-12-31\": 0\n",
    "  },\n",
    "  \"gov.aca.ptc_phase_out_rate[3].amount\": {\n",
    "    \"2026-01-01.2100-12-31\": 0.02\n",
    "  },\n",
    "  \"gov.aca.ptc_phase_out_rate[4].amount\": {\n",
    "    \"2026-01-01.2100-12-31\": 0.04\n",
    "  },\n",
    "  \"gov.aca.ptc_phase_out_rate[5].amount\": {\n",
    "    \"2026-01-01.2100-12-31\": 0.06\n",
    "  },\n",
    "  \"gov.aca.ptc_phase_out_rate[6].amount\": {\n",
    "    \"2026-01-01.2100-12-31\": 0.085\n",
    "  },\n",
    "  \"gov.aca.ptc_income_eligibility[2].amount\": {\n",
    "    \"2026-01-01.2100-12-31\": True\n",
    "  }\n",
    "}, country_id=\"us\")\n"
   ]
  },
  {
   "cell_type": "code",
   "execution_count": null,
   "id": "cell-2",
   "metadata": {},
   "outputs": [],
   "source": "situation_wisconsin = {\n  \"people\": {\n    \"parent\": {\n      \"age\": {\n        \"2026\": 27\n      }\n    },\n    \"child\": {\n      \"age\": {\n        \"2026\": 3\n      }\n    }\n  },\n  \"families\": {\n    \"your family\": {\n      \"members\": [\n        \"parent\",\n        \"child\"\n      ]\n    }\n  },\n  \"spm_units\": {\n    \"your household\": {\n      \"members\": [\n        \"parent\",\n        \"child\"\n      ]\n    }\n  },\n  \"tax_units\": {\n    \"your tax unit\": {\n      \"members\": [\n        \"parent\",\n        \"child\"\n      ]\n    }\n  },\n  \"households\": {\n    \"your household\": {\n      \"members\": [\n        \"parent\",\n        \"child\"\n      ],\n      \"state_name\": {\n        \"2026\": \"WI\"\n      },\n      \"county_fips\": {\n        \"2026\": \"55079\"\n      }\n    }\n  },\n  \"marital_units\": {\n    \"parent marital unit\": {\n      \"members\": [\n        \"parent\"\n      ]\n    }\n  },\n  \"axes\": [\n    [\n      {\n        \"name\": \"employment_income\",\n        \"count\": 800,\n        \"min\": 0,\n        \"max\": 400000\n      }\n    ]\n  ]\n}"
  },
  {
   "cell_type": "code",
   "execution_count": null,
   "id": "cell-3",
   "metadata": {},
   "outputs": [],
   "source": "simulation_wisconsin = Simulation(\n    situation=situation_wisconsin,\n)\nreformed_simulation_wisconsin = Simulation(\n    situation=situation_wisconsin,\n    reform=reform,\n)\nreformed_simulation_wisconsin2 = Simulation(\n    situation=situation_wisconsin,\n    reform=reform2,\n)\nreformed_simulation_wisconsin3 = Simulation(\n    situation=situation_wisconsin,\n    reform=reform3,\n)"
  },
  {
   "cell_type": "code",
   "execution_count": null,
   "id": "cell-4",
   "metadata": {},
   "outputs": [],
   "source": "import copy\nimport pandas as pd\nfrom policyengine_us import Simulation\n\nPERIOD = 2026\n\n# ------------------------------------------------------------------\n# Helper: get the tax unit's 2026 FPG from the situation\n# ------------------------------------------------------------------\ndef get_tax_unit_fpg(base_situation: dict, period=PERIOD) -> float:\n    \"\"\"Return the tax unit FPG for the given situation/year (first tax unit).\"\"\"\n    sit = copy.deepcopy(base_situation)\n    sit.pop(\"axes\", None)\n\n    # Ensure income isn't interfering (FPG shouldn't depend on income, but be safe)\n    for person in sit[\"people\"].values():\n        person.setdefault(\"employment_income\", {})\n        person[\"employment_income\"][str(period)] = 0\n\n    sim = Simulation(situation=sit)\n    fpg = sim.calculate(\"tax_unit_fpg\", map_to=\"tax_unit\", period=period)[0]\n    return float(fpg)\n\n# ------------------------------------------------------------------\n# 1) Convenience: run a one-income Wisconsin single parent simulation\n# ------------------------------------------------------------------\ndef calc_ptc_for_income(base_situation: dict, income: float, *, reform_to_use=None, period=PERIOD):\n    \"\"\"\n    Return ACA PTC (household-level) for the given income and year.\n    \"\"\"\n    sit = copy.deepcopy(base_situation)\n    sit.pop(\"axes\", None)\n\n    # Assign all income to the parent\n    sit[\"people\"][\"parent\"][\"employment_income\"] = {str(period): income}\n\n    sim = Simulation(situation=sit, reform=reform_to_use)\n    return sim.calculate(\"aca_ptc\", map_to=\"household\", period=period)[0]\n\n# ------------------------------------------------------------------\n# 2) Build targets from model-derived FPG and compute PTCs\n# ------------------------------------------------------------------\nfpg_2026 = get_tax_unit_fpg(situation_wisconsin, period=PERIOD)\n\npercent_targets = {\n    \"138 % FPL\": 1.38,\n    \"300 % FPL\": 3.00,\n    \"400 % FPL\": 4.00,\n}\n\nrows = []\nfor label, mult in percent_targets.items():\n    inc = round(fpg_2026 * mult, 2)\n    rows.append({\n        \"income_label\": f\"{label} (${inc:,.2f})\",\n        \"income_usd\": inc,\n        \"ptc_baseline\":   calc_ptc_for_income(situation_wisconsin, inc, reform_to_use=None, period=PERIOD),\n        \"ptc_stepped_proposal\": calc_ptc_for_income(situation_wisconsin, inc, reform_to_use=reform, period=PERIOD),\n        \"ptc_linear_proposal\": calc_ptc_for_income(situation_wisconsin, inc, reform_to_use=reform2, period=PERIOD),\n        \"ptc_ira_extension\": calc_ptc_for_income(situation_wisconsin, inc, reform_to_use=reform3, period=PERIOD),\n    })\n\nptc_df = pd.DataFrame(rows)\nptc_df"
  },
  {
   "cell_type": "code",
   "execution_count": null,
   "id": "cell-5",
   "metadata": {},
   "outputs": [],
   "source": "# Get household-level values for Wisconsin\nhousehold_income_wisconsin = simulation_wisconsin.calculate(\"employment_income\", map_to=\"household\", period=2026)\nbaseline_wisconsin_per_capita_chip = simulation_wisconsin.calculate(\"per_capita_chip\", map_to=\"household\", period=2026)\nbaseline_wisconsin_aca_ptc = simulation_wisconsin.calculate(\"aca_ptc\", map_to=\"household\", period=2026)\nbaseline_wisconsin_medicaid_cost = simulation_wisconsin.calculate(\"medicaid_cost\", map_to=\"household\", period=2026)\nbaseline_wisconsin_net_income_including_health_benefits = simulation_wisconsin.calculate(\"household_net_income_including_health_benefits\", map_to=\"household\", period=2026)\nbaseline_wisconsin_slcsp = simulation_wisconsin.calculate(\"slcsp\", map_to=\"household\", period=2026)\n\nreform_wisconsin_per_capita_chip = reformed_simulation_wisconsin.calculate(\"per_capita_chip\", map_to=\"household\", period=2026)\nreform_wisconsin_aca_ptc = reformed_simulation_wisconsin.calculate(\"aca_ptc\", map_to=\"household\", period=2026)\nreform_wisconsin_medicaid_cost = reformed_simulation_wisconsin.calculate(\"medicaid_cost\", map_to=\"household\", period=2026)\nreform_wisconsin_net_income_including_health_benefits = reformed_simulation_wisconsin.calculate(\"household_net_income_including_health_benefits\", map_to=\"household\", period=2026)\n\nreform2_wisconsin_per_capita_chip = reformed_simulation_wisconsin2.calculate(\"per_capita_chip\", map_to=\"household\", period=2026)\nreform2_wisconsin_aca_ptc = reformed_simulation_wisconsin2.calculate(\"aca_ptc\", map_to=\"household\", period=2026)\nreform2_wisconsin_medicaid_cost = reformed_simulation_wisconsin2.calculate(\"medicaid_cost\", map_to=\"household\", period=2026)\nreform2_wisconsin_net_income_including_health_benefits = reformed_simulation_wisconsin2.calculate(\"household_net_income_including_health_benefits\", map_to=\"household\", period=2026)\n\nreform3_wisconsin_per_capita_chip = reformed_simulation_wisconsin3.calculate(\"per_capita_chip\", map_to=\"household\", period=2026)\nreform3_wisconsin_aca_ptc = reformed_simulation_wisconsin3.calculate(\"aca_ptc\", map_to=\"household\", period=2026)\nreform3_wisconsin_medicaid_cost = reformed_simulation_wisconsin3.calculate(\"medicaid_cost\", map_to=\"household\", period=2026)\nreform3_wisconsin_net_income_including_health_benefits = reformed_simulation_wisconsin3.calculate(\"household_net_income_including_health_benefits\", map_to=\"household\", period=2026)\n\n# Calculate total benefits for each scenario\nbaseline_wisconsin_total = [sum(x) for x in zip(baseline_wisconsin_per_capita_chip, baseline_wisconsin_aca_ptc, baseline_wisconsin_medicaid_cost)]\nreform_wisconsin_total = [sum(x) for x in zip(reform_wisconsin_per_capita_chip, reform_wisconsin_aca_ptc, reform_wisconsin_medicaid_cost)]\nreform2_wisconsin_total = [sum(x) for x in zip(reform2_wisconsin_per_capita_chip, reform2_wisconsin_aca_ptc, reform2_wisconsin_medicaid_cost)]\nreform3_wisconsin_total = [sum(x) for x in zip(reform3_wisconsin_per_capita_chip, reform3_wisconsin_aca_ptc, reform3_wisconsin_medicaid_cost)]"
  },
  {
   "cell_type": "code",
   "execution_count": 19,
   "id": "cell-6",
   "metadata": {},
   "outputs": [],
   "source": [
    "GRAY = \"#808080\"\n",
    "BLUE_PRIMARY = \"#2C6496\"\n",
    "TEAL_ACCENT = \"#39C6C0\"\n",
    "DARK_GRAY = \"#616161\"\n",
    "PURPLE = \"#9467BD\"\n"
   ]
  },
  {
   "cell_type": "code",
   "execution_count": null,
   "id": "cell-7",
   "metadata": {},
   "outputs": [],
   "source": "# Create Wisconsin graph\nfig_wisconsin = go.Figure()\n\n# Add baseline traces (solid lines)\nfig_wisconsin.add_trace(go.Scatter(\n    x=household_income_wisconsin, \n    y=baseline_wisconsin_aca_ptc, \n    mode='lines', \n    name='ACA PTC (Baseline)', \n    line=dict(color=GRAY, width=2)\n))\n\n# Add reform traces\nfig_wisconsin.add_trace(go.Scatter(\n    x=household_income_wisconsin, \n    y=reform_wisconsin_aca_ptc, \n    mode='lines', \n    name='ACA PTC (Stepped Proposal)', \n    line=dict(color=BLUE_PRIMARY, width=2)\n))\n\nfig_wisconsin.add_trace(go.Scatter(\n    x=household_income_wisconsin, \n    y=reform2_wisconsin_aca_ptc, \n    mode='lines', \n    name='ACA PTC (Linear Proposal)', \n    line=dict(color=TEAL_ACCENT, width=2)\n))\n\nfig_wisconsin.add_trace(go.Scatter(\n    x=household_income_wisconsin, \n    y=reform3_wisconsin_aca_ptc, \n    mode='lines', \n    name='ACA PTC (IRA Extension)', \n    line=dict(color=PURPLE, width=2)\n))\n\n\n# Update layout\nfig_wisconsin.update_layout(\n    title='Wisconsin Household (Single parent, age 27, with child, age 3) - Program Benefits by Income Level',\n    xaxis_title='Household Income',\n    yaxis_title='Benefit Amount',\n    legend_title='Programs',\n    xaxis=dict(tickformat='$,.0f', range=[0, 400000]),\n    yaxis=dict(tickformat='$,.0f'),\n    height=600,\n    width=1000\n)\n\nfig_wisconsin = format_fig(fig_wisconsin)\nfig_wisconsin.show()"
  },
  {
   "cell_type": "code",
   "execution_count": null,
   "id": "cell-8",
   "metadata": {},
   "outputs": [],
   "source": "#Household net income graphs\nimport plotly.graph_objects as go\n\n# ---------- Wisconsin single parent ----------\nfig_wi = go.Figure()\n\n# Baseline (solid)\nfig_wi.add_trace(go.Scatter(\n    x=household_income_wisconsin,\n    y=baseline_wisconsin_net_income_including_health_benefits,\n    mode='lines',\n    name='Baseline',\n    line=dict(color=GRAY, width=2)\n))\n\n# Reform 1 (stepped)\nfig_wi.add_trace(go.Scatter(\n    x=household_income_wisconsin,\n    y=reform_wisconsin_net_income_including_health_benefits,\n    mode='lines',\n    name='Stepped Proposal',\n    line=dict(color=BLUE_PRIMARY, width=2)\n))\n\n# Reform 2 (linear)\nfig_wi.add_trace(go.Scatter(\n    x=household_income_wisconsin,\n    y=reform2_wisconsin_net_income_including_health_benefits,\n    mode='lines',\n    name='Linear Proposal',\n    line=dict(color=TEAL_ACCENT, width=2)\n))\n\n# Reform 3 (IRA extension)\nfig_wi.add_trace(go.Scatter(\n    x=household_income_wisconsin,\n    y=reform3_wisconsin_net_income_including_health_benefits,\n    mode='lines',\n    name='IRA Extension',\n    line=dict(color=PURPLE, width=2)\n))\n\n# Layout\nfig_wi.update_layout(\n    title='Wisconsin Household (Single parent, age 27, with child, age 3) – Health-Adjusted Net Income by Household Income',\n    xaxis_title='Household Income',\n    yaxis_title='Health-Adjusted Net Income',\n    legend_title='Scenario',\n    xaxis=dict(tickformat='$,.0f', range=[0, 400_000]),\n    yaxis=dict(tickformat='$,.0f'),\n    height=600,\n    width=1000\n)\n\nfig_wi = format_fig(fig_wi)\nfig_wi.show()\n\n# --- Δ Health-adjusted net income (Reform – Baseline) ---\ndelta_wi = (\n    reform_wisconsin_net_income_including_health_benefits\n    - baseline_wisconsin_net_income_including_health_benefits\n)\n\ndelta_wi2 = (\n    reform2_wisconsin_net_income_including_health_benefits\n    - baseline_wisconsin_net_income_including_health_benefits\n)\n\ndelta_wi3 = (\n    reform3_wisconsin_net_income_including_health_benefits\n    - baseline_wisconsin_net_income_including_health_benefits\n)\n\nfig_delta_wi = go.Figure()\n\nfig_delta_wi.add_trace(go.Scatter(\n    x=household_income_wisconsin,\n    y=delta_wi,\n    mode='lines',\n    name='Stepped Proposal',\n    line=dict(color=BLUE_PRIMARY, width=2)\n))\n\nfig_delta_wi.add_trace(go.Scatter(\n    x=household_income_wisconsin,\n    y=delta_wi2,\n    mode='lines',\n    name='Linear Proposal',\n    line=dict(color=TEAL_ACCENT, width=2)\n))\n\nfig_delta_wi.add_trace(go.Scatter(\n    x=household_income_wisconsin,\n    y=delta_wi3,\n    mode='lines',\n    name='IRA Extension',\n    line=dict(color=PURPLE, width=2)\n))\n\nfig_delta_wi.update_layout(\n    title='Wisconsin Household (Single parent, age 27, with child, age 3) – Impact of Premium Tax Credit Proposals',\n    xaxis_title='Household Income',\n    yaxis_title='Δ Net Income',\n    xaxis=dict(tickformat='$,.0f', range=[0, 400_000]),\n    yaxis=dict(tickformat='$,.0f', zeroline=True, zerolinewidth=1),\n    height=600,\n    width=1000,\n    legend=dict(orientation='h')\n)\n\nfig_delta_wi = format_fig(fig_delta_wi)\nfig_delta_wi.show()"
  },
  {
   "cell_type": "code",
   "execution_count": null,
   "id": "cell-9",
   "metadata": {},
   "outputs": [],
   "source": "# ========================================================================\n# MTR CALCULATION FOR WISCONSIN HOUSEHOLD\n# Uses axes-based simulation for net income, then calculates MTR manually\n# ========================================================================\n\n# Step 1: Create situation with axes for vectorized net income calculation\nsituation_wi_for_mtr = {\n    \"people\": {\n        \"parent\": {\n            \"age\": {\"2026\": 27},\n            \"employment_income\": {\"2026\": 0},\n            \"self_employment_income\": {\"2026\": 0}\n        },\n        \"child\": {\n            \"age\": {\"2026\": 3},\n            \"employment_income\": {\"2026\": 0},\n            \"self_employment_income\": {\"2026\": 0}\n        }\n    },\n    \"families\": {\n        \"your family\": {\n            \"members\": [\"parent\", \"child\"]\n        }\n    },\n    \"spm_units\": {\n        \"your household\": {\n            \"members\": [\"parent\", \"child\"]\n        }\n    },\n    \"tax_units\": {\n        \"your tax unit\": {\n            \"members\": [\"parent\", \"child\"]\n        }\n    },\n    \"households\": {\n        \"your household\": {\n            \"members\": [\"parent\", \"child\"],\n            \"state_name\": {\"2026\": \"WI\"},\n            \"county_fips\": {\"2026\": \"55079\"}\n            \n        }\n    },\n    \"marital_units\": {\n        \"parent marital unit\": {\n            \"members\": [\"parent\"]\n        }\n    },\n    \"axes\": [[\n        {\n            \"name\": \"employment_income\",\n            \"min\": 0,\n            \"max\": 200_000,\n            \"count\": 200,\n            \"period\": \"2026\"\n        }\n    ]]\n}\n\n# Step 2: Calculate baseline net income using axes\nsim_wi_baseline = Simulation(situation=situation_wi_for_mtr)\nhousehold_income_wi_mtr = sim_wi_baseline.calculate(\"employment_income\", map_to=\"household\", period=2026)\nbaseline_wi_net_income = sim_wi_baseline.calculate(\n    \"household_net_income_including_health_benefits\",\n    map_to=\"household\",\n    period=2026\n)\n\n# Step 3: Calculate reform net income using axes\nsim_wi_reform = Simulation(situation=situation_wi_for_mtr, reform=reform)\nreform_wi_net_income = sim_wi_reform.calculate(\n    \"household_net_income_including_health_benefits\",\n    map_to=\"household\",\n    period=2026\n)\n\n# Step 3b: Calculate reform2 net income using axes\nsim_wi_reform2 = Simulation(situation=situation_wi_for_mtr, reform=reform2)\nreform2_wi_net_income = sim_wi_reform2.calculate(\n    \"household_net_income_including_health_benefits\",\n    map_to=\"household\",\n    period=2026\n)\n\n# Step 3c: Calculate reform3 net income using axes\nsim_wi_reform3 = Simulation(situation=situation_wi_for_mtr, reform=reform3)\nreform3_wi_net_income = sim_wi_reform3.calculate(\n    \"household_net_income_including_health_benefits\",\n    map_to=\"household\",\n    period=2026\n)\n\n# Step 4: Calculate MTR from adjacent points\ndef calc_mtr(incomes, net_incomes):\n    \"\"\"Calculate MTR between adjacent income points.\"\"\"\n    mtrs = []\n    mtr_incomes = []\n    for i in range(len(incomes) - 1):\n        income_change = incomes[i + 1] - incomes[i]\n        net_change = net_incomes[i + 1] - net_incomes[i]\n        if income_change > 0 and not np.isnan(net_incomes[i]) and not np.isnan(net_incomes[i + 1]):\n            mtr = 1 - (net_change / income_change)\n            mtrs.append(mtr)\n            mtr_incomes.append((incomes[i] + incomes[i + 1]) / 2)\n    return np.array(mtr_incomes), np.array(mtrs)\n\nbaseline_wi_mtr_incomes, baseline_wi_mtrs = calc_mtr(household_income_wi_mtr, baseline_wi_net_income)\nreform_wi_mtr_incomes, reform_wi_mtrs = calc_mtr(household_income_wi_mtr, reform_wi_net_income)\nreform2_wi_mtr_incomes, reform2_wi_mtrs = calc_mtr(household_income_wi_mtr, reform2_wi_net_income)\nreform3_wi_mtr_incomes, reform3_wi_mtrs = calc_mtr(household_income_wi_mtr, reform3_wi_net_income)\n\n# Step 5: Create the chart\nfig_wisconsin_mtr = go.Figure()\n\nfig_wisconsin_mtr.add_trace(go.Scatter(\n    x=baseline_wi_mtr_incomes,\n    y=np.clip(baseline_wi_mtrs, -1.0, 1.0),\n    mode='lines',\n    name='Baseline',\n    line=dict(color=GRAY, width=2),\n    hovertemplate='Income: $%{x:,.0f}<br>Baseline MTR: %{y:.1%}<extra></extra>'\n))\n\nfig_wisconsin_mtr.add_trace(go.Scatter(\n    x=reform_wi_mtr_incomes,\n    y=np.clip(reform_wi_mtrs, -1.0, 1.0),\n    mode='lines',\n    name='Stepped Proposal',\n    line=dict(color=BLUE_PRIMARY, width=2),\n    hovertemplate='Income: $%{x:,.0f}<br>Stepped MTR: %{y:.1%}<extra></extra>'\n))\n\nfig_wisconsin_mtr.add_trace(go.Scatter(\n    x=reform2_wi_mtr_incomes,\n    y=np.clip(reform2_wi_mtrs, -1.0, 1.0),\n    mode='lines',\n    name='Linear Proposal',\n    line=dict(color=TEAL_ACCENT, width=2),\n    hovertemplate='Income: $%{x:,.0f}<br>Linear MTR: %{y:.1%}<extra></extra>'\n))\n\nfig_wisconsin_mtr.add_trace(go.Scatter(\n    x=reform3_wi_mtr_incomes,\n    y=np.clip(reform3_wi_mtrs, -1.0, 1.0),\n    mode='lines',\n    name='IRA Extension',\n    line=dict(color=PURPLE, width=2),\n    hovertemplate='Income: $%{x:,.0f}<br>IRA MTR: %{y:.1%}<extra></extra>'\n))\n\nfig_wisconsin_mtr.update_layout(\n    title='Marginal tax rate including health benefits - Wisconsin single parent (age 27) with child (age 3)',\n    xaxis_title='Employment income',\n    yaxis_title='Marginal tax rate',\n    xaxis=dict(\n        tickformat='$,.0f',\n        range=[0, 200_000],\n        gridcolor='lightgray',\n        showgrid=True\n    ),\n    yaxis=dict(\n        tickformat='.0%',\n        range=[-1.0, 1.0],\n        gridcolor='lightgray',\n        showgrid=True,\n        zeroline=True,\n        zerolinewidth=1,\n        zerolinecolor='gray'\n    ),\n    height=600,\n    width=1000,\n    hovermode='x unified',\n    plot_bgcolor='white',\n    showlegend=True,\n    legend=dict(\n        orientation=\"h\",\n        yanchor=\"bottom\",\n        y=1.02,\n        xanchor=\"right\",\n        x=1\n    )\n)\n\nfig_wisconsin_mtr = format_fig(fig_wisconsin_mtr)\nfig_wisconsin_mtr.show()"
  }
 ],
 "metadata": {
  "kernelspec": {
   "display_name": "policyengine",
   "language": "python",
   "name": "python3"
  },
  "language_info": {
   "codemirror_mode": {
    "name": "ipython",
    "version": 3
   },
   "file_extension": ".py",
   "mimetype": "text/x-python",
   "name": "python",
   "nbconvert_exporter": "python",
   "pygments_lexer": "ipython3",
   "version": "3.10.16"
  }
 },
 "nbformat": 4,
 "nbformat_minor": 5
}