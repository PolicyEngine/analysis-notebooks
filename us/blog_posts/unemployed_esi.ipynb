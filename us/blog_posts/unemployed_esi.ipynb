{
 "cells": [
  {
   "cell_type": "code",
   "execution_count": 7,
   "metadata": {},
   "outputs": [],
   "source": [
    "from policyengine_us import Microsimulation\n",
    "from policyengine_core.reforms import Reform\n",
    "\n",
    "\n",
    "baseline_ecps = Microsimulation(dataset=\"hf://policyengine/policyengine-us-data/enhanced_cps_2024.h5\")"
   ]
  },
  {
   "cell_type": "code",
   "execution_count": null,
   "metadata": {},
   "outputs": [],
   "source": []
  },
  {
   "cell_type": "code",
   "execution_count": 15,
   "metadata": {},
   "outputs": [
    {
     "name": "stdout",
     "output_type": "stream",
     "text": [
      "       household_id  has_esi  employment_income         weight  age_head  \\\n",
      "7101           7101     True                0.0  509672.531250      71.0   \n",
      "11956         11956     True                0.0  310583.531250      77.0   \n",
      "2531           2531     True                0.0  198853.843750      56.0   \n",
      "11818         11818     True                0.0  186070.500000      50.0   \n",
      "718             718     True                0.0  147077.000000      69.0   \n",
      "7324           7324     True                0.0  146454.421875      69.0   \n",
      "5893           5893     True                0.0  141963.656250      85.0   \n",
      "608             608     True                0.0  136438.953125      60.0   \n",
      "8736           8736     True                0.0  135514.218750      37.0   \n",
      "6265           6265     True                0.0  127626.453125      77.0   \n",
      "\n",
      "       household_size  \n",
      "7101                1  \n",
      "11956               1  \n",
      "2531                1  \n",
      "11818               2  \n",
      "718                 1  \n",
      "7324                2  \n",
      "5893                1  \n",
      "608                 1  \n",
      "8736                1  \n",
      "6265                1  \n",
      "\n",
      "Totals:\n",
      "  Weighted households: 6,063,757\n",
      "  Unweighted households: 550\n"
     ]
    }
   ],
   "source": [
    "import pandas as pd\n",
    "\n",
    "period = 2026\n",
    "\n",
    "# Household-level variables\n",
    "has_esi_hh = baseline_ecps.calculate(\"has_esi\", map_to=\"household\", period=period)\n",
    "hh_emp_inc = baseline_ecps.calculate(\"employment_income\", map_to=\"household\", period=period)\n",
    "age_hh = baseline_ecps.calculate(\"age_head\", map_to=\"household\", period=period)\n",
    "household_size = baseline_ecps.calculate(\"household_size\", map_to=\"household\", period=period)\n",
    "\n",
    "# Weights\n",
    "hh_wt = hh_emp_inc.weights\n",
    "\n",
    "# Force boolean\n",
    "has_esi_bool = (has_esi_hh == 1)\n",
    "\n",
    "# Criteria: has ESI and $0 employment income\n",
    "mask = has_esi_bool & (hh_emp_inc == 0)\n",
    "\n",
    "# Build DataFrame\n",
    "df = pd.DataFrame({\n",
    "\"household_id\": hh_emp_inc.index,\n",
    "\"has_esi\": has_esi_bool,\n",
    "\"employment_income\": hh_emp_inc,\n",
    "\"weight\": hh_wt,\n",
    "\"age_head\": age_hh,\n",
    "\"household_size\": household_size,\n",
    "})\n",
    "\n",
    "df_sel = df.loc[mask].copy()\n",
    "\n",
    "# Sort by weight descending\n",
    "df_sorted = df_sel.sort_values(\"weight\", ascending=False)\n",
    "\n",
    "# Totals\n",
    "total_weighted_hh = df_sel[\"weight\"].sum()\n",
    "total_unweighted_hh = len(df_sel)\n",
    "\n",
    "print(df_sorted.head(10))  # top 10 households by weight\n",
    "print(\"\\nTotals:\")\n",
    "print(f\"  Weighted households: {total_weighted_hh:,.0f}\")\n",
    "print(f\"  Unweighted households: {total_unweighted_hh:,}\")\n"
   ]
  }
 ],
 "metadata": {
  "kernelspec": {
   "display_name": "policyengine",
   "language": "python",
   "name": "python3"
  },
  "language_info": {
   "codemirror_mode": {
    "name": "ipython",
    "version": 3
   },
   "file_extension": ".py",
   "mimetype": "text/x-python",
   "name": "python",
   "nbconvert_exporter": "python",
   "pygments_lexer": "ipython3",
   "version": "3.10.16"
  }
 },
 "nbformat": 4,
 "nbformat_minor": 2
}
