{
 "cells": [
  {
   "cell_type": "code",
   "execution_count": 1,
   "metadata": {},
   "outputs": [
    {
     "name": "stderr",
     "output_type": "stream",
     "text": [
      "/Users/pavelmakarchuk/anaconda3/envs/pe/lib/python3.10/site-packages/tqdm/auto.py:21: TqdmWarning: IProgress not found. Please update jupyter and ipywidgets. See https://ipywidgets.readthedocs.io/en/stable/user_install.html\n",
      "  from .autonotebook import tqdm as notebook_tqdm\n"
     ]
    }
   ],
   "source": [
    "from policyengine_us import Microsimulation\n",
    "from policyengine_core.reforms import Reform\n",
    "import pandas as pd\n"
   ]
  },
  {
   "cell_type": "code",
   "execution_count": 2,
   "metadata": {},
   "outputs": [],
   "source": [
    "# Define multiple takeup rates for each program\n",
    "takeup_scenarios = {\n",
    "    \"snap\": [0.7, 0.85, 1.0],\n",
    "    \"medicaid\": [0.6, 0.8, 0.95],\n",
    "    \"aca_ptc\": [0.3, 0.5, 0.7]\n",
    "}"
   ]
  },
  {
   "cell_type": "code",
   "execution_count": 3,
   "metadata": {},
   "outputs": [],
   "source": [
    "# Create baseline simulation\n",
    "baseline = Microsimulation(dataset=\"hf://policyengine/policyengine-us-data/enhanced_cps_2024.h5\")\n"
   ]
  },
  {
   "cell_type": "code",
   "execution_count": 4,
   "metadata": {},
   "outputs": [],
   "source": [
    "# Store results\n",
    "results = []\n"
   ]
  },
  {
   "cell_type": "code",
   "execution_count": 5,
   "metadata": {},
   "outputs": [
    {
     "name": "stdout",
     "output_type": "stream",
     "text": [
      "\n",
      "============================================================\n",
      "SNAP - Testing takeup rates: [0.7, 0.85, 1.0]\n",
      "============================================================\n",
      "Baseline recipients: 76.81 million\n",
      "\n",
      "Takeup rate 70%:\n",
      "  Reformed recipients: 76.81 million\n",
      "  Net change: +0.00 million\n",
      "\n",
      "Takeup rate 85%:\n",
      "  Reformed recipients: 76.81 million\n",
      "  Net change: +0.00 million\n",
      "\n",
      "Takeup rate 100%:\n",
      "  Reformed recipients: 76.81 million\n",
      "  Net change: +0.00 million\n",
      "\n",
      "============================================================\n",
      "MEDICAID - Testing takeup rates: [0.6, 0.8, 0.95]\n",
      "============================================================\n",
      "Baseline recipients: 93.64 million\n",
      "\n",
      "Takeup rate 60%:\n",
      "  Reformed recipients: 93.64 million\n",
      "  Net change: +0.00 million\n",
      "\n",
      "Takeup rate 80%:\n",
      "  Reformed recipients: 93.64 million\n",
      "  Net change: +0.00 million\n",
      "\n",
      "Takeup rate 95%:\n",
      "  Reformed recipients: 93.64 million\n",
      "  Net change: +0.00 million\n",
      "\n",
      "============================================================\n",
      "ACA_PTC - Testing takeup rates: [0.3, 0.5, 0.7]\n",
      "============================================================\n",
      "Baseline recipients: 52.15 million\n",
      "\n",
      "Takeup rate 30%:\n",
      "  Reformed recipients: 52.15 million\n",
      "  Net change: +0.00 million\n",
      "\n",
      "Takeup rate 50%:\n",
      "  Reformed recipients: 52.15 million\n",
      "  Net change: +0.00 million\n",
      "\n",
      "Takeup rate 70%:\n",
      "  Reformed recipients: 52.15 million\n",
      "  Net change: +0.00 million\n"
     ]
    }
   ],
   "source": [
    "# Test each program with different takeup rates\n",
    "for program, rates in takeup_scenarios.items():\n",
    "    print(f\"\\n{'='*60}\")\n",
    "    print(f\"{program.upper()} - Testing takeup rates: {rates}\")\n",
    "    print(f\"{'='*60}\")\n",
    "    \n",
    "    # Map program names to reform parameter names\n",
    "    param_map = {\n",
    "        \"snap\": \"gov.usda.snap.takeup_rate\",\n",
    "        \"medicaid\": \"gov.hhs.medicaid.takeup_rate\",\n",
    "        \"aca_ptc\": \"gov.aca.takeup_rate\"\n",
    "    }\n",
    "    \n",
    "    # Calculate baseline\n",
    "    baseline_values = baseline.calculate(program, map_to=\"person\", period=2026)\n",
    "    baseline_recipients = (baseline_values > 0).sum() / 1e6\n",
    "    print(f\"Baseline recipients: {baseline_recipients:.2f} million\")\n",
    "    \n",
    "    # Test each takeup rate\n",
    "    for rate in rates:\n",
    "        # Create reform for this rate\n",
    "        reform = Reform.from_dict(\n",
    "            {\n",
    "                param_map[program]: {\n",
    "                    \"2026-01-01.2100-12-31\": rate\n",
    "                }\n",
    "            },\n",
    "            country_id=\"us\"\n",
    "        )\n",
    "        \n",
    "        # Run simulation\n",
    "        reformed_sim = Microsimulation(\n",
    "            dataset=\"hf://policyengine/policyengine-us-data/enhanced_cps_2024.h5\", \n",
    "            reform=reform\n",
    "        )\n",
    "        reformed_values = reformed_sim.calculate(program, map_to=\"person\", period=2026)\n",
    "        \n",
    "        # Calculate statistics\n",
    "        reformed_recipients = (reformed_values > 0).sum() / 1e6\n",
    "        people_gained = ((baseline_values == 0) & (reformed_values > 0)).sum() / 1e6\n",
    "        people_lost = ((baseline_values > 0) & (reformed_values == 0)).sum() / 1e6\n",
    "        net_change = reformed_recipients - baseline_recipients\n",
    "        \n",
    "        # Store and print results\n",
    "        results.append({\n",
    "            \"program\": program,\n",
    "            \"takeup_rate\": rate,\n",
    "            \"baseline_millions\": baseline_recipients,\n",
    "            \"reformed_millions\": reformed_recipients,\n",
    "            \"gained_millions\": people_gained,\n",
    "            \"lost_millions\": people_lost,\n",
    "            \"net_change_millions\": net_change\n",
    "        })\n",
    "        \n",
    "        print(f\"\\nTakeup rate {rate:.0%}:\")\n",
    "        print(f\"  Reformed recipients: {reformed_recipients:.2f} million\")\n",
    "        print(f\"  Net change: {net_change:+.2f} million\")\n"
   ]
  },
  {
   "cell_type": "code",
   "execution_count": 6,
   "metadata": {},
   "outputs": [
    {
     "name": "stdout",
     "output_type": "stream",
     "text": [
      "\n",
      "\n",
      "SUMMARY TABLE:\n",
      "    program  takeup_rate  baseline_millions  reformed_millions  \\\n",
      "0      snap         0.70              76.81              76.81   \n",
      "1      snap         0.85              76.81              76.81   \n",
      "2      snap         1.00              76.81              76.81   \n",
      "3  medicaid         0.60              93.64              93.64   \n",
      "4  medicaid         0.80              93.64              93.64   \n",
      "5  medicaid         0.95              93.64              93.64   \n",
      "6   aca_ptc         0.30              52.15              52.15   \n",
      "7   aca_ptc         0.50              52.15              52.15   \n",
      "8   aca_ptc         0.70              52.15              52.15   \n",
      "\n",
      "   gained_millions  lost_millions  net_change_millions  \n",
      "0              0.0            0.0                  0.0  \n",
      "1              0.0            0.0                  0.0  \n",
      "2              0.0            0.0                  0.0  \n",
      "3              0.0            0.0                  0.0  \n",
      "4              0.0            0.0                  0.0  \n",
      "5              0.0            0.0                  0.0  \n",
      "6              0.0            0.0                  0.0  \n",
      "7              0.0            0.0                  0.0  \n",
      "8              0.0            0.0                  0.0  \n",
      "\n",
      "\n",
      "NET CHANGE BY TAKEUP RATE (millions):\n",
      "program      aca_ptc  medicaid  snap\n",
      "takeup_rate                         \n",
      "0.30             0.0       NaN   NaN\n",
      "0.50             0.0       NaN   NaN\n",
      "0.60             NaN       0.0   NaN\n",
      "0.70             0.0       NaN   0.0\n",
      "0.80             NaN       0.0   NaN\n",
      "0.85             NaN       NaN   0.0\n",
      "0.95             NaN       0.0   NaN\n",
      "1.00             NaN       NaN   0.0\n"
     ]
    }
   ],
   "source": [
    "# Create summary DataFrame\n",
    "summary_df = pd.DataFrame(results)\n",
    "print(\"\\n\\nSUMMARY TABLE:\")\n",
    "print(summary_df.round(2))\n",
    "\n",
    "# Pivot table for easier comparison\n",
    "pivot_df = summary_df.pivot(index='takeup_rate', columns='program', values='net_change_millions')\n",
    "print(\"\\n\\nNET CHANGE BY TAKEUP RATE (millions):\")\n",
    "print(pivot_df.round(2))"
   ]
  },
  {
   "cell_type": "code",
   "execution_count": 7,
   "metadata": {},
   "outputs": [],
   "source": [
    "from policyengine_us import Microsimulation\n",
    "from policyengine_core.reforms import Reform\n",
    "\n",
    "reform = Reform.from_dict({\n",
    "  \"gov.usda.snap.takeup_rate\": {\n",
    "    \"2026-01-01.2100-12-31\": 0.7\n",
    "  }\n",
    "}, country_id=\"us\")\n",
    "\n",
    "\n",
    "baseline = Microsimulation(dataset=\"hf://policyengine/policyengine-us-data/enhanced_cps_2024.h5\")\n",
    "reformed = Microsimulation(reform=reform, dataset=\"hf://policyengine/policyengine-us-data/enhanced_cps_2024.h5\")\n",
    "baseline_income = baseline.calculate(\"household_net_income\", period=2026)\n",
    "reformed_income = reformed.calculate(\"household_net_income\", period=2026)\n",
    "difference_income = reformed_income - baseline_income"
   ]
  },
  {
   "cell_type": "code",
   "execution_count": 8,
   "metadata": {},
   "outputs": [
    {
     "data": {
      "text/plain": [
       "0.0"
      ]
     },
     "execution_count": 8,
     "metadata": {},
     "output_type": "execute_result"
    }
   ],
   "source": [
    "difference_income.sum()"
   ]
  },
  {
   "cell_type": "code",
   "execution_count": null,
   "metadata": {},
   "outputs": [],
   "source": []
  }
 ],
 "metadata": {
  "kernelspec": {
   "display_name": "pe",
   "language": "python",
   "name": "python3"
  },
  "language_info": {
   "codemirror_mode": {
    "name": "ipython",
    "version": 3
   },
   "file_extension": ".py",
   "mimetype": "text/x-python",
   "name": "python",
   "nbconvert_exporter": "python",
   "pygments_lexer": "ipython3",
   "version": "3.10.14"
  }
 },
 "nbformat": 4,
 "nbformat_minor": 2
}
