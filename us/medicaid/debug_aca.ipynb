{
 "cells": [
  {
   "cell_type": "code",
   "execution_count": 1,
   "metadata": {},
   "outputs": [
    {
     "name": "stderr",
     "output_type": "stream",
     "text": [
      "/Users/daphnehansell/miniconda3/envs/policyengine/lib/python3.10/site-packages/tqdm/auto.py:21: TqdmWarning: IProgress not found. Please update jupyter and ipywidgets. See https://ipywidgets.readthedocs.io/en/stable/user_install.html\n",
      "  from .autonotebook import tqdm as notebook_tqdm\n"
     ]
    }
   ],
   "source": [
    "from policyengine_us import Microsimulation\n",
    "from policyengine_core.reforms import Reform\n",
    "baseline = Microsimulation(dataset=\"hf://policyengine/policyengine-us-data/enhanced_cps_2024.h5\")\n"
   ]
  },
  {
   "cell_type": "code",
   "execution_count": 5,
   "metadata": {},
   "outputs": [
    {
     "name": "stdout",
     "output_type": "stream",
     "text": [
      "20285684.746812854\n"
     ]
    }
   ],
   "source": [
    "baseline_aca_enrollment = baseline.calculate(\"has_marketplace_health_coverage\", map_to=\"person\", period=2025).sum()\n",
    "print(baseline_aca_enrollment)\n",
    "\n",
    "baseline_has_coverage = baseline.calculate(\"has_marketplace_health_coverage\", map_to=\"person\", period=2025)\n",
    "baseline_is_eligible = baseline.calculate(\"is_aca_ptc_eligible\", map_to=\"person\", period=2025)\n",
    "\n",
    "baseline_aca = ((baseline_has_coverage & baseline_is_eligible)*baseline_has_coverage.weights).sum()\n",
    "\n"
   ]
  },
  {
   "cell_type": "code",
   "execution_count": 9,
   "metadata": {},
   "outputs": [
    {
     "name": "stdout",
     "output_type": "stream",
     "text": [
      "11734775.520414181\n"
     ]
    },
    {
     "ename": "TypeError",
     "evalue": "unsupported operand type(s) for /: 'NoneType' and 'float'",
     "output_type": "error",
     "traceback": [
      "\u001b[0;31m---------------------------------------------------------------------------\u001b[0m",
      "\u001b[0;31mTypeError\u001b[0m                                 Traceback (most recent call last)",
      "Cell \u001b[0;32mIn[9], line 6\u001b[0m\n\u001b[1;32m      2\u001b[0m baseline_is_eligible \u001b[38;5;241m=\u001b[39m baseline\u001b[38;5;241m.\u001b[39mcalculate(\u001b[38;5;124m\"\u001b[39m\u001b[38;5;124mis_aca_ptc_eligible\u001b[39m\u001b[38;5;124m\"\u001b[39m, map_to\u001b[38;5;241m=\u001b[39m\u001b[38;5;124m\"\u001b[39m\u001b[38;5;124mperson\u001b[39m\u001b[38;5;124m\"\u001b[39m, period\u001b[38;5;241m=\u001b[39m\u001b[38;5;241m2025\u001b[39m)\n\u001b[1;32m      4\u001b[0m baseline_aca \u001b[38;5;241m=\u001b[39m ((baseline_has_coverage \u001b[38;5;241m&\u001b[39m baseline_is_eligible)\u001b[38;5;241m*\u001b[39mbaseline_has_coverage\u001b[38;5;241m.\u001b[39mweights)\u001b[38;5;241m.\u001b[39msum()\n\u001b[0;32m----> 6\u001b[0m \u001b[38;5;28;43mprint\u001b[39;49m\u001b[43m(\u001b[49m\u001b[43mbaseline_aca\u001b[49m\u001b[43m)\u001b[49m\u001b[43m \u001b[49m\u001b[38;5;241;43m/\u001b[39;49m\u001b[38;5;241;43m1e6\u001b[39;49m\n",
      "\u001b[0;31mTypeError\u001b[0m: unsupported operand type(s) for /: 'NoneType' and 'float'"
     ]
    }
   ],
   "source": [
    "baseline_has_coverage = baseline.calculate(\"has_marketplace_health_coverage\", map_to=\"person\", period=2025)\n",
    "baseline_is_eligible = baseline.calculate(\"is_aca_ptc_eligible\", map_to=\"person\", period=2025)\n",
    "\n",
    "baseline_aca = ((baseline_has_coverage & baseline_is_eligible)*baseline_has_coverage.weights).sum()\n",
    "\n",
    "baseline_aca/1e6"
   ]
  }
 ],
 "metadata": {
  "kernelspec": {
   "display_name": "policyengine",
   "language": "python",
   "name": "python3"
  },
  "language_info": {
   "codemirror_mode": {
    "name": "ipython",
    "version": 3
   },
   "file_extension": ".py",
   "mimetype": "text/x-python",
   "name": "python",
   "nbconvert_exporter": "python",
   "pygments_lexer": "ipython3",
   "version": "3.10.16"
  }
 },
 "nbformat": 4,
 "nbformat_minor": 2
}
