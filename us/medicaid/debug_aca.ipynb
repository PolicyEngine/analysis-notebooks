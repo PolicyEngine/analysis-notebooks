{
 "cells": [
  {
   "cell_type": "code",
   "execution_count": 1,
   "metadata": {},
   "outputs": [
    {
     "name": "stderr",
     "output_type": "stream",
     "text": [
      "/Users/daphnehansell/miniconda3/envs/policyengine/lib/python3.10/site-packages/tqdm/auto.py:21: TqdmWarning: IProgress not found. Please update jupyter and ipywidgets. See https://ipywidgets.readthedocs.io/en/stable/user_install.html\n",
      "  from .autonotebook import tqdm as notebook_tqdm\n"
     ]
    }
   ],
   "source": [
    "from policyengine_us import Microsimulation\n",
    "from policyengine_core.reforms import Reform\n",
    "baseline = Microsimulation(dataset=\"hf://policyengine/policyengine-us-data/cps_2023.h5\")\n"
   ]
  },
  {
   "cell_type": "code",
   "execution_count": 2,
   "metadata": {},
   "outputs": [
    {
     "data": {
      "text/plain": [
       "12.428581703125"
      ]
     },
     "execution_count": 2,
     "metadata": {},
     "output_type": "execute_result"
    }
   ],
   "source": [
    "baseline_aca_enrollment = baseline.calculate(\"has_marketplace_health_coverage\", map_to=\"person\", period=2025).sum()\n",
    "\n",
    "baseline_aca_enrollment/1e6"
   ]
  },
  {
   "cell_type": "code",
   "execution_count": 3,
   "metadata": {},
   "outputs": [
    {
     "data": {
      "text/plain": [
       "8.30790088671875"
      ]
     },
     "execution_count": 3,
     "metadata": {},
     "output_type": "execute_result"
    }
   ],
   "source": [
    "baseline_has_coverage = baseline.calculate(\"has_marketplace_health_coverage\", map_to=\"person\", period=2025)\n",
    "baseline_is_eligible = baseline.calculate(\"is_aca_ptc_eligible\", map_to=\"person\", period=2025)\n",
    "\n",
    "baseline_aca = ((baseline_has_coverage & baseline_is_eligible)*baseline_has_coverage.weights).sum()\n",
    "\n",
    "baseline_aca/1e6"
   ]
  },
  {
   "cell_type": "code",
   "execution_count": 4,
   "metadata": {},
   "outputs": [
    {
     "name": "stdout",
     "output_type": "stream",
     "text": [
      "627 observations (weighted: 4,120,681) do not overlap.\n",
      "       household_id        weight  adjusted_gross_income   age  has_esi\n",
      "37586         65629  28516.822266           26300.667969  40.0    False\n",
      "37587         65629  28516.822266           26300.667969  58.0    False\n",
      "4998          10045  23764.017578           20978.705078  27.0    False\n",
      "37976         65209  19011.214844               0.000000  30.0    False\n",
      "4497           9340  19011.214844               0.000000  22.0    False\n",
      "24938         43163  19011.214844           31465.369141   9.0    False\n",
      "43445         77870  19011.214844            7706.610352  26.0    False\n",
      "43677         78173  19011.214844           19480.806641  35.0     True\n",
      "43678         78173  19011.214844           19480.806641   6.0    False\n",
      "43679         78173  19011.214844           19480.806641   1.0    False\n"
     ]
    }
   ],
   "source": [
    "import pandas as pd\n",
    "\n",
    "period = 2025           # keep this in one place so it’s easy to change\n",
    "sim    = baseline       # just so the code is a bit shorter\n",
    "\n",
    "# 1. Pull the two flags (and the person-level sampling weight) into one DataFrame\n",
    "has_cov   = sim.calculate(\"has_marketplace_health_coverage\",\n",
    "                           map_to=\"person\", period=period)\n",
    "is_elg    = sim.calculate(\"is_aca_ptc_eligible\",\n",
    "                           map_to=\"person\", period=period)\n",
    "\n",
    "df = pd.DataFrame({\n",
    "    \"has_cov\" : has_cov,\n",
    "    \"is_elg\"  : is_elg,\n",
    "    \"weight\"  : has_cov.weights          # the Series carries its own CPS weight\n",
    "})\n",
    "\n",
    "# 2. Keep only people who HAVE Marketplace coverage but FAIL the eligibility flag\n",
    "problem = df[(df.has_cov) & (~df.is_elg)]\n",
    "print(f\"{problem.shape[0]:,} observations \"\n",
    "      f\"(weighted: {problem.weight.sum():,.0f}) do not overlap.\")\n",
    "\n",
    "# 3. (Optional) Bring in a few explanatory variables so you can see *why*\n",
    "extra_vars = [\n",
    "    \n",
    "    \"has_esi\",     # or whatever ESI flag you rely on\n",
    "    \"age\",\n",
    "    \"household_id\",\n",
    "    \"aca_ptc\",\n",
    "    \"adjusted_gross_income\"\n",
    "  \n",
    "]\n",
    "\n",
    "for v in extra_vars:\n",
    "    problem[v] = sim.calculate(v, map_to=\"person\", period=period).loc[problem.index]\n",
    "\n",
    "# 4. Quickly eyeball the 10 highest-weight cases\n",
    "cols_to_show = [\"household_id\", \"weight\", \"adjusted_gross_income\", \"age\",\n",
    "                \"has_esi\",  \n",
    "              \n",
    "              \n",
    "                ]\n",
    "print(problem.sort_values(\"weight\", ascending=False)[cols_to_show].head(10))\n"
   ]
  },
  {
   "cell_type": "code",
   "execution_count": null,
   "metadata": {},
   "outputs": [],
   "source": []
  },
  {
   "cell_type": "code",
   "execution_count": null,
   "metadata": {},
   "outputs": [],
   "source": []
  },
  {
   "cell_type": "code",
   "execution_count": 5,
   "metadata": {},
   "outputs": [
    {
     "data": {
      "text/plain": [
       "171.7710788408203"
      ]
     },
     "execution_count": 5,
     "metadata": {},
     "output_type": "execute_result"
    }
   ],
   "source": [
    "baseline_has_esi = baseline.calculate(\"has_esi\", map_to=\"person\", period=2025)\n",
    "baseline_has_esi.sum() / 1e6"
   ]
  },
  {
   "cell_type": "code",
   "execution_count": 6,
   "metadata": {},
   "outputs": [
    {
     "data": {
      "text/plain": [
       "0.465774763671875"
      ]
     },
     "execution_count": 6,
     "metadata": {},
     "output_type": "execute_result"
    }
   ],
   "source": [
    "double_coverage = ((baseline_has_coverage & baseline_has_esi)*baseline_has_coverage.weights).sum()\n",
    "double_coverage/1e6"
   ]
  },
  {
   "cell_type": "code",
   "execution_count": 7,
   "metadata": {},
   "outputs": [
    {
     "name": "stdout",
     "output_type": "stream",
     "text": [
      "558 observations remain (weighted pop: 3.7 million)\n",
      " household_id       weight  tax_unit_earned_income  age  tax_unit_dependents\n",
      "        65629 28516.822266            28300.000000 40.0                    6\n",
      "        65629 28516.822266            28300.000000 58.0                    6\n",
      "        10045 23764.017578            20976.912109 27.0                    0\n",
      "        43163 19011.214844            31465.369141  9.0                    3\n",
      "        77870 19011.214844             2726.998779 26.0                    0\n",
      "        78173 19011.214844            20976.912109  6.0                    2\n",
      "        78173 19011.214844            20976.912109  1.0                    2\n",
      "         9340 19011.214844                0.000000 22.0                    0\n",
      "        43163 19011.214844            31465.369141  4.0                    3\n",
      "        43163 19011.214844            31465.369141  2.0                    3\n",
      "        65209 19011.214844                0.000000 30.0                    0\n",
      "        22644 14258.411133                0.000000 57.0                    0\n",
      "        43237 14258.411133            46673.632812  6.0                    2\n",
      "        43237 14258.411133            46673.632812 11.0                    2\n",
      "        82028 14258.411133                0.000000 24.0                    0\n",
      "         9547 14258.411133            52442.281250 19.0                    1\n",
      "         9547 14258.411133            52442.281250 21.0                    1\n",
      "         9547 14258.411133            52442.281250 54.0                    1\n",
      "        60998 14258.411133            13634.993164 21.0                    2\n",
      "        43784 14258.411133            10488.456055 48.0                    0\n",
      "        38683 14258.411133            56637.664062  7.0                    2\n",
      "        43554 14258.411133                0.000000 54.0                    0\n",
      "        39013 14258.411133                0.000000 58.0                    0\n",
      "        38683 14258.411133            56637.664062  5.0                    2\n",
      "        47389 14258.411133                0.000000 60.0                    1\n",
      "        38683 14258.411133            56637.664062 32.0                    2\n",
      "        71141 14258.411133            26221.140625 58.0                    2\n",
      "        71141 14258.411133            26221.140625 47.0                    2\n",
      "        71141 14258.411133            26221.140625 30.0                    2\n",
      "        17419 14258.411133            29367.677734 53.0                    0\n",
      "        17419 14258.411133            29367.677734 48.0                    0\n",
      "        71141 14258.411133            26221.140625 18.0                    2\n",
      "        73982 14258.411133                0.000000 47.0                    3\n",
      "        22661 14258.411133            19928.066406 50.0                    0\n",
      "        44036 14258.411133            17830.376953 37.0                    2\n",
      "        22644 14258.411133                0.000000 57.0                    0\n",
      "        47870 14258.411133            29996.986328 40.0                    3\n",
      "        45101 14258.411133           104814.812500 17.0                    5\n",
      "        46450 14258.411133            68174.968750 16.0                    3\n",
      "        59325 14258.411133            13634.993164 51.0                    0\n",
      "        59663 14258.411133                0.000000 35.0                    2\n",
      "        45328 14258.411133            12586.147461 40.0                    0\n",
      "        45275 14258.411133            62888.890625 70.0                    0\n",
      "        45333 14258.411133            37758.441406 15.0                    1\n",
      "        45101 14258.411133           104814.812500 15.0                    5\n",
      "        45101 14258.411133           104814.812500 16.0                    5\n",
      "        46206 14258.411133              419.259277 39.0                    0\n",
      "        45101 14258.411133           104814.812500 17.0                    5\n",
      "         7906 14258.411133            27269.986328 29.0                    0\n",
      "        25606  9505.607422            48172.429688  6.0                    2\n"
     ]
    }
   ],
   "source": [
    "import pandas as pd\n",
    "\n",
    "period = 2025\n",
    "sim    = baseline           # shorthand\n",
    "\n",
    "# ------------------------------------------------------------\n",
    "# 1. Line up the three core flags plus the CPS weight\n",
    "# ------------------------------------------------------------\n",
    "has_cov = sim.calculate(\"has_marketplace_health_coverage\",\n",
    "                        map_to=\"person\", period=period)\n",
    "is_elg  = sim.calculate(\"is_aca_ptc_eligible\",\n",
    "                        map_to=\"person\", period=period)\n",
    "has_esi = sim.calculate(\"has_esi\",\n",
    "                        map_to=\"person\", period=period)\n",
    "\n",
    "df = pd.DataFrame({\n",
    "    \"has_cov\" : has_cov,\n",
    "    \"is_elg\"  : is_elg,\n",
    "    \"has_esi\" : has_esi,\n",
    "    \"weight\"  : has_cov.weights,\n",
    "})\n",
    "\n",
    "# ------------------------------------------------------------\n",
    "# 2. Keep Marketplace ✔️  AND  ACA-eligible ❌  AND  ESI ❌\n",
    "# ------------------------------------------------------------\n",
    "problem_no_esi = df[(df.has_cov) & (~df.is_elg) & (~df.has_esi)]\n",
    "\n",
    "print(\n",
    "    f\"{problem_no_esi.shape[0]:,} observations remain \"\n",
    "    f\"(weighted pop: {problem_no_esi.weight.sum()/1e6:,.1f} million)\"\n",
    ")\n",
    "\n",
    "# ------------------------------------------------------------\n",
    "# 3. Pull in only *your* existing explanatory vars\n",
    "# ------------------------------------------------------------\n",
    "extra_vars = [\n",
    "    \"tax_unit_earned_income\",\n",
    "\n",
    "    \"age\",\n",
    "    \"household_id\",\n",
    "    \"tax_unit_dependents\",\n",
    "]\n",
    "\n",
    "for v in extra_vars:\n",
    "    problem_no_esi[v] = (\n",
    "        sim.calculate(v, map_to=\"person\", period=period)\n",
    "           .loc[problem_no_esi.index]\n",
    "    )\n",
    "\n",
    "# ------------------------------------------------------------\n",
    "# 4. Quick look at the heaviest-weighted cases\n",
    "# ------------------------------------------------------------\n",
    "cols_to_show = [\n",
    "    \"household_id\",\n",
    "    \"weight\",\n",
    "    \"tax_unit_earned_income\",\n",
    "    \n",
    "    \"age\",\n",
    "    \"tax_unit_dependents\",\n",
    "]\n",
    "top50 = (problem_no_esi\n",
    "         .sort_values(\"weight\", ascending=False)\n",
    "         [cols_to_show]\n",
    "         .head(50))\n",
    "\n",
    "print(top50.to_string(index=False))\n"
   ]
  },
  {
   "cell_type": "code",
   "execution_count": 8,
   "metadata": {},
   "outputs": [
    {
     "data": {
      "text/plain": [
       "132094.3153464236"
      ]
     },
     "execution_count": 8,
     "metadata": {},
     "output_type": "execute_result"
    }
   ],
   "source": [
    "aca_premiums = baseline.calculate(\"aca_ptc\", map_to=\"household\", period=2025)\n",
    "\n",
    "aca_premiums.sum() / 1e6\n"
   ]
  },
  {
   "cell_type": "code",
   "execution_count": 9,
   "metadata": {},
   "outputs": [
    {
     "ename": "ValueError",
     "evalue": "Variable medicaid does not exist.",
     "output_type": "error",
     "traceback": [
      "\u001b[0;31m---------------------------------------------------------------------------\u001b[0m",
      "\u001b[0;31mValueError\u001b[0m                                Traceback (most recent call last)",
      "Cell \u001b[0;32mIn[9], line 1\u001b[0m\n\u001b[0;32m----> 1\u001b[0m medicaid \u001b[38;5;241m=\u001b[39m \u001b[43mbaseline\u001b[49m\u001b[38;5;241;43m.\u001b[39;49m\u001b[43mcalculate\u001b[49m\u001b[43m(\u001b[49m\u001b[38;5;124;43m\"\u001b[39;49m\u001b[38;5;124;43mmedicaid\u001b[39;49m\u001b[38;5;124;43m\"\u001b[39;49m\u001b[43m,\u001b[49m\u001b[43m \u001b[49m\u001b[43mmap_to\u001b[49m\u001b[38;5;241;43m=\u001b[39;49m\u001b[38;5;124;43m\"\u001b[39;49m\u001b[38;5;124;43mperson\u001b[39;49m\u001b[38;5;124;43m\"\u001b[39;49m\u001b[43m,\u001b[49m\u001b[43m \u001b[49m\u001b[43mperiod\u001b[49m\u001b[38;5;241;43m=\u001b[39;49m\u001b[38;5;241;43m2025\u001b[39;49m\u001b[43m)\u001b[49m\u001b[38;5;241m.\u001b[39msum()\n\u001b[1;32m      2\u001b[0m medicaid\u001b[38;5;241m/\u001b[39m\u001b[38;5;241m1e9\u001b[39m\n\u001b[1;32m      5\u001b[0m medicaid_per_capita \u001b[38;5;241m=\u001b[39m baseline\u001b[38;5;241m.\u001b[39mcalculate(\u001b[38;5;124m\"\u001b[39m\u001b[38;5;124mmedicaid_per_capita_cost\u001b[39m\u001b[38;5;124m\"\u001b[39m, period\u001b[38;5;241m=\u001b[39m\u001b[38;5;241m2025\u001b[39m)\u001b[38;5;241m.\u001b[39msum()\n",
      "File \u001b[0;32m~/miniconda3/envs/policyengine/lib/python3.10/site-packages/policyengine_core/simulations/microsimulation.py:54\u001b[0m, in \u001b[0;36mMicrosimulation.calculate\u001b[0;34m(self, variable_name, period, map_to, use_weights, decode_enums)\u001b[0m\n\u001b[1;32m     52\u001b[0m \u001b[38;5;28;01melif\u001b[39;00m period \u001b[38;5;129;01mis\u001b[39;00m \u001b[38;5;28;01mNone\u001b[39;00m \u001b[38;5;129;01mand\u001b[39;00m \u001b[38;5;28mself\u001b[39m\u001b[38;5;241m.\u001b[39mdefault_calculation_period \u001b[38;5;129;01mis\u001b[39;00m \u001b[38;5;129;01mnot\u001b[39;00m \u001b[38;5;28;01mNone\u001b[39;00m:\n\u001b[1;32m     53\u001b[0m     period \u001b[38;5;241m=\u001b[39m get_period(\u001b[38;5;28mself\u001b[39m\u001b[38;5;241m.\u001b[39mdefault_calculation_period)\n\u001b[0;32m---> 54\u001b[0m values \u001b[38;5;241m=\u001b[39m \u001b[38;5;28;43msuper\u001b[39;49m\u001b[43m(\u001b[49m\u001b[43m)\u001b[49m\u001b[38;5;241;43m.\u001b[39;49m\u001b[43mcalculate\u001b[49m\u001b[43m(\u001b[49m\u001b[43mvariable_name\u001b[49m\u001b[43m,\u001b[49m\u001b[43m \u001b[49m\u001b[43mperiod\u001b[49m\u001b[43m,\u001b[49m\u001b[43m \u001b[49m\u001b[43mmap_to\u001b[49m\u001b[43m,\u001b[49m\u001b[43m \u001b[49m\u001b[43mdecode_enums\u001b[49m\u001b[43m)\u001b[49m\n\u001b[1;32m     55\u001b[0m \u001b[38;5;28;01mif\u001b[39;00m \u001b[38;5;129;01mnot\u001b[39;00m use_weights:\n\u001b[1;32m     56\u001b[0m     \u001b[38;5;28;01mreturn\u001b[39;00m values\n",
      "File \u001b[0;32m~/miniconda3/envs/policyengine/lib/python3.10/site-packages/policyengine_core/simulations/simulation.py:477\u001b[0m, in \u001b[0;36mSimulation.calculate\u001b[0;34m(self, variable_name, period, map_to, decode_enums)\u001b[0m\n\u001b[1;32m    474\u001b[0m np\u001b[38;5;241m.\u001b[39mrandom\u001b[38;5;241m.\u001b[39mseed(\u001b[38;5;28mhash\u001b[39m(variable_name \u001b[38;5;241m+\u001b[39m \u001b[38;5;28mstr\u001b[39m(period)) \u001b[38;5;241m%\u001b[39m \u001b[38;5;241m1000000\u001b[39m)\n\u001b[1;32m    476\u001b[0m \u001b[38;5;28;01mtry\u001b[39;00m:\n\u001b[0;32m--> 477\u001b[0m     result \u001b[38;5;241m=\u001b[39m \u001b[38;5;28;43mself\u001b[39;49m\u001b[38;5;241;43m.\u001b[39;49m\u001b[43m_calculate\u001b[49m\u001b[43m(\u001b[49m\u001b[43mvariable_name\u001b[49m\u001b[43m,\u001b[49m\u001b[43m \u001b[49m\u001b[43mperiod\u001b[49m\u001b[43m)\u001b[49m\n\u001b[1;32m    478\u001b[0m     \u001b[38;5;28;01mif\u001b[39;00m \u001b[38;5;28misinstance\u001b[39m(result, EnumArray) \u001b[38;5;129;01mand\u001b[39;00m decode_enums:\n\u001b[1;32m    479\u001b[0m         result \u001b[38;5;241m=\u001b[39m result\u001b[38;5;241m.\u001b[39mdecode_to_str()\n",
      "File \u001b[0;32m~/miniconda3/envs/policyengine/lib/python3.10/site-packages/policyengine_core/simulations/simulation.py:602\u001b[0m, in \u001b[0;36mSimulation._calculate\u001b[0;34m(self, variable_name, period)\u001b[0m\n\u001b[1;32m    591\u001b[0m \u001b[38;5;250m\u001b[39m\u001b[38;5;124;03m\"\"\"\u001b[39;00m\n\u001b[1;32m    592\u001b[0m \u001b[38;5;124;03mCalculate the variable ``variable_name`` for the period ``period``, using the variable formula if it exists.\u001b[39;00m\n\u001b[1;32m    593\u001b[0m \n\u001b[0;32m   (...)\u001b[0m\n\u001b[1;32m    599\u001b[0m \u001b[38;5;124;03m    ArrayLike: The calculated variable.\u001b[39;00m\n\u001b[1;32m    600\u001b[0m \u001b[38;5;124;03m\"\"\"\u001b[39;00m\n\u001b[1;32m    601\u001b[0m \u001b[38;5;28;01mif\u001b[39;00m variable_name \u001b[38;5;129;01mnot\u001b[39;00m \u001b[38;5;129;01min\u001b[39;00m \u001b[38;5;28mself\u001b[39m\u001b[38;5;241m.\u001b[39mtax_benefit_system\u001b[38;5;241m.\u001b[39mvariables:\n\u001b[0;32m--> 602\u001b[0m     \u001b[38;5;28;01mraise\u001b[39;00m \u001b[38;5;167;01mValueError\u001b[39;00m(\u001b[38;5;124mf\u001b[39m\u001b[38;5;124m\"\u001b[39m\u001b[38;5;124mVariable \u001b[39m\u001b[38;5;132;01m{\u001b[39;00mvariable_name\u001b[38;5;132;01m}\u001b[39;00m\u001b[38;5;124m does not exist.\u001b[39m\u001b[38;5;124m\"\u001b[39m)\n\u001b[1;32m    603\u001b[0m population \u001b[38;5;241m=\u001b[39m \u001b[38;5;28mself\u001b[39m\u001b[38;5;241m.\u001b[39mget_variable_population(variable_name)\n\u001b[1;32m    604\u001b[0m holder \u001b[38;5;241m=\u001b[39m population\u001b[38;5;241m.\u001b[39mget_holder(variable_name)\n",
      "\u001b[0;31mValueError\u001b[0m: Variable medicaid does not exist."
     ]
    }
   ],
   "source": [
    "medicaid = baseline.calculate(\"medicaid\", map_to=\"person\", period=2025).sum()\n",
    "medicaid/1e9\n",
    "\n",
    "\n",
    "medicaid_per_capita = baseline.calculate(\"medicaid_per_capita_cost\", period=2025).sum()\n",
    "\n",
    "medicaid_per_capita/1e9"
   ]
  },
  {
   "cell_type": "code",
   "execution_count": 45,
   "metadata": {},
   "outputs": [],
   "source": [
    "has_medicaid = baseline.calculate(\"medicaid\", map_to=\"person\", period=2025) >0\n",
    "has_medicaid_per_capita = baseline.calculate(\"medicaid_per_capita_cost\", period=2025) >0\n",
    "\n",
    "(~has_medicaid & has_medicaid_per_capita).sum() \n",
    "\n",
    "target = has_medicaid & ~has_medicaid_per_capita"
   ]
  },
  {
   "cell_type": "code",
   "execution_count": 51,
   "metadata": {},
   "outputs": [
    {
     "data": {
      "text/plain": [
       "array(['WI', 'NC'], dtype=object)"
      ]
     },
     "execution_count": 51,
     "metadata": {},
     "output_type": "execute_result"
    }
   ],
   "source": [
    "medicaid_cat = baseline.calculate(\"medicaid_group\", map_to=\"person\", period=2025)\n",
    "medicaid_cat[target]\n",
    "\n",
    "\n",
    "df = baseline.calculate_dataframe([\"medicaid\", \"medicaid_per_capita_cost\", \"medicaid_group\", \"state_code\"], map_to=\"person\", period=2025)\n",
    "df[\"target\"] = (df.medicaid > 0 )& (df.medicaid_per_capita_cost == 0)\n",
    "df[df.target].state_code.unique()"
   ]
  },
  {
   "cell_type": "code",
   "execution_count": 11,
   "metadata": {},
   "outputs": [
    {
     "data": {
      "text/plain": [
       "122636.457876885"
      ]
     },
     "execution_count": 11,
     "metadata": {},
     "output_type": "execute_result"
    }
   ],
   "source": [
    "# Check how many households have aca_ptc > 0\n",
    "aca_ptc = baseline.calculate(\"aca_ptc\", map_to=\"household\",\n",
    "period=2025)\n",
    "\n",
    "# Count households with aca_ptc > 0\n",
    "households_with_ptc = (aca_ptc > 0).sum()\n",
    "\n",
    "\n",
    "# Weighted count\n",
    "weighted_households_with_ptc = ((aca_ptc > 0) *\n",
    "aca_ptc.weights).sum()\n",
    "\n",
    "weighted_households_with_ptc/1e6"
   ]
  }
 ],
 "metadata": {
  "kernelspec": {
   "display_name": "policyengine",
   "language": "python",
   "name": "python3"
  },
  "language_info": {
   "codemirror_mode": {
    "name": "ipython",
    "version": 3
   },
   "file_extension": ".py",
   "mimetype": "text/x-python",
   "name": "python",
   "nbconvert_exporter": "python",
   "pygments_lexer": "ipython3",
   "version": "3.10.16"
  }
 },
 "nbformat": 4,
 "nbformat_minor": 2
}
