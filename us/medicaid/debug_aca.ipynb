{
 "cells": [
  {
   "cell_type": "code",
   "execution_count": 1,
   "metadata": {},
   "outputs": [
    {
     "name": "stderr",
     "output_type": "stream",
     "text": [
      "/Users/daphnehansell/miniconda3/envs/policyengine/lib/python3.10/site-packages/tqdm/auto.py:21: TqdmWarning: IProgress not found. Please update jupyter and ipywidgets. See https://ipywidgets.readthedocs.io/en/stable/user_install.html\n",
      "  from .autonotebook import tqdm as notebook_tqdm\n"
     ]
    }
   ],
   "source": [
    "from policyengine_us import Microsimulation\n",
    "from policyengine_core.reforms import Reform\n",
    "baseline = Microsimulation(dataset=\"hf://policyengine/policyengine-us-data/enhanced_cps_2024.h5\")\n"
   ]
  },
  {
   "cell_type": "code",
   "execution_count": 13,
   "metadata": {},
   "outputs": [
    {
     "data": {
      "text/plain": [
       "20.285684746812855"
      ]
     },
     "execution_count": 13,
     "metadata": {},
     "output_type": "execute_result"
    }
   ],
   "source": [
    "baseline_aca_enrollment = baseline.calculate(\"has_marketplace_health_coverage\", map_to=\"person\", period=2025).sum()\n",
    "\n",
    "baseline_aca_enrollment/1e6"
   ]
  },
  {
   "cell_type": "code",
   "execution_count": 10,
   "metadata": {},
   "outputs": [
    {
     "data": {
      "text/plain": [
       "11.734775520414182"
      ]
     },
     "execution_count": 10,
     "metadata": {},
     "output_type": "execute_result"
    }
   ],
   "source": [
    "baseline_has_coverage = baseline.calculate(\"has_marketplace_health_coverage\", map_to=\"person\", period=2025)\n",
    "baseline_is_eligible = baseline.calculate(\"is_aca_ptc_eligible\", map_to=\"person\", period=2025)\n",
    "\n",
    "baseline_aca = ((baseline_has_coverage & baseline_is_eligible)*baseline_has_coverage.weights).sum()\n",
    "\n",
    "baseline_aca/1e6"
   ]
  },
  {
   "cell_type": "code",
   "execution_count": 37,
   "metadata": {},
   "outputs": [
    {
     "name": "stdout",
     "output_type": "stream",
     "text": [
      "1,384 observations (weighted: 8,550,909) do not overlap.\n",
      "       household_id         weight  employment_income   age  has_esi  \\\n",
      "45915         81253  343056.125000           0.000000   8.0     True   \n",
      "45914         81253  343056.125000       14772.141602  34.0     True   \n",
      "45913         81253  343056.125000      120866.976562  34.0     True   \n",
      "43445         77870  320219.375000        2856.855713  26.0    False   \n",
      "27730         47054  244629.296875           0.000000  30.0    False   \n",
      "10466         17784  198591.671875           0.000000  43.0    False   \n",
      "953            3649  183900.546875           0.000000  33.0    False   \n",
      "46743         82375  143590.609375           0.000000  31.0    False   \n",
      "46746         82375  143590.609375           0.000000   8.0    False   \n",
      "46742         82375  143590.609375           0.000000  35.0    False   \n",
      "\n",
      "       has_marketplace_health_coverage  \n",
      "45915                             True  \n",
      "45914                             True  \n",
      "45913                             True  \n",
      "43445                             True  \n",
      "27730                             True  \n",
      "10466                             True  \n",
      "953                               True  \n",
      "46743                             True  \n",
      "46746                             True  \n",
      "46742                             True  \n"
     ]
    }
   ],
   "source": [
    "import pandas as pd\n",
    "\n",
    "period = 2025           # keep this in one place so it’s easy to change\n",
    "sim    = baseline       # just so the code is a bit shorter\n",
    "\n",
    "# 1. Pull the two flags (and the person-level sampling weight) into one DataFrame\n",
    "has_cov   = sim.calculate(\"has_marketplace_health_coverage\",\n",
    "                           map_to=\"person\", period=period)\n",
    "is_elg    = sim.calculate(\"is_aca_ptc_eligible\",\n",
    "                           map_to=\"person\", period=period)\n",
    "\n",
    "df = pd.DataFrame({\n",
    "    \"has_cov\" : has_cov,\n",
    "    \"is_elg\"  : is_elg,\n",
    "    \"weight\"  : has_cov.weights          # the Series carries its own CPS weight\n",
    "})\n",
    "\n",
    "# 2. Keep only people who HAVE Marketplace coverage but FAIL the eligibility flag\n",
    "problem = df[(df.has_cov) & (~df.is_elg)]\n",
    "print(f\"{problem.shape[0]:,} observations \"\n",
    "      f\"(weighted: {problem.weight.sum():,.0f}) do not overlap.\")\n",
    "\n",
    "# 3. (Optional) Bring in a few explanatory variables so you can see *why*\n",
    "extra_vars = [\n",
    "    \"employment_income\",\n",
    "    \"self_employment_income\",\n",
    "    \"has_esi\",     # or whatever ESI flag you rely on\n",
    "    \"age\",\n",
    "    \"household_id\",\n",
    "    \"has_marketplace_health_coverage\",\n",
    "    \"tax_unit_dependents\",\n",
    "]\n",
    "\n",
    "for v in extra_vars:\n",
    "    problem[v] = sim.calculate(v, map_to=\"person\", period=period).loc[problem.index]\n",
    "\n",
    "# 4. Quickly eyeball the 10 highest-weight cases\n",
    "cols_to_show = [\"household_id\", \"weight\", \"employment_income\", \"age\",\n",
    "                \"has_esi\",  \"has_marketplace_health_coverage\",\n",
    "              \n",
    "              \n",
    "                ]\n",
    "print(problem.sort_values(\"weight\", ascending=False)[cols_to_show].head(10))\n"
   ]
  },
  {
   "cell_type": "code",
   "execution_count": 30,
   "metadata": {},
   "outputs": [
    {
     "data": {
      "text/plain": [
       "137.17248543564725"
      ]
     },
     "execution_count": 30,
     "metadata": {},
     "output_type": "execute_result"
    }
   ],
   "source": [
    "baseline_has_esi = baseline.calculate(\"has_esi\", map_to=\"person\", period=2025)\n",
    "baseline_has_esi.sum() / 1e6"
   ]
  },
  {
   "cell_type": "code",
   "execution_count": 33,
   "metadata": {},
   "outputs": [
    {
     "data": {
      "text/plain": [
       "1.689951476693666"
      ]
     },
     "execution_count": 33,
     "metadata": {},
     "output_type": "execute_result"
    }
   ],
   "source": [
    "double_coverage = ((baseline_has_coverage & baseline_has_esi)*baseline_has_coverage.weights).sum()\n",
    "double_coverage/1e6"
   ]
  },
  {
   "cell_type": "code",
   "execution_count": 44,
   "metadata": {},
   "outputs": [
    {
     "name": "stdout",
     "output_type": "stream",
     "text": [
      "1,112 observations remain (weighted pop: 6.9 million)\n",
      "\n",
      "Top-weighted mismatches (Marketplace ✔️ / PTC-eligible ❌ / no ESI):\n",
      " household_id        weight  employment_income  self_employment_income  age  tax_unit_dependents\n",
      "        77870 320219.375000        2856.855713                0.000000 26.0                    0\n",
      "        47054 244629.296875           0.000000                0.000000 30.0                    0\n",
      "        17784 198591.671875           0.000000                0.000000 43.0                    0\n",
      "         3649 183900.546875           0.000000                0.000000 33.0                    0\n",
      "        82375 143590.609375           0.000000             6681.662598 31.0                    4\n",
      "        82375 143590.609375           0.000000                0.000000 35.0                    4\n",
      "        82375 143590.609375           0.000000                0.000000 12.0                    4\n",
      "        82375 143590.609375           0.000000                0.000000  8.0                    4\n",
      "        82375 143590.609375           0.000000                0.000000 17.0                    4\n",
      "        82375 143590.609375           0.000000                0.000000  3.0                    4\n"
     ]
    }
   ],
   "source": [
    "import pandas as pd\n",
    "\n",
    "period = 2025\n",
    "sim    = baseline           # shorthand\n",
    "\n",
    "# ------------------------------------------------------------\n",
    "# 1. Line up the three core flags plus the CPS weight\n",
    "# ------------------------------------------------------------\n",
    "has_cov = sim.calculate(\"has_marketplace_health_coverage\",\n",
    "                        map_to=\"person\", period=period)\n",
    "is_elg  = sim.calculate(\"is_aca_ptc_eligible\",\n",
    "                        map_to=\"person\", period=period)\n",
    "has_esi = sim.calculate(\"has_esi\",\n",
    "                        map_to=\"person\", period=period)\n",
    "\n",
    "df = pd.DataFrame({\n",
    "    \"has_cov\" : has_cov,\n",
    "    \"is_elg\"  : is_elg,\n",
    "    \"has_esi\" : has_esi,\n",
    "    \"weight\"  : has_cov.weights,\n",
    "})\n",
    "\n",
    "# ------------------------------------------------------------\n",
    "# 2. Keep Marketplace ✔️  AND  ACA-eligible ❌  AND  ESI ❌\n",
    "# ------------------------------------------------------------\n",
    "problem_no_esi = df[(df.has_cov) & (~df.is_elg) & (~df.has_esi)]\n",
    "\n",
    "print(\n",
    "    f\"{problem_no_esi.shape[0]:,} observations remain \"\n",
    "    f\"(weighted pop: {problem_no_esi.weight.sum()/1e6:,.1f} million)\"\n",
    ")\n",
    "\n",
    "# ------------------------------------------------------------\n",
    "# 3. Pull in only *your* existing explanatory vars\n",
    "# ------------------------------------------------------------\n",
    "extra_vars = [\n",
    "    \"employment_income\",\n",
    "    \"self_employment_income\",\n",
    "    \"age\",\n",
    "    \"household_id\",\n",
    "    \"tax_unit_dependents\",\n",
    "]\n",
    "\n",
    "for v in extra_vars:\n",
    "    problem_no_esi[v] = (\n",
    "        sim.calculate(v, map_to=\"person\", period=period)\n",
    "           .loc[problem_no_esi.index]\n",
    "    )\n",
    "\n",
    "# ------------------------------------------------------------\n",
    "# 4. Quick look at the heaviest-weighted cases\n",
    "# ------------------------------------------------------------\n",
    "cols_to_show = [\n",
    "    \"household_id\",\n",
    "    \"weight\",\n",
    "    \"employment_income\",\n",
    "    \"self_employment_income\",\n",
    "    \"age\",\n",
    "    \"tax_unit_dependents\",\n",
    "]\n",
    "top50 = (problem_no_esi\n",
    "         .sort_values(\"weight\", ascending=False)\n",
    "         [cols_to_show]\n",
    "         .head(50))\n",
    "\n",
    "print(top50.to_string(index=False))\n"
   ]
  }
 ],
 "metadata": {
  "kernelspec": {
   "display_name": "policyengine",
   "language": "python",
   "name": "python3"
  },
  "language_info": {
   "codemirror_mode": {
    "name": "ipython",
    "version": 3
   },
   "file_extension": ".py",
   "mimetype": "text/x-python",
   "name": "python",
   "nbconvert_exporter": "python",
   "pygments_lexer": "ipython3",
   "version": "3.10.16"
  }
 },
 "nbformat": 4,
 "nbformat_minor": 2
}
