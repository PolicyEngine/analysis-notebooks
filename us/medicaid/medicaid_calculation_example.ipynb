{
 "cells": [
  {
   "cell_type": "code",
   "execution_count": 54,
   "metadata": {},
   "outputs": [],
   "source": [
    "# Import the PolicyEngine US simulation library\n",
    "from policyengine_us import Simulation"
   ]
  },
  {
   "cell_type": "code",
   "execution_count": 55,
   "metadata": {},
   "outputs": [],
   "source": [
    "# Define the household situation with people, their relationships, and characteristics\n",
    "situation = {\n",
    " # Define all people in the household with their individual characteristics\n",
    " \"people\": {\n",
    "   \"you\": {\n",
    "     \"age\": {\n",
    "       \"2026\": 40  # Primary earner, age 40 in 2026\n",
    "     },\n",
    "     \"employment_income\": {\n",
    "       \"2026\": 53300  \n",
    "     }\n",
    "   },\n",
    "   \"your partner\": {\n",
    "     \"age\": {\n",
    "       \"2026\": 40  \n",
    "     },\n",
    "     \"employment_income\": {\n",
    "       \"2026\": 53299  #Household income is  1 belo2 400% fpl for 2025 \n",
    "     }\n",
    "   },\n",
    "   \"your first dependent\": {\n",
    "     \"age\": {\n",
    "       \"2026\": 3 \n",
    "     },\n",
    "     \"employment_income\": {\n",
    "       \"2026\": 0 \n",
    "     }\n",
    "   }\n",
    " },\n",
    " \n",
    " \"families\": {\n",
    "   \"your family\": {\n",
    "     \"members\": [\n",
    "       \"you\",\n",
    "       \"your partner\", \n",
    "       \"your first dependent\" \n",
    "     ]\n",
    "   }\n",
    " },\n",
    " \n",
    " \"marital_units\": {\n",
    "   \"your marital unit\": {\n",
    "     \"members\": [\n",
    "       \"you\",\n",
    "       \"your partner\"  \n",
    "     ]\n",
    "   },\n",
    "   \"your first dependent's marital unit\": {\n",
    "     \"members\": [\n",
    "       \"your first dependent\" \n",
    "     ],\n",
    "     \"marital_unit_id\": {\n",
    "       \"2026\": 1  \n",
    "     }\n",
    "   }\n",
    " },\n",
    " \n",
    " \"tax_units\": {\n",
    "   \"your tax unit\": {\n",
    "     \"members\": [\n",
    "       \"you\",\n",
    "       \"your partner\",\n",
    "       \"your first dependent\" \n",
    "     ]\n",
    "   }\n",
    " },\n",
    " \n",
    " \"spm_units\": {\n",
    "   \"your household\": {\n",
    "     \"members\": [\n",
    "       \"you\",\n",
    "       \"your partner\",\n",
    "       \"your first dependent\"  \n",
    "     ]\n",
    "   }\n",
    " },\n",
    " \n",
    " # Define households (for geographic and household-level benefits)\n",
    " \"households\": {\n",
    "   \"your household\": {\n",
    "     \"members\": [\n",
    "       \"you\",\n",
    "       \"your partner\", \n",
    "       \"your first dependent\"  # All live in the same household\n",
    "     ],\n",
    "     \"state_name\": {\n",
    "       \"2026\": \"NY\"  # Located in New York state\n",
    "     },\n",
    "    \"county_fips\": {\n",
    "      \"2026\": \"36061\"\n",
    "    }\n",
    "   }\n",
    " }\n",
    "}"
   ]
  },
  {
   "cell_type": "code",
   "execution_count": 56,
   "metadata": {},
   "outputs": [],
   "source": [
    "# Create a simulation object using the defined situation\n",
    "simulation = Simulation(\n",
    "   situation=situation,\n",
    ")\n"
   ]
  },
  {
   "cell_type": "code",
   "execution_count": 57,
   "metadata": {},
   "outputs": [],
   "source": [
    "# Calculate Medicaid eligibility for each person and convert to Python list\n",
    "medicaid_eligibility = simulation.calculate(\"is_medicaid_eligible\", period=2026).tolist()\n",
    "\n",
    "# Calculate CHIP (Children's Health Insurance Program) eligibility for each person and convert to list\n",
    "chip_eligibility = simulation.calculate(\"is_chip_eligible\", period=2026).tolist()\n",
    "\n",
    "# Calculate ACA Premium Tax Credits for the tax unit and convert to list\n",
    "aca = simulation.calculate(\"premium_tax_credit\", period=2026).tolist()\n",
    "\n",
    "\n",
    "#MTR with healthcare benefits\n",
    "mtr = simulation.calculate(\"marginal_tax_rate\", period=2026).tolist()\n",
    "mtrh = simulation.calculate(\"marginal_tax_rate_including_health_benefits\", period=2026).tolist()"
   ]
  },
  {
   "cell_type": "code",
   "execution_count": 58,
   "metadata": {},
   "outputs": [
    {
     "data": {
      "text/plain": [
       "[False, False, False]"
      ]
     },
     "execution_count": 58,
     "metadata": {},
     "output_type": "execute_result"
    }
   ],
   "source": [
    "# Display the results\n",
    "medicaid_eligibility"
   ]
  },
  {
   "cell_type": "code",
   "execution_count": 59,
   "metadata": {},
   "outputs": [
    {
     "data": {
      "text/plain": [
       "[False, False, True]"
      ]
     },
     "execution_count": 59,
     "metadata": {},
     "output_type": "execute_result"
    }
   ],
   "source": [
    "# Display the results\n",
    "chip_eligibility"
   ]
  },
  {
   "cell_type": "code",
   "execution_count": 60,
   "metadata": {},
   "outputs": [
    {
     "data": {
      "text/plain": [
       "[10993.09375]"
      ]
     },
     "execution_count": 60,
     "metadata": {},
     "output_type": "execute_result"
    }
   ],
   "source": [
    "# Display the results\n",
    "aca"
   ]
  },
  {
   "cell_type": "code",
   "execution_count": 61,
   "metadata": {},
   "outputs": [
    {
     "data": {
      "text/plain": [
       "[0.281499981880188, 0.281499981880188, 0.0]"
      ]
     },
     "execution_count": 61,
     "metadata": {},
     "output_type": "execute_result"
    }
   ],
   "source": [
    "mtr"
   ]
  },
  {
   "cell_type": "code",
   "execution_count": 62,
   "metadata": {},
   "outputs": [
    {
     "data": {
      "text/plain": [
       "[11.274593353271484, 11.274593353271484, 0.0]"
      ]
     },
     "execution_count": 62,
     "metadata": {},
     "output_type": "execute_result"
    }
   ],
   "source": [
    "mtrh"
   ]
  },
  {
   "cell_type": "code",
   "execution_count": null,
   "metadata": {},
   "outputs": [],
   "source": [
    "import plotly.graph_objects as go\n",
    "\n",
    "# ---------- New York: family of 3 ----------\n",
    "fig_ny = go.Figure()\n",
    "\n",
    "# Baseline (solid)\n",
    "fig_ny.add_trace(go.Scatter(\n",
    "    x=household_income_ny,\n",
    "    y=baseline_ny_health_net_income,\n",
    "    mode='lines',\n",
    "    name='Health Net Income (Baseline)',\n",
    "    line=dict(color=DARK_GRAY, width=2)        # use your palette constant\n",
    "))\n",
    "\n",
    "# Reform (dotted)\n",
    "fig_ny.add_trace(go.Scatter(\n",
    "    x=household_income_ny,\n",
    "    y=reform_ny_health_net_income,\n",
    "    mode='lines',\n",
    "    name='Health Net Income (Reform)',\n",
    "    line=dict(color=DARK_GRAY, width=2, dash='dot')\n",
    "))\n",
    "\n",
    "# Layout\n",
    "fig_ny.update_layout(\n",
    "    title='New York Household (Family of 3) – Health-Adjusted Net Income by Household Income',\n",
    "    xaxis_title='Household Income',\n",
    "    yaxis_title='Health-Adjusted Net Income',\n",
    "    legend_title='Scenario',\n",
    "    xaxis=dict(tickformat='$,.0f', range=[0, 400_000]),\n",
    "    yaxis=dict(tickformat='$,.0f'),\n",
    "    height=600,\n",
    "    width=1000\n",
    ")\n",
    "\n",
    "# Optional wrapper if you use one elsewhere\n",
    "fig_ny = format_fig(fig_ny)\n",
    "\n",
    "fig_ny.show()\n"
   ]
  }
 ],
 "metadata": {
  "kernelspec": {
   "display_name": "base",
   "language": "python",
   "name": "python3"
  },
  "language_info": {
   "codemirror_mode": {
    "name": "ipython",
    "version": 3
   },
   "file_extension": ".py",
   "mimetype": "text/x-python",
   "name": "python",
   "nbconvert_exporter": "python",
   "pygments_lexer": "ipython3",
   "version": "3.12.2"
  }
 },
 "nbformat": 4,
 "nbformat_minor": 2
}
