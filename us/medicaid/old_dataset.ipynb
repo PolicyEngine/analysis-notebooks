{
 "cells": [
  {
   "cell_type": "code",
   "execution_count": 1,
   "metadata": {},
   "outputs": [
    {
     "name": "stderr",
     "output_type": "stream",
     "text": [
      "/Users/daphnehansell/miniconda3/envs/policyengine/lib/python3.10/site-packages/tqdm/auto.py:21: TqdmWarning: IProgress not found. Please update jupyter and ipywidgets. See https://ipywidgets.readthedocs.io/en/stable/user_install.html\n",
      "  from .autonotebook import tqdm as notebook_tqdm\n"
     ]
    }
   ],
   "source": [
    "from policyengine_us import Microsimulation"
   ]
  },
  {
   "cell_type": "code",
   "execution_count": 4,
   "metadata": {},
   "outputs": [],
   "source": [
    "sim = Microsimulation(dataset=\"/Users/daphnehansell/Documents/GitHub/analysis-notebooks/us/medicaid/enhanced_cps_2024.h5\")"
   ]
  },
  {
   "cell_type": "code",
   "execution_count": 5,
   "metadata": {},
   "outputs": [
    {
     "data": {
      "text/plain": [
       "               value       weight\n",
       "0      107805.242188     7.193183\n",
       "1       67854.984375     5.331448\n",
       "2       20952.380859     5.331448\n",
       "3           1.457558  1523.087158\n",
       "4           0.000000  1523.087158\n",
       "...              ...          ...\n",
       "56763   -1044.119141     0.019413\n",
       "56764   31625.267578     0.001958\n",
       "56765   15550.738281     0.002303\n",
       "56766   24284.789062     0.002303\n",
       "56767   86636.476562     0.003094\n",
       "\n",
       "[56768 rows x 2 columns]"
      ]
     },
     "execution_count": 5,
     "metadata": {},
     "output_type": "execute_result"
    }
   ],
   "source": [
    "sim.calculate('adjusted_gross_income')"
   ]
  },
  {
   "cell_type": "code",
   "execution_count": 8,
   "metadata": {},
   "outputs": [
    {
     "data": {
      "text/plain": [
       "               value       weight\n",
       "0          98.845360   608.083069\n",
       "1           0.790763   608.083069\n",
       "2           0.000000   608.083069\n",
       "3       43622.523438  1576.879639\n",
       "4           0.000000  1160.135986\n",
       "...              ...          ...\n",
       "77421   30575.771484   709.115173\n",
       "77422       0.000000   586.208740\n",
       "77423   26181.121094   387.369049\n",
       "77424  110852.523438   387.369049\n",
       "77425  120745.625000   723.155579\n",
       "\n",
       "[77426 rows x 2 columns]"
      ]
     },
     "execution_count": 8,
     "metadata": {},
     "output_type": "execute_result"
    }
   ],
   "source": [
    "sim_new = Microsimulation()\n",
    "sim_new.calculate('adjusted_gross_income')"
   ]
  },
  {
   "cell_type": "code",
   "execution_count": null,
   "metadata": {},
   "outputs": [],
   "source": []
  }
 ],
 "metadata": {
  "kernelspec": {
   "display_name": "policyengine",
   "language": "python",
   "name": "python3"
  },
  "language_info": {
   "codemirror_mode": {
    "name": "ipython",
    "version": 3
   },
   "file_extension": ".py",
   "mimetype": "text/x-python",
   "name": "python",
   "nbconvert_exporter": "python",
   "pygments_lexer": "ipython3",
   "version": "3.10.16"
  }
 },
 "nbformat": 4,
 "nbformat_minor": 2
}
