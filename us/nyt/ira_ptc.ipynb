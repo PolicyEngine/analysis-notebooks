{
 "cells": [
  {
   "cell_type": "code",
   "execution_count": 2,
   "metadata": {},
   "outputs": [
    {
     "ename": "NameError",
     "evalue": "name 'baseline_2025' is not defined",
     "output_type": "error",
     "traceback": [
      "\u001b[0;31m---------------------------------------------------------------------------\u001b[0m",
      "\u001b[0;31mNameError\u001b[0m                                 Traceback (most recent call last)",
      "Cell \u001b[0;32mIn[2], line 2\u001b[0m\n\u001b[1;32m      1\u001b[0m \u001b[38;5;66;03m# STEP 0 — run this right after you define baseline_2025\u001b[39;00m\n\u001b[0;32m----> 2\u001b[0m coverage_flag_2025 \u001b[38;5;241m=\u001b[39m \u001b[43mbaseline_2025\u001b[49m\u001b[38;5;241m.\u001b[39mcalculate(\n\u001b[1;32m      3\u001b[0m     \u001b[38;5;124m\"\u001b[39m\u001b[38;5;124mhas_marketplace_health_coverage\u001b[39m\u001b[38;5;124m\"\u001b[39m, map_to\u001b[38;5;241m=\u001b[39m\u001b[38;5;124m\"\u001b[39m\u001b[38;5;124mhousehold\u001b[39m\u001b[38;5;124m\"\u001b[39m, period\u001b[38;5;241m=\u001b[39mYEAR_FILTER\n\u001b[1;32m      4\u001b[0m )\n\u001b[1;32m      6\u001b[0m \u001b[38;5;66;03m# Convert to Boolean explicitly and keep only the TRUEs\u001b[39;00m\n\u001b[1;32m      7\u001b[0m ptc_households \u001b[38;5;241m=\u001b[39m coverage_flag_2025\u001b[38;5;241m.\u001b[39mindex[coverage_flag_2025\u001b[38;5;241m.\u001b[39mastype(\u001b[38;5;28mbool\u001b[39m)]\n",
      "\u001b[0;31mNameError\u001b[0m: name 'baseline_2025' is not defined"
     ]
    }
   ],
   "source": [
    "# STEP 0 — run this right after you define baseline_2025\n",
    "coverage_flag_2025 = baseline_2025.calculate(\n",
    "    \"has_marketplace_health_coverage\", map_to=\"household\", period=YEAR_FILTER\n",
    ")\n",
    "\n",
    "# Convert to Boolean explicitly and keep only the TRUEs\n",
    "ptc_households = coverage_flag_2025.index[coverage_flag_2025.astype(bool)]\n",
    "\n",
    "print(\"Households flagged as Marketplace in 2025:\", len(ptc_households))\n"
   ]
  },
  {
   "cell_type": "code",
   "execution_count": 6,
   "metadata": {},
   "outputs": [
    {
     "name": "stdout",
     "output_type": "stream",
     "text": [
      "Total households with ANY PTC in 2026 baseline: 0.0\n",
      "…inside Marketplace subset: 0\n"
     ]
    }
   ],
   "source": [
    "# STEP 1 — run this right after you create baseline_2026 (before the reform)\n",
    "\n",
    "ptc_all = baseline_2026.calculate(\"aca_ptc\", map_to=\"household\", period=YEAR_ANALYZE)\n",
    "print(\"Total households with ANY PTC in 2026 baseline:\", (ptc_all > 0).sum())\n",
    "\n",
    "# Check inside the Marketplace subset\n",
    "baseline_ptc_subset = ptc_all.loc[ptc_households]\n",
    "print(\"…inside Marketplace subset:\", (baseline_ptc_subset > 0).sum())\n"
   ]
  },
  {
   "cell_type": "code",
   "execution_count": 1,
   "metadata": {},
   "outputs": [
    {
     "ename": "NameError",
     "evalue": "name 'baseline_2026' is not defined",
     "output_type": "error",
     "traceback": [
      "\u001b[0;31m---------------------------------------------------------------------------\u001b[0m",
      "\u001b[0;31mNameError\u001b[0m                                 Traceback (most recent call last)",
      "Cell \u001b[0;32mIn[1], line 2\u001b[0m\n\u001b[1;32m      1\u001b[0m \u001b[38;5;66;03m# Ensure baseline_2026 is defined in a previous cell\u001b[39;00m\n\u001b[0;32m----> 2\u001b[0m \u001b[43mbaseline_2026\u001b[49m\u001b[38;5;241m.\u001b[39mcalculate(\u001b[38;5;124m\"\u001b[39m\u001b[38;5;124msecond_lowest_cost_silver_premium\u001b[39m\u001b[38;5;124m\"\u001b[39m,\n\u001b[1;32m      3\u001b[0m                         map_to\u001b[38;5;241m=\u001b[39m\u001b[38;5;124m\"\u001b[39m\u001b[38;5;124mhousehold\u001b[39m\u001b[38;5;124m\"\u001b[39m, period\u001b[38;5;241m=\u001b[39m\u001b[38;5;241m2026\u001b[39m)\u001b[38;5;241m.\u001b[39mdescribe()\n",
      "\u001b[0;31mNameError\u001b[0m: name 'baseline_2026' is not defined"
     ]
    }
   ],
   "source": []
  },
  {
   "cell_type": "code",
   "execution_count": 5,
   "metadata": {},
   "outputs": [
    {
     "name": "stderr",
     "output_type": "stream",
     "text": [
      "/Users/daphnehansell/miniconda3/envs/policyengine/lib/python3.10/site-packages/tqdm/auto.py:21: TqdmWarning: IProgress not found. Please update jupyter and ipywidgets. See https://ipywidgets.readthedocs.io/en/stable/user_install.html\n",
      "  from .autonotebook import tqdm as notebook_tqdm\n"
     ]
    },
    {
     "name": "stdout",
     "output_type": "stream",
     "text": [
      "2,330 households enrolled in Marketplace coverage in 2025\n",
      "Saved 2,330 rows to aca_ptc_extension_impacts.csv\n"
     ]
    }
   ],
   "source": [
    "# ---------------------------------------------------------------------\n",
    "# 0. Imports & constants\n",
    "# ---------------------------------------------------------------------\n",
    "from policyengine_us import Microsimulation\n",
    "from policyengine_core.reforms import Reform\n",
    "import pandas as pd\n",
    "\n",
    "DATASET       = \"hf://policyengine/policyengine-us-data/enhanced_cps_2024.h5\"\n",
    "YEAR_ANALYZE  = 2026   # policy year we care about\n",
    "YEAR_FILTER   = 2025   # year used to flag Marketplace households\n",
    "OUTPUT_CSV    = \"aca_ptc_extension_impacts.csv\"\n",
    "\n",
    "# ---------------------------------------------------------------------\n",
    "# 1. Reform: keep the ARPA / IRA enhanced PTC schedule past 2025\n",
    "# ---------------------------------------------------------------------\n",
    "aca_extension_reform = Reform.from_dict(\n",
    "    {\n",
    "        # 0 – 150 % FPL: zero expected contribution\n",
    "        \"gov.aca.ptc_phase_out_rate[0].amount\": {\"2026-01-01.2100-12-31\": 0},\n",
    "        \"gov.aca.ptc_phase_out_rate[1].amount\": {\"2026-01-01.2100-12-31\": 0},\n",
    "\n",
    "        # 150 – 400 % FPL glide-path 0 → 8.5 %\n",
    "        \"gov.aca.ptc_phase_out_rate[2].amount\": {\"2026-01-01.2100-12-31\": 0},\n",
    "        \"gov.aca.ptc_phase_out_rate[3].amount\": {\"2026-01-01.2100-12-31\": 0.02},\n",
    "        \"gov.aca.ptc_phase_out_rate[4].amount\": {\"2026-01-01.2100-12-31\": 0.04},\n",
    "        \"gov.aca.ptc_phase_out_rate[5].amount\": {\"2026-01-01.2100-12-31\": 0.06},\n",
    "        \"gov.aca.ptc_phase_out_rate[6].amount\": {\"2026-01-01.2100-12-31\": 0.085},\n",
    "\n",
    "        # Keep subsidies available above 400 % FPL\n",
    "        \"gov.aca.ptc_income_eligibility[2].amount\": {\"2026-01-01.2100-12-31\": True},\n",
    "    },\n",
    "    country_id=\"us\",\n",
    ")\n",
    "\n",
    "# ---------------------------------------------------------------------\n",
    "# 2. Identify Marketplace households in 2025\n",
    "# ---------------------------------------------------------------------\n",
    "baseline_2025 = Microsimulation(dataset=DATASET)\n",
    "\n",
    "coverage_flag_2025 = baseline_2025.calculate(\n",
    "    \"has_marketplace_health_coverage\", map_to=\"household\", period=YEAR_FILTER\n",
    ")\n",
    "ptc_households = coverage_flag_2025.index[coverage_flag_2025.astype(bool)]\n",
    "\n",
    "print(f\"{len(ptc_households):,} households enrolled in Marketplace coverage in {YEAR_FILTER}\")\n",
    "\n",
    "# ---------------------------------------------------------------------\n",
    "# 3. Run baseline and reform for 2026\n",
    "# ---------------------------------------------------------------------\n",
    "baseline_2026 = Microsimulation(dataset=DATASET)\n",
    "reform_2026   = Microsimulation(reform=aca_extension_reform, dataset=DATASET)\n",
    "\n",
    "def pull(sim, var):\n",
    "    \"\"\"Convenience: grab a household variable for YEAR_ANALYZE, keep only PTC households.\"\"\"\n",
    "    return sim.calculate(var, map_to=\"household\", period=YEAR_ANALYZE).loc[ptc_households]\n",
    "\n",
    "state               = pull(baseline_2026, \"state_code\")\n",
    "employment_income   = pull(baseline_2026, \"employment_income\")\n",
    "\n",
    "baseline_ptc        = pull(baseline_2026, \"aca_ptc\")\n",
    "reform_ptc          = pull(reform_2026,   \"aca_ptc\")\n",
    "\n",
    "baseline_income_hb  = pull(baseline_2026, \"household_net_income_including_health_benefits\")\n",
    "reform_income_hb    = pull(reform_2026,   \"household_net_income_including_health_benefits\")\n",
    "\n",
    "# ---------------------------------------------------------------------\n",
    "# 4. Assemble results\n",
    "# ---------------------------------------------------------------------\n",
    "df = pd.DataFrame({\n",
    "    \"state\"                                  : state,\n",
    "    \"employment_income\"                      : employment_income,\n",
    "    \"baseline_aca_ptc\"                       : baseline_ptc,\n",
    "    \"reform_aca_ptc\"                         : reform_ptc,\n",
    "    \"aca_ptc_change\"                         : reform_ptc - baseline_ptc,\n",
    "    \"baseline_net_income_including_hb\"       : baseline_income_hb,\n",
    "    \"reform_net_income_including_hb\"         : reform_income_hb,\n",
    "    \"net_income_change_including_hb\"         : reform_income_hb - baseline_income_hb,\n",
    "})\n",
    "\n",
    "df.to_csv(OUTPUT_CSV, index=False)\n",
    "print(f\"Saved {len(df):,} rows to {OUTPUT_CSV}\")\n"
   ]
  },
  {
   "cell_type": "code",
   "execution_count": 6,
   "metadata": {},
   "outputs": [
    {
     "ename": "ValueError",
     "evalue": "Variable second_lowest_cost_silver_premium does not exist.",
     "output_type": "error",
     "traceback": [
      "\u001b[0;31m---------------------------------------------------------------------------\u001b[0m",
      "\u001b[0;31mValueError\u001b[0m                                Traceback (most recent call last)",
      "Cell \u001b[0;32mIn[6], line 2\u001b[0m\n\u001b[1;32m      1\u001b[0m \u001b[38;5;66;03m# Ensure baseline_2026 is defined in a previous cell\u001b[39;00m\n\u001b[0;32m----> 2\u001b[0m \u001b[43mbaseline_2026\u001b[49m\u001b[38;5;241;43m.\u001b[39;49m\u001b[43mcalculate\u001b[49m\u001b[43m(\u001b[49m\u001b[38;5;124;43m\"\u001b[39;49m\u001b[38;5;124;43msecond_lowest_cost_silver_premium\u001b[39;49m\u001b[38;5;124;43m\"\u001b[39;49m\u001b[43m,\u001b[49m\n\u001b[1;32m      3\u001b[0m \u001b[43m                        \u001b[49m\u001b[43mmap_to\u001b[49m\u001b[38;5;241;43m=\u001b[39;49m\u001b[38;5;124;43m\"\u001b[39;49m\u001b[38;5;124;43mhousehold\u001b[39;49m\u001b[38;5;124;43m\"\u001b[39;49m\u001b[43m,\u001b[49m\u001b[43m \u001b[49m\u001b[43mperiod\u001b[49m\u001b[38;5;241;43m=\u001b[39;49m\u001b[38;5;241;43m2026\u001b[39;49m\u001b[43m)\u001b[49m\u001b[38;5;241m.\u001b[39mdescribe()\n",
      "File \u001b[0;32m~/miniconda3/envs/policyengine/lib/python3.10/site-packages/policyengine_core/simulations/microsimulation.py:54\u001b[0m, in \u001b[0;36mMicrosimulation.calculate\u001b[0;34m(self, variable_name, period, map_to, use_weights, decode_enums)\u001b[0m\n\u001b[1;32m     52\u001b[0m \u001b[38;5;28;01melif\u001b[39;00m period \u001b[38;5;129;01mis\u001b[39;00m \u001b[38;5;28;01mNone\u001b[39;00m \u001b[38;5;129;01mand\u001b[39;00m \u001b[38;5;28mself\u001b[39m\u001b[38;5;241m.\u001b[39mdefault_calculation_period \u001b[38;5;129;01mis\u001b[39;00m \u001b[38;5;129;01mnot\u001b[39;00m \u001b[38;5;28;01mNone\u001b[39;00m:\n\u001b[1;32m     53\u001b[0m     period \u001b[38;5;241m=\u001b[39m get_period(\u001b[38;5;28mself\u001b[39m\u001b[38;5;241m.\u001b[39mdefault_calculation_period)\n\u001b[0;32m---> 54\u001b[0m values \u001b[38;5;241m=\u001b[39m \u001b[38;5;28;43msuper\u001b[39;49m\u001b[43m(\u001b[49m\u001b[43m)\u001b[49m\u001b[38;5;241;43m.\u001b[39;49m\u001b[43mcalculate\u001b[49m\u001b[43m(\u001b[49m\u001b[43mvariable_name\u001b[49m\u001b[43m,\u001b[49m\u001b[43m \u001b[49m\u001b[43mperiod\u001b[49m\u001b[43m,\u001b[49m\u001b[43m \u001b[49m\u001b[43mmap_to\u001b[49m\u001b[43m,\u001b[49m\u001b[43m \u001b[49m\u001b[43mdecode_enums\u001b[49m\u001b[43m)\u001b[49m\n\u001b[1;32m     55\u001b[0m \u001b[38;5;28;01mif\u001b[39;00m \u001b[38;5;129;01mnot\u001b[39;00m use_weights:\n\u001b[1;32m     56\u001b[0m     \u001b[38;5;28;01mreturn\u001b[39;00m values\n",
      "File \u001b[0;32m~/miniconda3/envs/policyengine/lib/python3.10/site-packages/policyengine_core/simulations/simulation.py:477\u001b[0m, in \u001b[0;36mSimulation.calculate\u001b[0;34m(self, variable_name, period, map_to, decode_enums)\u001b[0m\n\u001b[1;32m    474\u001b[0m np\u001b[38;5;241m.\u001b[39mrandom\u001b[38;5;241m.\u001b[39mseed(\u001b[38;5;28mhash\u001b[39m(variable_name \u001b[38;5;241m+\u001b[39m \u001b[38;5;28mstr\u001b[39m(period)) \u001b[38;5;241m%\u001b[39m \u001b[38;5;241m1000000\u001b[39m)\n\u001b[1;32m    476\u001b[0m \u001b[38;5;28;01mtry\u001b[39;00m:\n\u001b[0;32m--> 477\u001b[0m     result \u001b[38;5;241m=\u001b[39m \u001b[38;5;28;43mself\u001b[39;49m\u001b[38;5;241;43m.\u001b[39;49m\u001b[43m_calculate\u001b[49m\u001b[43m(\u001b[49m\u001b[43mvariable_name\u001b[49m\u001b[43m,\u001b[49m\u001b[43m \u001b[49m\u001b[43mperiod\u001b[49m\u001b[43m)\u001b[49m\n\u001b[1;32m    478\u001b[0m     \u001b[38;5;28;01mif\u001b[39;00m \u001b[38;5;28misinstance\u001b[39m(result, EnumArray) \u001b[38;5;129;01mand\u001b[39;00m decode_enums:\n\u001b[1;32m    479\u001b[0m         result \u001b[38;5;241m=\u001b[39m result\u001b[38;5;241m.\u001b[39mdecode_to_str()\n",
      "File \u001b[0;32m~/miniconda3/envs/policyengine/lib/python3.10/site-packages/policyengine_core/simulations/simulation.py:602\u001b[0m, in \u001b[0;36mSimulation._calculate\u001b[0;34m(self, variable_name, period)\u001b[0m\n\u001b[1;32m    591\u001b[0m \u001b[38;5;250m\u001b[39m\u001b[38;5;124;03m\"\"\"\u001b[39;00m\n\u001b[1;32m    592\u001b[0m \u001b[38;5;124;03mCalculate the variable ``variable_name`` for the period ``period``, using the variable formula if it exists.\u001b[39;00m\n\u001b[1;32m    593\u001b[0m \n\u001b[0;32m   (...)\u001b[0m\n\u001b[1;32m    599\u001b[0m \u001b[38;5;124;03m    ArrayLike: The calculated variable.\u001b[39;00m\n\u001b[1;32m    600\u001b[0m \u001b[38;5;124;03m\"\"\"\u001b[39;00m\n\u001b[1;32m    601\u001b[0m \u001b[38;5;28;01mif\u001b[39;00m variable_name \u001b[38;5;129;01mnot\u001b[39;00m \u001b[38;5;129;01min\u001b[39;00m \u001b[38;5;28mself\u001b[39m\u001b[38;5;241m.\u001b[39mtax_benefit_system\u001b[38;5;241m.\u001b[39mvariables:\n\u001b[0;32m--> 602\u001b[0m     \u001b[38;5;28;01mraise\u001b[39;00m \u001b[38;5;167;01mValueError\u001b[39;00m(\u001b[38;5;124mf\u001b[39m\u001b[38;5;124m\"\u001b[39m\u001b[38;5;124mVariable \u001b[39m\u001b[38;5;132;01m{\u001b[39;00mvariable_name\u001b[38;5;132;01m}\u001b[39;00m\u001b[38;5;124m does not exist.\u001b[39m\u001b[38;5;124m\"\u001b[39m)\n\u001b[1;32m    603\u001b[0m population \u001b[38;5;241m=\u001b[39m \u001b[38;5;28mself\u001b[39m\u001b[38;5;241m.\u001b[39mget_variable_population(variable_name)\n\u001b[1;32m    604\u001b[0m holder \u001b[38;5;241m=\u001b[39m population\u001b[38;5;241m.\u001b[39mget_holder(variable_name)\n",
      "\u001b[0;31mValueError\u001b[0m: Variable second_lowest_cost_silver_premium does not exist."
     ]
    }
   ],
   "source": [
    "# Ensure baseline_2026 is defined in a previous cell\n",
    "baseline_2026.calculate(\"second_lowest_cost_silver_premium\",\n",
    "                        map_to=\"household\", period=2026).describe()\n"
   ]
  },
  {
   "cell_type": "code",
   "execution_count": null,
   "metadata": {},
   "outputs": [],
   "source": []
  }
 ],
 "metadata": {
  "kernelspec": {
   "display_name": "policyengine",
   "language": "python",
   "name": "python3"
  },
  "language_info": {
   "codemirror_mode": {
    "name": "ipython",
    "version": 3
   },
   "file_extension": ".py",
   "mimetype": "text/x-python",
   "name": "python",
   "nbconvert_exporter": "python",
   "pygments_lexer": "ipython3",
   "version": "3.10.16"
  }
 },
 "nbformat": 4,
 "nbformat_minor": 2
}
