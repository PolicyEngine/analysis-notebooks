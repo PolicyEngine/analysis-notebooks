{
 "cells": [
  {
   "cell_type": "code",
   "execution_count": 1,
   "metadata": {},
   "outputs": [
    {
     "name": "stderr",
     "output_type": "stream",
     "text": [
      "/Users/daphnehansell/miniconda3/envs/policyengine/lib/python3.10/site-packages/tqdm/auto.py:21: TqdmWarning: IProgress not found. Please update jupyter and ipywidgets. See https://ipywidgets.readthedocs.io/en/stable/user_install.html\n",
      "  from .autonotebook import tqdm as notebook_tqdm\n"
     ]
    }
   ],
   "source": [
    "from policyengine_us import Microsimulation\n",
    "from policyengine_core.reforms import Reform\n",
    "import pandas as pd\n",
    "\n",
    "baseline = Microsimulation(dataset=\"hf://policyengine/policyengine-us-data/enhanced_cps_2024.h5\")"
   ]
  },
  {
   "cell_type": "code",
   "execution_count": 4,
   "metadata": {},
   "outputs": [],
   "source": [
    "year = 2025\n",
    "state = baseline.calculate(\"state_code\", map_to=\"household\", period=year)\n",
    "num_dependents = baseline.calculate(\"tax_unit_dependents\", map_to=\"household\", period=year)\n",
    "married = baseline.calculate(\"is_married\", map_to=\"household\", period=year)\n",
    "employment_income = baseline.calculate(\"employment_income\", map_to=\"household\", period=year)\n",
    "self_employment_income = baseline.calculate(\"self_employment_income\", map_to=\"household\", period=year)\n",
    "aca_baseline = baseline.calculate(\"aca_ptc\", map_to=\"household\", period=year)\n",
    "rating_area = baseline.calculate(\"slcsp_rating_area\", map_to=\"household\", period=year)\n",
    "household_id = baseline.calculate(\"household_id\", map_to=\"household\", period=year)\n",
    "aca_magi = baseline.calculate(\"aca_magi\", map_to=\"household\", period=year)\n"
   ]
  },
  {
   "cell_type": "code",
   "execution_count": 5,
   "metadata": {},
   "outputs": [
    {
     "data": {
      "text/html": [
       "<div>\n",
       "<style scoped>\n",
       "    .dataframe tbody tr th:only-of-type {\n",
       "        vertical-align: middle;\n",
       "    }\n",
       "\n",
       "    .dataframe tbody tr th {\n",
       "        vertical-align: top;\n",
       "    }\n",
       "\n",
       "    .dataframe thead th {\n",
       "        text-align: right;\n",
       "    }\n",
       "</style>\n",
       "<table border=\"1\" class=\"dataframe\">\n",
       "  <thead>\n",
       "    <tr style=\"text-align: right;\">\n",
       "      <th></th>\n",
       "      <th>household_id</th>\n",
       "      <th>aca_magi</th>\n",
       "      <th>State</th>\n",
       "      <th>Married</th>\n",
       "      <th>Num_Dependents</th>\n",
       "      <th>Employment_Income</th>\n",
       "      <th>Self_Employment_Income</th>\n",
       "      <th>aca_baseline</th>\n",
       "      <th>rating_area</th>\n",
       "    </tr>\n",
       "  </thead>\n",
       "  <tbody>\n",
       "    <tr>\n",
       "      <th>23890</th>\n",
       "      <td>103176</td>\n",
       "      <td>186612.625</td>\n",
       "      <td>PA</td>\n",
       "      <td>1.0</td>\n",
       "      <td>3.0</td>\n",
       "      <td>80329.084625</td>\n",
       "      <td>0.0</td>\n",
       "      <td>39122.445312</td>\n",
       "      <td>9</td>\n",
       "    </tr>\n",
       "  </tbody>\n",
       "</table>\n",
       "</div>"
      ],
      "text/plain": [
       "       household_id    aca_magi State  Married  Num_Dependents  \\\n",
       "23890        103176  186612.625    PA      1.0             3.0   \n",
       "\n",
       "       Employment_Income  Self_Employment_Income  aca_baseline  rating_area  \n",
       "23890       80329.084625                     0.0  39122.445312            9  "
      ]
     },
     "execution_count": 5,
     "metadata": {},
     "output_type": "execute_result"
    }
   ],
   "source": [
    "# Create a DataFrame with the outputs\n",
    "data = {\n",
    "    \"household_id\": household_id,\n",
    "    \"aca_magi\": aca_magi,\n",
    "    \"State\": state,\n",
    "    \"Married\": married,\n",
    "    \"Num_Dependents\": num_dependents,\n",
    "    \"Employment_Income\": employment_income,\n",
    "    \"Self_Employment_Income\": self_employment_income,\n",
    "    \"aca_baseline\": aca_baseline,\n",
    "    \"rating_area\": rating_area,\n",
    "}\n",
    "\n",
    "df_outputs = pd.DataFrame(data)\n",
    "df_outputs[df_outputs['household_id'] == 103176]\n"
   ]
  },
  {
   "cell_type": "code",
   "execution_count": 29,
   "metadata": {},
   "outputs": [
    {
     "data": {
      "text/html": [
       "<div>\n",
       "<style scoped>\n",
       "    .dataframe tbody tr th:only-of-type {\n",
       "        vertical-align: middle;\n",
       "    }\n",
       "\n",
       "    .dataframe tbody tr th {\n",
       "        vertical-align: top;\n",
       "    }\n",
       "\n",
       "    .dataframe thead th {\n",
       "        text-align: right;\n",
       "    }\n",
       "</style>\n",
       "<table border=\"1\" class=\"dataframe\">\n",
       "  <thead>\n",
       "    <tr style=\"text-align: right;\">\n",
       "      <th></th>\n",
       "      <th>person_id</th>\n",
       "      <th>household_id</th>\n",
       "      <th>age</th>\n",
       "      <th>medicaid_eligible</th>\n",
       "      <th>medicaid_per_capita_cost</th>\n",
       "    </tr>\n",
       "  </thead>\n",
       "  <tbody>\n",
       "    <tr>\n",
       "      <th>58724</th>\n",
       "      <td>58724</td>\n",
       "      <td>103176</td>\n",
       "      <td>59.0</td>\n",
       "      <td>False</td>\n",
       "      <td>0.000000</td>\n",
       "    </tr>\n",
       "    <tr>\n",
       "      <th>58725</th>\n",
       "      <td>58725</td>\n",
       "      <td>103176</td>\n",
       "      <td>56.0</td>\n",
       "      <td>False</td>\n",
       "      <td>0.000000</td>\n",
       "    </tr>\n",
       "    <tr>\n",
       "      <th>58726</th>\n",
       "      <td>58726</td>\n",
       "      <td>103176</td>\n",
       "      <td>26.0</td>\n",
       "      <td>False</td>\n",
       "      <td>0.000000</td>\n",
       "    </tr>\n",
       "    <tr>\n",
       "      <th>58727</th>\n",
       "      <td>58727</td>\n",
       "      <td>103176</td>\n",
       "      <td>18.0</td>\n",
       "      <td>False</td>\n",
       "      <td>0.000000</td>\n",
       "    </tr>\n",
       "    <tr>\n",
       "      <th>58728</th>\n",
       "      <td>58728</td>\n",
       "      <td>103176</td>\n",
       "      <td>16.0</td>\n",
       "      <td>True</td>\n",
       "      <td>4179.962891</td>\n",
       "    </tr>\n",
       "  </tbody>\n",
       "</table>\n",
       "</div>"
      ],
      "text/plain": [
       "       person_id  household_id   age  medicaid_eligible  \\\n",
       "58724      58724        103176  59.0              False   \n",
       "58725      58725        103176  56.0              False   \n",
       "58726      58726        103176  26.0              False   \n",
       "58727      58727        103176  18.0              False   \n",
       "58728      58728        103176  16.0               True   \n",
       "\n",
       "       medicaid_per_capita_cost  \n",
       "58724                  0.000000  \n",
       "58725                  0.000000  \n",
       "58726                  0.000000  \n",
       "58727                  0.000000  \n",
       "58728               4179.962891  "
      ]
     },
     "execution_count": 29,
     "metadata": {},
     "output_type": "execute_result"
    }
   ],
   "source": [
    "# Get Medicaid eligibility for each person\n",
    "medicaid_eligibility = baseline.calculate(\"is_medicaid_eligible\", map_to=\"person\", period=year)\n",
    "person_household_id = baseline.calculate(\"household_id\", map_to=\"person\", period=year)\n",
    "age = baseline.calculate(\"age\", map_to=\"person\", period=year)\n",
    "medicaid_per_capita_cost = baseline.calculate(\"medicaid_per_capita_cost\", map_to=\"person\", period=year)\n",
    "\n",
    "# Create person-level dataframe\n",
    "person_data = pd.DataFrame({\n",
    "    \"person_id\": range(len(medicaid_eligibility)),\n",
    "    \"household_id\": person_household_id,\n",
    "    \"age\": age,\n",
    "    \"medicaid_eligible\": medicaid_eligibility,\n",
    "    \"medicaid_per_capita_cost\": medicaid_per_capita_cost\n",
    "\n",
    "})\n",
    "\n",
    "# Filter for household 103176\n",
    "household_103176_medicaid = person_data[person_data['household_id'] ==\n",
    "103176]\n",
    "household_103176_medicaid = person_data[person_data['household_id'] == 103176]\n",
    "\n",
    "\n",
    "household_103176_medicaid\n"
   ]
  }
 ],
 "metadata": {
  "kernelspec": {
   "display_name": "policyengine",
   "language": "python",
   "name": "python3"
  },
  "language_info": {
   "codemirror_mode": {
    "name": "ipython",
    "version": 3
   },
   "file_extension": ".py",
   "mimetype": "text/x-python",
   "name": "python",
   "nbconvert_exporter": "python",
   "pygments_lexer": "ipython3",
   "version": "3.10.16"
  }
 },
 "nbformat": 4,
 "nbformat_minor": 2
}
