{
 "cells": [
  {
   "cell_type": "code",
   "execution_count": 1,
   "metadata": {},
   "outputs": [
    {
     "name": "stderr",
     "output_type": "stream",
     "text": [
      "/Users/daphnehansell/miniconda3/envs/policyengine/lib/python3.10/site-packages/tqdm/auto.py:21: TqdmWarning: IProgress not found. Please update jupyter and ipywidgets. See https://ipywidgets.readthedocs.io/en/stable/user_install.html\n",
      "  from .autonotebook import tqdm as notebook_tqdm\n"
     ]
    }
   ],
   "source": [
    "from policyengine_us import Microsimulation\n",
    "from policyengine_core.reforms import Reform\n",
    "import pandas as pd\n",
    "\n",
    "baseline = Microsimulation(dataset=\"hf://policyengine/policyengine-us-data/enhanced_cps_2024.h5\")"
   ]
  },
  {
   "cell_type": "code",
   "execution_count": 2,
   "metadata": {
    "vscode": {
     "languageId": "javascript"
    }
   },
   "outputs": [],
   "source": [
    "reform = Reform.from_dict({\n",
    "  \"gov.contrib.reconciliation.medicaid_work_requirement.senate.in_effect\": {\n",
    "    \"2027-01-01.2100-12-31\": True\n",
    "  },\n",
    "}, country_id=\"us\")\n"
   ]
  },
  {
   "cell_type": "code",
   "execution_count": 3,
   "metadata": {},
   "outputs": [],
   "source": [
    "reformed = Microsimulation(reform=reform, dataset=\"hf://policyengine/policyengine-us-data/enhanced_cps_2024.h5\")"
   ]
  },
  {
   "cell_type": "code",
   "execution_count": 18,
   "metadata": {},
   "outputs": [],
   "source": [
    "year = 2029\n",
    "state = baseline.calculate(\"state_code\", map_to=\"household\", period=year)\n",
    "num_dependents = baseline.calculate(\"tax_unit_dependents\", map_to=\"household\", period=year)\n",
    "married = baseline.calculate(\"is_married\", map_to=\"household\", period=year)\n",
    "immigration_status = baseline.calculate(\"immigration_status\", map_to=\"person\", period=year)\n",
    "employment_income = baseline.calculate(\"employment_income\", map_to=\"household\", period=year)\n",
    "self_employment_income = baseline.calculate(\"self_employment_income\", map_to=\"household\", period=year)\n",
    "medicaid_baseline = baseline.calculate(\"medicaid_enrolled\", map_to=\"person\", period=year)\n",
    "household_id = baseline.calculate(\"household_id\", map_to=\"household\", period=year)"
   ]
  },
  {
   "cell_type": "code",
   "execution_count": 19,
   "metadata": {},
   "outputs": [],
   "source": [
    "medicaid_reform = reformed.calculate(\"medicaid_enrolled\", map_to=\"person\", period=year)"
   ]
  },
  {
   "cell_type": "code",
   "execution_count": 23,
   "metadata": {},
   "outputs": [
    {
     "data": {
      "text/plain": [
       "112.61243085941472"
      ]
     },
     "execution_count": 23,
     "metadata": {},
     "output_type": "execute_result"
    }
   ],
   "source": [
    "medicaid_baseline.sum()/1e6"
   ]
  },
  {
   "cell_type": "code",
   "execution_count": 22,
   "metadata": {},
   "outputs": [
    {
     "data": {
      "text/plain": [
       "0.0"
      ]
     },
     "execution_count": 22,
     "metadata": {},
     "output_type": "execute_result"
    }
   ],
   "source": [
    "medicaid_reform.sum()/1e6"
   ]
  },
  {
   "cell_type": "code",
   "execution_count": 24,
   "metadata": {},
   "outputs": [],
   "source": [
    "medicaid_cost_baseline = baseline.calculate(\"medicaid_cost\", map_to=\"person\", period=year)\n",
    "medicaid_cost_reform = reformed.calculate(\"medicaid_cost\", map_to=\"person\", period=year)"
   ]
  },
  {
   "cell_type": "code",
   "execution_count": 25,
   "metadata": {},
   "outputs": [
    {
     "data": {
      "text/plain": [
       "823.2432315324515"
      ]
     },
     "execution_count": 25,
     "metadata": {},
     "output_type": "execute_result"
    }
   ],
   "source": [
    "medicaid_cost_baseline.sum()/1e9"
   ]
  },
  {
   "cell_type": "code",
   "execution_count": 26,
   "metadata": {},
   "outputs": [
    {
     "data": {
      "text/plain": [
       "0.0"
      ]
     },
     "execution_count": 26,
     "metadata": {},
     "output_type": "execute_result"
    }
   ],
   "source": [
    "medicaid_cost_reform.sum()/1e9"
   ]
  },
  {
   "cell_type": "code",
   "execution_count": 17,
   "metadata": {},
   "outputs": [
    {
     "data": {
      "text/html": [
       "<div>\n",
       "<style scoped>\n",
       "    .dataframe tbody tr th:only-of-type {\n",
       "        vertical-align: middle;\n",
       "    }\n",
       "\n",
       "    .dataframe tbody tr th {\n",
       "        vertical-align: top;\n",
       "    }\n",
       "\n",
       "    .dataframe thead th {\n",
       "        text-align: right;\n",
       "    }\n",
       "</style>\n",
       "<table border=\"1\" class=\"dataframe\">\n",
       "  <thead>\n",
       "    <tr style=\"text-align: right;\">\n",
       "      <th></th>\n",
       "      <th>household_id</th>\n",
       "      <th>State</th>\n",
       "      <th>Married</th>\n",
       "      <th>employment_income</th>\n",
       "      <th>Num_Dependents</th>\n",
       "      <th>Employment_Income</th>\n",
       "      <th>Self_Employment_Income</th>\n",
       "      <th>medicaid_baseline</th>\n",
       "      <th>medicaid_reform</th>\n",
       "      <th>immigration_status</th>\n",
       "    </tr>\n",
       "  </thead>\n",
       "  <tbody>\n",
       "    <tr>\n",
       "      <th>4</th>\n",
       "      <td>36.0</td>\n",
       "      <td>ME</td>\n",
       "      <td>0.0</td>\n",
       "      <td>41408.097656</td>\n",
       "      <td>0.0</td>\n",
       "      <td>41408.097656</td>\n",
       "      <td>0.0</td>\n",
       "      <td>True</td>\n",
       "      <td>True</td>\n",
       "      <td>CITIZEN</td>\n",
       "    </tr>\n",
       "    <tr>\n",
       "      <th>6</th>\n",
       "      <td>44.0</td>\n",
       "      <td>ME</td>\n",
       "      <td>0.0</td>\n",
       "      <td>78030.335938</td>\n",
       "      <td>1.0</td>\n",
       "      <td>78030.335938</td>\n",
       "      <td>0.0</td>\n",
       "      <td>True</td>\n",
       "      <td>True</td>\n",
       "      <td>CITIZEN</td>\n",
       "    </tr>\n",
       "    <tr>\n",
       "      <th>7</th>\n",
       "      <td>68.0</td>\n",
       "      <td>ME</td>\n",
       "      <td>0.0</td>\n",
       "      <td>0.000000</td>\n",
       "      <td>0.0</td>\n",
       "      <td>0.000000</td>\n",
       "      <td>0.0</td>\n",
       "      <td>True</td>\n",
       "      <td>True</td>\n",
       "      <td>CITIZEN</td>\n",
       "    </tr>\n",
       "    <tr>\n",
       "      <th>9</th>\n",
       "      <td>78.0</td>\n",
       "      <td>ME</td>\n",
       "      <td>0.0</td>\n",
       "      <td>84532.859375</td>\n",
       "      <td>0.0</td>\n",
       "      <td>84532.859375</td>\n",
       "      <td>0.0</td>\n",
       "      <td>True</td>\n",
       "      <td>False</td>\n",
       "      <td>CITIZEN</td>\n",
       "    </tr>\n",
       "    <tr>\n",
       "      <th>11</th>\n",
       "      <td>85.0</td>\n",
       "      <td>ME</td>\n",
       "      <td>0.0</td>\n",
       "      <td>0.000000</td>\n",
       "      <td>0.0</td>\n",
       "      <td>0.000000</td>\n",
       "      <td>0.0</td>\n",
       "      <td>True</td>\n",
       "      <td>True</td>\n",
       "      <td>CITIZEN</td>\n",
       "    </tr>\n",
       "  </tbody>\n",
       "</table>\n",
       "</div>"
      ],
      "text/plain": [
       "    household_id State  Married  employment_income  Num_Dependents  \\\n",
       "4           36.0    ME      0.0       41408.097656             0.0   \n",
       "6           44.0    ME      0.0       78030.335938             1.0   \n",
       "7           68.0    ME      0.0           0.000000             0.0   \n",
       "9           78.0    ME      0.0       84532.859375             0.0   \n",
       "11          85.0    ME      0.0           0.000000             0.0   \n",
       "\n",
       "    Employment_Income  Self_Employment_Income  medicaid_baseline  \\\n",
       "4        41408.097656                     0.0               True   \n",
       "6        78030.335938                     0.0               True   \n",
       "7            0.000000                     0.0               True   \n",
       "9        84532.859375                     0.0               True   \n",
       "11           0.000000                     0.0               True   \n",
       "\n",
       "    medicaid_reform immigration_status  \n",
       "4              True            CITIZEN  \n",
       "6              True            CITIZEN  \n",
       "7              True            CITIZEN  \n",
       "9             False            CITIZEN  \n",
       "11             True            CITIZEN  "
      ]
     },
     "execution_count": 17,
     "metadata": {},
     "output_type": "execute_result"
    }
   ],
   "source": [
    "data = {\n",
    "    \"household_id\": household_id,\n",
    "    \"State\": state,\n",
    "    \"Married\": married,\n",
    "    \"employment_income\": employment_income,\n",
    "    \"Num_Dependents\": num_dependents,\n",
    "    \"Employment_Income\": employment_income,\n",
    "    \"Self_Employment_Income\": self_employment_income,\n",
    "    \"medicaid_baseline\": medicaid_baseline,\n",
    "    \"medicaid_reform\": medicaid_reform,\n",
    "    \"immigration_status\":immigration_status,\n",
    "}\n",
    "\n",
    "df_outputs = pd.DataFrame(data)\n",
    "df_outputs.head()\n",
    "\n",
    "# Filter rows where Medicaid is True in the baseline scenario\n",
    "# (works if the column is already Boolean)\n",
    "df_medicaid = df_outputs[df_outputs[\"medicaid_baseline\"]]\n",
    "\n",
    "# ── If the column holds the strings \"true\"/\"false\" instead ──\n",
    "# df_medicaid = df_outputs[df_outputs[\"medicaid_baseline\"].str.lower() == \"true\"]\n",
    "\n",
    "df_medicaid.head()\n",
    "\n"
   ]
  }
 ],
 "metadata": {
  "kernelspec": {
   "display_name": "policyengine",
   "language": "python",
   "name": "python3"
  },
  "language_info": {
   "codemirror_mode": {
    "name": "ipython",
    "version": 3
   },
   "file_extension": ".py",
   "mimetype": "text/x-python",
   "name": "python",
   "nbconvert_exporter": "python",
   "pygments_lexer": "ipython3",
   "version": "3.10.16"
  }
 },
 "nbformat": 4,
 "nbformat_minor": 2
}
