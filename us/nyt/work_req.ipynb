{
 "cells": [
  {
   "cell_type": "code",
   "execution_count": 1,
   "metadata": {},
   "outputs": [
    {
     "name": "stderr",
     "output_type": "stream",
     "text": [
      "/Users/daphnehansell/miniconda3/envs/policyengine/lib/python3.10/site-packages/tqdm/auto.py:21: TqdmWarning: IProgress not found. Please update jupyter and ipywidgets. See https://ipywidgets.readthedocs.io/en/stable/user_install.html\n",
      "  from .autonotebook import tqdm as notebook_tqdm\n"
     ]
    }
   ],
   "source": [
    "from policyengine_us import Microsimulation\n",
    "from policyengine_core.reforms import Reform\n",
    "import pandas as pd\n",
    "\n",
    "baseline = Microsimulation(dataset=\"hf://policyengine/policyengine-us-data/enhanced_cps_2024.h5\")"
   ]
  },
  {
   "cell_type": "code",
   "execution_count": 2,
   "metadata": {
    "vscode": {
     "languageId": "javascript"
    }
   },
   "outputs": [],
   "source": [
    "reform = Reform.from_dict({\n",
    "  \"gov.contrib.reconciliation.medicaid_work_requirement.senate.in_effect\": {\n",
    "    \"2027-01-01.2100-12-31\": True\n",
    "  },\n",
    "}, country_id=\"us\")\n"
   ]
  },
  {
   "cell_type": "code",
   "execution_count": null,
   "metadata": {
    "vscode": {
     "languageId": "javascript"
    }
   },
   "outputs": [],
   "source": []
  },
  {
   "cell_type": "code",
   "execution_count": 3,
   "metadata": {},
   "outputs": [],
   "source": [
    "reformed = Microsimulation(reform=reform, dataset=\"hf://policyengine/policyengine-us-data/enhanced_cps_2024.h5\")"
   ]
  },
  {
   "cell_type": "code",
   "execution_count": 14,
   "metadata": {},
   "outputs": [],
   "source": [
    "year = 2028\n",
    "age = baseline.calculate(\"age\", map_to=\"household\", period=year)\n",
    "state = baseline.calculate(\"state_code\", map_to=\"household\", period=year)\n",
    "num_dependents = baseline.calculate(\"tax_unit_dependents\", map_to=\"household\", period=year)\n",
    "married = baseline.calculate(\"is_married\", map_to=\"household\", period=year)\n",
    "employment_income = baseline.calculate(\"employment_income\", map_to=\"household\", period=year)\n",
    "self_employment_income = baseline.calculate(\"self_employment_income\", map_to=\"household\", period=year)\n",
    "medicaid_baseline = baseline.calculate(\"medicaid_enrolled\", map_to=\"household\", period=year)\n",
    "household_id = baseline.calculate(\"household_id\", map_to=\"household\", period=year)\n",
    "disability = baseline.calculate(\"is_disabled\", map_to=\"household\", period=year)\n",
    "net_income = baseline.calculate(\"household_net_income\", map_to=\"household\", period=year)"
   ]
  },
  {
   "cell_type": "code",
   "execution_count": 5,
   "metadata": {},
   "outputs": [],
   "source": [
    "medicaid_reform = reformed.calculate(\"medicaid_enrolled\", map_to=\"household\", period=year)"
   ]
  },
  {
   "cell_type": "code",
   "execution_count": 6,
   "metadata": {},
   "outputs": [
    {
     "data": {
      "text/plain": [
       "88.03708112231564"
      ]
     },
     "execution_count": 6,
     "metadata": {},
     "output_type": "execute_result"
    }
   ],
   "source": [
    "medicaid_baseline.sum()/1e6"
   ]
  },
  {
   "cell_type": "code",
   "execution_count": 7,
   "metadata": {},
   "outputs": [
    {
     "data": {
      "text/plain": [
       "66.17075737452024"
      ]
     },
     "execution_count": 7,
     "metadata": {},
     "output_type": "execute_result"
    }
   ],
   "source": [
    "medicaid_reform.sum()/1e6"
   ]
  },
  {
   "cell_type": "code",
   "execution_count": 8,
   "metadata": {},
   "outputs": [],
   "source": [
    "medicaid_cost_baseline = baseline.calculate(\"medicaid_cost\", map_to=\"household\", period=year)\n",
    "medicaid_cost_reform = reformed.calculate(\"medicaid_cost\", map_to=\"household\", period=year)"
   ]
  },
  {
   "cell_type": "code",
   "execution_count": 9,
   "metadata": {},
   "outputs": [
    {
     "data": {
      "text/plain": [
       "754.2560939202893"
      ]
     },
     "execution_count": 9,
     "metadata": {},
     "output_type": "execute_result"
    }
   ],
   "source": [
    "medicaid_cost_baseline.sum()/1e9"
   ]
  },
  {
   "cell_type": "code",
   "execution_count": 10,
   "metadata": {},
   "outputs": [
    {
     "data": {
      "text/plain": [
       "583.9976766367972"
      ]
     },
     "execution_count": 10,
     "metadata": {},
     "output_type": "execute_result"
    }
   ],
   "source": [
    "medicaid_cost_reform.sum()/1e9"
   ]
  },
  {
   "cell_type": "code",
   "execution_count": 17,
   "metadata": {},
   "outputs": [
    {
     "data": {
      "text/html": [
       "<div>\n",
       "<style scoped>\n",
       "    .dataframe tbody tr th:only-of-type {\n",
       "        vertical-align: middle;\n",
       "    }\n",
       "\n",
       "    .dataframe tbody tr th {\n",
       "        vertical-align: top;\n",
       "    }\n",
       "\n",
       "    .dataframe thead th {\n",
       "        text-align: right;\n",
       "    }\n",
       "</style>\n",
       "<table border=\"1\" class=\"dataframe\">\n",
       "  <thead>\n",
       "    <tr style=\"text-align: right;\">\n",
       "      <th></th>\n",
       "      <th>household_id</th>\n",
       "      <th>age</th>\n",
       "      <th>State</th>\n",
       "      <th>Married</th>\n",
       "      <th>Num_Dependents</th>\n",
       "      <th>net_income</th>\n",
       "      <th>medicaid_baseline</th>\n",
       "      <th>medicaid_reform</th>\n",
       "      <th>disability</th>\n",
       "    </tr>\n",
       "  </thead>\n",
       "  <tbody>\n",
       "    <tr>\n",
       "      <th>25763</th>\n",
       "      <td>108937</td>\n",
       "      <td>58.0</td>\n",
       "      <td>IL</td>\n",
       "      <td>0.0</td>\n",
       "      <td>0.0</td>\n",
       "      <td>76981.750000</td>\n",
       "      <td>0.0</td>\n",
       "      <td>0.0</td>\n",
       "      <td>1.0</td>\n",
       "    </tr>\n",
       "    <tr>\n",
       "      <th>15052</th>\n",
       "      <td>63037</td>\n",
       "      <td>60.0</td>\n",
       "      <td>TX</td>\n",
       "      <td>1.0</td>\n",
       "      <td>3.0</td>\n",
       "      <td>66695.476562</td>\n",
       "      <td>0.0</td>\n",
       "      <td>0.0</td>\n",
       "      <td>0.0</td>\n",
       "    </tr>\n",
       "    <tr>\n",
       "      <th>23671</th>\n",
       "      <td>102468</td>\n",
       "      <td>138.0</td>\n",
       "      <td>PA</td>\n",
       "      <td>0.0</td>\n",
       "      <td>0.0</td>\n",
       "      <td>36383.925781</td>\n",
       "      <td>3.0</td>\n",
       "      <td>0.0</td>\n",
       "      <td>0.0</td>\n",
       "    </tr>\n",
       "    <tr>\n",
       "      <th>29397</th>\n",
       "      <td>125991</td>\n",
       "      <td>127.0</td>\n",
       "      <td>VA</td>\n",
       "      <td>1.0</td>\n",
       "      <td>2.0</td>\n",
       "      <td>85631.062500</td>\n",
       "      <td>0.0</td>\n",
       "      <td>0.0</td>\n",
       "      <td>0.0</td>\n",
       "    </tr>\n",
       "    <tr>\n",
       "      <th>35968</th>\n",
       "      <td>153372</td>\n",
       "      <td>133.0</td>\n",
       "      <td>TX</td>\n",
       "      <td>1.0</td>\n",
       "      <td>1.0</td>\n",
       "      <td>55173.074219</td>\n",
       "      <td>0.0</td>\n",
       "      <td>0.0</td>\n",
       "      <td>1.0</td>\n",
       "    </tr>\n",
       "    <tr>\n",
       "      <th>177</th>\n",
       "      <td>1452</td>\n",
       "      <td>168.0</td>\n",
       "      <td>NH</td>\n",
       "      <td>1.0</td>\n",
       "      <td>0.0</td>\n",
       "      <td>277564.562500</td>\n",
       "      <td>0.0</td>\n",
       "      <td>0.0</td>\n",
       "      <td>0.0</td>\n",
       "    </tr>\n",
       "    <tr>\n",
       "      <th>40669</th>\n",
       "      <td>174681</td>\n",
       "      <td>145.0</td>\n",
       "      <td>CA</td>\n",
       "      <td>1.0</td>\n",
       "      <td>0.0</td>\n",
       "      <td>108951.515625</td>\n",
       "      <td>0.0</td>\n",
       "      <td>0.0</td>\n",
       "      <td>0.0</td>\n",
       "    </tr>\n",
       "    <tr>\n",
       "      <th>6118</th>\n",
       "      <td>22615</td>\n",
       "      <td>21.0</td>\n",
       "      <td>WI</td>\n",
       "      <td>0.0</td>\n",
       "      <td>0.0</td>\n",
       "      <td>60602.281250</td>\n",
       "      <td>0.0</td>\n",
       "      <td>0.0</td>\n",
       "      <td>1.0</td>\n",
       "    </tr>\n",
       "    <tr>\n",
       "      <th>39910</th>\n",
       "      <td>172254</td>\n",
       "      <td>85.0</td>\n",
       "      <td>CA</td>\n",
       "      <td>0.0</td>\n",
       "      <td>0.0</td>\n",
       "      <td>72438.218750</td>\n",
       "      <td>1.0</td>\n",
       "      <td>1.0</td>\n",
       "      <td>1.0</td>\n",
       "    </tr>\n",
       "    <tr>\n",
       "      <th>3931</th>\n",
       "      <td>15787</td>\n",
       "      <td>145.0</td>\n",
       "      <td>OH</td>\n",
       "      <td>1.0</td>\n",
       "      <td>2.0</td>\n",
       "      <td>116171.570312</td>\n",
       "      <td>1.0</td>\n",
       "      <td>1.0</td>\n",
       "      <td>2.0</td>\n",
       "    </tr>\n",
       "  </tbody>\n",
       "</table>\n",
       "</div>"
      ],
      "text/plain": [
       "       household_id    age State  Married  Num_Dependents     net_income  \\\n",
       "25763        108937   58.0    IL      0.0             0.0   76981.750000   \n",
       "15052         63037   60.0    TX      1.0             3.0   66695.476562   \n",
       "23671        102468  138.0    PA      0.0             0.0   36383.925781   \n",
       "29397        125991  127.0    VA      1.0             2.0   85631.062500   \n",
       "35968        153372  133.0    TX      1.0             1.0   55173.074219   \n",
       "177            1452  168.0    NH      1.0             0.0  277564.562500   \n",
       "40669        174681  145.0    CA      1.0             0.0  108951.515625   \n",
       "6118          22615   21.0    WI      0.0             0.0   60602.281250   \n",
       "39910        172254   85.0    CA      0.0             0.0   72438.218750   \n",
       "3931          15787  145.0    OH      1.0             2.0  116171.570312   \n",
       "\n",
       "       medicaid_baseline  medicaid_reform  disability  \n",
       "25763                0.0              0.0         1.0  \n",
       "15052                0.0              0.0         0.0  \n",
       "23671                3.0              0.0         0.0  \n",
       "29397                0.0              0.0         0.0  \n",
       "35968                0.0              0.0         1.0  \n",
       "177                  0.0              0.0         0.0  \n",
       "40669                0.0              0.0         0.0  \n",
       "6118                 0.0              0.0         1.0  \n",
       "39910                1.0              1.0         1.0  \n",
       "3931                 1.0              1.0         2.0  "
      ]
     },
     "execution_count": 17,
     "metadata": {},
     "output_type": "execute_result"
    }
   ],
   "source": [
    "data = {\n",
    "    \"household_id\": household_id,\n",
    "    \"age\": age,\n",
    "    \"State\": state,\n",
    "    \"Married\": married,\n",
    "    \"Num_Dependents\": num_dependents,\n",
    "    \"net_income\": net_income,\n",
    "    \"medicaid_baseline\": medicaid_baseline,\n",
    "    \"medicaid_reform\": medicaid_reform,\n",
    "    \"disability\": disability,\n",
    "}\n",
    "\n",
    "df_outputs = pd.DataFrame(data)\n",
    "df_outputs.sample(n=10) \n",
    "\n"
   ]
  },
  {
   "cell_type": "code",
   "execution_count": 18,
   "metadata": {},
   "outputs": [
    {
     "data": {
      "text/html": [
       "<div>\n",
       "<style scoped>\n",
       "    .dataframe tbody tr th:only-of-type {\n",
       "        vertical-align: middle;\n",
       "    }\n",
       "\n",
       "    .dataframe tbody tr th {\n",
       "        vertical-align: top;\n",
       "    }\n",
       "\n",
       "    .dataframe thead th {\n",
       "        text-align: right;\n",
       "    }\n",
       "</style>\n",
       "<table border=\"1\" class=\"dataframe\">\n",
       "  <thead>\n",
       "    <tr style=\"text-align: right;\">\n",
       "      <th></th>\n",
       "      <th>household_id</th>\n",
       "      <th>age</th>\n",
       "      <th>State</th>\n",
       "      <th>Married</th>\n",
       "      <th>Num_Dependents</th>\n",
       "      <th>net_income</th>\n",
       "      <th>medicaid_baseline</th>\n",
       "      <th>medicaid_reform</th>\n",
       "      <th>disability</th>\n",
       "    </tr>\n",
       "  </thead>\n",
       "  <tbody>\n",
       "    <tr>\n",
       "      <th>39714</th>\n",
       "      <td>171625</td>\n",
       "      <td>190.0</td>\n",
       "      <td>CA</td>\n",
       "      <td>1.0</td>\n",
       "      <td>0.0</td>\n",
       "      <td>266112.437500</td>\n",
       "      <td>2.0</td>\n",
       "      <td>1.0</td>\n",
       "      <td>2.0</td>\n",
       "    </tr>\n",
       "    <tr>\n",
       "      <th>25746</th>\n",
       "      <td>108895</td>\n",
       "      <td>162.0</td>\n",
       "      <td>IL</td>\n",
       "      <td>1.0</td>\n",
       "      <td>1.0</td>\n",
       "      <td>113722.921875</td>\n",
       "      <td>1.0</td>\n",
       "      <td>0.0</td>\n",
       "      <td>1.0</td>\n",
       "    </tr>\n",
       "    <tr>\n",
       "      <th>34089</th>\n",
       "      <td>145258</td>\n",
       "      <td>123.0</td>\n",
       "      <td>AR</td>\n",
       "      <td>1.0</td>\n",
       "      <td>0.0</td>\n",
       "      <td>52366.300781</td>\n",
       "      <td>1.0</td>\n",
       "      <td>0.0</td>\n",
       "      <td>1.0</td>\n",
       "    </tr>\n",
       "    <tr>\n",
       "      <th>21260</th>\n",
       "      <td>93908</td>\n",
       "      <td>60.0</td>\n",
       "      <td>MA</td>\n",
       "      <td>0.0</td>\n",
       "      <td>0.0</td>\n",
       "      <td>12498.601562</td>\n",
       "      <td>2.0</td>\n",
       "      <td>1.0</td>\n",
       "      <td>0.0</td>\n",
       "    </tr>\n",
       "    <tr>\n",
       "      <th>39141</th>\n",
       "      <td>169644</td>\n",
       "      <td>31.0</td>\n",
       "      <td>CA</td>\n",
       "      <td>0.0</td>\n",
       "      <td>1.0</td>\n",
       "      <td>20294.919922</td>\n",
       "      <td>2.0</td>\n",
       "      <td>2.0</td>\n",
       "      <td>0.0</td>\n",
       "    </tr>\n",
       "    <tr>\n",
       "      <th>5781</th>\n",
       "      <td>21507</td>\n",
       "      <td>87.0</td>\n",
       "      <td>MI</td>\n",
       "      <td>0.0</td>\n",
       "      <td>1.0</td>\n",
       "      <td>126903.640625</td>\n",
       "      <td>1.0</td>\n",
       "      <td>0.0</td>\n",
       "      <td>1.0</td>\n",
       "    </tr>\n",
       "    <tr>\n",
       "      <th>25970</th>\n",
       "      <td>109575</td>\n",
       "      <td>151.0</td>\n",
       "      <td>IL</td>\n",
       "      <td>1.0</td>\n",
       "      <td>1.0</td>\n",
       "      <td>77474.335938</td>\n",
       "      <td>2.0</td>\n",
       "      <td>1.0</td>\n",
       "      <td>0.0</td>\n",
       "    </tr>\n",
       "    <tr>\n",
       "      <th>35709</th>\n",
       "      <td>152511</td>\n",
       "      <td>145.0</td>\n",
       "      <td>TX</td>\n",
       "      <td>1.0</td>\n",
       "      <td>3.0</td>\n",
       "      <td>54013.031250</td>\n",
       "      <td>2.0</td>\n",
       "      <td>2.0</td>\n",
       "      <td>0.0</td>\n",
       "    </tr>\n",
       "    <tr>\n",
       "      <th>21664</th>\n",
       "      <td>96019</td>\n",
       "      <td>147.0</td>\n",
       "      <td>CT</td>\n",
       "      <td>0.0</td>\n",
       "      <td>0.0</td>\n",
       "      <td>105085.656250</td>\n",
       "      <td>1.0</td>\n",
       "      <td>1.0</td>\n",
       "      <td>0.0</td>\n",
       "    </tr>\n",
       "    <tr>\n",
       "      <th>25351</th>\n",
       "      <td>107589</td>\n",
       "      <td>52.0</td>\n",
       "      <td>IL</td>\n",
       "      <td>0.0</td>\n",
       "      <td>2.0</td>\n",
       "      <td>24615.585938</td>\n",
       "      <td>3.0</td>\n",
       "      <td>3.0</td>\n",
       "      <td>1.0</td>\n",
       "    </tr>\n",
       "  </tbody>\n",
       "</table>\n",
       "</div>"
      ],
      "text/plain": [
       "       household_id    age State  Married  Num_Dependents     net_income  \\\n",
       "39714        171625  190.0    CA      1.0             0.0  266112.437500   \n",
       "25746        108895  162.0    IL      1.0             1.0  113722.921875   \n",
       "34089        145258  123.0    AR      1.0             0.0   52366.300781   \n",
       "21260         93908   60.0    MA      0.0             0.0   12498.601562   \n",
       "39141        169644   31.0    CA      0.0             1.0   20294.919922   \n",
       "5781          21507   87.0    MI      0.0             1.0  126903.640625   \n",
       "25970        109575  151.0    IL      1.0             1.0   77474.335938   \n",
       "35709        152511  145.0    TX      1.0             3.0   54013.031250   \n",
       "21664         96019  147.0    CT      0.0             0.0  105085.656250   \n",
       "25351        107589   52.0    IL      0.0             2.0   24615.585938   \n",
       "\n",
       "       medicaid_baseline  medicaid_reform  disability  \n",
       "39714                2.0              1.0         2.0  \n",
       "25746                1.0              0.0         1.0  \n",
       "34089                1.0              0.0         1.0  \n",
       "21260                2.0              1.0         0.0  \n",
       "39141                2.0              2.0         0.0  \n",
       "5781                 1.0              0.0         1.0  \n",
       "25970                2.0              1.0         0.0  \n",
       "35709                2.0              2.0         0.0  \n",
       "21664                1.0              1.0         0.0  \n",
       "25351                3.0              3.0         1.0  "
      ]
     },
     "execution_count": 18,
     "metadata": {},
     "output_type": "execute_result"
    }
   ],
   "source": [
    "df_medicaid = df_outputs[df_outputs[\"medicaid_baseline\"].gt(0)]\n",
    "df_medicaid.sample(n=10) \n"
   ]
  }
 ],
 "metadata": {
  "kernelspec": {
   "display_name": "policyengine",
   "language": "python",
   "name": "python3"
  },
  "language_info": {
   "codemirror_mode": {
    "name": "ipython",
    "version": 3
   },
   "file_extension": ".py",
   "mimetype": "text/x-python",
   "name": "python",
   "nbconvert_exporter": "python",
   "pygments_lexer": "ipython3",
   "version": "3.10.16"
  }
 },
 "nbformat": 4,
 "nbformat_minor": 2
}
