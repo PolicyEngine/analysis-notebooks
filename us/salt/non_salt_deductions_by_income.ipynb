{
 "cells": [
  {
   "cell_type": "code",
   "execution_count": 26,
   "metadata": {},
   "outputs": [],
   "source": [
    "from policyengine_us import Microsimulation\n",
    "import pandas as pd"
   ]
  },
  {
   "cell_type": "code",
   "execution_count": 3,
   "metadata": {},
   "outputs": [
    {
     "data": {
      "application/vnd.jupyter.widget-view+json": {
       "model_id": "d800de37388f4c2fb7d3b199729a8fcd",
       "version_major": 2,
       "version_minor": 0
      },
      "text/plain": [
       "enhanced_cps_2024.h5:   0%|          | 0.00/107M [00:00<?, ?B/s]"
      ]
     },
     "metadata": {},
     "output_type": "display_data"
    }
   ],
   "source": [
    "baseline = Microsimulation(\n",
    "    dataset=\"hf://policyengine/policyengine-us-data/enhanced_cps_2024.h5\",\n",
    ")"
   ]
  },
  {
   "cell_type": "code",
   "execution_count": 27,
   "metadata": {},
   "outputs": [],
   "source": [
    "OTHER_DEDS = [\"charitable_deduction\",\n",
    "                \"interest_deduction\",\n",
    "                \"medical_expense_deduction\",\n",
    "                \"casualty_loss_deduction\",\n",
    "                \"misc_deduction\"]\n",
    "\n",
    "df = pd.DataFrame(baseline.calculate_dataframe([\"employment_income\", \"filing_status\", \"tax_unit_weight\"] + OTHER_DEDS, map_to=\"tax_unit\", period=2026))\n",
    "df[\"non_salt_deductions\"] = df.loc[:, OTHER_DEDS].sum(axis=1)"
   ]
  },
  {
   "cell_type": "code",
   "execution_count": 28,
   "metadata": {},
   "outputs": [
    {
     "data": {
      "text/plain": [
       "204.083056"
      ]
     },
     "execution_count": 28,
     "metadata": {},
     "output_type": "execute_result"
    }
   ],
   "source": [
    "df.tax_unit_weight.sum() / 1e6"
   ]
  },
  {
   "cell_type": "code",
   "execution_count": null,
   "metadata": {},
   "outputs": [],
   "source": []
  },
  {
   "cell_type": "code",
   "execution_count": 29,
   "metadata": {},
   "outputs": [
    {
     "data": {
      "text/plain": [
       "10.455179264"
      ]
     },
     "execution_count": 29,
     "metadata": {},
     "output_type": "execute_result"
    }
   ],
   "source": [
    "df[df.filing_status == \"JOINT\"].non_salt_deductions.sum() / 1e9"
   ]
  },
  {
   "cell_type": "code",
   "execution_count": 43,
   "metadata": {},
   "outputs": [],
   "source": [
    "def get_average_other_deductions(min_wages, max_wages, filing_status):\n",
    "    filtered = df[df.employment_income.between(min_wages, max_wages) & (df.filing_status == filing_status)]\n",
    "    total = (filtered.non_salt_deductions * filtered.tax_unit_weight).sum()\n",
    "    count = filtered.tax_unit_weight.sum()\n",
    "    print(f\"Total: {total}, Count: {count}, Records: {len(filtered)}\")\n",
    "    return total / count"
   ]
  },
  {
   "cell_type": "code",
   "execution_count": 44,
   "metadata": {},
   "outputs": [
    {
     "name": "stdout",
     "output_type": "stream",
     "text": [
      "Total: 8496808448.0, Count: 939716.5625, Records: 983\n"
     ]
    },
    {
     "data": {
      "text/plain": [
       "9041.885"
      ]
     },
     "execution_count": 44,
     "metadata": {},
     "output_type": "execute_result"
    }
   ],
   "source": [
    "get_average_other_deductions(225_000, 275_000, \"JOINT\")"
   ]
  },
  {
   "cell_type": "code",
   "execution_count": 50,
   "metadata": {},
   "outputs": [
    {
     "name": "stdout",
     "output_type": "stream",
     "text": [
      "Total: 33081294848.0, Count: 711078.25, Records: 470\n"
     ]
    },
    {
     "data": {
      "text/plain": [
       "46522.723"
      ]
     },
     "execution_count": 50,
     "metadata": {},
     "output_type": "execute_result"
    }
   ],
   "source": [
    "get_average_other_deductions(450_000, 550_000, \"JOINT\")"
   ]
  },
  {
   "cell_type": "code",
   "execution_count": 49,
   "metadata": {},
   "outputs": [
    {
     "name": "stdout",
     "output_type": "stream",
     "text": [
      "Total: 9938963456.0, Count: 311397.6875, Records: 192\n"
     ]
    },
    {
     "data": {
      "text/plain": [
       "31917.268"
      ]
     },
     "execution_count": 49,
     "metadata": {},
     "output_type": "execute_result"
    }
   ],
   "source": [
    "get_average_other_deductions(900_000, 1_100_000, \"JOINT\")"
   ]
  },
  {
   "cell_type": "code",
   "execution_count": null,
   "metadata": {},
   "outputs": [],
   "source": []
  }
 ],
 "metadata": {
  "kernelspec": {
   "display_name": "policyengine",
   "language": "python",
   "name": "python3"
  },
  "language_info": {
   "codemirror_mode": {
    "name": "ipython",
    "version": 3
   },
   "file_extension": ".py",
   "mimetype": "text/x-python",
   "name": "python",
   "nbconvert_exporter": "python",
   "pygments_lexer": "ipython3",
   "version": "3.11.9"
  }
 },
 "nbformat": 4,
 "nbformat_minor": 2
}
