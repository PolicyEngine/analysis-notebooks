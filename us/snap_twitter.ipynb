{
 "cells": [
  {
   "cell_type": "code",
   "execution_count": 2,
   "metadata": {},
   "outputs": [
    {
     "name": "stderr",
     "output_type": "stream",
     "text": [
      "/Users/daphnehansell/miniconda3/envs/policyengine/lib/python3.10/site-packages/tqdm/auto.py:21: TqdmWarning: IProgress not found. Please update jupyter and ipywidgets. See https://ipywidgets.readthedocs.io/en/stable/user_install.html\n",
      "  from .autonotebook import tqdm as notebook_tqdm\n"
     ]
    }
   ],
   "source": [
    "from policyengine_us import Microsimulation\n",
    "from policyengine_core.reforms import Reform\n",
    "import pandas as pd\n",
    "\n",
    "baseline = Microsimulation(dataset=\"hf://policyengine/policyengine-us-data/enhanced_cps_2024.h5\")"
   ]
  },
  {
   "cell_type": "code",
   "execution_count": 2,
   "metadata": {},
   "outputs": [],
   "source": [
    "year =2024\n",
    "\n",
    "household_size = baseline.calculate(\"household_size\", map_to= \"household\", period=year)\n",
    "snap = baseline.calculate(\"snap\",  map_to= \"household\", period=year)"
   ]
  },
  {
   "cell_type": "code",
   "execution_count": 3,
   "metadata": {},
   "outputs": [],
   "source": [
    "data = {\n",
    "    \"household_size\": household_size,\n",
    "    \"snap\": snap,\n",
    "}"
   ]
  },
  {
   "cell_type": "code",
   "execution_count": 11,
   "metadata": {},
   "outputs": [
    {
     "name": "stdout",
     "output_type": "stream",
     "text": [
      "Households getting maximum snap:   51343.10517691474\n"
     ]
    }
   ],
   "source": [
    "import numpy as np\n",
    "import pandas as pd\n",
    "\n",
    "# Single month keeps it simple\n",
    "period = \"2024-01\"\n",
    "\n",
    "snap = baseline.calculate(\"snap\", period=period)               # SPM-unit level\n",
    "unit_size = baseline.calculate(\"spm_unit_size\", period=period) # size of that SPM unit\n",
    "weights = baseline.calculate(\"household_weight\",\n",
    "                             map_to=\"spm_unit\", period=period) # population weights\n",
    "\n",
    "mask = (unit_size == 4) & np.isclose(snap, 973, atol=1)\n",
    "\n",
    "print(\"Households getting maximum snap:  \", float((mask * weights).sum()))\n"
   ]
  },
  {
   "cell_type": "code",
   "execution_count": 9,
   "metadata": {},
   "outputs": [
    {
     "data": {
      "text/plain": [
       "2.11511349654758"
      ]
     },
     "execution_count": 9,
     "metadata": {},
     "output_type": "execute_result"
    }
   ],
   "source": [
    "import numpy as np\n",
    "import pandas as pd\n",
    "\n",
    "# Single month keeps it simple\n",
    "period = \"2024-01\"\n",
    "\n",
    "snap = baseline.calculate(\"snap\", period=period)               # SPM-unit level\n",
    "unit_size = baseline.calculate(\"spm_unit_size\", period=period) # size of that SPM unit\n",
    "\n",
    "(unit_size == 4)[snap >= 1].sum()\n"
   ]
  },
  {
   "cell_type": "code",
   "execution_count": 7,
   "metadata": {},
   "outputs": [
    {
     "data": {
      "text/plain": [
       "1455.7"
      ]
     },
     "execution_count": 7,
     "metadata": {},
     "output_type": "execute_result"
    }
   ],
   "source": [
    "snap[unit_size == 4].max()"
   ]
  },
  {
   "cell_type": "code",
   "execution_count": 5,
   "metadata": {},
   "outputs": [
    {
     "data": {
      "text/plain": [
       "0.000000      4561\n",
       "973.000000     184\n",
       "95.000000        3\n",
       "363.399963       2\n",
       "705.400024       2\n",
       "548.199951       2\n",
       "744.700012       2\n",
       "790.299988       2\n",
       "573.400024       2\n",
       "488.499969       2\n",
       "Name: count, dtype: int64"
      ]
     },
     "execution_count": 5,
     "metadata": {},
     "output_type": "execute_result"
    }
   ],
   "source": [
    "pd.Series(snap[unit_size == 4]).value_counts().head(10)\n"
   ]
  },
  {
   "cell_type": "code",
   "execution_count": 9,
   "metadata": {},
   "outputs": [
    {
     "name": "stdout",
     "output_type": "stream",
     "text": [
      "4 Person Households that get Maximum SNAP Allotment :   2271.6703824460506\n",
      "Median SNAP for Family of 4:   $704\n"
     ]
    }
   ],
   "source": [
    "import pandas as pd\n",
    "import microdf as mdf\n",
    "import numpy as np\n",
    "import pandas as pd\n",
    "\n",
    "# Single month keeps it simple\n",
    "period = \"2024-01\"\n",
    "\n",
    "snap = baseline.calculate(\"snap\", period=period)               # SPM-unit level\n",
    "unit_size = baseline.calculate(\"spm_unit_size\", period=period) # size of that SPM unit\n",
    "weights = baseline.calculate(\"household_weight\",\n",
    "                             map_to=\"spm_unit\", period=period) # population weights\n",
    "\n",
    "mask = (unit_size == 4) & np.isclose(snap, 750, atol=1)\n",
    "\n",
    "print(\"4 Person Households that get Maximum SNAP Allotment :  \", float((mask * weights).sum()))\n",
    "\n",
    "period = \"2024-01\"      # keep benefits in monthly dollars\n",
    "\n",
    "# ── Pull variables at the SPM-unit level ──\n",
    "snap       = baseline.calculate(\"snap\",          period=period)\n",
    "unit_size  = baseline.calculate(\"spm_unit_size\", period=period)\n",
    "weights    = baseline.calculate(\"household_weight\",\n",
    "                                map_to=\"spm_unit\", period=period)\n",
    "\n",
    "# ── Keep 4-person units that actually get SNAP (> $0) ──\n",
    "mask = (unit_size == 4) & (snap > 0)\n",
    "\n",
    "# Tiny 2-column frame for microdf\n",
    "df = pd.DataFrame({\"benefit\": snap[mask], \"wt\": weights[mask]})\n",
    "\n",
    "# Unweighted and weighted medians\n",
    "median_unwtd = float(df[\"benefit\"].median())\n",
    "median_wtd   = float(mdf.weighted_median(df, \"benefit\", \"wt\"))\n",
    "\n",
    "print(f\"Median SNAP for Family of 4:   ${median_wtd:,.0f}\")\n"
   ]
  },
  {
   "cell_type": "code",
   "execution_count": 7,
   "metadata": {},
   "outputs": [
    {
     "name": "stdout",
     "output_type": "stream",
     "text": [
      "Median SNAP for Family of 2:   $270\n",
      "Median SNAP for Family of 1:   $114\n"
     ]
    }
   ],
   "source": [
    "period = \"2024-01\"      # keep benefits in monthly dollars\n",
    "\n",
    "# ── Pull variables at the SPM-unit level ──\n",
    "snap       = baseline.calculate(\"snap\",          period=period)\n",
    "unit_size  = baseline.calculate(\"spm_unit_size\", period=period)\n",
    "weights    = baseline.calculate(\"household_weight\",\n",
    "                                map_to=\"spm_unit\", period=period)\n",
    "\n",
    "# ── Keep 4-person units that actually get SNAP (> $0) ──\n",
    "mask = (unit_size == 2) & (snap > 0)\n",
    "\n",
    "# Tiny 2-column frame for microdf\n",
    "df = pd.DataFrame({\"benefit\": snap[mask], \"wt\": weights[mask]})\n",
    "\n",
    "# Unweighted and weighted medians\n",
    "median_unwtd = float(df[\"benefit\"].median())\n",
    "median_wtd   = float(mdf.weighted_median(df, \"benefit\", \"wt\"))\n",
    "\n",
    "print(f\"Median SNAP for Family of 2:   ${median_wtd:,.0f}\")\n",
    "\n",
    "period = \"2024-01\"      # keep benefits in monthly dollars\n",
    "\n",
    "# ── Pull variables at the SPM-unit level ──\n",
    "snap       = baseline.calculate(\"snap\",          period=period)\n",
    "unit_size  = baseline.calculate(\"spm_unit_size\", period=period)\n",
    "weights    = baseline.calculate(\"household_weight\",\n",
    "                                map_to=\"spm_unit\", period=period)\n",
    "\n",
    "# ── Keep 4-person units that actually get SNAP (> $0) ──\n",
    "mask = (unit_size == 1) & (snap > 0)\n",
    "\n",
    "# Tiny 2-column frame for microdf\n",
    "df = pd.DataFrame({\"benefit\": snap[mask], \"wt\": weights[mask]})\n",
    "\n",
    "# Unweighted and weighted medians\n",
    "median_unwtd = float(df[\"benefit\"].median())\n",
    "median_wtd   = float(mdf.weighted_median(df, \"benefit\", \"wt\"))\n",
    "\n",
    "print(f\"Median SNAP for Family of 1:   ${median_wtd:,.0f}\")"
   ]
  },
  {
   "cell_type": "code",
   "execution_count": 8,
   "metadata": {},
   "outputs": [
    {
     "name": "stdout",
     "output_type": "stream",
     "text": [
      "Unweighted households: 583\n",
      "Weighted households:   2,264,703\n"
     ]
    }
   ],
   "source": [
    "# Count 4-person HOUSEHOLDS that receive any SNAP during 2024\n",
    "period = 2024           # annual → sums the 12 monthly amounts\n",
    "\n",
    "hh_size  = baseline.calculate(\"household_size\",  map_to=\"household\", period=period)\n",
    "snap_yr  = baseline.calculate(\"snap\",            map_to=\"household\", period=period)\n",
    "weights  = baseline.calculate(\"household_weight\", map_to=\"household\", period=period)\n",
    "\n",
    "mask = (hh_size == 4) & (snap_yr > 0)            # any positive amount ⇒ got SNAP\n",
    "\n",
    "n_unwtd = int(mask.sum())                        # simple count of CPS households\n",
    "n_wtd   = float((mask * weights).sum())          # population-weighted total\n",
    "\n",
    "print(f\"Unweighted households: {n_unwtd:,}\")\n",
    "print(f\"Weighted households:   {n_wtd:,.0f}\")\n"
   ]
  },
  {
   "cell_type": "code",
   "execution_count": 10,
   "metadata": {},
   "outputs": [
    {
     "name": "stdout",
     "output_type": "stream",
     "text": [
      "4 Person Households that get above $965 in SNAP:  51343.36664519112\n",
      "\n",
      "Statistics for 4-person households getting > $965 SNAP:\n",
      "  Weighted median: $973\n",
      "  Weighted mean:   $973\n",
      "  Min benefit:     $973\n",
      "  Max benefit:     $1,456\n",
      "\n",
      "Of all 4-person households getting SNAP:\n",
      "  Total households: 175,704\n",
      "  Getting > $965:   51,343 (29.2%)\n",
      "\n",
      "Benefit distribution for 4-person households:\n",
      "  >= $ 500:    127,950 ( 72.8%)\n",
      "  >= $ 750:     79,433 ( 45.2%)\n",
      "  >= $ 965:     51,343 ( 29.2%)\n",
      "  >= $1000:          0 (  0.0%)\n",
      "  >= $1200:          0 (  0.0%)\n"
     ]
    }
   ],
   "source": [
    "import pandas as pd\n",
    "import microdf as mdf\n",
    "import numpy as np\n",
    "\n",
    "# Single month keeps it simple\n",
    "period = \"2024-01\"\n",
    "\n",
    "# ── Pull variables at the SPM-unit level ──\n",
    "snap = baseline.calculate(\"snap\", period=period)               # SPM-unit level\n",
    "unit_size = baseline.calculate(\"spm_unit_size\", period=period) # size of that SPM unit\n",
    "weights = baseline.calculate(\"household_weight\",\n",
    "                             map_to=\"spm_unit\", period=period) # population weights\n",
    "\n",
    "# ── Analysis 1: Count of 4-person households getting above $965 ──\n",
    "mask_above_965 = (unit_size == 4) & (snap > 965)\n",
    "\n",
    "print(\"4 Person Households that get above $965 in SNAP: \", float((mask_above_965 * weights).sum()))\n",
    "print()\n",
    "\n",
    "# ── Analysis 2: Distribution statistics for these households ──\n",
    "# Create dataframe for households above $965\n",
    "df_above_965 = pd.DataFrame({\n",
    "    \"benefit\": snap[mask_above_965], \n",
    "    \"wt\": weights[mask_above_965]\n",
    "})\n",
    "\n",
    "if len(df_above_965) > 0:\n",
    "    # Calculate statistics\n",
    "    median_wtd = float(mdf.weighted_median(df_above_965, \"benefit\", \"wt\"))\n",
    "    mean_wtd = float((df_above_965[\"benefit\"] * df_above_965[\"wt\"]).sum() / df_above_965[\"wt\"].sum())\n",
    "    \n",
    "    # Min and max benefits\n",
    "    min_benefit = float(df_above_965[\"benefit\"].min())\n",
    "    max_benefit = float(df_above_965[\"benefit\"].max())\n",
    "    \n",
    "    print(f\"Statistics for 4-person households getting > $965 SNAP:\")\n",
    "    print(f\"  Weighted median: ${median_wtd:,.0f}\")\n",
    "    print(f\"  Weighted mean:   ${mean_wtd:,.0f}\")\n",
    "    print(f\"  Min benefit:     ${min_benefit:,.0f}\")\n",
    "    print(f\"  Max benefit:     ${max_benefit:,.0f}\")\n",
    "    print()\n",
    "\n",
    "# ── Analysis 3: Compare to all 4-person households getting SNAP ──\n",
    "mask_all_snap = (unit_size == 4) & (snap > 0)\n",
    "df_all_snap = pd.DataFrame({\n",
    "    \"benefit\": snap[mask_all_snap], \n",
    "    \"wt\": weights[mask_all_snap]\n",
    "})\n",
    "\n",
    "# Calculate what percentage get above $965\n",
    "total_4person_snap = float((mask_all_snap * weights).sum())\n",
    "pct_above_965 = (float((mask_above_965 * weights).sum()) / total_4person_snap * 100) if total_4person_snap > 0 else 0\n",
    "\n",
    "print(f\"Of all 4-person households getting SNAP:\")\n",
    "print(f\"  Total households: {total_4person_snap:,.0f}\")\n",
    "print(f\"  Getting > $965:   {float((mask_above_965 * weights).sum()):,.0f} ({pct_above_965:.1f}%)\")\n",
    "\n",
    "# ── Analysis 4: Look at specific benefit thresholds ──\n",
    "print(\"\\nBenefit distribution for 4-person households:\")\n",
    "thresholds = [500, 750, 965, 1000, 1200]\n",
    "for threshold in thresholds:\n",
    "    mask_threshold = (unit_size == 4) & (snap >= threshold)\n",
    "    count = float((mask_threshold * weights).sum())\n",
    "    pct = (count / total_4person_snap * 100) if total_4person_snap > 0 else 0\n",
    "    print(f\"  >= ${threshold:4d}: {count:10,.0f} ({pct:5.1f}%)\")"
   ]
  }
 ],
 "metadata": {
  "kernelspec": {
   "display_name": "policyengine",
   "language": "python",
   "name": "python3"
  },
  "language_info": {
   "codemirror_mode": {
    "name": "ipython",
    "version": 3
   },
   "file_extension": ".py",
   "mimetype": "text/x-python",
   "name": "python",
   "nbconvert_exporter": "python",
   "pygments_lexer": "ipython3",
   "version": "3.10.16"
  }
 },
 "nbformat": 4,
 "nbformat_minor": 2
}
