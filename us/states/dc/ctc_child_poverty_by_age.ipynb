{
 "cells": [
  {
   "cell_type": "markdown",
   "metadata": {},
   "source": [
    "# DC CTC Reform: Child Poverty Reduction by Age Range\n",
    "\n",
    "Analysis of child poverty impact for DC CTC reform with:\n",
    "- $1,000 per child\n",
    "- 10% phase-out ($100 reduction per $1,000 over income threshold)\n",
    "- No cap on number of children\n",
    "- Lower income thresholds: $50k (Single/HoH/Surviving), $75k (Joint), $37.5k (Separate)\n",
    "\n",
    "**Baseline**: Current DC CTC repealed (zeroed out)\n",
    "\n",
    "We'll analyze the percentage reduction in overall child poverty for different age eligibility thresholds."
   ]
  },
  {
   "cell_type": "code",
   "execution_count": 11,
   "metadata": {},
   "outputs": [],
   "source": [
    "from policyengine_us import Microsimulation\n",
    "from policyengine_core.reforms import Reform\n",
    "import pandas as pd\n",
    "import numpy as np"
   ]
  },
  {
   "cell_type": "code",
   "execution_count": 12,
   "metadata": {},
   "outputs": [],
   "source": [
    "# Create baseline with current DC CTC zeroed out\n",
    "def create_baseline_reform():\n",
    "    \"\"\"Zero out the existing DC CTC\"\"\"\n",
    "    return Reform.from_dict(\n",
    "        {\n",
    "            \"gov.states.dc.tax.income.credits.ctc.amount\": {\n",
    "                \"2025-01-01.2100-12-31\": 0\n",
    "            }\n",
    "        },\n",
    "        country_id=\"us\",\n",
    "    )\n",
    "\n",
    "baseline_reform = create_baseline_reform()\n",
    "baseline_sim = Microsimulation(dataset='hf://policyengine/test/DC.h5', reform=baseline_reform)"
   ]
  },
  {
   "cell_type": "code",
   "execution_count": 13,
   "metadata": {},
   "outputs": [],
   "source": [
    "def create_reform(age_threshold):\n",
    "    \"\"\"\n",
    "    Create DC CTC reform with:\n",
    "    - $1,000 per child\n",
    "    - 10% phase-out ($100 per $1,000 over threshold)\n",
    "    - No cap on children\n",
    "    - Lower income thresholds\n",
    "    \"\"\"\n",
    "    return Reform.from_dict(\n",
    "        {\n",
    "            \"gov.states.dc.tax.income.credits.ctc.amount\": {\n",
    "                \"2025-01-01.2100-12-31\": 1000\n",
    "            },\n",
    "            \"gov.states.dc.tax.income.credits.ctc.child.age_threshold\": {\n",
    "                \"2025-01-01.2100-12-31\": age_threshold\n",
    "            },\n",
    "            \"gov.states.dc.tax.income.credits.ctc.child.child_cap\": {\n",
    "                \"2025-01-01.2100-12-31\": 999\n",
    "            },\n",
    "            \"gov.states.dc.tax.income.credits.ctc.phase_out.amount\": {\n",
    "                \"2025-01-01.2100-12-31\": 100\n",
    "            },\n",
    "            \"gov.states.dc.tax.income.credits.ctc.income_threshold.SINGLE\": {\n",
    "                \"2025-01-01.2100-12-31\": 50_000\n",
    "            },\n",
    "            \"gov.states.dc.tax.income.credits.ctc.income_threshold.JOINT\": {\n",
    "                \"2025-01-01.2100-12-31\": 75_000\n",
    "            },\n",
    "            \"gov.states.dc.tax.income.credits.ctc.income_threshold.SEPARATE\": {\n",
    "                \"2025-01-01.2100-12-31\": 37_500\n",
    "            },\n",
    "            \"gov.states.dc.tax.income.credits.ctc.income_threshold.HEAD_OF_HOUSEHOLD\": {\n",
    "                \"2025-01-01.2100-12-31\": 50_000\n",
    "            },\n",
    "            \"gov.states.dc.tax.income.credits.ctc.income_threshold.SURVIVING_SPOUSE\": {\n",
    "                \"2025-01-01.2100-12-31\": 50_000\n",
    "            }\n",
    "        },\n",
    "        country_id=\"us\",\n",
    "    )"
   ]
  },
  {
   "cell_type": "code",
   "execution_count": 14,
   "metadata": {},
   "outputs": [],
   "source": [
    "def calculate_child_poverty(sim):\n",
    "    \"\"\"\n",
    "    Calculate overall child poverty rate (children under 18).\n",
    "    Returns poverty rate, count in poverty, and total children.\n",
    "    \"\"\"\n",
    "    # Get person-level data\n",
    "    age = sim.calculate(\"age\", period=2025)\n",
    "    is_in_poverty = sim.calculate(\"person_in_poverty\", period=2025)\n",
    "    \n",
    "    # Filter for children under 18\n",
    "    mask = age < 18\n",
    "    \n",
    "    # Calculate poverty count and total children\n",
    "    # The simulation data is already weighted, so we just count/sum\n",
    "    children_in_poverty = is_in_poverty[mask].sum()\n",
    "    total_children = mask.sum()\n",
    "    \n",
    "    # Calculate poverty rate\n",
    "    poverty_rate = children_in_poverty / total_children if total_children > 0 else 0\n",
    "    \n",
    "    return {\n",
    "        \"poverty_rate\": poverty_rate,\n",
    "        \"children_in_poverty\": children_in_poverty,\n",
    "        \"total_children\": total_children\n",
    "    }"
   ]
  },
  {
   "cell_type": "markdown",
   "metadata": {},
   "source": [
    "## Baseline Child Poverty Rate\n",
    "\n",
    "Baseline: Current DC CTC repealed (zeroed out)"
   ]
  },
  {
   "cell_type": "code",
   "execution_count": 15,
   "metadata": {},
   "outputs": [
    {
     "name": "stdout",
     "output_type": "stream",
     "text": [
      "BASELINE CHILD POVERTY RATE (current DC CTC repealed)\n",
      "======================================================================\n",
      "Children under 18: 21.13%\n",
      "Children in poverty: 27,758\n",
      "Total children: 131,386\n"
     ]
    }
   ],
   "source": [
    "# Calculate baseline child poverty rate (with DC CTC zeroed out)\n",
    "baseline_poverty = calculate_child_poverty(baseline_sim)\n",
    "\n",
    "print(\"BASELINE CHILD POVERTY RATE (current DC CTC repealed)\")\n",
    "print(\"=\"*70)\n",
    "print(f\"Children under 18: {baseline_poverty['poverty_rate']*100:.2f}%\")\n",
    "print(f\"Children in poverty: {baseline_poverty['children_in_poverty']:,.0f}\")\n",
    "print(f\"Total children: {baseline_poverty['total_children']:,.0f}\")"
   ]
  },
  {
   "cell_type": "markdown",
   "metadata": {},
   "source": [
    "## Reform Impact Analysis\n",
    "\n",
    "Analyze reforms with different age eligibility thresholds (6, 8, 12, 18).\n",
    "\n",
    "Each reform uses:\n",
    "- $1,000 per child\n",
    "- 10% phase-out\n",
    "- No child cap\n",
    "- Lower income thresholds"
   ]
  },
  {
   "cell_type": "code",
   "execution_count": 16,
   "metadata": {},
   "outputs": [
    {
     "name": "stdout",
     "output_type": "stream",
     "text": [
      "\n",
      "Analyzing reform: Eligible children under age 6\n",
      "  Poverty rate: 21.13% → 20.86% (1.3% reduction)\n",
      "  Annual cost: $25,164,361\n",
      "\n",
      "Analyzing reform: Eligible children under age 8\n",
      "  Poverty rate: 21.13% → 20.86% (1.3% reduction)\n",
      "  Annual cost: $33,342,733\n",
      "\n",
      "Analyzing reform: Eligible children under age 12\n",
      "  Poverty rate: 21.13% → 20.33% (3.8% reduction)\n",
      "  Annual cost: $53,009,724\n",
      "\n",
      "Analyzing reform: Eligible children under age 18\n",
      "  Poverty rate: 21.13% → 19.76% (6.4% reduction)\n",
      "  Annual cost: $82,271,789\n",
      "\n",
      "Analysis complete!\n"
     ]
    }
   ],
   "source": [
    "# Define age thresholds to analyze\n",
    "age_thresholds = [6, 8, 12, 18]\n",
    "\n",
    "# Store baseline values for comparison\n",
    "baseline_rate = baseline_poverty['poverty_rate']\n",
    "\n",
    "# Analyze each reform\n",
    "results = []\n",
    "\n",
    "for age_threshold in age_thresholds:\n",
    "    print(f\"\\nAnalyzing reform: Eligible children under age {age_threshold}\")\n",
    "    \n",
    "    # Create reform simulation\n",
    "    reform = create_reform(age_threshold)\n",
    "    reform_sim = Microsimulation(dataset='hf://policyengine/test/DC.h5', reform=reform)\n",
    "    \n",
    "    # Calculate poverty rate under reform\n",
    "    reform_poverty = calculate_child_poverty(reform_sim)\n",
    "    reform_rate = reform_poverty['poverty_rate']\n",
    "    \n",
    "    # Calculate cost\n",
    "    reform_ctc = reform_sim.calculate(\"dc_ctc\", period=2025, map_to=\"household\")\n",
    "    total_cost = reform_ctc.sum()\n",
    "    \n",
    "    # Calculate percentage reduction\n",
    "    if baseline_rate > 0:\n",
    "        pct_reduction = ((baseline_rate - reform_rate) / baseline_rate) * 100\n",
    "    else:\n",
    "        pct_reduction = 0\n",
    "    \n",
    "    absolute_reduction = (baseline_rate - reform_rate) * 100  # in percentage points\n",
    "    \n",
    "    results.append({\n",
    "        \"Age Eligibility\": f\"Under {age_threshold}\",\n",
    "        \"Baseline Poverty Rate\": f\"{baseline_rate*100:.2f}%\",\n",
    "        \"Reform Poverty Rate\": f\"{reform_rate*100:.2f}%\",\n",
    "        \"Absolute Reduction (pp)\": f\"{absolute_reduction:.2f}\",\n",
    "        \"Percentage Reduction\": f\"{pct_reduction:.1f}%\",\n",
    "        \"Annual Cost\": f\"${total_cost:,.0f}\",\n",
    "        # Numeric values for sorting\n",
    "        \"Age (Numeric)\": age_threshold,\n",
    "        \"Baseline Rate (Numeric)\": baseline_rate,\n",
    "        \"Reform Rate (Numeric)\": reform_rate,\n",
    "        \"Pct Reduction (Numeric)\": pct_reduction,\n",
    "        \"Cost (Numeric)\": total_cost\n",
    "    })\n",
    "    \n",
    "    print(f\"  Poverty rate: {baseline_rate*100:.2f}% → {reform_rate*100:.2f}% ({pct_reduction:.1f}% reduction)\")\n",
    "    print(f\"  Annual cost: ${total_cost:,.0f}\")\n",
    "\n",
    "print(\"\\nAnalysis complete!\")"
   ]
  },
  {
   "cell_type": "markdown",
   "metadata": {},
   "source": [
    "## Results Summary\n",
    "\n",
    "Overall child poverty reduction (children under 18) for each age eligibility threshold."
   ]
  },
  {
   "cell_type": "code",
   "execution_count": 17,
   "metadata": {},
   "outputs": [
    {
     "name": "stdout",
     "output_type": "stream",
     "text": [
      "\n",
      "========================================================================================================================\n",
      "DC CTC REFORM: CHILD POVERTY REDUCTION BY AGE ELIGIBILITY\n",
      "Reform Parameters: $1,000/child, 10% phase-out, No child cap\n",
      "Baseline: Current DC CTC repealed\n",
      "========================================================================================================================\n",
      "Age Eligibility Baseline Poverty Rate Reform Poverty Rate Absolute Reduction (pp) Percentage Reduction Annual Cost\n",
      "        Under 6                21.13%              20.86%                    0.27                 1.3% $25,164,361\n",
      "        Under 8                21.13%              20.86%                    0.27                 1.3% $33,342,733\n",
      "       Under 12                21.13%              20.33%                    0.79                 3.8% $53,009,724\n",
      "       Under 18                21.13%              19.76%                    1.36                 6.4% $82,271,789\n",
      "========================================================================================================================\n"
     ]
    }
   ],
   "source": [
    "# Create DataFrame\n",
    "df = pd.DataFrame(results)\n",
    "\n",
    "# Display full results table\n",
    "print(\"\\n\" + \"=\"*120)\n",
    "print(\"DC CTC REFORM: CHILD POVERTY REDUCTION BY AGE ELIGIBILITY\")\n",
    "print(\"Reform Parameters: $1,000/child, 10% phase-out, No child cap\")\n",
    "print(\"Baseline: Current DC CTC repealed\")\n",
    "print(\"=\"*120)\n",
    "print(df[['Age Eligibility', 'Baseline Poverty Rate', 'Reform Poverty Rate', \n",
    "          'Absolute Reduction (pp)', 'Percentage Reduction', 'Annual Cost']].to_string(index=False))\n",
    "print(\"=\"*120)"
   ]
  },
  {
   "cell_type": "markdown",
   "metadata": {},
   "source": [
    "## Cost-Effectiveness Analysis\n",
    "\n",
    "Compare the cost per percentage point reduction in child poverty."
   ]
  },
  {
   "cell_type": "code",
   "execution_count": 18,
   "metadata": {},
   "outputs": [
    {
     "name": "stdout",
     "output_type": "stream",
     "text": [
      "\n",
      "COST-EFFECTIVENESS COMPARISON\n",
      "====================================================================================================\n",
      "Age Eligibility Percentage Reduction Annual Cost Cost per pp Reduction\n",
      "        Under 6                 1.3% $25,164,361           $93,190,797\n",
      "        Under 8                 1.3% $33,342,733          $123,477,635\n",
      "       Under 12                 3.8% $53,009,724           $66,697,531\n",
      "       Under 18                 6.4% $82,271,789           $60,376,900\n",
      "====================================================================================================\n"
     ]
    }
   ],
   "source": [
    "# Calculate cost per percentage point reduction\n",
    "print(\"\\nCOST-EFFECTIVENESS COMPARISON\")\n",
    "print(\"=\"*100)\n",
    "\n",
    "cost_effectiveness = []\n",
    "for _, row in df.iterrows():\n",
    "    if row['Pct Reduction (Numeric)'] > 0:\n",
    "        cost_per_pp = row['Cost (Numeric)'] / abs((row['Baseline Rate (Numeric)'] - row['Reform Rate (Numeric)']) * 100)\n",
    "        cost_effectiveness.append({\n",
    "            \"Age Eligibility\": row['Age Eligibility'],\n",
    "            \"Percentage Reduction\": row['Percentage Reduction'],\n",
    "            \"Annual Cost\": row['Annual Cost'],\n",
    "            \"Cost per pp Reduction\": f\"${cost_per_pp:,.0f}\"\n",
    "        })\n",
    "\n",
    "cost_df = pd.DataFrame(cost_effectiveness)\n",
    "print(cost_df.to_string(index=False))\n",
    "print(\"=\"*100)"
   ]
  },
  {
   "cell_type": "markdown",
   "metadata": {},
   "source": [
    "## Key Findings"
   ]
  },
  {
   "cell_type": "code",
   "execution_count": 19,
   "metadata": {},
   "outputs": [
    {
     "name": "stdout",
     "output_type": "stream",
     "text": [
      "\n",
      "KEY FINDINGS\n",
      "================================================================================\n",
      "\n",
      "Baseline child poverty rate (DC CTC repealed): 21.13%\n",
      "\n",
      "Child poverty reduction by reform:\n",
      "  Under 6   :   1.3% reduction (costs $25,164,361)\n",
      "  Under 8   :   1.3% reduction (costs $33,342,733)\n",
      "  Under 12  :   3.8% reduction (costs $53,009,724)\n",
      "  Under 18  :   6.4% reduction (costs $82,271,789)\n",
      "\n",
      "Most cost-effective: Under 18 ($60,376,900 per percentage point reduction)\n",
      "================================================================================\n"
     ]
    }
   ],
   "source": [
    "print(\"\\nKEY FINDINGS\")\n",
    "print(\"=\"*80)\n",
    "print(f\"\\nBaseline child poverty rate (DC CTC repealed): {baseline_rate*100:.2f}%\")\n",
    "print(f\"\\nChild poverty reduction by reform:\")\n",
    "for _, row in df.iterrows():\n",
    "    print(f\"  {row['Age Eligibility']:10s}: {row['Percentage Reduction']:>6s} reduction (costs {row['Annual Cost']})\")\n",
    "\n",
    "# Find most cost-effective\n",
    "if len(cost_effectiveness) > 0:\n",
    "    best_reform = min(cost_effectiveness, key=lambda x: float(x['Cost per pp Reduction'].replace('$','').replace(',','')))\n",
    "    print(f\"\\nMost cost-effective: {best_reform['Age Eligibility']} ({best_reform['Cost per pp Reduction']} per percentage point reduction)\")\n",
    "print(\"=\"*80)"
   ]
  },
  {
   "cell_type": "code",
   "execution_count": 20,
   "metadata": {},
   "outputs": [
    {
     "name": "stdout",
     "output_type": "stream",
     "text": [
      "\n",
      "Results exported to dc_ctc_child_poverty_by_age.csv\n"
     ]
    }
   ],
   "source": [
    "# Export results to CSV\n",
    "csv_filename = \"dc_ctc_child_poverty_by_age.csv\"\n",
    "df[['Age Eligibility', 'Baseline Poverty Rate', 'Reform Poverty Rate', \n",
    "    'Absolute Reduction (pp)', 'Percentage Reduction', 'Annual Cost']].to_csv(csv_filename, index=False)\n",
    "print(f\"\\nResults exported to {csv_filename}\")"
   ]
  }
 ],
 "metadata": {
  "kernelspec": {
   "display_name": "pe",
   "language": "python",
   "name": "python3"
  },
  "language_info": {
   "codemirror_mode": {
    "name": "ipython",
    "version": 3
   },
   "file_extension": ".py",
   "mimetype": "text/x-python",
   "name": "python",
   "nbconvert_exporter": "python",
   "pygments_lexer": "ipython3",
   "version": "3.12.10"
  }
 },
 "nbformat": 4,
 "nbformat_minor": 4
}
