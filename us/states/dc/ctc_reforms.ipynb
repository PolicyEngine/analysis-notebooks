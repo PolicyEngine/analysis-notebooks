{
 "cells": [
  {
   "cell_type": "markdown",
   "metadata": {},
   "source": [
    "# DC Child Tax Credit Reform Analysis\n",
    "\n",
    "This notebook analyzes baseline and reform scenarios for the DC Child Tax Credit at various cost levels ($5M, $10M, and $15M) targeting different age groups:\n",
    "- Preschool age (under 4)\n",
    "- Early childhood (under 6)\n",
    "- All children (under 18)"
   ]
  },
  {
   "cell_type": "code",
   "execution_count": 12,
   "metadata": {},
   "outputs": [],
   "source": [
    "from policyengine_us import Microsimulation\n",
    "from policyengine_core.reforms import Reform\n",
    "import pandas as pd\n",
    "import numpy as np"
   ]
  },
  {
   "cell_type": "code",
   "execution_count": 13,
   "metadata": {},
   "outputs": [],
   "source": [
    "# Load DC dataset\n",
    "sim = Microsimulation(dataset=\"hf://policyengine/test/DC_0929.h5\")"
   ]
  },
  {
   "cell_type": "markdown",
   "metadata": {},
   "source": [
    "## Baseline: Zero Out Current DC CTC\n",
    "\n",
    "Current DC CTC provides $420 per child under age 6, with income phase-outs starting at $160k (single)/$240k (joint)."
   ]
  },
  {
   "cell_type": "code",
   "execution_count": 14,
   "metadata": {},
   "outputs": [],
   "source": [
    "def create_baseline_reform():\n",
    "    \"\"\"Zero out the existing DC CTC\"\"\"\n",
    "    return Reform.from_dict(\n",
    "        {\n",
    "            \"gov.states.dc.tax.income.credits.ctc.amount\": {\n",
    "                \"2025-01-01.2100-12-31\": 0\n",
    "            }\n",
    "        },\n",
    "        country_id=\"us\",\n",
    "    )\n",
    "\n",
    "baseline_reform = create_baseline_reform()\n",
    "baseline_sim = Microsimulation(dataset=\"hf://policyengine/test/DC_0929.h5\", reform=baseline_reform)"
   ]
  },
  {
   "cell_type": "code",
   "execution_count": 15,
   "metadata": {},
   "outputs": [
    {
     "name": "stdout",
     "output_type": "stream",
     "text": [
      "Current DC CTC annual cost: $19,300,033\n",
      "Baseline DC CTC cost (zeroed out): $0\n"
     ]
    }
   ],
   "source": [
    "# Calculate baseline cost\n",
    "current_ctc = sim.calculate(\"dc_ctc\", period=2025)\n",
    "baseline_ctc = baseline_sim.calculate(\"dc_ctc\", period=2025)\n",
    "\n",
    "current_cost = current_ctc.sum()\n",
    "print(f\"Current DC CTC annual cost: ${current_cost:,.0f}\")\n",
    "print(f\"Baseline DC CTC cost (zeroed out): ${baseline_ctc.sum():,.0f}\")"
   ]
  },
  {
   "cell_type": "markdown",
   "metadata": {},
   "source": [
    "## Reform 1: Preschool Age Children (Under 4)\n",
    "\n",
    "Target cost: $5M, $10M, and $15M for children under age 4"
   ]
  },
  {
   "cell_type": "code",
   "execution_count": 16,
   "metadata": {},
   "outputs": [],
   "source": [
    "def create_preschool_reform(amount_per_child):\n",
    "    \"\"\"Create reform targeting preschool age children (under 4)\"\"\"\n",
    "    return Reform.from_dict(\n",
    "        {\n",
    "            \"gov.states.dc.tax.income.credits.ctc.amount\": {\n",
    "                \"2025-01-01.2100-12-31\": amount_per_child\n",
    "            },\n",
    "            \"gov.states.dc.tax.income.credits.ctc.child.age_threshold\": {\n",
    "                \"2025-01-01.2100-12-31\": 4\n",
    "            }\n",
    "        },\n",
    "        country_id=\"us\",\n",
    "    )\n",
    "\n",
    "# Adjusted estimates based on actual costs\n",
    "preschool_5m_amount = 135  # Estimate for $5M\n",
    "preschool_10m_amount = 270  # Estimate for $10M\n",
    "preschool_15m_amount = 405  # Estimate for $15M\n",
    "\n",
    "preschool_5m_reform = create_preschool_reform(preschool_5m_amount)\n",
    "preschool_10m_reform = create_preschool_reform(preschool_10m_amount)\n",
    "preschool_15m_reform = create_preschool_reform(preschool_15m_amount)\n",
    "\n",
    "preschool_5m_sim = Microsimulation(dataset=\"hf://policyengine/test/DC_0929.h5\", reform=preschool_5m_reform)\n",
    "preschool_10m_sim = Microsimulation(dataset=\"hf://policyengine/test/DC_0929.h5\", reform=preschool_10m_reform)\n",
    "preschool_15m_sim = Microsimulation(dataset=\"hf://policyengine/test/DC_0929.h5\", reform=preschool_15m_reform)"
   ]
  },
  {
   "cell_type": "code",
   "execution_count": 17,
   "metadata": {},
   "outputs": [
    {
     "name": "stdout",
     "output_type": "stream",
     "text": [
      "Reform 1: Preschool Age (Under 4)\n",
      "  $5M target - Amount per child: $135, Actual cost: $4,919,397\n",
      "  $10M target - Amount per child: $270, Actual cost: $9,838,793\n",
      "  $15M target - Amount per child: $405, Actual cost: $14,758,190\n"
     ]
    }
   ],
   "source": [
    "# Calculate costs for preschool reforms\n",
    "preschool_5m_ctc = preschool_5m_sim.calculate(\"dc_ctc\", period=2025)\n",
    "preschool_10m_ctc = preschool_10m_sim.calculate(\"dc_ctc\", period=2025)\n",
    "preschool_15m_ctc = preschool_15m_sim.calculate(\"dc_ctc\", period=2025)\n",
    "\n",
    "print(\"Reform 1: Preschool Age (Under 4)\")\n",
    "print(f\"  $5M target - Amount per child: ${preschool_5m_amount}, Actual cost: ${preschool_5m_ctc.sum():,.0f}\")\n",
    "print(f\"  $10M target - Amount per child: ${preschool_10m_amount}, Actual cost: ${preschool_10m_ctc.sum():,.0f}\")\n",
    "print(f\"  $15M target - Amount per child: ${preschool_15m_amount}, Actual cost: ${preschool_15m_ctc.sum():,.0f}\")"
   ]
  },
  {
   "cell_type": "markdown",
   "metadata": {},
   "source": [
    "## Reform 2: Early Childhood (Under 6)\n",
    "\n",
    "Target cost: $5M, $10M, and $15M for children under age 6 (current age threshold)"
   ]
  },
  {
   "cell_type": "code",
   "execution_count": 18,
   "metadata": {},
   "outputs": [],
   "source": [
    "def create_under_6_reform(amount_per_child):\n",
    "    \"\"\"Create reform for children under 6 (current age threshold)\"\"\"\n",
    "    return Reform.from_dict(\n",
    "        {\n",
    "            \"gov.states.dc.tax.income.credits.ctc.amount\": {\n",
    "                \"2025-01-01.2100-12-31\": amount_per_child\n",
    "            },\n",
    "            \"gov.states.dc.tax.income.credits.ctc.child.age_threshold\": {\n",
    "                \"2025-01-01.2100-12-31\": 6\n",
    "            }\n",
    "        },\n",
    "        country_id=\"us\",\n",
    "    )\n",
    "\n",
    "# Adjusted estimates based on actual costs\n",
    "under6_5m_amount = 110  # Estimate for $5M\n",
    "under6_10m_amount = 220  # Estimate for $10M\n",
    "under6_15m_amount = 330  # Estimate for $15M\n",
    "\n",
    "under6_5m_reform = create_under_6_reform(under6_5m_amount)\n",
    "under6_10m_reform = create_under_6_reform(under6_10m_amount)\n",
    "under6_15m_reform = create_under_6_reform(under6_15m_amount)\n",
    "\n",
    "under6_5m_sim = Microsimulation(dataset=\"hf://policyengine/test/DC_0929.h5\", reform=under6_5m_reform)\n",
    "under6_10m_sim = Microsimulation(dataset=\"hf://policyengine/test/DC_0929.h5\", reform=under6_10m_reform)\n",
    "under6_15m_sim = Microsimulation(dataset=\"hf://policyengine/test/DC_0929.h5\", reform=under6_15m_reform)"
   ]
  },
  {
   "cell_type": "code",
   "execution_count": 19,
   "metadata": {},
   "outputs": [
    {
     "name": "stdout",
     "output_type": "stream",
     "text": [
      "Reform 2: Early Childhood (Under 6)\n",
      "  $5M target - Amount per child: $110, Actual cost: $5,054,771\n",
      "  $10M target - Amount per child: $220, Actual cost: $10,109,541\n",
      "  $15M target - Amount per child: $330, Actual cost: $15,164,312\n"
     ]
    }
   ],
   "source": [
    "# Calculate costs for under 6 reforms\n",
    "under6_5m_ctc = under6_5m_sim.calculate(\"dc_ctc\", period=2025)\n",
    "under6_10m_ctc = under6_10m_sim.calculate(\"dc_ctc\", period=2025)\n",
    "under6_15m_ctc = under6_15m_sim.calculate(\"dc_ctc\", period=2025)\n",
    "\n",
    "print(\"Reform 2: Early Childhood (Under 6)\")\n",
    "print(f\"  $5M target - Amount per child: ${under6_5m_amount}, Actual cost: ${under6_5m_ctc.sum():,.0f}\")\n",
    "print(f\"  $10M target - Amount per child: ${under6_10m_amount}, Actual cost: ${under6_10m_ctc.sum():,.0f}\")\n",
    "print(f\"  $15M target - Amount per child: ${under6_15m_amount}, Actual cost: ${under6_15m_ctc.sum():,.0f}\")"
   ]
  },
  {
   "cell_type": "markdown",
   "metadata": {},
   "source": [
    "## Reform 3: All Children (Under 18)\n",
    "\n",
    "Target cost: $5M, $10M, and $15M for all children under age 18"
   ]
  },
  {
   "cell_type": "code",
   "execution_count": 20,
   "metadata": {},
   "outputs": [],
   "source": [
    "def create_under_18_reform(amount_per_child):\n",
    "    \"\"\"Create reform for all children under 18\"\"\"\n",
    "    return Reform.from_dict(\n",
    "        {\n",
    "            \"gov.states.dc.tax.income.credits.ctc.amount\": {\n",
    "                \"2025-01-01.2100-12-31\": amount_per_child\n",
    "            },\n",
    "            \"gov.states.dc.tax.income.credits.ctc.child.age_threshold\": {\n",
    "                \"2025-01-01.2100-12-31\": 18\n",
    "            }\n",
    "        },\n",
    "        country_id=\"us\",\n",
    "    )\n",
    "\n",
    "# Adjusted estimates based on actual costs\n",
    "under18_5m_amount = 40  # Estimate for $5M\n",
    "under18_10m_amount = 80  # Estimate for $10M\n",
    "under18_15m_amount = 120  # Estimate for $15M\n",
    "\n",
    "under18_5m_reform = create_under_18_reform(under18_5m_amount)\n",
    "under18_10m_reform = create_under_18_reform(under18_10m_amount)\n",
    "under18_15m_reform = create_under_18_reform(under18_15m_amount)\n",
    "\n",
    "under18_5m_sim = Microsimulation(dataset=\"hf://policyengine/test/DC_0929.h5\", reform=under18_5m_reform)\n",
    "under18_10m_sim = Microsimulation(dataset=\"hf://policyengine/test/DC_0929.h5\", reform=under18_10m_reform)\n",
    "under18_15m_sim = Microsimulation(dataset=\"hf://policyengine/test/DC_0929.h5\", reform=under18_15m_reform)"
   ]
  },
  {
   "cell_type": "code",
   "execution_count": 21,
   "metadata": {},
   "outputs": [
    {
     "name": "stdout",
     "output_type": "stream",
     "text": [
      "Reform 3: All Children (Under 18)\n",
      "  $5M target - Amount per child: $40, Actual cost: $5,436,691\n",
      "  $10M target - Amount per child: $80, Actual cost: $10,873,382\n",
      "  $15M target - Amount per child: $120, Actual cost: $16,310,074\n"
     ]
    }
   ],
   "source": [
    "# Calculate costs for under 18 reforms\n",
    "under18_5m_ctc = under18_5m_sim.calculate(\"dc_ctc\", period=2025)\n",
    "under18_10m_ctc = under18_10m_sim.calculate(\"dc_ctc\", period=2025)\n",
    "under18_15m_ctc = under18_15m_sim.calculate(\"dc_ctc\", period=2025)\n",
    "\n",
    "print(\"Reform 3: All Children (Under 18)\")\n",
    "print(f\"  $5M target - Amount per child: ${under18_5m_amount}, Actual cost: ${under18_5m_ctc.sum():,.0f}\")\n",
    "print(f\"  $10M target - Amount per child: ${under18_10m_amount}, Actual cost: ${under18_10m_ctc.sum():,.0f}\")\n",
    "print(f\"  $15M target - Amount per child: ${under18_15m_amount}, Actual cost: ${under18_15m_ctc.sum():,.0f}\")"
   ]
  },
  {
   "cell_type": "markdown",
   "metadata": {},
   "source": [
    "## Summary Table"
   ]
  },
  {
   "cell_type": "code",
   "execution_count": 22,
   "metadata": {},
   "outputs": [
    {
     "name": "stdout",
     "output_type": "stream",
     "text": [
      "\n",
      "DC Child Tax Credit Reform Summary\n",
      "================================================================================\n",
      "                   Reform Age Group Target Cost Amount per Child Actual Cost\n",
      "       Baseline (Current)   Under 6     Current             $420 $19,300,033\n",
      "      Reform 1: Preschool   Under 4         $5M             $135  $4,919,397\n",
      "      Reform 1: Preschool   Under 4        $10M             $270  $9,838,793\n",
      "      Reform 1: Preschool   Under 4        $15M             $405 $14,758,190\n",
      "Reform 2: Early Childhood   Under 6         $5M             $110  $5,054,771\n",
      "Reform 2: Early Childhood   Under 6        $10M             $220 $10,109,541\n",
      "Reform 2: Early Childhood   Under 6        $15M             $330 $15,164,312\n",
      "   Reform 3: All Children  Under 18         $5M              $40  $5,436,691\n",
      "   Reform 3: All Children  Under 18        $10M              $80 $10,873,382\n",
      "   Reform 3: All Children  Under 18        $15M             $120 $16,310,074\n"
     ]
    }
   ],
   "source": [
    "# Create summary DataFrame\n",
    "summary_data = [\n",
    "    {\n",
    "        \"Reform\": \"Baseline (Current)\",\n",
    "        \"Age Group\": \"Under 6\",\n",
    "        \"Target Cost\": \"Current\",\n",
    "        \"Amount per Child\": \"$420\",\n",
    "        \"Actual Cost\": f\"${current_cost:,.0f}\"\n",
    "    },\n",
    "    {\n",
    "        \"Reform\": \"Reform 1: Preschool\",\n",
    "        \"Age Group\": \"Under 4\",\n",
    "        \"Target Cost\": \"$5M\",\n",
    "        \"Amount per Child\": f\"${preschool_5m_amount}\",\n",
    "        \"Actual Cost\": f\"${preschool_5m_ctc.sum():,.0f}\"\n",
    "    },\n",
    "    {\n",
    "        \"Reform\": \"Reform 1: Preschool\",\n",
    "        \"Age Group\": \"Under 4\",\n",
    "        \"Target Cost\": \"$10M\",\n",
    "        \"Amount per Child\": f\"${preschool_10m_amount}\",\n",
    "        \"Actual Cost\": f\"${preschool_10m_ctc.sum():,.0f}\"\n",
    "    },\n",
    "    {\n",
    "        \"Reform\": \"Reform 1: Preschool\",\n",
    "        \"Age Group\": \"Under 4\",\n",
    "        \"Target Cost\": \"$15M\",\n",
    "        \"Amount per Child\": f\"${preschool_15m_amount}\",\n",
    "        \"Actual Cost\": f\"${preschool_15m_ctc.sum():,.0f}\"\n",
    "    },\n",
    "    {\n",
    "        \"Reform\": \"Reform 2: Early Childhood\",\n",
    "        \"Age Group\": \"Under 6\",\n",
    "        \"Target Cost\": \"$5M\",\n",
    "        \"Amount per Child\": f\"${under6_5m_amount}\",\n",
    "        \"Actual Cost\": f\"${under6_5m_ctc.sum():,.0f}\"\n",
    "    },\n",
    "    {\n",
    "        \"Reform\": \"Reform 2: Early Childhood\",\n",
    "        \"Age Group\": \"Under 6\",\n",
    "        \"Target Cost\": \"$10M\",\n",
    "        \"Amount per Child\": f\"${under6_10m_amount}\",\n",
    "        \"Actual Cost\": f\"${under6_10m_ctc.sum():,.0f}\"\n",
    "    },\n",
    "    {\n",
    "        \"Reform\": \"Reform 2: Early Childhood\",\n",
    "        \"Age Group\": \"Under 6\",\n",
    "        \"Target Cost\": \"$15M\",\n",
    "        \"Amount per Child\": f\"${under6_15m_amount}\",\n",
    "        \"Actual Cost\": f\"${under6_15m_ctc.sum():,.0f}\"\n",
    "    },\n",
    "    {\n",
    "        \"Reform\": \"Reform 3: All Children\",\n",
    "        \"Age Group\": \"Under 18\",\n",
    "        \"Target Cost\": \"$5M\",\n",
    "        \"Amount per Child\": f\"${under18_5m_amount}\",\n",
    "        \"Actual Cost\": f\"${under18_5m_ctc.sum():,.0f}\"\n",
    "    },\n",
    "    {\n",
    "        \"Reform\": \"Reform 3: All Children\",\n",
    "        \"Age Group\": \"Under 18\",\n",
    "        \"Target Cost\": \"$10M\",\n",
    "        \"Amount per Child\": f\"${under18_10m_amount}\",\n",
    "        \"Actual Cost\": f\"${under18_10m_ctc.sum():,.0f}\"\n",
    "    },\n",
    "    {\n",
    "        \"Reform\": \"Reform 3: All Children\",\n",
    "        \"Age Group\": \"Under 18\",\n",
    "        \"Target Cost\": \"$15M\",\n",
    "        \"Amount per Child\": f\"${under18_15m_amount}\",\n",
    "        \"Actual Cost\": f\"${under18_15m_ctc.sum():,.0f}\"\n",
    "    }\n",
    "]\n",
    "\n",
    "summary_df = pd.DataFrame(summary_data)\n",
    "print(\"\\nDC Child Tax Credit Reform Summary\")\n",
    "print(\"=\"*80)\n",
    "print(summary_df.to_string(index=False))"
   ]
  },
  {
   "cell_type": "code",
   "execution_count": 24,
   "metadata": {},
   "outputs": [
    {
     "name": "stdout",
     "output_type": "stream",
     "text": [
      "\n",
      "Exported summary table to ctc_reforms_summary.csv\n"
     ]
    }
   ],
   "source": [
    "# Export summary table to CSV\n",
    "summary_df.to_csv(\"ctc_reforms_summary.csv\", index=False)\n",
    "print(\"\\nExported summary table to ctc_reforms_summary.csv\")"
   ]
  }
 ],
 "metadata": {
  "kernelspec": {
   "display_name": "pe",
   "language": "python",
   "name": "python3"
  },
  "language_info": {
   "codemirror_mode": {
    "name": "ipython",
    "version": 3
   },
   "file_extension": ".py",
   "mimetype": "text/x-python",
   "name": "python",
   "nbconvert_exporter": "python",
   "pygments_lexer": "ipython3",
   "version": "3.12.10"
  }
 },
 "nbformat": 4,
 "nbformat_minor": 4
}
