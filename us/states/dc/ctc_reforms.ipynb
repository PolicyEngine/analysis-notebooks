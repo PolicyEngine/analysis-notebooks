{
 "cells": [
  {
   "cell_type": "markdown",
   "metadata": {},
   "source": [
    "# DC Child Tax Credit Reform Analysis\n",
    "\n",
    "This notebook analyzes baseline and reform scenarios for the DC Child Tax Credit at various cost levels ($5M, $10M, and $15M) targeting different age groups:\n",
    "- Preschool age (under 4)\n",
    "- Early childhood (under 6)\n",
    "- All children (under 18)"
   ]
  },
  {
   "cell_type": "code",
   "execution_count": 1,
   "metadata": {},
   "outputs": [
    {
     "name": "stderr",
     "output_type": "stream",
     "text": [
      "c:\\Users\\dtsax\\envs\\pe\\Lib\\site-packages\\tqdm\\auto.py:21: TqdmWarning: IProgress not found. Please update jupyter and ipywidgets. See https://ipywidgets.readthedocs.io/en/stable/user_install.html\n",
      "  from .autonotebook import tqdm as notebook_tqdm\n"
     ]
    }
   ],
   "source": [
    "from policyengine_us import Microsimulation\n",
    "from policyengine_core.reforms import Reform\n",
    "import pandas as pd\n",
    "import numpy as np"
   ]
  },
  {
   "cell_type": "code",
   "execution_count": 2,
   "metadata": {},
   "outputs": [],
   "source": [
    "# Load DC dataset (same as dataset_exploration notebook)\n",
    "sim = Microsimulation(dataset='hf://policyengine/test/DC.h5')"
   ]
  },
  {
   "cell_type": "markdown",
   "metadata": {},
   "source": [
    "## Baseline: Zero Out Current DC CTC\n",
    "\n",
    "Current DC CTC provides $420 per child under age 6, with income phase-outs starting at $160k (single)/$240k (joint)."
   ]
  },
  {
   "cell_type": "code",
   "execution_count": 3,
   "metadata": {},
   "outputs": [],
   "source": [
    "def create_baseline_reform():\n",
    "    \"\"\"Zero out the existing DC CTC\"\"\"\n",
    "    return Reform.from_dict(\n",
    "        {\n",
    "            \"gov.states.dc.tax.income.credits.ctc.amount\": {\n",
    "                \"2025-01-01.2100-12-31\": 0\n",
    "            }\n",
    "        },\n",
    "        country_id=\"us\",\n",
    "    )\n",
    "\n",
    "baseline_reform = create_baseline_reform()\n",
    "baseline_sim = Microsimulation(dataset='hf://policyengine/test/DC.h5', reform=baseline_reform)"
   ]
  },
  {
   "cell_type": "code",
   "execution_count": 4,
   "metadata": {},
   "outputs": [
    {
     "name": "stdout",
     "output_type": "stream",
     "text": [
      "Current DC CTC annual cost: $17,971,915\n",
      "Baseline DC CTC cost (zeroed out): $0\n"
     ]
    }
   ],
   "source": [
    "# Calculate baseline cost\n",
    "current_ctc = sim.calculate(\"dc_ctc\", period=2025, map_to=\"household\")\n",
    "baseline_ctc = baseline_sim.calculate(\"dc_ctc\", period=2025, map_to=\"household\")\n",
    "\n",
    "current_cost = current_ctc.sum()\n",
    "print(f\"Current DC CTC annual cost: ${current_cost:,.0f}\")\n",
    "print(f\"Baseline DC CTC cost (zeroed out): ${baseline_ctc.sum():,.0f}\")"
   ]
  },
  {
   "cell_type": "code",
   "execution_count": 5,
   "metadata": {},
   "outputs": [],
   "source": [
    "def create_preschool_reform(amount_per_child):\n",
    "    \"\"\"Create reform targeting preschool age children (under 4)\"\"\"\n",
    "    return Reform.from_dict(\n",
    "        {\n",
    "            \"gov.states.dc.tax.income.credits.ctc.amount\": {\n",
    "                \"2025-01-01.2100-12-31\": amount_per_child\n",
    "            },\n",
    "            \"gov.states.dc.tax.income.credits.ctc.child.age_threshold\": {\n",
    "                \"2025-01-01.2100-12-31\": 4\n",
    "            }\n",
    "        },\n",
    "        country_id=\"us\",\n",
    "    )\n",
    "\n",
    "# Adjusted estimates based on actual costs\n",
    "preschool_5m_amount = 175  # Estimate for $5M\n",
    "preschool_10m_amount = 350  # Estimate for $10M\n",
    "preschool_15m_amount = 525  # Estimate for $15M\n",
    "\n",
    "preschool_5m_reform = create_preschool_reform(preschool_5m_amount)\n",
    "preschool_10m_reform = create_preschool_reform(preschool_10m_amount)\n",
    "preschool_15m_reform = create_preschool_reform(preschool_15m_amount)\n",
    "\n",
    "preschool_5m_sim = Microsimulation(dataset='hf://policyengine/test/DC.h5', reform=preschool_5m_reform)\n",
    "preschool_10m_sim = Microsimulation(dataset='hf://policyengine/test/DC.h5', reform=preschool_10m_reform)\n",
    "preschool_15m_sim = Microsimulation(dataset='hf://policyengine/test/DC.h5', reform=preschool_15m_reform)"
   ]
  },
  {
   "cell_type": "code",
   "execution_count": 6,
   "metadata": {},
   "outputs": [
    {
     "name": "stdout",
     "output_type": "stream",
     "text": [
      "Reform 1: Preschool Age (Under 4)\n",
      "  $5M target - Amount per child: $175, Actual cost: $5,017,059\n",
      "  $10M target - Amount per child: $350, Actual cost: $10,068,140\n",
      "  $15M target - Amount per child: $525, Actual cost: $15,148,594\n"
     ]
    }
   ],
   "source": [
    "# Calculate costs for preschool reforms\n",
    "preschool_5m_ctc = preschool_5m_sim.calculate(\"dc_ctc\", period=2025, map_to=\"household\")\n",
    "preschool_10m_ctc = preschool_10m_sim.calculate(\"dc_ctc\", period=2025, map_to=\"household\")\n",
    "preschool_15m_ctc = preschool_15m_sim.calculate(\"dc_ctc\", period=2025, map_to=\"household\")\n",
    "\n",
    "print(\"Reform 1: Preschool Age (Under 4)\")\n",
    "print(f\"  $5M target - Amount per child: ${preschool_5m_amount}, Actual cost: ${preschool_5m_ctc.sum():,.0f}\")\n",
    "print(f\"  $10M target - Amount per child: ${preschool_10m_amount}, Actual cost: ${preschool_10m_ctc.sum():,.0f}\")\n",
    "print(f\"  $15M target - Amount per child: ${preschool_15m_amount}, Actual cost: ${preschool_15m_ctc.sum():,.0f}\")"
   ]
  },
  {
   "cell_type": "code",
   "execution_count": 7,
   "metadata": {},
   "outputs": [],
   "source": [
    "def create_under_6_reform(amount_per_child):\n",
    "    \"\"\"Create reform for children under 6 (current age threshold)\"\"\"\n",
    "    return Reform.from_dict(\n",
    "        {\n",
    "            \"gov.states.dc.tax.income.credits.ctc.amount\": {\n",
    "                \"2025-01-01.2100-12-31\": amount_per_child\n",
    "            },\n",
    "            \"gov.states.dc.tax.income.credits.ctc.child.age_threshold\": {\n",
    "                \"2025-01-01.2100-12-31\": 6\n",
    "            }\n",
    "        },\n",
    "        country_id=\"us\",\n",
    "    )\n",
    "\n",
    "# Adjusted estimates based on actual costs\n",
    "under6_5m_amount = 120  # Estimate for $5M\n",
    "under6_10m_amount = 235  # Estimate for $10M\n",
    "under6_15m_amount = 350  # Estimate for $15M\n",
    "\n",
    "under6_5m_reform = create_under_6_reform(under6_5m_amount)\n",
    "under6_10m_reform = create_under_6_reform(under6_10m_amount)\n",
    "under6_15m_reform = create_under_6_reform(under6_15m_amount)\n",
    "\n",
    "under6_5m_sim = Microsimulation(dataset='hf://policyengine/test/DC.h5', reform=under6_5m_reform)\n",
    "under6_10m_sim = Microsimulation(dataset='hf://policyengine/test/DC.h5', reform=under6_10m_reform)\n",
    "under6_15m_sim = Microsimulation(dataset='hf://policyengine/test/DC.h5', reform=under6_15m_reform)"
   ]
  },
  {
   "cell_type": "code",
   "execution_count": 8,
   "metadata": {},
   "outputs": [
    {
     "name": "stdout",
     "output_type": "stream",
     "text": [
      "Reform 2: Early Childhood (Under 6)\n",
      "  $5M target - Amount per child: $120, Actual cost: $5,104,786\n",
      "  $10M target - Amount per child: $235, Actual cost: $10,019,970\n",
      "  $15M target - Amount per child: $350, Actual cost: $14,957,336\n"
     ]
    }
   ],
   "source": [
    "# Calculate costs for under 6 reforms\n",
    "under6_5m_ctc = under6_5m_sim.calculate(\"dc_ctc\", period=2025, map_to=\"household\")\n",
    "under6_10m_ctc = under6_10m_sim.calculate(\"dc_ctc\", period=2025, map_to=\"household\")\n",
    "under6_15m_ctc = under6_15m_sim.calculate(\"dc_ctc\", period=2025, map_to=\"household\")\n",
    "\n",
    "print(\"Reform 2: Early Childhood (Under 6)\")\n",
    "print(f\"  $5M target - Amount per child: ${under6_5m_amount}, Actual cost: ${under6_5m_ctc.sum():,.0f}\")\n",
    "print(f\"  $10M target - Amount per child: ${under6_10m_amount}, Actual cost: ${under6_10m_ctc.sum():,.0f}\")\n",
    "print(f\"  $15M target - Amount per child: ${under6_15m_amount}, Actual cost: ${under6_15m_ctc.sum():,.0f}\")"
   ]
  },
  {
   "cell_type": "code",
   "execution_count": 9,
   "metadata": {},
   "outputs": [],
   "source": [
    "def create_under_18_reform(amount_per_child):\n",
    "    \"\"\"Create reform for all children under 18\"\"\"\n",
    "    return Reform.from_dict(\n",
    "        {\n",
    "            \"gov.states.dc.tax.income.credits.ctc.amount\": {\n",
    "                \"2025-01-01.2100-12-31\": amount_per_child\n",
    "            },\n",
    "            \"gov.states.dc.tax.income.credits.ctc.child.age_threshold\": {\n",
    "                \"2025-01-01.2100-12-31\": 18\n",
    "            }\n",
    "        },\n",
    "        country_id=\"us\",\n",
    "    )\n",
    "\n",
    "# Adjusted estimates based on actual costs\n",
    "under18_5m_amount = 45  # Estimate for $5M\n",
    "under18_10m_amount = 85  # Estimate for $10M\n",
    "under18_15m_amount = 125  # Estimate for $15M\n",
    "\n",
    "under18_5m_reform = create_under_18_reform(under18_5m_amount)\n",
    "under18_10m_reform = create_under_18_reform(under18_10m_amount)\n",
    "under18_15m_reform = create_under_18_reform(under18_15m_amount)\n",
    "\n",
    "under18_5m_sim = Microsimulation(dataset='hf://policyengine/test/DC.h5', reform=under18_5m_reform)\n",
    "under18_10m_sim = Microsimulation(dataset='hf://policyengine/test/DC.h5', reform=under18_10m_reform)\n",
    "under18_15m_sim = Microsimulation(dataset='hf://policyengine/test/DC.h5', reform=under18_15m_reform)"
   ]
  },
  {
   "cell_type": "code",
   "execution_count": 10,
   "metadata": {},
   "outputs": [
    {
     "name": "stdout",
     "output_type": "stream",
     "text": [
      "Reform 3: All Children (Under 18)\n",
      "  $5M target - Amount per child: $45, Actual cost: $5,302,008\n",
      "  $10M target - Amount per child: $85, Actual cost: $10,026,294\n",
      "  $15M target - Amount per child: $125, Actual cost: $14,760,191\n"
     ]
    }
   ],
   "source": [
    "# Calculate costs for under 18 reforms\n",
    "under18_5m_ctc = under18_5m_sim.calculate(\"dc_ctc\", period=2025, map_to=\"household\")\n",
    "under18_10m_ctc = under18_10m_sim.calculate(\"dc_ctc\", period=2025, map_to=\"household\")\n",
    "under18_15m_ctc = under18_15m_sim.calculate(\"dc_ctc\", period=2025, map_to=\"household\")\n",
    "\n",
    "print(\"Reform 3: All Children (Under 18)\")\n",
    "print(f\"  $5M target - Amount per child: ${under18_5m_amount}, Actual cost: ${under18_5m_ctc.sum():,.0f}\")\n",
    "print(f\"  $10M target - Amount per child: ${under18_10m_amount}, Actual cost: ${under18_10m_ctc.sum():,.0f}\")\n",
    "print(f\"  $15M target - Amount per child: ${under18_15m_amount}, Actual cost: ${under18_15m_ctc.sum():,.0f}\")"
   ]
  },
  {
   "cell_type": "code",
   "execution_count": 11,
   "metadata": {},
   "outputs": [],
   "source": [
    "def create_preschool_reform_lower_threshold(amount_per_child):\n",
    "    \"\"\"Create reform for children under 4 with lower income thresholds\"\"\"\n",
    "    return Reform.from_dict(\n",
    "        {\n",
    "            \"gov.states.dc.tax.income.credits.ctc.amount\": {\n",
    "                \"2025-01-01.2100-12-31\": amount_per_child\n",
    "            },\n",
    "            \"gov.states.dc.tax.income.credits.ctc.child.age_threshold\": {\n",
    "                \"2025-01-01.2100-12-31\": 4\n",
    "            },\n",
    "            \"gov.states.dc.tax.income.credits.ctc.income_threshold.SINGLE\": {\n",
    "                \"2025-01-01.2100-12-31\": 80_000\n",
    "            },\n",
    "            \"gov.states.dc.tax.income.credits.ctc.income_threshold.JOINT\": {\n",
    "                \"2025-01-01.2100-12-31\": 120_000\n",
    "            },\n",
    "            \"gov.states.dc.tax.income.credits.ctc.income_threshold.SEPARATE\": {\n",
    "                \"2025-01-01.2100-12-31\": 60_000\n",
    "            },\n",
    "            \"gov.states.dc.tax.income.credits.ctc.income_threshold.HEAD_OF_HOUSEHOLD\": {\n",
    "                \"2025-01-01.2100-12-31\": 80_000\n",
    "            },\n",
    "            \"gov.states.dc.tax.income.credits.ctc.income_threshold.SURVIVING_SPOUSE\": {\n",
    "                \"2025-01-01.2100-12-31\": 80_000\n",
    "            }\n",
    "        },\n",
    "        country_id=\"us\",\n",
    "    )\n",
    "\n",
    "# Adjusted amounts based on target costs\n",
    "preschool_lower_5m_amount = 195   # Estimate for $5M\n",
    "preschool_lower_10m_amount = 390  # Estimate for $10M\n",
    "preschool_lower_15m_amount = 570  # Estimate for $15M\n",
    "\n",
    "preschool_lower_5m_reform = create_preschool_reform_lower_threshold(preschool_lower_5m_amount)\n",
    "preschool_lower_10m_reform = create_preschool_reform_lower_threshold(preschool_lower_10m_amount)\n",
    "preschool_lower_15m_reform = create_preschool_reform_lower_threshold(preschool_lower_15m_amount)\n",
    "\n",
    "preschool_lower_5m_sim = Microsimulation(dataset='hf://policyengine/test/DC.h5', reform=preschool_lower_5m_reform)\n",
    "preschool_lower_10m_sim = Microsimulation(dataset='hf://policyengine/test/DC.h5', reform=preschool_lower_10m_reform)\n",
    "preschool_lower_15m_sim = Microsimulation(dataset='hf://policyengine/test/DC.h5', reform=preschool_lower_15m_reform)"
   ]
  },
  {
   "cell_type": "code",
   "execution_count": 12,
   "metadata": {},
   "outputs": [
    {
     "name": "stdout",
     "output_type": "stream",
     "text": [
      "Reform 1B: Preschool Age (Under 4) - Lower Income Thresholds\n",
      "  $5M target - Amount per child: $195, Actual cost: $4,950,844\n",
      "  $10M target - Amount per child: $390, Actual cost: $9,977,008\n",
      "  $15M target - Amount per child: $570, Actual cost: $14,794,358\n"
     ]
    }
   ],
   "source": [
    "# Calculate costs for preschool reforms with lower thresholds\n",
    "preschool_lower_5m_ctc = preschool_lower_5m_sim.calculate(\"dc_ctc\", period=2025, map_to=\"household\")\n",
    "preschool_lower_10m_ctc = preschool_lower_10m_sim.calculate(\"dc_ctc\", period=2025, map_to=\"household\")\n",
    "preschool_lower_15m_ctc = preschool_lower_15m_sim.calculate(\"dc_ctc\", period=2025, map_to=\"household\")\n",
    "\n",
    "print(\"Reform 1B: Preschool Age (Under 4) - Lower Income Thresholds\")\n",
    "print(f\"  $5M target - Amount per child: ${preschool_lower_5m_amount}, Actual cost: ${preschool_lower_5m_ctc.sum():,.0f}\")\n",
    "print(f\"  $10M target - Amount per child: ${preschool_lower_10m_amount}, Actual cost: ${preschool_lower_10m_ctc.sum():,.0f}\")\n",
    "print(f\"  $15M target - Amount per child: ${preschool_lower_15m_amount}, Actual cost: ${preschool_lower_15m_ctc.sum():,.0f}\")"
   ]
  },
  {
   "cell_type": "code",
   "execution_count": 13,
   "metadata": {},
   "outputs": [],
   "source": [
    "def create_under_6_reform_lower_threshold(amount_per_child):\n",
    "    \"\"\"Create reform for children under 6 with lower income thresholds\"\"\"\n",
    "    return Reform.from_dict(\n",
    "        {\n",
    "            \"gov.states.dc.tax.income.credits.ctc.amount\": {\n",
    "                \"2025-01-01.2100-12-31\": amount_per_child\n",
    "            },\n",
    "            \"gov.states.dc.tax.income.credits.ctc.child.age_threshold\": {\n",
    "                \"2025-01-01.2100-12-31\": 6\n",
    "            },\n",
    "            \"gov.states.dc.tax.income.credits.ctc.income_threshold.SINGLE\": {\n",
    "                \"2025-01-01.2100-12-31\": 80_000\n",
    "            },\n",
    "            \"gov.states.dc.tax.income.credits.ctc.income_threshold.JOINT\": {\n",
    "                \"2025-01-01.2100-12-31\": 120_000\n",
    "            },\n",
    "            \"gov.states.dc.tax.income.credits.ctc.income_threshold.SEPARATE\": {\n",
    "                \"2025-01-01.2100-12-31\": 60_000\n",
    "            },\n",
    "            \"gov.states.dc.tax.income.credits.ctc.income_threshold.HEAD_OF_HOUSEHOLD\": {\n",
    "                \"2025-01-01.2100-12-31\": 80_000\n",
    "            },\n",
    "            \"gov.states.dc.tax.income.credits.ctc.income_threshold.SURVIVING_SPOUSE\": {\n",
    "                \"2025-01-01.2100-12-31\": 80_000\n",
    "            }\n",
    "        },\n",
    "        country_id=\"us\",\n",
    "    )\n",
    "\n",
    "# Adjusted amounts based on target costs\n",
    "under6_lower_5m_amount = 130   # Estimate for $5M\n",
    "under6_lower_10m_amount = 265  # Estimate for $10M\n",
    "under6_lower_15m_amount = 385  # Estimate for $15M\n",
    "\n",
    "under6_lower_5m_reform = create_under_6_reform_lower_threshold(under6_lower_5m_amount)\n",
    "under6_lower_10m_reform = create_under_6_reform_lower_threshold(under6_lower_10m_amount)\n",
    "under6_lower_15m_reform = create_under_6_reform_lower_threshold(under6_lower_15m_amount)\n",
    "\n",
    "under6_lower_5m_sim = Microsimulation(dataset='hf://policyengine/test/DC.h5', reform=under6_lower_5m_reform)\n",
    "under6_lower_10m_sim = Microsimulation(dataset='hf://policyengine/test/DC.h5', reform=under6_lower_10m_reform)\n",
    "under6_lower_15m_sim = Microsimulation(dataset='hf://policyengine/test/DC.h5', reform=under6_lower_15m_reform)"
   ]
  },
  {
   "cell_type": "code",
   "execution_count": 14,
   "metadata": {},
   "outputs": [
    {
     "name": "stdout",
     "output_type": "stream",
     "text": [
      "Reform 2B: Early Childhood (Under 6) - Lower Income Thresholds\n",
      "  $5M target - Amount per child: $130, Actual cost: $4,910,300\n",
      "  $10M target - Amount per child: $265, Actual cost: $10,060,217\n",
      "  $15M target - Amount per child: $385, Actual cost: $14,728,679\n"
     ]
    }
   ],
   "source": [
    "# Calculate costs for under 6 reforms with lower thresholds\n",
    "under6_lower_5m_ctc = under6_lower_5m_sim.calculate(\"dc_ctc\", period=2025, map_to=\"household\")\n",
    "under6_lower_10m_ctc = under6_lower_10m_sim.calculate(\"dc_ctc\", period=2025, map_to=\"household\")\n",
    "under6_lower_15m_ctc = under6_lower_15m_sim.calculate(\"dc_ctc\", period=2025, map_to=\"household\")\n",
    "\n",
    "print(\"Reform 2B: Early Childhood (Under 6) - Lower Income Thresholds\")\n",
    "print(f\"  $5M target - Amount per child: ${under6_lower_5m_amount}, Actual cost: ${under6_lower_5m_ctc.sum():,.0f}\")\n",
    "print(f\"  $10M target - Amount per child: ${under6_lower_10m_amount}, Actual cost: ${under6_lower_10m_ctc.sum():,.0f}\")\n",
    "print(f\"  $15M target - Amount per child: ${under6_lower_15m_amount}, Actual cost: ${under6_lower_15m_ctc.sum():,.0f}\")"
   ]
  },
  {
   "cell_type": "code",
   "execution_count": 15,
   "metadata": {},
   "outputs": [],
   "source": [
    "def create_under_18_reform_lower_threshold(amount_per_child):\n",
    "    \"\"\"Create reform for all children under 18 with lower income thresholds\"\"\"\n",
    "    return Reform.from_dict(\n",
    "        {\n",
    "            \"gov.states.dc.tax.income.credits.ctc.amount\": {\n",
    "                \"2025-01-01.2100-12-31\": amount_per_child\n",
    "            },\n",
    "            \"gov.states.dc.tax.income.credits.ctc.child.age_threshold\": {\n",
    "                \"2025-01-01.2100-12-31\": 18\n",
    "            },\n",
    "            \"gov.states.dc.tax.income.credits.ctc.income_threshold.SINGLE\": {\n",
    "                \"2025-01-01.2100-12-31\": 80_000\n",
    "            },\n",
    "            \"gov.states.dc.tax.income.credits.ctc.income_threshold.JOINT\": {\n",
    "                \"2025-01-01.2100-12-31\": 120_000\n",
    "            },\n",
    "            \"gov.states.dc.tax.income.credits.ctc.income_threshold.SEPARATE\": {\n",
    "                \"2025-01-01.2100-12-31\": 60_000\n",
    "            },\n",
    "            \"gov.states.dc.tax.income.credits.ctc.income_threshold.HEAD_OF_HOUSEHOLD\": {\n",
    "                \"2025-01-01.2100-12-31\": 80_000\n",
    "            },\n",
    "            \"gov.states.dc.tax.income.credits.ctc.income_threshold.SURVIVING_SPOUSE\": {\n",
    "                \"2025-01-01.2100-12-31\": 80_000\n",
    "            }\n",
    "        },\n",
    "        country_id=\"us\",\n",
    "    )\n",
    "\n",
    "# Adjusted amounts based on target costs\n",
    "under18_lower_5m_amount = 50   # Estimate for $5M\n",
    "under18_lower_10m_amount = 95  # Estimate for $10M\n",
    "under18_lower_15m_amount = 145  # Estimate for $15M\n",
    "\n",
    "under18_lower_5m_reform = create_under_18_reform_lower_threshold(under18_lower_5m_amount)\n",
    "under18_lower_10m_reform = create_under_18_reform_lower_threshold(under18_lower_10m_amount)\n",
    "under18_lower_15m_reform = create_under_18_reform_lower_threshold(under18_lower_15m_amount)\n",
    "\n",
    "under18_lower_5m_sim = Microsimulation(dataset='hf://policyengine/test/DC.h5', reform=under18_lower_5m_reform)\n",
    "under18_lower_10m_sim = Microsimulation(dataset='hf://policyengine/test/DC.h5', reform=under18_lower_10m_reform)\n",
    "under18_lower_15m_sim = Microsimulation(dataset='hf://policyengine/test/DC.h5', reform=under18_lower_15m_reform)"
   ]
  },
  {
   "cell_type": "code",
   "execution_count": 16,
   "metadata": {},
   "outputs": [
    {
     "name": "stdout",
     "output_type": "stream",
     "text": [
      "Reform 3B: All Children (Under 18) - Lower Income Thresholds\n",
      "  $5M target - Amount per child: $50, Actual cost: $5,147,592\n",
      "  $10M target - Amount per child: $95, Actual cost: $9,823,450\n",
      "  $15M target - Amount per child: $145, Actual cost: $15,059,910\n"
     ]
    }
   ],
   "source": [
    "# Calculate costs for under 18 reforms with lower thresholds\n",
    "under18_lower_5m_ctc = under18_lower_5m_sim.calculate(\"dc_ctc\", period=2025, map_to=\"household\")\n",
    "under18_lower_10m_ctc = under18_lower_10m_sim.calculate(\"dc_ctc\", period=2025, map_to=\"household\")\n",
    "under18_lower_15m_ctc = under18_lower_15m_sim.calculate(\"dc_ctc\", period=2025, map_to=\"household\")\n",
    "\n",
    "print(\"Reform 3B: All Children (Under 18) - Lower Income Thresholds\")\n",
    "print(f\"  $5M target - Amount per child: ${under18_lower_5m_amount}, Actual cost: ${under18_lower_5m_ctc.sum():,.0f}\")\n",
    "print(f\"  $10M target - Amount per child: ${under18_lower_10m_amount}, Actual cost: ${under18_lower_10m_ctc.sum():,.0f}\")\n",
    "print(f\"  $15M target - Amount per child: ${under18_lower_15m_amount}, Actual cost: ${under18_lower_15m_ctc.sum():,.0f}\")"
   ]
  },
  {
   "cell_type": "code",
   "execution_count": 17,
   "metadata": {},
   "outputs": [
    {
     "name": "stdout",
     "output_type": "stream",
     "text": [
      "\n",
      "DC Child Tax Credit Reform Summary\n",
      "====================================================================================================\n",
      "                    Reform Age Group Income Threshold Target Cost Amount per Child Actual Cost\n",
      "        Baseline (Current)   Under 6          Current     Current             $420 $17,971,915\n",
      "       Reform 1: Preschool   Under 4         Standard         $5M             $175  $5,017,059\n",
      "       Reform 1: Preschool   Under 4         Standard        $10M             $350 $10,068,140\n",
      "       Reform 1: Preschool   Under 4         Standard        $15M             $525 $15,148,594\n",
      "      Reform 1B: Preschool   Under 4             Half         $5M             $195  $4,950,844\n",
      "      Reform 1B: Preschool   Under 4             Half        $10M             $390  $9,977,008\n",
      "      Reform 1B: Preschool   Under 4             Half        $15M             $570 $14,794,358\n",
      " Reform 2: Early Childhood   Under 6         Standard         $5M             $120  $5,104,786\n",
      " Reform 2: Early Childhood   Under 6         Standard        $10M             $235 $10,019,970\n",
      " Reform 2: Early Childhood   Under 6         Standard        $15M             $350 $14,957,336\n",
      "Reform 2B: Early Childhood   Under 6             Half         $5M             $130  $4,910,300\n",
      "Reform 2B: Early Childhood   Under 6             Half        $10M             $265 $10,060,217\n",
      "Reform 2B: Early Childhood   Under 6             Half        $15M             $385 $14,728,679\n",
      "    Reform 3: All Children  Under 18         Standard         $5M              $45  $5,302,008\n",
      "    Reform 3: All Children  Under 18         Standard        $10M              $85 $10,026,294\n",
      "    Reform 3: All Children  Under 18         Standard        $15M             $125 $14,760,191\n",
      "   Reform 3B: All Children  Under 18             Half         $5M              $50  $5,147,592\n",
      "   Reform 3B: All Children  Under 18             Half        $10M              $95  $9,823,450\n",
      "   Reform 3B: All Children  Under 18             Half        $15M             $145 $15,059,910\n"
     ]
    }
   ],
   "source": [
    "# Create summary DataFrame including all reforms\n",
    "summary_data = [\n",
    "    {\n",
    "        \"Reform\": \"Baseline (Current)\",\n",
    "        \"Age Group\": \"Under 6\",\n",
    "        \"Income Threshold\": \"Current\",\n",
    "        \"Target Cost\": \"Current\",\n",
    "        \"Amount per Child\": \"$420\",\n",
    "        \"Actual Cost\": f\"${current_cost:,.0f}\"\n",
    "    },\n",
    "    # Reform 1: Preschool\n",
    "    {\n",
    "        \"Reform\": \"Reform 1: Preschool\",\n",
    "        \"Age Group\": \"Under 4\",\n",
    "        \"Income Threshold\": \"Standard\",\n",
    "        \"Target Cost\": \"$5M\",\n",
    "        \"Amount per Child\": f\"${preschool_5m_amount}\",\n",
    "        \"Actual Cost\": f\"${preschool_5m_ctc.sum():,.0f}\"\n",
    "    },\n",
    "    {\n",
    "        \"Reform\": \"Reform 1: Preschool\",\n",
    "        \"Age Group\": \"Under 4\",\n",
    "        \"Income Threshold\": \"Standard\",\n",
    "        \"Target Cost\": \"$10M\",\n",
    "        \"Amount per Child\": f\"${preschool_10m_amount}\",\n",
    "        \"Actual Cost\": f\"${preschool_10m_ctc.sum():,.0f}\"\n",
    "    },\n",
    "    {\n",
    "        \"Reform\": \"Reform 1: Preschool\",\n",
    "        \"Age Group\": \"Under 4\",\n",
    "        \"Income Threshold\": \"Standard\",\n",
    "        \"Target Cost\": \"$15M\",\n",
    "        \"Amount per Child\": f\"${preschool_15m_amount}\",\n",
    "        \"Actual Cost\": f\"${preschool_15m_ctc.sum():,.0f}\"\n",
    "    },\n",
    "    # Reform 1B: Preschool Lower Threshold\n",
    "    {\n",
    "        \"Reform\": \"Reform 1B: Preschool\",\n",
    "        \"Age Group\": \"Under 4\",\n",
    "        \"Income Threshold\": \"Half\",\n",
    "        \"Target Cost\": \"$5M\",\n",
    "        \"Amount per Child\": f\"${preschool_lower_5m_amount}\",\n",
    "        \"Actual Cost\": f\"${preschool_lower_5m_ctc.sum():,.0f}\"\n",
    "    },\n",
    "    {\n",
    "        \"Reform\": \"Reform 1B: Preschool\",\n",
    "        \"Age Group\": \"Under 4\",\n",
    "        \"Income Threshold\": \"Half\",\n",
    "        \"Target Cost\": \"$10M\",\n",
    "        \"Amount per Child\": f\"${preschool_lower_10m_amount}\",\n",
    "        \"Actual Cost\": f\"${preschool_lower_10m_ctc.sum():,.0f}\"\n",
    "    },\n",
    "    {\n",
    "        \"Reform\": \"Reform 1B: Preschool\",\n",
    "        \"Age Group\": \"Under 4\",\n",
    "        \"Income Threshold\": \"Half\",\n",
    "        \"Target Cost\": \"$15M\",\n",
    "        \"Amount per Child\": f\"${preschool_lower_15m_amount}\",\n",
    "        \"Actual Cost\": f\"${preschool_lower_15m_ctc.sum():,.0f}\"\n",
    "    },\n",
    "    # Reform 2: Early Childhood\n",
    "    {\n",
    "        \"Reform\": \"Reform 2: Early Childhood\",\n",
    "        \"Age Group\": \"Under 6\",\n",
    "        \"Income Threshold\": \"Standard\",\n",
    "        \"Target Cost\": \"$5M\",\n",
    "        \"Amount per Child\": f\"${under6_5m_amount}\",\n",
    "        \"Actual Cost\": f\"${under6_5m_ctc.sum():,.0f}\"\n",
    "    },\n",
    "    {\n",
    "        \"Reform\": \"Reform 2: Early Childhood\",\n",
    "        \"Age Group\": \"Under 6\",\n",
    "        \"Income Threshold\": \"Standard\",\n",
    "        \"Target Cost\": \"$10M\",\n",
    "        \"Amount per Child\": f\"${under6_10m_amount}\",\n",
    "        \"Actual Cost\": f\"${under6_10m_ctc.sum():,.0f}\"\n",
    "    },\n",
    "    {\n",
    "        \"Reform\": \"Reform 2: Early Childhood\",\n",
    "        \"Age Group\": \"Under 6\",\n",
    "        \"Income Threshold\": \"Standard\",\n",
    "        \"Target Cost\": \"$15M\",\n",
    "        \"Amount per Child\": f\"${under6_15m_amount}\",\n",
    "        \"Actual Cost\": f\"${under6_15m_ctc.sum():,.0f}\"\n",
    "    },\n",
    "    # Reform 2B: Early Childhood Lower Threshold\n",
    "    {\n",
    "        \"Reform\": \"Reform 2B: Early Childhood\",\n",
    "        \"Age Group\": \"Under 6\",\n",
    "        \"Income Threshold\": \"Half\",\n",
    "        \"Target Cost\": \"$5M\",\n",
    "        \"Amount per Child\": f\"${under6_lower_5m_amount}\",\n",
    "        \"Actual Cost\": f\"${under6_lower_5m_ctc.sum():,.0f}\"\n",
    "    },\n",
    "    {\n",
    "        \"Reform\": \"Reform 2B: Early Childhood\",\n",
    "        \"Age Group\": \"Under 6\",\n",
    "        \"Income Threshold\": \"Half\",\n",
    "        \"Target Cost\": \"$10M\",\n",
    "        \"Amount per Child\": f\"${under6_lower_10m_amount}\",\n",
    "        \"Actual Cost\": f\"${under6_lower_10m_ctc.sum():,.0f}\"\n",
    "    },\n",
    "    {\n",
    "        \"Reform\": \"Reform 2B: Early Childhood\",\n",
    "        \"Age Group\": \"Under 6\",\n",
    "        \"Income Threshold\": \"Half\",\n",
    "        \"Target Cost\": \"$15M\",\n",
    "        \"Amount per Child\": f\"${under6_lower_15m_amount}\",\n",
    "        \"Actual Cost\": f\"${under6_lower_15m_ctc.sum():,.0f}\"\n",
    "    },\n",
    "    # Reform 3: All Children\n",
    "    {\n",
    "        \"Reform\": \"Reform 3: All Children\",\n",
    "        \"Age Group\": \"Under 18\",\n",
    "        \"Income Threshold\": \"Standard\",\n",
    "        \"Target Cost\": \"$5M\",\n",
    "        \"Amount per Child\": f\"${under18_5m_amount}\",\n",
    "        \"Actual Cost\": f\"${under18_5m_ctc.sum():,.0f}\"\n",
    "    },\n",
    "    {\n",
    "        \"Reform\": \"Reform 3: All Children\",\n",
    "        \"Age Group\": \"Under 18\",\n",
    "        \"Income Threshold\": \"Standard\",\n",
    "        \"Target Cost\": \"$10M\",\n",
    "        \"Amount per Child\": f\"${under18_10m_amount}\",\n",
    "        \"Actual Cost\": f\"${under18_10m_ctc.sum():,.0f}\"\n",
    "    },\n",
    "    {\n",
    "        \"Reform\": \"Reform 3: All Children\",\n",
    "        \"Age Group\": \"Under 18\",\n",
    "        \"Income Threshold\": \"Standard\",\n",
    "        \"Target Cost\": \"$15M\",\n",
    "        \"Amount per Child\": f\"${under18_15m_amount}\",\n",
    "        \"Actual Cost\": f\"${under18_15m_ctc.sum():,.0f}\"\n",
    "    },\n",
    "    # Reform 3B: All Children Lower Threshold\n",
    "    {\n",
    "        \"Reform\": \"Reform 3B: All Children\",\n",
    "        \"Age Group\": \"Under 18\",\n",
    "        \"Income Threshold\": \"Half\",\n",
    "        \"Target Cost\": \"$5M\",\n",
    "        \"Amount per Child\": f\"${under18_lower_5m_amount}\",\n",
    "        \"Actual Cost\": f\"${under18_lower_5m_ctc.sum():,.0f}\"\n",
    "    },\n",
    "    {\n",
    "        \"Reform\": \"Reform 3B: All Children\",\n",
    "        \"Age Group\": \"Under 18\",\n",
    "        \"Income Threshold\": \"Half\",\n",
    "        \"Target Cost\": \"$10M\",\n",
    "        \"Amount per Child\": f\"${under18_lower_10m_amount}\",\n",
    "        \"Actual Cost\": f\"${under18_lower_10m_ctc.sum():,.0f}\"\n",
    "    },\n",
    "    {\n",
    "        \"Reform\": \"Reform 3B: All Children\",\n",
    "        \"Age Group\": \"Under 18\",\n",
    "        \"Income Threshold\": \"Half\",\n",
    "        \"Target Cost\": \"$15M\",\n",
    "        \"Amount per Child\": f\"${under18_lower_15m_amount}\",\n",
    "        \"Actual Cost\": f\"${under18_lower_15m_ctc.sum():,.0f}\"\n",
    "    }\n",
    "]\n",
    "\n",
    "summary_df = pd.DataFrame(summary_data)\n",
    "print(\"\\nDC Child Tax Credit Reform Summary\")\n",
    "print(\"=\"*100)\n",
    "print(summary_df.to_string(index=False))"
   ]
  },
  {
   "cell_type": "code",
   "execution_count": 18,
   "metadata": {},
   "outputs": [
    {
     "name": "stdout",
     "output_type": "stream",
     "text": [
      "\n",
      "Exported to dc_ctc_reform_summary.csv\n"
     ]
    }
   ],
   "source": [
    "# Export to CSV\n",
    "summary_df.to_csv(\"dc_ctc_reform_summary.csv\", index=False)\n",
    "print(\"\\nExported to dc_ctc_reform_summary.csv\")"
   ]
  }
 ],
 "metadata": {
  "kernelspec": {
   "display_name": "pe",
   "language": "python",
   "name": "python3"
  },
  "language_info": {
   "codemirror_mode": {
    "name": "ipython",
    "version": 3
   },
   "file_extension": ".py",
   "mimetype": "text/x-python",
   "name": "python",
   "nbconvert_exporter": "python",
   "pygments_lexer": "ipython3",
   "version": "3.12.10"
  }
 },
 "nbformat": 4,
 "nbformat_minor": 4
}
