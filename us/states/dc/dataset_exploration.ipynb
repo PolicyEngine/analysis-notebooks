{
 "cells": [
  {
   "cell_type": "markdown",
   "metadata": {},
   "source": [
    "# DC Dataset Exploration\n",
    "\n",
    "This notebook explores the DC dataset to understand household counts and income distribution."
   ]
  },
  {
   "cell_type": "code",
   "execution_count": 1,
   "metadata": {},
   "outputs": [
    {
     "name": "stderr",
     "output_type": "stream",
     "text": [
      "c:\\Users\\dtsax\\envs\\pe\\Lib\\site-packages\\tqdm\\auto.py:21: TqdmWarning: IProgress not found. Please update jupyter and ipywidgets. See https://ipywidgets.readthedocs.io/en/stable/user_install.html\n",
      "  from .autonotebook import tqdm as notebook_tqdm\n"
     ]
    }
   ],
   "source": [
    "from policyengine_us import Microsimulation\n",
    "import pandas as pd\n",
    "import numpy as np"
   ]
  },
  {
   "cell_type": "code",
   "execution_count": 2,
   "metadata": {},
   "outputs": [],
   "source": [
    "# Load DC dataset\n",
    "sim = Microsimulation(dataset='hf://policyengine/test/DC.h5')"
   ]
  },
  {
   "cell_type": "code",
   "execution_count": 3,
   "metadata": {},
   "outputs": [
    {
     "name": "stdout",
     "output_type": "stream",
     "text": [
      "Number of households in dataset: 5,015\n",
      "Household count (mapped): 220,449\n",
      "Person count (mapped): 668,071\n"
     ]
    }
   ],
   "source": [
    "# Check dataset size\n",
    "household_weight = sim.calculate(\"household_weight\", period=2025)\n",
    "household_count = sim.calculate(\"household_count\", period=2025, map_to=\"household\")\n",
    "person_count = sim.calculate(\"person_count\", period=2025, map_to=\"household\")\n",
    "\n",
    "print(f\"Number of households in dataset: {len(household_weight):,}\")\n",
    "print(f\"Household count (mapped): {household_count.sum():,.0f}\")\n",
    "print(f\"Person count (mapped): {person_count.sum():,.0f}\")"
   ]
  },
  {
   "cell_type": "code",
   "execution_count": 4,
   "metadata": {},
   "outputs": [
    {
     "name": "stdout",
     "output_type": "stream",
     "text": [
      "Income distribution:\n",
      "  Median AGI: $120,221\n",
      "  75th percentile: $327,906\n",
      "  90th percentile: $546,746\n",
      "  95th percentile: $915,476\n",
      "  Max AGI: $3,229,514\n",
      "\n",
      "Households by income threshold:\n",
      "  Households over $80k: 135,495.6000130782\n",
      "  Households over $120k: 110,301.79662270736\n",
      "  Households over $160k: 91,709.29688587465\n",
      "  Households over $240k: 68,994.44427188052\n"
     ]
    }
   ],
   "source": [
    "# Check household income distribution (aggregate to household level using map_to)\n",
    "agi = sim.calculate(\"adjusted_gross_income\", period=2025, map_to=\"household\")\n",
    "print(f\"Income distribution:\")\n",
    "print(f\"  Median AGI: ${agi.median():,.0f}\")\n",
    "print(f\"  75th percentile: ${agi.quantile(0.75):,.0f}\")\n",
    "print(f\"  90th percentile: ${agi.quantile(0.90):,.0f}\")\n",
    "print(f\"  95th percentile: ${agi.quantile(0.95):,.0f}\")\n",
    "print(f\"  Max AGI: ${agi.max():,.0f}\")\n",
    "print(f\"\\nHouseholds by income threshold:\")\n",
    "print(f\"  Households over $80k: {(agi > 80_000).sum():,}\")\n",
    "print(f\"  Households over $120k: {(agi > 120_000).sum():,}\")\n",
    "print(f\"  Households over $160k: {(agi > 160_000).sum():,}\")\n",
    "print(f\"  Households over $240k: {(agi > 240_000).sum():,}\")"
   ]
  },
  {
   "cell_type": "code",
   "execution_count": 5,
   "metadata": {},
   "outputs": [
    {
     "name": "stdout",
     "output_type": "stream",
     "text": [
      "\n",
      "Households with children:\n",
      "  Total households with children: 984\n",
      "  Households with 1 child: 984\n",
      "  Households with 2 children: 0\n",
      "  Households with 3+ children: 0\n"
     ]
    }
   ],
   "source": [
    "# Check households with children (count at person level, aggregate to household)\n",
    "is_child = sim.calculate(\"is_child\", period=2025)\n",
    "household_id = sim.calculate(\"household_id\", period=2025)\n",
    "\n",
    "# Count children per household\n",
    "children_per_household = pd.Series(is_child).groupby(household_id).sum()\n",
    "\n",
    "# Map back to household array\n",
    "household_children = children_per_household.reindex(household_id.unique()).fillna(0).values\n",
    "\n",
    "print(f\"\\nHouseholds with children:\")\n",
    "print(f\"  Total households with children: {(household_children > 0).sum():,}\")\n",
    "print(f\"  Households with 1 child: {(household_children == 1).sum():,}\")\n",
    "print(f\"  Households with 2 children: {(household_children == 2).sum():,}\")\n",
    "print(f\"  Households with 3+ children: {(household_children >= 3).sum():,}\")"
   ]
  },
  {
   "cell_type": "code",
   "execution_count": 6,
   "metadata": {},
   "outputs": [
    {
     "name": "stdout",
     "output_type": "stream",
     "text": [
      "\n",
      "Children by age:\n",
      "  Total children under 18: 136,125.36159773025\n",
      "  Children under 4: 32,540.336470582824\n",
      "  Children under 6: 48,094.121104372265\n",
      "  Children ages 6-17: 1,834\n"
     ]
    }
   ],
   "source": [
    "# Check children by age groups (count at person level, aggregate to household)\n",
    "age = sim.calculate(\"age\", period=2025)\n",
    "is_child_age = age < 18\n",
    "\n",
    "# Calculate totals\n",
    "total_children = is_child.sum()\n",
    "children_under_4 = (age < 4).sum()\n",
    "children_under_6 = (age < 6).sum()\n",
    "children_6_17 = ((age >= 6) & (age < 18)).sum()\n",
    "\n",
    "print(f\"\\nChildren by age:\")\n",
    "print(f\"  Total children under 18: {total_children:,}\")\n",
    "print(f\"  Children under 4: {children_under_4:,}\")\n",
    "print(f\"  Children under 6: {children_under_6:,}\")\n",
    "print(f\"  Children ages 6-17: {children_6_17:,}\")"
   ]
  },
  {
   "cell_type": "code",
   "execution_count": 7,
   "metadata": {},
   "outputs": [
    {
     "name": "stdout",
     "output_type": "stream",
     "text": [
      "\n",
      "============================================================\n",
      "DC DATASET SUMMARY (Household Level)\n",
      "============================================================\n",
      "                               Metric      Value\n",
      "      Number of households in dataset      5,015\n",
      "Household count (mapped to household)    220,449\n",
      "   Person count (mapped to household)    668,071\n",
      "                           Median AGI   $120,221\n",
      "                  75th percentile AGI   $327,906\n",
      "                  90th percentile AGI   $546,746\n",
      "                  95th percentile AGI   $915,476\n",
      "                              Max AGI $3,229,514\n",
      "                 Households over $80k    135,496\n",
      "                Households over $120k    110,302\n",
      "                Households over $160k     91,709\n",
      "                Households over $240k     68,994\n",
      "       Total households with children        984\n",
      "              Households with 1 child        984\n",
      "           Households with 2 children          0\n",
      "          Households with 3+ children          0\n",
      "              Total children under 18    136,125\n",
      "                     Children under 4     32,540\n",
      "                     Children under 6     48,094\n",
      "                   Children ages 6-17      1,834\n",
      "============================================================\n",
      "\n",
      "Summary saved to: dc_dataset_summary.csv\n"
     ]
    }
   ],
   "source": [
    "# Create summary table with all findings\n",
    "summary_data = {\n",
    "    'Metric': [\n",
    "        'Number of households in dataset',\n",
    "        'Household count (mapped to household)',\n",
    "        'Person count (mapped to household)',\n",
    "        'Median AGI',\n",
    "        '75th percentile AGI',\n",
    "        '90th percentile AGI',\n",
    "        '95th percentile AGI',\n",
    "        'Max AGI',\n",
    "        'Households over $80k',\n",
    "        'Households over $120k',\n",
    "        'Households over $160k',\n",
    "        'Households over $240k',\n",
    "        'Total households with children',\n",
    "        'Households with 1 child',\n",
    "        'Households with 2 children',\n",
    "        'Households with 3+ children',\n",
    "        'Total children under 18',\n",
    "        'Children under 4',\n",
    "        'Children under 6',\n",
    "        'Children ages 6-17'\n",
    "    ],\n",
    "    'Value': [\n",
    "        f\"{len(household_weight):,}\",\n",
    "        f\"{household_count.sum():,.0f}\",\n",
    "        f\"{person_count.sum():,.0f}\",\n",
    "        f\"${agi.median():,.0f}\",\n",
    "        f\"${agi.quantile(0.75):,.0f}\",\n",
    "        f\"${agi.quantile(0.90):,.0f}\",\n",
    "        f\"${agi.quantile(0.95):,.0f}\",\n",
    "        f\"${agi.max():,.0f}\",\n",
    "        f\"{(agi > 80_000).sum():,.0f}\",\n",
    "        f\"{(agi > 120_000).sum():,.0f}\",\n",
    "        f\"{(agi > 160_000).sum():,.0f}\",\n",
    "        f\"{(agi > 240_000).sum():,.0f}\",\n",
    "        f\"{(household_children > 0).sum():,.0f}\",\n",
    "        f\"{(household_children == 1).sum():,.0f}\",\n",
    "        f\"{(household_children == 2).sum():,.0f}\",\n",
    "        f\"{(household_children >= 3).sum():,.0f}\",\n",
    "        f\"{total_children:,.0f}\",\n",
    "        f\"{children_under_4:,.0f}\",\n",
    "        f\"{children_under_6:,.0f}\",\n",
    "        f\"{children_6_17:,.0f}\"\n",
    "    ]\n",
    "}\n",
    "\n",
    "summary_df = pd.DataFrame(summary_data)\n",
    "print(\"\\n\" + \"=\"*60)\n",
    "print(\"DC DATASET SUMMARY (Household Level)\")\n",
    "print(\"=\"*60)\n",
    "print(summary_df.to_string(index=False))\n",
    "print(\"=\"*60)\n",
    "\n",
    "# Also save as CSV for easy sharing\n",
    "summary_df.to_csv('dc_dataset_summary.csv', index=False)\n",
    "print(\"\\nSummary saved to: dc_dataset_summary.csv\")"
   ]
  }
 ],
 "metadata": {
  "kernelspec": {
   "display_name": "pe",
   "language": "python",
   "name": "python3"
  },
  "language_info": {
   "codemirror_mode": {
    "name": "ipython",
    "version": 3
   },
   "file_extension": ".py",
   "mimetype": "text/x-python",
   "name": "python",
   "nbconvert_exporter": "python",
   "pygments_lexer": "ipython3",
   "version": "3.12.10"
  }
 },
 "nbformat": 4,
 "nbformat_minor": 4
}
