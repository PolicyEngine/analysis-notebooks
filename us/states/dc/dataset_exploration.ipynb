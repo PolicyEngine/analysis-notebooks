{
 "cells": [
  {
   "cell_type": "markdown",
   "metadata": {},
   "source": [
    "# DC Dataset Exploration\n",
    "\n",
    "This notebook explores the DC dataset to understand household counts and income distribution."
   ]
  },
  {
   "cell_type": "code",
   "execution_count": 1,
   "metadata": {},
   "outputs": [
    {
     "name": "stderr",
     "output_type": "stream",
     "text": [
      "c:\\Users\\dtsax\\envs\\pe\\Lib\\site-packages\\tqdm\\auto.py:21: TqdmWarning: IProgress not found. Please update jupyter and ipywidgets. See https://ipywidgets.readthedocs.io/en/stable/user_install.html\n",
      "  from .autonotebook import tqdm as notebook_tqdm\n"
     ]
    }
   ],
   "source": [
    "from policyengine_us import Microsimulation\n",
    "import pandas as pd\n",
    "import numpy as np"
   ]
  },
  {
   "cell_type": "code",
   "execution_count": 2,
   "metadata": {},
   "outputs": [],
   "source": [
    "# Load DC dataset (new version with 7,000+ households)\n",
    "sim = Microsimulation(dataset=\"hf://policyengine/test/DC_0930_v2.h5\")"
   ]
  },
  {
   "cell_type": "code",
   "execution_count": 3,
   "metadata": {},
   "outputs": [
    {
     "name": "stdout",
     "output_type": "stream",
     "text": [
      "Number of households in dataset: 3,157\n",
      "Weighted number of households: 641,845,170\n"
     ]
    }
   ],
   "source": [
    "# Check dataset size\n",
    "household_weight = sim.calculate(\"household_weight\", period=2025)\n",
    "print(f\"Number of households in dataset: {len(household_weight):,}\")\n",
    "print(f\"Weighted number of households: {household_weight.sum():,.0f}\")"
   ]
  },
  {
   "cell_type": "code",
   "execution_count": 4,
   "metadata": {},
   "outputs": [
    {
     "name": "stdout",
     "output_type": "stream",
     "text": [
      "Income distribution:\n",
      "  Median AGI: $0\n",
      "  75th percentile: $15,034\n",
      "  90th percentile: $65,105\n",
      "  95th percentile: $334,613\n",
      "  Max AGI: $2,484,202\n",
      "\n",
      "Households by income threshold:\n",
      "  Households over $80k: 59,724.248763724085\n",
      "  Households over $120k: 52,324.09627961823\n",
      "  Households over $160k: 51,840.848403842145\n",
      "  Households over $240k: 38,579.07857731297\n"
     ]
    }
   ],
   "source": [
    "# Check income distribution\n",
    "agi = sim.calculate(\"adjusted_gross_income\", period=2025)\n",
    "print(f\"Income distribution:\")\n",
    "print(f\"  Median AGI: ${agi.median():,.0f}\")\n",
    "print(f\"  75th percentile: ${agi.quantile(0.75):,.0f}\")\n",
    "print(f\"  90th percentile: ${agi.quantile(0.90):,.0f}\")\n",
    "print(f\"  95th percentile: ${agi.quantile(0.95):,.0f}\")\n",
    "print(f\"  Max AGI: ${agi.max():,.0f}\")\n",
    "print(f\"\\nHouseholds by income threshold:\")\n",
    "print(f\"  Households over $80k: {(agi > 80_000).sum():,}\")\n",
    "print(f\"  Households over $120k: {(agi > 120_000).sum():,}\")\n",
    "print(f\"  Households over $160k: {(agi > 160_000).sum():,}\")\n",
    "print(f\"  Households over $240k: {(agi > 240_000).sum():,}\")"
   ]
  },
  {
   "cell_type": "code",
   "execution_count": 5,
   "metadata": {},
   "outputs": [
    {
     "name": "stdout",
     "output_type": "stream",
     "text": [
      "\n",
      "Households with children:\n",
      "  Total tax units with children: 139,370.18707847144\n",
      "  Tax units with 1 child: 139,370.18707847144\n",
      "  Tax units with 2 children: 0.0\n",
      "  Tax units with 3+ children: 0.0\n"
     ]
    }
   ],
   "source": [
    "# Check households with children\n",
    "num_children = sim.calculate(\"tax_unit_children\", period=2025)\n",
    "print(f\"\\nHouseholds with children:\")\n",
    "print(f\"  Total tax units with children: {(num_children > 0).sum():,}\")\n",
    "print(f\"  Tax units with 1 child: {(num_children == 1).sum():,}\")\n",
    "print(f\"  Tax units with 2 children: {(num_children == 2).sum():,}\")\n",
    "print(f\"  Tax units with 3+ children: {(num_children >= 3).sum():,}\")"
   ]
  },
  {
   "cell_type": "code",
   "execution_count": 6,
   "metadata": {},
   "outputs": [
    {
     "name": "stdout",
     "output_type": "stream",
     "text": [
      "\n",
      "Children by age:\n",
      "  Total children under 18: 139,370.18707847144\n",
      "  Children under 4: 34,262.70863087539\n",
      "  Children under 6: 46,870.04093802362\n",
      "  Children ages 6-17: 1,968\n"
     ]
    }
   ],
   "source": [
    "# Check children by age groups\n",
    "age = sim.calculate(\"age\", period=2025)\n",
    "is_child = age < 18\n",
    "print(f\"\\nChildren by age:\")\n",
    "print(f\"  Total children under 18: {is_child.sum():,}\")\n",
    "print(f\"  Children under 4: {(age < 4).sum():,}\")\n",
    "print(f\"  Children under 6: {(age < 6).sum():,}\")\n",
    "print(f\"  Children ages 6-17: {((age >= 6) & (age < 18)).sum():,}\")"
   ]
  }
 ],
 "metadata": {
  "kernelspec": {
   "display_name": "pe",
   "language": "python",
   "name": "python3"
  },
  "language_info": {
   "codemirror_mode": {
    "name": "ipython",
    "version": 3
   },
   "file_extension": ".py",
   "mimetype": "text/x-python",
   "name": "python",
   "nbconvert_exporter": "python",
   "pygments_lexer": "ipython3",
   "version": "3.12.10"
  }
 },
 "nbformat": 4,
 "nbformat_minor": 4
}
