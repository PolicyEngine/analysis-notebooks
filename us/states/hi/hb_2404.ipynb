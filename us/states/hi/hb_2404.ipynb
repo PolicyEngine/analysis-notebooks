{
 "cells": [
  {
   "cell_type": "code",
   "execution_count": 1,
   "metadata": {},
   "outputs": [],
   "source": [
    "from policyengine_us import Microsimulation\n",
    "from policyengine_core.reforms import Reform\n",
    "import pandas as pd"
   ]
  },
  {
   "cell_type": "code",
   "execution_count": 2,
   "metadata": {},
   "outputs": [],
   "source": [
    "years = range(2024, 2032)\n",
    "results = []\n",
    "\n",
    "for year in years:\n",
    "    baseline = Microsimulation()\n",
    "    baseline_person = baseline.calculate(\"household_net_income\", period=year, map_to=\"household\")\n",
    "\n",
    "\n",
    "    reform = Reform.from_dict({\n",
    "      \"gov.states.hi.tax.income.deductions.standard.amount.HEAD_OF_HOUSEHOLD\": {\n",
    "        \"2024-01-01.2100-12-31\": 3212\n",
    "      },\n",
    "      \"gov.states.hi.tax.income.deductions.standard.amount.JOINT\": {\n",
    "        \"2024-01-01.2100-12-31\": 4400\n",
    "      },\n",
    "      \"gov.states.hi.tax.income.deductions.standard.amount.SEPARATE\": {\n",
    "        \"2024-01-01.2100-12-31\": 2200\n",
    "      },\n",
    "      \"gov.states.hi.tax.income.deductions.standard.amount.SINGLE\": {\n",
    "        \"2024-01-01.2100-12-31\": 2200\n",
    "      },\n",
    "      \"gov.states.hi.tax.income.deductions.standard.amount.SURVIVING_SPOUSE\": {\n",
    "        \"2024-01-01.2100-12-31\": 4400\n",
    "      },\n",
    "      \"gov.states.hi.tax.income.rates.head_of_household[10].threshold\": {\n",
    "        \"2025-01-01.2035-12-31\": 262500\n",
    "      },\n",
    "      \"gov.states.hi.tax.income.rates.head_of_household[11].threshold\": {\n",
    "        \"2025-01-01.2035-12-31\": 300000\n",
    "      },\n",
    "      \"gov.states.hi.tax.income.rates.head_of_household[1].threshold\": {\n",
    "        \"2025-01-01.2035-12-31\": 3600\n",
    "      },\n",
    "      \"gov.states.hi.tax.income.rates.head_of_household[2].threshold\": {\n",
    "        \"2025-01-01.2035-12-31\": 7200\n",
    "      },\n",
    "      \"gov.states.hi.tax.income.rates.head_of_household[3].threshold\": {\n",
    "        \"2025-01-01.2035-12-31\": 14400\n",
    "      },\n",
    "      \"gov.states.hi.tax.income.rates.head_of_household[4].threshold\": {\n",
    "        \"2025-01-01.2035-12-31\": 21000\n",
    "      },\n",
    "      \"gov.states.hi.tax.income.rates.head_of_household[5].threshold\": {\n",
    "        \"2025-01-01.2035-12-31\": 28800\n",
    "      },\n",
    "      \"gov.states.hi.tax.income.rates.head_of_household[6].threshold\": {\n",
    "        \"2025-01-01.2035-12-31\": 36000\n",
    "      },\n",
    "      \"gov.states.hi.tax.income.rates.head_of_household[7].threshold\": {\n",
    "        \"2025-01-01.2035-12-31\": 54000\n",
    "      },\n",
    "      \"gov.states.hi.tax.income.rates.head_of_household[8].threshold\": {\n",
    "        \"2025-01-01.2035-12-31\": 72000\n",
    "      },\n",
    "      \"gov.states.hi.tax.income.rates.head_of_household[9].threshold\": {\n",
    "        \"2025-01-01.2035-12-31\": 225000\n",
    "      },\n",
    "      \"gov.states.hi.tax.income.rates.joint[10].threshold\": {\n",
    "        \"2025-01-01.2035-12-31\": 350000\n",
    "      },\n",
    "      \"gov.states.hi.tax.income.rates.joint[11].threshold\": {\n",
    "        \"2025-01-01.2035-12-31\": 400000\n",
    "      },\n",
    "      \"gov.states.hi.tax.income.rates.joint[1].threshold\": {\n",
    "        \"2025-01-01.2035-12-31\": 4800\n",
    "      },\n",
    "      \"gov.states.hi.tax.income.rates.joint[2].threshold\": {\n",
    "        \"2025-01-01.2035-12-31\": 9600\n",
    "      },\n",
    "      \"gov.states.hi.tax.income.rates.joint[3].threshold\": {\n",
    "        \"2025-01-01.2035-12-31\": 19200\n",
    "      },\n",
    "      \"gov.states.hi.tax.income.rates.joint[4].threshold\": {\n",
    "        \"2025-01-01.2035-12-31\": 28800\n",
    "      },\n",
    "      \"gov.states.hi.tax.income.rates.joint[5].threshold\": {\n",
    "        \"2025-01-01.2035-12-31\": 38400\n",
    "      },\n",
    "      \"gov.states.hi.tax.income.rates.joint[6].threshold\": {\n",
    "        \"2025-01-01.2035-12-31\": 48000\n",
    "      },\n",
    "      \"gov.states.hi.tax.income.rates.joint[7].threshold\": {\n",
    "        \"2025-01-01.2035-12-31\": 72000\n",
    "      },\n",
    "      \"gov.states.hi.tax.income.rates.joint[8].threshold\": {\n",
    "        \"2025-01-01.2035-12-31\": 96000\n",
    "      },\n",
    "      \"gov.states.hi.tax.income.rates.joint[9].threshold\": {\n",
    "        \"2025-01-01.2035-12-31\": 300000\n",
    "      },\n",
    "      \"gov.states.hi.tax.income.rates.separate[10].threshold\": {\n",
    "        \"2025-01-01.2035-12-31\": 175000\n",
    "      },\n",
    "      \"gov.states.hi.tax.income.rates.separate[11].threshold\": {\n",
    "        \"2025-01-01.2035-12-31\": 200000\n",
    "      },\n",
    "      \"gov.states.hi.tax.income.rates.separate[1].threshold\": {\n",
    "        \"2025-01-01.2035-12-31\": 2400\n",
    "      },\n",
    "      \"gov.states.hi.tax.income.rates.separate[2].threshold\": {\n",
    "        \"2025-01-01.2035-12-31\": 4800\n",
    "      },\n",
    "      \"gov.states.hi.tax.income.rates.separate[3].threshold\": {\n",
    "        \"2025-01-01.2035-12-31\": 9600\n",
    "      },\n",
    "      \"gov.states.hi.tax.income.rates.separate[4].threshold\": {\n",
    "        \"2025-01-01.2035-12-31\": 14400\n",
    "      },\n",
    "      \"gov.states.hi.tax.income.rates.separate[5].threshold\": {\n",
    "        \"2025-01-01.2035-12-31\": 19200\n",
    "      },\n",
    "      \"gov.states.hi.tax.income.rates.separate[6].threshold\": {\n",
    "        \"2025-01-01.2035-12-31\": 36000\n",
    "      },\n",
    "      \"gov.states.hi.tax.income.rates.separate[7].threshold\": {\n",
    "        \"2025-01-01.2035-12-31\": 48000\n",
    "      },\n",
    "      \"gov.states.hi.tax.income.rates.separate[8].threshold\": {\n",
    "        \"2025-01-01.2035-12-31\": 48000\n",
    "      },\n",
    "      \"gov.states.hi.tax.income.rates.separate[9].threshold\": {\n",
    "        \"2025-01-01.2035-12-31\": 150000\n",
    "      },\n",
    "      \"gov.states.hi.tax.income.rates.single[10].threshold\": {\n",
    "        \"2025-01-01.2035-12-31\": 175000\n",
    "      },\n",
    "      \"gov.states.hi.tax.income.rates.single[11].threshold\": {\n",
    "        \"2025-01-01.2035-12-31\": 200000\n",
    "      },\n",
    "      \"gov.states.hi.tax.income.rates.single[1].threshold\": {\n",
    "        \"2025-01-01.2035-12-31\": 2400\n",
    "      },\n",
    "      \"gov.states.hi.tax.income.rates.single[2].threshold\": {\n",
    "        \"2025-01-01.2035-12-31\": 4800\n",
    "      },\n",
    "      \"gov.states.hi.tax.income.rates.single[3].threshold\": {\n",
    "        \"2025-01-01.2035-12-31\": 9600\n",
    "      },\n",
    "      \"gov.states.hi.tax.income.rates.single[4].threshold\": {\n",
    "        \"2025-01-01.2035-12-31\": 14400\n",
    "      },\n",
    "      \"gov.states.hi.tax.income.rates.single[5].threshold\": {\n",
    "        \"2025-01-01.2035-12-31\": 19200\n",
    "      },\n",
    "      \"gov.states.hi.tax.income.rates.single[6].threshold\": {\n",
    "        \"2025-01-01.2035-12-31\": 36000\n",
    "      },\n",
    "      \"gov.states.hi.tax.income.rates.single[7].threshold\": {\n",
    "        \"2025-01-01.2035-12-31\": 48000\n",
    "      },\n",
    "      \"gov.states.hi.tax.income.rates.single[8].threshold\": {\n",
    "        \"2025-01-01.2035-12-31\": 48000\n",
    "      },\n",
    "      \"gov.states.hi.tax.income.rates.single[9].threshold\": {\n",
    "        \"2025-01-01.2035-12-31\": 150000\n",
    "      },\n",
    "      \"gov.states.hi.tax.income.rates.surviving_spouse[10].threshold\": {\n",
    "        \"2025-01-01.2035-12-31\": 350000\n",
    "      },\n",
    "      \"gov.states.hi.tax.income.rates.surviving_spouse[11].threshold\": {\n",
    "        \"2025-01-01.2035-12-31\": 400000\n",
    "      },\n",
    "      \"gov.states.hi.tax.income.rates.surviving_spouse[1].threshold\": {\n",
    "        \"2025-01-01.2035-12-31\": 4800\n",
    "      },\n",
    "      \"gov.states.hi.tax.income.rates.surviving_spouse[2].threshold\": {\n",
    "        \"2025-01-01.2035-12-31\": 9600\n",
    "      },\n",
    "      \"gov.states.hi.tax.income.rates.surviving_spouse[3].threshold\": {\n",
    "        \"2025-01-01.2035-12-31\": 19200\n",
    "      },\n",
    "      \"gov.states.hi.tax.income.rates.surviving_spouse[4].threshold\": {\n",
    "        \"2025-01-01.2035-12-31\": 28800\n",
    "      },\n",
    "      \"gov.states.hi.tax.income.rates.surviving_spouse[5].threshold\": {\n",
    "        \"2025-01-01.2035-12-31\": 38400\n",
    "      },\n",
    "      \"gov.states.hi.tax.income.rates.surviving_spouse[6].threshold\": {\n",
    "        \"2025-01-01.2035-12-31\": 48000\n",
    "      },\n",
    "      \"gov.states.hi.tax.income.rates.surviving_spouse[7].threshold\": {\n",
    "        \"2025-01-01.2035-12-31\": 72000\n",
    "      },\n",
    "      \"gov.states.hi.tax.income.rates.surviving_spouse[8].threshold\": {\n",
    "        \"2025-01-01.2035-12-31\": 96000\n",
    "      },\n",
    "      \"gov.states.hi.tax.income.rates.surviving_spouse[9].threshold\": {\n",
    "        \"2025-01-01.2035-12-31\": 300000\n",
    "      }\n",
    "    }, country_id=\"us\")\n",
    "\n",
    "\n",
    "    reformed = Microsimulation(reform=reform)\n",
    "    reformed_person = reformed.calculate(\"household_net_income\", period=year, map_to=\"household\")\n",
    "\n",
    "    difference_person = (reformed_person - baseline_person).sum()\n",
    "    results.append({\"year\": year, \"difference\": difference_person})\n",
    "\n",
    "df = pd.DataFrame(results)"
   ]
  },
  {
   "cell_type": "code",
   "execution_count": 4,
   "metadata": {},
   "outputs": [
    {
     "data": {
      "application/vnd.plotly.v1+json": {
       "config": {
        "plotlyServerURL": "https://plot.ly"
       },
       "data": [
        {
         "alignmentgroup": "True",
         "hovertemplate": "Year=%{x}<br>Cost ($bn)=%{y}<br>difference_billion=%{text}<extra></extra>",
         "legendgroup": "",
         "marker": {
          "color": "#636efa",
          "pattern": {
           "shape": ""
          }
         },
         "name": "",
         "offsetgroup": "",
         "orientation": "v",
         "showlegend": false,
         "text": [
          0.042155533556796014,
          0.7924379217159838,
          0.83104975782816,
          1.1162488623954394,
          1.183021576074198,
          1.4934224847236806,
          1.569673932213146,
          1.6882683398738685
         ],
         "textposition": "outside",
         "texttemplate": "$%{text:.1f}B",
         "type": "bar",
         "x": [
          2024,
          2025,
          2026,
          2027,
          2028,
          2029,
          2030,
          2031
         ],
         "xaxis": "x",
         "y": [
          42155533.556796014,
          792437921.7159839,
          831049757.82816,
          1116248862.3954394,
          1183021576.074198,
          1493422484.7236805,
          1569673932.2131462,
          1688268339.8738685
         ],
         "yaxis": "y"
        }
       ],
       "layout": {
        "barmode": "relative",
        "font": {
         "color": "black",
         "family": "Roboto Serif"
        },
        "height": 600,
        "images": [
         {
          "sizex": 0.15,
          "sizey": 0.15,
          "source": "https://raw.githubusercontent.com/PolicyEngine/policyengine-app/master/src/images/logos/policyengine/blue.png",
          "x": 1.1,
          "xanchor": "right",
          "xref": "paper",
          "y": -0.15,
          "yanchor": "bottom",
          "yref": "paper"
         }
        ],
        "legend": {
         "tracegroupgap": 0
        },
        "modebar": {
         "bgcolor": "rgba(0,0,0,0)",
         "color": "rgba(0,0,0,0)"
        },
        "template": {
         "data": {
          "bar": [
           {
            "error_x": {
             "color": "#2a3f5f"
            },
            "error_y": {
             "color": "#2a3f5f"
            },
            "marker": {
             "line": {
              "color": "white",
              "width": 0.5
             },
             "pattern": {
              "fillmode": "overlay",
              "size": 10,
              "solidity": 0.2
             }
            },
            "type": "bar"
           }
          ],
          "barpolar": [
           {
            "marker": {
             "line": {
              "color": "white",
              "width": 0.5
             },
             "pattern": {
              "fillmode": "overlay",
              "size": 10,
              "solidity": 0.2
             }
            },
            "type": "barpolar"
           }
          ],
          "carpet": [
           {
            "aaxis": {
             "endlinecolor": "#2a3f5f",
             "gridcolor": "#C8D4E3",
             "linecolor": "#C8D4E3",
             "minorgridcolor": "#C8D4E3",
             "startlinecolor": "#2a3f5f"
            },
            "baxis": {
             "endlinecolor": "#2a3f5f",
             "gridcolor": "#C8D4E3",
             "linecolor": "#C8D4E3",
             "minorgridcolor": "#C8D4E3",
             "startlinecolor": "#2a3f5f"
            },
            "type": "carpet"
           }
          ],
          "choropleth": [
           {
            "colorbar": {
             "outlinewidth": 0,
             "ticks": ""
            },
            "type": "choropleth"
           }
          ],
          "contour": [
           {
            "colorbar": {
             "outlinewidth": 0,
             "ticks": ""
            },
            "colorscale": [
             [
              0,
              "#0d0887"
             ],
             [
              0.1111111111111111,
              "#46039f"
             ],
             [
              0.2222222222222222,
              "#7201a8"
             ],
             [
              0.3333333333333333,
              "#9c179e"
             ],
             [
              0.4444444444444444,
              "#bd3786"
             ],
             [
              0.5555555555555556,
              "#d8576b"
             ],
             [
              0.6666666666666666,
              "#ed7953"
             ],
             [
              0.7777777777777778,
              "#fb9f3a"
             ],
             [
              0.8888888888888888,
              "#fdca26"
             ],
             [
              1,
              "#f0f921"
             ]
            ],
            "type": "contour"
           }
          ],
          "contourcarpet": [
           {
            "colorbar": {
             "outlinewidth": 0,
             "ticks": ""
            },
            "type": "contourcarpet"
           }
          ],
          "heatmap": [
           {
            "colorbar": {
             "outlinewidth": 0,
             "ticks": ""
            },
            "colorscale": [
             [
              0,
              "#0d0887"
             ],
             [
              0.1111111111111111,
              "#46039f"
             ],
             [
              0.2222222222222222,
              "#7201a8"
             ],
             [
              0.3333333333333333,
              "#9c179e"
             ],
             [
              0.4444444444444444,
              "#bd3786"
             ],
             [
              0.5555555555555556,
              "#d8576b"
             ],
             [
              0.6666666666666666,
              "#ed7953"
             ],
             [
              0.7777777777777778,
              "#fb9f3a"
             ],
             [
              0.8888888888888888,
              "#fdca26"
             ],
             [
              1,
              "#f0f921"
             ]
            ],
            "type": "heatmap"
           }
          ],
          "heatmapgl": [
           {
            "colorbar": {
             "outlinewidth": 0,
             "ticks": ""
            },
            "colorscale": [
             [
              0,
              "#0d0887"
             ],
             [
              0.1111111111111111,
              "#46039f"
             ],
             [
              0.2222222222222222,
              "#7201a8"
             ],
             [
              0.3333333333333333,
              "#9c179e"
             ],
             [
              0.4444444444444444,
              "#bd3786"
             ],
             [
              0.5555555555555556,
              "#d8576b"
             ],
             [
              0.6666666666666666,
              "#ed7953"
             ],
             [
              0.7777777777777778,
              "#fb9f3a"
             ],
             [
              0.8888888888888888,
              "#fdca26"
             ],
             [
              1,
              "#f0f921"
             ]
            ],
            "type": "heatmapgl"
           }
          ],
          "histogram": [
           {
            "marker": {
             "pattern": {
              "fillmode": "overlay",
              "size": 10,
              "solidity": 0.2
             }
            },
            "type": "histogram"
           }
          ],
          "histogram2d": [
           {
            "colorbar": {
             "outlinewidth": 0,
             "ticks": ""
            },
            "colorscale": [
             [
              0,
              "#0d0887"
             ],
             [
              0.1111111111111111,
              "#46039f"
             ],
             [
              0.2222222222222222,
              "#7201a8"
             ],
             [
              0.3333333333333333,
              "#9c179e"
             ],
             [
              0.4444444444444444,
              "#bd3786"
             ],
             [
              0.5555555555555556,
              "#d8576b"
             ],
             [
              0.6666666666666666,
              "#ed7953"
             ],
             [
              0.7777777777777778,
              "#fb9f3a"
             ],
             [
              0.8888888888888888,
              "#fdca26"
             ],
             [
              1,
              "#f0f921"
             ]
            ],
            "type": "histogram2d"
           }
          ],
          "histogram2dcontour": [
           {
            "colorbar": {
             "outlinewidth": 0,
             "ticks": ""
            },
            "colorscale": [
             [
              0,
              "#0d0887"
             ],
             [
              0.1111111111111111,
              "#46039f"
             ],
             [
              0.2222222222222222,
              "#7201a8"
             ],
             [
              0.3333333333333333,
              "#9c179e"
             ],
             [
              0.4444444444444444,
              "#bd3786"
             ],
             [
              0.5555555555555556,
              "#d8576b"
             ],
             [
              0.6666666666666666,
              "#ed7953"
             ],
             [
              0.7777777777777778,
              "#fb9f3a"
             ],
             [
              0.8888888888888888,
              "#fdca26"
             ],
             [
              1,
              "#f0f921"
             ]
            ],
            "type": "histogram2dcontour"
           }
          ],
          "mesh3d": [
           {
            "colorbar": {
             "outlinewidth": 0,
             "ticks": ""
            },
            "type": "mesh3d"
           }
          ],
          "parcoords": [
           {
            "line": {
             "colorbar": {
              "outlinewidth": 0,
              "ticks": ""
             }
            },
            "type": "parcoords"
           }
          ],
          "pie": [
           {
            "automargin": true,
            "type": "pie"
           }
          ],
          "scatter": [
           {
            "fillpattern": {
             "fillmode": "overlay",
             "size": 10,
             "solidity": 0.2
            },
            "type": "scatter"
           }
          ],
          "scatter3d": [
           {
            "line": {
             "colorbar": {
              "outlinewidth": 0,
              "ticks": ""
             }
            },
            "marker": {
             "colorbar": {
              "outlinewidth": 0,
              "ticks": ""
             }
            },
            "type": "scatter3d"
           }
          ],
          "scattercarpet": [
           {
            "marker": {
             "colorbar": {
              "outlinewidth": 0,
              "ticks": ""
             }
            },
            "type": "scattercarpet"
           }
          ],
          "scattergeo": [
           {
            "marker": {
             "colorbar": {
              "outlinewidth": 0,
              "ticks": ""
             }
            },
            "type": "scattergeo"
           }
          ],
          "scattergl": [
           {
            "marker": {
             "colorbar": {
              "outlinewidth": 0,
              "ticks": ""
             }
            },
            "type": "scattergl"
           }
          ],
          "scattermapbox": [
           {
            "marker": {
             "colorbar": {
              "outlinewidth": 0,
              "ticks": ""
             }
            },
            "type": "scattermapbox"
           }
          ],
          "scatterpolar": [
           {
            "marker": {
             "colorbar": {
              "outlinewidth": 0,
              "ticks": ""
             }
            },
            "type": "scatterpolar"
           }
          ],
          "scatterpolargl": [
           {
            "marker": {
             "colorbar": {
              "outlinewidth": 0,
              "ticks": ""
             }
            },
            "type": "scatterpolargl"
           }
          ],
          "scatterternary": [
           {
            "marker": {
             "colorbar": {
              "outlinewidth": 0,
              "ticks": ""
             }
            },
            "type": "scatterternary"
           }
          ],
          "surface": [
           {
            "colorbar": {
             "outlinewidth": 0,
             "ticks": ""
            },
            "colorscale": [
             [
              0,
              "#0d0887"
             ],
             [
              0.1111111111111111,
              "#46039f"
             ],
             [
              0.2222222222222222,
              "#7201a8"
             ],
             [
              0.3333333333333333,
              "#9c179e"
             ],
             [
              0.4444444444444444,
              "#bd3786"
             ],
             [
              0.5555555555555556,
              "#d8576b"
             ],
             [
              0.6666666666666666,
              "#ed7953"
             ],
             [
              0.7777777777777778,
              "#fb9f3a"
             ],
             [
              0.8888888888888888,
              "#fdca26"
             ],
             [
              1,
              "#f0f921"
             ]
            ],
            "type": "surface"
           }
          ],
          "table": [
           {
            "cells": {
             "fill": {
              "color": "#EBF0F8"
             },
             "line": {
              "color": "white"
             }
            },
            "header": {
             "fill": {
              "color": "#C8D4E3"
             },
             "line": {
              "color": "white"
             }
            },
            "type": "table"
           }
          ]
         },
         "layout": {
          "annotationdefaults": {
           "arrowcolor": "#2a3f5f",
           "arrowhead": 0,
           "arrowwidth": 1
          },
          "autotypenumbers": "strict",
          "coloraxis": {
           "colorbar": {
            "outlinewidth": 0,
            "ticks": ""
           }
          },
          "colorscale": {
           "diverging": [
            [
             0,
             "#8e0152"
            ],
            [
             0.1,
             "#c51b7d"
            ],
            [
             0.2,
             "#de77ae"
            ],
            [
             0.3,
             "#f1b6da"
            ],
            [
             0.4,
             "#fde0ef"
            ],
            [
             0.5,
             "#f7f7f7"
            ],
            [
             0.6,
             "#e6f5d0"
            ],
            [
             0.7,
             "#b8e186"
            ],
            [
             0.8,
             "#7fbc41"
            ],
            [
             0.9,
             "#4d9221"
            ],
            [
             1,
             "#276419"
            ]
           ],
           "sequential": [
            [
             0,
             "#0d0887"
            ],
            [
             0.1111111111111111,
             "#46039f"
            ],
            [
             0.2222222222222222,
             "#7201a8"
            ],
            [
             0.3333333333333333,
             "#9c179e"
            ],
            [
             0.4444444444444444,
             "#bd3786"
            ],
            [
             0.5555555555555556,
             "#d8576b"
            ],
            [
             0.6666666666666666,
             "#ed7953"
            ],
            [
             0.7777777777777778,
             "#fb9f3a"
            ],
            [
             0.8888888888888888,
             "#fdca26"
            ],
            [
             1,
             "#f0f921"
            ]
           ],
           "sequentialminus": [
            [
             0,
             "#0d0887"
            ],
            [
             0.1111111111111111,
             "#46039f"
            ],
            [
             0.2222222222222222,
             "#7201a8"
            ],
            [
             0.3333333333333333,
             "#9c179e"
            ],
            [
             0.4444444444444444,
             "#bd3786"
            ],
            [
             0.5555555555555556,
             "#d8576b"
            ],
            [
             0.6666666666666666,
             "#ed7953"
            ],
            [
             0.7777777777777778,
             "#fb9f3a"
            ],
            [
             0.8888888888888888,
             "#fdca26"
            ],
            [
             1,
             "#f0f921"
            ]
           ]
          },
          "colorway": [
           "#636efa",
           "#EF553B",
           "#00cc96",
           "#ab63fa",
           "#FFA15A",
           "#19d3f3",
           "#FF6692",
           "#B6E880",
           "#FF97FF",
           "#FECB52"
          ],
          "font": {
           "color": "#2a3f5f"
          },
          "geo": {
           "bgcolor": "white",
           "lakecolor": "white",
           "landcolor": "white",
           "showlakes": true,
           "showland": true,
           "subunitcolor": "#C8D4E3"
          },
          "hoverlabel": {
           "align": "left"
          },
          "hovermode": "closest",
          "mapbox": {
           "style": "light"
          },
          "paper_bgcolor": "white",
          "plot_bgcolor": "white",
          "polar": {
           "angularaxis": {
            "gridcolor": "#EBF0F8",
            "linecolor": "#EBF0F8",
            "ticks": ""
           },
           "bgcolor": "white",
           "radialaxis": {
            "gridcolor": "#EBF0F8",
            "linecolor": "#EBF0F8",
            "ticks": ""
           }
          },
          "scene": {
           "xaxis": {
            "backgroundcolor": "white",
            "gridcolor": "#DFE8F3",
            "gridwidth": 2,
            "linecolor": "#EBF0F8",
            "showbackground": true,
            "ticks": "",
            "zerolinecolor": "#EBF0F8"
           },
           "yaxis": {
            "backgroundcolor": "white",
            "gridcolor": "#DFE8F3",
            "gridwidth": 2,
            "linecolor": "#EBF0F8",
            "showbackground": true,
            "ticks": "",
            "zerolinecolor": "#EBF0F8"
           },
           "zaxis": {
            "backgroundcolor": "white",
            "gridcolor": "#DFE8F3",
            "gridwidth": 2,
            "linecolor": "#EBF0F8",
            "showbackground": true,
            "ticks": "",
            "zerolinecolor": "#EBF0F8"
           }
          },
          "shapedefaults": {
           "line": {
            "color": "#2a3f5f"
           }
          },
          "ternary": {
           "aaxis": {
            "gridcolor": "#DFE8F3",
            "linecolor": "#A2B1C6",
            "ticks": ""
           },
           "baxis": {
            "gridcolor": "#DFE8F3",
            "linecolor": "#A2B1C6",
            "ticks": ""
           },
           "bgcolor": "white",
           "caxis": {
            "gridcolor": "#DFE8F3",
            "linecolor": "#A2B1C6",
            "ticks": ""
           }
          },
          "title": {
           "x": 0.05
          },
          "xaxis": {
           "automargin": true,
           "gridcolor": "#EBF0F8",
           "linecolor": "#EBF0F8",
           "ticks": "",
           "title": {
            "standoff": 15
           },
           "zerolinecolor": "#EBF0F8",
           "zerolinewidth": 2
          },
          "yaxis": {
           "automargin": true,
           "gridcolor": "#EBF0F8",
           "linecolor": "#EBF0F8",
           "ticks": "",
           "title": {
            "standoff": 15
           },
           "zerolinecolor": "#EBF0F8",
           "zerolinewidth": 2
          }
         }
        },
        "title": {
         "text": "Hawaii Bill HB2404 costs over time"
        },
        "width": 800,
        "xaxis": {
         "anchor": "y",
         "domain": [
          0,
          1
         ],
         "dtick": 1,
         "tick0": 2024,
         "tickmode": "linear",
         "title": {
          "text": "Year"
         }
        },
        "yaxis": {
         "anchor": "x",
         "domain": [
          0,
          1
         ],
         "title": {
          "text": "Cost ($bn)"
         }
        }
       }
      }
     },
     "metadata": {},
     "output_type": "display_data"
    }
   ],
   "source": [
    "import plotly.express as px\n",
    "from policyengine_core.charts import *\n",
    "\n",
    "# Invert the 'difference' values and calculate billions\n",
    "df['difference_inverted'] = df['difference'] * -1\n",
    "df['difference_billion'] = df['difference_inverted'] / 1e9\n",
    "\n",
    "fig = px.bar(df, x='year', y='difference_inverted', \n",
    "             title='Hawaii Bill HB2404 costs over time', \n",
    "             labels={'difference_inverted': 'Cost ($bn)', 'year': 'Year'}, \n",
    "             text='difference_billion')\n",
    "\n",
    "fig.update_xaxes(tickmode='linear', tick0=2024, dtick=1)\n",
    "fig.update_traces(texttemplate='$%{text:.1f}B', textposition='outside')\n",
    "fig = format_fig(fig)\n",
    "fig.show()"
   ]
  },
  {
   "cell_type": "code",
   "execution_count": null,
   "metadata": {},
   "outputs": [],
   "source": []
  }
 ],
 "metadata": {
  "kernelspec": {
   "display_name": "policyengine",
   "language": "python",
   "name": "python3"
  },
  "language_info": {
   "codemirror_mode": {
    "name": "ipython",
    "version": 3
   },
   "file_extension": ".py",
   "mimetype": "text/x-python",
   "name": "python",
   "nbconvert_exporter": "python",
   "pygments_lexer": "ipython3",
   "version": "3.9.16"
  }
 },
 "nbformat": 4,
 "nbformat_minor": 2
}
