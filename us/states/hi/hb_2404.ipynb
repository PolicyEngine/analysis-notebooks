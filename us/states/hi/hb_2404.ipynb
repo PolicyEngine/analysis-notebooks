{
 "cells": [
  {
   "cell_type": "code",
   "execution_count": 4,
   "metadata": {},
   "outputs": [],
   "source": [
    "from policyengine_us import Microsimulation\n",
    "from policyengine_core.reforms import Reform\n",
    "import pandas as pd"
   ]
  },
  {
   "cell_type": "code",
   "execution_count": 5,
   "metadata": {},
   "outputs": [],
   "source": [
    "years = range(2024, 2032)\n",
    "results = []\n",
    "\n",
    "for year in years:\n",
    "    baseline = Microsimulation()\n",
    "    baseline_person = baseline.calculate(\"household_net_income\", period=year, map_to=\"household\")\n",
    "\n",
    "    reform = Reform.from_dict({\n",
    "      \"gov.contrib.states.ny.wftc.amount.max\": {\n",
    "        \"2024-01-01.2024-12-31\": 550,\n",
    "        \"2025-01-01.2025-12-31\": 800,\n",
    "        \"2026-01-01.2026-12-31\": 1000,\n",
    "        \"2027-01-01.2027-12-31\": 1200,\n",
    "        \"2028-01-01.2035-12-31\": 1600\n",
    "      },\n",
    "      \"gov.contrib.states.ny.wftc.amount.min\": {\n",
    "        \"2024-01-01.2024-12-31\": 0,\n",
    "        \"2025-01-01.2100-12-31\": 100\n",
    "      },\n",
    "      \"gov.contrib.states.ny.wftc.child_age_threshold\": {\n",
    "        \"2024-01-01.2026-12-31\": 17,\n",
    "        \"2027-01-01.2028-12-31\": 18\n",
    "      },\n",
    "      \"gov.contrib.states.ny.wftc.eitc.match\": {\n",
    "        \"2024-01-01.2024-12-31\": 0.25,\n",
    "        \"2025-01-01.2025-12-31\": 0.2,\n",
    "        \"2026-01-01.2026-12-31\": 0.15,\n",
    "        \"2027-01-01.2027-12-31\": 0.1,\n",
    "        \"2028-01-01.2028-12-31\": 0\n",
    "      },\n",
    "      \"gov.contrib.states.ny.wftc.in_effect\": {\n",
    "        \"2024-01-01.2100-12-31\": True\n",
    "      },\n",
    "      \"gov.contrib.states.ny.wftc.reduction.married[1].threshold\": {\n",
    "        \"2024-01-01.2026-12-31\": 110000,\n",
    "        \"2027-01-01.2027-12-31\": 90000,\n",
    "        \"2028-01-01.2028-12-31\": 50000,\n",
    "      },\n",
    "      \"gov.contrib.states.ny.wftc.reduction.single[1].threshold\": {\n",
    "        \"2024-01-01.2024-12-31\": 75000,\n",
    "        \"2025-01-01.2025-12-31\": 65000,\n",
    "        \"2026-01-01.2026-12-31\": 55000,\n",
    "        \"2027-01-01.2027-12-31\": 45000,\n",
    "        \"2028-01-01.2028-12-31\": 25000,\n",
    "      },\n",
    "       \"gov.contrib.states.ny.wftc.exemptions.child_age_threshold\":{\n",
    "        \"2024-01-01.2024-12-31\": 0,\n",
    "        \"2025-01-01.2026-12-31\": 17,\n",
    "           \n",
    "       }\n",
    "          \n",
    "    }, country_id=\"us\")\n",
    "    reformed = Microsimulation(reform=reform)\n",
    "    reformed_person = reformed.calculate(\"household_net_income\", period=year, map_to=\"household\")\n",
    "\n",
    "    difference_person = (reformed_person - baseline_person).sum()\n",
    "    results.append({\"year\": year, \"difference\": difference_person})\n",
    "\n",
    "df = pd.DataFrame(results)"
   ]
  },
  {
   "cell_type": "code",
   "execution_count": null,
   "metadata": {},
   "outputs": [],
   "source": [
    "import plotly.express as px\n",
    "from policyengine_core.charts import *\n",
    "\n",
    "# Invert the 'difference' values and calculate billions\n",
    "df['difference_inverted'] = df['difference'] * -1\n",
    "df['difference_billion'] = df['difference_inverted'] / 1e9\n",
    "\n",
    "fig = px.bar(df, x='year', y='difference_inverted', \n",
    "             title='Hawaii Bill HB2404 costs over time', \n",
    "             labels={'difference_inverted': 'Cost ($bn)', 'year': 'Year'}, \n",
    "             text='difference_billion')\n",
    "\n",
    "fig.update_xaxes(tickmode='linear', tick0=2024, dtick=1)\n",
    "fig.update_traces(texttemplate='$%{text:.1f}B', textposition='outside')\n",
    "fig = format_fig(fig)\n",
    "fig.show()\n",
    "\n"
   ]
  },
  {
   "cell_type": "code",
   "execution_count": null,
   "metadata": {},
   "outputs": [],
   "source": []
  }
 ],
 "metadata": {
  "kernelspec": {
   "display_name": "policyengine",
   "language": "python",
   "name": "python3"
  },
  "language_info": {
   "name": "python",
   "version": "3.9.16"
  }
 },
 "nbformat": 4,
 "nbformat_minor": 2
}
