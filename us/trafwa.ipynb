{
 "cells": [
  {
   "cell_type": "code",
   "execution_count": 2,
   "metadata": {},
   "outputs": [],
   "source": [
    "from policyengine_us import Microsimulation\n",
    "from policyengine_core.reforms import Reform\n",
    "import pandas as pd\n",
    "import plotly.express as px\n"
   ]
  },
  {
   "cell_type": "code",
   "execution_count": 3,
   "metadata": {},
   "outputs": [],
   "source": [
    "baseline = Microsimulation()\n",
    "\n"
   ]
  },
  {
   "cell_type": "code",
   "execution_count": 7,
   "metadata": {},
   "outputs": [],
   "source": [
    "reform = Reform.from_dict({\n",
    "  \"gov.contrib.congress.wyden_smith.actc_lookback\": {\n",
    "    \"2024-01-01.2025-12-31\": True\n",
    "  },\n",
    "  \"gov.contrib.congress.wyden_smith.per_child_actc_phase_in\": {\n",
    "    \"2023-01-01.2025-12-31\": True\n",
    "  },\n",
    "  \"gov.irs.credits.ctc.amount.base[0].amount\": {\n",
    "    \"2024-01-01.2025-12-31\": 2100\n",
    "  },\n",
    "  \"gov.irs.credits.ctc.refundable.individual_max\": {\n",
    "    \"2023-01-01.2023-12-31\": 1800,\n",
    "    \"2024-01-01.2024-12-31\": 1900,\n",
    "    \"2025-01-01.2025-12-31\": 2100\n",
    "  }\n",
    "}, country_id=\"us\")\n",
    "reformed = Microsimulation(reform=reform)\n"
   ]
  },
  {
   "cell_type": "code",
   "execution_count": 39,
   "metadata": {},
   "outputs": [],
   "source": [
    "# Initialize an empty DataFrame to store all results\n",
    "all_results = pd.DataFrame()"
   ]
  },
  {
   "cell_type": "code",
   "execution_count": 40,
   "metadata": {},
   "outputs": [
    {
     "name": "stdout",
     "output_type": "stream",
     "text": [
      "     Year State  Mean_Difference  Weighted_Difference   Total_Weight\n",
      "0    2023    AK       963.892457         1.145752e+07   11886.719986\n",
      "1    2024    AK      1071.446652         1.233967e+07   11516.829971\n",
      "2    2025    AK      1209.229954         1.355280e+07   11207.789963\n",
      "3    2023    AL       494.327029         6.973749e+07  141075.609558\n",
      "4    2024    AL       607.928490         7.953142e+07  130823.649780\n",
      "..    ...   ...              ...                  ...            ...\n",
      "148  2024    WV       476.600689         2.296101e+07   48176.619934\n",
      "149  2025    WV       549.055855         2.447819e+07   44582.329987\n",
      "150  2023    WY       323.264818         3.918054e+06   12120.260025\n",
      "151  2024    WY       401.925466         4.400654e+06   10948.930023\n",
      "152  2025    WY       459.486492         5.030885e+06   10948.930023\n",
      "\n",
      "[153 rows x 5 columns]\n"
     ]
    }
   ],
   "source": [
    "# Calculate for each year\n",
    "for year in range(2023, 2026):\n",
    "    baseline_household = baseline.calculate(\"household_net_income\", period=year, map_to=\"household\")\n",
    "    reformed_household = reformed.calculate(\"household_net_income\", period=year, map_to=\"household\")\n",
    "    \n",
    "    # Calculate the ctc_qualifying_children at the household level\n",
    "    ctc_qualifying_children = baseline.calculate(\"ctc_qualifying_children\", period=year, map_to=\"household\")\n",
    "    \n",
    "    # Get state codes at the household level\n",
    "    state_codes = baseline.calculate(\"state_code\", period=year, map_to=\"household\")\n",
    "    \n",
    "    # Calculate the baseline weight at the household level\n",
    "    baseline_weight = baseline_household.weights\n",
    "    \n",
    "    # Calculate adjusted gross income\n",
    "    agi = baseline.calculate(\"adjusted_gross_income\", period=year, map_to=\"household\")\n",
    "    \n",
    "    # Calculate the difference for all households\n",
    "    difference = reformed_household - baseline_household\n",
    "    \n",
    "    # Create a DataFrame with all the results\n",
    "    df_year = pd.DataFrame({\n",
    "        'Year': year,\n",
    "        'State': state_codes,\n",
    "        'Difference': difference,\n",
    "        'CTC_Qualifying_Children': ctc_qualifying_children,\n",
    "        'Weight': baseline_weight,\n",
    "        'AGI': agi\n",
    "    })\n",
    "    \n",
    "    # Create a new column for weighted difference\n",
    "    df_year['Weighted_Difference'] = df_year['Difference'] * df_year['Weight'] \n",
    "    \n",
    "    # Filter the DataFrame to households where ctc_qualifying_children >= 1 and AGI between 2,500 and 50,000\n",
    "    df_filtered = df_year[(df_year['CTC_Qualifying_Children'] >= 1) & \n",
    "                          (df_year['AGI'] >= 2500) & \n",
    "                          (df_year['AGI'] <= 50000)]\n",
    "    \n",
    "    # Group by State and sum the Weighted_Difference and Weight\n",
    "    df_grouped = df_filtered.groupby('State')[['Weighted_Difference', 'Weight']].sum()\n",
    "    \n",
    "    # Calculate the total Difference separately\n",
    "    total_difference = df_filtered.groupby('State')['Difference'].sum()\n",
    "    \n",
    "    # Add the total Difference to df_grouped\n",
    "    df_grouped['Total_Difference'] = total_difference\n",
    "    \n",
    "    # Calculate the weighted average difference\n",
    "    df_grouped['Mean_Difference'] = df_grouped['Weighted_Difference'] / df_grouped['Weight']\n",
    "    \n",
    "    # Reset the index to make State a column again\n",
    "    df_grouped = df_grouped.reset_index()\n",
    "    \n",
    "    # Add the Year column\n",
    "    df_grouped['Year'] = year\n",
    "    \n",
    "    # Select and rename columns\n",
    "    df_grouped = df_grouped[['Year', 'State', 'Mean_Difference', 'Weighted_Difference', 'Weight']]\n",
    "    df_grouped = df_grouped.rename(columns={'Weight': 'Total_Weight'})\n",
    "    \n",
    "    # Append to the all_results DataFrame\n",
    "    all_results = pd.concat([all_results, df_grouped], ignore_index=True)\n",
    "\n",
    "# Sort the DataFrame by State and Year\n",
    "all_results = all_results.sort_values(['State', 'Year'])\n",
    "\n",
    "# Reset the index\n",
    "all_results = all_results.reset_index(drop=True)\n",
    "\n",
    "# Remove any remaining rows with NaN values\n",
    "all_results = all_results.dropna()\n",
    "\n",
    "# Display the results\n",
    "print(all_results)"
   ]
  },
  {
   "cell_type": "code",
   "execution_count": 43,
   "metadata": {},
   "outputs": [
    {
     "name": "stdout",
     "output_type": "stream",
     "text": [
      "     Year State  Mean_Difference  Weighted_Difference   Total_Weight\n",
      "0    2023    AK       963.892457         1.145752e+07   11886.719986\n",
      "1    2024    AK      1071.446652         1.233967e+07   11516.829971\n",
      "2    2025    AK      1209.229954         1.355280e+07   11207.789963\n",
      "3    2023    AL       494.327029         6.973749e+07  141075.609558\n",
      "4    2024    AL       607.928490         7.953142e+07  130823.649780\n",
      "..    ...   ...              ...                  ...            ...\n",
      "148  2024    WV       476.600689         2.296101e+07   48176.619934\n",
      "149  2025    WV       549.055855         2.447819e+07   44582.329987\n",
      "150  2023    WY       323.264818         3.918054e+06   12120.260025\n",
      "151  2024    WY       401.925466         4.400654e+06   10948.930023\n",
      "152  2025    WY       459.486492         5.030885e+06   10948.930023\n",
      "\n",
      "[153 rows x 5 columns]\n",
      "Results have been exported to 'all_results.csv'\n"
     ]
    }
   ],
   "source": [
    "# Remove any remaining rows with NaN values\n",
    "all_results = all_results.dropna()\n",
    "\n",
    "# Display the results\n",
    "print(all_results)\n",
    "\n",
    "# Export the results to a CSV file\n",
    "csv_filename = 'all_results.csv'\n",
    "all_results.to_csv(csv_filename, index=False)\n",
    "\n",
    "print(f\"Results have been exported to '{csv_filename}'\")"
   ]
  }
 ],
 "metadata": {
  "kernelspec": {
   "display_name": "policyengine",
   "language": "python",
   "name": "python3"
  },
  "language_info": {
   "codemirror_mode": {
    "name": "ipython",
    "version": 3
   },
   "file_extension": ".py",
   "mimetype": "text/x-python",
   "name": "python",
   "nbconvert_exporter": "python",
   "pygments_lexer": "ipython3",
   "version": "3.9.16"
  }
 },
 "nbformat": 4,
 "nbformat_minor": 2
}
