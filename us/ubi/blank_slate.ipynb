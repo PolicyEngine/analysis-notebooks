{
 "cells": [
  {
   "cell_type": "code",
   "execution_count": 2,
   "metadata": {},
   "outputs": [],
   "source": [
    "from policyengine_us import Microsimulation\n",
    "from policyengine_core.reforms import Reform"
   ]
  },
  {
   "cell_type": "code",
   "execution_count": 3,
   "metadata": {},
   "outputs": [],
   "source": [
    "\n",
    "\n",
    "baseline = Microsimulation(dataset=\"enhanced_cps_2022\")\n",
    "baseline_person = baseline.calculate(\"household_net_income\", period=2024, map_to=\"person\")\n"
   ]
  },
  {
   "cell_type": "code",
   "execution_count": 4,
   "metadata": {},
   "outputs": [],
   "source": [
    "reform = Reform.from_dict({\n",
    "  \"gov.contrib.ubi_center.basic_income.amount.person.by_age[0].amount\": {\n",
    "    \"2023-01-01.2032-12-31\": 2953.2230094144015\n",
    "  },\n",
    "  \"gov.contrib.ubi_center.basic_income.amount.person.by_age[1].amount\": {\n",
    "    \"2023-01-01.2032-12-31\": 1093.752251519003\n",
    "  },\n",
    "  \"gov.contrib.ubi_center.basic_income.amount.person.by_age[2].amount\": {\n",
    "    \"2023-01-01.2032-12-31\": 4436.840020196825\n",
    "  },\n",
    "  \"gov.contrib.ubi_center.basic_income.amount.person.by_age[3].amount\": {\n",
    "    \"2023-01-01.2032-12-31\": 4436.840020196825\n",
    "  },\n",
    "  \"gov.contrib.ubi_center.basic_income.amount.person.by_age[4].amount\": {\n",
    "    \"2023-01-01.2032-12-31\": 7160.678641934141\n",
    "  },\n",
    "  \"gov.contrib.ubi_center.basic_income.amount.person.disability\": {\n",
    "    \"2023-01-01.2032-12-31\": 1099.261082617364\n",
    "  },\n",
    "  \"gov.contrib.ubi_center.flat_tax.abolish_federal_income_tax\": {\n",
    "    \"2023-01-01.2032-12-31\": True\n",
    "  },\n",
    "  \"gov.contrib.ubi_center.flat_tax.abolish_payroll_tax\": {\n",
    "    \"2023-01-01.2032-12-31\": True\n",
    "  },\n",
    "  \"gov.contrib.ubi_center.flat_tax.abolish_self_emp_tax\": {\n",
    "    \"2023-01-01.2032-12-31\": True\n",
    "  },\n",
    "  \"gov.contrib.ubi_center.flat_tax.deduct_ptc\": {\n",
    "    \"2023-01-01.2032-12-31\": True\n",
    "  },\n",
    "  \"gov.contrib.ubi_center.flat_tax.rate\": {\n",
    "    \"2023-01-01.2032-12-31\": 0.3\n",
    "  },\n",
    "  \"gov.simulation.labor_supply_responses.elasticities.income\": {\n",
    "    \"2023-01-01.2032-12-31\": -0.05\n",
    "  },\n",
    "  \"gov.simulation.labor_supply_responses.elasticities.substitution.all\": {\n",
    "    \"2023-01-01.2032-12-31\": 0.25\n",
    "  },\n",
    "  \"gov.ssa.ssi.abolish_ssi\": {\n",
    "    \"2023-01-01.2032-12-31\": True\n",
    "  },\n",
    "  \"gov.usda.snap.abolish_snap\": {\n",
    "    \"2023-01-01.2032-12-31\": True\n",
    "  },\n",
    "  \"gov.usda.snap.emergency_allotment.allowed\": {\n",
    "    \"2023-01-01.2032-12-31\": False\n",
    "  },\n",
    "  \"gov.usda.wic.abolish_wic\": {\n",
    "    \"2023-01-01.2032-12-31\": True\n",
    "  }\n",
    "}, country_id=\"us\")\n",
    "\n",
    "reformed = Microsimulation(reform=reform, dataset=\"enhanced_cps_2022\")\n",
    "reformed_person = reformed.calculate(\"household_net_income\", period=2024, map_to=\"person\")\n",
    "\n"
   ]
  },
  {
   "cell_type": "code",
   "execution_count": 5,
   "metadata": {},
   "outputs": [],
   "source": [
    "difference_person = reformed_person - baseline_person"
   ]
  },
  {
   "cell_type": "code",
   "execution_count": 6,
   "metadata": {},
   "outputs": [
    {
     "data": {
      "text/plain": [
       "-9371989413553.078"
      ]
     },
     "execution_count": 6,
     "metadata": {},
     "output_type": "execute_result"
    }
   ],
   "source": [
    "difference_person.sum()"
   ]
  },
  {
   "cell_type": "code",
   "execution_count": 13,
   "metadata": {},
   "outputs": [
    {
     "ename": "",
     "evalue": "",
     "output_type": "error",
     "traceback": [
      "\u001b[1;31mThe Kernel crashed while executing code in the current cell or a previous cell. \n",
      "\u001b[1;31mPlease review the code in the cell(s) to identify a possible cause of the failure. \n",
      "\u001b[1;31mClick <a href='https://aka.ms/vscodeJupyterKernelCrash'>here</a> for more info. \n",
      "\u001b[1;31mView Jupyter <a href='command:jupyter.viewOutput'>log</a> for further details."
     ]
    }
   ],
   "source": [
    "import pandas as pd\n",
    "\n",
    "variables = [\n",
    "    \"household_net_income\",\n",
    "    \"household_market_income\",\n",
    "    \"household_benefits\",\n",
    "    \"household_refundable_tax_credits\",\n",
    "    \"household_tax_before_refundable_credits\",\n",
    "    \"employee_payroll_tax\",\n",
    "    \"self_employment_tax\",\n",
    "    \"income_tax_before_refundable_credits\",\n",
    "    \"flat_tax\",\n",
    "    \"household_state_tax_before_refundable_credits\",\n",
    "]\n",
    "\n",
    "data = {\n",
    "    \"Baseline\": {},\n",
    "    \"Reform\": {},\n",
    "    \"Difference\": {}\n",
    "}\n",
    "\n",
    "for var in variables:\n",
    "    baseline_value = baseline.calculate(var, period=2024, map_to=\"person\").sum() / 1e9\n",
    "    reformed_value = reformed.calculate(var, period=2024, map_to=\"person\").sum() / 1e9\n",
    "    \n",
    "    data[\"Baseline\"][var] = baseline_value\n",
    "    data[\"Reform\"][var] = reformed_value\n",
    "    data[\"Difference\"][var] = reformed_value - baseline_value\n",
    "\n",
    "df = pd.DataFrame(data).T  # Transpose to have scenarios as rows\n",
    "df['Total'] = df.sum(axis=1)"
   ]
  },
  {
   "cell_type": "code",
   "execution_count": 10,
   "metadata": {},
   "outputs": [
    {
     "data": {
      "text/html": [
       "<div>\n",
       "<style scoped>\n",
       "    .dataframe tbody tr th:only-of-type {\n",
       "        vertical-align: middle;\n",
       "    }\n",
       "\n",
       "    .dataframe tbody tr th {\n",
       "        vertical-align: top;\n",
       "    }\n",
       "\n",
       "    .dataframe thead th {\n",
       "        text-align: right;\n",
       "    }\n",
       "</style>\n",
       "<table border=\"1\" class=\"dataframe\">\n",
       "  <thead>\n",
       "    <tr style=\"text-align: right;\">\n",
       "      <th></th>\n",
       "      <th>household_net_income</th>\n",
       "      <th>household_market_income</th>\n",
       "      <th>household_benefits</th>\n",
       "      <th>household_refundable_tax_credits</th>\n",
       "      <th>household_tax_before_refundable_credits</th>\n",
       "      <th>employee_payroll_tax</th>\n",
       "      <th>self_employment_tax</th>\n",
       "      <th>income_tax_before_refundable_credits</th>\n",
       "      <th>flat_tax</th>\n",
       "      <th>household_state_tax_before_refundable_credits</th>\n",
       "      <th>Total</th>\n",
       "    </tr>\n",
       "  </thead>\n",
       "  <tbody>\n",
       "    <tr>\n",
       "      <th>Baseline</th>\n",
       "      <td>38656.079794</td>\n",
       "      <td>46999.207941</td>\n",
       "      <td>4000.324512</td>\n",
       "      <td>446.352753</td>\n",
       "      <td>12789.805435</td>\n",
       "      <td>1720.143476</td>\n",
       "      <td>86.707762</td>\n",
       "      <td>7071.903602</td>\n",
       "      <td>0.000000</td>\n",
       "      <td>1684.054589</td>\n",
       "      <td>113454.579864</td>\n",
       "    </tr>\n",
       "    <tr>\n",
       "      <th>Reform</th>\n",
       "      <td>29284.090371</td>\n",
       "      <td>44478.625915</td>\n",
       "      <td>8120.103794</td>\n",
       "      <td>66.043349</td>\n",
       "      <td>23380.682584</td>\n",
       "      <td>0.000000</td>\n",
       "      <td>0.000000</td>\n",
       "      <td>6562.806587</td>\n",
       "      <td>10921.289191</td>\n",
       "      <td>1567.723598</td>\n",
       "      <td>124381.365388</td>\n",
       "    </tr>\n",
       "    <tr>\n",
       "      <th>Difference</th>\n",
       "      <td>-9371.989423</td>\n",
       "      <td>-2520.582026</td>\n",
       "      <td>4119.779282</td>\n",
       "      <td>-380.309404</td>\n",
       "      <td>10590.877149</td>\n",
       "      <td>-1720.143476</td>\n",
       "      <td>-86.707762</td>\n",
       "      <td>-509.097015</td>\n",
       "      <td>10921.289191</td>\n",
       "      <td>-116.330991</td>\n",
       "      <td>10926.785524</td>\n",
       "    </tr>\n",
       "  </tbody>\n",
       "</table>\n",
       "</div>"
      ],
      "text/plain": [
       "            household_net_income  household_market_income  household_benefits  \\\n",
       "Baseline            38656.079794             46999.207941         4000.324512   \n",
       "Reform              29284.090371             44478.625915         8120.103794   \n",
       "Difference          -9371.989423             -2520.582026         4119.779282   \n",
       "\n",
       "            household_refundable_tax_credits  \\\n",
       "Baseline                          446.352753   \n",
       "Reform                             66.043349   \n",
       "Difference                       -380.309404   \n",
       "\n",
       "            household_tax_before_refundable_credits  employee_payroll_tax  \\\n",
       "Baseline                               12789.805435           1720.143476   \n",
       "Reform                                 23380.682584              0.000000   \n",
       "Difference                             10590.877149          -1720.143476   \n",
       "\n",
       "            self_employment_tax  income_tax_before_refundable_credits  \\\n",
       "Baseline              86.707762                           7071.903602   \n",
       "Reform                 0.000000                           6562.806587   \n",
       "Difference           -86.707762                           -509.097015   \n",
       "\n",
       "                flat_tax  household_state_tax_before_refundable_credits  \\\n",
       "Baseline        0.000000                                    1684.054589   \n",
       "Reform      10921.289191                                    1567.723598   \n",
       "Difference  10921.289191                                    -116.330991   \n",
       "\n",
       "                    Total  \n",
       "Baseline    113454.579864  \n",
       "Reform      124381.365388  \n",
       "Difference   10926.785524  "
      ]
     },
     "execution_count": 10,
     "metadata": {},
     "output_type": "execute_result"
    }
   ],
   "source": [
    "df"
   ]
  },
  {
   "cell_type": "code",
   "execution_count": null,
   "metadata": {},
   "outputs": [],
   "source": []
  }
 ],
 "metadata": {
  "kernelspec": {
   "display_name": "policyengine",
   "language": "python",
   "name": "python3"
  },
  "language_info": {
   "codemirror_mode": {
    "name": "ipython",
    "version": 3
   },
   "file_extension": ".py",
   "mimetype": "text/x-python",
   "name": "python",
   "nbconvert_exporter": "python",
   "pygments_lexer": "ipython3",
   "version": "3.9.16"
  }
 },
 "nbformat": 4,
 "nbformat_minor": 2
}
